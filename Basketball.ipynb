{
 "cells": [
  {
   "cell_type": "code",
   "execution_count": 1223,
   "id": "motivated-gothic",
   "metadata": {},
   "outputs": [],
   "source": [
    "import pandas as pd\n",
    "import numpy as np\n",
    "df=pd.read_csv(r'bq-results-20210207-173409-w3x9p4x9871d.csv')"
   ]
  },
  {
   "cell_type": "code",
   "execution_count": 1224,
   "id": "cubic-destruction",
   "metadata": {},
   "outputs": [
    {
     "data": {
      "text/plain": [
       "Index(['Title'], dtype='object')"
      ]
     },
     "execution_count": 1224,
     "metadata": {},
     "output_type": "execute_result"
    }
   ],
   "source": [
    "df.columns"
   ]
  },
  {
   "cell_type": "code",
   "execution_count": 1225,
   "id": "little-mills",
   "metadata": {},
   "outputs": [],
   "source": [
    "df1=pd.DataFrame()\n",
    "df1['Title']=df['Title'].apply(lambda x:x.lower())\n",
    "df1['Year']=df1['Title'].str.extract( \"(\\d{4}\\D?\\d*)\",expand=False ).str.strip()"
   ]
  },
  {
   "cell_type": "code",
   "execution_count": 1226,
   "id": "starting-benjamin",
   "metadata": {},
   "outputs": [],
   "source": [
    "df1[\"Unmatched\"] = df1['Title'].apply(lambda x: x.lower())"
   ]
  },
  {
   "cell_type": "markdown",
   "id": "dedicated-attachment",
   "metadata": {},
   "source": [
    "# Specialty"
   ]
  },
  {
   "cell_type": "code",
   "execution_count": 1227,
   "id": "contained-chicago",
   "metadata": {},
   "outputs": [],
   "source": [
    "Keywords= [\"jerseys\",\"jersey\",\"freshman\",\"rookies\",\"rc\", \"mvp\",\"mvps\",\"hof\",\"auto\",\"rookie\",\"nnof\",\"xrc\",\"big four\",\"bip\",\"foil\",\"jsy\",\"nib\",\"pc\",\"opg\"]\n",
    "\n",
    "def Special(x):\n",
    "    String=\"\"\n",
    "    for i in Keywords:\n",
    "        for k in x.split(\" \"):\n",
    "            if i == k:\n",
    "                String += str(i) + \",\"\n",
    "    return String[:-1]"
   ]
  },
  {
   "cell_type": "code",
   "execution_count": 1228,
   "id": "lined-eclipse",
   "metadata": {},
   "outputs": [],
   "source": [
    "df1['Specialty']=df1['Title'].apply(lambda x: Special(x))"
   ]
  },
  {
   "cell_type": "code",
   "execution_count": 1229,
   "id": "enclosed-concrete",
   "metadata": {},
   "outputs": [
    {
     "data": {
      "text/html": [
       "<div>\n",
       "<style scoped>\n",
       "    .dataframe tbody tr th:only-of-type {\n",
       "        vertical-align: middle;\n",
       "    }\n",
       "\n",
       "    .dataframe tbody tr th {\n",
       "        vertical-align: top;\n",
       "    }\n",
       "\n",
       "    .dataframe thead th {\n",
       "        text-align: right;\n",
       "    }\n",
       "</style>\n",
       "<table border=\"1\" class=\"dataframe\">\n",
       "  <thead>\n",
       "    <tr style=\"text-align: right;\">\n",
       "      <th></th>\n",
       "      <th>Title</th>\n",
       "      <th>Year</th>\n",
       "      <th>Unmatched</th>\n",
       "      <th>Specialty</th>\n",
       "    </tr>\n",
       "  </thead>\n",
       "  <tbody>\n",
       "    <tr>\n",
       "      <th>0</th>\n",
       "      <td>2010-11 limited /249 keith gallon #186 rookie ...</td>\n",
       "      <td>2010-11</td>\n",
       "      <td>2010-11 limited /249 keith gallon #186 rookie ...</td>\n",
       "      <td>auto,rookie</td>\n",
       "    </tr>\n",
       "    <tr>\n",
       "      <th>1</th>\n",
       "      <td>2018-19 panini court kings acetate rookies lon...</td>\n",
       "      <td>2018-19</td>\n",
       "      <td>2018-19 panini court kings acetate rookies lon...</td>\n",
       "      <td>rookies,rookie</td>\n",
       "    </tr>\n",
       "    <tr>\n",
       "      <th>2</th>\n",
       "      <td>1974-75 topps austin carr #60</td>\n",
       "      <td>1974-75</td>\n",
       "      <td>1974-75 topps austin carr #60</td>\n",
       "      <td></td>\n",
       "    </tr>\n",
       "    <tr>\n",
       "      <th>3</th>\n",
       "      <td>2012-13 preferred champs material booklet /199...</td>\n",
       "      <td>2012-13</td>\n",
       "      <td>2012-13 preferred champs material booklet /199...</td>\n",
       "      <td>hof</td>\n",
       "    </tr>\n",
       "    <tr>\n",
       "      <th>4</th>\n",
       "      <td>2019-20 panini absolute memorabilia blue /99 k...</td>\n",
       "      <td>2019-20</td>\n",
       "      <td>2019-20 panini absolute memorabilia blue /99 k...</td>\n",
       "      <td>rookie</td>\n",
       "    </tr>\n",
       "    <tr>\n",
       "      <th>5</th>\n",
       "      <td>2019 contenders variation cracked ice ticket /...</td>\n",
       "      <td>2019</td>\n",
       "      <td>2019 contenders variation cracked ice ticket /...</td>\n",
       "      <td>auto,rookie</td>\n",
       "    </tr>\n",
       "    <tr>\n",
       "      <th>6</th>\n",
       "      <td>2019 donruss optic rated rookies fanatics gree...</td>\n",
       "      <td>2019</td>\n",
       "      <td>2019 donruss optic rated rookies fanatics gree...</td>\n",
       "      <td>rookies,rookie</td>\n",
       "    </tr>\n",
       "    <tr>\n",
       "      <th>7</th>\n",
       "      <td>2019 donruss optic rated rookies fanatics gree...</td>\n",
       "      <td>2019</td>\n",
       "      <td>2019 donruss optic rated rookies fanatics gree...</td>\n",
       "      <td>rookies,rookie</td>\n",
       "    </tr>\n",
       "    <tr>\n",
       "      <th>8</th>\n",
       "      <td>2014-15 panini select concourse silver prizm j...</td>\n",
       "      <td>2014-15</td>\n",
       "      <td>2014-15 panini select concourse silver prizm j...</td>\n",
       "      <td>rookie</td>\n",
       "    </tr>\n",
       "    <tr>\n",
       "      <th>9</th>\n",
       "      <td>2016-17 panini studio jaylen brown #88 rookie</td>\n",
       "      <td>2016-17</td>\n",
       "      <td>2016-17 panini studio jaylen brown #88 rookie</td>\n",
       "      <td>rookie</td>\n",
       "    </tr>\n",
       "  </tbody>\n",
       "</table>\n",
       "</div>"
      ],
      "text/plain": [
       "                                               Title     Year  \\\n",
       "0  2010-11 limited /249 keith gallon #186 rookie ...  2010-11   \n",
       "1  2018-19 panini court kings acetate rookies lon...  2018-19   \n",
       "2                      1974-75 topps austin carr #60  1974-75   \n",
       "3  2012-13 preferred champs material booklet /199...  2012-13   \n",
       "4  2019-20 panini absolute memorabilia blue /99 k...  2019-20   \n",
       "5  2019 contenders variation cracked ice ticket /...     2019   \n",
       "6  2019 donruss optic rated rookies fanatics gree...     2019   \n",
       "7  2019 donruss optic rated rookies fanatics gree...     2019   \n",
       "8  2014-15 panini select concourse silver prizm j...  2014-15   \n",
       "9      2016-17 panini studio jaylen brown #88 rookie  2016-17   \n",
       "\n",
       "                                           Unmatched       Specialty  \n",
       "0  2010-11 limited /249 keith gallon #186 rookie ...     auto,rookie  \n",
       "1  2018-19 panini court kings acetate rookies lon...  rookies,rookie  \n",
       "2                      1974-75 topps austin carr #60                  \n",
       "3  2012-13 preferred champs material booklet /199...             hof  \n",
       "4  2019-20 panini absolute memorabilia blue /99 k...          rookie  \n",
       "5  2019 contenders variation cracked ice ticket /...     auto,rookie  \n",
       "6  2019 donruss optic rated rookies fanatics gree...  rookies,rookie  \n",
       "7  2019 donruss optic rated rookies fanatics gree...  rookies,rookie  \n",
       "8  2014-15 panini select concourse silver prizm j...          rookie  \n",
       "9      2016-17 panini studio jaylen brown #88 rookie          rookie  "
      ]
     },
     "execution_count": 1229,
     "metadata": {},
     "output_type": "execute_result"
    }
   ],
   "source": [
    "df1.head(10)"
   ]
  },
  {
   "cell_type": "code",
   "execution_count": 1230,
   "id": "stupid-detector",
   "metadata": {},
   "outputs": [
    {
     "data": {
      "text/html": [
       "<div>\n",
       "<style scoped>\n",
       "    .dataframe tbody tr th:only-of-type {\n",
       "        vertical-align: middle;\n",
       "    }\n",
       "\n",
       "    .dataframe tbody tr th {\n",
       "        vertical-align: top;\n",
       "    }\n",
       "\n",
       "    .dataframe thead th {\n",
       "        text-align: right;\n",
       "    }\n",
       "</style>\n",
       "<table border=\"1\" class=\"dataframe\">\n",
       "  <thead>\n",
       "    <tr style=\"text-align: right;\">\n",
       "      <th></th>\n",
       "      <th>Count</th>\n",
       "    </tr>\n",
       "    <tr>\n",
       "      <th>Specialty</th>\n",
       "      <th></th>\n",
       "    </tr>\n",
       "  </thead>\n",
       "  <tbody>\n",
       "    <tr>\n",
       "      <th></th>\n",
       "      <td>535132</td>\n",
       "    </tr>\n",
       "    <tr>\n",
       "      <th>rc,rookie</th>\n",
       "      <td>391973</td>\n",
       "    </tr>\n",
       "    <tr>\n",
       "      <th>rookie</th>\n",
       "      <td>208057</td>\n",
       "    </tr>\n",
       "    <tr>\n",
       "      <th>auto</th>\n",
       "      <td>110089</td>\n",
       "    </tr>\n",
       "    <tr>\n",
       "      <th>hof</th>\n",
       "      <td>88575</td>\n",
       "    </tr>\n",
       "    <tr>\n",
       "      <th>...</th>\n",
       "      <td>...</td>\n",
       "    </tr>\n",
       "    <tr>\n",
       "      <th>rookies,auto,auto</th>\n",
       "      <td>2</td>\n",
       "    </tr>\n",
       "    <tr>\n",
       "      <th>rc,auto,rookie,foil</th>\n",
       "      <td>2</td>\n",
       "    </tr>\n",
       "    <tr>\n",
       "      <th>jerseys,freshman</th>\n",
       "      <td>2</td>\n",
       "    </tr>\n",
       "    <tr>\n",
       "      <th>rc,hof,foil</th>\n",
       "      <td>2</td>\n",
       "    </tr>\n",
       "    <tr>\n",
       "      <th>jerseys,rookies</th>\n",
       "      <td>1</td>\n",
       "    </tr>\n",
       "  </tbody>\n",
       "</table>\n",
       "<p>171 rows × 1 columns</p>\n",
       "</div>"
      ],
      "text/plain": [
       "                      Count\n",
       "Specialty                  \n",
       "                     535132\n",
       "rc,rookie            391973\n",
       "rookie               208057\n",
       "auto                 110089\n",
       "hof                   88575\n",
       "...                     ...\n",
       "rookies,auto,auto         2\n",
       "rc,auto,rookie,foil       2\n",
       "jerseys,freshman          2\n",
       "rc,hof,foil               2\n",
       "jerseys,rookies           1\n",
       "\n",
       "[171 rows x 1 columns]"
      ]
     },
     "execution_count": 1230,
     "metadata": {},
     "output_type": "execute_result"
    }
   ],
   "source": [
    "pd.DataFrame(df1.groupby('Specialty')['Specialty'].count()).rename(columns={\"Specialty\": \"Count\"}).sort_values(by='Count',ascending=False)#"
   ]
  },
  {
   "cell_type": "markdown",
   "id": "varying-webcam",
   "metadata": {},
   "source": [
    "# Classifier"
   ]
  },
  {
   "cell_type": "code",
   "execution_count": 1231,
   "id": "illegal-valuation",
   "metadata": {},
   "outputs": [],
   "source": [
    "df1['Classifier']=df1['Title'].str.extract(r'(single|lot|set|box|pack|team set|uncut sheet|box&case breaks|cello|booklet)',expand=True)\n",
    "#df1['Classifier']=df1['Classifier'].str.capitalize()"
   ]
  },
  {
   "cell_type": "code",
   "execution_count": 1232,
   "id": "inappropriate-morrison",
   "metadata": {},
   "outputs": [
    {
     "data": {
      "text/html": [
       "<div>\n",
       "<style scoped>\n",
       "    .dataframe tbody tr th:only-of-type {\n",
       "        vertical-align: middle;\n",
       "    }\n",
       "\n",
       "    .dataframe tbody tr th {\n",
       "        vertical-align: top;\n",
       "    }\n",
       "\n",
       "    .dataframe thead th {\n",
       "        text-align: right;\n",
       "    }\n",
       "</style>\n",
       "<table border=\"1\" class=\"dataframe\">\n",
       "  <thead>\n",
       "    <tr style=\"text-align: right;\">\n",
       "      <th></th>\n",
       "      <th>Count</th>\n",
       "    </tr>\n",
       "    <tr>\n",
       "      <th>Classifier</th>\n",
       "      <th></th>\n",
       "    </tr>\n",
       "  </thead>\n",
       "  <tbody>\n",
       "    <tr>\n",
       "      <th>lot</th>\n",
       "      <td>98601</td>\n",
       "    </tr>\n",
       "    <tr>\n",
       "      <th>box</th>\n",
       "      <td>46210</td>\n",
       "    </tr>\n",
       "    <tr>\n",
       "      <th>set</th>\n",
       "      <td>13630</td>\n",
       "    </tr>\n",
       "    <tr>\n",
       "      <th>pack</th>\n",
       "      <td>3536</td>\n",
       "    </tr>\n",
       "    <tr>\n",
       "      <th>booklet</th>\n",
       "      <td>2337</td>\n",
       "    </tr>\n",
       "    <tr>\n",
       "      <th>cello</th>\n",
       "      <td>1260</td>\n",
       "    </tr>\n",
       "    <tr>\n",
       "      <th>single</th>\n",
       "      <td>355</td>\n",
       "    </tr>\n",
       "    <tr>\n",
       "      <th>team set</th>\n",
       "      <td>298</td>\n",
       "    </tr>\n",
       "    <tr>\n",
       "      <th>uncut sheet</th>\n",
       "      <td>49</td>\n",
       "    </tr>\n",
       "  </tbody>\n",
       "</table>\n",
       "</div>"
      ],
      "text/plain": [
       "             Count\n",
       "Classifier        \n",
       "lot          98601\n",
       "box          46210\n",
       "set          13630\n",
       "pack          3536\n",
       "booklet       2337\n",
       "cello         1260\n",
       "single         355\n",
       "team set       298\n",
       "uncut sheet     49"
      ]
     },
     "execution_count": 1232,
     "metadata": {},
     "output_type": "execute_result"
    }
   ],
   "source": [
    "pd.DataFrame(df1.groupby('Classifier')['Classifier'].count()).rename(columns={\"Classifier\": \"Count\"}).sort_values(by='Count',ascending=False)#\n"
   ]
  },
  {
   "cell_type": "markdown",
   "id": "russian-lebanon",
   "metadata": {},
   "source": [
    "# Card Number"
   ]
  },
  {
   "cell_type": "code",
   "execution_count": 1233,
   "id": "accepted-strengthening",
   "metadata": {},
   "outputs": [],
   "source": [
    "df1['CardNumber']=df1['Title'].str.extract(\"#(\\w*\\.?\\-?\\/?\\d?\\w*\\-?\\w+)\",expand=True )\n",
    "#df1['CardNumber'].isnull().values.sum()/len(df) # 22% missing"
   ]
  },
  {
   "cell_type": "markdown",
   "id": "electric-configuration",
   "metadata": {},
   "source": [
    "# Quantity Made"
   ]
  },
  {
   "cell_type": "code",
   "execution_count": 1234,
   "id": "ceramic-blues",
   "metadata": {},
   "outputs": [],
   "source": [
    "df1['QuantityMade']=df1['Title'].str.extract( \"(\\d?\\d?\\d?\\d?\\d?\\d?\\/\\d+)\",expand=True )\n",
    "#df1['QuantityMade'].isnull().values.sum()/len(df) # 91% missing"
   ]
  },
  {
   "cell_type": "markdown",
   "id": "honest-actress",
   "metadata": {},
   "source": [
    "# Professional Grader"
   ]
  },
  {
   "cell_type": "code",
   "execution_count": 1235,
   "id": "viral-funds",
   "metadata": {},
   "outputs": [],
   "source": [
    "df1['Grader']=df1['Title'].str.extract(r'(psa|bgs|sgc|bvg|bccg|scd|gai|sgv)',expand=True)\n",
    "#df1['Grader']=df1['Grader'].str.upper()"
   ]
  },
  {
   "cell_type": "code",
   "execution_count": 1236,
   "id": "senior-persian",
   "metadata": {},
   "outputs": [
    {
     "data": {
      "text/plain": [
       "0.7216182847418146"
      ]
     },
     "execution_count": 1236,
     "metadata": {},
     "output_type": "execute_result"
    }
   ],
   "source": [
    "df1['Grader'].isnull().values.sum()/len(df)  #72%missing "
   ]
  },
  {
   "cell_type": "code",
   "execution_count": 1237,
   "id": "absent-moment",
   "metadata": {},
   "outputs": [
    {
     "data": {
      "text/html": [
       "<div>\n",
       "<style scoped>\n",
       "    .dataframe tbody tr th:only-of-type {\n",
       "        vertical-align: middle;\n",
       "    }\n",
       "\n",
       "    .dataframe tbody tr th {\n",
       "        vertical-align: top;\n",
       "    }\n",
       "\n",
       "    .dataframe thead th {\n",
       "        text-align: right;\n",
       "    }\n",
       "</style>\n",
       "<table border=\"1\" class=\"dataframe\">\n",
       "  <thead>\n",
       "    <tr style=\"text-align: right;\">\n",
       "      <th></th>\n",
       "      <th>Count</th>\n",
       "    </tr>\n",
       "    <tr>\n",
       "      <th>Grader</th>\n",
       "      <th></th>\n",
       "    </tr>\n",
       "  </thead>\n",
       "  <tbody>\n",
       "    <tr>\n",
       "      <th>psa</th>\n",
       "      <td>330981</td>\n",
       "    </tr>\n",
       "    <tr>\n",
       "      <th>bgs</th>\n",
       "      <td>123953</td>\n",
       "    </tr>\n",
       "    <tr>\n",
       "      <th>sgc</th>\n",
       "      <td>15935</td>\n",
       "    </tr>\n",
       "    <tr>\n",
       "      <th>bccg</th>\n",
       "      <td>1644</td>\n",
       "    </tr>\n",
       "    <tr>\n",
       "      <th>gai</th>\n",
       "      <td>676</td>\n",
       "    </tr>\n",
       "    <tr>\n",
       "      <th>bvg</th>\n",
       "      <td>423</td>\n",
       "    </tr>\n",
       "    <tr>\n",
       "      <th>scd</th>\n",
       "      <td>111</td>\n",
       "    </tr>\n",
       "  </tbody>\n",
       "</table>\n",
       "</div>"
      ],
      "text/plain": [
       "         Count\n",
       "Grader        \n",
       "psa     330981\n",
       "bgs     123953\n",
       "sgc      15935\n",
       "bccg      1644\n",
       "gai        676\n",
       "bvg        423\n",
       "scd        111"
      ]
     },
     "execution_count": 1237,
     "metadata": {},
     "output_type": "execute_result"
    }
   ],
   "source": [
    "pd.DataFrame(df1.groupby('Grader')['Grader'].count()).rename(columns={\"Grader\": \"Count\"}).sort_values(by='Count',ascending=False)"
   ]
  },
  {
   "cell_type": "markdown",
   "id": "occupied-hopkins",
   "metadata": {},
   "source": [
    "# TeamName"
   ]
  },
  {
   "cell_type": "code",
   "execution_count": 1238,
   "id": "local-holiday",
   "metadata": {},
   "outputs": [
    {
     "name": "stdout",
     "output_type": "stream",
     "text": [
      "Success\n"
     ]
    }
   ],
   "source": [
    "#Defunct Team\n",
    "import requests,re\n",
    "from bs4 import BeautifulSoup\n",
    "Teamname=[]\n",
    "response = requests.get(\"https://en.wikipedia.org/wiki/List_of_defunct_National_Basketball_Association_teams\")\n",
    "if response.status_code == 200:\n",
    "    print(\"Success\")\n",
    "else:\n",
    "    print(\"Failure\")\n",
    "results_page = BeautifulSoup(response.content,'html.parser')\n",
    "page = results_page.find_all(\"table\")[1]\n",
    "page = page.find_all(\"tr\")\n",
    "for i in page:\n",
    "    try:\n",
    "        Teamname.append(i.find('td').find('a').text)\n",
    "    except:\n",
    "        pass\n"
   ]
  },
  {
   "cell_type": "code",
   "execution_count": 1239,
   "id": "normal-puzzle",
   "metadata": {},
   "outputs": [
    {
     "name": "stdout",
     "output_type": "stream",
     "text": [
      "Success\n"
     ]
    }
   ],
   "source": [
    "#Current Teams\n",
    "response = requests.get(\"http://www.espn.com/nba/players\")\n",
    "if response.status_code == 200:\n",
    "    print(\"Success\")\n",
    "else:\n",
    "    print(\"Failure\")\n",
    "results_page = BeautifulSoup(response.content,'html.parser')\n",
    "page = results_page.find('div',{'id':'my-players-table'})\n",
    "page = page.find_all(\"li\")\n",
    "for i in page:\n",
    "    try:\n",
    "        Teamname.append(i.find_all('a')[1].text)\n",
    "    except:\n",
    "        pass\n"
   ]
  },
  {
   "cell_type": "code",
   "execution_count": 1240,
   "id": "threaded-token",
   "metadata": {},
   "outputs": [],
   "source": [
    "# TeamName=Teamname+[element.upper() for element in Teamname]+[element.lower() for element in Teamname]\n",
    "# pattern = '|'.join(TeamName)\n",
    "# pattern"
   ]
  },
  {
   "cell_type": "code",
   "execution_count": 1241,
   "id": "directed-seafood",
   "metadata": {},
   "outputs": [],
   "source": [
    "TeamName = \"anderson packers|packers|baltimore bullets|bullets|buffalo|chicago stags|stags|cleveland rebels|rebels|denver nuggets|nuggets|detroit falcons|falcons|indianapolis|indianapolis jets|jets|indianapolis olympians|olympians|pittsburgh ironmen|ironmen|providence steamrollers|steamrollers|sheboygan red skins|red skins|st. louis bombers|bombers|toronto huskies|huskies|washington capitols|capitols|waterloo hawks|hawks|boston celtics|celtics|brooklyn nets|nets|new york knicks|knicks|philadelphia 76ers|76ers|toronto raptors|raptors|golden state warriors|warriors|la clippers|clippers|los angeles lakers|lakers|phoenix suns|suns|sacramento kings|kings|chicago bulls|bulls|cleveland cavaliers|cavaliers|detroit pistons|pistons|indiana pacers|pacers|milwaukee bucks|bucks|dallas mavericks|mavericks|houston rockets|rockets|memphis grizzlies|grizzlies|new orleans pelicans|pelicans|san antonio spurs|spurs|atlanta hawks|hawks|charlotte hornets|hornets|miami heat|heat|orlando magic|magic|washington wizards|wizards|denver nuggets|nuggets|minnesota timberwolves|timberwolves|oklahoma city thunder|thunder|portland trail blazers|blazers|utah jazz|jazz\"\n",
    "TeamName = TeamName.split('|')"
   ]
  },
  {
   "cell_type": "code",
   "execution_count": 1242,
   "id": "electric-cookie",
   "metadata": {},
   "outputs": [],
   "source": [
    "def team_name_extract(x):\n",
    "    for i in TeamName:\n",
    "        if i in x.lower():\n",
    "            return i"
   ]
  },
  {
   "cell_type": "code",
   "execution_count": 1243,
   "id": "stock-terry",
   "metadata": {},
   "outputs": [
    {
     "data": {
      "text/plain": [
       "0.797173184744929"
      ]
     },
     "execution_count": 1243,
     "metadata": {},
     "output_type": "execute_result"
    }
   ],
   "source": [
    "df1['TeamName']=df1['Title'].apply(lambda x:team_name_extract(x))\n",
    "df1['TeamName'].isnull().values.sum()/len(df) #missing 95% team name is not a frequently used key words in basketball cards"
   ]
  },
  {
   "cell_type": "markdown",
   "id": "rational-above",
   "metadata": {},
   "source": [
    "# Players"
   ]
  },
  {
   "cell_type": "code",
   "execution_count": 1244,
   "id": "cardiovascular-powell",
   "metadata": {},
   "outputs": [],
   "source": [
    "import requests\n",
    "from bs4 import BeautifulSoup\n",
    "def fetch_famous_players(baseurl):\n",
    "    famous_player = []\n",
    "    response = requests.get(baseurl)\n",
    "    if response.status_code == 200:\n",
    "        print(\"Success\")\n",
    "    else:\n",
    "        print(\"Failure\")\n",
    "    results_page = BeautifulSoup(response.content,'html.parser')\n",
    "    page = results_page.find(\"table\").find_all('td', attrs={'style':'font-family: Arial, sans-serif; color: windowtext; font-size: 10.0pt; font-weight: 400; font-style: normal; text-decoration: none; text-align: general; vertical-align: bottom; white-space: nowrap; border: medium none; padding-left: 1px; padding-right: 1px; padding-top: 1px'})\n",
    "    for i in page:\n",
    "        famous_player.append(i.text.split('\\n')[1].strip())\n",
    "    return famous_player"
   ]
  },
  {
   "cell_type": "code",
   "execution_count": 1245,
   "id": "prime-access",
   "metadata": {},
   "outputs": [
    {
     "name": "stdout",
     "output_type": "stream",
     "text": [
      "Success\n",
      "Success\n",
      "Success\n",
      "Success\n",
      "Success\n"
     ]
    }
   ],
   "source": [
    "#1-1000\n",
    "famous_player = fetch_famous_players(\"http://ainsworthsports.com/basketball_player_rankings_all_time_1_to_1000.htm\")\n",
    "#1001-2000\n",
    "famous_player.extend(fetch_famous_players(\"http://ainsworthsports.com/basketball_player_rankings_all_time_1001_to_2000.htm\"))\n",
    "famous_player.extend(fetch_famous_players(\"http://ainsworthsports.com/basketball_player_rankings_all_time_2001_to_3000.htm\"))\n",
    "famous_player.extend(fetch_famous_players(\"http://ainsworthsports.com/basketball_player_rankings_all_time_3001_to_4000.htm\"))\n",
    "famous_player.extend(fetch_famous_players(\"http://ainsworthsports.com/basketball_player_rankings_all_time_4001_to_5000.htm\"))"
   ]
  },
  {
   "cell_type": "code",
   "execution_count": 1246,
   "id": "retained-canberra",
   "metadata": {},
   "outputs": [],
   "source": [
    "famous_player.append(\"zion williamson\")\n",
    "famous_player.append(\"shaq o'neal\")\n",
    "famous_player.append(\"lebron\")\n",
    "famous_player.append(\"bryant\")"
   ]
  },
  {
   "cell_type": "code",
   "execution_count": 1247,
   "id": "dress-check",
   "metadata": {},
   "outputs": [],
   "source": [
    "def person(x):\n",
    "    for i in famous_player:\n",
    "        dummy = i.lower()\n",
    "        if dummy in x:\n",
    "            return i"
   ]
  },
  {
   "cell_type": "code",
   "execution_count": 1248,
   "id": "velvet-kenya",
   "metadata": {},
   "outputs": [],
   "source": [
    "df1['Player_Name']=df1['Title'].apply(lambda x: person(x))"
   ]
  },
  {
   "cell_type": "code",
   "execution_count": 1249,
   "id": "compact-entry",
   "metadata": {},
   "outputs": [
    {
     "data": {
      "text/html": [
       "<div>\n",
       "<style scoped>\n",
       "    .dataframe tbody tr th:only-of-type {\n",
       "        vertical-align: middle;\n",
       "    }\n",
       "\n",
       "    .dataframe tbody tr th {\n",
       "        vertical-align: top;\n",
       "    }\n",
       "\n",
       "    .dataframe thead th {\n",
       "        text-align: right;\n",
       "    }\n",
       "</style>\n",
       "<table border=\"1\" class=\"dataframe\">\n",
       "  <thead>\n",
       "    <tr style=\"text-align: right;\">\n",
       "      <th></th>\n",
       "      <th>Count</th>\n",
       "    </tr>\n",
       "    <tr>\n",
       "      <th>Player_Name</th>\n",
       "      <th></th>\n",
       "    </tr>\n",
       "  </thead>\n",
       "  <tbody>\n",
       "    <tr>\n",
       "      <th>LeBron James</th>\n",
       "      <td>96458</td>\n",
       "    </tr>\n",
       "    <tr>\n",
       "      <th>Michael Jordan</th>\n",
       "      <td>96231</td>\n",
       "    </tr>\n",
       "    <tr>\n",
       "      <th>zion williamson</th>\n",
       "      <td>86535</td>\n",
       "    </tr>\n",
       "    <tr>\n",
       "      <th>Luka Doncic</th>\n",
       "      <td>81711</td>\n",
       "    </tr>\n",
       "    <tr>\n",
       "      <th>Kobe Bryant</th>\n",
       "      <td>77092</td>\n",
       "    </tr>\n",
       "    <tr>\n",
       "      <th>...</th>\n",
       "      <td>...</td>\n",
       "    </tr>\n",
       "    <tr>\n",
       "      <th>Carl Nicks</th>\n",
       "      <td>1</td>\n",
       "    </tr>\n",
       "    <tr>\n",
       "      <th>Quino Colom</th>\n",
       "      <td>1</td>\n",
       "    </tr>\n",
       "    <tr>\n",
       "      <th>Charles Edge</th>\n",
       "      <td>1</td>\n",
       "    </tr>\n",
       "    <tr>\n",
       "      <th>Tony Farmer</th>\n",
       "      <td>1</td>\n",
       "    </tr>\n",
       "    <tr>\n",
       "      <th>Louis Amundson</th>\n",
       "      <td>1</td>\n",
       "    </tr>\n",
       "  </tbody>\n",
       "</table>\n",
       "<p>2281 rows × 1 columns</p>\n",
       "</div>"
      ],
      "text/plain": [
       "                 Count\n",
       "Player_Name           \n",
       "LeBron James     96458\n",
       "Michael Jordan   96231\n",
       "zion williamson  86535\n",
       "Luka Doncic      81711\n",
       "Kobe Bryant      77092\n",
       "...                ...\n",
       "Carl Nicks           1\n",
       "Quino Colom          1\n",
       "Charles Edge         1\n",
       "Tony Farmer          1\n",
       "Louis Amundson       1\n",
       "\n",
       "[2281 rows x 1 columns]"
      ]
     },
     "execution_count": 1249,
     "metadata": {},
     "output_type": "execute_result"
    }
   ],
   "source": [
    "pd.DataFrame(df1.groupby('Player_Name')['Player_Name'].count()).rename(columns={\"Player_Name\": \"Count\"}).sort_values(by='Count',ascending=False)"
   ]
  },
  {
   "cell_type": "code",
   "execution_count": 1250,
   "id": "bizarre-flush",
   "metadata": {},
   "outputs": [],
   "source": [
    "import nltk\n",
    "from nltk.tag import StanfordNERTagger\n",
    "from nltk.tokenize import word_tokenize\n",
    "\n",
    "st = StanfordNERTagger('english.all.3class.distsim.crf.ser.gz','stanford-ner-4.2.0.jar',encoding='utf-8')\n",
    "def person2(x):\n",
    "    if isinstance(x['Player_Name'],str):\n",
    "        return x['Player_Name']\n",
    "    else:\n",
    "        text = x['Title']\n",
    "        for sent in nltk.sent_tokenize(text):\n",
    "            tokens = nltk.tokenize.word_tokenize(sent)\n",
    "            tags = st.tag(tokens)\n",
    "            res = \"\"\n",
    "            for tag in tags:\n",
    "                if tag[1]=='PERSON':\n",
    "                    res = res + \" \"+ tag[0]\n",
    "        return res.strip()"
   ]
  },
  {
   "cell_type": "code",
   "execution_count": 1251,
   "id": "available-press",
   "metadata": {},
   "outputs": [
    {
     "data": {
      "text/plain": [
       "0.1256329688553173"
      ]
     },
     "execution_count": 1251,
     "metadata": {},
     "output_type": "execute_result"
    }
   ],
   "source": [
    "df1['Player_Name'].isnull().sum()/len(df1)"
   ]
  },
  {
   "cell_type": "code",
   "execution_count": 1252,
   "id": "angry-learning",
   "metadata": {},
   "outputs": [
    {
     "name": "stdout",
     "output_type": "stream",
     "text": [
      "<class 'pandas.core.frame.DataFrame'>\n",
      "RangeIndex: 1701703 entries, 0 to 1701702\n",
      "Data columns (total 10 columns):\n",
      " #   Column        Dtype \n",
      "---  ------        ----- \n",
      " 0   Title         object\n",
      " 1   Year          object\n",
      " 2   Unmatched     object\n",
      " 3   Specialty     object\n",
      " 4   Classifier    object\n",
      " 5   CardNumber    object\n",
      " 6   QuantityMade  object\n",
      " 7   Grader        object\n",
      " 8   TeamName      object\n",
      " 9   Player_Name   object\n",
      "dtypes: object(10)\n",
      "memory usage: 129.8+ MB\n"
     ]
    }
   ],
   "source": [
    "df1.info()"
   ]
  },
  {
   "cell_type": "markdown",
   "id": "magnetic-smith",
   "metadata": {},
   "source": [
    "# Manufacturer"
   ]
  },
  {
   "cell_type": "code",
   "execution_count": 1253,
   "id": "outdoor-scroll",
   "metadata": {},
   "outputs": [
    {
     "name": "stdout",
     "output_type": "stream",
     "text": [
      "443\n",
      "443\n"
     ]
    }
   ],
   "source": [
    "manufacturer=pd.read_csv(r'Sports_Cards_Keywords_Manufacturer.csv')\n",
    "# manufacturer dictinoary\n",
    "manufacturer = manufacturer.set_index('How It Appears').to_dict()['Manufacturuer']\n",
    "print(len(manufacturer))\n",
    "manufacturer_dict = {}\n",
    "for key,val in manufacturer.items():\n",
    "    if \"|\" in key:\n",
    "        keys = key.split('|')\n",
    "        for i in keys:\n",
    "            manufacturer_dict[i.lower()] = val\n",
    "    else:\n",
    "        manufacturer_dict[key.lower()] = val\n",
    "print(len(manufacturer))"
   ]
  },
  {
   "cell_type": "code",
   "execution_count": 1254,
   "id": "revised-technique",
   "metadata": {},
   "outputs": [
    {
     "name": "stdout",
     "output_type": "stream",
     "text": [
      "574\n"
     ]
    }
   ],
   "source": [
    "print(len(manufacturer_dict))"
   ]
  },
  {
   "cell_type": "code",
   "execution_count": 1255,
   "id": "reflected-imagination",
   "metadata": {},
   "outputs": [],
   "source": [
    "manufacturer_list = list(manufacturer_dict.keys())\n",
    "manufacturer_list = set(manufacturer_list)"
   ]
  },
  {
   "cell_type": "code",
   "execution_count": 1256,
   "id": "handed-effectiveness",
   "metadata": {},
   "outputs": [],
   "source": [
    "def manufacturer_detect(x):\n",
    "    res = \"\"\n",
    "    for i in x.split(\" \"):\n",
    "        if i in manufacturer_list:\n",
    "            res = res + i + \",\"\n",
    "    if res:\n",
    "        return res\n",
    "    else:\n",
    "        return np.NaN"
   ]
  },
  {
   "cell_type": "code",
   "execution_count": 1257,
   "id": "identical-receipt",
   "metadata": {},
   "outputs": [],
   "source": [
    "df1['Manufacturer']=df1['Unmatched'].apply(lambda x: manufacturer_detect(x))"
   ]
  },
  {
   "cell_type": "code",
   "execution_count": 1258,
   "id": "solved-twins",
   "metadata": {},
   "outputs": [
    {
     "data": {
      "text/plain": [
       "0.1172877993398378"
      ]
     },
     "execution_count": 1258,
     "metadata": {},
     "output_type": "execute_result"
    }
   ],
   "source": [
    "df1['Manufacturer'].isnull().sum()/len(df1)"
   ]
  },
  {
   "cell_type": "markdown",
   "id": "ignored-kelly",
   "metadata": {},
   "source": [
    "# Rating"
   ]
  },
  {
   "cell_type": "code",
   "execution_count": 1259,
   "id": "pointed-looking",
   "metadata": {},
   "outputs": [
    {
     "name": "stdout",
     "output_type": "stream",
     "text": [
      "75\n",
      "75\n"
     ]
    }
   ],
   "source": [
    "rating=pd.read_csv(r'Sports_Cards_Keywords_Grade.csv')\n",
    "# manufacturer dictinoary\n",
    "rating = rating.set_index('How It May Appear').to_dict()['Grade']\n",
    "print(len(rating))\n",
    "rating_dict = {}\n",
    "for key,val in rating.items():\n",
    "    if \"|\" in key:\n",
    "        keys = key.split('|')\n",
    "        for i in keys:\n",
    "            rating_dict[i.lower()] = val\n",
    "    else:\n",
    "        rating_dict[key.lower()] = val\n",
    "print(len(rating))"
   ]
  },
  {
   "cell_type": "code",
   "execution_count": 1260,
   "id": "latest-iceland",
   "metadata": {},
   "outputs": [
    {
     "name": "stdout",
     "output_type": "stream",
     "text": [
      "1581\n"
     ]
    }
   ],
   "source": [
    "print(len(rating_dict))\n",
    "rating_list = list(rating_dict.keys())"
   ]
  },
  {
   "cell_type": "code",
   "execution_count": 1261,
   "id": "departmental-davis",
   "metadata": {},
   "outputs": [],
   "source": [
    "rating_list.sort(reverse=True)"
   ]
  },
  {
   "cell_type": "code",
   "execution_count": 1262,
   "id": "prerequisite-medicare",
   "metadata": {},
   "outputs": [],
   "source": [
    "def rating_detect(x):\n",
    "    for i in rating_list:\n",
    "        if i in x:\n",
    "            return i"
   ]
  },
  {
   "cell_type": "code",
   "execution_count": 1263,
   "id": "administrative-stamp",
   "metadata": {},
   "outputs": [],
   "source": [
    "df1['Rating']=df1['Unmatched'].apply(lambda x: rating_detect(x))"
   ]
  },
  {
   "cell_type": "code",
   "execution_count": 1264,
   "id": "cleared-holder",
   "metadata": {},
   "outputs": [
    {
     "data": {
      "text/plain": [
       "1117825"
      ]
     },
     "execution_count": 1264,
     "metadata": {},
     "output_type": "execute_result"
    }
   ],
   "source": [
    "df1['Rating'].isnull().sum()"
   ]
  },
  {
   "cell_type": "code",
   "execution_count": 1265,
   "id": "committed-savage",
   "metadata": {},
   "outputs": [
    {
     "data": {
      "text/plain": [
       "1227980"
      ]
     },
     "execution_count": 1265,
     "metadata": {},
     "output_type": "execute_result"
    }
   ],
   "source": [
    "df1['Grader'].isnull().sum()"
   ]
  },
  {
   "cell_type": "markdown",
   "id": "concerned-rover",
   "metadata": {},
   "source": [
    "# Matching"
   ]
  },
  {
   "cell_type": "code",
   "execution_count": 1266,
   "id": "virgin-precipitation",
   "metadata": {},
   "outputs": [],
   "source": [
    "def manufacturer_unmatched(x):\n",
    "    if isinstance(x['Manufacturer'],str):\n",
    "        dummy = x['Unmatched']\n",
    "        manufacturer = x['Manufacturer'].split(',')\n",
    "        while(\"\" in manufacturer): \n",
    "            manufacturer.remove(\"\")\n",
    "        for i in manufacturer:\n",
    "            dummy = dummy.replace(i,\"\")\n",
    "        return dummy \n",
    "    else:\n",
    "        return x['Unmatched']"
   ]
  },
  {
   "cell_type": "code",
   "execution_count": 1267,
   "id": "agricultural-coverage",
   "metadata": {},
   "outputs": [],
   "source": [
    "df1['Unmatched']=df1.apply(lambda x: manufacturer_unmatched(x),axis = 1)"
   ]
  },
  {
   "cell_type": "code",
   "execution_count": 1268,
   "id": "nutritional-direction",
   "metadata": {},
   "outputs": [],
   "source": [
    "def rating_unmatched(x):\n",
    "    if isinstance(x['Rating'],str):\n",
    "        dummy = x['Unmatched']\n",
    "        dummy = dummy.replace(x['Rating'],\"\")\n",
    "        return dummy\n",
    "    else:\n",
    "        return x['Unmatched']"
   ]
  },
  {
   "cell_type": "code",
   "execution_count": 1269,
   "id": "pretty-prayer",
   "metadata": {
    "scrolled": true
   },
   "outputs": [],
   "source": [
    "df1['Unmatched']=df1.apply(lambda x: rating_unmatched(x),axis = 1)"
   ]
  },
  {
   "cell_type": "code",
   "execution_count": 1270,
   "id": "million-chancellor",
   "metadata": {},
   "outputs": [],
   "source": [
    "def else_unmatched(x):\n",
    "    y = x['Unmatched']\n",
    "    if isinstance(x['Player_Name'],str):\n",
    "        name = x['Player_Name'].lower()\n",
    "        y = y.replace(name,\"\")\n",
    "    if isinstance(x['Year'],str):\n",
    "        year = x['Year'].lower()\n",
    "        y = y.replace(year,\"\")\n",
    "    if isinstance(x['Specialty'],str):\n",
    "        specialty = x['Specialty'].lower().split(',')\n",
    "        for i in specialty:\n",
    "            y = y.replace(i,\"\")\n",
    "    if isinstance(x['Classifier'],str):\n",
    "        classifiers = x['Classifier'].lower()\n",
    "        y = y.replace(classifiers,\"\")\n",
    "    if isinstance(x['QuantityMade'],str):\n",
    "        quantity_made = x['QuantityMade'].lower()\n",
    "        y = y.replace(quantity_made,\"\")\n",
    "        if \"/\" in y:\n",
    "            y = y.replace(\"/\",\"\")\n",
    "    if isinstance(x['Grader'],str):\n",
    "        garder = x['Grader'].lower()\n",
    "        y = y.replace(garder,\"\")\n",
    "    if isinstance(x['CardNumber'],str):\n",
    "        card_number = x['CardNumber'].lower()\n",
    "        y = y.replace(card_number,\"\")\n",
    "        if \"#\" in y:\n",
    "            y = y.replace(\"#\",\"\")\n",
    "    if isinstance(x['TeamName'],str):\n",
    "        team_name = x['TeamName'].lower()\n",
    "        y = y.replace(team_name,\"\")\n",
    "    return y"
   ]
  },
  {
   "cell_type": "code",
   "execution_count": 1271,
   "id": "flying-convert",
   "metadata": {},
   "outputs": [],
   "source": [
    "df1['Unmatched']=df1.apply(lambda x: else_unmatched(x),axis = 1)"
   ]
  },
  {
   "cell_type": "code",
   "execution_count": 1272,
   "id": "seventh-deficit",
   "metadata": {},
   "outputs": [],
   "source": [
    "def unmatched_trim(x):\n",
    "    strings = x['Unmatched'].strip().split(' ')\n",
    "    res = ' '.join([x for x in strings if x])\n",
    "    return res"
   ]
  },
  {
   "cell_type": "code",
   "execution_count": 1273,
   "id": "organized-johnson",
   "metadata": {},
   "outputs": [],
   "source": [
    "df1['Unmatched']=df1.apply(lambda x: unmatched_trim(x),axis = 1)"
   ]
  },
  {
   "cell_type": "code",
   "execution_count": 1274,
   "id": "younger-procedure",
   "metadata": {},
   "outputs": [
    {
     "name": "stderr",
     "output_type": "stream",
     "text": [
      "[nltk_data] Downloading package punkt to\n",
      "[nltk_data]     /Users/chensiyuan/nltk_data...\n",
      "[nltk_data]   Package punkt is already up-to-date!\n"
     ]
    },
    {
     "name": "stdout",
     "output_type": "stream",
     "text": [
      "[('prizm', 596766), ('mint', 219483), ('gem', 208985), ('$', 176350), ('card', 149967), ('silver', 145380), ('optic', 141342), ('prizms', 138531), ('basketball', 100870), ('upper', 96140), ('deck', 95860), (')', 88670), ('(', 88647), ('of', 77593), ('blue', 75493), ('gold', 74118), ('rated', 72593), ('red', 70587), ('treasures', 70378), ('patch', 69892), ('mosaic', 69273), ('national', 68412), ('graph', 68353), ('nba', 65232), ('hoops', 62895), ('9.5', 57415), ('signatures', 50219), ('green', 49937), ('refractor', 49625), ('jr', 44827), ('chrome', 43100), ('draft', 41523), ('contenders', 40541), ('read', 39241), ('comc', 38717), ('immaculate', 33942), ('ice', 33390), ('the', 31849), ('game', 31717), ('holo', 31260), ('purple', 30569), ('pink', 30188), ('white', 28813), ('picks', 28509), ('-', 27662), ('2', 27174), ('orange', 26022), ('break', 25669), ('premium', 25441), ('fast', 25212), ('9', 25039), ('*', 24897), ('10', 24364), (\"'s\", 24008), ('flawless', 22735), ('chronicles', 22730), ('revolution', 20463), ('3', 20451), ('cut', 20060), ('ticket', 19905), ('die', 19344), ('black', 18896), ('michael', 18839), ('rpa', 18801), ('wave', 18590), ('porter', 18400), ('metal', 18285), ('court', 18115), ('concourse', 18084), ('&', 17996), ('barrett', 17840), ('rj', 17753), ('club', 17300), ('authentic', 16662), ('rare', 16440), ('collection', 16430), ('team', 16426), ('choice', 16348), ('stadium', 16289), ('materials', 16251), ('r', 15880), ('level', 15646), ('used', 15527), ('stars', 14944), ('certified', 14184), ('noir', 13962), ('spectra', 13235), ('crown', 12904), ('threads', 12847), ('premier', 12534), ('royale', 12534), ('1', 12483), ('all', 12358), ('dual', 11983), ('fotl', 11798), ('color', 11769), ('year', 11623), ('ex', 11623), ('ruby', 10998), ('mt', 10597), ('signature', 10463), ('4', 10454), ('pulsar', 10311), ('diamond', 10292), ('prestige', 10258), ('bronze', 10105), ('edition', 10099), ('and', 10042), ('prime', 10038), ('sensational', 9959), ('factory', 9954), ('sealed', 9910), ('5', 9899), ('hyper', 9776), ('absolute', 9599), ('shock', 9557), ('bol', 9521), ('memorabilia', 9329), ('ink', 9307), ('nm', 9295), ('swatches', 9251), ('400+', 9142), ('impeccable', 9088), ('#', 9050), ('shaquille', 9004), ('nm-mt', 9000), ('series', 8963), ('600+', 8836), ('parallel', 8660), ('a', 8609), ('on', 8486), ('80++', 8374), ('bowman', 8356), ('!', 8350), ('variation', 8272), ('emergent', 8231), ('crusade', 8082), ('25', 8050), ('b', 7988), ('anfernee', 7933), ('status', 7889), ('collegiate', 7860), ('velocity', 7712), ('jumbo', 7660), ('showcase', 7628), ('standard', 7602), ('40+', 7567), ('die-cut', 7496), ('retro', 7440), ('glossy', 7328), ('neon', 7289), ('cracked', 7283), ('800+', 7282), ('2nd', 7267), ('pristine', 7245), ('iii', 7198), ('80+', 7183), ('instant', 7139), ('encased', 7026), ('shimmer', 7023), ('yellow', 6946), ('true', 6899), ('universe', 6871), ('6', 6830), ('hot', 6777), ('500+', 6683), ('fanatics', 6673), ('set', 6672), ('300+', 6474), ('usa', 6426), ('in', 6406), ('99', 6331), ('elite', 6280), ('sekou', 6171), ('collector', 6143), ('doumbouya', 6140), ('impact', 6112), ('row', 6087), ('floor', 6031), ('triple', 5996), ('legends', 5982), ('8', 5978), ('totally', 5918), ('camo', 5910), ('season', 5854), ('base', 5819), ('plate', 5808), ('hardaway', 5734), ('stickers', 5687), ('printing', 5647), ('120+', 5643), ('press', 5435), ('tery', 5433), ('johnson', 5409), ('7', 5379), ('playoff', 5354), ('century', 5340), ('insert', 5333), ('11', 5298), ('proof', 5163), ('200+', 5136), ('platinum', 5132), ('wnba', 5071), ('60+', 5052), ('day', 5017), ('scope', 4961), ('400', 4960), ('debut', 4925), ('washington', 4832), ('cards', 4809), ('signed', 4792), ('reactive', 4783), ('150', 4735), ('pj', 4722), ('greats', 4703), ('class', 4702), ('excalibur', 4701), ('walker', 4696), ('logo', 4696), ('150+', 4691), ('lot', 4614), ('marquee', 4533), ('20', 4511), ('obsidian', 4490), ('preferred', 4469), ('hardcourt', 4439), ('atlanta', 4422), ('to', 4415), ('mystery', 4409), ('ultimate', 4385), ('limited', 4377), ('120++', 4354), ('beam', 4319), ('williams', 4318), ('pick', 4297), ('colossal', 4288), ('house', 4250), ('shaq', 4247), ('600', 4229), ('w', 4216), ('hall', 4193), ('my', 4186), ('lonnie', 4150), ('tradition', 4140), ('glass', 4112), ('jordan', 4082), ('sonics', 4061), ('origins', 3990), ('opulence', 3934), ('laser', 3923), ('50+', 3892), ('kobe', 3851), ('250+', 3805), ('shots', 3801), ('iv', 3790), ('15', 3758), ('ball', 3753), ('prospects', 3747), ('300', 3747), ('worn', 3736), ('power', 3705), ('acetate', 3689), ('exquisite', 3683), ('s', 3665), ('cornerstones', 3658), ('gear', 3658), ('retail', 3653), ('mojo', 3618), ('199', 3600), ('emerald', 3591), ('12', 3586), ('one', 3575), ('penmanship', 3574), ('500', 3562), ('new', 3556), ('heroes', 3554), ('essentials', 3516), ('complete', 3510), ('phenoms', 3507), ('came', 3477), ('innovation', 3476), ('dominion', 3469), ('rc', 3449), ('college', 3418), ('relic', 3404), ('hor', 3400), ('graphs', 3392), ('+', 3368), ('mj', 3357), ('championship', 3322), ('light', 3320), ('disco', 3305), ('graphics', 3294), ('first', 3289), ('matisse', 3284), ('thybulle', 3266), ('150++', 3252), ('200', 3251), ('timeless', 3247), ('tri-color', 3207), ('scoring', 3201), ('1st', 3190), ('legendary', 3171), ('250', 3158), ('sticker', 3116), ('high', 3098), ('finals', 3096), ('spotlight', 3072), ('atomic', 3072), ('100', 3067), ('60++', 3058), ('net', 3033), ('medallion', 3022), ('fireworks', 3014), ('jersey', 3006), ('keldon', 2993), ('force', 2981), ('silhouettes', 2969), ('members', 2963), ('future', 2953), ('langford', 2951), ('exclusives', 2948), ('120', 2927), ('darius', 2926), ('material', 2913), ('8.5', 2908), ('border', 2897), ('49', 2893), ('romeo', 2879), ('jam', 2874), ('bamba', 2869), ('marks', 2867), ('mo', 2858), ('only', 2852), ('23', 2842), ('back', 2814), ('bazley', 2790), ('tribute', 2766), ('brilliance', 2748), ('blaster', 2743), ('mirror', 2739), ('200++', 2722), ('champions', 2717), ('tag', 2696), ('double', 2685), ('international', 2678), ('zebra', 2657), ('fastbreak', 2617), ('next', 2615), ('sneaker', 2611), ('dazzle', 2595), ('bryant', 2578), ('all-stars', 2574), ('mjx', 2569), ('luck', 2566), ('top', 2561), ('30+', 2543), ('50', 2537), ('crystal', 2536), ('kaboom', 2514), ('simons', 2511), ('fresh', 2511), ('super', 2502), ('issue', 2502), ('preview', 2498), ('z', 2495), ('graham', 2490), (\"'d\", 2486), ('clear', 2473), ('no', 2449), ('number', 2436), ('numbers', 2432), ('legacy', 2422), ('supersonics', 2411), ('fame', 2404), ('tie-dye', 2397), ('pass', 2394), ('devonte', 2390), ('time', 2385), ('city', 2380), ('marvels', 2373), ('galactic', 2365), ('1200+', 2363), ('edwards', 2358), ('nickeil', 2348), ('masters', 2327), ('winner', 2326), ('249', 2315), ('brown', 2313), ('dp', 2300), ('alexander-walker', 2294), ('ssp', 2294), ('smith', 2291), ('j', 2288), ('you', 2287), ('sparkle', 2278), ('tj', 2261), ('roll', 2261), ('electric', 2244), ('okeke', 2235), ('finalists', 2234), ('timepieces', 2218), ('allen', 2214), ('swatch', 2210), ('chuma', 2206), ('80', 2201), ('grant', 2199), ('past', 2195), ('winning', 2189), ('duke', 2188), ('hobby', 2172), ('sweet', 2164), ('win', 2160), ('175', 2117), ('1500+', 2115), ('encore', 2113), ('all-star', 2109), ('1000+', 2095), ('stained', 2091), ('present', 2084), ('box', 2083), ('w/', 2082), ('pippen', 2077), ('dominance', 2063), ('stripe', 2063), ('little', 2060), ('300++', 2055), ('zion', 2051), ('claxton', 2034), ('get', 2033), ('jerome', 2024), ('kyle', 2018), ('carsen', 2002), ('etch', 2001), ('victory', 1998), ('winter', 1993), ('slam', 1983), ('robinson', 1968), ('player', 1956), ('nm/', 1949), ('scripts', 1943), ('75', 1940), ('tiger', 1932), ('anthony', 1928), ('clutch', 1920), ('quad', 1920), ('lime', 1917), ('248', 1916), ('luka', 1915), ('out', 1911), ('nassir', 1903), ('40++', 1894), ('redemption', 1883), ('guy', 1879), ('treasured', 1877), ('troy', 1874), ('e-x', 1873), ('ovation', 1869), ('warren', 1862), ('hyped', 1860), ('2000', 1859), ('16', 1831), ('anthology', 1830), ('40', 1826), ('patches', 1825), ('18-19', 1816), ('luminance', 1789), ('chinese', 1786), ('factor', 1786), ('antetokounmpo', 1784), ('13', 1774), ('nic', 1773), ('299', 1770), ('special', 1762), ('explosion', 1759), ('james', 1757), ('c', 1753), ('edge', 1745), ('35', 1742), ('800', 1730), ('jr.', 1723), ('checkerboard', 1720), ('mccollum', 1718), ('30', 1706), ('samanic', 1691), ('ex+', 1686), ('school', 1676), ('cavaliers', 1675), ('teal', 1672), ('finite', 1668), ('ja', 1666), ('test', 1663), ('paint', 1656), ('dunk', 1655), ('award', 1654), ('280', 1652), ('horizontal', 1649), ('24', 1647), ('franchise', 1641), ('shot', 1640), ('style', 1640), ('dribbling', 1634), ('vision', 1632), ('packs', 1624), ('peerless', 1624), ('logoman', 1621), ('flight', 1619), ('inserts', 1609), ('.', 1600), ('nicolas', 1599), ('now', 1598), ('mavs', 1596), ('wade', 1572), ('okpala', 1562), ('jj', 1551), ('label', 1548), ('legacies', 1547), ('cj', 1541), ('bonus', 1535), ('illusions', 1535), ('matrix', 1534), ('50++', 1534), ('kevin', 1526), ('with', 1524), ('generations', 1520), ('image', 1513), ('genesis', 1512), ('e', 1510), ('kz', 1508), ('moments', 1503), ('e-xl', 1500), ('mint+', 1494), ('excellence', 1493), ('call', 1491), ('relics', 1482), ('total', 1481), ('dominator', 1480), ('trade', 1477), ('go', 1477), ('leaders', 1474), ('kostas', 1473), ('all-nba', 1470), ('superstar', 1470), ('sterling', 1469), ('ud3', 1469), ('copper', 1468), ('tri', 1466), ('149', 1462), ('reserve', 1460), ('pop', 1460), ('0', 1459), ('golden', 1455), ('22', 1454), ('60', 1452), ('all-time', 1452), ('board', 1450), ('hardwood', 1448), ('for', 1448), ('z-force', 1432), ('198', 1430), ('stays', 1426), ('centered', 1417), ('home', 1408), ('fantasy', 1403), ('hometown', 1403), ('sapphire', 1398), ('d', 1397), ('classics', 1386), ('18', 1385), ('chris', 1384), ('remarkable', 1383), ('update', 1382), ('carolina', 1376), ('embossed', 1374), ('lasting', 1352), ('credentials', 1340), ('from', 1337), ('kabengele', 1336), ('decade', 1331), ('action', 1329), (\"'\", 1328), ('jaylen', 1324), ('mfiondu', 1320), ('artist', 1312), ('ii', 1311), ('fabric', 1310), ('gallery', 1309), ('mega', 1309), ('archives', 1307), ('reprints', 1304), ('fall', 1302), ('focus', 1300), ('robert', 1299), ('men', 1297), ('h', 1296), ('tacko', 1295), ('intrigue', 1282), ('photo', 1282), ('molten', 1280), ('pack', 1279), ('royalty', 1275), ('endorsements', 1271), ('shadow', 1268), ('genuine', 1266), ('schofield', 1265), ('arriving', 1262), ('nike', 1262), ('urs', 1258), ('-19', 1255), ('17', 1253), ('astro', 1243), ('76ers', 1242), ('admiral', 1240), ('horton-tucker', 1239), ('diallo', 1237), ('sky', 1235), ('short', 1234), ('waters', 1233), ('iverson', 1233), ('talen', 1232), ('96-97', 1232), ('uncommon', 1230), ('stock', 1230), ('rising', 1227), ('got', 1227), ('air', 1219), ('americans', 1218), ('iconic', 1217), ('tremont', 1216), ('downtown', 1213), ('autograph', 1209), ('red/white/blue', 1209), ('mykhailiuk', 1207), ('trail', 1207), ('hamidou', 1206), ('svi', 1206), ('supreme', 1206), ('?', 1205), ('variations', 1204), ('windler', 1204), ('ions', 1203), ('14', 1198), ('grayson', 1187), ('/dna', 1184), ('jackson', 1184), ('ionix', 1180), ('portraits', 1177), ('ty', 1177), ('big', 1176), ('1000', 1173), ('clearly', 1169), ('goga', 1166), ('icon', 1163), ('authentics', 1161), ('bitadze', 1159), ('luxe', 1158), ('rwb', 1155), ('phenomenon', 1153), ('mini', 1153), (\"o'neal\", 1152), ('dylan', 1152), ('blockchain', 1152), ('far', 1149), ('stainless', 1145), ('starburst', 1142), ('historic', 1135), ('heights', 1129), ('voltage', 1124), ('coating', 1117), ('45', 1117), ('carter', 1112), ('checklist', 1109), ('final', 1107), ('fusion', 1103), ('bird', 1103), ('isaiah', 1101), ('luxury', 1101), ('holoview', 1099), ('beckett', 1097), ('up', 1094), ('x-fractor', 1090), ('600++', 1089), ('great', 1088), ('daniel', 1081), ('apprentice', 1080), ('i', 1078), ('fx', 1075), ('precious', 1074), ('line', 1073), ('25+', 1071), ('builder', 1070), ('authentix', 1069), ('proects', 1066), ('100+', 1065), ('john', 1062), ('convention', 1053), ('titanium', 1053), ('36', 1052), ('choose', 1052), ('veteran', 1050), ('leader', 1048), ('gala', 1046), ('frank', 1031), ('roby', 1025), ('ignas', 1024), ('brazdeikis', 1024), ('vertical', 1023), ('redick', 1013), ('nm-mt+', 997), ('fabrics', 997), ('euroleague', 996), ('garnett', 995), ('vanguard', 994), ('la', 988), ('2001', 982), ('ectra', 979), ('martin', 970), ('pose', 968), ('north', 962), ('barkley', 962), ('different', 961), ('xl', 959), ('1957-58', 952), ('400++', 952), ('uncirculated', 947), ('key', 946), ('tremendous', 946), ('momentous', 943), ('rainbow', 943), ('career', 939), ('association', 938), ('anniversary', 937), ('125', 937), ('258', 937), ('mystique', 936), ('promo', 936), ('modern', 936), ('combos', 934), ('road', 933), ('times', 932), ('carmelo', 926), ('19', 923), ('red/yellow', 918), ('infinite', 917), (',', 916), ('grand', 915), ('vintage', 913), ('greatness', 913), ('holding', 908), ('elegance', 907), ('prestigious', 907), ('young', 906), ('players', 905), ('lebron', 899), ('colors', 898), ('sign', 897), ('bruno', 894), ('plus', 894), ('zhaire', 893), ('majestic', 889), ('jalen', 889), ('800++', 888), ('tools', 884), ('zone', 878), ('honor', 876), ('dwayne', 874), ('as', 873), ('2018-19', 873), ('center', 871), ('notable', 871), ('78', 871), ('living', 870), ('express', 870), ('ron', 869), ('cody', 865), ('roundball', 864), ('cosmic', 863), ('mann', 861), ('gafford', 860), ('foundations', 859), ('ascension', 857), ('takeoff', 857), ('prospect', 852), ('mj23', 845), ('splash', 843), ('all-decade', 842), ('lane', 841), ('spectrum', 839), ('heralded', 839), ('barea', 839), ('superstars', 838), ('die-cuts', 838), ('nowell', 836), ('pro', 835), ('stat', 835), ('celestial', 834), ('icons', 833), ('round', 831), ('gemmt', 830), ('old', 828), ('2000+', 826), ('faces', 825), ('vortex', 825), ('timeline', 824), ('master', 813), ('illustrious', 812), ('dupes', 812), ('justin', 811), ('athlete', 811), ('champ', 810), ('lucky', 807), ('is', 807), ('heat', 805), ('flash', 803), ('night', 803), ('jones', 802), ('202', 800), ('will', 799), ('362', 798), ('++', 795), ('cyan', 794), ('apparent', 794), ('wagner', 794), ('biography', 793), ('otlight', 793), ('hard', 792), ('26', 791), ('1200', 791), ('fernando', 790), ('cubic', 789), ('beginning', 788), ('malone', 787), ('177', 787), ('inside', 786), ('borderless', 786), ('erving', 786), ('259', 785), ('frequent', 783), ('rodman', 782), ('se', 780), ('32', 780), ('give', 778), ('moves', 777), ('n', 777), ('rock', 777), ('julius', 776), ('momentum', 774), ('89', 774), ('coast', 774), ('acts', 772), ('heir', 771), ('introductions', 768), ('209', 766), ('behind', 764), ('rubies', 764), ('bulls', 764), ('olajuwon', 764), ('nate', 763), ('vip', 763), ('semi', 762), ('deandre', 758), ('ojeleye', 756), ('showstoppers', 755), ('cavs', 755), ('scottie', 754), ('aficionado', 753), ('case', 753), ('prints', 747), ('groove', 747), ('kings', 744), ('durant', 743), ('phoenix', 743), ('vancouver', 743), ('aqua', 742), ('maximum', 741), ('129', 740), ('shooting', 739), ('enshrined', 738), ('vs', 738), ('dye', 734), ('hologram', 734), ('chronology', 734), ('front', 734), ('chandler', 733), ('terance', 733), ('scripted', 732), ('colorful', 729), ('inscriptions', 726), ('mike', 726), ('350', 725), ('t-minus', 724), ('23kt', 722), ('here', 721), ('spectacular', 719), ('playbook', 719), ('masterpiece', 717), ('roy', 717), ('graphed', 716), ('aba', 714), ('4000+', 713), ('hanger', 713), ('mason', 709), ('magic', 706), ('heart', 706), ('world', 706), ('heirs', 705), ('duncan', 704), ('fat', 704), ('xr', 704), ('55', 704), ('dunking', 703), ('significance', 701), ('warriors', 698), ('trophy', 696), ('tickets', 692), ('1986-87', 691), ('emotion', 691), ('ex/ex+', 691), ('reflections', 691), ('hybrid', 691), ('trios', 689), ('unc', 686), ('o', 686), ('hands', 685), ('design', 684), ('destiny', 684), ('sports', 683), ('curry', 681), ('tie', 680), ('real', 680), ('talents', 679), ('radiance', 675), ('sport', 675), ('138', 674), ('famous', 672), ('31', 671), ('tyler', 669), ('184', 668), ('moritz', 665), ('head', 664), ('fractal', 662), ('album', 662), ('tim', 662), ('1010', 662), ('shoe', 661), ('starquest', 659), ('fluorescent', 657), ('overdrive', 657), ('statement', 656), ('paul', 654), ('27', 654), ('terrance', 654), ('or', 654), ('stockton', 653), ('21', 652), ('legend', 650), ('250++', 649), ('starting', 648), ('essential', 647), ('trilogy', 647), ('throne', 639), ('grade', 636), ('xfractor', 636), ('feel', 635), ('boss', 633), ('points', 633), ('weatherspoon', 632), ('frame', 632), ('co-signers', 631), ('fearless', 631), ('signs', 630), ('playing', 630), ('ex2000', 629), ('akeem', 629), ('features', 627), ('indelible', 627), ('italian', 627), ('ed', 625), ('elevation', 625), ('90', 624), ('it', 623), ('hit', 622), ('jim', 621), ('all-', 620), ('stage', 620), ('sensations', 619), ('letter', 619), ('davis', 618), ('1989', 618), ('115', 616), ('forces', 616), ('hutchison', 614), ('sigs', 614), ('distinguished', 612), ('kemp', 610), ('magenta', 609), ('261', 605), ('fundamentals', 605), ('20+', 605), ('maroon', 604), ('sparks', 604), ('trademark', 603), ('jevon', 603), ('cuts', 600), ('st', 598), ('ferguson', 597), ('chips', 595), ('chicago', 594), ('arkle', 590), ('main', 589), ('253', 588), ('alen', 588), ('extra', 587), ('nebula', 587), ('art', 586), ('hero', 586), ('crunch', 584), ('sample', 582), ('unciulated', 579), ('joe', 577), ('pointing', 575), ('uer', 573), ('l', 572), ('youthquake', 572), ('nouveau', 572), ('smailagic', 572), ('league', 571), ('hologrfx', 569), ('prize', 569), ('2019-20', 569), ('view', 567), ('quinndary', 566), ('missing', 566), ('500++', 564), ('28', 563), ('duals', 563), ('flyer', 562), ('era', 561), ('knight', 561), ('gravity', 560), ('1952', 560), ('canvas', 558), ('king', 558), ('strike', 556), ('bosh', 553), ('ewing', 553), ('triumvirate', 552), ('dream', 549), ('sp', 548), ('champion', 545), ('replay', 544), ('tony', 544), ('combo', 544), ('print', 543), ('e-xceptional', 543), ('records', 543), ('buyback', 542), ('by', 540), ('quadruple', 540), ('85', 540), ('flood', 539), ('coming', 538), ('eminence', 538), ('hill', 537), ('payton', 536), ('autographics', 534), ('quads', 534), ('we', 528), ('throwback', 526), ('dort', 526), ('0210', 526), ('0810', 525), ('0+', 525), ('jason', 524), ('luguentz', 523), ('0310', 523), ('lamelo', 523), ('standouts', 522), ('name', 522), ('x', 521), ('patrick', 521), ('company', 520), ('79', 519), ('west', 517), ('standout', 517), ('hayes', 517), ('lineage', 517), ('maker', 516), ('5x7', 515), ('howard', 514), ('sunburst', 513), ('pros', 513), ('phenomenal', 512), ('nicknames', 512), ('villain', 512), ('liftoff', 509), ('los', 509), ('predictor', 508), ('session', 507), ('planet', 507), ('2500+', 507), ('brand', 506), ('date', 506), ('warp', 504), ('seat', 504), ('knights', 503), ('wax', 503), ('armstrong', 502), ('away', 502), ('101', 502), ('larry', 501), ('framed', 501), ('evans', 501), ('quest', 500), ('dennis', 499), ('88', 498), ('brandon', 497), ('wilson', 497), ('ia', 497), ('angeles', 497), ('epic', 494), ('wood', 494), ('bill', 494), ('``', 491), ('.5', 491), ('65', 491), ('foe', 491), ('heritage', 486), ('millennium', 486), ('0610', 486), ('recon', 484), ('thomas', 481), ('exclusive', 481), ('profiles', 480), ('x-pectations', 479), ('look', 478), ('/', 477), ('weekend', 475), ('laundry', 475), ('1-200', 475), ('emanuel', 472), ('potential', 472), ('film', 470), ('showtime', 470), ('39', 470), ('catalysts', 470), ('dimensions', 469), ('lineup', 467), ('years', 467), ('201', 466), ('braves', 466), ('112', 465), ('advantage', 465), ('futures', 463), ('off', 462), ('diary', 461), ('jerry', 461), ('sub', 460), ('0110', 460), ('book', 458), ('dzanan', 458), ('musa', 458), ('doncic', 457), ('adrenalyn', 457), ('rich', 456), ('269', 456), ('47', 456), ('aurora', 456), ('autographed', 455), ('david', 455), ('holograms', 454), ('reigning', 454), ('paramount', 453), ('cam', 452), ('march', 452), ('stephen', 452), ('charte', 452), ('murad', 451), ('0410', 451), ('117', 450), ('5000+', 449), ('hunter', 448), ('private', 448), ('free', 448), ('louis', 446), ('global', 446), ('sticking', 445), ('comic', 444), ('30++', 443), ('that', 442), ('jarred', 441), ('vanderbilt', 441), ('uniformity', 441), ('251', 440), ('07-08', 438), ('artifacts', 437), ('t', 436), ('your', 436), ('flyers', 436), ('lettermen', 436), ('jambalaya', 435), ('shine', 435), ('winners', 434), ('3d', 433), ('melvin', 432), ('iwundu', 431), ('70', 431), ('wiseman', 430), ('vinyl', 429), ('higher', 429), ('dwyane', 428), ('performers', 426), ('memorable', 425), ('impulse', 425), ('2003-04', 424), ('bone', 424), ('lew', 423), ('debuts', 422), ('gatorade', 422), ('0910', 420), ('vg', 420), ('flux', 420), ('favorites', 419), ('list', 419), ('full', 419), ('mcdaniels', 418), ('van', 417), ('intriguing', 417), ('0710', 416), ('royal', 416), ('commemorative', 416), ('43', 416), ('frazier', 415), ('1825', 415), ('low', 415), ('68', 414), ('alcindor', 414), ('wesley', 413), ('rise', 412), ('metallized', 412), ('tatum', 411), ('0510', 411), ('apprentices', 411), (\"''\", 410), ('hummer', 410), ('29', 410), ('2125', 410), ('bc', 410), ('mourning', 409), ('3rd', 409), ('3-color', 408), ('nights', 408), ('inspirations', 407), ('miami', 407), ('111', 406), ('madness', 406), ('swirlorama', 406), ('au', 406), ('52', 406), ('topper', 406), ('mcgrady', 405), ('giannis', 405), ('point', 403), ('most', 402), ('81', 402), ('03-04', 399), ('nameplate', 399), ('signings', 398), ('gazing', 398), ('generals', 398), ('techniques', 398), ('168', 397), ('rave', 397), ('manning', 397), ('amar', 396), ('watch', 396), ('face', 394), ('swoosh', 394), ('nash', 393), ('2007-08', 392), ('seattle', 392), ('locked', 391), ('bob', 391), ('definitive', 391), ('highlights', 391), ('nuts', 390), ('bordered', 390), ('kidd', 389), ('various', 389), ('leather', 387), ('cook', 386), ('1986', 386), ('limit', 385), ('parker', 385), ('right', 385), ('steve', 384), ('lecque', 383), ('44', 383), ('stitches', 382), ('george', 382), ('2525', 382), ('spellbound', 381), ('peyton', 381), ('validating', 381), ('bilities', 381), ('archibald', 380), ('181', 379), ('conference', 379), ('ncaa', 378), ('clarke', 378), ('z-foe', 378), ('park', 377), ('drew', 377), ('san', 376), ('second', 375), ('lights', 375), ('221', 374), ('wes', 373), ('ex2001', 373), ('stoudemire', 373), ('retired', 373), ('34', 372), ('lords', 372), ('dj', 371), ('quartz', 368), ('158', 367), ('meta', 367), ('2019', 367), ('lightning', 366), (\"'48\", 365), ('miller', 365), ('en', 365), ('151', 364), ('bell', 364), ('josh', 363), ('268', 362), ('significant', 361), ('dna', 361), ('above', 361), ('ben', 360), ('state', 360), ('33', 360), ('spurs', 359), ('charles', 359), ('thon', 359), ('table', 359), ('1-150', 358), ('brilliants', 357), ('1997-98', 357), ('damage', 357), ('letterman', 356), ('american', 356), ('247', 356), ('328', 355), ('furious', 355), ('leonard', 354), ('alexander', 354), ('error', 353), ('1425', 353), ('t-51', 353), ('nobility', 353), ('elie', 352), ('okobo', 351), ('outside', 350), ('near', 350), ('sabrina', 350), ('ionescu', 350), ('veterans', 349), ('91-113', 349), ('background', 349), ('288', 348), ('breakers', 347), ('thinking', 347), ('may', 347), ('cyber', 345), ('dominators', 344), ('authority', 343), ('june', 343), ('wow', 343), ('rps', 342), ('quinn', 342), ('00+', 342), ('artest', 342), ('bolts', 341), ('72', 341), ('219', 341), ('flag', 340), ('trio', 340), ('shawn', 340), ('swishful', 340), ('hoop', 339), ('apex', 339), ('university', 338), ('westbrook', 338), ('treasury', 336), ('14091', 336), ('1500', 336), ('superlative', 336), ('milicic', 335), ('blast', 335), ('jacob', 335), ('thrill', 335), ('oni', 335), ('coverage', 334), ('rewind', 334), ('game-worn', 334), ('263', 334), ('threat', 333), ('37', 331), ('collectibles', 331), ('tmall', 330), ('assorted', 330), ('x-factor', 329), ('turkey', 329), ('mr', 329), ('miye', 327), ('brewer', 326), ('damian', 325), ('xpectations', 325), ('refractors', 325), ('previews', 325), ('jeff', 324), ('lou', 324), ('karl', 324), ('mavericks', 324), ('tower', 324), ('jack', 324), ('mj3', 321), ('dominate', 320), ('182', 320), ('114', 318), ('monday', 317), ('kenner', 317), ('rapture', 317), ('generation', 316), ('premiere', 316), ('86-87', 316), ('opulent', 316), ('162', 316), ('heavy', 315), ('playoffs', 315), ('european', 313), ('simmons', 313), ('webber', 313), ('magnetic', 313), ('fur', 313), ('darko', 312), ('trae', 312), ('phenominal', 312), ('rejector', 312), ('under', 312), ('thunder', 312), ('51', 311), ('170', 311), ('savage', 310), ('micro', 310), ('bccg', 310), ('contemporary', 309), ('ex-mt', 309), ('2025', 309), ('ascent', 308), ('collection/coca-cola', 308), ('sole', 308), ('157', 308), ('five', 307), ('131', 307), ('substantial', 307), ('playmakers', 307), ('globetrotters', 306), ('camera', 305), ('spark', 305), ('review', 304), ('1499', 304), ('gordon', 304), ('inductions', 304), ('williamson', 303), ('steps', 303), ('180', 302), ('1625', 302), ('153', 302), ('3000+', 301), ('cleveland', 300), ('remembrance', 300), ('devils', 300), ('ford', 299), ('football', 299), ('174', 299), ('serial', 299), ('patton', 297), ('soul', 297), ('graded', 297), ('keita', 296), ('bates-diop', 296), ('97-98', 296), ('own', 295), ('steel', 295), ('bradley', 295), ('kids', 295), ('see', 295), ('henry', 294), ('fan', 294), ('richardson', 294), ('play', 294), ('harden', 293), ('stewart', 293), ('48', 293), ('luke', 292), ('1-100', 292), ('aaron', 292), ('inkredible', 291), ('scoreboard', 291), ('shining', 291), ('two', 290), ('six', 290), ('1992-93', 290), ('pistons', 290), ('64', 289), ('scorers', 288), ('east', 288), ('all-american', 287), ('interstellar', 287), ('sweaters', 287), ('unleash', 287), ('silhouette', 286), ('police', 285), ('chamberlain', 285), ('74', 285), ('murray', 285), ('88-89', 284), ('dish', 283), ('friday', 283), ('multi', 283), ('artists', 283), ('pmg', 283), ('le', 283), ('area', 282), ('sneak', 282), ('marble', 282), ('barcelona', 282), ('skyview', 281), ('94', 281), ('success', 280), ('171', 280), ('sikma', 280), ('greatest', 279), ('ginobili', 279), ('over', 279), ('225', 279), ('chalk', 278), ('lee', 278), ('standing', 278), ('scott', 278), ('kb20', 278), ('1-260', 278), ('touch', 277), ('drexler', 277), ('thompson', 277), ('royals', 277), ('58', 276), ('cinematic', 275), ('slick', 275), ('premieres', 275), ('spanish', 275), ('marbury', 275), ('gems', 275), ('impressions', 274), ('fine', 274), ('four', 274), ('diff', 273), ('ayton', 273), ('gladiators', 273), ('nowitzki', 273), ('irving', 272), ('widescreen', 272), ('eric', 272), ('0925', 271), ('authenticated', 271), ('sets', 271), ('118', 270), ('towns', 270), ('kentucky', 270), ('tucker', 269), ('pierce', 269), ('2425', 269), ('antonio', 268), ('artistic', 268), ('avant', 268), ('ounce', 268), ('110', 267), ('tom', 267), ('both', 267), ('history', 267), ('46', 267), ('7.5', 267), ('soaring', 266), ('maestros', 266), ('mark', 266), ('trading', 266), ('0625', 265), ('highlight', 265), ('signage', 263), ('swagger', 263), ('0825', 263), ('rules', 263), ('ace', 262), ('p', 262), ('bj', 262), ('trouble', 261), ('rain', 261), ('crop', 260), ('massive', 260), ('timelines', 260), ('lava', 260), ('brian', 260), ('beginnings', 259), ('mastery', 259), ('quantum', 259), ('59', 258), ('production', 258), ('alex', 258), ('harris', 258), ('95', 258), ('breanna', 258), ('3000', 258), ('ming', 258), ('113', 258), ('than', 257), ('93', 257), ('wild', 256), ('66', 256), ('springfield', 256), ('tyrone', 255), ('exchange', 255), ('riche', 255), ('deividas', 255), ('sirvydis', 255), ('dynamic', 254), ('drft', 254), ('g/vg', 254), ('unopened', 253), ('logos', 253), ('comics', 253), ('plugs', 253), ('harlem', 253), ('e-x2001', 252), ('non-numbered', 252), ('on-card', 252), ('supernova', 252), ('aspirations', 251), ('crash', 251), ('perfect', 251), ('plates', 251), ('bv=', 250), ('gemmint', 250), ('tar', 249), ('heels', 249), ('gary', 249), ('166', 249), ('performance', 249), ('hand', 249), ('redemptions', 248), ('jay', 248), ('kick', 247), ('start', 247), ('81-90', 247), ('powers', 247), ('two-shot', 247), ('pursuit', 247), ('reid', 246), ('alonzo', 246), ('reprint', 246), ('foundation', 246), ('lewis', 245), ('71', 245), ('223', 245), ('82', 244), ('102', 244), ('arms', 243), ('38', 243), ('boosters', 242), ('bogues', 242), ('schroeder', 242), ('56', 242), ('3-clr', 242), ('slammin', 241), ('stackhouse', 241), ('gamers', 240), ('timothe', 240), ('record', 240), ('luminous', 240), ('122', 240), ('marvin', 240), ('123', 240), ('french', 240), ('feature', 239), ('blocks', 239), ('73', 239), ('building', 239), ('finishers', 239), ('johnny', 238), ('rose', 238), ('stardom', 238), ('stats', 237), ('193', 237), ('way', 237), ('bound', 237), ('nice', 237), ('swish', 236), ('luwawu-cabarrot', 236), ('snake', 236), ('skin', 236), ('bas', 236), ('life', 235), ('5th', 235), ('0425', 235), ('ecial', 235), ('warm-up', 234), ('87', 234), ('ray', 234), ('xplosion', 234), ('payne', 234), ('1325', 234), ('target', 233), ('cba', 233), ('tier', 233), ('jade', 233), ('hat', 232), ('yao', 232), ('220', 232), ('oc', 232), ('man', 231), ('69', 231), ('orlando', 231), ('squires', 230), ('threats', 230), ('heroics', 230), ('zero', 230), ('poss', 230), ('1996-97', 229), ('kansas', 229), ('stub', 229), ('86', 229), ('vince', 228), ('space', 228), ('never', 228), ('fox', 228), ('290', 228), ('wayne', 227), ('coat', 227), ('terry', 227), ('e-x2000', 227), ('swat', 227), ('206', 226), ('sketches', 226), ('1999-00', 226), ('russell', 225), (\"'ed\", 225), ('hinrich', 225), ('stuff', 224), ('178', 224), ('car', 224), ('autographs', 224), ('2225', 224), ('hoopla', 223), ('derrick', 223), ('uniform', 223), ('rampage', 223), ('graffiti', 223), ('elusive', 222), ('damon', 222), ('innovative', 222), ('license', 222), ('warm', 221), ('62', 221), ('dwight', 221), ('cameron', 221), ('established', 221), ('mamba', 221), ('297', 221), ('performances', 221), ('opulance', 221), ('taylor', 220), ('kenny', 219), ('biographical', 219), ('information', 219), ('montage', 219), ('risers', 218), ('20th', 218), ('tournament', 218), ('ntense', 217), ('spot', 217), ('olympic', 217), ('stripes', 217), ('14k', 217), ('at', 217), ('abdur-rahim', 217), ('stare', 217), ('0225', 216), ('50th', 216), ('grizzles', 216), ('toss', 216), ('boundaries', 215), ('nb', 215), ('speed', 215), ('turquoise', 215), ('77', 215), ('maravich', 214), ('guard', 214), ('channel', 214), ('jay-z', 214), ('events', 214), ('1125', 214), ('shredders', 213), ('tributes', 213), ('screen', 213), ('41', 213), ('234', 213), ('96', 213), ('203', 213), ('104', 213), ('brands', 212), ('huge', 212), ('172', 212), ('factions', 212), ('ny', 212), ('bacon', 212), ('jsa', 211), ('initiation', 211), ('sean', 210), ('0325', 210), ('rage', 210), ('motion', 210), ('busters', 210), ('larger', 209), ('carr', 209), ('longevity', 209), ('jefferson', 209), ('almost', 209), ('event', 208), ('adidas', 208), ('originals', 208), ('255', 208), ('61', 207), ('tracy', 207), ('smooth', 206), ('making', 206), ('mitchell', 206), ('expectations', 206), ('-85', 206), ('v-team', 206), ('3599', 206), ('screams', 205), ('marcus', 205), ('revision', 205), ('sketch', 205), ('w/coating', 205), ('strip', 204), ('227', 204), ('mighty', 204), ('milton', 204), ('china', 204), ('blank', 204), ('apparitions', 203), ('wcg', 203), ('mainstays', 203), ('herovillain', 203), ('2x', 202), ('duty', 202), ('prototype', 202), (\"'61\", 202), ('keith', 201), ('penny', 201), ('2004-05', 201), ('monikers', 201), ('rack', 201), ('kirk', 201), ('inc', 201), ('compromise', 200), ('nfl', 200), ('143', 200), ('made', 200), ('ex/', 200), ('shake', 200), ('399', 199), ('georges', 199), ('achievements', 199), ('promos', 198), ('230a-230w', 198), ('marshall', 198), ('powerdeck', 198), ('jermaine', 198), ('nm/mt+', 197), ('radiant', 197), ('289', 197), ('57', 197), ('lonzo', 196), ('fred', 196), ('42', 196), ('juwan', 196), ('meltdown', 196), ('monumental', 195), ('gerald', 195), ('999', 195), ('6ers', 195), ('wizards', 194), ('group', 194), ('paxson', 194), ('kyrie', 194), ('brcr', 194), ('kraze', 193), ('griffin', 193), ('sensation', 193), ('ass', 193), ('devin', 193), ('156', 193), ('baker', 192), ('fournier', 192), ('raise', 192), ('elements', 192), ('dan', 192), ('nm+', 192), ('minus', 192), ('0725', 191), ('wallace', 191), ('pieces', 191), ('henderson', 191), ('rim', 191), ('all-rookie', 191), ('shareef', 191), ('lydon', 191), ('tags', 191), ('champs', 190), ('wilkins', 190), ('lilliard', 190), ('tandems', 190), ('defying', 190), ('representatives', 189), ('wilkes', 189), ('gasol', 189), ('niang', 189), ('skills', 189), ('love', 189), ('suns', 189), ('116', 189), ('103', 189), ('reciprocal', 188), ('rcr', 188), ('mix', 188), ('h2', 188), ('butler', 187), ('richard', 187), ('ac', 187), ('ten', 187), ('jumpman', 187), ('estrellas', 186), ('jarrett', 186), ('54', 186), ('amir', 186), ('coffey', 186), ('106', 186), ('bagley', 186), ('craig', 186), ('sam', 185), ('1-11', 185), ('morris', 185), ('gray', 185), ('clark', 185), ('nicely', 185), ('lebrons', 185), ('164', 185), ('naz', 185), ('toys', 185), ('attractions', 184), ('script', 184), ('tv', 184), ('rainmakers', 184), ('stardate', 184), ('regal', 183), ('frames', 183), ('rivals', 183), ('don', 182), ('mayo', 182), ('isaac', 182), ('zebut', 182), ('passing', 182), ('patchworks', 182), ('nelson', 181), ('forcefield', 181), ('len', 181), ('condition', 181), ('dave', 180), ('holoviews', 180), ('clyde', 180), ('dante', 180), ('teammates', 180), ('galaxy', 180), ('left', 180), ('keystone', 179), ('summit', 179), ('2k', 179), ('15-16', 179), ('stamp', 179), ('colonels', 179), ('killian', 179), ('drive', 178), ('1525', 178), ('bobby', 178), ('reed', 178), ('dumars', 178), ('andre', 178), ('exum', 178), ('milestones', 178), ('deni', 178), ('slams', 177), ('sheet', 177), ('horizon', 177), ('hv', 177), ('tyrese', 177), ('per', 176), ('quick', 175), ('show', 175), ('monitors', 175), ('135', 175), ('thick', 175), ('hamilton', 174), ('party', 174), ('competitive', 174), ('1925', 174), ('muggsy', 174), ('non-protected', 174), ('jumbos', 174), ('+++', 174), ('499', 174), ('distinctive', 173), ('spike', 173), ('showdown', 173), ('cartwright', 173), ('orleans', 173), ('clean', 173), ('boone', 173), ('-20', 173), ('350+', 173), ('175+', 173), ('baseball', 172), ('octane', 172), ('tcc', 172), ('mt+', 172), ('196', 172), ('dynasty', 171), ('sue', 171), ('holiday', 171), ('avdija', 171), ('9.', 171), ('editions', 170), ('274', 170), ('locker', 170), ('immortal', 170), ('echelon', 170), ('titans', 170), ('industry', 170), ('elegant', 170), ('newsreels', 170), ('kind', 169), ('billy', 169), ('bridges', 169), ('sixers', 169), ('he', 169), ('role', 169), ('almanac', 169), ('1988', 168), ('deron', 168), ('patterned', 168), ('0125', 168), ('elena', 168), ('nameplates', 168), ('operation', 167), ('matchups', 167), ('byg', 167), ('296', 167), ('starter', 167), ('98', 167), ('lamar', 166), ('luminescent', 166), ('donne', 166), ('1725', 166), ('eed', 166), ('.999', 166), ('pearl', 166), ('g', 165), ('97', 165), ('connections', 165), ('cel', 165), ('2999', 165), ('rebounds', 165), ('peek', 165), ('1:210', 164), ('63', 164), ('fact', 164), ('electrifying', 164), ('256', 164), ('211', 164), ('shai', 164), ('161', 164), ('all-s', 164), ('creators', 164), ('english', 164), ('195758', 164), ('seekers', 164), ('1987-88', 163), ('nick', 163), ('1958-59', 162), ('pairs', 162), ('2016-17', 162), ('cutting', 162), ('delle', 162), ('anticipation', 162), ('newly', 162), ('rabb', 162), ('rcs', 162), ('becky', 162), ('spectracular', 162), ('92', 161), ('reign', 161), ('3299', 161), ('traditions', 161), ('187', 161), ('ingram', 161), ('cert', 161), ('freshly', 160), ('forged', 160), ('matt', 160), ('symbols', 160), ('manu', 159), ('crowns', 159), ('idol', 159), ('denver', 159), ('illustrated', 159), ('mother', 159), ('lode', 159), ('145', 159), ('152', 159), ('caleb', 158), ('swanigan', 158), ('amare', 158), ('tiffany', 158), ('2325', 158), ('1998-99', 158), ('maurice', 158), ('marques', 158), ('invasion', 157), ('139', 157), ('taurasi', 157), ('burners', 157), ('occasion', 157), ('kinetix', 157), ('188', 157), ('academy', 157), ('282', 157), ('airlines', 156), ('coby', 156), ('diana', 156), ('fabulous', 156), ('121', 156), ('diego', 156), ('dirk', 156), ('valuable', 155), ('centering', 155), ('breed', 155), ('ryan', 155), ('skylar', 155), ('lauren', 155), ('nm/mt', 155), ('swingmen', 155), ('1415', 155), ('194', 155), ('00', 155), ('155', 155), ('strokes', 154), ('stidham', 154), ('128', 154), ('chromographs', 154), ('ahives', 154), ('ivan', 154), ('goodwin', 154), ('266', 154), ('1997', 154), ('17-18', 154), ('ships', 154), ('kareem', 153), ('7ers', 153), ('go-nuts', 153), ('cup', 153), ('masterpieces', 153), ('sweetness', 153), ('136', 153), ('personal', 152), ('born', 152), ('1985', 152), ('ss8870', 152), ('4000', 152), ('24k', 152), ('orientation', 151), ('phil', 151), ('192', 151), ('semifinal', 151), ('213', 151), ('roof', 151), ('ll', 151), ('starring', 151), ('citement', 150), ('odom', 150), ('game-used', 150), ('holojam', 150), ('jamaal', 150), ('okc', 150), ('217', 150), ('talk', 149), ('visions', 149), ('1984-85', 149), ('321', 149), ('picture', 149), ('278', 149), ('dreams', 148), ('wal-mart', 148), ('obi', 148), ('toppin', 148), ('2020', 148), ('kawhi', 147), ('dominique', 147), ('5199', 146), ('indiana', 146), ('oj', 146), ('revolutionaries', 146), ('arenas', 146), ('10th', 146), ('rights', 146), ('109', 146), ('miles', 145), ('pix', 145), ('barry', 145), ('few', 145), ('132', 145), ('2249', 145), ('restaurant', 144), ('duos', 144), ('rookie', 144), ('tomorrow', 144), ('partial', 144), ('fultz', 144), ('denied', 144), ('254', 144), ('273', 144), ('2018', 144), ('232', 144), ('rick', 144), ('1b', 143), ('unstoppable', 143), ('vg-ex', 143), ('diggins-smith', 143), ('76', 143), ('cole', 143), ('nd', 143), ('3x', 143), ('christmas', 143), ('culver', 143), ('dress', 143), ('cyber-metal', 142), ('info', 142), ('defensive', 142), ('000+', 142), ('caruso', 142), ('zupermen', 142), ('kaman', 142), ('gamebreakers', 142), ('layup', 142), ('breakout', 141), ('division', 141), ('awards', 141), ('satch', 141), ('pete', 141), ('personalized', 141), ('-13', 141), ('minis', 140), ('father', 140), ('malachi', 140), ('brilliant', 140), ('foursomes', 140), ('04-05', 140), ('lazer', 140), ('fuego', 139), ('renaissance', 139), ('wrapper', 139), ('tip-off', 139), ('cassius', 139), ('mcadoo', 139), ('ninety-six', 139), ('jo', 139), ('1215', 139), ('arena', 138), ('utah', 138), ('rewards', 138), ('walton', 138), ('seasons', 138), ('bella', 138), ('alarie', 138), ('files', 138), ('mini-cards', 138), ('expressionist', 138), ('1115', 137), ('rebound', 137), ('endeavors', 137), ('146', 137), ('kb8', 137), (':', 137), ('2008-09', 137), ('panin', 137), ('8099', 137), ('access', 137), ('attraction', 136), ('average', 136), ('279', 136), ('reddish', 136), ('granite', 136), ('159', 136), ('promotional', 136), ('portland', 135), ('cooper', 135), ('unparalleled', 135), ('260', 135), ('sexton', 134), ('holofame', 134), ('reggie', 134), ('sindarius', 134), ('thornwell', 134), ('sanders', 134), ('lillard', 134), ('6.5', 134), ('iowa', 134), ('nova', 133), ('anderson', 133), ('14-15', 133), ('sticky', 133), ('fingers', 133), ('natural', 133), ('thrillers', 133), ('as1', 133), ('satou', 133), ('sabally', 133), ('1948', 133), ('tough', 133), ('pulled', 133), ('abdul-jabbar', 132), ('pride', 132), ('junior', 132), ('elvin', 132), ('surge', 132), ('better', 132), ('very', 132), ('67', 132), ('transitions', 132), ('hampton', 132), ('124', 132), ('count', 132), ('facing', 132), ('sophomore', 132), ('command', 131), ('shquille', 131), ('assets', 131), ('vincent', 131), ('kyler', 131), ('holofoil', 131), ('excitement', 131), ('inscribed', 131), ('freddie', 130), ('hakeem', 130), ('other', 130), ('large', 130), ('1620', 130), ('mills', 130), ('marial', 130), ('shayok', 130), ('wilt', 130), ('vaulted', 130), ('270', 130), ('283', 130), ('dunks', 129), ('flashback', 129), ('peak', 129), ('minor', 129), ('flynn', 129), ('draw', 129), ('jan', 129), ('arrivals', 129), ('ausome', 129), ('ser', 129), ('2049', 128), ('ex-', 128), ('embiid', 128), ('startups', 128), ('53', 128), ('destination', 128), ('jaren', 128), ('skylines', 128), ('slate', 128), ('neal', 128), ('crimson', 128), ('magnet', 128), ('end', 127), ('flying', 127), ('selects', 127), ('0525', 127), ('cougars', 127), ('turn', 127), ('dorsey', 127), ('6-7', 127), ('dragon', 127), ('tunnel', 127), ('195', 127), ('franz', 126), ('212', 126), ('skal', 126), ('labissiere', 126), ('early', 126), ('breaker', 126), ('2012-13', 126), ('promotion', 126), ('leslie', 126), ('producers', 126), ('elemental', 126), ('steph', 126), ('09-10', 126), ('0++', 126), ('ellenson', 125), ('rice', 125), ('morant', 125), ('dunleavy', 125), ('348', 125), ('gu', 125), ('mikal', 125), ('shield', 124), ('335', 124), ('lock', 124), ('jared', 124), ('statistical', 124), ('2699', 124), ('swirl', 124), ('expressionists', 124), ('226', 124), ('hoard', 123), ('nmmt', 123), ('dollar', 123), ('sharp', 123), ('predrag', 123), ('2001-02', 123), ('d8', 123), ('160', 123), ('porzingis', 123), ('madrid', 123), ('cf', 123), ('cleaners', 122), ('office', 122), ('palette', 122), ('impressionist', 122), ('backstage', 122), ('gervin', 122), ('courting', 122), ('sox', 122), ('wildcats', 122), ('conteners', 122), ('cl', 122), ('1982', 122), ('insignia', 122), ('etopps', 121), ('134', 121), ('camby', 121), ('olympics', 121), ('worthy', 121), ('canasta', 121), ('m', 121), ('deluxe', 120), ('brush', 120), ('moore', 120), ('predictors', 120), ('2799', 120), ('5499', 120), ('1225', 120), ('studs', 120), ('dajuan', 120), ('hits', 120), ('jimmy', 120), ('mutombo', 119), ('1987', 119), ('mitch', 119), ('medal', 119), ('must', 119), ('breda', 119), ('crowned', 119), ('intensity', 119), ('horford', 119), ('karat', 119), ('142', 118), ('eaton', 118), ('hoosiers', 118), ('davon', 118), ('quarter', 118), ('mad', 117), ('1213', 117), ('ch', 117), ('magazine', 117), ('slash', 117), ('dash', 117), ('179', 117), ('215', 117), ('assists', 117), ('262', 117), ('harrison', 117), ('0515', 117), ('kelly', 117), ('308', 117), ('permit', 117), ('ip', 116), ('harper', 116), ('pillars', 116), ('prominence', 116), ('prism', 116), ('phi', 116), ('beta', 116), ('unseld', 115), ('cream', 115), ('medalist', 115), ('1990', 115), ('25th', 115), ('georgetown', 115), ('recruits', 115), ('222', 115), ('randy', 115), ('kuzma', 115), ('control', 115), ('wrong', 114), ('gregg', 114), ('popovich', 114), ('changing', 114), ('warm-ups', 114), ('mvp', 114), ('kolff', 114), ('vital', 114), ('spectralight', 114), ('298', 114), ('turner', 113), ('huerter', 113), ('1099', 113), ('superior', 113), ('imagery', 113), ('phone', 113), ('directors', 113), ('greg', 113), ('276', 113), ('newcomers', 113), ('immpeccable', 113), ('tiny', 112), ('mc', 112), ('step', 112), ('trademarks', 112), ('mostly', 112), ('+++++', 112), ('stanley', 112), ('mandela', 112), ('texture', 112), ('maxey', 112), ('sc1867', 112), ('ellis', 111), ('dean', 111), ('prizes', 111), ('zach', 111), ('pau', 111), ('banner', 111), ('20++', 111), ('15000', 111), ('comspec', 111), ('00++', 111), ('note', 111), ('cheeks', 111), ('abdel', 110), ('nader', 110), ('metallic', 110), ('long', 110), ('tams', 110), ('conquistadors', 110), ('bennett', 110), ('as2', 110), ('blake', 110), ('hoyas', 110), ('lisa', 110), ('cox', 110), ('169', 110), ('torrey', 110), ('267', 110), ('laettner', 110), ('kilroy', 110), ('zensations', 109), ('enshrinement', 109), ('tracker', 109), ('spokes', 109), ('ties', 109), ('parish', 109), ('al', 109), ('lafayette', 109), ('torch', 109), ('xtra', 109), ('mozaic', 109), ('khyri', 108), ('grooves', 108), ('horn', 108), ('three', 108), ('meadowlark', 108), ('lemon', 108), ('5099', 108), ('8899', 108), ('2017-18', 107), ('commemoratives', 107), ('insider', 107), ('harmon', 107), ('blazers', 107), ('souvenir', 107), ('german', 107), ('manuscripts', 107), ('greece', 107), ('espn', 106), ('houston', 106), ('kerr', 106), ('caboclo', 106), ('apparel', 106), ('mccaw', 106), ('scalabrine', 106), ('thanasis', 106), ('east/west', 106), ('mccullough', 106), ('panini', 106), ('usab', 106), ('107', 106), ('xcited', 106), ('352', 106), ('shorts', 105), ('superscribe', 105), ('terrence', 105), ('proofs', 105), ('names', 105), ('crazy', 105), ('wilkens', 105), ('booker', 105), ('squad', 104), ('fab', 104), ('105', 104), ('176', 104), ('brands/years', 104), ('nene', 104), ('19-20', 104), ('fanimation', 104), ('292', 103), ('shoot', 103), ('cops', 103), ('emerging', 103), ('gilbert', 103), ('275', 103), ('hardware', 103), ('ricky', 103), ('750', 102), ('brice', 102), ('felton', 102), ('herro', 102), ('stoudamire', 102), ('236', 102), ('jontay', 102), ('employee', 101), ('kendall', 101), ('eddie', 101), ('piece', 101), ('5999', 101), ('rush', 101), ('talkin', 101), ('live', 101), ('walmart', 101), ('reel', 101), ('331', 101), ('4249', 101), ('honors', 100), ('storm', 100), ('journal', 100), ('laces', 100), ('avery', 100), ('famed', 100), ('zpeat', 100), ('bvg', 100), ('fighting', 100), ('aspiring', 100), ('beasley', 100), ('1998', 100), ('divisional', 100), ('0913', 100), ('empty', 99), ('no-protector', 99), ('0899', 99), ('dec', 99), ('laimbeer', 99), ('marquis', 99), ('0315', 99), ('sharpshooter', 99), ('beautiful', 99), ('poole', 99), ('discovery', 99), ('christian', 99), ('05-06', 99), ('bibby', 99), ('ss-j', 99), ('corner', 98), ('229', 98), ('award-winning', 98), ('binder', 98), ('beautiuful', 98), ('191', 98), ('1999', 98), ('sepia', 98), ('northern', 97), ('flights', 97), ('681', 97), ('onyx', 97), ('encase', 97), ('favorties', 97), ('271', 97), ('224', 97), ('6x', 97), ('raptors', 97), ('soar', 96), ('subjects', 96), ('bridan', 96), ('1995', 96), ('airborne', 96), (\"a'ja\", 96), ('rubio', 96), ('pritchard', 96), ('norm', 96), ('japanese', 96), ('ex-+', 96), ('f1', 96), ('nj', 96), ('jumping', 96), ('0713', 96), ('5799', 95), ('aj', 95), ('610', 95), ('corey', 95), ('highland', 95), ('oversize', 95), ('e-xciting', 95), ('okafor', 95), ('claim', 95), ('facsimile', 95), ('kris', 95), ('bullion', 95), ('length', 95), ('passport', 95), ('us', 95), ('mod', 94), ('000', 94), ('147', 94), ('pen', 94), ('billups', 94), ('decades', 94), ('ucla', 94), ('critically', 94), ('acclaimed', 94), ('287', 94), ('brothers', 94), ('allie', 94), ('quigley', 94), ('keller', 94), ('186', 94), ('hawkeyes', 94), ('325', 94), ('star-gazing', 94), ('pics', 93), ('tl', 93), ('remnants', 93), ('variant', 93), ('thin', 93), ('84', 93), ('3500', 93), ('0115', 93), ('spirit', 93), ('willie', 93), ('conley', 93), ('battier', 93), ('1699', 93), ('240', 93), ('delivered', 93), ('wolves', 93), ('pct', 93), ('bal', 93), ('cinque', 93), ('piu', 93), ('belle', 93), ('2149', 93), ('cynthia', 93), ('-81', 93), ('showing', 92), ('after', 92), ('k', 92), ('futura', 92), ('headliners', 92), ('preeminent', 92), ('william', 92), ('130', 92), ('3-d', 92), ('curly', 92), ('2009-10', 92), ('fiorentino', 92), ('grading', 91), ('collins', 91), ('hairston', 91), ('marion', 91), ('246', 91), ('8399', 91), ('campus', 91), ('citrine', 91), ('multi-sport', 91), ('gallinari', 91), ('bear', 91), ('split', 91), ('backs', 91), ('ion', 91), ('panoramics', 91), ('determination', 91), ('sears', 91), ('bey', 91), ('wu3314', 91), ('bloods', 91), ('chaparrals', 90), ('donovan', 90), ('pals', 90), ('2006-07', 90), ('hughes', 90), ('lite', 90), ('1995-96', 90), ('adams', 90), ('kristaps', 90), ('epix', 90), ('lego', 90), ('aerodynamics', 90), ('stone', 90), ('kukoc', 90), ('castle', 90), ('randle', 90), ('3350', 90), ('perry', 89), ('cedric', 89), ('clippers', 89), ('travis', 89), ('aldridge', 89), ('1025', 89), ('etc', 89), ('392', 89), ('gilgeous', 89), ('shane', 89), ('achiuwa', 89), ('210', 89), ('jamboree', 89), ('challenge', 89), ('8199', 89), ('barnes', 89), ('slabbed', 89), ('retirement', 89), ('theo', 89), ('eternal', 89), ('ducks', 89), ('prodigy', 88), ('nestle', 88), ('poker', 88), ('joel', 88), ('tree', 88), ('ike', 88), ('0720', 88), ('ky', 88), ('wiggins', 87), ('ripped', 87), ('mcgary', 87), ('russ', 87), ('kicks', 87), ('top-notch', 87), ('glorified', 87), ('chosen', 87), ('dufex', 87), ('bright', 87), ('reels', 87), ('protected', 87), ('167', 87), ('190', 87), ('3,2,1', 87), ('1:540', 87), ('ring', 87), ('effect', 87), ('aztecs', 87), ('defense', 86), ('fantastic', 86), ('baldwin', 86), ('allies', 86), ('archie', 86), ('run', 86), ('2875', 86), ('wally', 86), ('collier', 86), ('reebok', 86), ('2008', 86), ('mining', 86), ('tott', 86), ('teague', 86), ('competitor', 86), ('luxurious', 86), ('sheryl', 86), ('memphis', 86), ('online', 86), ('our', 86), ('pop1', 86), ('4049', 85), ('silky', 85), ('108', 85), ('prince', 85), ('jousting', 85), ('189', 85), ('alternate', 85), ('sac', 85), ('exceptional', 85), ('timberwolves', 85), ('aerial', 85), ('126', 85), ('kanter', 84), ('common', 84), ('8x', 84), ('dodge', 84), ('charger', 84), ('die-cast', 84), ('bbce', 84), ('fasc', 84), ('candace', 84), ('f', 84), ('toni', 84), ('0149', 84), ('320', 84), ('lawson', 84), ('panni', 84), ('f6f6', 84), ('code', 84), ('8499', 84), ('1961-62', 84), ('dick', 83), ('5699', 83), ('virginia', 83), ('camouflage', 83), ('crunchers', 83), ('superfeats', 83), ('jamal', 83), ('playground', 83), ('decor', 83), ('cory', 83), ('241', 83), ('anigbogu', 83), ('stunning', 83), ('205', 83), ('0615', 83), ('cocoa', 83), ('puffs', 83), ('cereal', 83), ('finkel', 82), ('aric', 82), ('holman', 82), ('hooperstars', 82), ('jayson', 82), ('mcdyess', 82), ('nolan', 82), ('swoopes', 82), ('87-88', 82), ('unused', 82), ('spiral', 82), ('clemons', 82), ('spokesmen', 82), ('oregon', 82), ('lited', 82), ('ss9280', 82), ('nr', 81), ('article', 81), ('superfractor', 81), ('xavier', 81), ('cunningham', 81), ('antoine', 81), ('icee', 81), ('driving', 81), ('pres', 81), ('immortalized', 81), ('238', 81), ('127', 81), ('7499', 81), ('trouvaille', 81), ('202-3', 81), ('0915', 81), ('wu3640', 81), ('4685', 81), ('6299', 80), ('rod', 80), ('equal', 80), ('suit', 80), ('1314', 80), ('lenticular', 80), ('mahomes', 80), ('katie', 80), ('detroit', 80), ('83', 80), ('vassell', 80), ('84-85', 80), ('idols', 80), ('craftsmen', 80), ('n1182', 80), ('staduim', 80), ('texas', 79), ('emmette', 79), ('buy', 79), ('abdul', 79), ('hayward', 79), ('185', 79), ('jamison', 79), ('jamfest', 79), ('achievement', 79), ('22kt', 79), ('264', 79), ('puzzle', 79), ('204', 79), ('homecourt', 79), ('brunson', 79), ('andrew', 78), ('auth', 78), ('mercer', 78), ('101-200', 78), ('arm', 78), ('154', 78), ('austin', 78), ('wright', 78), ('portrait', 78), ('duplication', 78), ('hanes', 78), ('haliburton', 78), ('oversized', 78), ('2749', 78), ('isiah', 78), ('havlicek', 78), ('bearers', 78), ('décor', 78), ('4499', 78), ('810', 78), ('ss8988', 78), ('armon', 77), ('alma', 77), ('mater', 77), ('allan', 77), ('kirilenko', 77), ('1516', 77), ('throwbacks', 77), ('tye', 77), ('144', 77), ('ogwumike', 77), (\"de'andre\", 77), (\"'96\", 77), ('6199', 77), ('dedric', 77), ('bk', 77), ('tipoff', 77), ('parquet', 77), ('89-90', 77), ('10+', 77), ('252', 77), ('1993-94', 77), ('stojakovic', 77), ('1299', 76), ('0815', 76), ('creased', 76), ('1020', 76), ('comeback', 76), ('4699', 76), ('drummond', 76), ('0599', 76), ('patty', 76), ('age', 76), ('9399', 76), ('4299', 76), ('max', 76), ('strus', 76), ('nesmith', 76), ('jackie', 76), ('horace', 76), ('field', 76), ('front-row', 76), ('proect', 76), ('1996', 76), ('people', 76), ('rockets', 76), ('1-300', 76), ('hield', 76), ('norvell', 76), ('2014', 76), ('165', 76), ('baseketball', 76), ('231', 76), ('vivid', 76), ('235', 75), ('bank', 75), ('5x', 75), ('byron', 75), ('elway', 75), ('0749', 75), ('lakers', 75), ('floyd', 75), ('leading', 75), ('mezzanine', 75), ('3.5', 75), ('1989-90', 75), ('scarce', 75), ('indispensable', 74), ('tina', 74), ('valiant', 74), ('ers', 74), ('cowens', 74), ('196-7', 74), ('3x3', 74), ('ibaka', 74), ('-14', 74), ('hachimura', 74), ('vitreous', 74), ('inscription', 74), ('derek', 73), ('ennis', 73), ('kenyon', 73), ('die-cut/embossed', 73), ('augustin', 73), ('captain', 73), ('masterful', 73), ('bowen', 73), ('templar', 73), ('xcitement', 73), ('91', 73), ('0449', 73), ('powder', 73), ('265', 73), ('sura', 72), ('noah', 72), ('glen', 72), ('posters', 72), ('quo', 72), ('sweepstakes', 72), ('pizza', 72), ('defining', 72), ('1015', 72), ('post', 72), ('bars', 72), ('griffey', 72), ('1957', 72), ('3431', 72), ('evolve', 72), ('1111', 72), ('3099', 72), ('optichrome', 72), ('boston', 71), ('parrish', 71), ('melo', 71), ('jonny', 71), ('jawun', 71), ('jonathan', 71), ('ics', 71), ('orts', 71), ('ting', 71), ('defenders', 71), ('extreme', 71), ('1988-89', 71), ('.2', 70), ('swisssh', 70), ('teams', 70), ('shirt', 70), ('doron', 70), ('grace', 70), ('karl-anthony', 70), ('walter', 70), ('nno', 70), ('0304', 70), ('mchale', 70), ('bread', 70), ('reserved', 70), ('york', 70), ('goal', 70), ('honorary', 70), ('alumni', 70), ('vg/', 70), ('registry', 70), ('expired', 70), ('jerseys', 70), ('t51', 70), ('e-', 70), ('45105652', 70), ('mars', 69), ('blackmon', 69), ('kittles', 69), ('seal', 69), ('m1', 69), ('teresa', 69), ('sr', 69), ('stoppers', 69), ('alcinder', 69), ('brett', 69), ('disc', 69), ('93-94', 69), ('mullens', 69), ('skyonix', 69), ('greater', 69), ('33643', 69), ('blue/silver', 69), ('raw', 68), ('4999', 68), ('robertson', 68), ('klay', 68), ('issel', 68), ('last', 68), ('use', 68), ('ezeli', 68), ('prevue', 68), ('1-', 68), ('morgan', 68), ('tyrus', 68), ('hammon', 68), ('272', 68), ('0549', 68), ('lamb', 68), ('solid', 68), ('1820', 68), ('lowry', 68), ('207', 68), ('seung-jin', 68), ('adolescent', 67), ('careunit', 67), ('all-defense', 67), ('zimmerman', 67), ('prolifics', 67), ('calvin', 67), ('not', 67), ('chennedy', 67), ('glory', 67), ('4099', 67), ('552', 67), ('mario', 67), ('257', 67), ('e-card', 67), ('siakam', 67), ('escher', 67), ('currents', 67), ('137', 67), (\"d'angelo\", 67), ('retrospective', 67), ('239', 66), ('5399', 66), ('enes', 66), ('plumlee', 66), ('banquet', 66), ('serge', 66), ('avg', 66), ('juggernauts', 66), ('24-7', 66), ('5899', 66), ('5100', 66), ('scrapbook', 66), ('si', 66), ('163', 66), ('sweater', 66), ('two-time', 66), ('jazz', 66), ('years/brands', 66), ('lever', 66), ('6899', 66), ('ecials', 66), ('jordon', 66), ('pitch', 66), ('broncos', 66), ('-18', 66), ('schayes', 66), ('liners', 66), ('dejuan', 66), ('titanic', 66), ('syracuse', 66), (\"'52\", 66), ('autos', 66), ('pump', 66), ('-17', 66), ('atuograph', 66), ('2000-01', 65), ('demetrius', 65), ('earl', 65), ('connecticut', 65), ('iron', 65), ('16-17', 65), ('all-division', 65), ('goey', 65), ('jump', 65), ('trap', 65), ('guokas', 65), ('1735', 65), ('lier', 65), ('walt', 65), ('sheets', 65), ('inkscriptions', 65), ('dikembe', 64), ('1-140', 64), ('-1', 64), ('cheryl', 64), ('nation', 64), ('all-etch', 64), ('mashburn', 64), ('rudy', 64), ('prototypes', 64), (\"'95\", 64), ('francis', 64), ('fifties', 64), ('bruins', 64), ('aka', 64), ('caps', 64), (';', 64), ('ml', 64), ('vernon', 64), ('8x10', 64), ('strength', 64), (\"'99\", 64), ('0299', 64), ('verticality', 64), ('4899', 64), ('without', 64), ('tyson', 64), ('ex-2000', 64), ('ha', 64), ('-04', 64), ('multisport', 64), ('precision', 63), ('effort', 63), ('position', 63), ('jabbar', 63), ('move', 63), ('angular', 63), ('ex-nm', 63), ('festus', 63), ('nemeses', 63), ('illinois', 63), ('beal', 63), ('realm', 63), ('s.i', 63), ('airations', 63), ('n2034', 63), ('executive', 63), ('ss9763', 63), ('6275', 63), ('gilliam', 62), ('knox', 62), ('hornacek', 62), ('ainge', 62), ('shooter', 62), ('napheesa', 62), ('finley', 62), ('ginobli', 62), ('2599', 62), ('danny', 62), ('deng', 62), ('okoro', 62), ('bucks', 62), ('visionary', 62), ('parallels', 62), ('harold', 62), ('checklists', 62), ('wright-foreman', 62), ('barbosa', 62), ('squares', 62), ('elevators', 62), ('208', 62), ('capture', 62), ('wall', 62), ('blair', 62), ('173', 62), ('buzzer', 62), ('beaters', 62), ('omari', 62), ('45459236', 62), ('yearbook', 62), ('1:2160', 62), ('n1518', 62), ('n2561', 62), ('navy', 61), ('cousins', 61), ('tempered', 61), ('almond', 61), ('183', 61), ('e15', 61), ('net-rageous', 61), ('brittney', 61), ('griner', 61), ('radical', 61), ('thabeet', 61), ('lift', 61), ('tyasha', 61), ('1992', 61), ('bonga', 61), ('ken', 61), ('294', 61), ('hundley', 61), ('277', 61), ('mania', 61), ('week', 61), ('1315', 61), ('commons', 60), ('take', 60), ('winston', 60), ('visible', 60), ('ss8970', 60), ('r-class', 60), ('ginter', 60), ('upgrade', 60), ('ltd', 60), ('armor', 60), ('293', 60), ('tall', 60), ('140', 60), ('optimum', 60), ('moment', 60), ('sun', 60), ('takeit2.net', 60), ('interntional', 60), ('patterns', 60), ('102199', 60), ('shooters', 60), ('ruthy', 60), ('hebard', 60), ('journey', 60), ('nm-', 60), ('markelle', 60), ('souvenirs', 60), ('23k', 60), ('materialistic', 60), ('towers', 59), ('fisher', 59), ('collectors', 59), ('bosa', 59), ('mccarthy', 59), ('raining', 59), ('stephon', 59), ('4549', 59), ('illini', 59), ('n-tense', 59), ('then', 59), ('selden', 59), ('leadership', 59), ('ss', 59), ('lkers', 59), ('mgic', 59), ('farewell', 59), ('ter', 59), ('ss1170', 59), ('stern', 59), ('facts', 59), ('peja', 59), ('elizabeth', 59), ('munch', 59), ('168199', 59), ('nationals', 59), ('8560', 59), ('shamrock', 58), ('453', 58), ('76-77', 58), ('giles', 58), ('2013-14', 58), ('.1', 58), ('primetime', 58), ('giants', 58), ('legenary', 58), ('carey', 58), ('postmen', 58), ('hidden', 58), ('eights', 58), (\"de'aaron\", 58), ('derozan', 58), ('emmett', 58), ('trier', 58), ('0349', 58), ('6-pc', 58), ('just', 58), ('ted', 58), ('jonas', 58), ('75149', 58), ('4269', 58), ('dawkins', 57), ('paige', 57), ('herbert', 57), ('naturals', 57), ('ss8871', 57), ('photos', 57), ('rejectors', 57), ('statliners', 57), ('half', 57), ('tre', 57), ('chinanu', 57), ('onuaku', 57), ('miner', 57), ('diamonation', 57), ('3149', 57), ('carroll', 57), ('ausbie', 57), ('ss1597', 57), ('033149', 57), ('ss1398', 57), ('language', 57), ('pinson', 57), ('gibson', 57), ('magnifying', 57), ('mammoth', 57), ('1011', 57), ('ingredient', 56), ('track', 56), ('adebayo', 56), ('triples', 56), ('tetrad', 56), ('kt', 56), ('lamarcus', 56), ('monk', 56), ('1-35', 56), ('unlimited', 56), ('supremacy', 56), ('eastern', 56), ('hasheem', 56), ('ground', 56), ('good', 56), ('kemba', 56), ('micro-etch', 56), ('4675', 56), ('episodic', 56), ('calligraphy', 56), ('honored', 56), ('0999', 56), ('fly', 56), ('r1', 56), ('louisville', 56), ('every', 56), ('brady', 56), ('119', 56), ('noble', 56), ('jaden', 56), ('1-10', 56), ('semis', 56), ('rivers', 56), ('fd9545', 56), ('gay', 56), ('unleashed', 56), ('n568', 56), ('kadeem', 55), ('mjlj', 55), ('damien', 55), ('drug', 55), ('86-8', 55), ('1986-8', 55), ('writings', 55), ('stoemire', 55), ('going', 55), ('dallas', 55), ('lps', 55), ('3799', 55), ('mosiac', 55), ('header', 55), ('550', 55), ('n1614', 55), ('rr', 55), ('6399', 55), ('0849', 55), ('tel', 54), ('wing', 54), ('8.', 54), ('joakim', 54), ('cleanthony', 54), ('connection', 54), ('ss9076', 54), ('visionaries', 54), ('kodak/osco', 54), ('gm', 54), ('panel', 54), ('adreian', 54), ('cover', 54), ('woods', 54), ('hallowed', 54), ('dampier', 54), ('maxwell', 54), ('3749', 54), ('supers', 54), ('spalding', 54), ('064149', 54), ('rockers', 54), ('281', 54), (',000', 54), ('all-world', 54), ('sampson', 54), ('item', 54), ('lone', 54), ('%', 54), ('exel', 54), ('vucevic', 54), ('4199', 54), ('15th', 54), ('corchiani', 54), ('lay-up', 53), ('energizers', 53), ('rebecca', 53), ('lobo', 53), ('n960', 53), ('rasheed', 53), ('naismith', 53), ('dimes', 53), ('unbreakables', 53), ('deal', 53), ('forceful', 53), ('gameball', 53), ('favre', 53), ('crawford', 53), ('lopez', 53), ('244', 53), ('pelicans', 53), ('ss1125', 53), ('mist', 53), ('198687', 53), ('perennial', 53), ('tech', 53), ('gauntlet', 53), ('8799', 53), ('tek', 53), ('7199', 53), ('bobcats', 53), ('uk', 53), ('245', 53), ('ss9278', 53), ('119199', 53), ('pendergraph', 52), ('thriller', 52), ('instinct', 52), ('5299', 52), ('co.', 52), ('carlos', 52), ('kc', 52), ('gameday', 52), ('carmen', 52), ('electra', 52), ('brogdon', 52), ('coa', 52), ('liz', 52), ('cambage', 52), ('maestro', 52), ('hopps', 52), ('z-cling', 52), ('room', 52), ('jordans', 52), ('monroe', 52), ('wilcox', 52), ('2199', 52), ('ourbre', 52), ('1249', 52), ('charlie', 52), ('incl', 52), ('2150', 52), ('4th', 52), ('definition', 52), ('enshrinements', 52), ('4410', 52), ('boy', 52), ('2675', 52), ('0405', 52), ('t.j.', 52), ('altered', 52), ('r5', 52), ('un-common', 51), ('postmarks', 51), ('marathon', 51), ('1617', 51), ('stick', 51), ('tristan', 51), ('pocus', 51), ('treme', 51), ('20x', 51), ('herren', 51), ('jewels', 51), ('guarded', 51), ('buybacks', 51), ('andrei', 51), ('crossover', 51), ('phenom', 51), ('6143', 51), ('magnificent', 51), (\"o'brien\", 51), ('perkins', 51), ('3849', 51), ('sovereign', 51), ('hopefuls', 51), ('ss8989', 51), ('301', 51), ('cummings', 51), ('blaylock', 51), ('stroke', 51), ('/dna9', 51), ('2349', 51), ('matthews', 51), ('rui', 51), ('1349', 51), ('extravagance', 51), ('side', 51), ('1250', 51), ('bleachers', 51), ('peacock', 51), ('jimmer', 51), ('fredette', 51), ('guaranteed', 51), ('longhorns', 51), ('rageous', 51), ('4270', 51), ('6824', 51), ('1113', 51), ('sizeable', 50), ('wax-bk', 50), ('9499', 50), ('law', 50), ('program', 50), ('women', 50), ('ectrum', 50), ('garfield', 50), ('contest', 50), ('de', 50), ('calling', 50), ('popular', 50), ('230', 50), ('version', 50), ('5599', 50), ('lentincular', 50), ('starlight', 50), ('ilgauskas', 50), ('ge', 50), ('makers', 50), ('725', 50), ('devontae', 50), ('cacok', 50), ('samuelson', 50), ('changers', 50), ('justice', 50), ('pokusevski', 50), ('gonzaga', 50), ('5556', 50), ('ss1163', 50), ('ss1121', 50), ('1550', 50), ('st.', 50), ('illuminator', 50), ('6699', 50), ('gus', 50), ('all-americans', 50), ('3499', 50), ('fc4858', 50), ('build', 50), ('gobert', 49), ('report', 49), ('vin', 49), ('maya', 49), ('remember', 49), ('threedom', 49), ('141', 49), ('heard', 49), ('images', 49), ('freeze', 49), ('mints', 49), ('acclaim', 49), ('/veteran', 49), ('medalists', 49), ('three-piece', 49), ('ldds', 49), ('bv', 49), ('4x', 49), ('10x', 49), ('brandom', 49), ('wu3481', 49), ('accolades', 49), ('2023', 49), ('342', 49), ('brad', 49), ('133', 49), ('ss1608', 49), ('inkorporated', 49), ('valanciunas', 49), ('y', 49), ('immanuel', 49), ('quickley', 49), ('kb', 49), ('braynt', 49), ('melton', 49), ('montana', 49), ('ss9662', 49), ('24kt', 49), ('n1067', 49), ('royce', 48), ('multi-year', 48), ('chauncey', 48), ('49ers', 48), ('green/yellow', 48), ('3899', 48), ('montgomery', 48), ('shortprint', 48), ('cornerstone', 48), ('food', 48), ('pirzm', 48), ('divac', 48), ('pittsnogle', 48), ('zeke', 48), ('25++', 48), ('menendez', 48), ('pure', 48), ('tongue', 48), ('237', 48), ('fire', 48), ('989', 48), ('price', 48), ('sounds', 48), ('driven', 48), ('konchar', 48), ('cool', 48), ('1420', 48), ('3399', 48), ('oladipo', 48), ('roger', 48), ('steiner', 48), ('506', 48), ('grizzzlies', 48), ('910', 48), ('1949', 48), ('n1378', 48), ('ss9198', 48), ('none', 48), ('rooks', 48), ('es', 48), ('levert', 48), ('6820', 48), ('hof', 47), ('manufacturer', 47), ('kg', 47), ('bridgeman', 47), ('murphy', 47), ('lavine', 47), ('liggins', 47), ('shattered', 47), ('sportscenter', 47), ('2003', 47), ('snapshot', 47), ('hats', 47), ('jerseygraphics', 47), ('universal', 47), ('swift', 47), ('hickson', 47), ('cal', 47), ('western', 47), ('treasure', 47), ('donrus', 47), ('jewel', 47), ('197', 47), ('s/h', 47), ('twolves', 47), ('1199', 47), ('agent', 47), ('mag', 47), ('demarre', 47), ('middleton', 47), ('starters', 47), ('veteran/legend', 47), ('@', 47), ('0799', 47), ('holo-gold', 47), ('ss9782', 47), ('6499', 47), ('1267', 47), ('pd', 47), ('banners', 46), ('bynum', 46), ('douglas', 46), ('raymond', 46), ('sidney', 46), ('maynor', 46), ('natt', 46), ('exquistie', 46), ('bruce', 46), ('579', 46), ('jennings', 46), ('vi', 46), (\"'98\", 46), ('westphal', 46), ('arks', 46), ('wendell', 46), ('nnaji', 46), ('whiteside', 46), ('line-ups', 46), ('1948-49', 46), ('retrospection', 46), ('non', 46), ('simien', 46), ('jams', 46), ('farmar', 46), ('conf', 46), ('throw', 46), ('vested', 46), ('promising', 46), ('scouting', 46), ('clearcut', 46), ('worldcom', 46), ('donic', 46), ('-97', 46), ('refolution', 46), ('151-200', 46), ('paper', 46), ('316', 46), ('1050', 46), ('n1727', 46), ('treads', 46), ('slogans', 46), ('part', 46), ('ss9918', 46), ('daniels', 46), ('urple', 46), ('utograph', 46), ('dp1', 46), ('dated', 46), ('rip', 45), ('stick-ums', 45), ('ppf', 45), ('lifebuoy', 45), ('boozer', 45), ('block', 45), ('0112', 45), ('natasha', 45), ('sig', 45), ('loaded', 45), ('randolph', 45), ('campbell', 45), ('collin', 45), ('824', 45), ('courtney', 45), ('called', 45), ('ss9535', 45), ('down', 45), ('alert', 45), ('sc1723', 45), ('peel', 45), ('millennial', 45), ('spellman', 45), ('exmt', 45), ('prc', 45), ('doubles', 45), ('rapper', 45), ('brackins', 45), ('ss9611', 45), ('electrified', 45), ('46090524', 45), ('nm-mint+', 45), ('95-96', 44), ('creations', 44), ('hawkins', 44), ('pruitt', 44), ('2635', 44), ('sylvia', 44), ('million', 44), ('wolf', 44), ('turpin', 44), ('0249', 44), ('4-clr', 44), ('specials', 44), ('windows', 44), ('ss956', 44), ('6799', 44), ('councourse', 44), ('7699', 44), ('form', 44), ('vaughn', 44), ('astounding', 44), ('energy', 44), ('cobi', 44), ('basketballs', 44), ('hervey', 44), ('trending', 44), ('upward', 44), ('irish', 44), ('krzyzewski', 44), ('entenmann', 44), ('382', 44), ('robey', 44), ('mccaffrey', 44), ('fitzgerald', 44), ('vault', 44), ('ectaculars', 44), ('fc921', 44), ('michigan', 44), ('2849', 44), ('doornekamp', 44), ('itg', 44), ('god', 44), ('shammgod', 44), ('sk', 44), ('fc337', 44), ('noyz', 44), ('boyz', 44), ('295', 44), ('199900', 44), ('n1985', 44), ('07012999', 44), ('ra-j', 44), ('duets', 43), ('harry', 43), ('unlv', 43), ('noel', 43), ('1013', 43), ('geoff', 43), ('3850', 43), ('iguodala', 43), ('6142', 43), ('kerry', 43), ('luol', 43), ('1-50', 43), ('oturu', 43), ('new/', 43), ('ups', 43), ('98-99', 43), ('ss9009', 43), ('supernatural', 43), ('caruson', 43), ('yuta', 43), ('tabuse', 43), ('perimeter', 43), ('gale', 43), ('ex/nm', 43), ('ss1425', 43), ('2329', 43), ('041149', 43), ('fc2017', 43), ('ss8773', 43), ('loss', 43), ('n2303', 43), ('snowflake', 43), ('9699', 43), ('fc2742', 43), ('jenkins', 43), ('9899', 43), ('wu3743', 43), ('baskertball', 43), ('fc933', 43), ('n1666', 43), ('1++', 42), ('ss8976', 42), ('gilded', 42), ('chirography', 42), ('tayshaun', 42), ('ann', 42), ('soccer', 42), ('slamboree', 42), ('sc1801', 42), ('edmond', 42), ('6075', 42), ('12-13', 42), ('250-290', 42), ('6141', 42), ('x-cited', 42), ('regents', 42), ('elias', 42), ('228', 42), ('onyeka', 42), ('okongwu', 42), ('beer', 42), ('c1', 42), ('rarest', 42), ('reach', 42), ('retial', 42), ('his', 42), ('antetokoumpo', 42), ('5594', 42), ('donte', 42), ('please', 42), ('nat', 42), ('tip', 42), ('gilmore', 42), ('shirtified', 42), ('intrique', 42), ('allonzo', 42), ('quincy', 42), ('luc', 42), ('longley', 42), ('ichiro', 42), ('fd9846', 42), ('paragon', 42), ('rookei', 42), ('including', 42), ('dragic', 42), ('gilgeous-alxander', 42), ('7279', 42), ('deaaron', 42), ('n2643', 42), ('carmello', 42), ('threas', 42), ('r23', 42), ('ss1451', 42), ('ss1475', 42), ('n1487', 42), ('15,000', 42), ('0479', 42), ('teamwork', 41), ('sebastian', 41), ('ss9427', 41), ('2649', 41), ('georgios', 41), ('felder', 41), ('nater', 41), ('praise', 41), ('3449', 41), ('375', 41), ('fracnchise', 41), ('property', 41), ('danilo', 41), ('g1', 41), ('sc1812', 41), ('browns', 41), ('ss9610', 41), ('fc219', 41), ('jeremiah', 41), ('gaph', 41), ('ss8898', 41), ('kenneth', 41), ('faried', 41), ('links', 41), ('balcony', 41), ('crashers', 41), ('zydrunas', 41), ('dakari', 41), ('nirto', 41), ('1599', 41), ('trinity', 41), ('4-color', 41), ('jaxson', 41), ('each', 41), ('naxcom', 41), ('prismatic', 41), ('45243876', 41), ('ss1596', 41), ('2011', 41), ('calipari', 41), ('0675', 41), ('sabonis', 41), ('wu3261', 41), ('tips', 41), ('n1760', 41), ('0199', 41), ('aa', 41), ('45459238', 41), ('dawn', 41), ('staley', 41), ('wu3594', 41), ('portis', 41), ('eyes', 41), ('ss9942', 41), ('laker', 41), ('opened', 41), ('fowles', 41), ('2179', 41), ('szczerbiak', 41), ('stitchings', 41), ('jarret', 41), ('jsy', 41), ('n1919', 41), ('brigham', 41), ('byu', 41), ('43859141', 41), ('readread', 41), ('2012', 40), ('n806', 40), ('stokes', 40), ('extended', 40), ('data', 40), ('rondo', 40), ('nes', 40), ('follow', 40), ('brokers', 40), ('2015-16', 40), ('fc1611', 40), ('n3117', 40), ('opportunity', 40), ('bears', 40), ('andy', 40), ('mecole', 40), ('hardman', 40), ('riley', 40), ('tigers', 40), ('value', 40), ('devon', 40), ('kayla', 40), ('franks', 40), ('jeffries', 40), ('err', 40), ('n3235', 40), ('7571', 40), ('n1075', 40), ('squire', 40), ('lj', 40), ('wu3777', 40), ('kennedy', 40), ('simon', 40), ('2900', 40), ('andrea', 40), ('victor', 40), ('n3331', 40), ('nancy', 40), ('mcconnell', 40), ('2802', 40), ('4265', 40), ('1220', 40), ('ry', 40), ('initials', 40), ('bembry', 40), ('raft', 40), ('hopes', 40), ('athletic', 40), ('1961', 40), ('torn', 40), ('wu3190', 40), ('4449', 40), ('ss9379', 40), ('ss1216', 40), ('1899', 40), ('ss180', 40), ('ss9855', 40), ('na', 40), ('n1548', 40), ('1012', 40), ('45491012', 40), ('ss9246', 40), ('w/stickers', 39), ('emissaries', 39), ('gloss', 39), ('swen', 39), ('0950', 39), ('runnin', 39), ('tsc', 39), ('9798', 39), ('converse', 39), ('awesome', 39), ('dr', 39), ('shoutouts', 39), ('rookiie', 39), ('n3165', 39), ('maggette', 39), ('471', 39), ('ss9586', 39), ('says', 39), ('radja', 39), ('dominating', 39), ('ldr', 39), ('/sikma/johnson', 39), ('1960', 39), ('mack', 39), ('legs', 39), ('nm-mint', 39), ('322', 39), ('guerschon', 39), ('yabusele', 39), ('las', 39), ('robin', 39), ('1994', 39), ('hofer', 39), ('excelent', 39), ('damaged', 39), ('luca', 39), ('ward', 39), ('45459237', 39), ('museum', 39), ('2935', 39), ('pioneers', 39), ('pandemonium', 39), ('rakeem', 39), ('ss9558', 39), ('refractor/non-refractor', 39), ('limitless', 39), ('martian', 39), ('wu3665', 39), ('salute', 39), ('hologold', 39), ('rooke', 39), ('n2727', 39), ('ss9584', 39), ('fc1784', 39), ('ss9231', 39), ('45959592', 39), ('dr.', 39), ('942', 39), ('flip', 39), ('clips', 39), ('123125', 39), ('starks', 38), ('ss9084', 38), ('3199', 38), ('moncrief', 38), ('vinyle', 38), ('ss9201', 38), ('chuck', 38), ('carson', 38), ('fc3928', 38), ('sumner', 38), ('historical', 38), ('demarcus', 38), ('bobbing', 38), ('heads', 38), ('pettersson', 38), ('-10', 38), ('f5', 38), ('plastic', 38), ('satterfield', 38), ('appearing', 38), ('singles', 38), ('bling', 38), ('eubanks', 38), ('markus', 38), ('tyrell', 38), ('flourescent', 38), ('st-j', 38), ('n738', 38), ('1-249', 38), ('cham', 38), ('dieci', 38), ('migliore', 38), ('around', 38), ('n3332', 38), ('alando', 38), ('rookies', 38), ('bria', 38), ('0399', 38), ('xfactor', 38), ('fc2068', 38), ('n1721', 38), ('toe', 38), ('mentors', 38), ('learners', 38), ('brooklyn', 38), ('cincinnati', 38), ('toast', 38), ('theater', 38), ('ss9765', 38), ('111-175', 38), ('separated', 38), ('wu3525', 38), ('+16', 38), ('extras', 38), ('ss9671', 38), ('ss9149', 38), ('pts', 38), ('2375', 38), ('ss9857', 38), ('ss9151', 38), ('ss9654', 38), ('3209', 38), ('6825', 38), ('93100', 38), ('6832', 38), ('7799', 38), ('n1608', 38), ('clifford', 37), ('ography', 37), ('wheels', 37), ('taurean', 37), ('saves', 37), ('7075', 37), ('4406', 37), ('ss9194', 37), ('nneka', 37), ('1-400', 37), ('jokic', 37), ('tary', 37), ('garden', 37), ('7399', 37), ('kent', 37), ('ss9608', 37), ('n1278', 37), ('brianna', 37), ('humphrey', 37), ('childress', 37), ('0203', 37), ('9999', 37), ('stargell', 37), ('mcbride', 37), ('/kobe', 37), ('school/new', 37), ('carpet', 37), ('10++', 37), ('n103', 37), ('marc', 37), ('285', 37), ('ss1421', 37), ('davidson', 37), ('patriarchs', 37), ('artis', 37), ('celebrated', 37), ('julyan', 37), ('toronto', 37), ('ss11', 37), ('ripken', 37), ('0120', 37), ('l.e', 37), ('douby', 37), ('condors', 37), ('tyus', 37), ('ringfield', 37), ('decoy', 37), ('clifton', 37), ('n1248', 37), ('1-30', 37), ('bunny', 37), ('ss1477', 37), ('korver', 37), ('/wes', 37), ('unseld/lew', 37), ('sc1913', 37), ('arlen', 37), ('bockhorn', 37), ('wu3323', 37), ('n2736', 37), ('286', 37), ('gwynn', 37), ('grizzlies', 37), ('n833', 37), ('n1558', 37), ('3665', 37), ('6816', 37), ('6834', 37), ('issac', 37), ('rider', 36), ('illuminators', 36), ('rivalries', 36), ('22k', 36), ('kay', 36), ('cliff', 36), ('bentil', 36), ('kj', 36), ('reece', 36), ('oscar', 36), ('caldwell', 36), ('paultz', 36), ('maus', 36), ('f4', 36), ('3049', 36), ('coach', 36), ('recruiting', 36), ('in-flight', 36), ('nothing', 36), ('but', 36), ('capela', 36), ('pro-visions', 36), ('pat', 36), ('milwaukee', 36), ('ss9008', 36), ('garrison', 36), ('mathews', 36), ('n3231', 36), ('ss9514', 36), ('0420', 36), ('woolridge', 36), ('8999', 36), ('pewter', 36), ('41611146', 36), ('ss9360', 36), ('finish', 36), ('wu3799', 36), ('sobers', 36), ('si4k', 36), ('marvel', 36), ('f/x', 36), ('finishes', 36), ('foil', 36), ('bringing', 36), ('0649', 36), ('143199', 36), ('n1773', 36), ('millsap', 36), ('numbered', 36), ('guyton', 36), ('gma', 36), ('4749', 36), ('gameworn', 36), ('champagne', 36), ('schedule', 36), ('mnit', 36), ('45243871', 36), ('doumboyua', 36), ('7599', 36), ('exclamation', 36), ('ss9277', 36), ('matchup', 36), ('purpe', 36), ('sick', 36), ('ss9698', 36), ('n673', 36), ('fc925', 36), ('1623', 36), ('fc1011', 36), ('angel', 35), ('z-team', 35), ('elliott', 35), ('dynamics', 35), ('nbl', 35), ('3699', 35), ('superaction', 35), (\"'ums\", 35), ('essence', 35), ('treveon', 35), ('rondae', 35), ('jp', 35), ('support', 35), ('ss8648', 35), ('wu3230', 35), ('2017', 35), ('attack', 35), ('nixon', 35), ('catchings', 35), ('assist', 35), ('flashbacks', 35), ('showcase90', 35), ('pm', 35), ('hassan', 35), ('4599', 35), ('305', 35), ('livin', 35), ('santa', 35), ('illumination', 35), ('borderless/silver', 35), ('gbinije', 35), ('fc1789', 35), ('zylan', 35), ('ax8618', 35), ('1175', 35), ('ekpe', 35), ('udoh', 35), ('khris', 35), ('keenan', 35), ('ss1603', 35), ('ss1620', 35), ('3249', 35), ('painting', 35), ('pairings', 35), ('straight', 35), ('z-peat', 35), ('5.5', 35), ('news', 35), ('pre-production', 35), ('wbna', 35), ('pan', 35), ('clr', 35), ('jc17-jc20', 35), ('gordan', 35), ('-87', 35), ('178299', 35), ('counter', 35), ('ss9770', 35), ('mj-13', 35), ('unmarked', 35), ('791', 35), ('ss1462', 35), ('216', 35), ('n1432', 35), ('ss9817', 35), ('ss983', 35), ('ss9859', 35), ('3250', 35), ('gem-mt', 35), ('n448', 35), ('fc919', 35), ('bull', 35), ('4243', 35), ('highly', 34), ('revered', 34), ('papagiannis', 34), ('sportsnut', 34), ('mickey', 34), ('inglis', 34), ('ad', 34), ('5375', 34), ('tomjanovich', 34), ('kennard', 34), ('redeemed', 34), ('x-2', 34), ('fractured', 34), ('hollis', 34), ('rt-j', 34), ('udoka', 34), ('azubuike', 34), ('entry', 34), ('saturday', 34), ('ndudi', 34), ('ebi', 34), ('playmaker', 34), ('1750', 34), ('between', 34), ('1-20', 34), ('scorer', 34), ('n3233', 34), ('contender', 34), ('078199', 34), ('bam', 34), ('wu3542', 34), ('12x', 34), ('-84', 34), ('tyreke', 34), ('brisker', 34), ('wilbert', 34), ('rodney', 34), ('gsw', 34), ('pinncacle', 34), ('reaves', 34), ('3672', 34), ('elementary', 34), ('p5', 34), ('ss1416', 34), ('elliot', 34), ('rulers', 34), ('ss8852', 34), ('ager', 34), ('-bsm', 34), ('ss9197', 34), ('ss1426', 34), ('progression', 34), ('1324', 34), ('ss9948', 34), ('2719', 34), ('hof-', 34), ('ss9913', 34), ('ss9783', 34), ('lavar', 34), ('nj79e', 34), ('rja-j', 34), ('ss1455', 34), ('okobe', 34), ('fc65', 34), ('ss9261', 34), ('nmmt+', 34), ('centers', 34), ('attention', 34), ('micahel', 34), ('ss1123', 34), ('115999', 34), ('n1550', 34), ('ss9666', 34), ('lb1', 34), ('h4', 34), ('fc2005', 34), ('bracketology', 34), ('hammons', 33), ('gabe', 33), ('jarnell', 33), ('leon', 33), ('volts', 33), ('92-93', 33), ('fotg', 33), ('doug', 33), ('owens', 33), ('jerseu', 33), ('bag', 33), ('n3168', 33), ('money', 33), ('boykin', 33), ('kelsey', 33), ('summer', 33), ('fc2157', 33), ('095199', 33), ('clarence', 33), ('perforated', 33), ('9199', 33), ('wu3244', 33), ('punch', 33), ('varejao', 33), ('sims', 33), ('landry', 33), ('gill', 33), ('1993', 33), ('chairman', 33), ('3933', 33), ('0949', 33), ('me', 33), ('curtain', 33), ('spirits', 33), ('nickel', 33), ('electrix', 33), ('collison', 33), ('2575', 33), ('vtg', 33), ('dml', 33), ('awe', 33), ('fc3493', 33), ('ss1184', 33), ('ss1165', 33), ('director', 33), ('are', 33), ('1375', 33), ('1935', 33), ('dyland', 33), ('rodgers', 33), ('mary', 33), ('n3390', 33), ('lieberman', 33), ('fc876', 33), ('eye', 33), ('beard', 33), ('2775', 33), ('dark', 33), ('1799', 33), ('pulsars', 33), ('bugs', 33), ('1958', 33), ('amethyst', 33), ('sc1918', 33), ('3950', 33), ('fd9430', 33), ('wu3308', 33), ('original', 33), ('ss9921', 33), ('ss9926', 33), ('n1561', 33), ('ss9785', 33), ('f3', 33), ('uda', 33), ('nk79e', 33), ('some', 33), ('figures', 33), ('favors', 33), ('ss9412', 33), ('84681', 33), ('divisions', 33), ('aubrey', 33), ('var', 33), ('fc948', 33), ('mj1', 33), ('auto', 33), ('fc1013', 33), ('ss9152', 33), ('backround', 33), ('0008292955', 33), ('n1764', 33), ('ss9668', 33), ('43859136', 33), (\"'02\", 33), ('n1101', 33), ('curtis', 32), ('vic', 32), ('orton', 32), ('hernandez', 32), ('silas', 32), ('wizard', 32), ('celebration', 32), ('911', 32), ('f2', 32), ('310', 32), ('1875', 32), ('dak', 32), ('prescott', 32), ('return', 32), ('baseline', 32), ('targets', 32), ('hustlers', 32), ('rashad', 32), ('tempo', 32), ('order', 32), ('roshown', 32), ('mcleod', 32), ('chamique', 32), ('holdsclaw', 32), ('=', 32), ('intimidators', 32), ('leaps', 32), ('boeheim', 32), ('wu3702', 32), ('kg2', 32), ('r4', 32), ('01-02', 32), ('aikman', 32), ('beyond', 32), ('6099', 32), ('roland', 32), ('45243869', 32), ('traded', 32), ('artistry', 32), ('fc1697', 32), ('ss1503', 32), ('wu3559', 32), ('ss1423', 32), ('freshamn', 32), ('3649', 32), ('3949', 32), ('n1714', 32), ('gretzky', 32), ('6823', 32), ('ihsa', 32), ('chase', 32), ('brantley', 32), ('smart', 32), ('ss9920', 32), ('n2658', 32), ('nj3e', 32), ('pirzms', 32), ('fc1640', 32), ('449', 32), ('8599', 32), ('2796', 32), ('ss9737', 32), ('editon', 32), ('ss8777', 32), ('excellent-', 32), ('n1476', 32), ('fc2016', 32), ('4268', 32), ('ss9238', 32), ('fc816', 32), ('n1102', 32), ('fc2012', 32), ('sc1804', 32), ('n1335', 32), ('066299', 31), ('ishmael', 31), ('rajon', 31), ('dewan', 31), ('harvey', 31), ('baskeball', 31), ('3674', 31), ('6975', 31), ('hilton', 31), ('glenn', 31), ('7805', 31), ('blasts', 31), ('jazmine', 31), ('bilia', 31), ('inducted', 31), ('craftwork', 31), ('metcalf', 31), ('moss', 31), ('plyr', 31), ('soarers', 31), ('nw-j', 31), ('cas', 31), ('1970-71', 31), ('ss9609', 31), ('ss9615', 31), ('6144', 31), ('identifying', 31), ('reflectors', 31), ('wu3262', 31), ('kedrick', 31), ('schoolnew', 31), ('n3395', 31), ('coaches', 31), ('tamika', 31), ('summers', 31), ('aleksandar', 31), ('bogut', 31), ('intro', 31), ('ductions', 31), ('ahibald', 31), ('rollins', 31), ('n3263', 31), ('n6', 31), ('15+', 31), ('carrier', 31), ('251799', 31), ('antwan', 31), ('month', 31), ('leron', 31), ('merchante', 31), ('1:54', 31), ('j.r.', 31), ('aleksej', 31), ('90-91', 31), ('fc1079', 31), ('wu3797', 31), ('ss9439', 31), ('ss9444', 31), ('schick', 31), ('mail-in', 31), ('watson', 31), ('vs.', 31), ('kidd-gilchrist', 31), ('sparrow', 31), ('nscc', 31), ('samples', 31), ('x-change', 31), ('yolanda', 31), ('griffith', 31), ('millenial', 31), ('wu3836', 31), ('b1', 31), ('description', 31), ('ss1459', 31), ('ss9764', 31), ('stitching', 31), ('sp1', 31), ('80594', 31), ('45243865', 31), ('quality', 31), ('2549', 31), ('479', 31), ('ss9010', 31), ('617', 31), ('n1975', 31), ('0006753463', 31), ('n1568', 31), ('ss9649', 31), ('ss9250', 31), ('ss9357', 31), ('4275', 31), ('sc1800', 31), ('q', 30), ('n959', 30), ('mcelroy', 30), ('ss9105', 30), ('moses', 30), ('finale', 30), ('baylor', 30), ('sc1661', 30), ('megan', 30), ('adrian', 30), ('randall', 30), ('ridley', 30), ('emeka', 30), ('adam', 30), ('headliner', 30), ('official', 30), ('ss8959', 30), ('wu2627', 30), ('121149', 30), ('one-two', 30), ('jewell', 30), ('loyd', 30), ('n3396', 30), ('3549', 30), ('odell', 30), ('beckham', 30), ('599', 30), ('jacobsen', 30), ('title', 30), ('alize', 30), ('arike', 30), ('ogunbowale', 30), ('peterson', 30), ('n2024', 30), ('skywalkers', 30), ('1435', 30), ('brist', 30), ('turkoglu', 30), ('garoppolo', 30), ('45959595', 30), ('fc698', 30), ('sg-n', 30), ('geese', 30), ('slogan', 30), ('shannon', 30), ('notations', 30), ('ss9949', 30), ('hartley', 30), ('california', 30), ('dreamin', 30), ('rogers', 30), ('shelton', 30), ('lemieux', 30), ('ss9564', 30), ('finds', 30), ('fc273', 30), ('ss9734', 30), ('nix', 30), ('n1711', 30), ('45459239', 30), ('lorenzo', 30), ('prominent', 30), ('-05', 30), ('tennessee', 30), ('volunteers', 30), ('rings', 30), ('wu3137', 30), ('fd9166', 30), ('auerbach', 30), ('recollections', 30), ('nbawesome', 30), ('nc', 30), ('9697', 30), ('n3167', 30), ('ss9784', 30), ('ss9589', 30), ('mel', 30), ('ss1478', 30), ('663', 30), ('n1982', 30), ('wu3847', 30), ('46205359', 30), ('70100', 30), ('lynette', 30), ('woodard', 30), ('fc3937', 30), ('n3289', 30), ('chiney', 30), ('.510', 30), ('ss9363', 30), ('metals', 30), ('7x', 30), ('n202', 30), ('ss9146', 30), ('ss9663', 30), ('n1551', 30), ('ss9659', 30), ('rp-j', 30), ('ss9722', 30), ('fc1040', 30), ('6827', 30), ('mmaculate', 30), ('9.8', 29), ('looks', 29), ('bird\\\\', 29), ('d789', 29), ('fc1802', 29), ('cletics', 29), ('kalani', 29), ('0506', 29), ('188299', 29), ('00199', 29), ('0820', 29), ('0699', 29), ('quickstrike', 29), ('oakley', 29), ('d665', 29), ('elgin', 29), ('gl1', 29), ('ex-ex', 29), ('1549', 29), ('8699', 29), ('n3172', 29), ('mahogany', 29), ('n1367', 29), ('sc1774', 29), ('gene', 29), ('milk', 29), ('bing', 29), ('abdur', 29), ('rahim', 29), ('dewanna', 29), ('bonner', 29), ('dotson', 29), ('seven', 29), ('places', 29), ('athletes', 29), ('reynolds', 29), ('markel', 29), ('ss1380', 29), ('6807', 29), ('boucher', 29), ('thurmond', 29), ('7572', 29), ('69100', 29), ('sportsfest', 29), ('miniatures', 29), ('risings', 29), ('uniforms', 29), ('bounds', 29), ('gs-s', 29), ('fc3669', 29), ('battlements', 29), ('7299', 29), ('demic', 29), ('1235', 29), ('kro-max', 29), ('fc328', 29), ('sc1736', 29), ('ss1604', 29), ('3670', 29), ('gilgeous-alexander', 29), ('macura', 29), ('ss1417', 29), ('109149', 29), ('1-396', 29), ('characteristics', 29), ('ss9548', 29), ('fc272', 29), ('c3', 29), ('diggins', 29), ('uncased', 29), ('1523', 29), ('rally', 29), ('udx', 29), ('ss8913', 29), ('bulldogs', 29), ('/warner', 29), ('ss9193', 29), ('chalmers', 29), ('ss115', 29), ('vegas', 29), ('ulis', 29), ('an', 29), ('ss1090', 29), ('jarrell', 29), ('imports', 29), ('45105649', 29), ('stach', 29), ('wu3168', 29), ('0523', 29), ('3999', 29), ('4261', 29), ('dekker', 29), ('ss9388', 29), ('ss9413', 29), ('2240', 29), ('destined', 29), ('ss9565', 29), ('guns', 29), ('fc1472', 29), ('active', 29), ('gorman', 29), ('ss9912', 29), ('ss9938', 29), ('ss9733', 29), ('ss9646', 29), ('ss9657', 29), ('skybx', 29), ('ss9532', 29), ('ibm', 29), ('earvin', 29), ('n1540', 29), ('unripped', 28), ('815', 28), ('mvo', 28), ('4360', 28), ('archetypal', 28), ('hart', 28), ('ollie', 28), ('wu3719', 28), ('wu3614', 28), ('jenny', 28), ('co', 28), ('wu3560', 28), ('wu3523', 28), ('greenwood', 28), ('tandem', 28), ('were', 28), ('4349', 28), ('newlin', 28), ('pm-6', 28), ('214', 28), ('n1279', 28), ('sherell', 28), ('4399', 28), ('oliver', 28), ('latrell', 28), ('alfonzo', 28), ('mckinnie', 28), ('mcglocklin', 28), ('243', 28), ('sp2', 28), ('fc2083', 28), ('lenny', 28), ('440', 28), ('mullin', 28), ('d859', 28), ('experience', 28), ('leaguers', 28), ('1-110', 28), ('pistol', 28), ('cd', 28), ('ss9443', 28), ('ss9441', 28), ('schoolyard', 28), ('retrospect', 28), ('del', 28), ('double-double', 28), ('0102', 28), ('wu3535', 28), ('45243872', 28), ('45243867', 28), ('taco', 28), ('sc1748', 28), ('ss1500', 28), ('n3333', 28), ('bohm', 28), ('3668', 28), ('3345', 28), ('influencers', 28), ('alana', 28), ('maledon', 28), ('etched', 28), ('celebrate', 28), ('meteor', 28), ('1049', 28), ('ss9568', 28), ('wu3047', 28), ('n1208', 28), ('wu3877', 28), ('fc267', 28), ('fc274', 28), ('silv', 28), ('lustrous', 28), ('2099', 28), ('boys', 28), ('n2348', 28), ('6679', 28), ('sprite', 28), ('reverse', 28), ('lc1', 28), ('143299', 28), ('bookmarks', 28), ('1673653', 28), ('n2084', 28), ('ninety', 28), ('n2002', 28), ('ss9391', 28), ('wedges', 28), ('angelo', 28), ('sharman', 28), ('n1786', 28), ('ss1458', 28), ('ss1457', 28), ('ss9361', 28), ('ss9862', 28), ('impel', 28), ('olympicards', 28), ('ss9731', 28), ('022', 28), ('ss970', 28), ('ss9710', 28), ('ss9664', 28), ('ss9658', 28), ('4263', 28), ('fc1078', 28), ('fc2308', 28), ('wu3746', 28), ('adell', 28), ('pop7', 28), ('lion', 27), ('d781', 27), ('inked', 27), ('ss9080', 27), ('harrellson', 27), ('slamland', 27), ('2275', 27), ('certiied', 27), ('anaheim', 27), ('recall', 27), ('c4', 27), ('1984', 27), ('luiminous', 27), ('pressey', 27), ('matching', 27), ('third', 27), ('markkanen', 27), ('n1356', 27), ('n1254', 27), ('haluska', 27), ('malik', 27), ('berry', 27), ('charlotte', 27), ('body', 27), ('unbreakable', 27), ('raul', 27), ('neto', 27), ('armond', 27), ('584', 27), ('bogdanovic', 27), ('284', 27), ('automatic', 27), ('-jem', 27), ('n3399', 27), ('lottery', 27), ('place', 27), ('store', 27), ('thats', 27), ('4849', 27), ('sizzling', 27), ('powell', 27), ('ebanks', 27), ('imagine', 27), ('knicks', 27), ('letters', 27), ('digital', 27), ('nuggetes', 27), ('fc2011', 27), ('asia', 27), ('durr', 27), ('malcolm', 27), ('upside', 27), ('ss1388', 27), ('notre', 27), ('dame', 27), ('horry', 27), ('terrific', 27), ('panani', 27), ('nikoloz', 27), ('tskitishvili', 27), ('envelopes', 27), ('ss1277', 27), ('1-440', 27), ('photographer', 27), ('dr781', 27), ('pregstige', 27), ('lp', 27), ('1360', 27), ('ruler', 27), ('289299', 27), ('327', 27), ('sc1722', 27), ('4799', 27), ('182199', 27), ('ss109', 27), ('withey', 27), ('ss1420', 27), ('7979', 27), ('johnson-odom', 27), ('haslem', 27), ('n1173', 27), ('melchionni', 27), ('spx', 27), ('fd9837', 27), ('124199', 27), ('n1728', 27), ('snap', 27), ('n2755', 27), (',500', 27), ('23x', 27), ('cases', 27), ('001149', 27), ('6999', 27), ('colletion', 27), ('8563', 27), ('introduction', 27), ('bailey', 27), ('ss9614', 27), ('ss9616', 27), ('viewpoints', 27), ('fc1786', 27), ('snow', 27), ('wu3851', 27), ('bills', 27), ('antoino', 27), ('mithcell', 27), ('sunbeam', 27), ('skill', 27), ('d711', 27), ('fc4860', 27), ('ss1436', 27), ('0607', 27), ('centurions', 27), ('seizing', 27), ('crowning', 27), ('n1571', 27), ('n1563', 27), ('ss9653', 27), ('44562167', 27), ('6829', 27), ('ss118', 27), ('030179', 27), ('n972', 27), ('ss9717', 27), ('ac4a', 27), ('achieve', 27), ('3542', 27), ('erick', 26), ('warrick', 26), ('510', 26), ('wu3564', 26), ('ellbound', 26), ('ish', 26), ('049199', 26), ('authenic', 26), ('45959589', 26), ('411499', 26), ('sc1663', 26), ('jasmine', 26), ('corzine', 26), ('isabella', 26), ('111149', 26), ('n1371', 26), ('truth', 26), ('preparation', 26), ('093149', 26), ('nk6e', 26), ('348350', 26), ('ss8897', 26), ('0320', 26), ('garland', 26), ('nsa', 26), ('251-449', 26), ('patterson', 26), ('ultimates', 26), ('airzin', 26), ('hutchinson', 26), ('volcanic', 26), ('fc2033', 26), ('connie', 26), ('keepers', 26), ('warmup', 26), ('ff3', 26), ('corporate', 26), ('altitude', 26), ('sculpter', 26), ('br', 26), ('porcelain', 26), ('ss9426', 26), ('facsimilie', 26), ('bat', 26), ('ss1124', 26), ('sagaba', 26), ('konate', 26), ('1212', 26), ('so', 26), ('selections', 26), ('360', 26), ('jokg-aj', 26), ('260299', 26), ('wu3289', 26), ('fathers', 26), ('ss1543', 26), ('ss1619', 26), ('ss1542', 26), ('3673', 26), ('buckets', 26), ('014125', 26), ('colts', 26), ('fd9783', 26), ('n1606', 26), ('qaud', 26), ('adimral', 26), ('ax8723', 26), ('ss1424', 26), ('kim', 26), ('nd-j', 26), ('warner', 26), ('1520', 26), ('jerey', 26), ('y3k', 26), ('4975', 26), ('ralph', 26), ('n2721', 26), ('1876', 26), ('barret', 26), ('ss8711', 26), ('dunkvision', 26), ('5575', 26), ('sc1794', 26), ('redmeption', 26), ('ss9563', 26), ('mystiue', 26), ('carl', 26), ('bgs', 26), ('4240', 26), ('wu3866', 26), ('sc1737', 26), ('7899', 26), ('personaliz', 26), ('mvp23', 26), ('n1438', 26), ('ss9858', 26), ('118-230', 26), ('blakeney', 26), ('athlee', 26), ('n2813', 26), ('rank', 26), ('ss9735', 26), ('n1605', 26), ('wu3826', 26), ('41611145', 26), ('conv', 26), ('wu3729', 26), ('hull', 26), ('fc1066', 26), ('030125', 26), ('volocity', 26), ('ax8756', 26), ('lunch', 26), ('8567', 26), ('-08', 26), ('ss9692', 26), ('n2036', 26), ('stickums', 25), ('n941', 25), ('myles', 25), ('744', 25), ('jeremy', 25), ('biographics', 25), ('ss9196', 25), ('ss9173', 25), ('foots', 25), ('bernard', 25), ('1829', 25), ('wu3565', 25), ('172199', 25), ('21st', 25), ('americana', 25), ('johnathan', 25), ('irv', 25), ('n1376', 25), ('samani', 25), ('casey', 25), (\"'97\", 25), ('anini', 25), ('mission', 25), ('accomplished', 25), ('portions', 25), ('ss8968', 25), ('wu3252', 25), ('wu3253', 25), ('korleone', 25), ('4a', 25), ('mullins', 25), ('concouse', 25), ('garrett', 25), ('twine', 25), ('przm', 25), ('lord', 25), ('sharpshooters', 25), ('brnadon', 25), ('fernandez', 25), ('ss9463', 25), ('ss-y', 25), ('natalie', 25), ('a1', 25), ('multiple', 25), ('021199', 25), ('damion', 25), ('ss9438', 25), ('devels', 25), ('n736', 25), ('hook', 25), ('-00', 25), ('ss1164', 25), ('lawless', 25), (\"'92\", 25), ('maye', 25), ('covers', 25), ('oshae', 25), ('stevens', 25), ('harangody', 25), ('ss1615', 25), ('-2', 25), ('alec', 25), ('2016', 25), ('ss1397', 25), ('crwon', 25), ('rams', 25), ('9736', 25), ('shaqullie', 25), ('wu3878', 25), ('n3164', 25), ('fc4251', 25), ('ss8900', 25), ('gane', 25), ('650', 25), ('d.j', 25), ('te', 25), ('fc3932', 25), ('ss9854', 25), ('1oz', 25), ('nk30e', 25), ('wu3287', 25), ('wu3343', 25), ('ss9940', 25), ('monster', 25), ('sc1707', 25), ('j.j.', 25), ('rivalry', 25), ('threes', 25), ('1-5', 25), ('unsractched', 25), ('bubbles', 25), ('theus', 25), ('diecut', 25), ('4262', 25), ('47479285', 25), ('ss9888', 25), ('n2571', 25), ('ss9442', 25), ('wu3863', 25), ('crack', 25), ('-5', 25), ('2950', 25), ('principal', 25), ('n348', 25), ('n340', 25), ('ss1460', 25), ('45684402', 25), ('wu3848', 25), ('n2627', 25), ('ss9924', 25), ('barkleu', 25), ('068100', 25), ('wu3369', 25), ('buckner', 25), ('n2331', 25), ('ss9247', 25), ('slver', 25), ('ss9732', 25), ('ss9695', 25), ('nj37b', 25), ('laphonso', 25), ('ss9669', 25), ('0130', 25), ('n1471', 25), ('fd9547', 25), ('n940', 25), ('fc1068', 25), ('ss9228', 25), ('005149', 25), ('pacer', 25), ('sc1796', 25), ('fc2153', 25), ('mca', 25), ('mateen', 24), ('cleaves', 24), ('luis', 24), ('strikes', 24), ('d779', 24), ('3944', 24), ('n945', 24), ('tyshawn', 24), ('ss9038', 24), ('hansen', 24), ('darryl', 24), ('mcginnis', 24), ('91-91', 24), ('wu3833', 24), ('wu3837', 24), ('n443', 24), ('n439', 24), ('291', 24), ('motley', 24), ('sc1792', 24), ('fc2137', 24), ('3349', 24), ('fc2154', 24), ('ss8967', 24), ('peters', 24), ('mccray', 24), ('wu2973', 24), ('wu3233', 24), ('wu3256', 24), ('henson', 24), ('t15c', 24), ('goat', 24), ('porzingas', 24), ('daquan', 24), ('reeves', 24), ('42751604', 24), ('xv', 24), ('91-92', 24), ('worm', 24), ('jacket', 24), ('joseph', 24), ('collect-a-books', 24), ('d847', 24), ('mookie', 24), ('bolomboy', 24), ('n1129', 24), ('fc2047', 24), ('ss9533', 24), ('saben', 24), ('nnovative', 24), ('02-03', 24), ('unpeeled', 24), ('csa', 24), ('n262', 24), ('n255', 24), ('n724', 24), ('n740', 24), ('whiz', 24), ('\\\\national', 24), ('ss9944', 24), ('cardinals', 24), ('doc', 24), ('ss1126', 24), ('2250', 24), ('masterstrokes', 24), ('preston', 24), ('seats', 24), ('ss1389', 24), ('lance', 24), ('0313', 24), ('milic', 24), ('fledgling', 24), ('swirloroma', 24), ('8299', 24), ('n1762', 24), ('kristine', 24), ('anigwe', 24), ('tifacts', 24), ('oklahoma', 24), ('floridians', 24), ('wu3312', 24), ('5765', 24), ('dwellers', 24), ('firm', 24), ('nj8d', 24), ('ss9916', 24), ('n2567', 24), ('cooper-dyke', 24), ('ss9780', 24), ('nk82e', 24), ('wu3192', 24), ('fl-15', 24), ('golf', 24), ('ss9759', 24), ('ss9746', 24), ('n1986', 24), ('robbie', 24), ('hummel', 24), ('6599', 24), ('n573', 24), ('ss9411', 24), ('fc1652', 24), ('sc1914', 24), ('lof', 24), ('45243864', 24), ('095249', 24), ('encas', 24), ('fc4294', 24), ('45684399', 24), ('ss9386', 24), ('wu3850', 24), ('ymb', 24), ('9799', 24), ('th', 24), ('n2568', 24), ('ss9265', 24), ('bar', 24), ('fc1059', 24), ('n1911', 24), ('n191', 24), ('181350', 24), ('ss9806', 24), ('fc931', 24), ('dion', 24), ('n1488', 24), ('n1472', 24), ('n1477', 24), ('ss9645', 24), ('k9882', 24), ('sc1783', 24), ('fc1499', 24), ('n3090', 24), ('pre-rookie', 24), ('1-23', 24), ('true+', 24), ('selection', 24), ('sc1859', 24), ('jabari', 23), ('lagarde', 23), ('6149', 23), ('shout', 23), ('outs', 23), ('4407', 23), ('historically', 23), ('accurate', 23), ('mail', 23), ('/nate', 23), ('sc1710', 23), ('shumate', 23), ('kabbom', 23), ('baron', 23), ('2005-06', 23), ('merv', 23), ('0499', 23), ('m22', 23), ('cris', 23), ('hockenson', 23), ('ss9605', 23), ('n1283', 23), ('remembers', 23), ('016199', 23), ('wu3238', 23), ('jdn38b', 23), ('photographers', 23), ('rotation', 23), ('candidates', 23), ('frontiers', 23), ('photograph', 23), ('mjf4', 23), ('haston', 23), ('looney', 23), ('rhythm', 23), ('frye', 23), ('d879', 23), ('favorite', 23), ('n119', 23), ('ss9358', 23), ('10-11', 23), ('1065', 23), ('1-500', 23), ('counterparts', 23), ('saddio', 23), ('ra', 23), ('ra2', 23), ('collect-a-card', 23), ('wu3794', 23), ('/sealy/koncak/johnson', 23), ('d782', 23), ('snyder', 23), ('n2956', 23), ('n1768', 23), ('2299', 23), ('4950', 23), ('gugliotta', 23), ('n3006', 23), ('am', 23), ('opti-free', 23), ('-ca', 23), ('45684403', 23), ('dk', 23), ('trip', 23), ('more', 23), ('3671', 23), ('fc943', 23), ('stevenson', 23), ('ss1422', 23), ('slavko', 23), ('vranes', 23), ('pace', 23), ('ss9566', 23), ('wu3265', 23), ('chara', 23), ('46948041', 23), ('dowtown', 23), ('kenrich', 23), ('-gan', 23), ('wu3445', 23), ('turning', 23), ('jeelani', 23), ('ectacular', 23), ('webb', 23), ('arthur', 23), ('mengelt', 23), ('7085', 23), ('n2351', 23), ('racers', 23), ('ntilikina', 23), ('vladimir', 23), ('guerrero', 23), ('wu3114', 23), ('6685', 23), ('fd8930', 23), ('shamorie', 23), ('ponds', 23), ('ss1038', 23), ('4264', 23), ('m1-m20', 23), ('1880', 23), ('authen-kicks', 23), ('019149', 23), ('ss9730', 23), ('ss8714', 23), ('ss912', 23), ('2899', 23), ('fc2753', 23), ('thybule', 23), ('scootie', 23), ('wu3852', 23), ('pls', 23), ('3pt', 23), ('ss9312', 23), ('peck', 23), ('699', 23), ('ss1431', 23), ('ss9387', 23), ('wu3562', 23), ('170649', 23), ('wu3865', 23), ('memories', 23), ('fc1465', 23), ('japan', 23), ('mj9', 23), ('fc2191', 23), ('ss9856', 23), ('n2279', 23), ('03012999', 23), ('skylights', 23), ('uc', 23), ('ss9310', 23), ('100299', 23), ('fc707', 23), ('wardrobe', 23), ('ss9644', 23), ('wu3813', 23), ('mjs', 23), ('chip', 23), ('burrow', 23), ('ss9670', 23), ('ss9665', 23), ('n1560', 23), ('075129', 23), ('n1470', 23), ('ss965', 23), ('ss878', 23), ('n835', 23), ('n445', 23), ('ss9249', 23), ('g266', 23), ('4258', 23), ('ss8972', 23), ('wu3513', 23), ('sc1808', 23), ('caron', 22), ('rarefied', 22), ('ceballos', 22), ('pictures', 22), ('schnitker', 22), ('2-on-2', 22), ('unique', 22), ('ss9029', 22), ('034199', 22), ('mismatched', 22), ('aguirre', 22), ('purple/white', 22), ('hawes', 22), ('inaugural', 22), ('3266611', 22), ('anchors', 22), ('hodge', 22), ('steals', 22), ('kelvin', 22), ('11271999', 22), ('n1341', 22), ('eagles', 22), ('ss9588', 22), ('rashard', 22), ('ss8975', 22), ('scren', 22), ('hang', 22), ('genes', 22), ('metta', 22), ('peace', 22), ('loren', 22), ('-98', 22), ('booth', 22), ('n3368', 22), ('lindell', 22), ('wigginton', 22), ('radojevic', 22), ('xvi', 22), ('redwood', 22), ('upstarts', 22), ('ss399', 22), ('mccowan', 22), ('darell', 22), ('danie', 22), ('fc2010', 22), ('n1089', 22), ('n1085', 22), ('462', 22), ('ss9359', 22), ('263299', 22), ('re', 22), ('lionel', 22), ('mcrae', 22), ('trout', 22), ('awaiting', 22), ('v', 22), ('dr796', 22), ('n256', 22), ('7099', 22), ('retires', 22), ('wedman', 22), ('n2955', 22), ('logan', 22), ('45243868', 22), ('ss1610', 22), ('ss1499', 22), ('wu3515', 22), ('wu3521', 22), ('n081', 22), ('jahlil', 22), ('emmitt', 22), ('-pg', 22), ('saddiq', 22), ('ss1276', 22), ('poquette', 22), ('90s', 22), ('n1239', 22), ('wu3858', 22), ('ross', 22), ('fc280', 22), ('er-j', 22), ('wildcat', 22), ('ss8917', 22), ('acc', 22), ('rebounding', 22), ('d692', 22), ('wu3623', 22), ('nk29e', 22), ('wu3149', 22), ('wu3117', 22), ('fd8975', 22), ('n2622', 22), ('ss9946', 22), ('bronson', 22), ('koenig', 22), ('1878', 22), ('ss97', 22), ('ss9919', 22), ('n3166', 22), ('05751899', 22), ('ss9788', 22), ('ss8731', 22), ('paschall', 22), ('n1966', 22), ('ohio', 22), ('n2626', 22), ('wins', 22), ('3475', 22), ('n2417', 22), ('n2329', 22), ('nurkic', 22), ('poythress', 22), ('shur-fresh', 22), ('wu3643', 22), ('ss1456', 22), ('pavlovic', 22), ('ss9419', 22), ('ss9425', 22), ('ss9417', 22), ('portfolio', 22), ('fc370', 22), ('sprewell', 22), ('ss9760', 22), ('596', 22), ('ss9334', 22), ('110199', 22), ('corrected', 22), ('n1542', 22), ('n1481', 22), ('ss9628', 22), ('fd9161', 22), ('77350', 22), ('4256', 22), ('ss9087', 22), ('n826', 22), ('m-mj', 22), ('fc924', 22), ('guarenteed', 22), ('purdue', 22), ('4259', 22), ('6819', 22), ('yaroslav', 21), ('korolev', 21), ('slice', 21), ('sc1746', 21), ('victories', 21), ('april', 21), ('wu3671', 21), ('barber', 21), ('wu3812', 21), ('sc1662', 21), ('sc1705', 21), ('675', 21), ('redskins', 21), ('afflalo', 21), ('ss9583', 21), ('refined', 21), ('jrue', 21), ('donavan', 21), ('weaver', 21), ('ss8893', 21), ('wu3232', 21), ('cassell', 21), ('brent', 21), ('id', 21), ('pre', 21), ('n3366', 21), ('loge', 21), ('donnie', 21), ('boxes', 21), ('n499', 21), ('flasback', 21), ('544', 21), ('d880', 21), ('donald', 21), ('teaira', 21), ('62100', 21), ('ss9519', 21), ('demar', 21), ('6808', 21), ('harrington', 21), ('n3228', 21), ('redd', 21), ('town', 21), ('person', 21), ('161199', 21), ('s-', 21), ('fc1729', 21), ('corners', 21), ('n712', 21), ('fc1827', 21), ('lucas', 21), ('twardzik', 21), ('4949', 21), ('7379', 21), ('skye-xl', 21), ('ss72', 21), ('craked', 21), ('robbins', 21), ('coleman', 21), ('goukas', 21), ('45243875', 21), ('hunt', 21), ('sc1724', 21), ('147149', 21), ('1320', 21), ('contneders', 21), ('1124', 21), ('ss1598', 21), ('ss1517', 21), ('chones', 21), ('valentines', 21), ('wu3480', 21), ('580', 21), ('+270', 21), ('wolverines', 21), ('fc4001', 21), ('tillie', 21), ('divincenzo', 21), ('might', 21), ('blanks', 21), ('242', 21), ('andrae', 21), ('warming', 21), ('fc268', 21), ('sene', 21), ('branden', 21), ('dawson', 21), ('rv', 21), ('mixed', 21), ('sheppard', 21), ('1129', 21), ('u', 21), ('wu34', 21), ('ej', 21), ('kitija', 21), ('laksa', 21), ('n3216', 21), ('sc1837', 21), ('mikan', 21), ('zarko', 21), ('cabarkapa', 21), ('vlade', 21), ('sc1675', 21), ('sponsor', 21), ('ss9937', 21), ('7999', 21), ('1749', 21), ('0412', 21), ('fc2763', 21), ('fc2259', 21), ('donurss', 21), ('christie', 21), ('brinkley', 21), ('ss9787', 21), ('sharpe', 21), ('ss8713', 21), ('wu3169', 21), ('damaian', 21), ('1879', 21), ('battle', 21), ('-12', 21), ('sc1911', 21), ('stuckey', 21), ('n2035', 21), ('yarbrough', 21), ('ss9475', 21), ('shaquile', 21), ('38149', 21), ('n1710', 21), ('brown//brewer', 21), ('d672', 21), ('fc4859', 21), ('4278', 21), ('wu3857', 21), ('wu3768', 21), ('0220', 21), ('wu3860', 21), ('d848', 21), ('7275', 21), ('1795', 21), ('webster', 21), ('44656620', 21), ('wu3798', 21), ('8566', 21), ('985', 21), ('waiters', 21), ('hornets', 21), ('/game', 21), ('collezioni', 21), ('firenze', 21), ('campioni', 21), ('di', 21), ('futuro', 21), ('6817', 21), ('4246', 21), ('n1976', 21), ('excel', 21), ('n2544', 21), ('fc1882', 21), ('signing', 20), ('printer', 20), ('surface', 20), ('n913', 20), ('huestis', 20), ('samaki', 20), ('powerful', 20), ('kendrick', 20), ('ss919', 20), ('wu3632', 20), ('wu3626', 20), ('wu3711', 20), ('poor', 20), ('taj', 20), ('strickland', 20), ('442', 20), ('being', 20), ('slu', 20), ('bratz', 20), ('giddens', 20), ('1a', 20), ('lindsey', 20), ('sc1806', 20), ('sc179', 20), ('sc1782', 20), ('hudson', 20), ('jon', 20), ('defvonte', 20), ('ss8899', 20), ('wu3226', 20), ('hast', 20), ('beck', 20), ('alan', 20), ('dearica', 20), ('hamby', 20), ('carlesimo', 20), ('trevon', 20), ('xvii', 20), ('plexi-glass', 20), ('1149', 20), ('mgs', 20), ('burks', 20), ('willis', 20), ('roadmap', 20), (\"'re\", 20), ('oden', 20), ('ss1278', 20), ('haskins', 20), ('vandersloot4', 20), ('grh', 20), ('ceck', 20), ('wu3762', 20), ('n264', 20), (\"'90\", 20), ('n3015', 20), ('artistics', 20), ('jarrod', 20), ('uthoff', 20), ('wu3350', 20), ('fanimotion', 20), ('dr827', 20), ('igoudla', 20), ('dalembert', 20), ('82-90', 20), ('1112', 20), ('inkcredible', 20), ('sc1713', 20), ('187299', 20), ('ss1594', 20), ('ss100', 20), ('ss1541', 20), ('notices', 20), ('all-pro', 20), ('cabinet', 20), ('7-pc', 20), ('ss1312', 20), ('cristiano', 20), ('felicio', 20), ('reminiscent', 20), ('possible', 20), ('6822', 20), ('miscut', 20), ('unis', 20), ('s16', 20), ('ss9567', 20), ('wu3873', 20), ('wu3874', 20), ('anni-vince-ry', 20), ('sender', 20), ('fd9750', 20), ('n1719', 20), ('6830', 20), ('eight', 20), ('d683', 20), ('sc1921', 20), ('jdn144e', 20), ('wu3083', 20), ('foye', 20), ('ss1089', 20), ('birmingham', 20), ('698', 20), ('duckworth', 20), ('prining', 20), ('ss8724', 20), ('jdn18e', 20), ('45100', 20), ('n1767', 20), ('1-12', 20), ('wu3861', 20), ('duplicates', 20), ('hyperplaid', 20), ('wu3132', 20), ('-dh', 20), ('dolphins', 20), ('russel', 20), ('respect', 20), ('zalgiris', 20), ('kaunas', 20), ('determined', 20), ('lazar', 20), ('cousey', 20), ('ss9311', 20), ('fc893', 20), ('5075', 20), ('ss9125', 20), ('wu3642', 20), ('ss1435', 20), ('wu3862', 20), ('ss1093', 20), ('523', 20), ('copeland', 20), ('ss9279', 20), ('43667331', 20), ('stay', 20), ('311', 20), ('5275', 20), ('ss9809', 20), ('n2280', 20), ('asoc', 20), ('search', 20), ('sc1706', 20), ('ss9143', 20), ('ss9155', 20), ('wu3621', 20), ('lamaus', 20), ('fournette', 20), ('shae', 20), ('2797', 20), ('ss9943', 20), ('zwl', 20), ('ss9772', 20), ('45959590', 20), ('ss9766', 20), ('ss9660', 20), ('ss9661', 20), ('n1451', 20), ('ss8763', 20), ('4242', 20), ('6821', 20), ('4272', 20), ('/bullet', 20), ('points/bio', 20), ('0708', 20), ('45134723', 20), ('wu3786', 20), ('wu3776', 20), ('zeller', 20), ('ss7', 20), ('n2560', 20), ('ff23', 20), ('ss9651', 20), ('ss1127', 20), ('k9892', 20), ('ss9108', 20), ('4252', 20), ('lacy', 19), ('rafael', 19), ('araujo', 19), ('n714', 19), ('darnell', 19), ('515', 19), ('ss9109', 19), ('presents', 19), ('wu3641', 19), ('wu3636', 19), ('swingman', 19), ('green/lew', 19), ('alcindor/', 19), ('303', 19), ('fc3653', 19), ('patriots', 19), ('gundy', 19), ('maple', 19), ('grier', 19), ('demarco', 19), ('jace', 19), ('sternberger', 19), ('sc1813', 19), ('n1226', 19), ('pm-32', 19), ('ama', 19), ('ss8956', 19), ('ss8888', 19), ('nj16b', 19), ('story', 19), ('mamadi', 19), ('diakite', 19), ('odyssey', 19), ('alvin', 19), ('machine', 19), ('pin-ups', 19), ('1850', 19), ('5364', 19), ('fgs', 19), ('savovic', 19), ('47100', 19), ('n1071', 19), ('476', 19), ('pictured', 19), ('lb2', 19), ('scrubb', 19), ('catch', 19), ('d825', 19), ('145199', 19), ('fc4437', 19), ('milestone', 19), ('dr798', 19), ('wu3795', 19), ('ss9428', 19), ('kaleidoscope', 19), ('lyles', 19), ('rasu', 19), ('streaks', 19), ('-gg', 19), ('schrempf', 19), ('wu3299', 19), ('f6', 19), ('forward', 19), ('hubert', 19), ('ss1545', 19), ('n3391', 19), ('ss9090', 19), ('fc945', 19), ('22299', 19), ('wells', 19), ('1399', 19), ('aleksei', 19), ('tua', 19), ('tagovailoa', 19), ('luther', 19), ('590', 19), ('cauley-stein', 19), ('6818', 19), ('4250', 19), ('n1244', 19), ('thornton', 19), ('benson', 19), ('9716', 19), ('fc52', 19), ('rp-b', 19), ('wu3260', 19), ('wu3267', 19), ('n1726', 19), ('n177', 19), ('wu3422', 19), ('0165', 19), ('ss8914', 19), ('dudley', 19), ('saric', 19), ('227249', 19), ('0823', 19), ('cello', 19), ('calhoun', 19), ('wu3120', 19), ('brooks', 19), ('wooden', 19), ('nop', 19), ('wu3373', 19), ('7806', 19), ('dekou', 19), ('c0', 19), ('deshaun', 19), ('n2717', 19), ('qp', 19), ('zack', 19), ('1990-91', 19), ('n32', 19), ('uni', 19), ('n2075', 19), ('582', 19), ('arizona', 19), ('ss823', 19), ('ss8728', 19), ('wu3174', 19), ('takeit2net', 19), ('-15', 19), ('814', 19), ('ss9768', 19), ('076149', 19), ('hockey', 19), ('member', 19), ('n2319', 19), ('n1517', 19), ('45243841', 19), ('head-to-toe', 19), ('ss9549', 19), ('n1163', 19), ('jdn148e', 19), ('46205360', 19), ('rookieslime', 19), ('tops', 19), ('n1718', 19), ('wu3593', 19), ('ss1453', 19), ('wu3844', 19), ('wu3533', 19), ('button', 19), ('wu3750', 19), ('ss9331', 19), ('ss9106', 19), ('loader', 19), ('miniature', 19), ('keychain', 19), ('ss9011', 19), ('9900', 19), ('d735', 19), ('ss9317', 19), ('n2562', 19), ('ss9767', 19), ('ss9728', 19), ('n1669', 19), ('ss9706', 19), ('ss9154', 19), ('001175', 19), ('ss9650', 19), ('ss9655', 19), ('primepatch', 19), ('ss8772', 19), ('ss8760', 19), ('cowen', 19), ('4149', 19), ('less', 19), ('montrezl', 19), ('-ka', 19), ('n930', 19), ('4.25', 19), ('ounces', 19), ('all-century', 19), ('wu3838', 19), ('1085', 19), ('fc3917', 19), ('1-90', 19), ('47480937', 19), ('boilermakers', 19), ('1980-81', 19), ('2600', 19), ('n1110', 19), ('n1095', 19), ('ss9714', 19), ('n1623', 19), ('pitino', 19), ('n1435', 19), ('sc1866', 19), ('fc2224', 19), ('sc1752', 19), ('518', 19), ('ss9513', 19), ('delgado', 18), ('colin', 18), ('13-14', 18), ('6147', 18), ('198-31-146', 18), ('kupchak', 18), ('fadeaway', 18), ('keye', 18), ('roche', 18), ('45959606', 18), ('165279', 18), ('sc1660', 18), (\"'03\", 18), ('649', 18), ('sneed', 18), ('morning', 18), ('x19', 18), ('golic', 18), ('-65', 18), ('n1377', 18), ('gods', 18), ('raiders', 18), ('victoria', 18), ('witherspoon', 18), ('happy', 18), ('020', 18), ('ss886', 18), ('tillman', 18), ('fields', 18), ('damone', 18), ('wu3831', 18), ('nd-b', 18), ('n044', 18), ('ss8983', 18), ('delonte', 18), ('willoughby', 18), ('pascal', 18), ('all-wnba', 18), ('hakim', 18), ('0575', 18), ('amanda', 18), ('zahui', 18), ('mclaughlin', 18), ('d809', 18), ('d854', 18), ('thrive', 18), ('kia', 18), ('jakarr', 18), ('c5c5', 18), ('middle', 18), ('dr854', 18), ('wu3796', 18), ('materialization', 18), ('n716', 18), ('n782', 18), ('n710', 18), ('fc1805', 18), ('5875', 18), ('n718', 18), ('chet', 18), ('blalock', 18), ('alysha', 18), ('towel', 18), ('bilingual', 18), ('exaclibur', 18), ('rs-j', 18), ('sthock', 18), ('45451457', 18), ('lier//jerry', 18), ('baller', 18), ('arozarena', 18), ('gonsolin', 18), ('this', 18), ('45243855', 18), ('lauri', 18), ('wu3288', 18), ('asbolute', 18), ('fun', 18), ('6831', 18), ('n3318', 18), ('ss1618', 18), ('n3389', 18), ('ss1553', 18), ('n3363', 18), ('genius', 18), ('wu3541', 18), ('wu3486', 18), ('1179', 18), ('alanna', 18), ('duhon', 18), ('-kwl', 18), ('st3', 18), ('2499', 18), ('warriots', 18), ('n978', 18), ('ss9557', 18), ('fc21', 18), ('wu3876', 18), ('hank', 18), ('pope', 18), ('hawaii', 18), ('homage', 18), ('ss8889', 18), ('wu3259', 18), ('169199', 18), ('wu3242', 18), ('wu3236', 18), ('fc262', 18), ('okes', 18), ('ellman', 18), ('ethan', 18), ('fc647', 18), ('45459233', 18), ('fd9799', 18), ('593', 18), ('ss1461', 18), ('ri-bb', 18), ('ss1191', 18), ('convinceing', 18), ('bolden', 18), ('mountain', 18), ('dew', 18), ('wu3148', 18), ('099175', 18), ('fd9428', 18), ('wu3313', 18), ('wu3346', 18), ('freeman', 18), ('n2754', 18), ('u.s.', 18), ('wu3817', 18), ('ringing', 18), ('43673467', 18), ('europe', 18), ('26149', 18), ('lg', 18), ('ss9914', 18), ('lightining', 18), ('fc2546', 18), ('ballstreet', 18), ('dilay', 18), ('pefect', 18), ('smr', 18), ('guide', 18), ('887', 18), ('mcilroy', 18), ('770', 18), ('244250', 18), ('ss9751', 18), ('binnington', 18), ('buckeyes', 18), ('non-foil', 18), ('darnold', 18), ('n805', 18), ('fc1657', 18), ('combinations', 18), ('ss9559', 18), ('7175', 18), ('🔥', 18), ('cme', 18), ('ss9288', 18), ('jonquel', 18), ('06-07', 18), ('fc680', 18), ('d686', 18), ('chiefs', 18), ('ss1433', 18), ('ss1476', 18), ('wu3846', 18), ('wu3867', 18), ('kurt', 18), ('ss997', 18), ('midwest', 18), ('ss9338', 18), ('n1913', 18), ('nn-mt', 18), ('raising', 18), ('6678', 18), ('+82', 18), ('ss9195', 18), ('n1604', 18), ('ss90', 18), ('8565', 18), ('n1974', 18), ('n2016', 18), ('n1998', 18), ('fc2', 18), ('spurts', 18), ('ss9729', 18), ('ss9713', 18), ('ss8901', 18), ('ss9762', 18), ('45105594', 18), ('n1515', 18), ('0111', 18), ('n1465', 18), ('44562164', 18), ('4276', 18), ('6826', 18), ('jacksonvaughtlongleystackhouse', 18), ('d788', 18), ('wu3742', 18), ('4245', 18), ('mjlj4', 18), ('sc1798', 18), ('fc2152', 18), ('ss9727', 18), ('ss9712', 18), ('n1625', 18), ('n1128', 18), ('n973', 18), ('wu3735', 18), ('sc1802', 18), ('ironman', 17), ('9599', 17), ('emblem', 17), ('uncut', 17), ('babbitt', 17), ('ss9085', 17), ('exam', 17), ('donruss/optic/status', 17), ('foreign', 17), ('d669', 17), ('wu3712', 17), ('secret', 17), ('weapons', 17), ('tommy', 17), ('winters', 17), ('mcgee', 17), ('krstic', 17), ('fc252', 17), ('sc1659', 17), ('mikiah', 17), ('harrigan', 17), ('199-396', 17), ('zidek', 17), ('n1263', 17), ('bledsoe', 17), ('jamie', 17), ('samuel', 17), ('sc1805', 17), ('sc1814', 17), ('plum', 17), ('legenry', 17), ('ah9922', 17), ('rory', 17), ('wu3220', 17), ('prisms', 17), ('1170', 17), ('n3397', 17), ('holloway', 17), ('scola', 17), ('close', 17), ('taft', 17), ('display', 17), ('n531', 17), ('haislip', 17), ('1994-95', 17), ('ss1418', 17), ('5363', 17), ('salutes', 17), ('1-32', 17), ('teasures', 17), ('n1066', 17), ('n1134', 17), ('deshields', 17), ('remembering', 17), ('ariza', 17), ('1242', 17), ('kaleido', 17), ('1449', 17), ('ss9276', 17), ('dr811', 17), ('/nba', 17), ('46404090', 17), ('ss9440', 17), ('n734', 17), ('n2947', 17), ('flagship', 17), ('mudiay', 17), ('wu3393', 17), ('watts', 17), ('trent', 17), ('n169', 17), ('jeryl', 17), ('sasser', 17), ('amile', 17), ('rozier', 17), ('posey', 17), ('0215', 17), ('clyder', 17), ('anthonhy', 17), ('saint', 17), ('vincent-saint', 17), ('ss1552', 17), ('n3334', 17), ('ss1504', 17), ('palmer', 17), ('fc932', 17), ('1675', 17), ('starscape', 17), ('project', 17), ('jordan/warner', 17), ('guillermo', 17), ('diaz', 17), ('daily', 17), ('custom', 17), ('261-300', 17), ('2175', 17), ('millier', 17), ('1-36', 17), ('1-13', 17), ('ss9569', 17), ('026200', 17), ('n1242', 17), ('n1149', 17), ('bristow', 17), ('ss8853', 17), ('ss8858', 17), ('ss8856', 17), ('2739', 17), ('stiemsma', 17), ('ss9711', 17), ('mika', 17), ('pearlescent', 17), ('clack', 17), ('wu3417', 17), ('45459235', 17), ('happ', 17), ('45369673', 17), ('breakaway', 17), ('wu3456', 17), ('steven', 17), ('ss1419', 17), ('boynes', 17), ('ss1161', 17), ('series1', 17), ('micael', 17), ('2324', 17), ('n2346', 17), ('sc1890', 17), ('wu3153', 17), ('wu3084', 17), ('wu3127', 17), ('reunion', 17), ('wu3367', 17), ('protector', 17), ('mccoughtry', 17), ('/elvin', 17), ('hayes/lew', 17), ('redepion', 17), ('n2570', 17), ('9099', 17), ('moon', 17), ('cheick', 17), ('n967', 17), ('ss9917', 17), ('45684401', 17), ('tyg', 17), ('autogphed', 17), ('hansbrough', 17), ('ss8685', 17), ('nk16d', 17), ('nj3d', 17), ('0135', 17), ('wu3674', 17), ('ss1430', 17), ('dooling', 17), ('3785', 17), ('ss9420', 17), ('toure', 17), ('saquon', 17), ('ss8765', 17), ('n720', 17), ('3854', 17), ('n2277', 17), ('pick-up', 17), ('assists/rebounds', 17), ('4860', 17), ('28857742', 17), ('wu3582', 17), ('wu3619', 17), ('wu3654', 17), ('ss9202', 17), ('wu3730', 17), ('fc1008', 17), ('wu3492', 17), ('324', 17), ('ss1083', 17), ('ss9941', 17), ('n1570', 17), ('sc1689', 17), ('pin', 17), ('28858268', 17), ('n1564', 17), ('n54', 17), ('n544', 17), ('n1448', 17), ('ss9675', 17), ('204299', 17), ('4255', 17), ('standee', 17), ('ss9863', 17), ('d783', 17), ('n939', 17), ('ss9340', 17), ('7787', 17), ('605', 17), ('gol', 17), ('h1', 17), ('h3', 17), ('h5', 17), ('r3', 17), ('ss9227', 17), ('bojan', 17), ('n2564', 17), ('ss9145', 17), ('ss9939', 17), ('ss9248', 17), ('n0', 17), ('n1430', 17), ('fc939', 17), ('n1375', 17), ('ss9647', 17), ('sc1784', 17), ('n1357', 17), ('versace', 17), ('n1108', 17), ('ss9252', 17), ('rokie', 17), ('ss8916', 17), ('ss8761', 17), ('fd7227', 17), ('denny', 16), ('carnesecca', 16), ('momumental', 16), ('n931', 16), ('ss9089', 16), (\"n'diaye\", 16), ('digs', 16), ('rhodes', 16), ('major', 16), ('608800', 16), ('7792', 16), ('blue/white', 16), ('gross', 16), ('dakota', 16), ('mathias', 16), ('037175', 16), ('994', 16), ('witten', 16), ('mattison', 16), ('sc1807', 16), ('413799', 16), ('lorenzen', 16), ('ex000', 16), ('wu3155', 16), ('elden', 16), ('scooter', 16), ('health', 16), ('sidle', 16), ('burleson', 16), ('rewell', 16), ('unsigned', 16), ('formidable', 16), ('twenty', 16), ('nine', 16), ('red/green', 16), ('d07', 16), ('d821', 16), ('iluusions', 16), ('capital', 16), ('mahaffey', 16), ('7685242', 16), ('n1069', 16), ('ss9512', 16), ('jennifer', 16), ('6575', 16), ('first-team', 16), ('thrillinium', 16), ('3-', 16), ('sheldon', 16), ('january', 16), ('respert', 16), ('izm', 16), ('175249', 16), ('expressions', 16), ('kngs', 16), ('pant', 16), ('all-rookies', 16), ('7-eleven', 16), ('1497', 16), ('3960', 16), ('clause', 16), ('mattel', 16), ('n780', 16), ('fc1785', 16), ('semi-finals', 16), ('ex-2001', 16), ('1339', 16), ('tie-dyed', 16), ('ss8915', 16), ('wu3802', 16), ('what', 16), ('who', 16), ('45243853', 16), ('333', 16), ('1-25', 16), ('45243842', 16), ('wu3290', 16), ('stromile', 16), ('55-63', 16), ('19-27', 16), ('random', 16), ('sc1739', 16), ('ss1544', 16), ('ss1613', 16), ('ss1606', 16), ('11175', 16), ('ss1539', 16), ('poeltl', 16), ('wu3539', 16), ('figure', 16), ('nurse', 16), ('ronald', 16), ('acuna', 16), ('holmes', 16), ('grren', 16), ('vission', 16), ('9730', 16), ('qinndary', 16), ('n1202', 16), ('knciks', 16), ('sprint', 16), ('pippin', 16), ('wu3254', 16), ('048149', 16), ('wu3243', 16), ('iman', 16), ('shumpert', 16), ('garry', 16), ('n1943', 16), ('45459232', 16), ('sa', 16), ('toby', 16), ('portfolios', 16), ('sc', 16), ('d756', 16), ('d679', 16), ('byars', 16), ('mates', 16), ('ss1217', 16), ('ss1381', 16), ('buford', 16), ('wu3090', 16), ('wu3279', 16), ('wu3327', 16), ('emergence', 16), ('wu3418', 16), ('wu3271', 16), ('ss1026', 16), ('nutrasweet', 16), ('mystics', 16), ('america', 16), ('nj17e', 16), ('0809', 16), ('ff7', 16), ('cloak', 16), ('havicek', 16), ('fc2545', 16), ('2085', 16), ('0550', 16), ('wu3211', 16), ('nj66e', 16), ('wu3183', 16), ('oddball', 16), ('jefferies', 16), ('meeks', 16), ('ertz', 16), ('550+', 16), ('commons/inserts', 16), ('d780', 16), ('ss9771', 16), ('n2573', 16), ('fc2548', 16), ('wu3374', 16), ('45959594', 16), ('45959584', 16), ('ss9389', 16), ('n2300', 16), ('aptitude', 16), ('211299', 16), ('n1209', 16), ('kaleb', 16), ('c2', 16), ('co-', 16), ('chamberlain/', 16), ('2449', 16), ('certificate', 16), ('3xa', 16), ('wu3573', 16), ('sherron', 16), ('five-star', 16), ('cabrera', 16), ('co-roy', 16), ('ians', 16), ('45684400', 16), ('037199', 16), ('wu3753', 16), ('wu3752', 16), ('fc1012', 16), ('italiano', 16), ('nnemkadi', 16), ('ss9336', 16), ('florida', 16), ('gators', 16), ('dp3', 16), ('leandrinho', 16), ('ss9820', 16), ('ss8986', 16), ('ref', 16), ('ss9153', 16), ('d750', 16), ('wu3667', 16), ('wu3576', 16), ('puckett', 16), ('ums', 16), ('n2751', 16), ('sc184', 16), ('bottom', 16), ('sc1704', 16), ('45953774', 16), ('n1716', 16), ('ss9667', 16), ('n1516', 16), ('n1479', 16), ('n1473', 16), ('n1478', 16), ('010199', 16), ('4271', 16), ('talon', 16), ('ss9335', 16), ('sc1664', 16), ('nj23d', 16), ('d716', 16), ('187199', 16), ('ss9242', 16), ('113125', 16), ('wu3734', 16), ('ss9251', 16), ('fc371', 16), ('heyward', 16), ('ss1167', 16), ('wu3749', 16), ('/john', 16), ('brisker/charlie', 16), ('ss9945', 16), ('argentinian', 16), ('4241', 16), ('d846', 16), ('b6', 16), ('direct', 16), ('n092', 16), ('boby', 16), ('n1080', 16), ('bulk', 16), ('n1620', 16), ('n1638', 16), ('sc1849', 16), ('hofgem', 16), ('n1629', 16), ('wu3449', 16), ('spgu', 16), ('n1997', 16), ('wu3733', 16), ('tb', 16), ('ss9031', 15), ('fc1058', 15), ('kundla', 15), ('debusschere', 15), ('ds-h', 15), ('wu3715', 15), ('approval', 15), ('robinzine', 15), ('engraved', 15), ('ss9', 15), ('0475', 15), ('wu3820', 15), ('sc1691', 15), ('lil', 15), ('pre-game', 15), ('mclaurin', 15), ('hood', 15), ('sc1779', 15), ('sc1766', 15), ('ss9607', 15), ('5985', 15), ('mcnabb', 15), ('wu3228', 15), ('lindsay', 15), ('strawberry', 15), ('merrill', 15), ('medallions', 15), ('glove', 15), ('tu', 15), ('tavares', 15), ('destinty', 15), ('candice', 15), ('dupree', 15), ('audio', 15), ('nagy', 15), ('bardo', 15), ('work', 15), ('yante', 15), ('maten', 15), ('4688', 15), ('mckie', 15), ('connexions', 15), ('46948040', 15), ('aw1', 15), ('2949', 15), ('poster', 15), ('cloud', 15), ('oilers', 15), ('broder', 15), ('/long/boone', 15), ('n3234', 15), ('devyn', 15), ('prosign', 15), ('d843', 15), ('meiondu', 15), ('voices', 15), ('ernie', 15), ('d724', 15), ('hartenstein', 15), ('dr825', 15), ('core', 15), ('46404084', 15), ('n793', 15), ('fc1813', 15), ('arcs', 15), ('championships', 15), ('45459281', 15), ('moe', 15), ('roundfield', 15), ('starstruck', 15), ('wu3309', 15), ('wu3347', 15), ('wu3842', 15), ('melchionni/larry', 15), ('brown/', 15), ('148', 15), ('73-81', 15), ('sc1718', 15), ('carrick', 15), ('felix', 15), ('hidayet', 15), ('530', 15), ('ss1605', 15), ('jcl', 15), ('wu3543', 15), ('093199', 15), ('n085', 15), ('lloyd', 15), ('markers', 15), ('jameson', 15), ('un-cut', 15), ('dutch', 15), ('k48', 15), ('serbian', 15), ('wiley', 15), ('liberty', 15), ('0533', 15), ('n1194', 15), ('n1218', 15), ('fd9771', 15), ('ss8895', 15), ('nj2b', 15), ('fd9823', 15), ('386', 15), ('n1441', 15), ('darrell', 15), ('n1720', 15), ('lang', 15), ('regular', 15), ('1649', 15), ('banks', 15), ('tunesquad', 15), ('jaxon', 15), ('wu3131', 15), ('wu3107', 15), ('wu3108', 15), ('dunn', 15), ('memphiss', 15), ('wu3322', 15), ('wu3394', 15), ('s-pop', 15), ('n2753', 15), ('todd', 15), ('kn19e', 15), ('44664470', 15), ('cyclones', 15), ('201-400', 15), ('n2272', 15), ('n2157', 15), ('kn12e', 15), ('wu3176', 15), ('n1206', 15), ('patriotism', 15), ('ss9585', 15), ('ss9582', 15), ('fc2139', 15), ('751', 15), ('august', 15), ('ss9750', 15), ('nicola', 15), ('n2281', 15), ('n2500', 15), ('1-165', 15), ('mariano', 15), ('beltran', 15), ('hideo', 15), ('nomo', 15), ('albert', 15), ('puzzles', 15), ('postcards', 15), ('wu3864', 15), ('1335', 15), ('ss981', 15), ('45243854', 15), ('lx-', 15), ('s29d', 15), ('marlon', 15), ('carol', 15), ('blazejowski', 15), ('n309', 15), ('versus', 15), ('n1900', 15), ('d684', 15), ('1460', 15), ('wu3657', 15), ('159199', 15), ('ss9370', 15), ('wu3845', 15), ('n570', 15), ('ss9418', 15), ('livingston', 15), ('s-cd', 15), ('maria', 15), ('sharapova', 15), ('1408', 15), ('wu3368', 15), ('lister', 15), ('wu3761', 15), ('099100', 15), ('n2237', 15), ('n2217', 15), ('r18', 15), ('ss9341', 15), ('fc1610', 15), ('d766', 15), ('wu3672', 15), ('wu3633', 15), ('wu3724', 15), ('ss9748', 15), ('e11', 15), ('n2328', 15), ('chipper', 15), ('ss9922', 15), ('five-piece', 15), ('statistics', 15), ('ss1087', 15), ('innovators', 15), ('ss9936', 15), ('ss9719', 15), ('sc1868', 15), ('201920', 15), ('sc1700', 15), ('45959593', 15), ('nickname', 15), ('336350', 15), ('ss8769', 15), ('033299', 15), ('wu3218', 15), ('n1981', 15), ('n1434', 15), ('n1445', 15), ('ss9632', 15), ('ss8770', 15), ('mcgwire', 15), ('45243870', 15), ('barons', 15), ('4254', 15), ('4267', 15), ('ss9079', 15), ('ss9075', 15), ('ss9822', 15), ('ti', 15), ('wu3821', 15), ('wu3613', 15), ('d734', 15), ('redblue', 15), ('ss1169', 15), ('ss9128', 15), ('fc692', 15), ('rebekkah', 15), ('d831', 15), ('siilver', 15), ('ac3a', 15), ('ss9042', 15), ('n064', 15), ('-kp', 15), ('n1549', 15), ('n1565', 15), ('fc2258', 15), ('n1449', 15), ('196199', 15), ('sc1909', 15), ('n1586', 15), ('n1672', 15), ('ss866', 15), ('n1168', 15), ('ss9778', 15), ('575', 14), ('1575', 14), ('-rh', 14), ('ss9083', 14), ('postcard', 14), ('internationals', 14), ('welcome', 14), ('d696', 14), ('d761', 14), ('d670', 14), ('wu3723', 14), ('wu3630', 14), ('non-auto', 14), ('charge', 14), ('ca5', 14), ('sc1658', 14), ('sc1690', 14), ('sc165', 14), ('boo-yah', 14), ('silk', 14), ('styles', 14), ('emulation', 14), ('4579', 14), ('7475', 14), ('z-20', 14), ('mna', 14), ('sc99', 14), ('sc1795', 14), ('sc1781', 14), ('selby', 14), ('1053', 14), ('tokoto', 14), ('tougher', 14), ('065199', 14), ('business', 14), ('wu3223', 14), ('wu3234', 14), ('wu3255', 14), ('mobley', 14), ('porky', 14), ('rj-j', 14), ('p.j', 14), ('funk', 14), ('047199', 14), ('450', 14), ('42610315', 14), ('ellington', 14), ('predator', 14), ('mcroberts', 14), ('stoamire', 14), ('difference', 14), ('d860', 14), ('n258', 14), ('n1107', 14), ('ss9469', 14), ('hezonja', 14), ('talented', 14), ('twosomes', 14), ('d814', 14), ('n3232', 14), (\"'94\", 14), ('1201', 14), ('speedy', 14), ('145499', 14), ('45684702', 14), ('864', 14), ('j1', 14), ('390', 14), ('clevelan', 14), ('n739', 14), ('n717', 14), ('rc-s', 14), ('articles', 14), ('daye', 14), ('pm-h', 14), ('sycamore', 14), ('wu3793', 14), ('tide', 14), ('ec', 14), ('199798', 14), ('bo', 14), ('afcb', 14), ('wu3274', 14), ('ersan', 14), ('wentz', 14), ('1365', 14), ('fc1673', 14), ('fc1659', 14), ('distant', 14), ('sc1742', 14), ('sc1747', 14), ('sc1714', 14), ('schroder', 14), ('ss1607', 14), ('ss1509', 14), ('ss1516', 14), ('upshaw', 14), ('ss1595', 14), ('n3335', 14), ('ss138', 14), ('jermareo', 14), ('bravo', 14), ('wu3544', 14), ('2750', 14), ('haywood', 14), ('deshawn', 14), ('rodriguez', 14), ('licensed', 14), ('looking', 14), ('hachimiura', 14), ('wearing', 14), ('573', 14), ('4x6', 14), ('687', 14), ('fc', 14), ('prosigs', 14), ('khalil', 14), ('mannion', 14), ('retroactive', 14), ('blacktop', 14), ('wu3875', 14), ('buycks', 14), ('sa1994', 14), ('ss8860', 14), ('brick', 14), ('ss8890', 14), ('2865', 14), ('ss8863', 14), ('shumatelarry', 14), ('lions', 14), ('wu3400', 14), ('45459234', 14), ('najera', 14), ('d709', 14), ('d710', 14), ('wilkerson', 14), ('dontae', 14), ('desmond', 14), ('say', 14), ('d826', 14), ('n2335', 14), ('cowboys', 14), ('4k', 14), ('2323', 14), ('wu3085', 14), ('wu3088', 14), ('wu3115', 14), ('borchardt', 14), ('lb', 14), ('ultra', 14), ('sihugo', 14), ('wu3321', 14), ('wu3370', 14), ('wu3278', 14), ('wu3388', 14), ('wu3286', 14), ('wu3306', 14), ('arnett', 14), ('moultrie', 14), ('127149', 14), ('ticlet', 14), ('lay', 14), ('coca', 14), ('cola', 14), ('texaco', 14), ('graphic', 14), ('hs', 14), ('63x', 14), ('cartoon', 14), ('dejounte', 14), ('107125', 14), ('ss9915', 14), ('beginings', 14), ('nt', 14), ('kd', 14), ('n2066', 14), ('nj40d', 14), ('wu3198', 14), ('nj20e', 14), ('nk65e', 14), ('jdn20e', 14), ('wu3182', 14), ('ss8733', 14), ('wu3191', 14), ('ss86', 14), ('gansey', 14), ('1388', 14), ('20000', 14), ('pm-7', 14), ('sweetney', 14), ('rs-c', 14), ('n1983', 14), ('45684404', 14), ('jeans', 14), ('ss9812', 14), ('sc1884', 14), ('tt3', 14), ('n117', 14), ('45243852', 14), ('acetates', 14), ('herr', 14), ('stanford', 14), ('pacers', 14), ('koby', 14), ('ss8695', 14), ('n42', 14), ('n327', 14), ('fc241', 14), ('mat', 14), ('slhouettes', 14), ('proactive', 14), ('wu3506', 14), ('d682', 14), ('fc4873', 14), ('434', 14), ('wu3853', 14), ('cavanaugh', 14), ('ss9923', 14), ('hawk', 14), ('ss9262', 14), ('136149', 14), ('horiz', 14), ('sigtures', 14), ('n351', 14), ('n1771', 14), ('mcmillian', 14), ('ss9356', 14), ('dermarr', 14), ('lp8', 14), ('wu325', 14), ('0735', 14), ('n247', 14), ('wu3800', 14), ('44656628', 14), ('673', 14), ('812', 14), ('arceologists', 14), ('1491', 14), ('n2019', 14), ('defender', 14), ('fc2197', 14), ('n442', 14), ('45953984', 14), ('n1667', 14), ('d838', 14), ('7850073', 14), ('ss9656', 14), ('ss9648', 14), ('kira', 14), ('ss9110', 14), ('102149', 14), ('ss9852', 14), ('msu', 14), ('wu3834', 14), ('wu3828', 14), ('wu3814', 14), ('ss8692', 14), ('mr.', 14), ('wu3783', 14), ('n272', 14), ('d741', 14), ('393', 14), ('d77', 14), ('marquese', 14), ('chriss', 14), ('ss9142', 14), ('numeration', 14), ('d728', 14), ('d687', 14), ('ss9239', 14), ('d704', 14), ('el1-el15', 14), ('aleksander', 14), ('n1094', 14), ('fc2069', 14), ('nk1a', 14), ('wu3775', 14), ('ye', 14), ('ie', 14), ('wu3102', 14), ('pants', 14), ('isabelle', 14), ('ss9720', 14), ('interllar', 14), ('n1457', 14), ('kpz', 14), ('2k7', 14), ('n1207', 14), ('ss1291', 14), ('fc2151', 14), ('5612', 14), ('jersey/patch', 14), ('gallon', 13), ('montero', 13), ('4879', 13), ('/mt', 13), ('game-day', 13), ('prmemium', 13), ('998', 13), ('everett', 13), ('crd', 13), ('wu3717', 13), ('wu3644', 13), ('farmer', 13), ('thurmond/cowens', 13), ('068199', 13), ('n440', 13), ('checklist/all-star', 13), ('1-198', 13), ('cleamons', 13), ('jameis', 13), ('gathers', 13), ('ss9606', 13), ('geno', 13), ('stafford', 13), ('deebo', 13), ('gmworn', 13), ('arron', 13), ('n1260', 13), ('ss8925', 13), ('meyer', 13), ('irvin', 13), ('wu3214', 13), ('wu3241', 13), ('wu3227', 13), ('wu3245', 13), ('juan', 13), ('ss1507', 13), ('201-250', 13), ('n3362', 13), ('n3384', 13), ('bowdler', 13), ('challenging', 13), ('stocton', 13), ('654', 13), ('granger', 13), ('franklin', 13), ('hornet', 13), ('devincenzo', 13), ('7105611', 13), ('gillgeous', 13), ('ss9510', 13), ('criss', 13), ('superheros', 13), ('charity', 13), ('mcdowell-white', 13), ('adventures', 13), ('1405', 13), ('associates', 13), ('buddy', 13), ('x5', 13), ('emiid', 13), ('darren', 13), ('like', 13), ('bow', 13), ('d701', 13), ('sm', 13), ('sm2', 13), ('n221', 13), ('fore', 13), ('1135', 13), ('539', 13), ('601799', 13), ('45451456', 13), ('dr812', 13), ('becker', 13), ('ligon', 13), ('944', 13), ('312', 13), ('ss-kk', 13), ('same', 13), ('finch', 13), ('126199', 13), ('45243860', 13), ('wu3348', 13), ('64-72', 13), ('37-45', 13), ('ss1551', 13), ('ss1616', 13), ('ss1515', 13), ('ss1549', 13), ('004', 13), ('wu3508', 13), ('insignias', 13), ('1562', 13), ('mayfield', 13), ('ss1290', 13), ('sps19', 13), ('022149', 13), ('draws', 13), ('fc4249', 13), ('jacque', 13), ('t16c', 13), ('wu3872', 13), ('n1161', 13), ('n1223', 13), ('n1203', 13), ('329', 13), ('ksa', 13), ('074199', 13), ('ss8857', 13), ('intimidation', 13), ('535', 13), ('mfk', 13), ('holland', 13), ('sonny', 13), ('ud', 13), ('astral', 13), ('fc1042', 13), ('d708', 13), ('wu3649', 13), ('judkins', 13), ('010100', 13), ('2803', 13), ('encounters', 13), ('d853', 13), ('sc1912', 13), ('wu3151', 13), ('wu3147', 13), ('wu3089', 13), ('donruss', 13), ('-ai', 13), ('wu3398', 13), ('wu3270', 13), ('n2718', 13), ('1639', 13), ('ss9886', 13), ('n3398', 13), ('1-6', 13), ('jesey', 13), ('emblems', 13), ('jdn64e', 13), ('ss8752', 13), ('307', 13), ('n2569', 13), ('mourining', 13), ('punched-out', 13), ('3275', 13), ('harrell', 13), ('ss8727', 13), ('ss8726', 13), ('wu3199', 13), ('jdn23', 13), ('kn16e', 13), ('0650', 13), ('wu3159', 13), ('affirmed', 13), ('totaly', 13), ('ss9581', 13), ('maddox', 13), ('ck', 13), ('december', 13), ('ss9769', 13), ('1797', 13), ('sporting', 13), ('1057', 13), ('scotty', 13), ('cruz', 13), ('ss9414', 13), ('hanson', 13), ('opti', 13), ('cm11e', 13), ('meyers', 13), ('chelsea', 13), ('mozo', 13), ('131a', 13), ('speights', 13), ('smokey', 13), ('n1921', 13), ('n1709', 13), ('ss1434', 13), ('n583', 13), ('wu3843', 13), ('0175', 13), ('ss1027', 13), ('ss9821', 13), ('ss9039', 13), ('ss-r', 13), ('stinson', 13), ('45684447', 13), ('bagged', 13), ('jusuf', 13), ('07', 13), ('1443', 13), ('138299', 13), ('d700', 13), ('1313', 13), ('wu3578', 13), ('wu3219', 13), ('ss9818', 13), ('mcquaid', 13), ('kobes', 13), ('ss9126', 13), ('deanore', 13), ('9600', 13), ('sportkings', 13), ('n2025', 13), ('n1991', 13), ('certifed', 13), ('sc1674', 13), ('04649', 13), ('n1480', 13), ('sp7', 13), ('pitching', 13), ('n1440', 13), ('ss9674', 13), ('625', 13), ('evan', 13), ('4239', 13), ('ss9030', 13), ('n2958', 13), ('shaqtalk', 13), ('n178', 13), ('wu3732', 13), ('/cheeks', 13), ('d680', 13), ('ss1186', 13), ('piazza', 13), ('int', 13), ('wu3472', 13), ('xiii', 13), ('d688', 13), ('d689', 13), ('wu3731', 13), ('/johnson', 13), ('jy', 13), ('ss1293', 13), ('partners', 13), ('n352', 13), ('6833', 13), ('d842', 13), ('brodeur', 13), ('ss8764', 13), ('cluver', 13), ('wu3512', 13), ('42751593', 13), ('fc949', 13), ('sc1816', 13), ('n1546', 13), ('fc2294', 13), ('45134722', 13), ('sky-ex', 13), ('sc19', 13), ('1-26', 13), ('0860', 13), ('sc1776', 13), ('ssd', 13), ('ss9240', 13), ('fd8050', 13), ('beijing', 13), ('wu3457', 13), ('ss9691', 13), ('n220', 13), ('wu3134', 13), ('1240', 12), ('ruben', 12), ('n761', 12), ('28582980', 12), ('finesse', 12), ('ingot', 12), ('neophytes', 12), ('n958', 12), ('purvis', 12), ('hotshots', 12), ('michelle', 12), ('191199', 12), ('45698538', 12), ('addition', 12), ('wu3650', 12), ('chrome-town', 12), ('251500', 12), ('n33', 12), ('2239', 12), ('2080', 12), ('rickey', 12), ('ss9613', 12), ('melchionni/mack', 12), ('calvin/', 12), ('n1409', 12), ('n1126', 12), ('n1361', 12), ('leondard', 12), ('ggv', 12), ('passports', 12), ('family', 12), ('kb0', 12), ('wu3251', 12), ('nats', 12), ('gillislee', 12), ('n3361', 12), ('diante', 12), ('wu3819', 12), ('majerle', 12), ('stefan', 12), ('jankovic', 12), ('carrawell', 12), ('through', 12), ('293111', 12), ('pc4', 12), ('meineke', 12), ('autogrphed', 12), ('41606773', 12), ('cp', 12), ('artisans', 12), ('n1086', 12), ('2550', 12), ('lash', 12), ('71-72', 12), ('stacey', 12), ('4-on-1', 12), (\"'91-92\", 12), ('05', 12), ('76er', 12), ('cardfrontation', 12), ('30th', 12), ('d673', 12), ('dr850', 12), ('n270', 12), ('myriad', 12), ('bigs', 12), ('fc1829', 12), ('ss9437', 12), ('n797', 12), ('n723', 12), ('n722', 12), ('n767', 12), ('n774', 12), ('mehmet', 12), ('okur', 12), ('richmond', 12), ('holoboard', 12), ('fuel', 12), ('injection', 12), ('ss9224', 12), ('n259', 12), ('mk', 12), ('070199', 12), ('fitch', 12), ('122199', 12), ('staubach', 12), ('1865', 12), ('46404092', 12), ('fc1693', 12), ('pablo', 12), ('wcoating', 12), ('ss1617', 12), ('reyshawn', 12), ('stotts', 12), ('alexander-williams', 12), ('wu3563', 12), ('wu3545', 12), ('wu3504', 12), ('wu3524', 12), ('n087', 12), ('wu3485', 12), ('wu3484', 12), ('1785', 12), ('mooney', 12), ('walking', 12), ('sutton', 12), ('704', 12), ('a.j', 12), ('1-2', 12), ('omer', 12), ('yurtseven', 12), ('dexter', 12), ('rentzias', 12), ('fc3930', 12), ('n3213', 12), ('93149', 12), ('4257', 12), ('usfl', 12), ('n1183', 12), ('n1245', 12), ('9715', 12), ('horse', 12), ('ss8850', 12), ('wu3246', 12), ('198199', 12), ('fc263', 12), ('wu3258', 12), ('striped', 12), ('n1446', 12), ('playr', 12), ('sga', 12), ('n1752', 12), ('ss8693', 12), (\"de'anthony\", 12), ('kapono', 12), ('ax2603', 12), ('huston', 12), ('pp1', 12), ('nathan', 12), ('969', 12), ('n3369', 12), ('rautins', 12), ('100-', 12), ('d777', 12), ('wu3677', 12), ('whaley', 12), ('alvan', 12), ('quentin', 12), ('bane', 12), ('3-swatch', 12), ('wu3152', 12), ('wu3118', 12), ('walk', 12), ('wu3301', 12), ('wu3413', 12), ('wu3419', 12), ('wu3307', 12), ('wu3277', 12), ('5597', 12), ('n2757', 12), ('66-70', 12), ('minneapolis', 12), ('nj28b', 12), ('erformers', 12), ('loud', 12), ('proud', 12), ('/bill', 12), ('paultz/roger', 12), ('tuck', 12), ('s1a', 12), ('9293', 12), ('drakes', 12), ('goran', 12), ('nuggers', 12), ('1641', 12), ('n2583', 12), ('862', 12), ('ss9779', 12), (\"de'arron\", 12), ('astros', 12), ('wu3186', 12), ('nk51e', 12), ('nj2e', 12), ('fd9132', 12), ('ss8704', 12), ('ss870', 12), ('ss8715', 12), ('799', 12), ('275499', 12), ('lin', 12), ('n194', 12), ('ss9890', 12), ('restani', 12), ('jocelyn', 12), ('wu3435', 12), ('1329', 12), ('n757', 12), ('combs', 12), ('commodities', 12), ('ss9382', 12), ('233', 12), ('n99', 12), ('fb-h', 12), ('n2081', 12), ('n2048', 12), ('n2154', 12), ('201-300', 12), ('struck', 12), ('wpeel', 12), ('finshers', 12), ('shoes', 12), ('marvn', 12), ('876', 12), ('mays', 12), ('clancy', 12), ('n1705', 12), ('georgia', 12), ('ss9103', 12), ('d681', 12), ('d755', 12), ('wu3645', 12), ('025199', 12), ('wu3725', 12), ('chronicle', 12), ('pivotal', 12), ('brees', 12), ('1022', 12), ('fc1661', 12), ('wu3854', 12), ('handlogten', 12), ('dek', 12), ('presence', 12), ('ss761', 12), ('7573', 12), ('slayton', 12), ('doubleteam', 12), ('dreiling', 12), ('45684446', 12), ('foot', 12), ('n729', 12), ('n1763', 12), ('n2254', 12), ('n2234', 12), ('loaders', 12), ('n2282', 12), ('n1639', 12), ('1981-82', 12), ('d808', 12), ('d806', 12), ('isa', 12), ('wu3699', 12), ('d726', 12), ('156199', 12), ('wu3726', 12), ('wu3611', 12), ('45243866', 12), ('n171', 12), ('anthony-towns', 12), ('c6', 12), ('bairstow', 12), ('maruqee', 12), ('nikola', 12), ('2959', 12), ('n135', 12), ('fc1010', 12), ('ss9047', 12), ('23a', 12), ('fc708', 12), ('fc1075', 12), ('ss1025', 12), ('ss1024', 12), ('amplifiers', 12), ('kiara', 12), ('n2023', 12), ('ss9736', 12), ('n437', 12), ('sc1692', 12), ('rd', 12), ('n356', 12), ('jdn60e', 12), ('n1556', 12), ('wu3145', 12), ('tremenous', 12), ('heaf', 12), ('4274', 12), ('d805', 12), ('ss9005', 12), ('ss8985', 12), ('ss9111', 12), ('kinghts', 12), ('ss9025', 12), ('1849', 12), ('ss8665', 12), ('wu3816', 12), ('d697', 12), ('d714', 12), ('wu3748', 12), ('47820300', 12), ('fc1080', 12), ('baketball', 12), ('dominant', 12), ('tiers', 12), ('661', 12), ('s5', 12), ('s6', 12), ('s7', 12), ('d676', 12), ('d685', 12), ('d68', 12), ('n2729', 12), ('996', 12), ('wu3540', 12), ('n1649', 12), ('worth', 12), ('wu3498', 12), ('044249', 12), ('wu3489', 12), ('fd6243', 12), ('ss8732', 12), ('sc1775', 12), ('n1220', 12), ('4560', 12), ('083199', 12), ('ss9129', 12), ('n1475', 12), ('ss9701', 12), ('ss9715', 12), ('fc1054', 12), ('aj6706', 12), ('prograding', 12), ('morrison', 12), ('mize', 12), ('vleet', 12), ('wu3454', 12), ('n1993', 12), ('n1179', 12), ('745', 11), ('1+', 11), ('n731', 11), ('llc', 11), ('queens', 11), ('celestand', 11), ('cassel', 11), ('nuinn', 11), ('boykins', 11), ('ss9082', 11), ('timms', 11), ('discs', 11), ('crexler', 11), ('36-45', 11), ('d707', 11), ('wu3716', 11), ('wu3709', 11), ('wu3580', 11), ('zwikker', 11), ('45959591', 11), ('sc1687', 11), ('arts', 11), ('ranzino', 11), ('bellinger', 11), ('denmon', 11), ('daryl', 11), ('macon', 11), ('fl-7', 11), ('z-31', 11), ('richie', 11), ('167199', 11), ('jamel', 11), ('atkins', 11), ('rocky', 11), ('bleier', 11), ('1347', 11), ('asg', 11), ('ss8974', 11), ('unnumbered', 11), ('nk14a', 11), ('jdn68e', 11), ('0416', 11), ('fd9742', 11), ('0875', 11), ('whalen', 11), ('ratliff', 11), ('ncx', 11), ('nwora', 11), ('benjamin', 11), ('gonzalez', 11), ('n3379', 11), ('n3360', 11), ('dandridge', 11), ('bryan', 11), ('shea', 11), ('42751603', 11), ('novak', 11), ('simi', 11), ('shittu', 11), ('293112', 11), ('decals', 11), ('972', 11), ('demetris', 11), ('nichols', 11), ('d878', 11), ('sportscard', 11), ('authenticators', 11), ('1037', 11), ('041100', 11), ('1973', 11), ('n860', 11), ('9596', 11), ('1333', 11), ('41606770', 11), ('signifince', 11), ('n1131', 11), ('jms', 11), ('45959608', 11), ('chargers', 11), ('pull', 11), ('d817', 11), ('d850', 11), ('1897', 11), ('777', 11), ('warmups', 11), ('mamadou', 11), ('glasses', 11), ('rayshaun', 11), ('hammonds', 11), ('quarterman', 11), ('485', 11), ('single', 11), ('dr797', 11), ('dr851', 11), ('dr785', 11), ('fc978', 11), ('jordin', 11), ('canada', 11), ('200299', 11), ('n762', 11), ('1633', 11), ('dixon', 11), ('mbenga', 11), ('yard', 11), ('j.t', 11), ('lengendary', 11), ('sudden', 11), ('085299', 11), ('disks', 11), ('if', 11), ('skytech', 11), ('jennie', 11), ('45243858', 11), ('pig', 11), ('ss9372', 11), ('1088', 11), ('wu3849', 11), ('46-54', 11), ('sc1741', 11), ('sc1715', 11), ('percentage', 11), ('ss1602', 11), ('n3325', 11), ('ss1601', 11), ('ss1611', 11), ('ss1550', 11), ('n3372', 11), ('okogie', 11), ('wu3538', 11), ('fc928', 11), ('0423', 11), ('wu3467', 11), ('0415', 11), ('n083', 11), ('encer', 11), ('spencer', 11), ('riller', 11), ('seimone', 11), ('augustus', 11), ('hanlan', 11), ('brozne', 11), ('1479', 11), ('n971', 11), ('fc2121', 11), ('n1243', 11), ('n1240', 11), ('622', 11), ('rupp', 11), ('bush', 11), ('-dyke', 11), ('fd9747', 11), ('8-pc', 11), ('ss8869', 11), ('wu3225', 11), ('wu3264', 11), ('westhead', 11), ('solomon', 11), ('self', 11), ('141149', 11), ('n1630', 11), ('1087', 11), ('n1724', 11), ('n77', 11), ('n1697', 11), ('n1789', 11), ('1279', 11), ('emmanuel', 11), ('autofocus', 11), ('tour', 11), ('738', 11), ('batum', 11), ('dijon', 11), ('n3392', 11), ('d759', 11), ('wu3648', 11), ('passers', 11), ('shop', 11), ('d813', 11), ('d864', 11), ('d800', 11), ('d865', 11), ('ss9789', 11), ('1997-00', 11), ('sanford', 11), ('44357489', 11), ('wu3150', 11), ('wu3119', 11), ('wu3122', 11), ('wu3130', 11), ('wu3128', 11), ('tobias', 11), ('0975', 11), ('lester', 11), ('wu3341', 11), ('wu3300', 11), ('wu3329', 11), ('wu3316', 11), ('wu3375', 11), ('wu3305', 11), ('wu3331', 11), ('hurley', 11), ('race', 11), ('kwame', 11), ('9299', 11), ('ss9263', 11), ('perspectives', 11), ('hernangomez', 11), ('-7', 11), ('44664469', 11), ('wyatt', 11), ('miguel', 11), ('paralell', 11), ('-pop', 11), ('alridge', 11), ('greek', 11), ('freak', 11), ('5179', 11), ('bpo', 11), ('863670', 11), ('gil', 11), ('783', 11), ('materails', 11), ('phillip', 11), ('lumberjack', 11), ('wu3165', 11), ('jdn19e', 11), ('jdn4e', 11), ('nj19e', 11), ('7375', 11), ('1086', 11), ('057199', 11), ('sixteen', 11), ('ntilkina', 11), ('n1317', 11), ('hustonjohn', 11), ('weatheroon', 11), ('150199', 11), ('delaney', 11), ('rudd', 11), ('n1740', 11), ('1275', 11), ('1590', 11), ('pujols', 11), ('ridnour', 11), ('fc1828', 11), ('hopson', 11), ('osu', 11), ('olumide', 11), ('oyedeji', 11), ('ss9381', 11), ('ss704', 11), ('pc28', 11), ('uconn', 11), ('1-176', 11), ('n1076', 11), ('960', 11), ('superteams', 11), ('bengals', 11), ('5775', 11), ('jdn146e', 11), ('nj70e', 11), ('nj24d', 11), ('-48', 11), ('showtopper', 11), ('4375', 11), ('ally', 11), ('alston', 11), ('n1901', 11), ('1-96', 11), ('alcindor/john', 11), ('havlicek/', 11), ('armory', 11), ('wu3720', 11), ('wu3597', 11), ('017199', 11), ('ss9378', 11), ('wu3840', 11), ('wu3868', 11), ('053199', 11), ('2399', 11), ('1539', 11), ('vinsanity', 11), ('n2330', 11), ('dr832', 11), ('nunn', 11), ('n1607', 11), ('997', 11), ('3856', 11), ('n1757', 11), ('lieberman-cline', 11), ('1982-83', 11), ('budinger', 11), ('34x', 11), ('d827', 11), ('-225', 11), ('ss9337', 11), ('13831999', 11), ('wu3517', 11), ('qualls', 11), ('wu3627', 11), ('wu3628', 11), ('wu3615', 11), ('comets', 11), ('swin', 11), ('cash', 11), ('ot', 11), ('mets', 11), ('stars/rc', 11), ('fest', 11), ('ss9925', 11), ('n179', 11), ('legcy', 11), ('sc1841', 11), ('ss9718', 11), ('fc2193', 11), ('marty', 11), ('andersen', 11), ('l+', 11), ('n096', 11), ('wu3222', 11), ('wu3215', 11), ('earth', 11), ('n1698', 11), ('n1543', 11), ('n1520', 11), ('45243849', 11), ('gabby', 11), ('surs', 11), ('ss9006', 11), ('ss9027', 11), ('n1647', 11), ('sc1701', 11), ('wu3822', 11), ('worldwide', 11), ('wonders', 11), ('nk5d', 11), ('nk18d', 11), ('x-fractors', 11), ('delivery', 11), ('sheer', 11), ('d719', 11), ('wu3739', 11), ('47820302', 11), ('d773', 11), ('n3011', 11), ('wgc', 11), ('ss1174', 11), ('n2474', 11), ('197-98', 11), ('fc1069', 11), ('ax741', 11), ('d675', 11), ('ss9086', 11), ('4244', 11), ('337349', 11), ('atetokounmpo', 11), ('n1070', 11), ('ss9534', 11), ('meter', 11), ('jdn62e', 11), ('wu3499', 11), ('dsa798', 11), ('ss8971', 11), (\"'11\", 11), ('fant', 11), ('n467', 11), ('scratch', 11), ('n1569', 11), ('ss9721', 11), ('dornuss', 11), ('fc815', 11), ('n2435', 11), ('ractive', 11), ('dr784', 11), ('ss9241', 11), ('sc1703', 11), ('dsa801', 11), ('n168', 11), ('wu3744', 11), ('n059', 11), ('wu3140', 11), ('n13', 11), ('issel//john', 11), ('n1953', 11), ('wu3133', 11), ('lebo', 10), ('1306', 10), ('hrx', 10), ('1161', 10), ('investor', 10), ('kason', 10), ('diamonds', 10), ('n857', 10), ('-27', 10), ('wind', 10), ('chimes', 10), ('l.', 10), ('rosenbluth', 10), ('midnight', 10), ('february', 10), ('basket', 10), ('autoics', 10), ('miss', 10), ('d772', 10), ('d668', 10), ('5479', 10), ('wu3583', 10), ('wu3647', 10), ('rc-c', 10), ('century++', 10), ('n199', 10), ('3075', 10), ('n435', 10), ('sc1679', 10), ('hper', 10), ('1-413', 10), ('henisohn', 10), ('pm-9', 10), ('ay67', 10), ('vann', 10), ('williford', 10), ('sunday', 10), ('jacobs', 10), ('renfrow', 10), ('n394', 10), ('gost', 10), ('854', 10), ('n1282', 10), ('arsdale', 10), ('0179', 10), ('ss8868', 10), ('wu3266', 10), ('d837', 10), ('shekinna', 10), ('stricklen', 10), ('4650', 10), ('bluiett', 10), ('melchionni/calvin/scott', 10), ('september', 10), ('181199', 10), ('golssy', 10), ('0350', 10), ('pf', 10), ('trepagnier', 10), ('lacing', 10), ('bremer', 10), ('gal', 10), ('mekel', 10), ('1114', 10), ('d866', 10), (\"'73-74\", 10), ('stu', 10), ('cheerleaders', 10), ('n758', 10), ('versatile', 10), ('7740638', 10), ('jeter', 10), ('also', 10), ('wu3546', 10), ('45959585', 10), ('95399', 10), ('espy', 10), ('membership', 10), ('achonwa', 10), ('888', 10), ('2365', 10), (\"'89\", 10), ('mint-mint', 10), ('d819', 10), ('penberthy', 10), ('street', 10), ('1198', 10), ('565', 10), ('eastwest', 10), ('recruit', 10), ('1-310', 10), ('n3217', 10), ('ex001', 10), ('astou', 10), ('ndour', 10), ('yvonne', 10), ('archive', 10), ('6311', 10), ('auriemma', 10), ('dr788', 10), ('1-99', 10), ('dr801', 10), ('dr819', 10), ('dr807', 10), ('dr779', 10), ('dumas', 10), ('n804', 10), ('n735', 10), ('638', 10), ('1822', 10), ('x167067', 10), ('fair', 10), ('clarkson', 10), ('bennie', 10), ('boatwright', 10), ('45459280', 10), ('wu3239', 10), ('tribune', 10), ('0001', 10), ('lacey', 10), ('freije', 10), ('1355', 10), ('1337', 10), ('1x', 10), ('hotagraphs', 10), ('smits', 10), ('bargnani', 10), ('all-matrix', 10), ('788', 10), ('b2', 10), ('ss9416', 10), ('1-9', 10), ('sc40', 10), ('sc1745', 10), ('sc1743', 10), ('792', 10), ('ss1599', 10), ('ss1540', 10), ('1st-team', 10), ('n3324', 10), ('oneal', 10), ('6475', 10), ('timewarp', 10), ('d.', 10), ('wu3503', 10), ('wu3516', 10), ('wu3518', 10), ('wu3465', 10), ('wu3463', 10), ('costello', 10), ('1444', 10), ('fb', 10), ('madden', 10), ('pashall', 10), ('mh', 10), ('forrest', 10), ('398', 10), ('bryantbobby', 10), ('330', 10), ('094199', 10), ('568', 10), ('caffey', 10), ('truner', 10), ('ss9556', 10), ('jarvis', 10), ('1908', 10), ('857', 10), ('bertha', 10), ('671', 10), ('wu3221', 10), ('wu3257', 10), ('auto1399', 10), ('wu3213', 10), ('1798', 10), ('daffy', 10), ('duck', 10), ('zibanejad', 10), ('wu3319', 10), ('wu3425', 10), ('073175', 10), ('wu3396', 10), ('45369674', 10), ('dft', 10), ('naw', 10), ('wu3443', 10), ('170899', 10), ('ss8918', 10), ('aau/soviet', 10), ('n3367', 10), ('calvin/williams/mcginnis', 10), ('d671', 10), ('wu3678', 10), ('front/jordan', 10), ('1456', 10), ('n3021', 10), ('d834', 10), ('d810', 10), ('n1525', 10), ('41334625', 10), ('wu3141', 10), ('wu3129', 10), ('wu3344', 10), ('wu3282', 10), ('wu3401', 10), ('wu3317', 10), ('wu3320', 10), ('2475', 10), ('wu3421', 10), ('1045', 10), ('instinctive', 10), ('859', 10), ('ss1479', 10), ('gl5', 10), ('wu3830', 10), ('ss8862', 10), ('wu3205', 10), ('nj67e', 10), ('3a', 10), ('kn14e', 10), ('petrovic', 10), ('jdn57e', 10), ('sacramento', 10), ('finalist', 10), ('1859', 10), ('1173', 10), ('346', 10), ('n3017', 10), ('elijah', 10), ('e-xplosive', 10), ('-scy', 10), ('043199', 10), ('148199', 10), ('020199', 10), ('dn-zw', 10), ('seansational', 10), ('44889365', 10), ('44889369', 10), ('ss8708', 10), ('make', 10), ('4079', 10), ('3xb', 10), ('2850', 10), ('jerel', 10), ('n1264', 10), ('duval', 10), ('pitts', 10), ('603', 10), ('n1912', 10), ('l.a.', 10), ('5pk', 10), ('clamp', 10), ('cnp05b', 10), ('raindrip', 10), ('n1990', 10), ('1239', 10), ('olympicard', 10), ('4475', 10), ('wu3455', 10), ('1064', 10), ('valentine', 10), ('sc1668', 10), ('ss9380', 10), ('alcindor//elvin', 10), ('ashley', 10), ('metzelaars', 10), (\"bird's-eye\", 10), ('ss9777', 10), ('n2148', 10), ('ochefu', 10), ('roberts', 10), ('z-5', 10), ('84s-40716-1', 10), ('marque', 10), ('rusty', 10), ('rtified', 10), ('villanova', 10), (\"da'sean\", 10), ('199199', 10), ('1081', 10), ('ss9458', 10), ('ss9459', 10), ('nj46d', 10), ('chichao', 10), ('n341', 10), ('n339', 10), ('435', 10), ('baxter', 10), ('n1715', 10), ('n1784', 10), ('n75', 10), ('montross', 10), ('ss9081', 10), ('ss9133', 10), ('wu3610', 10), ('wu3666', 10), ('wu3637', 10), ('wu3631', 10), ('ss9182', 10), ('petrie', 10), ('genregraphs', 10), ('vertex', 10), ('660', 10), ('n572', 10), ('wu3870', 10), ('wu3855', 10), ('pervis', 10), ('ellison', 10), ('shaun', 10), ('index', 10), ('co-captain', 10), ('1560', 10), ('807', 10), ('murry', 10), ('1587', 10), ('20,000', 10), ('borders', 10), ('ss9885', 10), ('nikki', 10), ('auentic', 10), ('ss8919', 10), ('st-pierre', 10), ('tye-die', 10), ('wu3377', 10), ('nogueira', 10), ('hillman', 10), ('mb3', 10), ('news/handy', 10), ('linchpins', 10), ('mclendon', 10), ('n441', 10), ('n1428', 10), ('reds', 10), ('n1924', 10), ('n1922', 10), ('n1790', 10), ('422', 10), ('n2293', 10), ('ss9811', 10), ('dinged', 10), ('ss9019', 10), ('langhorne', 10), ('sc1885', 10), ('1831', 10), ('417', 10), ('1832', 10), ('royalie', 10), ('wu3778', 10), ('makkanen', 10), ('collect', 10), ('books', 10), ('407', 10), ('5688', 10), ('wu3620', 10), ('wu3634', 10), ('wu324', 10), ('wu3612', 10), ('ones', 10), ('n2235', 10), ('n2619', 10), ('antoinio', 10), ('n2653', 10), ('n2756', 10), ('n2957', 10), ('enore', 10), ('aension', 10), ('tv12', 10), ('n436', 10), ('jojo', 10), ('1545', 10), ('n1643', 10), ('1066', 10), ('geared', 10), ('1307', 10), ('7046762', 10), ('builds', 10), ('nickiel', 10), ('ss9672', 10), ('forerunners', 10), ('1350', 10), ('mahorn', 10), ('kentavious', 10), ('eli', 10), ('6828', 10), ('cho', 10), ('wu3433', 10), ('ss9001', 10), ('n2218', 10), ('ss9861', 10), ('n1042', 10), ('n914', 10), ('n329', 10), ('nj38d', 10), ('sanchez', 10), ('henrik', 10), ('lundqvist', 10), ('d715', 10), ('d743', 10), ('713', 10), ('nbw-n', 10), ('/brewer', 10), ('n30', 10), ('n2443', 10), ('n2472', 10), ('1411', 10), ('fc966', 10), ('ss9144', 10), ('d736', 10), ('d740', 10), ('d691', 10), ('d758', 10), ('d742', 10), ('d754', 10), ('ss9223', 10), ('phipps', 10), ('498', 10), ('wu3432', 10), ('d844', 10), ('d849', 10), ('compaby', 10), ('dr1', 10), ('fc956', 10), ('wu3477', 10), ('n106', 10), ('wu3491', 10), ('wu3767', 10), ('minted', 10), ('wu3138', 10), ('wu3087', 10), ('draymond', 10), ('n1444', 10), ('n1627', 10), ('sc1869', 10), ('627', 10), ('1950', 10), ('arc', 10), ('beverley', 10), ('holidays', 10), ('45243856', 10), ('shamet', 10), ('0151', 10), ('scores', 10), ('bowden', 10), ('n1626', 10), ('fc2219', 10), ('n2543', 10), ('wu3448', 10), ('wu3116', 10), ('hinh', 10), ('ss9230', 10), ('137799', 10), ('wu3450', 10), ('fc935', 10), ('0250', 10), ('1075', 10), ('fc1609', 10), ('ss8767', 10), ('n1960', 10), ('dr808', 10), ('hd', 10), ('wu3121', 10), ('yrs', 10), ('bouje-bouje', 9), ('bucknall', 9), ('45684445', 9), ('1120', 9), ('6979', 9), ('n045', 9), ('ss9088', 9), ('earth/mars', 9), ('6885', 9), ('45698537', 9), ('joey', 9), ('d667', 9), ('wu3718', 9), ('wu3638', 9), ('desmon', 9), ('thaddeus', 9), ('boswell', 9), ('crowder', 9), ('57-58', 9), ('022199', 9), ('fc1511', 9), ('1078', 9), ('609', 9), ('dorrie', 9), ('murrey', 9), ('xxl', 9), ('z-17', 9), ('motta', 9), ('gallup', 9), ('youngblood', 9), ('olsen', 9), ('je', 9), ('hurd', 9), ('sc178', 9), ('n1374', 9), ('ss957', 9), ('dimenions', 9), ('072500', 9), ('brevin', 9), ('torquers', 9), ('rc/nba', 9), ('ss8926', 9), ('minnesota', 9), ('extremes', 9), ('nk59e', 9), ('128249', 9), ('ss8851', 9), ('leroy', 9), ('doumboua', 9), ('ss8867', 9), ('curley', 9), ('d841', 9), ('nemesis', 9), ('1983-84', 9), ('nance', 9), ('louie', 9), ('sc1678', 9), ('031199', 9), ('pearson', 9), ('skymotion', 9), ('ncredible', 9), ('rrc-', 9), ('ss8991', 9), ('roberson', 9), ('simms', 9), ('1583', 9), ('orange/red', 9), ('xplosive', 9), ('d823', 9), ('wenyen', 9), ('gabriel', 9), ('deon', 9), ('n781', 9), ('central', 9), ('n1123', 9), ('n1084', 9), ('ss9511', 9), ('n970', 9), ('olypmic', 9), ('41606820', 9), ('-39', 9), ('sea', 9), ('lj12', 9), ('6039', 9), ('buccaneers', 9), ('724', 9), ('yinka', 9), ('dare', 9), ('548', 9), ('808', 9), ('614', 9), ('anniv', 9), ('a/s', 9), ('dunkus', 9), ('colossus', 9), ('dedmon', 9), ('cling', 9), ('dr820', 9), ('dr861', 9), ('dr845', 9), ('dr859', 9), ('dr795', 9), ('dr846', 9), ('dr790', 9), ('dr783', 9), ('n263', 9), ('michal', 9), ('rc-', 9), ('trey', 9), ('2014-2015', 9), ('1973-74', 9), ('2142', 9), ('1398', 9), ('ds-j', 9), ('ss8928', 9), ('979', 9), ('wu3754', 9), ('n3007', 9), ('1382', 9), ('945', 9), ('wendall', 9), ('winslow', 9), ('gph', 9), ('jasyon', 9), ('1835', 9), ('checklist-2', 9), ('1285', 9), ('125199', 9), ('deschinger', 9), ('n3364', 9), ('ss1510', 9), ('vynl', 9), ('fletcher', 9), ('izzo', 9), ('brockman', 9), ('devean', 9), ('wu3547', 9), ('throback', 9), ('wu3500', 9), ('wu3482', 9), ('9.59', 9), ('wu3487', 9), ('wu3490', 9), ('latavious', 9), ('813', 9), ('prsent', 9), ('vanarsdale', 9), ('793', 9), ('n2370', 9), ('n3169', 9), ('693', 9), ('ss1292', 9), ('ignition', 9), ('2785', 9), ('1568', 9), ('rochem', 9), ('/mack', 9), ('calvin/jones', 9), ('n447', 9), ('.3', 9), ('048299', 9), ('n1235', 9), ('n1204', 9), ('demetri', 9), ('mccamey', 9), ('1809', 9), ('40th', 9), ('fg', 9), ('lower', 9), ('ss8896', 9), ('fd9784', 9), ('wu2859', 9), ('saer', 9), ('1140', 9), ('779', 9), ('487', 9), ('headbands', 9), ('n1920', 9), ('n1788', 9), ('n1791', 9), ('wu3249', 9), ('due', 9), ('snapback', 9), ('45459278', 9), ('45459277', 9), ('registration', 9), ('julian', 9), ('endorsed', 9), ('leavell', 9), ('975', 9), ('d674', 9), ('phegley', 9), ('aminu', 9), ('d824', 9), ('fuzzy', 9), ('levane', 9), ('daly', 9), ('n2369', 9), ('n2302', 9), ('cierra', 9), ('burdick', 9), ('arkansas', 9), ('razorbacks', 9), ('nk11e', 9), ('213299', 9), ('collectible', 9), ('wu3113', 9), ('wu3144', 9), ('games', 9), ('wu3337', 9), ('wu3285', 9), ('wu3355', 9), ('wu3349', 9), ('penmanshio', 9), ('semifinals', 9), ('1528', 9), ('n2752', 9), ('horton', 9), ('prized', 9), ('45959607', 9), ('jdn44e', 9), ('kerwin', 9), ('roach', 9), ('arc-eologists', 9), ('r2', 9), ('-vc', 9), ('fc257', 9), ('ad429', 9), ('bellamy', 9), ('1019', 9), ('692', 9), ('clint', 9), ('treaures', 9), ('musial', 9), ('mustapha', 9), ('heron', 9), ('857424', 9), ('hibbert', 9), ('n1483', 9), ('646', 9), ('domoantas', 9), ('vandersloot', 9), ('wu3197', 9), ('jdn21e', 9), ('nk56e', 9), ('wu3173', 9), ('1971', 9), ('augmon', 9), ('ruffin', 9), ('1434', 9), ('darel', 9), ('383', 9), ('1264', 9), ('dcor', 9), ('brazil', 9), ('brasil', 9), ('ss9743', 9), ('n1959', 9), ('690', 9), ('1169', 9), ('373839', 9), ('hawkinsmullinsalcindor', 9), ('481', 9), ('47479290', 9), ('638799', 9), ('rooike', 9), ('delany', 9), ('863', 9), ('emier', 9), ('hal', 9), ('greer', 9), ('45684703', 9), ('428', 9), ('1380', 9), ('dr786', 9), ('celebrity', 9), ('926', 9), ('576', 9), ('437', 9), ('n2340', 9), ('n318', 9), ('ss9742', 9), ('1640', 9), ('1650', 9), ('1624', 9), ('rc1', 9), ('45684477', 9), ('n2049', 9), ('067149', 9), ('saints', 9), ('vai', 9), ('sikahema', 9), ('775', 9), ('1346', 9), ('796', 9), ('toon', 9), ('rs-', 9), ('nj33d', 9), ('072199', 9), ('fc703', 9), ('1214', 9), ('877', 9), ('1328', 9), ('giricek', 9), ('foefield', 9), ('approved', 9), ('n1782', 9), ('45698535', 9), ('d768', 9), ('d690', 9), ('867', 9), ('wu3859', 9), ('elton', 9), ('triple-double', 9), ('1585', 9), (\"o'bannon\", 9), ('1265', 9), ('47479283', 9), ('w/rc', 9), ('hakem', 9), ('wu3751', 9), ('fc5', 9), ('wu3409', 9), ('wu3382', 9), ('549', 9), ('nk66e', 9), ('plays', 9), ('prizmd', 9), ('394', 9), ('n1654', 9), ('n1636', 9), ('knightrandy', 9), ('n2212', 9), ('fd8244', 9), ('willhite', 9), ('n2266', 9), ('n2306', 9), ('563', 9), ('change', 9), ('human', 9), ('1298', 9), ('copa', 9), ('c/coating', 9), ('fc960', 9), ('d727', 9), ('wu3701', 9), ('square', 9), ('wu3629', 9), ('movies', 9), ('ss786', 9), ('n2256', 9), ('1680', 9), ('stackhous', 9), ('ss1086', 9), ('896', 9), ('ss1033', 9), ('ss1092', 9), ('1389', 9), ('7579', 9), ('ss9749', 9), ('3875', 9), ('landsbergerbill', 9), ('cape', 9), ('cod', 9), ('promotions', 9), ('n1657', 9), ('n1622', 9), ('haws', 9), ('sc1681', 9), ('maalik', 9), ('wayns', 9), ('n1765', 9), ('315', 9), ('ilysova', 9), ('n1514', 9), ('n1523', 9), ('ss9681', 9), ('x18068', 9), ('k9893', 9), ('coopergeorge', 9), ('ss9012', 9), ('ss9077', 9), ('ss9808', 9), ('d790', 9), ('n937', 9), ('wu3835', 9), ('wu829', 9), ('wu3818', 9), ('28857741', 9), ('nk26e', 9), ('unocal', 9), ('fc911', 9), ('d760', 9), ('d762', 9), ('wu3736', 9), ('wu3737', 9), ('player-worn', 9), ('d732', 9), ('wu3684', 9), ('wu3572', 9), ('wu3595', 9), ('0935', 9), ('1:40', 9), ('ets', 9), ('n180', 9), ('d712', 9), ('d725', 9), ('d733', 9), ('d721', 9), ('d753', 9), ('d699', 9), ('d703', 9), ('d746', 9), ('d730', 9), ('d702', 9), ('mesut', 9), ('ozil', 9), ('d731', 9), ('animotion', 9), ('enlisting', 9), ('ss39', 9), ('n350', 9), ('674', 9), ('1080', 9), ('n104', 9), ('384', 9), ('n2549', 9), ('moneymike', 9), ('207220', 9), ('d867', 9), ('d820', 9), ('n344', 9), ('ss9345', 9), ('1691', 9), ('n968', 9), ('demo', 9), ('hodges', 9), ('nk81e', 9), ('wu3511', 9), ('pepsi', 9), ('ss8973', 9), ('029149', 9), ('prim', 9), ('playoffs/championship', 9), ('wu3092', 9), ('2042', 9), ('ss9579', 9), ('nk3d', 9), ('fd8634', 9), ('nk4e', 9), ('wu3099', 9), ('n982', 9), ('fijalkowski', 9), ('n2015', 9), ('1796', 9), ('604', 9), ('sc1797', 9), ('n1423', 9), ('ss9724', 9), ('n1452', 9), ('1312', 9), ('e-motion', 9), ('coins', 9), ('756', 9), ('n2079', 9), ('sc1915', 9), ('423', 9), ('jdn63e', 9), ('tamar', 9), ('slay', 9), ('1410', 9), ('jrsy', 9), ('kights', 9), ('fc1251', 9), ('n244', 9), ('adr', 9), ('113149', 9), ('fc967', 9), ('askins', 9), ('chambers', 9), ('wu3142', 9), ('2121', 9), ('n1156', 9), ('cerftified', 9), ('wu3607', 9), ('n1122', 9), ('n2017', 9), ('fc1004', 9), ('n089', 9), ('432', 8), ('wu3536', 8), ('n800', 8), ('28679862', 8), ('close-ups', 8), ('n831', 8), ('scurry', 8), ('enshrinemen', 8), ('ennesse', 8), ('mcclendon', 8), ('2650', 8), ('ipper', 8), ('45698534', 8), ('crompton', 8), ('rodrick', 8), ('pistons/nba', 8), ('08', 8), ('annversary', 8), ('046349', 8), ('072125', 8), ('1942', 8), ('4565', 8), ('sc677', 8), ('003199', 8), ('597', 8), ('566', 8), ('1466', 8), ('950', 8), ('javin', 8), ('delaurier', 8), ('paulding', 8), ('primary', 8), ('stan', 8), ('757', 8), ('insight', 8), ('849', 8), ('758', 8), ('liangelo', 8), ('393799', 8), ('n796', 8), ('jacoby', 8), ('068149', 8), ('n1164', 8), ('2039', 8), ('3173', 8), ('ad1-ad20', 8), ('redmond', 8), ('n1309', 8), ('004199', 8), ('portuguese', 8), ('nj62e', 8), ('jdn27e', 8), ('4075', 8), ('wu3216', 8), ('confrontations', 8), ('firsts', 8), ('d832', 8), ('soto', 8), ('jv', 8), ('d862', 8), ('cheyenne', 8), ('n3370', 8), ('n3385', 8), ('seals', 8), ('fives', 8), ('lavor', 8), ('postell', 8), ('chamberling', 8), ('4960', 8), ('portrats', 8), ('udt', 8), ('louzada', 8), ('silva', 8), ('ax23', 8), ('skymaster', 8), ('2081', 8), ('85-86', 8), ('titles', 8), ('xr9625', 8), ('1584', 8), ('2048', 8), ('ss9472', 8), ('gillom', 8), ('eva', 8), ('nemcova', 8), ('eddy', 8), ('103199', 8), ('aesthetic', 8), ('ags', 8), ('speckle', 8), ('grafitti', 8), ('677', 8), ('2612', 8), ('edawrds', 8), ('1067', 8), ('809', 8), ('performer', 8), ('/walt', 8), ('frazier/clem', 8), ('nickeil-alexander', 8), ('ivey', 8), ('dicky', 8), (\"ptp'ers\", 8), ('ivica', 8), ('zubac', 8), ('refractor/gold', 8), ('nicklaus', 8), ('406', 8), ('dr792', 8), ('dr824', 8), ('dr800', 8), ('dr855', 8), ('dr853', 8), ('dr799', 8), ('dr858', 8), ('dr830', 8), ('dr780', 8), ('dr778', 8), (\"n'munch\", 8), ('n725', 8), ('195199', 8), ('n773', 8), ('stephens', 8), ('1096', 8), ('6867', 8), ('ratings', 8), ('sided', 8), ('corps', 8), ('1665', 8), ('430', 8), ('agility', 8), ('pensmanship', 8), ('chick', 8), ('hearn', 8), ('sugar', 8), ('019199', 8), ('n116', 8), ('wu3774', 8), ('digregorio', 8), ('rahman', 8), ('1690', 8), ('1319', 8), ('polychrome', 8), ('ss8892', 8), ('179299', 8), ('wu3275', 8), ('wu3325', 8), ('wu3871', 8), ('28-36', 8), ('hedo', 8), ('1819', 8), ('ss1505', 8), ('ss64', 8), ('2370', 8), ('1734', 8), ('ss1537', 8), ('n3320', 8), ('eedy', 8), ('x18694', 8), ('superstore', 8), ('wu3549', 8), ('wu3464', 8), ('wu3460', 8), ('fc693', 8), ('wu3466', 8), ('wu3483', 8), ('breland', 8), ('bubba', 8), ('rob', 8), ('pelinka', 8), ('1542', 8), ('jake', 8), ('004125', 8), ('445', 8), ('4164', 8), ('ss1275', 8), ('ss1242', 8), ('morlon', 8), ('lead', 8), ('steelers', 8), ('696', 8), ('scratchers', 8), ('883', 8), ('n1124', 8), ('avrey', 8), ('n1162', 8), ('1068', 8), ('461', 8), ('1781', 8), ('1381', 8), ('3-pt', 8), ('3335', 8), ('jdn54e', 8), ('fc269', 8), ('ss8709', 8), ('jdn31e', 8), ('shoetime', 8), ('s-jw', 8), ('619', 8), ('1586', 8), ('1172', 8), ('1720', 8), ('tune', 8), ('haskin', 8), ('kelser', 8), ('manny', 8), ('wu3364', 8), ('hlth', 8), ('qty', 8), ('gametime', 8), ('mesley', 8), ('teammate', 8), ('fd7629', 8), ('winford', 8), ('ss1185', 8), ('n3378', 8), ('n3365', 8), ('mar', 8), ('kermit', 8), ('javale', 8), ('mcdermott', 8), ('d855', 8), ('n3239', 8), ('n2253', 8), ('leg', 8), ('lady', 8), ('loftin', 8), ('44357490', 8), ('kn7e', 8), ('wu3091', 8), ('wu3094', 8), ('fd9403', 8), ('128199', 8), ('phila', 8), ('4141', 8), ('wu3298', 8), ('gamer', 8), ('forbes', 8), ('wu3294', 8), ('wu3390', 8), ('wu3391', 8), ('1929', 8), ('1892', 8), ('bristowlonnie', 8), ('1621', 8), ('11x', 8), ('ss1039', 8), ('ss1088', 8), ('ss1028', 8), ('olowokandi', 8), ('719', 8), ('2860', 8), ('properties', 8), ('gurley', 8), ('2013', 8), ('jdn24e', 8), ('statch', 8), ('176199', 8), ('memorabila', 8), ('nk16a', 8), ('cleo', 8), ('1907', 8), ('danning', 8), ('2062', 8), ('557', 8), ('immortals', 8), ('summitt', 8), ('7046', 8), ('736', 8), ('mantle', 8), ('bearcats', 8), ('700', 8), ('586865', 8), ('hardway', 8), ('1556', 8)]\n"
     ]
    }
   ],
   "source": [
    "# !pip install nltk\n",
    "import nltk\n",
    "from nltk.tokenize import word_tokenize\n",
    "from nltk.tokenize import sent_tokenize\n",
    "from nltk.probability import FreqDist\n",
    "from nltk.corpus import stopwords\n",
    "from collections import OrderedDict\n",
    "nltk.download('punkt')\n",
    "words_list = df1['Unmatched'].values.tolist()\n",
    "striptext = \" \".join(words_list)\n",
    "words = word_tokenize(striptext)\n",
    "lowercase_words = [word.lower() for word in words]\n",
    "word_frequencies = FreqDist(lowercase_words)\n",
    "most_frequent_words = FreqDist(lowercase_words).most_common(10000)\n",
    "print(most_frequent_words)"
   ]
  },
  {
   "cell_type": "code",
   "execution_count": 1275,
   "id": "developmental-hydrogen",
   "metadata": {},
   "outputs": [],
   "source": [
    "import nltk\n",
    "from nltk.tag import StanfordNERTagger\n",
    "from nltk.tokenize import word_tokenize\n",
    "\n",
    "st = StanfordNERTagger('english.all.3class.distsim.crf.ser.gz','stanford-ner-4.2.0.jar',encoding='utf-8')\n",
    "def person2(text):\n",
    "    for sent in nltk.sent_tokenize(text):\n",
    "        tokens = nltk.tokenize.word_tokenize(sent)\n",
    "        tags = st.tag(tokens)\n",
    "        res = \"\"\n",
    "        for tag in tags:\n",
    "            if tag[1]=='PERSON':\n",
    "                res = res + \" \"+ tag[0]\n",
    "    return res.strip()"
   ]
  },
  {
   "cell_type": "code",
   "execution_count": 1276,
   "id": "sublime-moment",
   "metadata": {},
   "outputs": [],
   "source": [
    "undetect_name_text= [i[0] for i in most_frequent_words]\n",
    "undetect_name_text = \" \".join(undetect_name_text)\n",
    "undetected_name = person2(undetect_name_text).split(' ')\n",
    "undetected_name.extend([\"ken\",\"griffey\",\"allen\",\"ginter\",\"ohtani\",\"shohei\",\n",
    "                          \"alvarez\",\"franco\",\"lewis\",\"jim\",\n",
    "                          \"al\",\"nick\",\"kyle\",\"yordan\",\"gavin\",\"mike\",\"dominguez\",\n",
    "                          \"rodriguez\",\"jasson\",\"john\",\"ryan\",\"andrew\",\"alex\",\"diego\",\"mckenzie\",\n",
    "                           \"carlson\",\"howard\",\"zac\",\"bryan\",\"clarke\",\"adams\",\"brian\",\"pearson\",\n",
    "                          \"alexander\",\"andy\",\"perez\",\"chuck\",\"mackenzie\",\"hernandez\",\"andres\",'anderson',\n",
    "                          \"matthew\",\"kopech\",\"rosario\",\"stewart\",\"marte\",\"lee\",\"brandon\",'dalquist',\n",
    "                           \"triston\",\"tim\",'dylan','larry','martin','derek','pete','abrams','foli',\n",
    "                     'jamieson','jimenez','amethyst','charley','alston','christin', 'kershaw','luke',\n",
    "                        'sullivan', 'dustin','shane','bush','ryne', 'mccarthy', 'alec', 'willi','hunter',\n",
    "                        'samuel','dawson','kelley','jimmie','yogi','tj','rutledge','leo','johnstone',\n",
    "                        'eli','giles','varsho','ronaldo','mcconnell','sonny','evan','devin','medina',\n",
    "                        'yoshitomo','kindall','herrnstein','dempsey','clayton','connell','levi',\n",
    "                        'derrell','jahmai','marvin','blaylock','joba','lincoln','seth','delvin','scioscia',\n",
    "                        'kenny','kenney','donald','ismael','locke','opitz','janowicz','dereck','burbrink',\n",
    "                        'blackmon','leron','cade','bieber','lehner','jonathon','kuhn','dahl','jonatan',\n",
    "                        'jurado','dirk','steiner','kaminsky','dana','dubiel','franklyn','poppel','garko',\n",
    "                        'adon','jaeckel','quinton','mccracken','ackley','peter','senzel','mason','ferrara',\n",
    "                       'wander','lux','matt','wallner','spangler','julio','wright','friday','verdugo'])\n"
   ]
  },
  {
   "cell_type": "code",
   "execution_count": 1277,
   "id": "scheduled-agriculture",
   "metadata": {},
   "outputs": [],
   "source": [
    "undetected_name = set(undetected_name)\n",
    "def person_left(x):\n",
    "    res = \"\"\n",
    "    for i in x['Unmatched'].split(\" \"):\n",
    "        if i in undetected_name:\n",
    "            res = res +\" \"+ i\n",
    "    if x['Player_Name']:\n",
    "        res = x['Player_Name']+\",\"+res.strip()\n",
    "        return res\n",
    "    elif (not x['Player_Name']) and res:\n",
    "        return res.strip()\n",
    "    else:\n",
    "        return np.NaN"
   ]
  },
  {
   "cell_type": "code",
   "execution_count": 1278,
   "id": "excited-liability",
   "metadata": {},
   "outputs": [],
   "source": [
    "df1['Player_Name'] = df1.apply(lambda x:person_left(x),axis = 1)"
   ]
  },
  {
   "cell_type": "code",
   "execution_count": 1279,
   "id": "needed-weather",
   "metadata": {},
   "outputs": [
    {
     "data": {
      "text/plain": [
       "0.1172801599339015"
      ]
     },
     "execution_count": 1279,
     "metadata": {},
     "output_type": "execute_result"
    }
   ],
   "source": [
    "df1['Player_Name'].isnull().sum()/len(df1)"
   ]
  },
  {
   "cell_type": "code",
   "execution_count": 1280,
   "id": "sharing-whole",
   "metadata": {},
   "outputs": [],
   "source": [
    "def num_words_unmatched(x):\n",
    "    y = x.split(' ')\n",
    "    while(\"\" in y): \n",
    "        y.remove(\"\")\n",
    "    if y:\n",
    "        return len(y)\n",
    "    else:\n",
    "        return 0"
   ]
  },
  {
   "cell_type": "code",
   "execution_count": 1281,
   "id": "flexible-airline",
   "metadata": {},
   "outputs": [],
   "source": [
    "def cal_matched_percentage(x):\n",
    "    if x['num_words_unmatched'] == 0:\n",
    "        return 1\n",
    "    else:\n",
    "        return 1-(x['num_words_unmatched']/x['num_words_title'])"
   ]
  },
  {
   "cell_type": "code",
   "execution_count": 1282,
   "id": "permanent-athletics",
   "metadata": {},
   "outputs": [],
   "source": [
    "df1['Unmatched']=df1.apply(lambda x: else_unmatched(x),axis = 1)"
   ]
  },
  {
   "cell_type": "code",
   "execution_count": 1283,
   "id": "aquatic-flash",
   "metadata": {},
   "outputs": [],
   "source": [
    "df1['Unmatched']=df1.apply(lambda x: unmatched_trim(x),axis = 1)"
   ]
  },
  {
   "cell_type": "code",
   "execution_count": 1284,
   "id": "clear-outreach",
   "metadata": {},
   "outputs": [],
   "source": [
    "most_frequent_words = FreqDist(lowercase_words).most_common(100)\n",
    "junk_words = [i[0] for i in most_frequent_words]\n",
    "junk_words = set(junk_words)\n",
    "def match_junks(x):\n",
    "    res = \"\"\n",
    "    for i in x.split(' '):\n",
    "        if i in junk_words:\n",
    "            res = res+\" \"+i\n",
    "    if res:\n",
    "        return res.strip()\n",
    "    else:\n",
    "        return np.NaN"
   ]
  },
  {
   "cell_type": "code",
   "execution_count": 1285,
   "id": "caring-irish",
   "metadata": {},
   "outputs": [],
   "source": [
    "df1['Junks']=df1['Unmatched'].apply(lambda x: match_junks(x))"
   ]
  },
  {
   "cell_type": "code",
   "execution_count": 1286,
   "id": "direct-recovery",
   "metadata": {},
   "outputs": [],
   "source": [
    "def replace_junks(x):\n",
    "    res = x['Unmatched']\n",
    "    if isinstance(x['Junks'],str):\n",
    "        for i in x['Junks'].split(' '):\n",
    "            if i in res:\n",
    "                res = res.replace(i,\"\")\n",
    "    return res"
   ]
  },
  {
   "cell_type": "code",
   "execution_count": 1287,
   "id": "catholic-scroll",
   "metadata": {},
   "outputs": [],
   "source": [
    "df1['Unmatched']=df1.apply(lambda x: replace_junks(x),axis = 1)"
   ]
  },
  {
   "cell_type": "markdown",
   "id": "qualified-repository",
   "metadata": {},
   "source": [
    "# Calculating Stats"
   ]
  },
  {
   "cell_type": "code",
   "execution_count": 1288,
   "id": "advanced-population",
   "metadata": {},
   "outputs": [],
   "source": [
    "df1['Unmatched']=df1.apply(lambda x: unmatched_trim(x),axis = 1)"
   ]
  },
  {
   "cell_type": "code",
   "execution_count": 1289,
   "id": "infectious-exchange",
   "metadata": {},
   "outputs": [],
   "source": [
    "df1['num_words_unmatched']=df1['Unmatched'].apply(lambda x: num_words_unmatched(x))"
   ]
  },
  {
   "cell_type": "code",
   "execution_count": 1290,
   "id": "phantom-customer",
   "metadata": {},
   "outputs": [],
   "source": [
    "df1['num_words_title']=df1['Title'].apply(lambda x: len(x.split(' ')))"
   ]
  },
  {
   "cell_type": "code",
   "execution_count": 1291,
   "id": "unauthorized-highland",
   "metadata": {},
   "outputs": [],
   "source": [
    "df1['matched_percentage']=df1.apply(lambda x: cal_matched_percentage(x),axis = 1)"
   ]
  },
  {
   "cell_type": "code",
   "execution_count": 1292,
   "id": "brave-effect",
   "metadata": {},
   "outputs": [
    {
     "data": {
      "text/plain": [
       "0.8479747399303285"
      ]
     },
     "execution_count": 1292,
     "metadata": {},
     "output_type": "execute_result"
    }
   ],
   "source": [
    "df1['matched_percentage'].mean()"
   ]
  },
  {
   "cell_type": "code",
   "execution_count": 1293,
   "id": "healthy-bicycle",
   "metadata": {},
   "outputs": [],
   "source": [
    "# df1['Specialty']=df1['Specialty'].str.upper()\n",
    "# df1['Classifier']=df1['Classifier'].str.capitalize()\n",
    "# df1['Grader']=df1['Grader'].str.upper()"
   ]
  },
  {
   "cell_type": "code",
   "execution_count": 1294,
   "id": "periodic-locator",
   "metadata": {},
   "outputs": [],
   "source": [
    "def manufacturer_back(x):\n",
    "    if isinstance(x,str):\n",
    "        arr = x.split(',')\n",
    "        res = \"\"\n",
    "        while(\"\" in arr) : \n",
    "            arr.remove(\"\")\n",
    "        while(\" \" in arr) : \n",
    "            arr.remove(\" \")\n",
    "        for i in arr:\n",
    "            res = res + \" \"+ manufacturer_dict[i.strip()]\n",
    "        return res\n",
    "    else:\n",
    "        return np.NaN"
   ]
  },
  {
   "cell_type": "code",
   "execution_count": 1295,
   "id": "generous-spine",
   "metadata": {},
   "outputs": [],
   "source": [
    "def rating_back(x):\n",
    "    if isinstance(x,str):\n",
    "        return rating_dict[x]\n",
    "    else:\n",
    "        return np.NaN"
   ]
  },
  {
   "cell_type": "code",
   "execution_count": 1296,
   "id": "instant-sacramento",
   "metadata": {},
   "outputs": [],
   "source": [
    "def lower_back(x):\n",
    "    if isinstance(x,str):\n",
    "        return x.lower()\n",
    "    else:\n",
    "        return np.NaN"
   ]
  },
  {
   "cell_type": "code",
   "execution_count": 1297,
   "id": "ultimate-shakespeare",
   "metadata": {},
   "outputs": [],
   "source": [
    "df1['Manufacturer']=df1['Manufacturer'].apply(lambda x: manufacturer_back(x))\n",
    "df1['Rating'] = df1['Rating'].apply(lambda x: rating_back(x)) "
   ]
  },
  {
   "cell_type": "code",
   "execution_count": null,
   "id": "former-category",
   "metadata": {},
   "outputs": [],
   "source": []
  },
  {
   "cell_type": "code",
   "execution_count": null,
   "id": "periodic-grain",
   "metadata": {},
   "outputs": [],
   "source": []
  },
  {
   "cell_type": "code",
   "execution_count": null,
   "id": "honey-kitchen",
   "metadata": {},
   "outputs": [],
   "source": []
  },
  {
   "cell_type": "code",
   "execution_count": 1298,
   "id": "plain-attention",
   "metadata": {},
   "outputs": [],
   "source": [
    "df1.to_csv('basketball_df.csv', index=False)"
   ]
  }
 ],
 "metadata": {
  "kernelspec": {
   "display_name": "Python 3",
   "language": "python",
   "name": "python3"
  },
  "language_info": {
   "codemirror_mode": {
    "name": "ipython",
    "version": 3
   },
   "file_extension": ".py",
   "mimetype": "text/x-python",
   "name": "python",
   "nbconvert_exporter": "python",
   "pygments_lexer": "ipython3",
   "version": "3.7.9"
  }
 },
 "nbformat": 4,
 "nbformat_minor": 5
}
