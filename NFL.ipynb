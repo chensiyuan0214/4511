{
 "cells": [
  {
   "cell_type": "code",
   "execution_count": 331,
   "id": "foreign-sequence",
   "metadata": {},
   "outputs": [],
   "source": [
    "import pandas as pd\n",
    "import numpy as np\n",
    "import requests\n",
    "from bs4 import BeautifulSoup\n",
    "df=pd.read_csv(r'NFL_Data.csv')"
   ]
  },
  {
   "cell_type": "code",
   "execution_count": 332,
   "id": "pretty-screen",
   "metadata": {},
   "outputs": [
    {
     "data": {
      "text/plain": [
       "Index(['Title'], dtype='object')"
      ]
     },
     "execution_count": 332,
     "metadata": {},
     "output_type": "execute_result"
    }
   ],
   "source": [
    "df.columns"
   ]
  },
  {
   "cell_type": "code",
   "execution_count": 333,
   "id": "popular-focus",
   "metadata": {},
   "outputs": [
    {
     "name": "stdout",
     "output_type": "stream",
     "text": [
      "Index([], dtype='object')\n"
     ]
    }
   ],
   "source": [
    "df1=pd.DataFrame()\n",
    "print(df1.columns)\n",
    "df1['Title']=df['Title'].apply(lambda x:x.lower())\n",
    "df1['Year']=df1['Title'].str.extract( \"(\\d{4})\",expand=False ).str.strip()\n",
    "# df1['Year].isnull().values.any()   #True\n",
    "# df1['Year'].isnull().values.sum()  #7163\n",
    "# perc_year_na=7163/len(df)          #0.3%"
   ]
  },
  {
   "cell_type": "code",
   "execution_count": 334,
   "id": "welsh-climb",
   "metadata": {},
   "outputs": [],
   "source": [
    "df1[\"Unmatched\"] = df1['Title'].apply(lambda x: x.lower())"
   ]
  },
  {
   "cell_type": "code",
   "execution_count": 335,
   "id": "attended-authority",
   "metadata": {},
   "outputs": [],
   "source": [
    "# # Teamname=[]\n",
    "# # response = requests.get(\"https://americanfootballdatabase.fandom.com/wiki/List_of_defunct_National_Football_League_franchises\")\n",
    "# # if response.status_code == 200:\n",
    "# #     print(\"Success\")\n",
    "# # else:\n",
    "# #     print(\"Failure\")\n",
    "# # results_page = BeautifulSoup(response.content,'lxml')\n",
    "# # page = results_page.find(\"div\",\"mw-parser-output\").find_all('table')[1].find_all('th')[5:]\n",
    "# # type(page)\n",
    "# # defunt = []\n",
    "# # for i in page:\n",
    "# #     defunt.append(i.find('a').text)\n",
    "# # print(defunt)\n",
    "# # defunt_plus = [i.split(\"/\") for i in defunt]\n",
    "# # print(defunt_plus)\n",
    "# # dummy = []\n",
    "# # full_name = []\n",
    "# # for i in defunt_plus:\n",
    "# #     for j in i:\n",
    "# #         full_name.append(j)\n",
    "# #         temp = j.split(' ')\n",
    "# #         if len(temp)>1:\n",
    "# #             dummy.append(temp[1:])\n",
    "# #         else:\n",
    "# #             dummy.append(temp[0:])\n",
    "# # res = []\n",
    "# # for i in dummy:\n",
    "# #     res.append(\" \".join(i).strip())\n",
    "# # print(full_name)\n",
    "\n",
    "# res = ['Pros', 'Indians', 'Colts', 'Maroons', 'Bulldogs', 'Yanks', 'Dodgers', \n",
    "#        'Tigers', 'Lions', 'All-Americans', 'Bisons', 'Rangers', 'Bulldogs', 'Tigers', \n",
    "#        'Celts', 'Reds', 'Tigers', 'Indians', 'Indians', 'Bulldogs', 'Indians', 'Panhandles', \n",
    "#        'Tigers', 'Texans', 'Triangles', 'Heralds', 'Panthers', 'Tigers', 'Wolverines', 'Kelleys', \n",
    "#        'Eskimos', 'Crimson-Giants', 'Yellow Jackets', 'Pros', 'Blues', 'City Blues', 'Cowboys', \n",
    "#        'Maroons', 'Buccaneers', 'Brecks', 'Colonels', 'Badgers', 'Marines', 'Jackets', \n",
    "#        'Flyers', 'Bulldogs', 'Yanks', 'Yankees', 'Giants', 'Orange', 'Tornadoes', 'Indians', \n",
    "#        'Maroons', 'Bulldogs', 'Steam Roller', 'Legion', 'Tornadoes', 'Jeffersons', \n",
    "#        'Independents', 'All-Stars', 'Gunners', 'Stapletons', 'Stapes', \n",
    "#        'Maroons', 'Kardex', 'Senators']\n",
    "# res1 = ['Akron Pros', 'Indians', 'Baltimore Colts', 'Pottsville Maroons', 'Boston Bulldogs',\n",
    "#         'Boston Yanks', 'Brooklyn Dodgers', 'Tigers', 'Brooklyn Lions', \n",
    "#         'Buffalo All-Americans', 'Bisons', 'Rangers', 'Canton Bulldogs', 'Chicago Tigers', \n",
    "#         'Cincinnati Celts', 'Cincinnati Reds', 'Cleveland Tigers', 'Indians', \n",
    "#         'Cleveland Indians', 'Bulldogs', 'Cleveland Indians', 'Columbus Panhandles', \n",
    "#         'Tigers', 'Dallas Texans', 'Dayton Triangles', 'Detroit Heralds', 'Detroit Panthers', \n",
    "#         'Detroit Tigers', 'Detroit Wolverines', 'Duluth Kelleys', 'Eskimos', \n",
    "#         'Evansville Crimson-Giants', 'Frankford Yellow Jackets', 'Hammond Pros', \n",
    "#         'Hartford Blues', 'Kansas City Blues', 'Cowboys', 'Kenosha Maroons', \n",
    "#         'Los Angeles Buccaneers', 'Louisville Brecks', 'Colonels', 'Milwaukee Badgers', \n",
    "#         'Minneapolis Marines', 'Red Jackets', 'Muncie Flyers', 'New York Bulldogs', \n",
    "#         'Yanks', 'New York Yankees', 'New York Giants', 'Orange', 'Newark Tornadoes', \n",
    "#         'Oorang Indians', 'Pottsville Maroons', 'Boston Bulldogs', 'Providence Steam Roller',\n",
    "#         'Racine Legion', 'Tornadoes', 'Rochester Jeffersons', 'Rock Island Independents', \n",
    "#         'St. Louis All-Stars', 'St. Louis Gunners', 'Staten Island Stapletons', 'Stapes', \n",
    "#         'Toledo Maroons', 'Tonawanda Kardex', 'Washington Senators']\n",
    "# res.extend(res1)\n",
    "# # data = [[i] for i in res]\n",
    "# # Importing library \n",
    "# # import csv   \n",
    "# # # opening the csv file in 'w+' mode \n",
    "# # file = open('NFL_Defunt_Teams.csv', 'w+', newline ='') \n",
    "  \n",
    "# # # writing the data into the file \n",
    "# # with file:     \n",
    "# #     write = csv.writer(file) \n",
    "# #     write.writerows(data) \n",
    "# # defunt_team = pd.read_csv('NFL_Defunt_Teams.csv')\n",
    "# # defunt_team = defunt_team.values.tolist()\n",
    "# # defunt_team = [i[0] for i in defunt_team]"
   ]
  },
  {
   "cell_type": "code",
   "execution_count": 336,
   "id": "enormous-start",
   "metadata": {},
   "outputs": [],
   "source": [
    "# current_team = ['Arizona Cardinals',\n",
    "# 'Atlanta Falcons',\n",
    "# 'Baltimore Ravens',\n",
    "# 'Buffalo Bills',\n",
    "# 'Carolina Panthers',\n",
    "# 'Chicago Bears',\n",
    "# 'Cincinnati Bengals',\n",
    "# 'Cleveland Browns',\n",
    "# 'Dallas Cowboys',\n",
    "# 'Denver Broncos',\n",
    "# 'Detroit Lions',\n",
    "# 'Green Bay Packers',\n",
    "# 'Houston Texans',\n",
    "# 'Indianapolis Colts',\n",
    "# 'Jacksonville Jaguars',\n",
    "# 'Kansas City Chiefs',\n",
    "# 'Los Angeles Chargers',\n",
    "# 'Los Angeles Rams',\n",
    "# 'Miami Dolphins',\n",
    "# 'Minnesota Vikings',\n",
    "# 'New England Patriots',\n",
    "# 'New Orleans Saints',\n",
    "# 'New York Giants',\n",
    "# 'New York Jets',\n",
    "# 'Oakland Raiders',\n",
    "# 'Philadelphia Eagles',\n",
    "# 'Pittsburgh Steelers',\n",
    "# 'San Francisco 49ers',\n",
    "# 'Seattle Seahawks',\n",
    "# 'Tampa Bay Buccaneers',\n",
    "# 'Tennessee Titans',\n",
    "# 'Washington Redskins']\n",
    "# # dummy = []\n",
    "# # dummy = [i.split(' ')[1:] for i in current_team]\n",
    "# # dummy = [' '.join(i).strip() for i in dummy]\n",
    "# # dummy\n",
    "# res1 = ['Cardinals',\n",
    "#  'Falcons',\n",
    "#  'Ravens',\n",
    "#  'Bills',\n",
    "#  'Panthers',\n",
    "#  'Bears',\n",
    "#  'Bengals',\n",
    "#  'Browns',\n",
    "#  'Cowboys',\n",
    "#  'Broncos',\n",
    "#  'Lions',\n",
    "#  'Packers',\n",
    "#  'Texans',\n",
    "#  'Colts',\n",
    "#  'Jaguars',\n",
    "#  'Chiefs',\n",
    "#  'Chargers',\n",
    "#  'Rams',\n",
    "#  'Dolphins',\n",
    "#  'Vikings',\n",
    "#  'Patriots',\n",
    "#  'Saints',\n",
    "#  'Giants',\n",
    "#  'Jets',\n",
    "#  'Raiders',\n",
    "#  'Eagles',\n",
    "#  'Steelers',\n",
    "#  '49ers',\n",
    "#  'Seahawks',\n",
    "#  'Buccaneers',\n",
    "#  'Titans',\n",
    "#  'Redskins']\n",
    "# current_team.extend(res1)\n",
    "# print(current_team)\n",
    "# current_team.extend(defunt_team)\n",
    "# TeamName = current_team.copy()\n",
    "# data = [[i] for i in TeamName]\n",
    "\n",
    "# import csv   \n",
    "# # opening the csv file in 'w+' mode \n",
    "# file = open('NFL_Teams.csv', 'w+', newline ='') \n",
    "  \n",
    "# # writing the data into the file \n",
    "# with file:     \n",
    "#     write = csv.writer(file) \n",
    "#     write.writerows(data)"
   ]
  },
  {
   "cell_type": "code",
   "execution_count": 337,
   "id": "sophisticated-genius",
   "metadata": {},
   "outputs": [],
   "source": [
    "TeamName = pd.read_csv('NFL_Teams.csv')\n",
    "TeamName = TeamName.values.tolist()\n",
    "TeamName = [i[0] for i in TeamName]\n",
    "TeamName = [i.lower() for i in TeamName]"
   ]
  },
  {
   "cell_type": "code",
   "execution_count": 338,
   "id": "congressional-sphere",
   "metadata": {},
   "outputs": [],
   "source": [
    "def team_name_extract(x):\n",
    "    for i in TeamName:\n",
    "        if i in x.lower():\n",
    "            return i"
   ]
  },
  {
   "cell_type": "code",
   "execution_count": 339,
   "id": "collective-effect",
   "metadata": {},
   "outputs": [
    {
     "data": {
      "text/plain": [
       "0.8065052769516683"
      ]
     },
     "execution_count": 339,
     "metadata": {},
     "output_type": "execute_result"
    }
   ],
   "source": [
    "df1['TeamName']=df1['Title'].apply(lambda x:team_name_extract(x))\n",
    "df1['TeamName'].isnull().values.sum()/len(df) #missing 95% team name is not a frequently used key words in basketball cards"
   ]
  },
  {
   "cell_type": "code",
   "execution_count": 340,
   "id": "heavy-faith",
   "metadata": {},
   "outputs": [
    {
     "data": {
      "text/html": [
       "<div>\n",
       "<style scoped>\n",
       "    .dataframe tbody tr th:only-of-type {\n",
       "        vertical-align: middle;\n",
       "    }\n",
       "\n",
       "    .dataframe tbody tr th {\n",
       "        vertical-align: top;\n",
       "    }\n",
       "\n",
       "    .dataframe thead th {\n",
       "        text-align: right;\n",
       "    }\n",
       "</style>\n",
       "<table border=\"1\" class=\"dataframe\">\n",
       "  <thead>\n",
       "    <tr style=\"text-align: right;\">\n",
       "      <th></th>\n",
       "      <th>Count</th>\n",
       "    </tr>\n",
       "    <tr>\n",
       "      <th>TeamName</th>\n",
       "      <th></th>\n",
       "    </tr>\n",
       "  </thead>\n",
       "  <tbody>\n",
       "    <tr>\n",
       "      <th>orange</th>\n",
       "      <td>19203</td>\n",
       "    </tr>\n",
       "    <tr>\n",
       "      <th>chiefs</th>\n",
       "      <td>12076</td>\n",
       "    </tr>\n",
       "    <tr>\n",
       "      <th>patriots</th>\n",
       "      <td>9207</td>\n",
       "    </tr>\n",
       "    <tr>\n",
       "      <th>49ers</th>\n",
       "      <td>8653</td>\n",
       "    </tr>\n",
       "    <tr>\n",
       "      <th>cardinals</th>\n",
       "      <td>7995</td>\n",
       "    </tr>\n",
       "    <tr>\n",
       "      <th>...</th>\n",
       "      <td>...</td>\n",
       "    </tr>\n",
       "    <tr>\n",
       "      <th>legion</th>\n",
       "      <td>49</td>\n",
       "    </tr>\n",
       "    <tr>\n",
       "      <th>eskimos</th>\n",
       "      <td>42</td>\n",
       "    </tr>\n",
       "    <tr>\n",
       "      <th>yellow jackets</th>\n",
       "      <td>7</td>\n",
       "    </tr>\n",
       "    <tr>\n",
       "      <th>rangers</th>\n",
       "      <td>6</td>\n",
       "    </tr>\n",
       "    <tr>\n",
       "      <th>reds</th>\n",
       "      <td>5</td>\n",
       "    </tr>\n",
       "  </tbody>\n",
       "</table>\n",
       "<p>81 rows × 1 columns</p>\n",
       "</div>"
      ],
      "text/plain": [
       "                Count\n",
       "TeamName             \n",
       "orange          19203\n",
       "chiefs          12076\n",
       "patriots         9207\n",
       "49ers            8653\n",
       "cardinals        7995\n",
       "...               ...\n",
       "legion             49\n",
       "eskimos            42\n",
       "yellow jackets      7\n",
       "rangers             6\n",
       "reds                5\n",
       "\n",
       "[81 rows x 1 columns]"
      ]
     },
     "execution_count": 340,
     "metadata": {},
     "output_type": "execute_result"
    }
   ],
   "source": [
    "pd.DataFrame(df1.groupby('TeamName')['TeamName'].count()).rename(columns={\"TeamName\": \"Count\"}).sort_values(by='Count',ascending=False)"
   ]
  },
  {
   "cell_type": "markdown",
   "id": "shaped-occasions",
   "metadata": {},
   "source": [
    "# Professional Grader"
   ]
  },
  {
   "cell_type": "code",
   "execution_count": 341,
   "id": "spoken-aging",
   "metadata": {},
   "outputs": [],
   "source": [
    "df1['Grader']=df1['Title'].str.extract(r'(psa|bgs|sgc|bvg|bccg|scd|gai|sgv)',expand=True)\n",
    "#df1['Grader']=df1['Grader'].str.upper()"
   ]
  },
  {
   "cell_type": "code",
   "execution_count": 342,
   "id": "mighty-option",
   "metadata": {},
   "outputs": [
    {
     "data": {
      "text/html": [
       "<div>\n",
       "<style scoped>\n",
       "    .dataframe tbody tr th:only-of-type {\n",
       "        vertical-align: middle;\n",
       "    }\n",
       "\n",
       "    .dataframe tbody tr th {\n",
       "        vertical-align: top;\n",
       "    }\n",
       "\n",
       "    .dataframe thead th {\n",
       "        text-align: right;\n",
       "    }\n",
       "</style>\n",
       "<table border=\"1\" class=\"dataframe\">\n",
       "  <thead>\n",
       "    <tr style=\"text-align: right;\">\n",
       "      <th></th>\n",
       "      <th>Count</th>\n",
       "    </tr>\n",
       "    <tr>\n",
       "      <th>Grader</th>\n",
       "      <th></th>\n",
       "    </tr>\n",
       "  </thead>\n",
       "  <tbody>\n",
       "    <tr>\n",
       "      <th>psa</th>\n",
       "      <td>131511</td>\n",
       "    </tr>\n",
       "    <tr>\n",
       "      <th>bgs</th>\n",
       "      <td>42818</td>\n",
       "    </tr>\n",
       "    <tr>\n",
       "      <th>sgc</th>\n",
       "      <td>6834</td>\n",
       "    </tr>\n",
       "    <tr>\n",
       "      <th>bccg</th>\n",
       "      <td>801</td>\n",
       "    </tr>\n",
       "    <tr>\n",
       "      <th>bvg</th>\n",
       "      <td>590</td>\n",
       "    </tr>\n",
       "    <tr>\n",
       "      <th>gai</th>\n",
       "      <td>483</td>\n",
       "    </tr>\n",
       "    <tr>\n",
       "      <th>scd</th>\n",
       "      <td>30</td>\n",
       "    </tr>\n",
       "  </tbody>\n",
       "</table>\n",
       "</div>"
      ],
      "text/plain": [
       "         Count\n",
       "Grader        \n",
       "psa     131511\n",
       "bgs      42818\n",
       "sgc       6834\n",
       "bccg       801\n",
       "bvg        590\n",
       "gai        483\n",
       "scd         30"
      ]
     },
     "execution_count": 342,
     "metadata": {},
     "output_type": "execute_result"
    }
   ],
   "source": [
    "pd.DataFrame(df1.groupby('Grader')['Grader'].count()).rename(columns={\"Grader\": \"Count\"}).sort_values(by='Count',ascending=False)"
   ]
  },
  {
   "cell_type": "markdown",
   "id": "binary-characteristic",
   "metadata": {},
   "source": [
    "# Classifier"
   ]
  },
  {
   "cell_type": "code",
   "execution_count": 343,
   "id": "periodic-anime",
   "metadata": {},
   "outputs": [],
   "source": [
    "df1['Classifier']=df1['Title'].str.extract(r'(single|lot|set|box|pack|team set|uncut sheet|box&case breaks|cello|booklet)',expand=True)\n",
    "#df1['Classifier']=df1['Classifier'].str.capitalize()"
   ]
  },
  {
   "cell_type": "code",
   "execution_count": 344,
   "id": "bottom-praise",
   "metadata": {},
   "outputs": [
    {
     "data": {
      "text/html": [
       "<div>\n",
       "<style scoped>\n",
       "    .dataframe tbody tr th:only-of-type {\n",
       "        vertical-align: middle;\n",
       "    }\n",
       "\n",
       "    .dataframe tbody tr th {\n",
       "        vertical-align: top;\n",
       "    }\n",
       "\n",
       "    .dataframe thead th {\n",
       "        text-align: right;\n",
       "    }\n",
       "</style>\n",
       "<table border=\"1\" class=\"dataframe\">\n",
       "  <thead>\n",
       "    <tr style=\"text-align: right;\">\n",
       "      <th></th>\n",
       "      <th>Count</th>\n",
       "    </tr>\n",
       "    <tr>\n",
       "      <th>Classifier</th>\n",
       "      <th></th>\n",
       "    </tr>\n",
       "  </thead>\n",
       "  <tbody>\n",
       "    <tr>\n",
       "      <th>lot</th>\n",
       "      <td>51576</td>\n",
       "    </tr>\n",
       "    <tr>\n",
       "      <th>box</th>\n",
       "      <td>20659</td>\n",
       "    </tr>\n",
       "    <tr>\n",
       "      <th>set</th>\n",
       "      <td>16288</td>\n",
       "    </tr>\n",
       "    <tr>\n",
       "      <th>pack</th>\n",
       "      <td>14875</td>\n",
       "    </tr>\n",
       "    <tr>\n",
       "      <th>booklet</th>\n",
       "      <td>5551</td>\n",
       "    </tr>\n",
       "    <tr>\n",
       "      <th>single</th>\n",
       "      <td>3178</td>\n",
       "    </tr>\n",
       "    <tr>\n",
       "      <th>cello</th>\n",
       "      <td>1302</td>\n",
       "    </tr>\n",
       "    <tr>\n",
       "      <th>team set</th>\n",
       "      <td>441</td>\n",
       "    </tr>\n",
       "    <tr>\n",
       "      <th>uncut sheet</th>\n",
       "      <td>3</td>\n",
       "    </tr>\n",
       "  </tbody>\n",
       "</table>\n",
       "</div>"
      ],
      "text/plain": [
       "             Count\n",
       "Classifier        \n",
       "lot          51576\n",
       "box          20659\n",
       "set          16288\n",
       "pack         14875\n",
       "booklet       5551\n",
       "single        3178\n",
       "cello         1302\n",
       "team set       441\n",
       "uncut sheet      3"
      ]
     },
     "execution_count": 344,
     "metadata": {},
     "output_type": "execute_result"
    }
   ],
   "source": [
    "pd.DataFrame(df1.groupby('Classifier')['Classifier'].count()).rename(columns={\"Classifier\": \"Count\"}).sort_values(by='Count',ascending=False)"
   ]
  },
  {
   "cell_type": "markdown",
   "id": "regulated-riverside",
   "metadata": {},
   "source": [
    "# Card Number"
   ]
  },
  {
   "cell_type": "code",
   "execution_count": 345,
   "id": "defined-shanghai",
   "metadata": {},
   "outputs": [],
   "source": [
    "df1['CardNumber']=df1['Title'].str.extract(\"#(\\w*\\.?\\-?\\/?\\d?\\w*\\-?\\w+)\",expand=True )\n",
    "#df1['CardNumber']=df['Title'].str.extract( \"#(\\w*\\.?\\-?\\d?\\w+)\",expand=True )\n",
    "#df1['CardNumber'].isnull().values.sum()/len(df) # 42% missing"
   ]
  },
  {
   "cell_type": "markdown",
   "id": "metallic-seventh",
   "metadata": {},
   "source": [
    "# Quantity Made"
   ]
  },
  {
   "cell_type": "code",
   "execution_count": 346,
   "id": "legal-banking",
   "metadata": {},
   "outputs": [],
   "source": [
    "df1['QuantityMade']=df1['Title'].str.extract( \"(\\d?\\d?\\d?\\d?\\d?\\d?\\/\\d+)\",expand=True )\n",
    "#df1['QuantityMade'].isnull().values.sum()/len(df) # 74% missing"
   ]
  },
  {
   "cell_type": "markdown",
   "id": "emotional-public",
   "metadata": {},
   "source": [
    "# Specialty"
   ]
  },
  {
   "cell_type": "code",
   "execution_count": 347,
   "id": "amateur-baker",
   "metadata": {},
   "outputs": [],
   "source": [
    "Keywords= [\"jerseys\",\"jersey\",\"freshman\",\"rookies\",\"rc\", \"mvp\",\"mvps\",\"hof\",\"auto\",\"rookie\",\"nnof\",\"xrc\",\"big four\",\"bip\",\"foil\",\"jsy\",\"nib\",\"pc\",\"opg\"]\n",
    "\n",
    "def Special(x):\n",
    "    String=\"\"\n",
    "    for i in Keywords:\n",
    "        for k in x.split(\" \"):\n",
    "            if i in k:\n",
    "                String += str(i) + \",\"\n",
    "    if res:\n",
    "        return String[:-1]\n",
    "    else:\n",
    "        return np.NaN\n",
    "\n",
    "df1['Specialty']=df1['Title'].apply(lambda x: Special(x))"
   ]
  },
  {
   "cell_type": "code",
   "execution_count": 348,
   "id": "hazardous-tractor",
   "metadata": {},
   "outputs": [
    {
     "data": {
      "text/plain": [
       "0.0"
      ]
     },
     "execution_count": 348,
     "metadata": {},
     "output_type": "execute_result"
    }
   ],
   "source": [
    "df1['Specialty'].isnull().values.sum()/len(df) #%50.94 missing   "
   ]
  },
  {
   "cell_type": "markdown",
   "id": "thorough-covering",
   "metadata": {},
   "source": [
    "# Players"
   ]
  },
  {
   "cell_type": "code",
   "execution_count": 349,
   "id": "lonely-giant",
   "metadata": {},
   "outputs": [],
   "source": [
    "import requests\n",
    "from bs4 import BeautifulSoup\n",
    "def fetch_famous_players(baseurl):\n",
    "    famous_player = []\n",
    "    response = requests.get(baseurl)\n",
    "    if response.status_code == 200:\n",
    "        print(\"Success\")\n",
    "    else:\n",
    "        print(\"Failure\")\n",
    "    results_page = BeautifulSoup(response.content,'html.parser')\n",
    "    page = results_page.find(\"table\").find_all('td', attrs={'style':'font-family: Arial, sans-serif; color: windowtext; font-size: 10.0pt; font-weight: 400; font-style: normal; text-decoration: none; text-align: general; vertical-align: bottom; white-space: nowrap; border: medium none; padding-left: 1px; padding-right: 1px; padding-top: 1px'})\n",
    "    for i in page:\n",
    "        famous_player.append(i.text.split('\\n')[1].strip())\n",
    "    return famous_player"
   ]
  },
  {
   "cell_type": "code",
   "execution_count": 350,
   "id": "bearing-illness",
   "metadata": {},
   "outputs": [
    {
     "name": "stdout",
     "output_type": "stream",
     "text": [
      "Success\n",
      "Success\n",
      "Success\n",
      "Success\n",
      "Success\n"
     ]
    },
    {
     "data": {
      "text/plain": [
       "list"
      ]
     },
     "execution_count": 350,
     "metadata": {},
     "output_type": "execute_result"
    }
   ],
   "source": [
    "famous_player = fetch_famous_players(\"http://ainsworthsports.com/football_player_rankings_all_time_1_to_1000.htm\")\n",
    "famous_player.extend(fetch_famous_players(\"http://ainsworthsports.com/football_player_rankings_all_time_1001_to_2000.htm\"))\n",
    "famous_player.extend(fetch_famous_players(\"http://ainsworthsports.com/football_player_rankings_all_time_2001_to_3000.htm\"))\n",
    "famous_player.extend(fetch_famous_players(\"http://ainsworthsports.com/football_player_rankings_all_time_3001_to_4000.htm\"))\n",
    "famous_player.extend(fetch_famous_players(\"http://ainsworthsports.com/football_player_rankings_all_time_4001_to_5000.htm\"))\n",
    "type(famous_player)\n"
   ]
  },
  {
   "cell_type": "code",
   "execution_count": 351,
   "id": "afraid-mobility",
   "metadata": {},
   "outputs": [],
   "source": [
    "def person(x):\n",
    "    for i in famous_player:\n",
    "        dummy = i.lower()\n",
    "        if dummy in x:\n",
    "            return i"
   ]
  },
  {
   "cell_type": "code",
   "execution_count": 352,
   "id": "rental-matter",
   "metadata": {},
   "outputs": [],
   "source": [
    "df1['Player_Name']=df1['Title'].apply(lambda x: person(x))"
   ]
  },
  {
   "cell_type": "code",
   "execution_count": 353,
   "id": "honest-spring",
   "metadata": {},
   "outputs": [
    {
     "data": {
      "text/html": [
       "<div>\n",
       "<style scoped>\n",
       "    .dataframe tbody tr th:only-of-type {\n",
       "        vertical-align: middle;\n",
       "    }\n",
       "\n",
       "    .dataframe tbody tr th {\n",
       "        vertical-align: top;\n",
       "    }\n",
       "\n",
       "    .dataframe thead th {\n",
       "        text-align: right;\n",
       "    }\n",
       "</style>\n",
       "<table border=\"1\" class=\"dataframe\">\n",
       "  <thead>\n",
       "    <tr style=\"text-align: right;\">\n",
       "      <th></th>\n",
       "      <th>Count</th>\n",
       "    </tr>\n",
       "    <tr>\n",
       "      <th>Player_Name</th>\n",
       "      <th></th>\n",
       "    </tr>\n",
       "  </thead>\n",
       "  <tbody>\n",
       "    <tr>\n",
       "      <th>Patrick Mahomes</th>\n",
       "      <td>35029</td>\n",
       "    </tr>\n",
       "    <tr>\n",
       "      <th>Tom Brady</th>\n",
       "      <td>29792</td>\n",
       "    </tr>\n",
       "    <tr>\n",
       "      <th>Lamar Jackson</th>\n",
       "      <td>20510</td>\n",
       "    </tr>\n",
       "    <tr>\n",
       "      <th>Peyton Manning</th>\n",
       "      <td>17616</td>\n",
       "    </tr>\n",
       "    <tr>\n",
       "      <th>Josh Allen</th>\n",
       "      <td>11031</td>\n",
       "    </tr>\n",
       "    <tr>\n",
       "      <th>...</th>\n",
       "      <td>...</td>\n",
       "    </tr>\n",
       "    <tr>\n",
       "      <th>Ron Solt</th>\n",
       "      <td>1</td>\n",
       "    </tr>\n",
       "    <tr>\n",
       "      <th>Gerald Irons</th>\n",
       "      <td>1</td>\n",
       "    </tr>\n",
       "    <tr>\n",
       "      <th>Fred Quillan</th>\n",
       "      <td>1</td>\n",
       "    </tr>\n",
       "    <tr>\n",
       "      <th>Roy Barni</th>\n",
       "      <td>1</td>\n",
       "    </tr>\n",
       "    <tr>\n",
       "      <th>Sam McCullum</th>\n",
       "      <td>1</td>\n",
       "    </tr>\n",
       "  </tbody>\n",
       "</table>\n",
       "<p>3410 rows × 1 columns</p>\n",
       "</div>"
      ],
      "text/plain": [
       "                 Count\n",
       "Player_Name           \n",
       "Patrick Mahomes  35029\n",
       "Tom Brady        29792\n",
       "Lamar Jackson    20510\n",
       "Peyton Manning   17616\n",
       "Josh Allen       11031\n",
       "...                ...\n",
       "Ron Solt             1\n",
       "Gerald Irons         1\n",
       "Fred Quillan         1\n",
       "Roy Barni            1\n",
       "Sam McCullum         1\n",
       "\n",
       "[3410 rows x 1 columns]"
      ]
     },
     "execution_count": 353,
     "metadata": {},
     "output_type": "execute_result"
    }
   ],
   "source": [
    "pd.DataFrame(df1.groupby('Player_Name')['Player_Name'].count()).rename(columns={\"Player_Name\": \"Count\"}).sort_values(by='Count',ascending=False)"
   ]
  },
  {
   "cell_type": "code",
   "execution_count": 354,
   "id": "remarkable-russell",
   "metadata": {},
   "outputs": [
    {
     "data": {
      "text/plain": [
       "0.5059557010482456"
      ]
     },
     "execution_count": 354,
     "metadata": {},
     "output_type": "execute_result"
    }
   ],
   "source": [
    "df1['Player_Name'].isnull().sum()/len(df1)"
   ]
  },
  {
   "cell_type": "markdown",
   "id": "cosmetic-transportation",
   "metadata": {},
   "source": [
    "# Manufcturer"
   ]
  },
  {
   "cell_type": "code",
   "execution_count": 355,
   "id": "twelve-founder",
   "metadata": {},
   "outputs": [
    {
     "name": "stdout",
     "output_type": "stream",
     "text": [
      "443\n",
      "443\n"
     ]
    }
   ],
   "source": [
    "manufacturer=pd.read_csv(r'Sports_Cards_Keywords_Manufacturer.csv')\n",
    "# manufacturer dictinoary\n",
    "manufacturer = manufacturer.set_index('How It Appears').to_dict()['Manufacturuer']\n",
    "print(len(manufacturer))\n",
    "manufacturer_dict = {}\n",
    "for key,val in manufacturer.items():\n",
    "    if \"|\" in key:\n",
    "        keys = key.split('|')\n",
    "        for i in keys:\n",
    "            manufacturer_dict[i.lower()] = val\n",
    "    else:\n",
    "        manufacturer_dict[key.lower()] = val\n",
    "print(len(manufacturer))"
   ]
  },
  {
   "cell_type": "code",
   "execution_count": 356,
   "id": "endless-implement",
   "metadata": {},
   "outputs": [],
   "source": [
    "manufacturer_list = list(manufacturer_dict.keys())\n",
    "manufacturer_list = set(manufacturer_list)"
   ]
  },
  {
   "cell_type": "code",
   "execution_count": 357,
   "id": "entitled-space",
   "metadata": {},
   "outputs": [],
   "source": [
    "def manufacturer_detect(x):\n",
    "    res = \"\"\n",
    "    for i in x.split(\" \"):\n",
    "        if i in manufacturer_list:\n",
    "            res = res + i + \",\"\n",
    "    if res:\n",
    "        return res\n",
    "    else:\n",
    "        return np.NaN"
   ]
  },
  {
   "cell_type": "code",
   "execution_count": 358,
   "id": "south-sending",
   "metadata": {},
   "outputs": [],
   "source": [
    "df1['Manufacturer']=df1['Unmatched'].apply(lambda x: manufacturer_detect(x))"
   ]
  },
  {
   "cell_type": "code",
   "execution_count": 359,
   "id": "supported-arctic",
   "metadata": {},
   "outputs": [
    {
     "data": {
      "text/plain": [
       "0.14483667390070612"
      ]
     },
     "execution_count": 359,
     "metadata": {},
     "output_type": "execute_result"
    }
   ],
   "source": [
    "df1['Manufacturer'].isnull().sum()/len(df1)"
   ]
  },
  {
   "cell_type": "markdown",
   "id": "meaning-silly",
   "metadata": {},
   "source": [
    "# Rating"
   ]
  },
  {
   "cell_type": "code",
   "execution_count": 360,
   "id": "planned-eugene",
   "metadata": {},
   "outputs": [
    {
     "name": "stdout",
     "output_type": "stream",
     "text": [
      "75\n",
      "75\n"
     ]
    }
   ],
   "source": [
    "rating=pd.read_csv(r'Sports_Cards_Keywords_Grade.csv')\n",
    "# manufacturer dictinoary\n",
    "rating = rating.set_index('How It May Appear').to_dict()['Grade']\n",
    "print(len(rating))\n",
    "rating_dict = {}\n",
    "for key,val in rating.items():\n",
    "    if \"|\" in key:\n",
    "        keys = key.split('|')\n",
    "        for i in keys:\n",
    "            rating_dict[i.lower()] = val\n",
    "    else:\n",
    "        rating_dict[key.lower()] = val\n",
    "print(len(rating))"
   ]
  },
  {
   "cell_type": "code",
   "execution_count": 361,
   "id": "together-portal",
   "metadata": {},
   "outputs": [
    {
     "name": "stdout",
     "output_type": "stream",
     "text": [
      "1581\n"
     ]
    }
   ],
   "source": [
    "print(len(rating_dict))\n",
    "rating_list = list(rating_dict.keys())\n",
    "rating_list.sort(reverse=True)"
   ]
  },
  {
   "cell_type": "code",
   "execution_count": 362,
   "id": "usual-planning",
   "metadata": {},
   "outputs": [],
   "source": [
    "def rating_detect(x):\n",
    "    for i in rating_list:\n",
    "        if i in x:\n",
    "            return i"
   ]
  },
  {
   "cell_type": "code",
   "execution_count": 363,
   "id": "processed-nitrogen",
   "metadata": {},
   "outputs": [],
   "source": [
    "df1['Rating']=df1['Title'].apply(lambda x: rating_detect(x))"
   ]
  },
  {
   "cell_type": "code",
   "execution_count": 364,
   "id": "technical-potato",
   "metadata": {},
   "outputs": [
    {
     "data": {
      "text/plain": [
       "0.7618101174252665"
      ]
     },
     "execution_count": 364,
     "metadata": {},
     "output_type": "execute_result"
    }
   ],
   "source": [
    "df1['Rating'].isnull().sum()/len(df1)"
   ]
  },
  {
   "cell_type": "markdown",
   "id": "scenic-commission",
   "metadata": {},
   "source": [
    "# Matching"
   ]
  },
  {
   "cell_type": "code",
   "execution_count": 365,
   "id": "legitimate-documentary",
   "metadata": {},
   "outputs": [],
   "source": [
    "def manufacturer_unmatched(x):\n",
    "    if isinstance(x['Manufacturer'],str):\n",
    "        dummy = x['Unmatched']\n",
    "        manufacturer = x['Manufacturer'].split(',')\n",
    "        while(\"\" in manufacturer): \n",
    "            manufacturer.remove(\"\")\n",
    "        for i in manufacturer:\n",
    "            dummy = dummy.replace(i,\"\")\n",
    "        return dummy \n",
    "    else:\n",
    "        return x['Unmatched']"
   ]
  },
  {
   "cell_type": "code",
   "execution_count": 366,
   "id": "published-gentleman",
   "metadata": {},
   "outputs": [],
   "source": [
    "df1['Unmatched']=df1.apply(lambda x: manufacturer_unmatched(x),axis = 1)"
   ]
  },
  {
   "cell_type": "code",
   "execution_count": 367,
   "id": "alternative-grill",
   "metadata": {},
   "outputs": [],
   "source": [
    "def rating_unmatched(x):\n",
    "    if isinstance(x['Rating'],str):\n",
    "        dummy = x['Unmatched']\n",
    "        dummy = dummy.replace(x['Rating'],\"\")\n",
    "        return dummy\n",
    "    else:\n",
    "        return x['Unmatched']"
   ]
  },
  {
   "cell_type": "code",
   "execution_count": 368,
   "id": "satisfactory-protection",
   "metadata": {},
   "outputs": [],
   "source": [
    "df1['Unmatched']=df1.apply(lambda x: rating_unmatched(x),axis = 1)"
   ]
  },
  {
   "cell_type": "code",
   "execution_count": 369,
   "id": "orange-heading",
   "metadata": {},
   "outputs": [],
   "source": [
    "def else_unmatched(x):\n",
    "    y = x['Unmatched']\n",
    "    if isinstance(x['Player_Name'],str):\n",
    "        name = x['Player_Name'].lower()\n",
    "        y = y.replace(name,\"\")\n",
    "    if isinstance(x['Year'],str):\n",
    "        year = x['Year'].lower()\n",
    "        y = y.replace(year,\"\")\n",
    "    if isinstance(x['Specialty'],str):\n",
    "        specialty = x['Specialty'].lower().split(',')\n",
    "        for i in specialty:\n",
    "            y = y.replace(i,\"\")\n",
    "    if isinstance(x['Classifier'],str):\n",
    "        classifiers = x['Classifier'].lower()\n",
    "        y = y.replace(classifiers,\"\")\n",
    "    if isinstance(x['QuantityMade'],str):\n",
    "        quantity_made = x['QuantityMade'].lower()\n",
    "        y = y.replace(quantity_made,\"\")\n",
    "        if \"/\" in y:\n",
    "            y = y.replace(\"/\",\"\")\n",
    "    if isinstance(x['Grader'],str):\n",
    "        garder = x['Grader'].lower()\n",
    "        y = y.replace(garder,\"\")\n",
    "    if isinstance(x['CardNumber'],str):\n",
    "        card_number = x['CardNumber'].lower()\n",
    "        y = y.replace(card_number,\"\")\n",
    "        if \"#\" in y:\n",
    "            y = y.replace(\"#\",\"\")\n",
    "    if isinstance(x['TeamName'],str):\n",
    "        team_name = x['TeamName'].lower()\n",
    "        y = y.replace(team_name,\"\")\n",
    "    return y"
   ]
  },
  {
   "cell_type": "code",
   "execution_count": 370,
   "id": "lesbian-tuner",
   "metadata": {},
   "outputs": [],
   "source": [
    "df1['Unmatched']=df1.apply(lambda x: else_unmatched(x),axis = 1)"
   ]
  },
  {
   "cell_type": "code",
   "execution_count": 371,
   "id": "indonesian-machine",
   "metadata": {},
   "outputs": [],
   "source": [
    "def unmatched_trim(x):\n",
    "    strings = x['Unmatched'].strip().split(' ')\n",
    "    res = ' '.join([x for x in strings if x])\n",
    "    return res"
   ]
  },
  {
   "cell_type": "code",
   "execution_count": 372,
   "id": "living-ozone",
   "metadata": {},
   "outputs": [],
   "source": [
    "df1['Unmatched']=df1.apply(lambda x: unmatched_trim(x),axis = 1)"
   ]
  },
  {
   "cell_type": "code",
   "execution_count": 373,
   "id": "stunning-jones",
   "metadata": {},
   "outputs": [
    {
     "name": "stderr",
     "output_type": "stream",
     "text": [
      "[nltk_data] Downloading package punkt to\n",
      "[nltk_data]     /Users/chensiyuan/nltk_data...\n",
      "[nltk_data]   Package punkt is already up-to-date!\n"
     ]
    },
    {
     "name": "stdout",
     "output_type": "stream",
     "text": [
      "[('prizm', 192567), ('patch', 104506), ('football', 93732), ('graph', 91061), ('card', 86816), ('$', 80828), ('gold', 77138), ('silver', 74939), ('mint', 70716), ('prizms', 64339), ('contenders', 61247), ('chrome', 57385), ('gem', 57290), ('blue', 55260), ('optic', 53812), ('of', 52404), ('refractor', 51486), ('national', 49717), ('draft', 49423), ('treasures', 49357), ('red', 49197), ('upper', 43440), ('deck', 43204), ('*', 40667), ('rated', 37457), ('(', 37095), (')', 37080), ('green', 36857), ('playoff', 35707), ('signatures', 33955), ('ticket', 33504), ('rpa', 31492), (\"'s\", 31431), ('ii', 28087), ('certified', 26656), ('&', 26463), ('picks', 26085), ('the', 24232), ('black', 24135), ('10', 23869), ('elite', 23829), ('-', 22952), ('mosaic', 22950), ('ex', 22474), ('read', 22044), ('stars', 21446), ('absolute', 20417), ('sanders', 20208), ('cut', 19981), ('nfl', 19947), ('murray', 19933), ('game', 19830), ('joe', 19341), ('spectra', 19247), ('kyler', 19043), ('purple', 18886), ('smith', 18770), ('die', 18333), ('flawless', 18002), ('9.5', 17325), ('phoenix', 17197), ('materials', 16771), ('jones', 16591), ('dual', 16497), ('barry', 16465), ('collection', 16413), ('jumbo', 15997), ('jr', 15629), ('immaculate', 15566), ('team', 15448), ('brett', 15310), ('2', 15301), ('#', 15195), ('favre', 15109), ('pro', 14861), ('3', 14833), ('prime', 14830), ('holo', 14589), ('collegiate', 14381), ('prestige', 14285), ('level', 14039), ('neon', 13516), ('emmitt', 13473), ('bowl', 13387), ('pink', 13221), ('color', 13211), ('authentic', 13185), ('r', 13155), ('dan', 13148), ('used', 13110), ('mirror', 13037), ('proof', 12254), ('press', 12245), ('marino', 12216), ('john', 12060), ('platinum', 12010), ('jerry', 11970), ('triple', 11916), ('daniel', 10986), ('and', 10740), ('signed', 10656), ('threads', 10381), ('logo', 10276), ('white', 10206), ('limited', 10178), ('burrow', 10000), ('rice', 9919), ('ers', 9878), ('gridiron', 9851), ('legends', 9810), ('metal', 9773), ('premier', 9731), ('baker', 9730), ('9', 9702), ('nm', 9626), ('cards', 9594), ('justin', 9362), ('troy', 9355), ('moss', 9321), ('legacy', 9229), ('brown', 9217), ('mayfield', 9179), ('crown', 9147), ('davis', 9142), ('nm/', 9007), ('signature', 8958), ('randy', 8895), ('collector', 8843), ('drew', 8785), ('origins', 8708), ('wave', 8675), ('illusions', 8620), ('rare', 8532), ('chronicles', 8387), ('aikman', 8307), ('ex/', 8301), ('break', 8268), ('lock', 8238), ('royale', 8105), ('die-cut', 8071), ('herbert', 8046), ('edge', 8006), ('unparalleled', 7994), ('young', 7923), ('bronze', 7903), ('steve', 7862), ('comc', 7847), ('classics', 7802), ('elway', 7734), ('base', 7661), ('sam', 7626), ('tua', 7607), ('metcalf', 7599), ('club', 7594), ('super', 7556), ('series', 7529), ('fanatics', 7425), ('4', 7414), ('dk', 7313), ('s', 7287), ('ice', 7258), ('sealed', 7245), (\"'d\", 7174), ('on', 7160), ('nm-mt', 7145), ('premium', 7106), ('patches', 7062), ('concourse', 7042), ('stadium', 7032), ('field', 6975), ('factory', 6942), ('ex/ex+', 6926), ('graphs', 6905), ('plates', 6844), ('terrell', 6808), ('pass', 6787), ('montana', 6725), ('james', 6722), ('mike', 6708), ('darnold', 6661), ('ink', 6472), ('johnson', 6435), ('dwayne', 6395), ('rps', 6356), ('gear', 6311), ('a', 6285), ('parallel', 6274), ('kings', 6248), ('tagovailoa', 6235), ('haskins', 6229), ('variation', 6186), ('edition', 6165), ('1', 6156), ('college', 6074), ('memorabilia', 6063), ('jim', 6061), ('one', 6034), ('case', 5982), ('all', 5970), ('century', 5965), ('ball', 5928), ('yellow', 5885), ('action', 5873), ('bowman', 5856), ('ed', 5847), ('standard', 5814), ('taylor', 5805), ('xr', 5784), ('williams', 5749), ('zone', 5712), ('mini', 5672), ('obsidian', 5661), ('day', 5646), ('plate', 5543), ('retail', 5435), ('pulsar', 5420), ('year', 5419), ('encased', 5414), ('jarrett', 5398), ('stidham', 5269), ('showcase', 5207), ('choose', 5100), ('playbook', 5062), ('printing', 5032), ('devin', 4996), ('spectrum', 4986), ('chase', 4917), ('emerald', 4899), ('80++', 4884), ('diamond', 4846), ('qb', 4820), ('5', 4786), ('cracked', 4777), ('impact', 4777), ('relics', 4722), ('hit', 4720), ('artist', 4695), ('ultimate', 4601), ('line', 4581), ('walter', 4510), ('payton', 4463), ('season', 4448), ('luminance', 4444), ('ex+', 4433), ('tony', 4429), ('cfl', 4370), ('quad', 4292), ('camo', 4253), ('brian', 4223), ('6', 4218), ('in', 4132), ('points', 4132), ('jalen', 4116), ('aj', 4115), ('championship', 4086), ('ruby', 3936), ('ssd', 3934), ('40+', 3891), ('allen', 3875), ('sapphire', 3859), ('b', 3826), ('impeccable', 3819), ('thomas', 3777), ('tag', 3773), ('worn', 3738), ('johnny', 3731), ('choice', 3722), ('sterling', 3705), ('clear', 3702), ('numbers', 3701), ('120+', 3690), ('jordan', 3665), ('80+', 3653), ('glossy', 3619), ('hot', 3612), ('atomic', 3593), ('minshew', 3576), ('honors', 3559), ('gardner', 3552), ('josh', 3544), ('helmet', 3534), ('no', 3491), ('future', 3486), ('bay', 3473), ('longevity', 3467), ('1st', 3442), ('bob', 3394), ('vg/', 3387), ('player', 3386), ('premiere', 3378), ('8', 3378), ('etch', 3366), ('harris', 3358), ('hyper', 3355), ('usa', 3349), ('relic', 3321), ('back', 3311), ('michael', 3307), ('zenith', 3294), ('60+', 3286), ('martin', 3284), ('faulk', 3240), ('hobby', 3236), ('j', 3224), ('400+', 3209), ('power', 3201), ('fabric', 3197), ('love', 3146), ('moore', 3138), ('curtis', 3135), ('to', 3108), ('300+', 3098), ('iii', 3087), ('shield', 3079), ('elements', 3075), ('deion', 3074), ('marshall', 3034), ('xtra', 2990), ('cuts', 2988), ('nike', 2975), ('200+', 2966), ('edgerrin', 2952), ('electric', 2948), ('x', 2944), ('x-fractor', 2934), ('light', 2908), ('henry', 2869), ('fotl', 2852), ('exquisite', 2848), ('army', 2841), ('jonathan', 2835), ('tim', 2832), ('fire', 2816), ('from', 2812), ('150+', 2808), ('all-american', 2806), ('terry', 2805), ('preferred', 2804), ('instant', 2800), ('vg', 2790), ('chris', 2788), ('.', 2786), ('hardman', 2748), ('copper', 2746), ('hall', 2743), ('samuel', 2734), ('tomlinson', 2731), ('retro', 2730), ('7', 2723), ('pects', 2715), ('mecole', 2713), ('insert', 2704), ('maus', 2692), ('hurts', 2685), ('tary', 2684), ('scope', 2670), ('120++', 2663), ('will', 2656), ('500+', 2650), ('bradshaw', 2620), ('us', 2616), ('momentum', 2604), ('fame', 2588), ('lamb', 2580), ('supreme', 2579), ('harry', 2574), ('ladainian', 2564), ('jefferson', 2561), ('disco', 2550), ('paul', 2549), ('ceedee', 2533), ('american', 2531), ('heroes', 2530), ('swatches', 2522), ('ryan', 2521), ('material', 2513), ('debut', 2507), ('2nd', 2502), ('150++', 2457), ('class', 2455), ('burst', 2453), ('mt', 2440), ('roger', 2439), ('greats', 2437), ('jerome', 2437), ('campbell', 2430), ('washington', 2414), ('kelly', 2393), ('crusade', 2381), ('100', 2368), ('pristine', 2361), ('watt', 2341), ('moments', 2334), ('vision', 2332), ('masters', 2331), ('legendary', 2331), ('aaron', 2324), ('complete', 2310), ('tj', 2295), ('300', 2295), ('deebo', 2274), ('sweet', 2264), ('pop', 2248), ('bettis', 2241), (\"n'keal\", 2240), ('colossal', 2236), ('bobby', 2230), ('600+', 2220), ('clyde', 2212), ('stickers', 2208), ('swatch', 2207), ('jackson', 2206), ('trinity', 2206), ('staubach', 2203), ('40++', 2188), ('brandon', 2174), ('lot', 2171), ('tradition', 2163), ('spotlight', 2159), ('60++', 2159), ('unitas', 2158), ('hill', 2154), ('!', 2147), ('reggie', 2125), ('row', 2114), ('graphed', 2095), ('damien', 2094), ('ray', 2090), ('canvas', 2087), ('majestic', 2069), ('25', 2069), ('200', 2056), ('shimmer', 2045), ('warner', 2039), ('bill', 2034), ('checklist', 2019), ('kevin', 2018), ('20', 2015), ('ton', 2014), ('issue', 2014), ('1-200', 2013), ('claypool', 2011), ('harrison', 1999), ('namath', 1995), ('inscriptions', 1993), ('bruce', 1990), ('xfractor', 1975), ('jeudy', 1974), ('marquise', 1973), ('update', 1973), ('lawrence', 1970), ('david', 1962), ('300++', 1947), ('ruggs', 1940), ('number', 1939), ('trophy', 1934), ('rainbow', 1931), ('hunter', 1922), ('usfl', 1920), ('aspirations', 1915), ('jack', 1915), ('noah', 1891), ('dj', 1885), ('preview', 1885), ('derrick', 1882), ('traded', 1880), ('orange', 1880), ('george', 1879), ('11', 1875), ('jake', 1874), ('down', 1870), ('sparkle', 1868), ('blaster', 1859), ('totally', 1857), ('kurt', 1851), ('dick', 1838), ('finite', 1837), ('stock', 1824), ('ectra', 1824), ('first', 1817), ('wilson', 1814), ('spot', 1810), ('futures', 1809), ('unciulated', 1807), ('magic', 1788), ('150', 1776), ('eagles', 1769), ('status', 1766), ('anthony', 1763), ('250', 1761), ('heritage', 1757), ('five', 1749), ('larry', 1742), ('time', 1732), ('with', 1731), ('high', 1728), ('patrick', 1723), ('warren', 1710), ('design', 1709), ('franchise', 1708), ('valiant', 1703), ('120', 1699), ('flash', 1694), ('prism', 1693), ('tom', 1692), ('tri-color', 1685), ('250+', 1684), ('edwards-helaire', 1683), ('post', 1682), ('rosen', 1682), ('50+', 1680), ('winning', 1677), ('edwards', 1672), ('rising', 1668), ('800+', 1663), ('phenoms', 1657), ('inserts', 1657), ('fant', 1655), ('irvin', 1649), ('15', 1646), ('eric', 1642), ('400', 1634), ('200++', 1634), ('don', 1630), ('urlacher', 1613), ('lewis', 1603), ('matt', 1602), ('tie-dye', 1599), ('mojo', 1599), ('ny', 1593), ('spellbound', 1589), ('new', 1587), ('jj', 1579), ('strata', 1576), ('antonio', 1569), ('grier', 1569), ('dame', 1558), ('notre', 1554), ('12', 1546), ('marvin', 1543), ('oilers', 1540), ('centered', 1538), ('different', 1532), ('reserve', 1529), ('renfrow', 1523), ('jeff', 1521), ('lazer', 1515), ('henderson', 1512), ('w/', 1511), ('epix', 1510), ('aqua', 1509), ('fred', 1506), ('christian', 1500), ('award', 1488), ('border', 1482), ('mason', 1481), ('medallion', 1481), ('swift', 1480), ('box', 1474), ('g/vg', 1471), (\"d'andre\", 1467), ('andy', 1464), ('``', 1462), ('jacob', 1455), ('photo', 1455), ('anniversary', 1452), ('nick', 1445), ('irv', 1445), ('authentics', 1444), ('quantum', 1439), ('cole', 1438), ('timeless', 1435), ('revolution', 1428), ('touchdown', 1427), ('mark', 1427), ('teal', 1427), ('rudolph', 1421), ('/dna', 1417), ('wild', 1415), ('dp', 1407), ('diontae', 1407), ('turn', 1404), ('sayers', 1404), ('trade', 1395), ('tribute', 1394), ('portraits', 1387), ('stamps', 1385), ('state', 1383), ('icons', 1380), ('passing', 1380), ('dawson', 1378), ('redemption', 1367), ('tyler', 1365), ('roy', 1362), ('die-cuts', 1351), ('alexander', 1348), ('robinson', 1345), ('corey', 1338), ('inception', 1337), ('benny', 1327), ('aiyuk', 1325), ('ronald', 1324), ('pat', 1324), ('cam', 1323), ('tools', 1320), ('higgins', 1314), ('pollard', 1313), ('gale', 1312), ('+', 1309), ('museum', 1307), ('big', 1307), ('uer', 1307), ('30+', 1306), ('charlie', 1306), ('colors', 1304), ('next', 1302), ('bradley', 1301), ('pen', 1300), ('gary', 1298), ('pals', 1297), ('willie', 1295), ('snell', 1294), ('carter', 1292), ('howard', 1287), ('arizona', 1283), (\"''\", 1282), ('paramount', 1279), ('private', 1271), ('t', 1269), ('starr', 1268), ('focus', 1263), ('mattison', 1258), ('art', 1257), ('signs', 1255), ('bart', 1255), ('eason', 1254), ('owens', 1254), ('dillon', 1253), ('valor', 1252), ('universe', 1252), ('darrell', 1250), ('tremendous', 1246), ('parris', 1245), (',', 1238), ('dort', 1235), ('extra', 1231), ('golden', 1227), ('glass', 1223), ('z', 1223), ('huddle', 1220), ('tarkenton', 1219), ('large', 1218), ('e', 1218), ('tee', 1212), ('laundry', 1211), ('butler', 1210), ('ty', 1209), ('fran', 1206), ('veteran', 1200), ('endorsements', 1199), ('ken', 1199), ('school', 1199), ('stained', 1198), ('mitchell', 1190), ('crystals', 1190), ('chubb', 1190), ('dobbins', 1189), ('earl', 1187), ('champ', 1187), ('graded', 1185), ('marks', 1184), ('foe', 1182), ('gonzalez', 1180), ('excalibur', 1178), ('2000', 1177), ('travis', 1175), ('manziel', 1175), ('packs', 1171), ('cj', 1169), ('hockenson', 1169), ('reed', 1168), ('flag', 1164), ('isaiah', 1163), ('jason', 1147), ('quads', 1145), ('letter', 1144), ('thurman', 1144), ('la', 1140), ('mystique', 1136), ('akers', 1129), ('1988', 1129), ('cramer', 1127), ('true', 1121), ('players', 1121), ('13', 1112), ('bryce', 1111), ('velocity', 1109), ('sunday', 1108), ('lee', 1108), ('silhouettes', 1105), ('finley', 1097), ('night', 1097), ('stick', 1096), ('aurora', 1093), ('friday', 1092), ('label', 1091), ('variations', 1089), ('osu', 1088), ('len', 1085), ('andre', 1083), ('ron', 1077), ('dickerson', 1075), ('greene', 1073), ('bush', 1072), ('grade', 1072), ('total', 1071), ('o', 1071), ('acetate', 1067), ('reactive', 1066), ('hand', 1065), ('easton', 1064), ('penmanship', 1060), ('book', 1059), ('set', 1059), ('w', 1058), ('pick', 1058), ('24', 1053), ('eelers', 1050), ('stripes', 1050), ('leather', 1048), ('joshua', 1046), ('moon', 1046), ('jr.', 1044), ('ap', 1038), ('simpson', 1037), ('robert', 1037), ('framed', 1031), ('fuller', 1031), ('seau', 1025), ('toh', 1025), ('scott', 1023), (\"'\", 1022), ('isabella', 1020), ('bailey', 1020), ('combos', 1017), ('riley', 1015), ('signings', 1015), ('junior', 1014), ('largent', 1011), ('lettermen', 1010), ('generation', 1009), ('mahomes', 1008), ('16', 1007), ('canton', 1003), ('alex', 1002), ('kenyan', 1002), ('stat', 1001), ('champions', 1001), ('fx', 995), ('ronnie', 993), ('tributes', 993), ('sports', 992), ('image', 992), ('swoosh', 989), ('nicely', 987), ('franco', 987), ('van', 986), ('griese', 984), ('ahives', 984), ('oj', 983), ('gibson', 982), ('sensational', 980), ('right', 976), ('vertex', 975), ('throwing', 973), ('performers', 971), ('graphics', 969), ('round', 964), ('monday', 964), ('downtown', 963), ('ridley', 961), ('magenta', 956), ('watch', 953), ('encore', 952), ('impressions', 951), ('double', 946), ('world', 944), ('cyan', 942), ('fat', 942), ('dave', 939), ('kyle', 937), ('treasured', 936), ('50', 932), ('album', 930), ('14', 930), ('shenault', 930), ('refractors', 928), ('vinyl', 926), ('air', 925), ('infinity', 924), ('laviska', 923), ('hornung', 918), ('reagor', 916), ('for', 915), ('50++', 914), ('frank', 913), ('rb', 913), ('alabama', 912), ('greg', 908), ('trios', 907), ('sepia', 904), ('tie', 903), ('v', 903), ('glove', 902), ('odyssey', 899), ('introductions', 898), ('dye', 894), ('80', 893), ('rush', 891), ('butkus', 887), ('99', 886), ('victory', 883), ('gloves', 881), ('1-300', 876), ('c', 874), ('ions', 869), ('jimmy', 868), ('250++', 866), ('lynn', 865), ('wax', 864), ('billy', 864), ('charles', 863), ('invincible', 863), ('0', 861), ('louis', 861), ('significant', 860), ('17', 859), ('pack', 858), ('kj', 856), ('sensations', 855), ('tittle', 854), ('perry', 854), ('vintage', 849), ('shadow', 849), ('roll', 848), ('cris', 844), ('u19', 844), ('titanium', 842), ('kmet', 841), ('iowa', 830), ('chad', 829), ('pennants', 828), ('fromm', 828), ('ingram', 828), ('print', 827), ('24k', 826), ('ted', 825), ('isaac', 825), ('wr', 825), ('now', 825), ('top', 823), ('convention', 819), ('1-100', 817), ('chuck', 817), ('175', 815), ('phenom', 815), ('serial', 814), ('crossover', 812), ('hakeem', 812), ('dante', 812), ('8.50gpa', 812), ('immortals', 810), ('derek', 806), ('400++', 805), ('lilly', 805), ('leaders', 803), ('myles', 802), ('polamalu', 802), ('miller', 799), ('ring', 799), ('honor', 797), ('short', 795), ('k', 786), ('nate', 780), ('kirk', 779), ('woodson', 778), ('40', 778), ('dynagon', 777), ('all-pro', 777), ('long', 776), ('piece', 774), ('g', 769), ('kelley', 769), ('wayne', 768), ('league', 766), ('mack', 765), ('police', 763), ('flight', 763), ('turkey', 760), ('matthews', 758), ('otto', 756), ('hawkeyes', 755), ('ross', 753), ('reflections', 751), ('tommy', 750), ('boykin', 750), ('teams', 750), ('marble', 748), ('nflpa', 748), ('anderson', 747), ('sign', 746), ('prismatic', 745), ('zack', 745), ('zach', 745), ('/', 745), ('ben', 744), ('hines', 743), ('great', 743), ('wright', 740), ('tandems', 740), ('hands', 740), ('holoview', 740), ('201', 740), ('2001', 736), ('buccaneers', 736), ('blanda', 735), ('up', 733), ('date', 733), ('bryan', 732), ('simmons', 731), ('tek', 730), ('shepard', 730), ('embossed', 729), ('bca', 728), ('kellen', 727), ('scripts', 727), ('kaboom', 727), ('miles', 725), ('combo', 725), ('hester', 725), ('30', 724), ('dragon', 721), ('exclusive', 719), ('22k', 717), ('60', 716), ('jennings', 713), ('gallery', 712), ('22', 711), ('charley', 709), ('yard', 708), ('cooper', 707), ('zebra', 707), ('evans', 705), ('play', 705), ('stripe', 705), ('san', 703), ('win', 703), ('guice', 703), ('tri', 701), ('500', 700), ('hanger', 700), ('times', 699), ('8.5', 698), ('success', 697), ('lamar', 697), ('rod', 696), ('radiance', 696), ('prominence', 694), ('aega-whiteside', 694), ('tebow', 692), ('ia', 691), ('little', 690), ('scale', 689), ('gordon', 688), ('mystery', 687), ('precious', 686), ('darnell', 684), ('18', 684), ('helmets', 681), ('aspiring', 681), ('derrius', 680), ('retired', 679), ('bell', 679), ('sonny', 677), ('dominion', 675), ('small', 675), ('hurst', 673), ('supplemental', 673), ('layne', 672), ('23', 671), ('sport', 670), ('university', 667), ('parker', 666), ('laser', 665), ('hamler', 664), ('name', 663), ('riggins', 663), ('hayden', 660), ('interstate', 659), ('donovan', 656), ('nyheim', 655), ('st.', 655), ('per', 654), ('griffin', 653), ('watson', 652), ('illumination', 651), ('brilliants', 651), ('denzel', 651), ('bowden', 650), ('heaven', 649), ('19', 647), ('25+', 647), ('xs', 646), ('mims', 645), ('boss', 644), ('vanguard', 644), ('logos', 644), ('walker', 642), ('fantasy', 642), ('gesicki', 641), ('houston', 639), ('brooks', 637), ('reprints', 637), ('cap', 635), ('dpp', 634), ('jurgensen', 632), ('summit', 631), ('pattern', 630), ('cody', 630), ('lou', 628), ('profiles', 627), ('prisms', 625), ('bryant', 623), ('crystal', 623), ('hilton', 623), ('era', 623), ('lambert', 621), ('savage', 620), ('wonderful', 620), ('1000', 619), ('champion', 618), ('dawkins', 616), ('monk', 614), ('multi', 613), ('thompson', 612), ('tour', 611), ('footbal', 611), ('brady', 610), ('low', 610), ('vip', 608), ('manning', 603), ('justice', 600), ('end', 598), ('advantage', 596), ('austin', 596), ('threats', 593), ('face', 592), ('turner', 592), ('ex-mt', 592), ('psychedelic', 590), ('playoffs', 589), ('fouts', 588), ('800', 587), ('record', 584), ('vaughn', 584), ('1998', 584), ('dominators', 583), ('gaskin', 582), ('garrett', 582), ('monumental', 581), ('style', 580), ('maynard', 580), ('kenneth', 579), ('malcolm', 578), ('william', 578), ('-20', 578), ('baltimore', 577), ('all-time', 576), ('live', 576), ('okudah', 576), ('coverage', 575), ('playmakers', 575), ('diego', 575), ('1999', 574), ('booker', 574), ('xl', 573), ('kendall', 573), ('mcdonald', 573), ('pettis', 573), ('ernie', 572), ('perine', 572), ('randle', 572), ('deshone', 571), ('trio', 571), ('master', 570), ('dexter', 569), ('ionix', 568), ('karat', 568), ('dress', 567), ('years', 566), ('24kt', 566), ('las', 565), ('nmmt', 565), ('fabrics', 565), ('ditka', 564), ('qbc', 563), ('pride', 562), ('buyback', 561), ('conference', 560), ('danny', 560), ('jamaal', 559), ('roosevelt', 559), ('2017', 558), ('floyd', 557), ('bulldozers', 557), ('burns', 557), ('logan', 556), ('masterpiece', 554), ('gabriel', 554), ('60th', 551), ('graham', 551), ('vegas', 550), ('kenny', 550), ('kerryon', 549), ('lsu', 549), (\"tre'quan\", 548), ('ssp', 548), ('oliver', 548), ('1200+', 547), ('d', 546), ('csonka', 546), ('recollection', 546), ('jeremy', 545), ('letterman', 544), ('throwback', 542), ('apba', 541), ('promo', 541), ('potential', 541), ('real', 541), ('irish', 541), ('off', 540), ('deandre', 539), ('building', 539), ('600', 539), ('penny', 538), ('cook', 537), ('jared', 534), ('board', 533), ('clay', 533), ('standouts', 533), ('duvernay', 532), ('tmall', 532), ('military', 531), ('introduction', 530), ('rob', 529), ('career', 529), ('tickets', 529), ('elegance', 529), ('blocks', 529), ('epic', 528), ('essential', 528), ('credentials', 528), ('fall', 528), ('maroon', 527), ('nfc', 527), ('phillips', 527), ('alan', 526), ('production', 526), ('immortal', 525), ('galactic', 525), ('newsome', 524), ('stub', 524), ('kizer', 524), ('lance', 523), (':', 523), ('gifford', 523), ('eye', 523), ('marquez', 522), ('brilliance', 522), ('mel', 517), ('scripted', 515), ('20+', 515), ('you', 514), ('bednarik', 512), ('call', 511), ('o.j', 511), ('mcsorley', 510), (\"ke'shawn\", 509), ('saturday', 508), ('coins', 508), ('target', 508), ('shining', 507), ('ecial', 507), ('nm-mt+', 507), ('knight', 505), ('eli', 504), ('adams', 504), ('manufactured', 504), ('trace', 504), ('etopps', 503), ('sticker', 503), ('stone', 502), ('johnathan', 501), ('michigan', 501), ('veterans', 500), ('hamilton', 500), ('freeman', 499), ('astral', 498), ('doug', 498), ('parallels', 498), ('radiant', 498), ('hogg', 497), ('royalty', 497), ('armstead', 496), ('++', 496), ('winners', 496), ('ground', 495), ('timeline', 493), ('huge', 493), ('ohio', 493), ('highland', 493), ('westbrook', 492), ('history', 492), ('exclusives', 491), ('fireworks', 491), ('biletnikoff', 491), ('21', 491), ('steel', 491), ('carolina', 491), ('goal', 491), ('1000+', 489), ('jaylen', 487), ('carl', 485), ('reynolds', 485), ('page', 485), ('access', 485), ('lenny', 484), ('connor', 484), ('pantheon', 484), ('ozzie', 483), ('lynch', 482), ('ud3', 481), ('fresh', 481), ('co-signers', 480), ('luminous', 479), ('carson', 478), ('favorites', 478), ('full', 475), ('morgan', 475), ('old', 475), ('1985', 474), ('strike', 474), ('left', 473), ('se', 473), ('father', 472), ('masterpieces', 472), ('fan', 472), ('adam', 471), ('valdes-scantling', 471), ('reprint', 470), ('violet', 470), ('missing', 470), ('ticket/', 470), ('gazing', 469), ('nu-cards', 469), ('cardale', 467), ('gene', 467), ('bishop', 467), ('lights', 466), ('legend', 464), ('lime', 464), ('mccaffrey', 464), ('dixon', 462), ('olsen', 462), ('kickoff', 461), ('alworth', 461), ('thunder', 460), ('afc', 460), ('performance', 460), ('primary', 457), ('president', 457), ('souvenirs', 456), ('hugh', 455), ('sammy', 455), ('105', 455), ('stabler', 454), ('shoe', 454), ('harold', 454), ('stanley', 453), ('raymond', 453), ('n', 453), ('mcfarland', 453), ('hayes', 453), ('aka', 452), ('roundup', 451), ('pete', 450), ('fulgham', 450), ('barkley', 450), ('marqise', 450), ('gallman', 450), ('running', 448), ('winovich', 448), ('trading', 448), ('samuels', 447), ('gandy-golden', 447), ('fighting', 447), ('deacon', 446), ('3-d', 445), ('russell', 445), ('superfractor', 445), ('ovation', 445), ('tide', 445), ('rave', 445), ('beckett', 443), ('j.k.', 443), ('is', 443), ('special', 442), ('hurd', 442), ('rashaad', 440), ('merlin', 440), ('place', 439), ('2016', 439), ('promos', 437), ('ch', 437), ('98', 437), ('stewart', 437), ('peoples-jones', 437), ('diggs', 436), ('rodgers', 436), ('sapp', 436), ('pandora', 436), ('genuine', 431), ('king', 431), ('berry', 431), (\"'ed\", 429), ('strahan', 429), ('mcafee', 428), ('mcelhenny', 427), ('by', 427), ('vince', 426), ('diff', 425), ('dallas', 424), ('preston', 424), ('grant', 423), ('under', 422), ('mix', 422), ('sharpe', 422), ('jace', 421), ('braxton', 420), ('helaire', 419), ('groza', 418), ('capstones', 418), ('highlights', 417), ('notable', 417), ('texas', 417), ('nathan', 417), ('winslow', 416), ('midnight', 416), ('benjamin', 415), ('mega', 415), ('sigs', 414), ('203', 414), ('javon', 414), ('blast', 413), ('omega', 413), ('warfield', 413), ('unopened', 413), ('collins', 411), ('ya', 411), ('e-x', 410), ('27', 410), ('turquoise', 409), ('72', 409), ('karras', 408), ('70', 407), ('checklists', 406), ('leonard', 405), ('gameday', 405), ('ward', 404), ('kelvin', 404), ('peterman', 404), ('past', 402), ('couch', 401), ('front', 401), ('sword', 401), ('lattimore', 401), ('os', 400), ('felt', 399), ('abram', 399), ('420', 398), ('ferrell', 398), ('beathard', 398), ('millennium', 397), ('patterson', 395), ('distinguished', 395), ('echelon', 394), ('3rd', 394), ('de', 394), ('er', 393), ('tl', 393), ('mayo', 392), ('snapshots', 392), ('1989', 392), ('177', 391), ('genesis', 391), ('arm', 390), ('trevon', 389), ('clelin', 389), ('nitschke', 388), ('bo', 388), ('shaquem', 388), ('here', 387), ('arkle', 387), ('shaw', 387), ('montez', 387), ('sts', 386), ('aura', 386), ('greedy', 386), ('inside', 385), ('y', 385), ('inscribed', 385), ('passport', 385), ('generals', 385), ('adderley', 384), ('error', 383), ('max', 383), ('gilbert', 382), ('eddie', 381), ('symbols', 381), (\"la'mical\", 381), ('montgomery', 381), ('throwbacks', 381), ('hats', 381), ('quarterback', 380), ('oklahoma', 380), ('1965', 379), ('watkins', 378), ('dalton', 378), ('sean', 376), ('32', 376), ('men', 376), ('bound', 375), ('rick', 375), ('75', 374), ('group', 374), ('2019', 373), ('albert', 373), ('howie', 372), ('caps', 371), ('prescott', 371), ('youngblood', 371), ('near', 371), ('4-in-1', 370), ('arms', 370), ('chirography', 370), ('byron', 369), ('royce', 369), ('juan', 368), ('aspire', 368), ('rashan', 368), ('hoggs', 367), ('game-worn', 367), ('jk', 366), ('illustrated', 366), ('xfl', 366), ('lightning', 365), ('2018', 365), ('stal', 365), ('102', 365), ('connections', 364), ('sizeable', 364), ('shots', 364), ('ginn', 363), ('st', 363), ('leo', 362), ('chicle', 361), ('leroy', 361), ('nameplate', 361), ('crimson', 361), ('ncaa', 360), ('coleman', 360), ('sample', 359), ('deshaun', 359), ('mini-cards', 358), ('36', 358), ('coaches', 358), ('previews', 357), ('35', 357), ('mccarron', 357), ('1995', 356), ('gamers', 355), ('204', 355), ('norm', 354), ('santa', 353), ('hog', 353), ('metallic', 353), ('sankey', 353), ('le', 352), ('2020', 352), ('ham', 352), ('-18', 352), ('uncommon', 352), ('herb', 352), ('mascots', 350), ('phenomenon', 349), ('go', 349), ('showdown', 348), ('extreme', 348), ('gala', 347), ('bright', 347), ('both', 347), ('1997-98', 347), ('bv=', 346), ('miami', 346), ('350', 345), ('pairs', 345), ('sunoco', 344), ('matrix', 344), ('backs', 344), ('zay', 344), ('non-numbered', 343), ('blank', 343), ('assorted', 343), ('precision', 342), ('barnes', 341), ('devontae', 341), ('hologold', 341), ('prestigious', 341), ('jumbos', 341), ('greatest', 341), ('shane', 340), ('carr', 340), ('images', 340), ('dede', 340), ('warp', 340), ('geno', 339), ('only', 338), ('49', 338), ('shannon', 338), (\"tre'davious\", 337), ('mammoth', 337), ('jacobs', 337), ('whirl', 337), ('?', 337), ('glendale', 336), ('gronkowski', 336), ('ringo', 336), ('murphy', 336), ('3x3', 336), ('hunt', 335), ('shell', 335), ('dupes', 334), ('silhouette', 334), ('wood', 333), ('richardson', 333), ('faces', 332), ('minis', 331), ('adrenaline', 331), ('rex', 331), ('it', 331), ('webster', 330), ('hard', 330), ('beginnings', 330), ('wal-mart', 329), ('foster', 329), ('lauletta', 329), ('sparks', 327), ('lorenzo', 327), ('matson', 327), ('onyx', 327), ('600++', 327), ('schultz', 327), ('quarter', 326), ('126', 326), ('gregg', 326), ('vg-ex', 326), ('claus', 325), ('darrynton', 325), ('nomellini', 324), ('abdullah', 324), ('rocket', 324), ('julian', 324), ('thornhill', 323), ('mackey', 323), ('huff', 323), ('destination', 323), ('sternberger', 322), ('167', 322), ('webb', 321), ('baugh', 321), ('luke', 321), ('y.a', 320), ('law', 320), ('superior', 319), ('joiner', 319), ('duals', 318), ('mexican', 318), ('ej', 317), ('changing', 317), ('lazard', 317), ('29', 317), ('te', 317), ('authentix', 316), ('brand', 316), ('members', 316), ('joseph', 316), ('haley', 316), ('rose', 316), ('exp', 316), ('fireburst', 316), ('cosmic', 315), ('rubies', 315), ('nice', 314), ('rogers', 314), ('stallworth', 313), ('bates', 313), ('tate', 312), ('auburn', 312), ('command', 312), ('spectacle', 311), ('conteners', 311), ('poss', 311), ('gino', 310), ('monikers', 310), ('todd', 310), ('harmon', 310), ('collin', 309), ('117', 309), ('honolulu', 309), ('swell', 308), ('alvin', 308), ('269', 308), ('dennis', 307), ('commemorative', 307), ('show', 307), ('head', 306), ('morris', 306), ('1981', 306), ('definitive', 305), ('nelson', 305), ('orientation', 305), ('wilkins', 304), ('salute', 304), ('3-clr', 304), ('152', 303), ('foundations', 303), ('room', 303), ('.1', 302), ('dalvin', 302), ('lane', 302), ('ismail', 302), ('buy', 302), ('colt', 301), ('see', 301), ('names', 300), ('ginter', 300), ('facing', 299), ('two', 299), ('breakers', 299), ('4th', 299), ('3x', 299), ('daesean', 299), ('al', 298), ('triumvirate', 298), ('turf', 298), ('cameron', 298), ('stan', 297), ('ameer', 297), ('home', 296), ('view', 295), ('deon', 295), ('dobbs', 295), ('molten', 294), ('alma', 294), ('glory', 294), ('rapture', 294), ('hype', 294), ('clayton', 294), ('nebula', 293), ('winston', 293), ('rypien', 293), ('opener', 293), ('ryquell', 292), ('brocklin', 292), ('ollie', 292), ('present', 292), ('luxe', 292), ('as', 292), ('signal', 291), ('bucs', 291), ('56', 290), ('brad', 290), ('forrest', 290), ('non-protected', 290), ('161', 290), ('elliott', 290), ('301', 290), ('above', 289), ('atwater', 289), ('supremacy', 289), ('stephen', 288), ('artifacts', 288), ('kramer', 288), ('factor', 288), ('bread', 288), ('rivers', 288), ('pre-production', 287), ('1997', 287), ('richard', 287), ('dean', 287), ('landry', 287), ('114', 287), ('f', 286), ('speed', 286), ('pharoh', 286), ('rodney', 286), ('30++', 285), ('krause', 285), ('bas', 285), ('all-star', 285), ('holofame', 285), ('okwuegbunam', 284), ('buckeyes', 284), ('cedrick', 283), ('cox', 282), ('brees', 282), ('ballage', 281), ('hendricks', 281), ('xtreme', 281), ('34', 281), ('coutee', 281), ('paxton', 280), ('tier', 280), ('sherman', 280), ('feel', 280), ('decade', 280), ('four', 279), ('peak', 279), ('towel', 279), ('patriots', 279), ('sweat', 278), ('buck', 278), ('212', 278), ('chandler', 278), ('callers', 277), ('mahetti', 277), ('renfro', 277), ('crash', 277), ('lofton', 276), ('andrew', 276), ('hampton', 276), ('trevor', 275), ('peppers', 275), ('ford', 275), ('forward', 275), ('kalen', 275), ('mullen', 274), ('dream', 274), ('proects', 274), ('bearers', 274), ('jon', 274), ('motion', 274), ('pix', 273), ('homer', 273), ('humphrey', 273), ('phillip', 272), ('lineup', 272), ('various', 272), ('mac', 271), ('keke', 271), ('td', 271), ('fluorescent', 271), ('locker', 270), ('26', 270), ('goff', 270), ('keith', 269), ('foreman', 268), ('approval', 268), ('beck', 268), ('-02', 268), ('craig', 267), ('1994', 267), ('benkert', 267), ('skills', 266), ('dynamic', 266), ('dak', 266), ('queen', 266), ('reflectors', 266), ('moment', 266), ('seal', 265), ('war', 265), ('28', 265), ('gol', 265), ('106', 264), ('vitreous', 264), ('chip', 264), ('rock', 264), ('sid', 263), ('henne', 263), ('threat', 263), ('deejay', 263), ('blake', 263), ('trent', 263), ('illusionists', 263), ('frame', 262), ('living', 262), ('banner', 262), ('man', 262), ('milton', 262), ('dre', 261), ('149', 261), ('quinn', 261), ('leinart', 261), ('rise', 260), ('maurice', 260), ('own', 260), ('46', 260), ('uncorrected', 259), ('illustrious', 259), ('hits', 259), ('1984', 259), ('armed', 259), ('jenkins', 259), ('6x', 259), ('mccoy', 259), ('x-press', 259), ('jabrill', 258), ('cordarrelle', 258), ('116', 258), ('33', 258), ('31', 258), ('colts', 257), ('blockchain', 257), ('0+', 257), ('78', 257), ('tyree', 256), ('chest', 256), ('luton', 255), ('ferguson', 255), ('fusion', 255), ('america', 255), ('at', 254), ('wade', 254), ('buoniconti', 254), ('pigskin', 254), ('hundley', 254), ('conley', 253), ('84', 253), ('rights', 253), ('spokes', 253), ('tennessee', 252), ('101', 252), ('switzer', 252), ('111', 252), ('jackie', 252), ('maximum', 252), ('2014', 252), ('nm+', 252), ('promotion', 251), ('mullens', 251), ('xavier', 251), ('orlando', 251), ('trayvon', 251), ('portrait', 251), ('steven', 251), ('airborne', 251), ('clark', 250), ('free', 250), ('.999', 250), ('excitement', 249), ('turbin', 249), ('bosworth', 249), ('flame', 249), ('city', 248), ('hogs', 248), ('perriman', 248), ('absolutes', 247), ('fury', 247), ('warriors', 247), ('review', 247), ('mother', 246), ('lode', 246), ('perkins', 246), ('nicknames', 246), ('-19', 246), ('ll', 246), ('les', 246), ('reunion', 246), ('daryl', 245), ('01', 245), ('kinlaw', 245), ('ties', 245), ('victor', 245), ('d.k', 245), ('meyers', 244), ('saquon', 244), ('ochocinco', 244), ('holog', 243), ('1963', 243), ('182', 243), ('zoning', 243), ('commission', 243), ('45', 243), ('beasley', 242), ('cunningham', 242), ('bledsoe', 242), ('1-250', 241), ('schmidt', 241), ('palmer', 241), ('wentz', 241), ('florida', 241), ('flashback', 241), ('guy', 241), ('alliance', 240), ('delpit', 240), ('last', 240), ('trilogy', 240), ('holoviews', 240), ('jan', 240), ('thorson', 239), ('proofs', 239), ('awards', 239), ('blough', 238), ('ito', 238), ('kamara', 238), ('251-350', 238), ('atkins', 238), ('richter', 238), ('looking', 237), ('buybacks', 237), ('experience', 237), ('footballs', 237), ('cereal', 237), ('upshaw', 236), ('greatness', 236), ('tunnell', 236), ('iv', 236), ('tandem', 236), ('los', 236), ('angeles', 236), ('sepia-tone', 235), ('lebeau', 235), ('ounce', 235), ('dangerous', 235), ('500++', 235), ('raekwon', 235), ('carlos', 234), ('conerly', 234), ('breshad', 234), ('sammie', 233), ('mohamed', 233), ('caldwell', 233), ('cliff', 233), ('jesse', 233), ('stautner', 232), (\"k'lavon\", 232), ('kessler', 232), ('personal', 232), ('spiller', 231), ('yetur', 231), ('sooners', 231), ('vereen', 230), ('231', 230), ('199', 230), ('newly', 230), ('exmt', 230), ('chaisson', 230), ('sr', 230), ('ot', 230), ('243', 229), ('elijah', 229), ('epenesa', 229), ('rivals', 229), ('legacies', 229), ('brands', 229), ('gross-matos', 228), ('42', 228), ('jakobi', 227), ('horizontal', 227), ('eno', 227), ('immense', 227), ('samples', 226), ('game-used', 226), ('trayveon', 226), ('blount', 226), ('edmonds', 226), ('sportflix', 226), ('304', 226), ('royal', 226), ('manuel', 226), ('beckham', 226), ('pennant', 226), ('mater', 226), ('yeldon', 225), ('haynes', 225), ('dion', 225), ('wyoming', 225), ('lonnie', 224), ('mirer', 224), ('selmon', 224), ('44', 224), ('1500+', 223), ('this', 223), (\"d'onta\", 222), ('shields', 222), ('emlen', 222), ('5x', 222), ('tx', 222), ('3-color', 222), ('optichrome', 222), ('pigskins', 222), ('360', 222), ('arik', 221), ('elroy', 221), ('hirsch', 221), ('petty', 221), ('eller', 221), ('stenerud', 221), ('prizes', 221), ('after', 221), ('jeresy', 221), ('volunteers', 220), ('brock', 220), ('originals', 220), ('lineage', 220), ('donnie', 219), ('joey', 219), ('penn', 219), ('chicago', 219), ('bv', 219), ('knox', 218), ('car', 218), ('greenlaw', 217), ('37', 217), ('baseball', 217), ('125', 217), ('hologrfx', 216), ('cain', 216), (\"j'mon\", 216), ('harper', 216), ('mick', 216), ('unrivaled', 215), ('matching', 215), ('progression', 215), ('reflex', 215), ('fine', 215), ('buchanan', 214), ('scoring', 214), ('103', 214), ('1969', 213), ('hank', 213), ('stare', 213), ('treadwell', 213), ('test', 212), ('synced', 212), ('captain', 212), ('highlight', 211), ('marquee', 211), ('x-factor', 211), ('fans', 211), ('tingelf', 211), ('robustelli', 211), ('luminescent', 211), ('85', 211), ('substantial', 210), ('roethlisberger', 210), ('trademarks', 210), ('wilcox', 210), ('317', 209), ('targets', 209), ('adrian', 209), ('pairings', 209), ('pure', 208), ('swann', 208), ('roots', 207), ('starting', 207), ('dorsey', 207), ('manufacturer', 207), ('mates', 207), ('sky', 207), ('s/h', 207), ('reaction', 206), ('trubisky', 206), ('munoz', 206), ('f/x', 206), ('chain', 205), ('jaleel', 205), ('124', 205), ('yale', 205), ('laquon', 205), ('item', 205), ('desmond', 204), ('90', 204), ('captains', 203), ('joejuan', 203), ('hackenberg', 203), ('marshals', 203), ('hat', 202), ('cheerleaders', 202), ('marlon', 202), ('diffractor', 202), ('thorpe', 202), ('squares', 201), ('221-440', 201), ('mccormack', 201), ('lanier', 200), ('damage', 200), ('iconic', 200), ('triumphant', 200), ('signa', 200), ('t.j.', 199), ('other', 199), ('moreau', 199), ('h', 199), ('stop', 199), ('statistical', 198), ('edgetech', 198), ('cross', 198), ('boston', 198), ('hogan', 198), ('randall', 198), ('chargers', 198), ('glennon', 198), ('duos', 197), ('hanburger', 197), ('belichick', 197), ('coates', 196), ('grange', 196), ('laces', 196), ('m', 196), ('dayne', 196), ('devery', 195), ('malik', 195), ('hagan', 195), ('co', 195), ('20th', 195), ('bucks', 195), ('stitches', 194), ('ricky', 194), ('garoppolo', 194), ('lamichael', 194), ('109', 194), ('ahie', 194), ('darius', 194), ('taysom', 194), ('ripped', 193), ('vick', 193), ('galaxy', 193), ('hi-gloss', 193), ('lary', 193), ('4x', 193), ('usc', 193), ('205', 193), ('supernova', 193), ('knights', 193), ('dominance', 193), ('vested', 192), ('gerald', 192), ('86', 192), ('nassib', 191), ('=', 191), ('chinn', 191), ('tab', 191), ('mint+', 191), ('treasure', 191), ('all-', 190), ('futuristic', 190), ('bosa', 190), ('sims', 190), ('rapp', 190), ('z-', 190), ('list', 189), ('bccg', 189), ('manti', 189), ('scarbrough', 189), ('kolb', 189), ('norwood', 189), ('calvin', 188), ('formulas', 188), ('mckinney', 188), ('165', 188), ('pulsars', 188), ('jonnu', 188), ('without', 188), ('tech', 188), ('249', 188), ('galvanized', 188), ('crosby', 187), ('felix', 187), (\"lil'jordan\", 187), ('p', 187), ('protected', 187), ('standing', 186), ('reche', 186), ('donald', 186), ('glenn', 186), ('tobin', 186), ('rote', 186), ('superplaid', 186), ('tall', 186), ('omar', 186), ('fractal', 185), ('kt', 185), ('cl', 185), ('groove', 185), ('pics', 184), ('newton', 184), ('strength', 184), ('carmichael', 184), ('discs', 183), ('doctson', 183), ('house', 183), ('brothers', 183), ('pace', 182), ('routes', 181), ('l', 181), ('training', 181), ('50th', 181), ('quinnen', 181), ('odell', 181), ('razor', 181), ('ya-sin', 181), ('ian', 181), ('luckman', 180), ('blair', 180), ('clash', 180), ('cleat', 180), ('kind', 180), ('1986', 180), ('feature', 180), ('burkhead', 180), ('cincinatti', 180), ('1996', 179), ('catching', 179), ('triumph', 179), ('nation', 179), ('builder', 179), ('fears', 179), ('paradigm', 179), ('markus', 179), ('dee', 178), ('visible', 178), ('207', 178), ('darboh', 178), ('driskel', 178), ('261', 178), ('ten', 178), ('montee', 177), ('attack', 177), ('fur', 177), ('nittany', 177), ('partial', 177), ('mooney', 177), ('franklin', 176), ('mcnichols', 176), ('multi-year', 176), ('hannah', 176), ('prototypes', 176), ('barrett', 176), ('honored', 176), ('ezekiel', 175), ('barney', 175), ('spx', 175), ('perfect', 175), ('4.25', 175), ('studded', 174), ('doak', 174), ('dyson', 174), ('karan', 174), ('higdon', 174), ('dwight', 174), ('holographic', 174), ('sutton', 173), ('claude', 173), ('wonder', 173), ('128', 173), ('115', 173), ('johnston', 172), ('shea', 172), ('courtney', 172), ('ey', 172), ('tyrone', 172), ('8x', 172), ('135', 172), ('emergent', 172), ('marvels', 172), ('prize', 172), ('prominent', 172), ('amara', 172), ('paydirt', 171), ('michel', 171), ('milestone', 171), ('inscription', 171), ('tk', 171), ('must', 171), ('lockett', 170), ('walton', 170), ('voltage', 170), ('magnetic', 170), ('grass/waves', 170), ('green-beckham', 170), ('stubs', 170), ('1976', 170), ('121', 170), ('jerrel', 170), ('effects', 169), ('sanu', 169), ('132', 169), ('grass', 169), ('carlton', 169), ('poster', 169), ('morten', 169), ('andersen', 169), ('hughes', 169), ('surge', 169), ('curley', 169), ('falk', 169), ('110', 169), ('107', 169), ('jordyn', 169), ('davenport', 168), ('pillars', 168), ('reproduction', 168), ('conklin', 168), ('kenner', 168), ('title', 168), ('rich', 168), ('82', 168), ('davone', 167), ('bess', 167), ('185', 167), ('jaylon', 167), ('diamonds', 166), ('craftsmen', 166), ('jermaine', 166), ('enor', 166), ('americans', 166), ('embossing', 166), ('lucky', 166), ('keenan', 165), ('lacy', 165), ('harrington', 164), ('170', 164), ('waves', 164), ('jarius', 164), ('dynasties', 163), ('darwin', 163), ('1950', 163), ('kick', 163), ('auden', 163), ('stats', 163), ('131', 163), ('hometown', 163), ('superstars', 163), ('grayson', 163), ('mythical', 163), ('turning', 163), ('final', 163), ('culpepper', 163), ('301-400', 162), ('avant', 162), ('9x', 162), ('boyle', 162), ('elitist', 162), ('donte', 161), ('168', 161), ('rashaan', 161), ('georgia', 161), ('163', 161), ('stamp', 161), ('patton', 161), ('samaje', 161), ('mcnabb', 161), ('johnnie', 161), ('international', 161), ('spectralusion', 160), ('courage', 160), ('brennan', 160), ('lombardi', 160), ('thaddeus', 160), ('navorro', 160), ('148', 160), ('54', 160), ('bets', 160), ('terrance', 159), ('luka', 159), ('quinton', 159), ('sony', 159), ('taywan', 159), ('88', 159), ('dorial', 159), ('hawaii', 159), ('blaine', 158), ('gabbert', 158), ('redman', 158), ('plummer', 158), ('curry', 158), ('61', 158), ('153', 157), ('wendell', 157), ('guard', 157), ('hawk', 157), ('holo-silver', 157), ('away', 157), ('intimidation', 157), ('000', 157), ('stephon', 157), ('xxxix', 157), ('whale', 157), ('cedric', 157), ('122', 157), ('run', 157), ('xxvi', 156), ('ma', 156), ('second', 156), ('hurricanes', 156), ('catalysts', 156), ('65', 156), ('298', 156), ('baldwin', 156), ('10th', 156), ('avg', 156), ('very', 156), ('hardy', 155), ('mcduffie', 155), ('mid', 155), ('rockne', 155), ('209', 155), ('drive', 155), ('hickerson', 155), ('dare', 155), ('302', 155), ('jay', 155), ('mcnown', 154), ('95', 154), ('arena', 154), ('38', 154), ('spencer', 154), ('heads', 153), ('reid', 153), ('299', 153), ('dobson', 153), ('rueben', 153), ('leader', 153), ('139', 153), ('point', 153), ('201-300', 152), ('passers', 152), ('blitz', 152), ('141', 152), ('.2', 152), ('edelman', 152), ('wallace', 151), ('trey', 151), ('payne', 151), ('sideline', 151), ('1990', 151), ('lavelli', 151), ('68', 151), ('d.p', 151), ('unique', 150), ('indigo', 150), ('dinucci', 150), ('kareem', 150), ('richie', 150), ('sharp', 150), ('dent', 150), ('303', 150), ('cleats', 150), ('age', 149), ('76', 149), ('doss', 149), ('ollison', 149), ('wheaton', 149), ('94', 149), ('elusive', 149), ('hubbard', 149), ('dermontti', 148), ('cade', 148), ('ual', 148), ('unsung', 148), ('fair', 148), ('breeland', 148), ('trippi', 148), ('257', 148), ('7.5', 148), ('hansen', 148), ('xlix', 148), ('pearl', 148), ('holmes', 147), ('shaq', 147), ('tuitt', 147), ('308', 147), ('collectors', 147), ('clashes', 146), ('aerial', 146), ('stellar', 146), ('albums', 146), ('270', 146), ('town', 146), ('online', 146), ('hopkins', 146), ('sophomore', 146), ('holyfield', 146), ('road', 146), ('tear', 146), ('rayfield', 146), ('118', 146), ('rr', 146), ('flowers', 146), ('nameplates', 146), ('cinematic', 145), ('ise', 145), ('greenwood', 145), ('cobalt', 145), ('2x', 145), ('49ers', 145), ('smallwood', 145), ('butt', 145), ('gators', 145), ('walt', 145), ('yary', 145), ('br', 145), ('non', 145), ('copeland', 144), ('huskies', 144), ('aqueous', 144), ('letters', 144), ('jt', 144), ('primetime', 144), ('ursua', 144), ('holiday', 144), ('marques', 144), ('a.j', 144), ('197', 144), ('finesse', 144), ('or', 144), ('2015', 144), ('1-440', 144), ('progressions', 143), ('souvenir', 143), ('infinite', 143), ('south', 143), ('279', 143), ('out', 143), ('396', 143), ('100+', 143), ('holcomb', 142), ('66', 142), ('doncic', 142), ('inkredible', 142), ('xxix', 142), ('doleman', 142), ('knute', 142), ('jamaus', 142), ('bernard', 141), ('predictor', 141), ('shelton', 141), ('grand', 141), ('vernon', 141), ('qadree', 141), ('masked', 141), ('-17', 141), ('gu', 141), ('fournette', 140), ('brohm', 140), ('220', 140), ('rhett', 140), ('culp', 140), ('arthur', 140), ('heinicke', 140), ('gillislee', 140), ('hasty', 140), ('mannion', 139), ('grossman', 139), ('quick', 139), ('u17', 139), ('rwb', 139), ('sneak', 139), ('vertical', 139), ('juju', 139), ('91', 139), ('gentry', 139), ('stafford', 139), ('facemask', 139), ('few', 139), ('154', 139), ('astounding', 139), ('fb', 139), ('supers', 139), ('ardarius', 138), ('folders', 138), ('hooker', 138), ('center', 138), ('gerhart', 138), ('grimm', 138), ('caleb', 138), ('lb', 138), ('insignias', 138), ('shula', 137), ('cyber', 137), ('104', 137), ('peter', 137), ('better', 137), ('1993', 137), ('138', 137), ('coin', 137), ('wear', 137), ('supeharged', 137), ('pihos', 137), ('gemmt', 137), ('fanfare', 136), ('latimer', 136), ('toon', 136), ('easley', 136), ('campus', 136), ('creekmur', 136), ('afterburners', 136), ('marion', 136), ('nebraska', 136), ('idols', 136), ('opening', 136), ('nasir', 136), ('titan', 136), ('bottle', 135), ('fever', 135), ('indelible', 135), ('summerall', 135), ('made', 135), ('mcmillan', 135), ('giveaway', 135), ('more', 135), ('123', 135), ('195', 135), ('endzone', 135), ('jamycal', 135), ('creations', 135), ('emmanuel', 134), ('mastery', 134), ('collier', 134), ('prospects', 134), ('toby', 134), ('buren', 134), ('litho-cel', 134), ('mcdaniel', 134), ('gilded', 134), ('barnett', 134), ('rashard', 134), ('hail', 134), ('mary', 134), ('tre', 134), ('shine', 134), ('108', 134), ('156', 134), ('bj', 133), ('clausen', 133), ('ectrum', 133), ('sauer', 133), ('peek', 133), ('uniform', 133), ('jeffery', 133), ('tags', 133), ('1935', 133), ('134', 133), ('quiz', 133), ('playing', 132), ('kliff', 132), ('kingsbury', 132), ('7-eleven', 132), ('ip', 132), ('photos', 132), ('50-point', 132), ('boyd', 132), ('vs', 132), ('replay', 132), ('position', 132), ('trysten', 132), ('gray', 132), ('1991', 132), ('eruption', 132), ('antoine', 132), ('sb', 132), ('rack', 131), ('poole', 131), ('redemptions', 131), ('behind', 131), ('172', 131), ('bethea', 131), ('-93', 131), ('amendola', 131), ('297', 131), ('smashers', 130), ('casey', 130), ('wehrli', 130), ('massive', 130), ('borland', 130), ('dezmon', 130), ('matthew', 129), ('soltau', 129), ('lewerke', 129), ('frequency', 129), ('mcelroy', 129), ('foes', 129), ('accolades', 129), ('bakken', 129), ('mosley', 129), ('202', 129), ('69', 129), ('pj', 129), ('322', 129), ('studs', 128), ('chauncey', 128), ('carroo', 128), ('blackmon', 128), ('daurice', 128), ('fountain', 128), ('-07', 128), ('mariota', 128), ('peyton', 128), ('powerdeck', 128), ('208', 128), ('198', 128), ('adrenalyn', 127), ('spirit', 127), ('stitchings', 127), ('casper', 127), ('antwaan', 127), ('defenders', 127), ('lake', 127), ('ricardo', 127), ('x-ponential', 127), ('enhanced', 127), ('47', 127), ('leon', 127), ('illuminator', 127), ('clippings', 127), ('48', 127), ('62', 127), ('189', 127), ('-99', 127), ('works', 126), ('osweiler', 126), ('three', 126), ('fulton', 126), ('terrence', 126), ('booty', 126), ('wisconsin', 126), ('nnadi', 126), ('freddie', 126), ('4-clr', 126), ('obak', 125), ('gregory', 125), ('granite', 125), ('personalized', 125), ('dugger', 125), ('hart', 125), ('heisman', 125), ('kearse', 125), ('sills', 125), ('jamie', 125), ('weaver', 125), ('190', 125), ('263', 125), ('bottom', 124), ('salada', 124), ('powers', 124), ('lott', 124), ('2010', 124), ('el', 124), ('113', 124), ('79', 124), ('1974', 124), ('slideshow', 124), ('carey', 124), ('brk', 124), ('proche', 124), ('236', 124), ('weber', 123), ('ogden', 123), ('breaker', 123), ('lem', 123), ('cas', 123), ('pivotal', 123), ('87', 123), ('my', 123), ('112', 123), ('wow', 123), ('ags', 123), ('gurley', 122), ('89', 122), ('alumni', 122), ('damian', 122), ('williamson', 122), ('colby', 122), ('gorgeous', 122), ('210', 121), ('posters', 121), ('dolegala', 121), ('wesley', 121), ('glen', 121), ('carmazzi', 121), ('boy', 121), ('north', 121), ('es', 121), ('burrows', 121), ('shirt', 121), ('101-200', 121), ('panni', 121), ('grasswaves', 120), ('leonte', 120), ('green-yellow', 120), ('225', 120), ('figures', 120), ('remnants', 120), ('4000', 120), ('escher', 120), ('stanton', 120), ('christiansen', 120), ('salas', 119), ('cassady', 119), ('gems', 119), ('houshmandzadeh', 119), ('grey', 119), ('strong', 119), ('landscape', 119), ('mario', 119), ('inducted', 118), ('branch', 118), ('connelly', 118), ('denard', 118), ('swagger', 118), ('ducks', 118), ('gage', 118), ('quincy', 118), ('darren', 118), ('party', 118), ('printers', 118), ('holo-', 118), ('coa', 118), ('nuggets', 118), ('weapon', 117), ('service', 117), ('hutchinson', 117), ('51', 117), ('stepfan', 117), ('banks', 117), ('plaques', 117), ('keelan', 117), ('cobb', 117), ('bateman', 117), ('talents', 117), ('xxxi', 117), ('olszewski', 117), ('z-team', 117), ('dated', 117), ('roberts', 117), ('39', 117), ('180', 117), ('adidas', 117), ('cleveland', 117), ('got', 116), ('unused', 116), ('memorable', 116), ('flea', 116), ('carnell', 116), ('119', 116), ('bottoms', 116), ('kris', 116), ('rushing', 116), ('primed', 116), ('3a', 116), ('parkinson', 116), ('yards', 116), ('clock', 115), ('igbinoghene', 115), ('kristian', 115), ('179', 115), ('jernigan', 115), ('knile', 115), ('achievements', 115), ('properties', 115), ('binjimen', 115), ('ready', 114), ('pedigree', 114), ('nickname', 114), ('chark', 114), ('jsa', 114), ('finishes', 114), ('all-madden', 114), ('common', 114), ('steelers', 114), ('challenge', 114), ('gladney', 114), ('tiffany', 114), ('montage', 114), ('ics', 114), ('bear', 113), ('condition', 113), ('breed', 113), ('titus', 113), ('oregon', 113), ('generations', 113), ('losman', 113), ('lc', 113), ('81', 113), ('delamielleure', 113), ('seah', 113), ('defense', 113), ('heath', 113), ('20++', 113), ('stevens', 113), ('note', 113), ('1-132', 113), ('ellis', 112), ('moreland', 112), ('biakabutuka', 112), ('216', 112), ('elvin', 112), ('russ', 112), ('tavai', 112), ('k.j', 112), ('days', 112), ('jimmie', 112), ('secrets', 112), ('ribbon', 112), (\"ka'deem\", 112), ('175+', 112), ('siege', 112), ('1970', 112), ('authority', 111), ('flicker', 111), ('lj', 111), ('quarterbacks', 111), ('stokes', 111), ('hartline', 111), ('dudley', 111), ('stanford', 111), ('db', 111), ('mixon', 111), ('measures', 111), ('games', 111), ('cowboybilia', 111), ('rashad', 111), ('triples', 110), ('avery', 110), ('sebastian', 110), ('shawn', 110), ('mccloud', 110), ('california', 110), ('58', 110), ('intergalactic', 110), ('97', 110), ('gates', 109), ('dustin', 109), ('trautman', 109), ('philip', 109), ('142', 109), ('selection', 109), ('jameis', 109), ('jahlani', 109), ('145', 109), ('cornhuskers', 109), ('calligraphy', 109), ('shipley', 109), ('his', 109), ('beam', 109), ('crowns', 109), ('evan', 108), ('holding', 108), ('toe', 108), ('armor', 108), ('rashod', 108), ('160', 108), ('73', 108), ('seferian-jenkins', 108), ('ounces', 108), ('janikowski', 107), ('nobility', 107), ('vault', 107), ('gordy', 107), ('chips', 107), ('postseason', 107), ('jacket', 107), ('schmitt', 107), ('cribbs', 107), ('wuerffel', 107), ('sudfeld', 106), ('egnew', 106), ('neal', 106), ('moncrief', 106), ('button', 106), ('etched', 106), ('clarence', 106), ('bonus', 106), ('snake', 106), ('rings', 106), ('nalleys', 106), ('kaden', 106), ('willis', 106), ('touch', 106), ('superlatives', 106), ('xlv', 106), ('tunnel', 106), ('tcg', 106), ('41', 106), ('130', 105), ('ware', 105), ('clement', 105), ('nash', 105), ('owen', 105), ('05', 105), ('early', 104), ('7x', 104), ('jordy', 104), ('headliners', 104), ('laserview', 104), ('radioactive', 104), ('emanuel', 104), ('durham', 104), ('55', 104), ('holo-gold', 104), (\"ta'amu\", 104), ('glowing', 104), ('beebe', 104), ('187', 104), ('oscar', 104), ('dale', 104), ('discipline', 104), ('hodges', 104), ('ervin', 103), ('43', 103), ('dierdorf', 103), ('basketball', 103), ('squires', 103), ('ss', 103), ('jp', 103), ('rudy', 103), ('skin', 103), ('dupree', 103), ('fitzgerald', 103), ('escobar', 103), ('accomplishments', 102), ('phil', 102), ('178', 102), ('bubbles', 102), ('landmark', 102), ('illinois', 102), ('price', 102), ('hollins', 102), ('membership', 102), ('vance', 102), ('lawson', 102), ('random', 102), ('card-supials', 102), ('gavin', 102), ('espn', 102), ('endorsement', 102), ('tuiasosopo', 102), ('rathman', 101), ('clemson', 101), ('supehrome', 101), ('1980', 101), ('herman', 101), ('140', 101), ('maell', 101), ('snead', 101), ('291', 101), ('fuchsia', 100), ('238', 100), ('donnel', 100), ('pumphrey', 100), ('daron', 100), ('damon', 100), ('crouch', 100), ('wolfe', 100), ('breakout', 100), ('1952', 100), ('on-card', 100), ('callaway', 100), ('optical', 100), ('rooks', 100), ('making', 100), ('opulence', 100), ('tetrad', 99), ('week', 99), ('race', 99), ('2012', 99), ('clair', 99), ('cobbs', 99), ('performer', 99), ('tajae', 99), ('torquers', 99), ('213', 99), ('most', 99), ('buggs', 99), ('pittman', 99), ('lenticular', 99), ('topper', 99), ('ha', 99), ('not', 99), ('life', 98), ('mcgee', 98), ('i', 98), ('abbrederis', 98), ('hr', 98), ('136', 98), ('scout', 98), ('roaf', 98), ('porter', 98), ('-8', 98), ('huntley', 98), ('rey', 98), ('jarvis', 98), ('amaro', 98), ('authen-kicks', 98), ('inc', 97), ('axis', 97), ('mettenberger', 97), ('1972', 97), ('olabisi', 97), ('ages', 97), ('juice', 97), ('cowher', 97), ('herndon', 97), ('seasons', 97), ('distance', 97), ('butker', 97), ('match', 97), ('64', 97), ('wes', 97), ('christine', 97), ('ex-2000', 96), ('phone', 96), ('bar', 96), ('129', 96), ('ray-ray', 96), ('hightower', 96), ('bull', 96), ('57', 96), ('zero', 96), ('gus', 96), ('dc', 96), ('close', 96), ('+++', 96), ('201-290', 96), ('pecting', 95), ('barber', 95), ('pants', 95), ('weeden', 95), ('francisco', 95), ('ralph', 95), ('gerela', 95), ('24-kt', 95), ('heinrich', 95), ('minnesota', 95), ('15+', 95), ('giovanni', 95), ('allison', 95), ('bridgewater', 95), ('cobi', 95), ('juwan', 95), ('blacklock', 95), ('redeemed', 95), ('pryor', 94), ('f5', 94), ('hodgins', 94), ('fastbreak', 94), ('trojans', 94), ('bend', 94), ('six', 94), ('arnold', 94), ('lasting', 94), ('mitch', 94), ('xxviii', 94), ('575', 94), ('158', 94), ('york', 94), ('zion', 94), ('sweaters', 94), ('maualuga', 94), ('pressure', 94), ('clearly', 94), ('all-decade', 94), ('327', 94), ('pmg', 94), ('coming', 93), ('tough', 93), ('hyperplaid', 93), ('sprinkle', 93), ('offensive', 93), ('limas', 93), ('sweed', 93), ('jamal', 93), ('showbound', 93), ('thrill', 93), ('1960', 93), ('byrd', 93), ('bros', 93), ('marvel', 93), ('147', 93), ('262', 93), ('levi', 93), ('0++', 93), ('redmption', 93), ('intros', 93), ('lines', 93), ('calling', 92), ('villanueva', 92), ('mavericks', 92), ('virginia', 92), ('-14', 92), ('astonishing', 92), ('demaus', 92), ('lower', 92), ('talk', 92), ('tiger', 92), ('234', 92), ('280', 92), ('pinkney', 92), ('244', 92), ('questions', 92), ('walden', 91), ('squad', 91), ('hardwear', 91), ('gardner-johnson', 91), ('film', 91), ('achievement', 91), ('-1', 91), ('flynn', 91), ('1957', 91), ('.5', 91), ('teddy', 91), ('52', 91), ('neville', 91), ('stealth', 91), ('deep', 91), ('dna', 91), ('clinton-dix', 91), ('hidden', 90), ('230', 90), ('-1999', 90), ('marshawn', 90), ('karl', 90), ('71', 90), ('deionte', 90), ('purdue', 90), ('taco', 90), ('cecil', 90), ('careers', 90), ('2500', 90), ('patmon', 90), ('nu', 90), ('cosmos', 89), ('pierre', 89), ('dupre', 89), ('mills', 89), ('their', 89), ('milestones', 89), ('tannehill', 89), ('respectra', 89), ('kaaya', 89), ('c-thru', 89), ('shaquille', 89), ('erik', 89), ('-98', 89), ('roby', 89), ('rewards', 89), ('throw', 89), ('singletary', 89), ('herron', 89), ('fact', 89), ('242', 89), ('assault', 89), ('historical', 89), ('pitch', 89), ('autumn', 89), ('171', 89), ('2007', 89), ('1500', 89), ('red/white/blue', 89), ('v2', 88), ('232', 88), ('800++', 88), ('rickey', 88), ('ribbons', 88), ('gragg', 88), ('mirrored', 88), ('09', 88), ('over', 88), ('mallett', 88), ('larger', 88), ('than', 88), ('228', 88), ('main', 88), ('norman', 88), ('asiasi', 88), ('318', 88), ('pirzm', 88), ('article', 87), ('gogolak', 87), ('ce', 87), ('lipscomb', 87), ('devante', 87), ('10+', 87), ('wells', 87), ('stedman', 87), ('wildcats', 87), ('germaine', 87), ('sideliners', 87), ('regime', 87), ('back-to-back', 87), ('144', 87), ('douglas', 87), ('booster', 87), ('shaun', 86), ('bradberry', 86), ('bray', 86), ('addison', 86), ('karlos', 86), ('performances', 86), ('victorious', 86), ('mccluster', 86), ('background', 86), ('4k', 86), ('devlin', 86), ('scarlett', 86), ('limits', 86), ('146', 86), ('photographer', 85), ('thick', 85), ('marty', 85), ('xxv', 85), ('fantastic', 85), ('darby', 85), ('starquest', 85), ('vi', 85), ('throne', 85), ('heyward-bey', 85), ('je', 85), ('mlb', 85), ('train', 85), ('hicks', 85), ('dwyer', 85), ('revue', 85), ('hakim', 85), ('titans', 85), ('shuler', 85), ('spirals', 85), ('sheriff', 85), ('218', 85), ('pewter', 85), ('frito', 85), ('lay', 85), ('coach', 85), ('perforated', 85), ('cooks', 84), ('tri-star', 84), ('kupp', 84), ('nickel', 84), ('bahr', 84), ('alstott', 84), ('overdrive', 84), ('disclaimer', 84), ('christopher', 84), ('childs', 84), ('kendrick', 84), ('pittsburgh', 84), ('shot', 84), ('1-150', 84), ('collections', 84), ('meador', 84), ('throwers', 84), ('dollar', 83), ('smokey', 83), ('1200', 83), ('soon', 83), ('steps', 83), ('malachi', 83), ('dirty', 83), ('cory', 83), ('core', 83), ('quintez', 83), ('cephus', 83), ('hg', 83), ('artis-payne', 83), ('mcfadden', 83), ('chester', 83), ('calhoun', 83), ('flacco', 83), ('166', 83), ('92', 83), ('169', 83), ('chalk', 83), ('dog', 83), ('holsum', 83), ('multi-sport', 83), ('pieces', 83), ('seat', 83), ('reel', 82), ('piee', 82), ('hawkins', 82), ('188', 82), ('1992', 82), ('west', 82), ('181', 82), ('utah', 82), ('templar', 82), ('arnette', 82), (\"o'neal\", 82), ('constant', 82), ('dickson', 82), ('tommie', 82), ('combine', 82), ('make', 82), ('mcclain', 82), ('crowning', 82), ('112a', 82), ('slater', 82), ('1959', 82), ('platinized', 82), ('jacoby', 82), ('romo', 82), ('daniels', 82), ('kalija', 81), ('stage', 81), ('luis', 81), ('wind', 81), ('chimes', 81), ('melvin', 81), ('aher', 81), ('good', 81), ('dominique', 81), ('use', 81), ('sullivan', 81), ('j.j.', 81), ('mile', 81), ('coulter', 81), ('selections', 81), ('touchdowns', 81), ('sketch', 81), ('magnets', 81), ('59', 81), ('receivers', 80), ('pickens', 80), ('moegle', 80), ('possible', 80), ('193', 80), ('armstrong', 80), ('duke', 80), ('sec', 80), ('planet', 80), ('hologram', 80), ('moves', 80), ('ace', 80), ('rams', 80), ('bravery', 80), ('ltd', 80), ('alternate', 80), ('mcdag', 80), ('luck', 80), ('23kt', 80), ('energy', 79), ('shoot', 79), ('u18', 79), ('mckinley', 79), ('4kt', 79), ('colin', 79), ('snapshot', 79), ('conner', 79), ('red/black', 79), ('winner', 79), ('sunbeam', 79), ('snow', 79), ('sig', 79), ('addai', 79), ('sack', 79), ('77', 79), ('wax-bk', 79), ('/hits', 79), ('176', 79), ('elam', 79), ('apple', 78), ('unmatched', 78), ('hankerson', 78), ('darrius', 78), ('whitehead', 78), ('armanti', 78), ('xxvii', 78), ('dillard', 78), ('embroidered', 78), ('grading', 78), ('hardesty', 78), ('flutie', 78), ('schedule', 78), ('trout', 78), ('food', 78), ('amani', 78), ('farve', 78), ('ir', 78), ('weinke', 78), ('sf', 78), ('craftsman', 78), ('solomon', 77), ('milano', 77), ('company', 77), ('fleet', 77), ('dri', 77), ('msa', 77), ('mcmahon', 77), ('undeniable', 77), ('executive', 77), ('smythe', 77), ('206', 77), ('stonesifer', 77), ('frazier', 77), ('slurpee', 77), ('acts', 77), ('braden', 77), ('223', 77), ('mays', 77), ('huarte', 77), ('markers', 77), ('comics', 77), ('gerry', 77), ('mcknight', 76), ('broyles', 76), ('donrus', 76), ('script', 76), ('creative', 76), ('chaos', 76), ('gamebreakers', 76), ('’', 76), (\"da'rick\", 76), ('watts', 76), ('stand-ups', 76), ('initiation', 76), ('cornerstones', 76), ('royals', 76), ('aeneas', 76), ('tanner', 76), ('givens', 75), ('showstoppers', 75), ('reciprocal', 75), ('151', 75), ('sedrick', 75), ('ho', 75), ('francis', 75), ('253', 75), ('obsiian', 75), ('sinorice', 75), ('tyson', 75), ('slogan', 75), ('cyrus', 75), ('swanson', 75), ('twilley', 75), ('127', 75), ('hoyer', 75), ('rison', 75), ('pre', 75), ('shock', 75), ('-88', 75), ('wrap', 75), ('lucas', 74), ('mask', 74), ('martavis', 74), ('minor', 74), ('reebok', 74), ('vonn', 74), ('fly', 74), ('399', 74), ('j.d', 74), ('jamel', 74), ('recognition', 74), ('kennedy', 74), ('devon', 74), ('grades', 74), ('demetrius', 74), ('juwann', 74), ('winfree', 74), ('fired', 74), ('xenon', 74), ('jd', 74), ('137', 74), ('kaufman', 74), ('skymotion', 74), ('dufex', 74), ('jauan', 74), ('chiefs', 74), ('22kt', 74), ('combinations', 74), ('277', 74), ('ucla', 74), ('164', 74), ('street', 74), ('screen', 74), ('stancraft', 73), ('starquest/quest', 73), ('bounds', 73), ('baun', 73), ('smash-mouth', 73), ('gay', 73), ('cowboys', 73), ('prince', 73), ('amukamara', 73), ('burnett', 73), ('cert', 73), ('zuerlein', 73), ('jose', 73), ('madden', 73), ('valuable', 73), ('tampa', 73), ('hal', 73), ('take', 73), ('charlton', 73), ('frames', 73), ('pathon', 73), ('63', 73), ('woerner', 73), ('xli', 72), ('browning', 72), ('gallup', 72), ('schuster', 72), ('dominator', 72), ('marv', 72), ('d.j', 72), ('chainmail', 72), ('woods', 72), ('banogu', 72), ('az-zahir', 72), ('marquis', 72), ('event', 72), ('altered', 72), ('155', 72), ('224', 72), ('clutch', 72), ('lecle', 71), ('initial', 71), ('74', 71), (\"a'shawn\", 71), ('ragland', 71), ('mississippi', 71), ('-2', 71), ('certifie', 71), ('value', 71), ('tyrell', 71), ('bostic', 71), ('side', 71), ('403', 71), ('1989-', 71), ('dez', 71), ('pope', 71), ('stephenson', 71), ('mcnair', 71), ('lone', 71), ('crawford', 70), ('ellington', 70), ('key', 70), ('pizza', 70), ('denarius', 70), ('zac', 70), ('dax', 70), ('ugo', 70), ('amadi', 70), ('carpenter', 70), ('rolando', 70), ('all-millennium', 70), ('holosilver', 70), ('hutson', 70), ('inaugural', 70), ('67', 70), ('motionvision', 70), ('heupel', 70), ('pnc', 70), ('ss1483', 70), ('morant', 70), ('ref', 70), ('write', 69), ('leaps', 69), ('canadian', 69), ('96', 69), ('raise', 69), ('gase', 69), ('maximal', 69), ('reddick', 69), ('214', 69), ('hrx', 69), ('mayer', 69), ('gallimore', 69), ('157', 69), ('-15', 69), ('bulldog', 69), ('292', 69), ('galloway', 69), ('facts', 69), ('davey', 69), ('garappolo', 69), ('gunner', 69), ('u9', 68), ('keller', 68), ('clemens', 68), ('40th', 68), ('arden', 68), ('thielen', 68), ('8x10', 68), ('siragusa', 68), ('signing', 68), ('numbered', 68), ('raiders', 68), ('worthy', 68), ('jamar', 68), ('kaepernick', 68), ('hunters', 68), ('ley', 68), ('bennett', 68), ('montario', 68), ('peterson', 68), ('jonah', 68), ('akili', 68), ('pepsi', 68), ('pioneer', 68), ('rg3', 68), ('pylon', 68), ('vessels', 68), ('528', 68), ('dantzler', 68), ('breeze', 68), ('farmer', 68), ('tallboy', 68), ('maxwell', 67), ('mk-bk', 67), ('malcom', 67), ('salaam', 67), ('arrington', 67), ('ane', 67), ('keesean', 67), ('jahvid', 67), ('anaheim', 67), ('afl', 67), ('f1', 67), ('attractions', 67), ('quotable', 67), ('fit', 67), ('translucent', 67), ('hudson', 67), ('184', 67), ('otlight', 67), ('creases', 67), ('bowe', 67), ('tavon', 67), ('bomar', 67), ('haason', 67), ('pig', 66), ('rainey', 66), ('insider', 66), ('endorsments', 66), ('claiborne', 66), ('simmie', 66), ('never', 66), ('compromise', 66), ('cal', 66), ('-pm', 66), ('memphis', 66), ('rees', 66), ('proton', 66), ('bortles', 66), ('malone', 66), ('tyreek', 66), ('spanish', 66), ('piccolo', 65), ('maters', 65), ('terrelle', 65), ('abramowicz', 65), ('xxiv', 65), ('mets', 65), ('plan', 65), ('215', 65), ('296', 65), ('clowney', 65), ('collectibles', 65), ('refrigerator', 65), ('timmy', 65), ('hoby', 65), ('53', 65), ('amari', 65), ('gostkowski', 65), ('1961', 65), ('cubs', 65), ('tott', 65), ('brandin', 64), ('thanksgiving', 64), ('suggs', 64), ('ex-', 64), ('posed', 64), ('shelf', 64), ('apex', 64), ('historic', 64), ('rawls', 64), ('konrad', 64), ('roland', 64), ('pyramids', 64), ('var', 64), ('what', 64), ('bradford', 64), ('vikings', 64), ('nes', 64), ('oruwariye', 64), ('cel-fusions', 64), ('court', 64), ('jambalaya', 64), ('xxx', 64), ('kealoha', 64), ('pilares', 64), (\"dre'mont\", 64), ('comeback', 64), ('lightspeed', 64), ('best-kept', 64), ('194', 64), ('herro', 64), ('hollywood', 64), ('freddy', 63), ('blitzkrieg', 63), ('7a', 63), ('huard', 63), ('pead', 63), ('liv', 63), ('fowler', 63), ('vannett', 63), ('rowe', 63), ('senior', 63), ('milliner', 63), ('von', 63), ('mc', 63), ('superlative', 63), ('mail', 63), ('video', 63), ('arnie', 63), ('may', 63), ('favorite', 63), ('giants', 63), ('sp', 63), ('ateman', 63), ('gum', 63), ('if', 63), ('sidney', 63), ('li', 63), ('protector', 63), ('boller', 63), ('harvey', 63), ('clive', 63), ('walford', 63), ('link', 63), ('golic', 63), ('everett', 63), ('191', 63), ('323', 63), ('stuff', 62), ('redskins', 62), ('1-220', 62), ('foot', 62), ('recruits', 62), ('gandy', 62), ('pull', 62), ('waller', 62), ('tippett', 62), ('deonte', 62), ('fletcher', 62), ('9ers', 62), ('saskatchewan', 62), ('pratt', 62), ('godwin', 62), ('mcbride', 62), ('suhey', 62), ('xpress', 62), ('humphries', 62), ('173', 62), ('-13', 62), ('unity', 62), ('385', 62), ('famers', 62), ('smith-schuster', 62), ('frenzy', 62), ('240', 62), ('n3248', 62), ('coby', 62), ('bowlen', 62), ('maclin', 62), ('dynasty', 61), ('seneca', 61), ('emblems', 61), ('-4', 61), ('bemiller', 61), ('glick', 61), ('leggett', 61), ('hood', 61), ('massaquoi', 61), ('squared', 61), ('deluca', 61), ('04', 61), ('tracy', 61), ('tuerk', 61), ('paells', 61), ('276', 61), ('berrios', 61), ('leading', 61), ('midas', 61), ('role', 61), ('eclipse', 61), ('garnder', 61), ('excl', 61), ('cutting', 61), ('finish', 61), ('raves', 61), ('n438', 61), ('cubic', 61), ('flocked', 61), ('moats', 60), ('mcrae', 60), ('75th', 60), ('oversized', 60), ('2013', 60), ('volcanic', 60), ('matchups', 60), ('uche', 60), ('werner', 60), ('biegel', 60), ('rook', 60), ('mcgwire', 60), ('poy', 60), ('cougars', 60), ('eastern', 60), ('khalil', 60), ('machines', 60), ('nba', 60), ('fast', 60), ('conrad', 60), ('east', 60), ('whitehurst', 60), ('speedie', 60), ('errol', 60), ('gareon', 60), ('expectations', 60), ('jerious', 60), ('walk', 60), ('goldman', 60), ('dive', 60), ('ximines', 60), ('breast', 60), ('cancer', 60), ('shoes', 60), ('metalized', 60), ('foles', 60), ('swirlorama', 60), ('display', 60), ('oronde', 59), ('gadsden', 59), ('standout', 59), ('graffiti', 59), ('doucet', 59), ('posey', 59), ('izzo', 59), ('mayle', 59), ('monsters', 59), ('stanzi', 59), ('raft', 59), ('irons', 59), ('dt', 59), ('waterfield', 59), ('285', 59), ('pursuit', 59), ('roscoe', 59), ('dial', 59), ('sturm', 59), ('marlins', 59), ('bulger', 59), ('damontre', 59), ('rufus', 59), ('bohringer', 59), ('boldin', 59), ('barkevious', 58), ('mingo', 58), ('chronology', 58), ('quasars', 58), ('elbert', 58), ('bjoern', 58), ('tucker', 58), ('roberson', 58), ('dunbar', 58), ('st.clair', 58), ('trae', 58), ('1982', 58), ('equipment', 58), ('announcers', 58), ('summers', 58), ('mcglinchey', 58), ('proteges', 58), ('davidson', 58), ('giancarlo', 58), ('attax', 58), ('matty', 58), ('435', 58), ('ion', 58), ('zbikowski', 58), ('willard', 58), ('flickball', 58), ('awareness', 58), ('rohan', 58), ('stands', 58), ('bibbs', 57), ('pect', 57), ('meilinger', 57), ('battle', 57), ('belllinger', 57), ('story', 57), ('amos', 57), ('5.5', 57), ('waynes', 57), ('amethyst', 57), ('neil', 57), ('burr-kirven', 57), ('holmgren', 57), ('mawae', 57), ('immortalized', 57), ('tillery', 57), ('wolverines', 57), ('1987', 57), ('gilliam', 57), ('klein', 57), ('grabowski', 57), ('272', 57), ('sentinels', 57), ('brazile', 57), ('defining', 57), ('kent', 57), ('stovall', 57), ('spence', 57), ('konz', 57), ('appleton', 57), ('anquan', 57), ('saban', 56), ('dooley', 56), ('punt', 56), ('24x', 56), ('mk', 56), ('-bs', 56), ('devier', 56), ('exchange', 56), ('bomb', 56), (\"o'bradovich\", 56), ('shadows', 56), ('refractorx-fractor', 56), ('nitro', 56), ('fabian', 56), ('c.j', 56), ('pose', 56), ('zeke', 56), ('patterns', 56), ('jacky', 56), ('then', 56), ('redmond', 56), ('papale', 56), ('rough', 56), ('riders', 56), ('jacques', 56), ('3clr', 56), ('taliaferro', 56), ('cannon', 56), ('pioneers', 56), ('sox', 56), ('windows', 56), ('1948', 56), ('320', 56), ('spiral/dots', 56), ('bucky', 56), ('tamme', 56), ('regal', 56), ('luminaries', 56), ('%', 56), ('victors', 56), ('syracuse', 56), ('307', 56), ('lincoln', 56), ('bvg', 55), ('dell', 55), ('jakeem', 55), ('jets', 55), ('k.j.hill', 55), ('z-graphs', 55), ('delone', 55), ('lorick', 55), ('gaffney', 55), ('dodd', 55), ('believe', 55), ('prolific', 55), ('powder', 55), ('cadillac', 55), ('deontay', 55), ('abdul', 55), ('photography', 55), ('enis', 55), ('itg', 55), ('gillan', 55), ('checkerboard', 55), ('wojciechowicz', 55), ('maol', 55), ('mckinnon', 55), ('unstoppable', 55), ('tenacious', 55), ('major', 55), ('matchless', 55), ('uppelassmen', 55), ('martha', 55), ('-96', 55), ('dynamos', 55), ('hitchens', 55), ('juszczyk', 55), ('tyrie', 55), ('345', 55), ('unitdom', 55), ('boosters', 55), ('4-color', 55), ('gods', 54), ('mcswain', 54), ('colquitt', 54), ('scottie', 54), ('peacock', 54), ('foley', 54), ('decals', 54), ('unc', 54), ('limitless', 54), ('-9', 54), ('wesco', 54), ('illuminated', 54), ('rivalries', 54), ('sidelines', 54), ('okwara', 54), ('18x', 54), ('1a', 54), ('wiley', 54), ('coffee', 54), ('exclamation', 54), ('-2000', 54), ('roox', 54), ('192', 54), ('n1305', 54), ('castonzo', 53), ('xfactor', 53), ('chung', 53), ('akeem', 53), ('longhorns', 53), ('bentley', 53), ('ballard', 53), ('221', 53), ('proehl', 53), ('brass', 53), ('all-etch', 53), ('clayborn', 53), ('morton', 53), ('gma', 53), ('jaquiski', 53), ('tartt', 53), ('laird', 53), (\"de'runnya\", 53), ('plug', 53), ('manny', 53), ('hoops', 53), ('sweepstakes', 53), ('joel', 53), ('mira', 53), ('281', 53), ('brunell', 53), ('navy', 53), ('leak', 53), ('form', 53), ('tree', 53), ('251', 53), ('maybin', 53), ('-now', 53), ('makers', 53), ('brewster', 53), ('pitts', 53), ('skip', 53), ('parrish', 53), ('corps', 53), ('1958', 53), ('pros', 53), ('nationals', 53), ('rb2', 53), ('trishton', 53), ('mj', 53), ('acho', 53), ('josey', 53), ('-present', 53), ('moritz', 53), ('ansu', 53), ('fati', 53), ('00', 53), ('vaulted', 53), ('3xi', 52), ('mathews', 52), ('rewind', 52), ('abdul-jabbar', 52), ('almost', 52), ('aggies', 52), ('quentin', 52), ('howell', 52), ('mccown', 52), ('kafka', 52), ('cardinal', 52), ('cockroft', 52), ('kansas', 52), ('harrell', 52), ('afcnfc', 52), ('jessie', 52), ('woodside', 52), ('143', 52), ('quartney', 52), ('3d', 52), ('ki-jana', 52), ('turned', 52), ('appears', 52), ('nicer', 52), ('219', 52), ('angular', 52), ('1-396', 52), ('frye', 52), ('11th', 52), ('limit', 52), ('bumble', 52), ('bee', 52), ('id', 52), ('xlviii', 52), ('covert', 52), ('zellars', 52), ('happy', 51), ('andrews', 51), ('heir', 51), ('ellison', 51), ('raghib', 51), ('wynn', 51), ('theo', 51), ('crowder', 51), ('cellence', 51), ('decker', 51), ('xxi', 51), ('hennigan', 51), ('webber', 51), ('heirs', 51), ('hinton', 51), ('trivia', 51), ('259', 51), ('233', 51), ('sheer', 51), ('jarrod', 51), ('mckenzie', 51), ('dylan', 51), ('oshane', 51), ('47921820', 51), ('spells', 51), ('quartz', 51), ('reverse', 51), ('shopko', 51), ('ja', 51), ('surrender', 51), ('kumerow', 50), ('dakota', 50), ('stick-ums', 50), ('invest', 50), ('356', 50), ('marlin', 50), ('bolden', 50), ('maye', 50), ('feeley', 50), ('peival', 50), ('marauders', 50), ('vinny', 50), ('pro-bowl', 50), ('open', 50), ('funny', 50), ('part', 50), ('lace', 50), ('mckissic', 50), ('airations', 50), ('clarity', 50), ('rosey', 50), ('kinnick', 50), ('dotson', 50), ('too', 50), ('prototype', 50), ('seize', 50), ('boys', 50), ('duane', 50), ('jarwin', 50), ('tanoh', 50), ('kpassagnon', 50), ('oroweat', 50), ('cortez', 50), ('centurions', 50), ('darian', 50), ('seager', 50), ('bragg', 50), ('goes', 50), ('rel', 50), ('prodigies', 50), ('cornerstone', 50), ('breece', 50), ('duante', 50), ('e-xtraordinary', 50), ('general', 49), ('kemoko', 49), ('turay', 49), ('bc', 49), ('kick-off', 49), ('another', 49), ('streeter', 49), ('nevers', 49), ('bam', 49), ('jags', 49), ('europe', 49), ('fleming', 49), ('panini', 49), ('seminoles', 49), ('kolby', 49), ('f6f6', 49), ('corporation', 49), ('-3', 49), ('30th', 49), ('loaded', 49), ('zoned', 49), ('won', 49), ('all-americans', 49), ('autry', 49), ('kemp', 49), ('196', 49), ('186', 49), ('jeremiah', 49), ('standups', 49), ('blanchard', 49), ('darrel', 49), ('swain', 49), ('246', 49), ('digital', 49), ('adderly', 49), ('83', 49), ('athletes', 49), ('course', 49), ('sheldon', 49), ('fox', 49), ('carruth', 49), ('burk', 49), ('daunte', 49), ('counterparts', 49), ('brodie', 49), ('croyle', 49), ('-52', 49), ('222', 49), ('mcneill', 49), ('scouting', 49), ('clusives', 49), ('1-290', 49), ('index', 48), ('f4', 48), ('kay-jay', 48), ('maliek', 48), ('brunelli', 48), ('friends', 48), ('beirne', 48), ('absolutely', 48), ('official', 48), ('adoree', 48), ('octane', 48), ('etling', 48), ('olson', 48), ('records', 48), ('channing', 48), ('kept', 48), ('crease', 48), ('jelks', 48), ('lorenzen', 48), ('todman', 48), ('fabled', 48), ('maze', 48), ('symbol', 48), ('2k', 48), ('stachelski', 48), ('snakeskin', 48), ('movi', 48), ('aromashodu', 48), ('duncan', 48), ('runners', 48), ('pitchin', 48), ('001', 48), ('elliot', 48), ('chet', 48), ('bichette', 48), ('kc', 48), ('alfred', 48), ('surface', 48), ('bruins', 48), ('shiel', 48), ('fc4920', 48), ('hottest', 47), ('fuqua', 47), ('352', 47), ('elkins', 47), ('xxiii', 47), ('harbaugh', 47), ('walsh', 47), ('edwards-helair', 47), ('wims', 47), ('akrum', 47), ('wadley', 47), ('pectus', 47), ('252', 47), ('1956', 47), ('cardz', 47), ('wyatt', 47), ('cracke', 47), ('commissioner', 47), ('youngelman', 47), ('reflection', 47), ('meer', 47), ('devalve', 47), ('pickett', 47), ('levens', 47), ('predictors', 47), ('luminary', 47), ('tavarres', 47), ('fernando', 47), ('mckeon', 47), ('cornell', 47), ('xlvi', 47), ('weinmeister', 47), ('insignia', 47), ('walk-off', 47), ('douglass', 47), ('boraxo', 47), ('powdered', 47), ('soap', 47), ('reilly', 47), ('stacy', 47), ('sellers', 47), ('mayes', 47), ('kuhn', 47), ('kendricks', 46), ('powell', 46), ('chanr', 46), ('cutsinger', 46), ('ashtyn', 46), ('youth', 46), ('micah', 46), ('toys', 46), ('ringer', 46), ('cent', 46), ('missouri', 46), ('-7', 46), ('loyalty', 46), ('tar', 46), ('forged', 46), ('wilford', 46), ('alford', 46), ('255', 46), ('davante', 46), ('lebron', 46), ('larson', 46), ('wadsworth', 46), ('hue', 46), ('dennard', 46), ('o.j.simpson', 46), ('erving', 46), ('brycen', 46), ('eman', 46), ('leahy', 46), ('motley', 46), ('teammates', 46), ('miss', 46), ('trajan', 46), ('bandy', 46), ('hl', 46), ('bookmarks', 46), ('competition', 46), ('raid', 46), ('jays', 46), ('supplimental', 46), ('mandarich', 46), ('posts', 46), ('kirkpatrick', 45), ('howton', 45), ('xxxiii', 45), ('kam', 45), ('eugene', 45), ('sacrifice', 45), ('exalted', 45), ('pens', 45), ('argonauts', 45), ('riddick', 45), ('-06', 45), ('flintstones', 45), ('peel', 45), ('dazzle', 45), ('1-350', 45), ('bca-bordered', 45), ('luther', 45), ('difference', 45), ('mann', 45), ('sa', 45), ('zimmerman', 45), ('tasker', 45), ('245', 45), ('cloud', 45), ('-91', 45), ('ciuit', 45), ('board/pipes', 45), ('curt', 45), ('custom', 45), ('seattle', 45), ('quan', 45), ('ss1444', 45), ('tye-dyed', 45), ('ealges', 45), ('rajion', 45), ('-2008', 45), ('lippett', 45), ('ca-pm', 45), ('350+', 45), ('n1464', 45), ('atlanta', 45), ('fleener', 45), ('type', 44), ('-72', 44), ('boom', 44), ('f3', 44), ('pin-ups', 44), ('steiner', 44), ('edd', 44), ('hargett', 44), ('coples', 44), ('movement', 44), ('quest', 44), ('saunders', 44), ('jaquan', 44), ('nall', 44), ('wives', 44), ('barack', 44), ('obama', 44), ('sided', 44), ('xxxiv', 44), ('langer', 44), ('dark', 44), ('201+', 44), ('3.5', 44), ('uncut', 44), ('burket', 44), ('mem', 44), ('ahmad', 44), ('jaelen', 44), ('rosenfels', 44), ('watters', 44), ('unlimited', 44), ('tremaine', 44), ('wolf', 44), ('265', 44), ('expansion', 44), ('shipp', 44), ('2kt', 44), ('bayless', 44), ('cello', 44), ('bass', 44), ('eischeid', 44), ('lang', 44), ('clean', 44), ('ps', 44), ('100th', 44), ('en', 44), ('ortsfest', 44), ('tidal', 43), ('ss9406', 43), ('dunn', 43), ('shortprint', 43), ('pritchett', 43), ('raised', 43), ('rpm', 43), ('taiwan', 43), ('buster', 43), ('merling', 43), ('rebels', 43), ('sorensen', 43), ('okoye', 43), ('ned', 43), ('vaccaro', 43), ('schottenheimer', 43), ('133', 43), ('darrin', 43), ('keene', 43), ('static', 43), ('a.', 43), ('champs', 43), ('focused', 43), ('armani', 43), ('rs-4', 43), ('bdpp47', 43), ('282', 43), ('coating', 43), ('ingot', 43), ('n185', 43), ('younghoe', 43), ('koo', 43), ('stroke', 43), ('genius', 43), ('leatherheads', 43), ('2color', 43), ('crystalline', 43), ('25++', 43), ('gramatica', 43), ('goode', 43), ('jewell', 43), ('tilleman', 43), ('corner', 43), ('angels', 43), ('2009', 43), ('solder', 43), ('bombs', 43), ('sc1787', 43), ('pop1', 43), ('scoreboard', 43), ('region', 43), ('streak', 43), ('mcgeever', 43), ('hang', 43), ('03', 42), ('devonta', 42), ('685', 42), ('314', 42), ('jacquizz', 42), ('dewayne', 42), ('stephens', 42), ('weisacosky', 42), ('cohen', 42), ('benn', 42), ('353', 42), ('winnipeg', 42), ('bombers', 42), ('hargreaves', 42), ('buddy', 42), ('stams', 42), ('319', 42), ('k-klub', 42), ('herrmann', 42), ('dungey', 42), ('lindsay', 42), ('edmonton', 42), ('photograph', 42), ('colston', 42), ('ayers', 42), ('certifed', 42), ('starring', 42), ('quadruple', 42), ('magnet', 42), ('ole', 42), ('cubes/chain', 42), ('hilliard', 42), ('-12', 42), ('b-mr', 42), ('49er', 42), ('burris', 42), ('cabrera', 42), ('gabe', 42), ('tyquan', 41), ('royster', 41), ('calgary', 41), ('stampeders', 41), ('duranko', 41), ('colorado', 41), ('robertson', 41), ('metalists', 41), ('virgil', 41), ('wrapper', 41), ('229', 41), ('veryl', 41), ('kobe', 41), ('mcgloin', 41), ('danbury', 41), ('ciular', 41), ('plus', 41), ('edmond', 41), ('ernest', 41), ('boilermakers', 41), ('lacosse', 41), ('trenton', 41), ('demao', 41), ('moulds', 41), ('barden', 41), ('beatty', 41), ('allstate', 41), ('bal', 41), ('tatis', 41), ('padres', 41), ('contest', 41), ('explosive', 41), ('tle', 41), ('druckenmiller', 41), ('crane', 41), ('robiskie', 41), ('josiah', 41), ('lv', 41), ('acuna', 41), ('king-b', 41), ('jewels', 41), ('tajh', 41), ('spaeth', 41), ('jeffrey', 41), ('finale', 41), ('gme', 41), ('stram', 41), ('weekly', 41), ('ra-jh', 41), ('showtime', 41), ('pac', 41), ('citing', 41), ('stardate', 40), ('3pk', 40), ('mardy', 40), ('gilyard', 40), ('receiving', 40), ('keyshawn', 40), ('spectacular', 40), ('wall', 40), ('baird', 40), ('flats', 40), ('braille', 40), ('serigraphs', 40), ('testaverde', 40), ('mclaurin', 40), ('48er', 40), ('hachimura', 40), ('-2001', 40), ('flasher', 40), ('bud', 40), ('koa', 40), ('rico', 40), ('-phonex', 40), ('mendenhall', 40), ('ainge', 40), ('surprise', 40), ('breakthrough', 40), ('mcguire', 40), ('darqueze', 40), ('fales', 40), ('sylvester', 40), ('scarpati', 40), ('vg-ex+', 40), ('replays', 40), ('capsule', 40), ('verl', 40), ('lillywhite', 40), ('darron', 40), ('maddox', 40), ('quez', 40), ('streaking', 40), ('catch', 40), ('pitt', 40), ('herrien', 40), ('hanratty', 40), ('figure', 40), ('burners', 40), ('ex-nm', 40), ('ss1282', 40), ('division', 40), ('conv', 40), ('cor', 40), ('1983', 40), ('wins', 40), ('riggle', 40), ('fours', 40), ('saquan', 40), ('1955', 40), ('jeter', 40), ('reviews', 40), ('seals', 40), ('braves', 40), ('mariners', 40), ('rae', 40), ('rps-pm', 40), ('transcendent', 40), ('315', 40), ('find', 40), ('brist', 40), ('katzenmoyer', 39), ('dorian', 39), ('warwick', 39), ('ahmed', 39), ('lavelle', 39), ('guns', 39), ('xv', 39), ('leeland', 39), ('kiser', 39), ('quin', 39), ('camarillo', 39), ('milburn', 39), ('zereoue', 39), ('tamarick', 39), ('vanover', 39), ('berlin', 39), ('mcquarters', 39), ('93', 39), ('texans', 39), ('nomina', 39), ('saners', 39), ('kerrith', 39), ('whyte', 39), ('munchak', 39), ('lansford', 39), ('3000', 39), ('slam', 39), ('alonzo', 39), ('ocho', 39), ('cinco', 39), ('doc', 39), ('rasheem', 39), ('aundrae', 39), ('bellino', 39), ('-5', 39), ('chesson', 39), ('doubles', 39), ('226', 39), ('bbce', 39), ('u.s.', 39), ('leach', 39), ('easy', 39), ('apprentice', 39), ('madubuike', 39), ('patchworks', 39), ('antwan', 39), ('unscratched', 39), ('agnew', 39), ('mirage', 39), ('bellinger', 39), ('lindley', 39), ('1973', 39), ('211', 39), ('pyschedelic', 39), ('inn', 39), ('225a', 39), ('boone', 39), ('1210', 39), ('centurion', 39), ('sca', 39), ('oakland', 38), ('2004', 38), ('shockey', 38), ('adolphus', 38), ('kentucky', 38), ('shop', 38), ('kelce', 38), ('beach', 38), ('10x', 38), ('tcu', 38), ('listenbee', 38), ('soles', 38), ('3-', 38), ('arrelious', 38), ('feats', 38), ('janis', 38), ('heels', 38), ('nat', 38), (\"le'veon\", 38), ('ascent', 38), ('masks', 38), ('alonso', 38), ('kenjon', 38), ('barner', 38), ('z-titanium', 38), ('burton', 38), ('neophyte', 38), ('cs', 38), ('uk', 38), ('candidates', 38), ('344', 38), ('milk', 38), ('davon', 38), ('lithos', 38), ('plays', 38), ('fritsch', 38), ('fd9318', 38), ('rankins', 38), ('mccullough', 38), ('define', 38), ('25th', 38), ('posing', 38), ('rucker', 38), ('engram', 38), ('spelled', 38), ('ss1585', 38), ('pettigrew', 38), ('fd9840', 38), ('brent', 38), ('174', 38), ('chrisitian', 38), ('freeney', 38), ('cels', 38), ('authenticated', 38), ('misc', 38), ('n1504', 38), ('kruger', 38), ('averett', 38), ('ramirez', 38), ('felts', 37), ('worley', 37), ('beer', 37), ('livin', 37), ('n3174', 37), ('4-on-1', 37), ('ciatrick', 37), ('fason', 37), ('viii', 37), ('domanick', 37), ('wondrous', 37), ('dierking', 37), ('ex-mt+', 37), ('ba-1', 37), ('turk', 37), ('tristan', 37), ('jade', 37), ('4a', 37), ('perez', 37), ('kerry', 37), ('edmunds', 37), ('shaheen', 37), ('footballbillia', 37), ('tillman', 37), ('odighizuwa', 37), ('beban', 37), ('-01', 37), ('shockley', 37), ('seals-jones', 37), ('canadeo', 37), ('jacquez', 37), ('butch', 37), ('dyer', 37), ('horace', 37), ('fresno', 37), ('athletics', 37), ('mattson', 37), ('nmmt+', 37), ('collectible', 37), ('ss8825', 37), ('n3220', 37), ('leake', 37), ('fully', 37), ('jimbo', 37), ('chrebet', 37), ('undelassmen', 37), ('table', 37), ('straight', 37), ('javier', 37), ('firestone', 37), ('kellerman', 36), ('raji', 36), ('t3', 36), ('nightmares', 36), ('duckett', 36), ('bordered', 36), ('wrong', 36), ('darryl', 36), ('helu', 36), ('rui', 36), ('079299', 36), ('fd9825', 36), ('jalin', 36), ('mccormick', 36), ('murphy-bunting', 36), ('monster', 36), ('topaz', 36), ('unnumbered', 36), ('wedges', 36), ('pinkston', 36), ('week/year', 36), ('vincent', 36), ('plaid', 36), ('sharpshooters', 36), ('offense', 36), (\"fuamatu-ma'afala\", 36), ('spruce', 36), ('mal', 36), ('kilmer', 36), ('simms', 36), ('owamagbe', 36), ('ridlon', 36), ('packed', 36), ('xxxii', 36), ('ss1298', 36), ('artistry', 36), ('signacuts', 36), ('3-run', 36), ('attraction', 36), ('stoppers', 36), ('in9', 36), ('kazmaier', 36), ('yatil', 36), ('ss1427', 36), ('fd9831', 36), ('freaks', 36), ('laurence', 36), ('drama', 36), ('mcmanus', 36), ('celebration', 36), ('hufnagel', 36), (\"'06\", 36), ('1-330', 36), ('buford', 36), ('ss1117', 36), ('ksa', 36), ('centering', 36), ('ss1379', 36), ('n1090', 36), ('progressive', 36), ('holidays', 35), ('bouye', 35), ('ogbonnia', 35), ('okoronkwo', 35), (';', 35), ('petrich', 35), ('jet', 35), ('336', 35), ('davis-ther', 35), ('carroll', 35), ('panoramic', 35), ('sharrif', 35), ('yowarsky', 35), ('predators', 35), ('rm-', 35), ('philly', 35), ('sabeats', 35), ('stonebreaker', 35), ('odrick', 35), ('thread', 35), ('eight', 35), ('rohrwasser', 35), ('rochester', 35), ('elvis', 35), ('paninii', 35), ('nm/mt+', 35), ('1-65', 35), ('loader', 35), ('brace', 35), ('schaub', 35), ('287', 35), ('chmura', 35), ('troupe', 35), ('established', 35), ('iron', 35), ('ss1283', 35), (\"'90\", 35), ('timers', 35), ('s-sd', 35), ('n3116', 35), ('clarke', 35), ('header', 35), ('fc1338', 35), ('herring', 35), ('338', 35), ('henson', 35), ('133-264', 35), ('au', 35), ('goldie', 35), ('s-bm', 35), ('chidobe', 35), ('awuzie', 35), ('bird', 35), ('armory', 35), ('checker', 35), ('lester', 35), ('ss9640', 35), ('1977', 35), ('komics', 35), ('sponsor', 35), ('fc4456', 35), ('positions', 34), ('intense', 34), ('million', 34), ('lasers', 34), ('kuntz', 34), ('cadile', 34), ('294', 34), ('159', 34), ('worilds', 34), ('saul', 34), ('glyn', 34), ('pederson', 34), ('send-in', 34), ('999', 34), ('toronto', 34), ('christmas', 34), ('wheelwright', 34), ('ashton', 34), ('jdn189e', 34), ('cary', 34), ('wistert', 34), ('panel', 34), ('nm-mint+', 34), ('xxxviii', 34), ('unripped', 34), ('bp', 34), ('superstar', 34), ('wallet', 34), ('pictures', 34), ('254', 34), ('graziani', 34), ('decided', 34), ('2554', 34), ('rauch', 34), ('crow', 34), ('monty', 34), ('musa', 34), ('dairy', 34), ('pak', 34), ('carton', 34), ('xii', 34), ('outlaws', 34), ('klecko', 34), ('roberto', 34), ('speckles', 34), ('n186', 34), ('baylor', 34), ('b9', 34), ('494', 34), ('check', 34), ('vai', 34), ('parsons', 34), ('ali', 34), ('richards', 34), ('coolbaugh', 34), ('kolton', 34), ('wolford', 34), ('ss1332', 34), ('ss1407', 34), ('deguara', 34), ('2598', 34), ('stallions', 34), ('humes', 34), ('grizzlies', 34), ('chivalry', 34), ('verdin', 34), ('fumble', 34), ('yardage', 34), ('00+', 34), ('kinnard', 34), ('n1581', 34), ('bringing', 34), ('torn', 34), ('pad', 34), ('oh', 34), ('6-', 34), ('masterful', 34), ('masteoll', 34), ('flick', 34), ('pd', 34), ('ss1119', 34), ('cheyenne', 33), (\"o'grady\", 33), ('margus', 33), ('sott', 33), ('batch', 33), ('x-ray', 33), ('wersching', 33), ('183', 33), ('thumbs', 33), ('jabar', 33), (\"d'wayne\", 33), ('arkansas', 33), ('thru', 33), ('datone', 33), ('rain', 33), ('distinction', 33), ('brailford', 33), ('rocky', 33), ('whitey', 33), ('nt', 33), ('wsu', 33), ('riddell', 33), ('geronimo', 33), ('superb', 33), ('duck', 33), ('bienemann', 33), ('opportunity', 33), ('hula', 33), ('modern', 33), ('holtz', 33), ('n2762', 33), ('239', 33), ('394', 33), ('bowie', 33), ('holz', 33), ('skyler', 33), ('flashbacks', 33), ('thigpen', 33), ('-2017', 33), ('agholor', 33), ('pettway', 33), ('composers', 33), ('rolls', 33), ('fotg', 33), ('huddles', 33), ('character', 33), ('bad', 33), ('semi-final', 33), ('norton', 33), ('boxed', 33), ('barreto', 33), ('selvin', 33), ('beautiful', 33), ('bradlee', 33), (\"o'connell\", 33), ('fats', 33), ('mickey', 33), ('kids', 33), ('kamal', 33), ('gore', 33), ('statistically', 33), ('speaking', 33), ('delivered', 33), ('tyrion', 33), ('devine', 33), ('maroney', 33), ('bat', 33), ('topp', 33), ('comic', 33), ('gatski', 33), ('byu', 33), ('krenzel', 33), ('-2002', 33), ('bradbury', 33), ('alumnus', 33), ('44708', 33), ('oversize', 33), ('fd8510', 33), ('shape', 33), ('gives', 33), ('decks', 32), ('vermeil', 32), ('shoulder', 32), ('keyes', 32), ('talamini/blanda/kemp/whalen', 32), ('xxxv', 32), ('heusen', 32), ('erickson', 32), ('21st', 32), (\"o'leary\", 32), ('qbs', 32), ('sites', 32), ('q', 32), ('highsmith', 32), ('awesome', 32), ('patroits', 32), ('fumagalli', 32), ('12th', 32), ('rw', 32), ('showboats', 32), ('grpahs', 32), ('su', 32), ('carwell', 32), ('hashmarks', 32), ('starter', 32), ('cruz', 32), ('nm/mt', 32), ('osborne', 32), ('n2767', 32), ('jehu', 32), ('yourself', 32), ('disguise', 32), ('ck', 32), ('runs', 32), ('prints', 32), ('atkeson', 32), ('broste', 32), ('klopfenstein', 32), ('lindsey', 32), ('fc3922', 32), ('mettle', 32), ('lakers', 32), ('cosby', 32), ('1968', 32), ('your', 32), ('demario', 32), ('gillis', 32), ('boulware', 32), ('-mint', 32), ('materpiece', 32), ('ss1557', 32), ('boots', 32), ('crush', 32), ('kennison', 32), ('ss1337', 32), ('back-to-backs', 32), ('312', 32), ('julius', 32), ('gillman', 32), ('colclough', 32), ('g1', 32), ('eben', 32), ('wandale', 32), ('slayers', 32), ('ss1249', 32), ('producers', 32), ('ss9308', 32), ('gaia', 32), ('atuograph', 32), ('reuben', 32), ('monuments', 32), ('look', 32), ('boswell', 32), ('giant', 32), ('marshal', 32), ('x-pectations', 32), ('jdn39b', 32), ('fc4928', 32), ('ortiz', 32), ('sprint', 31), (\"o'daniel\", 31), ('fluker', 31), ('courtland', 31), ('217', 31), ('quandre', 31), ('pike', 31), ('teague', 31), ('janovich', 31), ('beanie', 31), ('erin', 31), ('n2664', 31), ('n2662', 31), ('rarefied', 31), ('stefan', 31), ('clint', 31), ('hokies', 31), ('youboty', 31), ('cup', 31), ('staremaster', 31), ('trung', 31), ('canidate', 31), ('errick', 31), ('saints', 31), ('nussbaumer', 31), ('reese', 31), ('eminence', 31), ('huth', 31), ('dilfer', 31), ('yeast', 31), ('ogbah', 31), ('human', 31), ('301-350', 31), ('alize', 31), ('nalley', 31), ('bert', 31), ('j.', 31), ('286', 31), ('marvelous', 31), ('ajayi', 31), ('holt', 31), ('inkpeccable', 31), ('stefon', 31), ('1483', 31), ('seahwaks', 31), ('javorius', 31), ('jalyn', 31), ('burger', 31), ('278', 31), ('ro', 31), ('glasgow', 31), ('mine', 31), ('walterscheid', 31), ('mat', 31), ('nl', 31), ('lunch', 31), ('reich', 31), ('sikahema', 31), ('lasley', 31), ('dorance', 31), ('niklas', 31), ('ss8937', 31), ('tereshinski', 31), ('hour', 31), ('-76', 31), ('265-396', 31), ('r.o.y', 31), ('bronko', 31), ('nagurski', 31), ('bowser', 31), ('309', 31), ('pa', 31), ('asbury', 31), ('rickie', 31), ('ara', 31), ('parseghian', 31), ('264', 31), ('dorien', 31), ('frost', 31), ('juron', 31), ('criner', 31), ('claridge', 31), ('d39s', 31), ('nj4b', 31), ('u', 31), ('still', 31), ('welker', 31), ('billings', 31), ('ss9621', 31), ('knock', 31), ('mystiue', 31), ('241', 31), ('grocery', 31), ('jdn83e', 31), ('litton', 31), ('ss1330', 31), ('fc3906', 31), ('cel', 30), ('picture', 30), ('rasheed', 30), ('mcclellin', 30), ('critics', 30), ('kordell', 30), ('hitters', 30), ('mcgough', 30), ('-2020', 30), ('meggett', 30), ('-biography', 30), ('khalen', 30), ('acclaimed', 30), ('mosiac', 30), ('waddingtons', 30), ('into', 30), ('artie', 30), ('notch', 30), ('bio', 30), ('tuel', 30), ('jerell', 30), ('krisher', 30), ('razorbacks', 30), ('moe', 30), ('schweder', 30), ('2000++', 30), ('krazy', 30), ('ruettiger', 30), ('bolcar', 30), ('kirby', 30), ('northcutt', 30), ('d-dj', 30), ('sg-', 30), ('bennie', 30), ('nugent', 30), ('momentous', 30), ('way', 30), ('net', 30), ('nile', 30), ('-ja1', 30), ('1000-yard', 30), ('edward', 30), ('realm', 30), ('corbin', 30), ('avonte', 30), ('tohbearer', 30), ('8-', 30), ('dowdle', 30), ('tye', 30), ('weatherly', 30), ('oakes', 30), ('wonderous', 30), ('mael', 30), ('mo', 30), ('ilaoa', 30), ('third', 30), ('gerard', 30), ('nkemdiche', 30), ('ss1569', 30), ('ss1586', 30), ('cash', 30), ('spikes', 30), ('hayward', 30), ('ss1482', 30), ('enunwa', 30), ('influx', 30), ('shrine', 30), ('47921821', 30), ('n998', 30), ('jensen', 30), ('proline', 30), ('bouman', 30), ('devard', 30), ('darling', 30), ('sweetness', 30), ('ss9602', 30), ('plunkett', 30), ('a-train', 30), ('onterrio', 30), ('kindig', 30), ('darnay', 30), ('five-o', 30), ('fc4933', 30), ('interactive', 29), ('kay', 29), ('-65', 29), ('baron', 29), ('maurer', 29), ('965', 29), ('wise', 29), ('chambers', 29), ('uwe', 29), ('osborn', 29), ('ta-tt1', 29), ('taulia', 29), ('golladay', 29), ('hodge', 29), ('witcher', 29), ('mcinally', 29), ('gra', 29), ('musacco', 29), ('code', 29), ('grabosky', 29), ('tashard', 29), ('cann', 29), ('x4', 29), ('jdn192e', 29), ('dayes', 29), ('same', 29), ('phelan', 29), ('fc-', 29), ('winn', 29), ('partee', 29), ('brilliant', 29), ('wirfs', 29), ('y.', 29), ('ge', 29), ('jajuan', 29), ('hero', 29), ('jubilee', 29), (\"o'donnell\", 29), ('rivera', 29), ('contender', 29), ('-11', 29), ('roundtable', 29), ('cutler', 29), ('340', 29), ('e-x2001', 29), ('n3149', 29), ('multi-marks', 29), ('close-ups', 29), ('fantasports', 29), ('313', 29), ('balcony', 29), ('kiel', 29), ('benecick', 29), ('qb5', 29), ('clarett', 29), ('chocolate', 29), ('tandon', 29), ('decadence', 29), ('/dick', 29), ('partnerships', 29), ('wilkerson', 29), ('tektech', 29), ('younger', 29), ('ss1448', 29), ('cotton', 29), ('hanulak', 29), ('45372295', 29), ('phoenician', 29), ('bronco', 29), ('267', 29), ('ss1181', 29), ('industry', 29), ('gibbs', 29), ('fuchs', 29), ('ss9603', 29), ('s-ja', 29), ('drue', 29), ('ss9773', 29), ('n1577', 29), ('imposing', 29), ('ss1208', 29), ('doett', 29), ('cincinnati', 29), ('pulled', 29), ('today', 29), ('ss1384', 29), ('non-', 28), ('tanned', 28), ('rested', 28), ('lutzenkihen', 28), ('stofa', 28), ('10++', 28), ('leodis', 28), ('vosean', 28), ('simon', 28), ('brockers', 28), ('keshawn', 28), ('incl', 28), ('deatrich', 28), ('kahn', 28), ('correct', 28), ('n2400', 28), ('n2378', 28), ('fields', 28), ('tevin', 28), ('montreal', 28), ('alouettes', 28), ('cornelius', 28), ('genevieve', 28), ('fiesta', 28), ('snyder', 28), ('moses', 28), ('we', 28), ('misi', 28), ('edmund', 28), ('books', 28), ('hillman', 28), ('jdn100e', 28), ('grit', 28), ('barnstormers', 28), ('patented', 28), ('ripkowski', 28), ('pyramid', 28), ('roster', 28), ('breaking', 28), ('global', 28), ('berger', 28), ('windsor', 28), ('wotn', 28), ('n691', 28), ('wagner', 28), ('opened', 28), ('1-', 28), ('cappadona', 28), ('bunting', 28), ('uniforms', 28), ('08', 28), ('haymond', 28), ('stories', 28), ('emil', 28), ('nagle', 28), ('destinations', 28), ('bb', 28), ('hrs', 28), ('fc3905', 28), ('289', 28), ('1967', 28), ('ledyard', 28), ('nykoluk', 28), ('memories', 28), ('nno', 28), ('freeze', 28), ('n2661', 28), ('stanfel', 28), ('deangelo', 28), ('scudero', 28), ('partnership', 28), ('griffey', 28), ('traditions', 28), ('multiple', 28), ('talent', 28), ('n3260', 28), ('s26a', 28), ('machine', 28), ('soward', 28), ('russel', 28), ('fc3904', 28), ('ss1183', 28), ('louisville', 28), ('2025', 28), ('smith-shuster', 28), ('anfernee', 28), ('kuechenberg', 28), ('dorenbos', 28), ('sc1709', 28), ('fd9163', 28), ('diffraction', 28), ('n231', 28), ('ss9753', 28), ('bullocks', 28), ('october', 28), ('business', 28), ('rooster', 28), ('n2027', 28), ('ertz', 28), ('wisniewski', 28), ('eagle', 28), ('donrsus', 28), ('leaning', 28), ('ss1144', 28), ('sleeve', 27), ('akins', 27), ('showing', 27), ('salvon', 27), ('legens', 27), ('375', 27), ('rolf', 27), ('krueger', 27), ('11x', 27), ('+more', 27), ('holloway', 27), ('midway', 27), ('483', 27), ('shorter', 27), ('carden', 27), ('slides', 27), ('nolan', 27), ('transitions', 27), ('defensive', 27), ('-21', 27), ('346', 27), ('induction', 27), ('western', 27), (\"de'mond\", 27), ('orlovsky', 27), ('darkwa', 27), ('trifecta', 27), ('bruener', 27), ('breaston', 27), ('spots', 27), ('hackett', 27), ('correll', 27), ('buckhalter', 27), ('warmack', 27), ('calico', 27), ('jean', 27), ('forerunners', 27), ('440', 27), ('mcallister', 27), ('ra-', 27), ('dd', 27), ('fryar', 27), ('vitale', 27), ('22-card', 27), ('domino', 27), ('united', 27), ('com', 27), ('horseman', 27), ('fanimation', 27), ('fry', 27), ('260', 27), ('kwame', 27), ('crockett', 27), ('orts', 27), ('waddle', 27), ('scorecard', 27), ('tie-dyed', 27), ('sitko', 27), ('kreider', 27), ('jeno', 27), ('vy', 27), ('1962', 27), ('martinello', 27), ('qb3', 27), ('guyton', 27), ('sc', 27), ('prentice', 27), ('mcnichol', 27), ('1stitem', 27), ('hendrickson', 27), ('harlan', 27), ('mantle', 27), ('pinstripe', 27), ('ss1406', 27), ('merrick', 27), ('boomer', 27), ('sanchez', 27), ('lloyd', 27), ('foskey', 27), ('f2', 27), ('2804', 27), ('n3262', 27), ('angeline', 27), ('milner', 27), ('allpros', 27), ('baschnagel', 27), ('02', 27), ('pts', 27), ('grice', 27), ('wlaf', 27), ('eifert', 27), ('saivion', 27), ('golves', 27), ('sepectra', 27), ('ss9754', 27), ('hobbs', 27), ('legen', 27), ('baez', 27), ('afc-nfc', 27), ('fili', 27), ('moala', 27), ('fuego', 27), ('ters/awards', 27), ('backfield', 27), ('takkarist', 27), ('several', 27), ('jerod', 27), ('pringle', 27), ('lattner', 27), ('hobert', 27), ('text', 27), ('ss9351', 27), ('aega', 27), ('whiteside', 27), ('renaldo', 26), ('j.t', 26), ('armour', 26), ('stiger', 26), ('schamann', 26), ('added', 26), ('burbridge', 26), ('gholston', 26), ('jamison', 26), ('carney', 26), ('greer', 26), ('jasper', 26), ('orleans', 26), ('roc', 26), ('radzick', 26), ('271', 26), ('bronson', 26), ('star', 26), ('habig', 26), ('rowland', 26), ('totc', 26), ('memorabila', 26), ('magnum', 26), ('caught', 26), ('silas', 26), ('redd', 26), ('seahawks', 26), ('all-pros', 26), ('lp', 26), ('2008', 26), ('briscoe', 26), ('defender', 26), ('227', 26), ('365', 26), ('timelines', 26), ('2005', 26), ('simeon', 26), ('castille', 26), ('bethel', 26), ('406', 26), ('stuckey', 26), ('clouds', 26), ('kroft', 26), ('trimmed', 26), ('bulls', 26), ('deandrew', 26), ('gio', 26), ('specialists', 26), ('shooters', 26), ('braverman', 26), ('pelt', 26), ('gruneisen', 26), ('dres', 26), ('mascot', 26), ('cantrell', 26), ('mcneil', 26), ('ss1558', 26), ('ss1521', 26), (\"d'cota\", 26), ('ss8826', 26), ('gunslingers', 26), ('seven', 26), ('321', 26), ('karlis', 26), ('fc2547', 26), ('rassas', 26), ('reaches', 26), ('rizzo', 26), ('pelicans', 26), ('swap', 26), ('panin', 26), ('n3027', 26), ('braylon', 26), ('skys', 26), ('mometum', 26), ('fc1614', 26), ('report', 26), ('iglesias', 26), ('burgess', 26), ('ss9601', 26), ('n2952', 26), ('ss9708', 26), ('grabs', 26), ('ss1079', 26), ('hershel', 26), ('talley', 26), ('mcneal', 26), ('-97', 26), ('fight', 26), ('r.', 26), ('heeter', 26), ('273', 26), ('cramers', 26), ('montaric', 26), ('savitsky', 25), ('fusions', 25), ('admission', 25), ('vander', 25), ('mckay', 25), ('trimmed/vending', 25), ('oc', 25), ('xiv', 25), ('mountaineers', 25), ('coffey', 25), ('torgeson', 25), ('sr.', 25), ('spears', 25), ('plated', 25), ('5-', 25), ('okafor', 25), ('canary', 25), ('pach', 25), ('mackensie', 25), ('e-cards', 25), ('ss87', 25), ('broussard', 25), ('lodge', 25), ('kaufusi', 25), ('asa', 25), ('ornaments', 25), ('leshon', 25), ('hoying', 25), ('daddio', 25), ('salvador', 25), ('empty', 25), ('camp', 25), ('brabham', 25), ('caard', 25), ('kouandjio', 25), ('stanback', 25), ('killebrew', 25), (\"'95\", 25), ('moreno', 25), ('hammack', 25), ('44890413', 25), ('germany', 25), ('becton', 25), ('cveko', 25), ('destiny', 25), ('rabb', 25), ('jacke', 25), ('strock', 25), ('fooball', 25), ('humpty', 25), ('exmt+', 25), ('tidwell', 25), ('attired', 25), ('bauer', 25), ('fd9299', 25), ('fd9541', 25), ('1971', 25), ('gord', 25), ('thermos', 25), ('u-19', 25), ('beavers', 25), ('chang', 25), ('strugar', 25), ('ss9407', 25), ('some', 25), ('maddy', 25), ('darick', 25), ('n2731', 25), ('armon', 25), ('binns', 25), ('henley', 25), ('pinstripes', 25), ('banquet', 25), ('s29a', 25), ('bucaneers', 25), ('chiquita', 25), ('reynaud', 25), ('wearing', 25), ('397-528', 25), ('tranquill', 25), ('-09', 25), ('dreamius', 25), ('tops', 25), ('halo', 25), ('msu', 25), ('tye-die', 25), ('jm11', 25), ('n160', 25), ('cousins', 25), ('fourth', 25), ('edgar', 25), ('fiedorowicz', 25), ('-ta', 25), ('infrastructure', 24), ('brewer', 24), ('stinnette', 24), ('spartans', 24), ('parmele', 24), ('hollis', 24), ('mckelvin', 24), ('nance', 24), ('fest', 24), ('staley', 24), ('6.5', 24), ('agajanian', 24), ('d-jr', 24), ('langford', 24), ('devils', 24), ('tiger-cats', 24), ('jdn12e', 24), ('cd', 24), ('buffalo', 24), ('zeier', 24), ('grapha', 24), ('denson', 24), ('joyner', 24), ('sets', 24), ('obidian', 24), ('rambo', 24), ('damarkus', 24), ('farrell', 24), ('funston', 24), ('ohard', 24), ('savoie', 24), ('raiers', 24), ('dissly', 24), ('ss8738', 24), ('muha', 24), ('chance', 24), ('polk', 24), ('cager', 24), ('benchmarks', 24), ('lionel', 24), ('draftteam', 24), ('talented', 24), ('mcnutt', 24), ('2553', 24), ('tory', 24), ('cover', 24), ('myron', 24), ('ss9622', 24), ('red/yellow', 24), ('ss9881', 24), ('337', 24), ('-6', 24), ('348', 24), ('tv', 24), ('noteworthy', 24), ('montler', 24), ('toogood', 24), (\"da'shawn\", 24), ('xcellence', 24), ('mcfarlane', 24), ('sportspicks', 24), ('led', 24), ('yablonski', 24), ('fc4303', 24), ('40a', 24), ('tresler', 24), ('comet', 24), ('23k', 24), ('binder', 24), ('tool', 24), ('damion', 24), ('delveaux', 24), ('crist', 24), ('visionary', 24), ('smoot', 24), ('concouse', 24), ('1-400', 24), ('gte', 24), ('odom', 24), ('glanville', 24), ('ss1325', 24), ('ss1377', 24), ('ss1322', 24), ('edwin', 24), ('ifo', 24), ('ekpre-olomu', 24), ('4.5', 24), ('wilber', 24), ('ss8837', 24), ('ss1464', 24), ('toliver', 24), ('noel', 24), ('362', 24), ('8306', 24), ('jayron', 24), ('centruy', 24), ('ikaika', 24), ('alama-francis', 24), ('postmarks', 24), ('isa', 24), ('match-ups', 24), ('41453473', 24), ('opposite', 24), ('fc1326', 24), ('goey', 24), ('n2893', 24), ('prefered', 24), ('brutus', 24), ('buckeye', 24), ('fruit', 24), ('loom', 24), ('bingham', 24), ('101t', 24), ('ss9641', 24), ('kraft', 24), ('n1584', 24), ('lujack', 24), ('sheet', 24), ('whittington', 24), ('kenyatta', 24), ('ss9350', 24), ('spectum', 24), ('ss1344', 24), ('n1272', 24), ('tyus', 24), ('hernandez', 24), ('xx', 24), ('1265', 24), ('qb4', 24), ('rp', 24), ('heroics', 23), ('gatorade', 23), ('mickens', 23), ('fc4235', 23), ('cowlings', 23), ('zander', 23), ('shivers', 23), ('n2637', 23), ('1++', 23), ('denney', 23), ('holcombe', 23), ('sc1922', 23), ('ciante', 23), ('illini', 23), ('torrance', 23), ('scores', 23), ('control', 23), ('4ers', 23), ('half', 23), ('lamaus', 23), ('mora', 23), ('outdoors', 23), ('ss8737', 23), ('warring', 23), ('kamalei', 23), ('correa', 23), ('rounders', 23), ('dillion', 23), ('brooker', 23), ('cherry', 23), ('anzalone', 23), ('bgs', 23), ('kanoff', 23), ('chemistry', 23), ('kammerer', 23), ('jresey', 23), ('reflector', 23), ('n2760', 23), ('demaryius', 23), ('family', 23), ('235', 23), ('mozaics', 23), ('373', 23), ('pyramids/diamonds', 23), ('donrusss', 23), ('-10', 23), ('fuad', 23), ('reveiz', 23), ('funchess', 23), ('invaders', 23), ('powerful', 23), ('carrier', 23), ('hasbro', 23), ('ebert', 23), ('ss1272', 23), ('variaton', 23), ('kamryn', 23), ('burson', 23), ('nature', 23), ('pre-', 23), ('mike-mayer', 23), ('luster', 23), ('sunburst', 23), ('jaxon', 23), ('trev', 23), ('hastings', 23), ('crichton', 23), ('shanahan', 23), ('13-card', 23), ('jarious', 23), ('phlik', 23), ('shonn', 23), ('lawler', 23), ('proverb', 23), ('ss1523', 23), ('ss1591', 23), ('thurlow', 23), ('epps', 23), ('bryson', 23), ('e-xciting', 23), ('sacks', 23), ('ike', 23), ('n2484', 23), ('sampson', 23), ('danelo', 23), ('clinton', 23), ('vardell', 23), ('marquette', 23), ('signals', 23), ('benz', 23), ('s2a', 23), ('ix', 23), ('miguel', 23), ('printer', 23), ('drugs', 23), ('peerman', 23), ('berman', 23), ('dairypak', 23), ('qualls', 23), ('45301324', 23), ('tc3', 23), ('forest', 23), ('\\\\', 23), ('potd', 23), ('sc1788', 23), ('crunch', 23), ('n230', 23), ('damaged', 23), ('vaughan', 23), ('niles', 23), ('pruitt', 23), ('launchers', 23), ('minus', 23), ('mission', 23), ('lasco', 23), ('monte', 23), ('oyd', 23), ('diving', 23), ('omenihu', 23), ('veikune', 23), ('topps', 23), ('rosales', 23), ('renfroe', 23), ('500a', 23), ('rountree', 23), ('mezzanine', 23), ('2-out', 23), ('descalso', 23), ('diamondbacks', 23), ('wetnight', 23), ('n1274', 23), ('pasort', 23), ('n1217', 23), ('ss9175', 23), ('-2019', 23), ('reddish', 23), ('irving', 22), ('late', 22), ('jarrad', 22), ('reiff', 22), ('eyes', 22), ('381', 22), ('lavender', 22), ('gradkowski', 22), ('desir', 22), ('a1', 22), ('buffaloes', 22), ('neill', 22), ('mathis', 22), ('holland', 22), (\"damore'ea\", 22), ('stringfellow', 22), ('pointing', 22), ('35mm', 22), ('collie', 22), ('pa-sh1', 22), ('lesser', 22), ('3150', 22), ('smagala', 22), ('orbit', 22), ('yates', 22), ('puckett', 22), ('1894', 22), ('162', 22), ('vickers', 22), ('booth', 22), ('hooks', 22), ('broncos', 22), ('virtuoso', 22), ('sash', 22), ('english', 22), ('vic', 22), ('eloy', 22), ('jimenez', 22), ('iommi', 22), ('tank', 22), ('-22', 22), ('robbie', 22), ('idolized', 22), ('nr-', 22), ('certification', 22), ('eletric', 22), ('lendale', 22), ('/mt', 22), ('cotenders', 22), ('ners', 22), ('jabari', 22), ('lin', 22), ('swope', 22), ('holokote', 22), ('xxxvi', 22), ('frerotte', 22), ('wrapped', 22), ('fajardo', 22), ('romeo', 22), ('cavaliers', 22), ('labrandon', 22), ('toefield', 22), ('poillon', 22), ('punch', 22), ('dumpty', 22), ('fc4451', 22), ('four-midable', 22), ('ingle', 22), ('conway', 22), ('n3134', 22), ('evander', 22), ('gilburg', 22), ('kenechi', 22), ('udeze', 22), ('stu', 22), ('voigt', 22), ('ign', 22), ('rauhaus', 22), ('b8', 22), ('regular', 22), ('ss988', 22), (\"d'joun\", 22), ('dorsett', 22), ('bubba', 22), ('reece', 22), ('refractor/x-fractor', 22), ('enshrined', 22), ('hollas', 22), ('retrospective', 22), ('peoples', 22), ('sayles', 22), ('delvin', 22), ('ss8834', 22), ('blessuan', 22), ('tabletop', 22), ('paterra', 22), ('illusion', 22), ('s65a', 22), ('s76a', 22), ('soto', 22), ('yelich', 22), ('divisional', 22), ('volney', 22), ('quinlan', 22), ('dugans', 22), ('rattay', 22), ('n3024', 22), ('-71', 22), ('kennard', 22), ('mayden', 22), ('45301323', 22), ('igor', 22), ('juaquin', 22), ('b2', 22), ('-84', 22), (\"'07\", 22), ('dyke', 22), ('368', 22), ('-2006', 22), ('-dg', 22), ('otic', 22), ('stallings', 22), ('store', 22), ('mayfiled', 22), ('mailata', 22), ('311', 22), ('campaign', 22), ('fielder', 22), ('gemmint', 22), ('diskettes', 22), ('n2058', 22), ('drafted', 22), ('ss8689', 22), ('ss1142', 22), ('-sm', 22), ('moeaki', 21), ('mcmillian', 21), ('deommo', 21), ('lenoir', 21), ('greenred', 21), ('park', 21), ('janzen', 21), ('unleashed', 21), ('goeddeke', 21), ('ss1180', 21), ('426', 21), ('throttle', 21), ('samkon', 21), ('gado', 21), ('utes', 21), ('horned', 21), ('frogs', 21), ('express', 21), ('1964', 21), ('xviii', 21), ('dezmin', 21), ('heller', 21), ('jackon', 21), ('tm', 21), ('intimidators', 21), ('tagliabue', 21), ('norris', 21), ('vols', 21), ('mcmullen', 21), ('ottawa', 21), ('kittner', 21), ('quinten', 21), ('harvard', 21), ('n934', 21), ('zenner', 21), ('kanicki', 21), ('sliver', 21), ('nj46e', 21), ('jdn203e', 21), ('steele', 21), ('379', 21), ('decoy', 21), ('excellence', 21), ('farr', 21), ('275', 21), ('retroective', 21), ('ss1575', 21), ('martinez', 21), ('43x', 21), ('lehman', 21), ('kingdom', 21), ('bruiser', 21), ('382', 21), ('646', 21), ('288', 21), ('maury', 21), ('fornette', 21), ('335', 21), ('pulsating', 21), ('covington', 21), ('ss1576', 21), ('decorated', 21), ('delles', 21), ('12-card', 21), ('1412', 21), ('muhammad', 21), ('kish', 21), ('usb', 21), ('holders', 21), ('s-dw', 21), ('herzlich', 21), ('samie', 21), ('electrifying', 21), ('canty', 21), ('klingler', 21), ('miscut', 21), ('linchpins', 21), ('wenke', 21), ('brugman', 21), ('fa', 21), ('ss1567', 21), ('cee', 21), ('ss1578', 21), ('490', 21), ('witten', 21), ('inustry', 21), ('rasmussen', 21), ('morning', 21), ('razzle', 21), ('kortas', 21), ('n3291', 21), ('10k', 21), ('horst', 21), ('muhlmann', 21), ('deossie', 21), ('vactor', 21), ('ss1304', 21), ('errors', 21), ('asterisks', 21), ('chaz', 21), ('blood', 21), ('seasoned', 21), ('faded', 21), ('payton/o.j', 21), ('ss9508', 21), ('horsemen', 21), ('xxxvii', 21), ('s75a', 21), ('breech', 21), ('rothelisberger', 21), ('pocket', 21), ('bullion', 21), ('n1383', 21), ('n294', 21), ('1998-99', 21), ('n2890', 21), ('levy', 21), ('ary', 21), ('stoops', 21), ('proflick', 21), ('ss9642', 21), ('ss9709', 21), ('tackles', 21), ('518', 21), ('47412050', 21), ('47412060', 21), ('lenkaitis', 21), ('net-fusions', 21), ('pearlescent', 21), ('pectors', 21), ('robin', 21), ('barkey', 21), ('erateam', 21), ('cassius', 21), ('md', 21), ('66-135', 21), ('stefen', 21), ('academics', 21), ('ss1366', 21), ('sixth', 21), ('sense', 21), ('biography', 21), ('scholtz', 21), ('n2071', 21), ('encer', 21), ('pool', 21), ('brammer', 21), ('ss1408', 21), ('ss1339', 21), ('ss1409', 21), ('s-lj', 21), ('a-jly', 21), ('lustrous', 20), ('elt', 20), ('sketches', 20), ('reeves', 20), ('n3154', 20), ('rafael', 20), ('gophers', 20), ('gamecocks', 20), ('1933', 20), ('friedman', 20), ('dysert', 20), ('raw', 20), ('45301322', 20), ('ss8842', 20), ('through', 20), ('eilers', 20), ('resurgence', 20), ('flingers', 20), ('duarte', 20), ('xplosive', 20), ('ervins', 20), ('stoneburgh', 20), ('pey', 20), ('mcconkey', 20), ('wally', 20), ('herock', 20), ('obomanu', 20), ('chaoal', 20), ('del', 20), ('deuce', 20), ('2006', 20), ('vachon', 20), ('vontae', 20), ('charone', 20), ('peake', 20), ('12+', 20), ('m10', 20), ('fc821', 20), ('rolle', 20), ('eatman', 20), ('258', 20), ('fooall', 20), ('dutch', 20), ('mathison', 20), ('tuipuu', 20), ('gloss', 20), ('nemeses', 20), ('dareus', 20), ('meyer', 20), ('chez', 20), ('mellusi', 20), ('fc4399', 20), ('ss1246', 20), ('kamerion', 20), ('wimbley', 20), ('bests', 20), ('bills', 20), ('abiamiri', 20), ('each', 20), ('hewitt', 20), ('angle', 20), ('n3135', 20), ('si', 20), ('about', 20), ('kane', 20), ('n3158', 20), ('damiere', 20), ('24-7', 20), ('weeb', 20), ('ewbank', 20), ('ex2001', 20), ('walters', 20), ('locke', 20), ('grbac', 20), ('gillom', 20), ('holoplatinum', 20), ('blanton', 20), ('highs', 20), ('dynamics', 20), ('finshes', 20), ('shyheim', 20), ('agility', 20), ('-24', 20), ('lettering', 20), ('garbisch', 20), ('989', 20), ('napoleon', 20), ('honorary', 20), ('ricks', 20), ('lead', 20), ('saxton', 20), ('xix', 20), ('symons', 20), ('korey', 20), ('grigsby', 20), ('ss150', 20), ('701', 20), ('prized', 20), ('miner', 20), ('domin8ors', 20), ('9655', 20), ('ss1449', 20), ('bears', 20), ('lytle', 20), ('mr', 20), ('jed', 20), ('vonta', 20), ('cockrell', 20), ('alphonso', 20), ('ss1301', 20), ('ss1297', 20), ('buehler', 20), ('gunnels', 20), ('bru', 20), ('referee', 20), ('hass', 20), ('steals', 20), ('bases', 20), ('trea', 20), ('amp', 20), ('ostrowski', 20), ('waters', 20), ('46595663', 20), ('primetimers', 20), ('all-matrix', 20), ('shesterkin', 20), ('marketing', 20), ('england', 20), ('seymour', 20), ('burress', 20), ('superbowl', 20), ('garney', 20), ('captured', 20), ('jv', 20), ('blackwell', 20), ('30t', 20), ('-79', 20), ('u-40', 20), ('bubble', 20), ('47412058', 20), ('n2758', 20), ('platinunum', 20), ('-2004', 20), (\"'99\", 20), ('237', 20), ('husak', 20), ('trevathan', 20), ('professional', 20), ('minnis', 20), ('s33a', 20), ('c1', 20), ('n3034', 20), ('staubach/bob', 20), ('ss9604', 20), ('ss9594', 20), ('roquan', 20), ('ss9003', 20), ('ss9004', 20), ('stanar', 20), ('griiron', 20), ('khalan', 20), ('laborn', 20), ('matchbooks', 20), ('341', 20), ('n3091', 20), ('ss1365', 20), ('municipal', 20), ('johansen', 20), ('domann', 20), ('n1091', 20), ('boggs', 20), ('n2961', 20), ('tolver', 19), ('collegenfl', 19), ('ralf', 19), ('mojsiejenko', 19), ('current', 19), ('crazy', 19), ('all-america', 19), ('mao', 19), ('wilburn', 19), ('springs', 19), ('bramlett', 19), ('tombstone', 19), ('pa-1', 19), ('heck', 19), ('kong', 19), ('keeping', 19), ('colbert', 19), ('monroe', 19), ('wieners', 19), ('417', 19), ('arian', 19), ('doyle', 19), ('ba-jf1', 19), ('jud', 19), ('salutes', 19), ('all-upper', 19), ('dolphins', 19), ('rollins', 19), ('payton/earl', 19), ('shilique', 19), ('sabol', 19), (\"'re\", 19), ('jelani', 19), ('heuerman', 19), ('scantling', 19), ('derwin', 19), ('kn30e', 19), ('indianapolis', 19), ('johnie', 19), ('bourne', 19), ('get', 19), ('xiii', 19), ('lighting', 19), ('44882222', 19), ('portis', 19), ('spaniel', 19), ('esiason', 19), ('ponder', 19), ('aiken', 19), ('leads', 19), ('1201', 19), ('whalen', 19), ('forecast', 19), ('houston-carson', 19), ('manumaleuna', 19), ('ther', 19), ('sandcastle', 19), ('sweeney', 19), ('mekhi', 19), ('283', 19), ('rohn', 19), ('stark', 19), ('310', 19), ('models', 19), ('mewelde', 19), ('reidel', 19), ('popsicle', 19), ('kalmanir', 19), ('runnels', 19), ('curtain', 19), ('lanen', 19), ('keivarae', 19), ('nix', 19), ('31-42', 19), ('media', 19), ('moomaw', 19), ('colchico', 19), ('latourelle', 19), ('nesby', 19), ('buckley', 19), ('284', 19), ('irwin', 19), ('256', 19), ('punting', 19), ('cyril', 19), ('ss1574', 19), ('ss1584', 19), ('kerr', 19), ('ss1590', 19), ('ss1568', 19), ('sd', 19), ('miniatures', 19), ('kahns', 19), ('walmart', 19), ('jumping', 19), ('marsh', 19), ('perina', 19), ('n3259', 19), ('hugo', 19), ('pedro', 19), ('ereck', 19), ('2805', 19), ('fwd', 19), ('theatre', 19), ('tyrod', 19), ('332', 19), ('baxter', 19), ('sgc', 19), ('block', 19), ('coley', 19), ('hubbert', 19), ('ss1273', 19), ('e-xceptional', 19), ('tonyan', 19), ('horner', 19), ('woodard', 19), ('431', 19), ('prestel', 19), ('kentwan', 19), ('balmer', 19), ('levine', 19), ('toilolo', 19), ('42572986', 19), ('46595670', 19), ('46595660', 19), ('sc1750', 19), ('jonas', 19), ('thurmond', 19), ('1-10', 19), ('radical', 19), ('fc2205', 19), ('n1578', 19), ('n1582', 19), ('divide', 19), ('conquer', 19), ('thornton', 19), ('chukwuma', 19), ('many', 19), ('fc2028', 19), ('passes', 19), ('roookie', 19), ('478', 19), ('fusina', 19), ('nock', 19), ('giancanelli', 19), ('mirich', 19), ('tauren', 19), ('donn', 19), ('ulelei', 19), ('driver', 19), ('nicolo', 19), ('melli', 19), ('hawks', 19), ('yankee', 19), ('size', 19), ('patchwork', 19), ('mementos', 19), ('ss9021', 19), ('ms-jc', 19), ('headquarters', 19), ('rks', 19), ('nasdam', 19), ('jaguars', 19), ('sc924', 19), ('fc2084', 19), ('j1172499', 19), ('chapman', 19), ('brumm', 18), ('ta', 18), ('warlick', 18), ('connell', 18), ('xlvii', 18), ('1-528', 18), ('fc4234', 18), ('carsen', 18), ('reyes', 18), ('homecoming', 18), ('blanding', 18), ('septien', 18), ('vernand', 18), ('morency', 18), ('desean', 18), ('413', 18), ('materialistic', 18), ('xvi', 18), ('maddux', 18), ('rutgers', 18), ('tavian', 18), ('boyce', 18), ('jawan', 18), ('amobi', 18), ('zak', 18), ('wide-outs', 18), ('xi', 18), ('witherspoon', 18), ('ale', 18), ('-1994', 18), ('non-die', 18), ('lavon', 18), ('maher', 18), ('garnett', 18), ('kaleb', 18), ('jdn110e', 18), ('nj47e', 18), ('jdn84e', 18), ('rj', 18), ('gano', 18), ('toast', 18), ('incepetion', 18), ('ss1520', 18), ('scouts', 18), ('southern', 18), ('svihus', 18), ('ie', 18), ('riggs', 18), ('tb', 18), ('q11', 18), ('16x', 18), ('nickell', 18), ('robey', 18), ('opens', 18), ('jerrell', 18), ('mott', 18), ('kinard', 18), ('plugs', 18), ('n1579', 18), ('44890414', 18), ('coy', 18), ('06', 18), ('324', 18), ('route', 18), ('-rl', 18), (\"da'rel\", 18), ('mcpherson', 18), ('pk', 18), ('hazel', 18), ('linden', 18), ('fackrell', 18), ('matchup', 18), ('coe', 18), ('szulborski', 18), ('patera', 18), ('reproductions', 18), ('fc4407', 18), ('ss1268', 18), ('joeckel', 18), (\"de'veon\", 18), ('legedu', 18), ('naanee', 18), ('-sy', 18), ('onesti', 18), ('-78', 18), ('fd9820', 18), ('bleachers', 18), ('danieal', 18), ('1138', 18), ('hammond', 18), ('ajrr-dp', 18), ('lakes', 18), ('illuminate', 18), ('274', 18), ('mcleod', 18), ('deal', 18), ('begelton', 18), ('metalist', 18), ('2572', 18), ('fc1331', 18), ('wyche', 18), ('1028', 18), ('ronney', 18), ('derby', 18), ('bryon', 18), ('heap', 18), ('-bd', 18), ('bicycle', 18), ('desert', 18), ('266', 18), ('karsten', 18), ('388', 18), ('n3353', 18), ('ss1566', 18), ('ss1577', 18), ('ss1579', 18), ('ss1519', 18), ('angerer', 18), ('ss9823', 18), ('tristars', 18), ('s-', 18), ('ss1465', 18), ('pearson', 18), ('tannen', 18), ('willson', 18), ('guidry', 18), ('becomes', 18), ('rbi', 18), ('pujols', 18), ('buzz', 18), ('denver', 18), ('ambrose', 18), ('jesus', 18), ('say', 18), ('nwt', 18), ('emereld', 18), ('sandifer', 18), ('griffith', 18), ('slaby', 18), ('ss9480', 18), ('pa-dp', 18), ('avon', 18), ('cobourne', 18), ('jaden', 18), ('ss1281', 18), ('fd9146', 18), ('nj5b', 18), ('nj3b', 18), ('wylie', 18), ('bannon', 18), ('grace', 18), ('slaton', 18), ('seletctions', 18), ('israel', 18), ('quicksix', 18), ('montravius', 18), ('mulligan', 18), ('shirk', 18), ('manninng', 18), ('paris', 18), ('mathieu', 18), ('guards', 18), ('372', 18), ('2a', 18), ('soul', 18), ('startups', 18), ('crable', 18), ('rodrique', 18), ('uniformity', 18), ('harden', 18), ('anae', 18), ('caller', 18), ('mathew', 18), ('vinnie', 18), ('behrman', 18), ('rsa-dd', 18), ('hydrogen', 18), ('4-piece', 18), ('annual', 18), ('2011', 18), ('fisher', 18), ('kinney', 18), ('ss9157', 18), (\"o'brien\", 18), ('steamwheelers', 18), ('ss1385', 18), ('shayne', 18), ('underwood', 18), ('clintondix', 18), ('frad', 18), ('verron', 18), ('1-69', 18), ('pisa', 18), ('tinoisamoa', 18), ('fieldgate', 18), ('brodney', 18), ('ss1382', 18), ('0125', 18), ('ss1393', 18), ('elton', 18), ('tarell', 18), ('basham', 18), ('minkah', 17), ('fitzpatrick', 17), ('semester', 17), ('demps', 17), ('goodwin', 17), ('poirier', 17), ('comes', 17), ('domination', 17), ('j.w', 17), ('5x7', 17), ('wormley', 17), ('grill', 17), ('jerel', 17), (\"'ers\", 17), ('version', 17), ('fasani', 17), ('sc1883', 17), ('n1212', 17), ('mauti', 17), ('advanced', 17), ('10.0', 17), ('wane', 17), ('mcgarity', 17), (\"l'damian\", 17), ('magee', 17), ('lassman', 17), ('ss8841', 17), ('rutledge', 17), ('jarett', 17), ('247', 17), ('samanic', 17), ('jdn92e', 17), ('jdn76e', 17), ('jdn175e', 17), ('125b', 17), ('349', 17), ('crowell', 17), ('attitude', 17), ('hefney', 17), ('g-foe', 17), ('ss8736', 17), ('wingard', 17), ('soldiers', 17), ('trouble', 17), ('dunk', 17), ('titants', 17), ('fazande', 17), ('thiesmann', 17), ('44882229', 17), ('ulltra', 17), ('marked', 17), ('485', 17), ('gun', 17), ('25x', 17), ('wilbur', 17), (\"'48\", 17), ('julio', 17), ('rokie', 17), ('fc764', 17), ('garner', 17), ('sculpted', 17), ('dinson', 17), ('1365', 17), ('n101', 17), ('starks', 17), ('dominick', 17), ('woody', 17), ('fesler', 17), ('hackbart', 17), ('excelerators', 17), ('bp114', 17), ('lechler', 17), ('mccray', 17), ('torkelson', 17), ('retrospection', 17), ('thorn', 17), ('eras', 17), ('semi', 17), ('chik-fil-a', 17), ('bison', 17), ('ss1303', 17), ('program', 17), ('janerette', 17), ('postcard', 17), ('competitive', 17), ('stoney', 17), ('darragh', 17), ('gigantic', 17), ('saquoan', 17), ('b7', 17), ('closers', 17), ('burkholder', 17), ('gets', 17), ('trouvaille', 17), ('filler', 17), ('ss9237', 17), ('rb1', 17), ('angelo', 17), ('wolfley', 17), ('renata', 17), ('galasso', 17), ('toni', 17), ('martez', 17), ('gilt', 17), ('whitfield', 17), ('magna', 17), ('1978', 17), ('howfield', 17), ('ss1410', 17), ('ss1378', 17), ('molden', 17), ('jacksonville', 17), ('lefevour', 17), ('ss1518', 17), ('obert', 17), ('ss1555', 17), ('tedy', 17), ('bruschi', 17), ('00++', 17), ('w/coating', 17), ('duel', 17), ('lohmiller', 17), ('ss1442', 17), ('sick', 17), ('ruiz', 17), ('mychal', 17), ('warrick', 17), ('helton', 17), ('sekou', 17), ('doumbouya', 17), ('s41a', 17), ('spike', 17), ('101-150', 17), ('are', 17), ('bashaud', 17), ('pleasant', 17), ('tc12', 17), ('razzles', 17), ('crabb', 17), ('tigers', 17), ('geneo', 17), ('grissom', 17), ('esr20', 17), ('recovery', 17), ('fc2043', 17), ('434', 17), ('enshrinement', 17), ('ceremony', 17), ('peebles', 17), ('s48a', 17), ('flaky', 17), ('46595661', 17), ('green/black', 17), ('585', 17), ('fd9426', 17), ('gardener', 17), ('artists', 17), ('ss80', 17), ('pinegar', 17), ('w/o', 17), ('aikens', 17), ('bugel', 17), ('mostly', 17), ('47412061', 17), ('characteristics', 17), ('null', 17), ('ungy', 17), ('vending', 17), ('goich', 17), ('medalion', 17), ('thin', 17), ('++++', 17), ('carver', 17), ('whit', 17), ('xxii', 17), ('redwhiteblue', 17), ('son', 17), ('burke', 17), ('allie', 17), ('branded', 17), ('durant', 17), ('ss1367', 17), ('bureaux', 17), ('s56a', 17), ('scales', 17), ('sc1923', 17), ('ra-aa', 17), ('theismann', 17), ('zecher', 17), ('33810', 17), ('traderks', 17), ('baseabll', 17), ('brien', 17), ('ss1175', 17), ('kikaha', 17), ('ss1411', 17), ('atlantattitude', 17), ('47412059', 17), ('excitements', 17), ('ss1280', 17), ('uto', 17), ('dw', 17), ('0678', 17), ('retiring', 17), ('ss1120', 17), ('fc4870', 17), ('ss1105', 17), ('undergrads', 16), ('ausome', 16), ('bellamy', 16), ('starburst', 16), ('cyprien', 16), ('esch', 16), ('princeton', 16), ('gasser', 16), ('chro', 16), ('untouchables', 16), ('dominatros', 16), ('vern', 16), ('stoudt', 16), ('magnified', 16), ('scarlet', 16), ('roughriders', 16), ('torain', 16), ('intant', 16), ('jdn104e', 16), ('fd9549', 16), ('heldt', 16), ('prestridge', 16), ('deshawn', 16), ('colvin', 16), ('rr-', 16), ('nyg', 16), ('jdn25e', 16), ('jdn31e', 16), ('kahale', 16), ('blazers', 16), ('kittle', 16), ('-16', 16), ('sheets', 16), ('advertising', 16), ('drt-', 16), ('sovereign', 16), ('extended', 16), ('stretch', 16), ('perreault', 16), ('sp48', 16), ('revolutionaries', 16), ('sistrunk', 16), ('n3309', 16), ('jerick', 16), ('all-stars', 16), ('alridge', 16), ('tress', 16), ('backus', 16), ('horizons', 16), ('willhite', 16), ('siler', 16), ('re', 16), ('meachem', 16), ('sc1732', 16), ('stoerner', 16), ('jarret', 16), ('0118', 16), ('cowboy', 16), ('heights', 16), ('lion', 16), ('adolph', 16), ('1065', 16), ('jordon', 16), ('ss9682', 16), ('pnw', 16), ('foldberg', 16), ('n2558', 16), ('mallory', 16), ('modern-day', 16), ('demani', 16), ('towns', 16), ('kowalkowski', 16), ('urrier', 16), ('stay', 16), ('cool', 16), ('hawthorne', 16), ('cardianls', 16), ('yadier', 16), ('molina', 16), ('ozuna', 16), ('wacha', 16), ('611', 16), ('latourette', 16), ('1-561', 16), ('jules', 16), ('rykovich', 16), ('ss1248', 16), ('promotional', 16), ('loyd', 16), ('cond', 16), ('ss8887', 16), ('fd9555', 16), ('fd9778', 16), ('lowry', 16), ('alshon', 16), ('wages', 16), ('ochocino', 16), ('mauldin', 16), ('staremasters', 16), ('kuzma', 16), ('bullard', 16), ('facyson', 16), ('1369', 16), ('seferian', 16), ('fc1328', 16), ('doughty', 16), ('moran', 16), ('kaluka', 16), ('maiava', 16), ('orson', 16), ('ogbuehi', 16), ('stocker', 16), ('j-38', 16), ('franks', 16), ('zabransky', 16), ('wenning', 16), ('ss1383', 16), ('dahrran', 16), ('diedrick', 16), ('coca', 16), ('cola', 16), ('spokane', 16), ('ss1583', 16), ('jc', 16), ('corral', 16), ('drummond', 16), ('millen', 16), ('dushinski', 16), ('garry', 16), ('52416', 16), ('farasopoulos', 16), ('birmingham', 16), ('n3290', 16), ('wil', 16), ('lutz', 16), ('cesar', 16), ('roderick', 16), ('s35a', 16), ('farris', 16), ('1-24', 16), ('ss1253', 16), ('lux', 16), ('contendrs', 16), ('yotk', 16), ('panii', 16), ('1617', 16), ('seek', 16), ('pearman', 16), ('gill', 16), ('double-sided', 16), ('lomakoski', 16), ('radar', 16), ('furlong', 16), ('hurns', 16), ('gator', 16), ('carriker', 16), ('ss8838', 16), ('scotty', 16), ('bralon', 16), ('tobacco', 16), ('sap', 16), ('fc1613', 16), ('stribling', 16), ('1543', 16), ('sc1789', 16), ('jewel', 16), ('paterno', 16), ('confetti', 16), ('plaxico', 16), ('mycole', 16), ('xvii', 16), ('whitmire', 16), ('feller', 16), ('barty', 16), ('myers', 16), ('-2005', 16), ('mobil', 16), ('n1503', 16), ('47412069', 16), ('47412055', 16), ('47412072', 16), ('fc770', 16), ('9559', 16), ('378', 16), ('coffman', 16), ('328', 16), ('kempt', 16), ('anders', 16), ('revis', 16), ('f6', 16), ('dm2', 16), ('bs16', 16), ('cefalo', 16), ('rigney', 16), ('detroit', 16), ('exter', 16), ('serini', 16), ('neuheisel', 16), ('maquez', 16), ('insight', 16), ('3s3', 16), ('memorial', 16), ('lent', 16), ('oldest', 16), ('ichiro', 16), ('n1273', 16), ('filipski', 16), ('ronal', 16), ('finals', 16), ('t4c', 16), ('arias', 16), ('kimble', 16), ('kwiatkoski', 16), ('girls', 16), ('wash', 16), ('ss1428', 16), ('47412054', 16), ('fc163', 16), ('pennington', 16), ('ss1413', 16), ('artose', 16), ('pinner', 16), ('nr-mint', 16), ('-tb', 15), ('taylor-stuart', 15), ('poppinga', 15), ('trindon', 15), ('holliday', 15), ('removing', 15), ('az7652', 15), ('gugliemi', 15), ('otis', 15), ('bramlet', 15), ('barnhardt', 15), ('starkey', 15), ('rodriguez', 15), ('garoppollo', 15), ('hassan', 15), ('tile', 15), ('aldrick', 15), ('bonds', 15), ('game-dated', 15), ('budness', 15), ('watchmen', 15), ('darvin', 15), ('driving', 15), ('ricard', 15), ('mahibroda', 15), ('mcgary', 15), ('jdn79e', 15), ('kn31e', 15), ('jdn86e', 15), ('ss8734', 15), ('bacarri', 15), ('artavis', 15), ('beovici', 15), ('valdes', 15), ('carlson', 15), ('erxleben', 15), ('nance/dunaway/mix/csonka', 15), ('-kj', 15), ('hyde', 15), ('sun', 15), ('pal', 15), ('1oz', 15), ('merideth', 15), ('delhomme', 15), ('jayhawks', 15), ('greco', 15), ('hannon', 15), ('0755', 15), ('unifo', 15), ('1149', 15), ('cerified', 15), ('pannels', 15), ('taitusi', 15), ('lutui', 15), ('prolifics', 15), ('1464', 15), ('upside', 15), ('purvis', 15), ('rudock', 15), ('unitas/josephson/renfro/cox', 15), ('sugar', 15), ('-40', 15), ('894', 15), ('reeves-maybin', 15), ('vagas', 15), ('torgy', 15), ('youmans', 15), ('jw', 15), ('chcago', 15), ('says', 15), ('361', 15), ('smoker', 15), ('retrofractor', 15), ('starkel', 15), ('braxston', 15), ('roundtree', 15), ('45451404', 15), ('micheal', 15), ('dupe', 15), ('abner', 15), ('wimberly', 15), ('fc4400', 15), ('ss1259', 15), ('ss1309', 15), ('hadnot', 15), ('minute', 15), ('rutkowski', 15), ('academy', 15), ('fd9817', 15), ('tebucky', 15), ('sportsfest', 15), ('raynoch', 15), ('1152', 15), ('woodward', 15), ('nixon', 15), ('dom', 15), ('moselle', 15), ('dane', 15), ('ronnell', 15), ('ah7498', 15), ('landeta', 15), ('steffen', 15), ('17x', 15), ('reaves', 15), ('sykes', 15), ('dehsaun', 15), ('x2', 15), ('sparty', 15), ('cason', 15), ('spotwood', 15), ('unsigned', 15), ('jolley', 15), ('timewarp', 15), ('pagel', 15), ('prediction', 15), ('youngest', 15), ('pitcher', 15), ('12kbb', 15), ('severino', 15), ('kalimba', 15), ('visions', 15), ('imagery', 15), ('river', 15), ('cracraft', 15), ('pathces', 15), ('notorious', 15), ('horn', 15), ('-73', 15), ('reflextions', 15), ('northern', 15), ('ss1491', 15), ('bandits', 15), ('n3349', 15), ('n3299', 15), ('nova', 15), ('mys-', 15), ('1081', 15), ('majors', 15), ('sanders/troy', 15), ('n3240', 15), ('1817', 15), ('sneaker', 15), ('all-out', 15), ('draft/super', 15), ('ss1463', 15), ('delpin', 15), ('worldwide', 15), ('tex', 15), ('dungy', 15), ('45372294', 15), ('championships', 15), ('s63a', 15), ('pinnacle/sportflics', 15), ('talman', 15), ('h31', 15), ('ss1307', 15), ('muncy', 15), ('luzardo', 15), ('deshuan', 15), ('excell', 15), ('cofer', 15), ('sproles', 15), ('miche', 15), ('ss1135', 15), ('mcwilliams', 15), ('calvillo', 15), ('jdn115e', 15), ('s37a', 15), ('huber', 15), ('bc75', 15), ('loud', 15), ('styrotechs', 15), ('e-topps', 15), ('sc1768', 15), ('county', 15), ('gam', 15), ('hennessy', 15), ('ospects', 15), ('quotes', 15), ('1516', 15), ('1-40', 15), ('49e', 15), ('sy', 15), ('e-xplosive', 15), ('golston', 15), ('mcdougall', 15), ('koy', 15), ('n1103', 15), ('ksu', 15), ('n1412', 15), ('aspiations', 15), ('variant', 15), ('n1580', 15), ('te2', 15), ('canada', 15), ('mullaney', 15), ('disc', 15), ('khalid', 15), ('kasay', 15), ('rp-', 15), ('holored', 15), ('parks', 15), ('416', 15), ('750', 15), ('pharaoh', 15), ('ko', 15), ('plank', 15), ('roddy', 15), ('pop-cards', 15), ('sturgis', 15), ('kern', 15), ('ishmael', 15), ('ristian', 15), ('1738', 15), ('promise', 15), (\"da'ron\", 15), ('des', 15), ('js', 15), ('patente', 15), ('-04', 15), ('bieniemy', 15), ('khayat', 15), ('trevard', 15), ('hills', 15), ('u-17', 15), (\"ja'whaun\", 15), ('ss9306', 15), ('kaseem', 15), ('sinceno', 15), ('d-nh', 15), ('millenium', 15), ('41453472', 15), ('ss1414', 15), ('contra', 15), ('aaf', 15), ('ah4542', 15), ('ort', 15), ('16g', 15), ('introduces', 15), ('former', 15), ('teammate', 15), ('strnad', 14), ('fc829', 14), ('brendon', 14), ('osbsidian', 14), ('n3114', 14), ('immpecable', 14), ('jsersey', 14), ('najeh', 14), ('ruzek', 14), ('lefors', 14), ('n2305', 14), ('hubert', 14), ('marquess', 14), ('hardrick', 14), ('gladiators', 14), ('mellette', 14), ('chub', 14), ('peabody', 14), ('jdn109e', 14), ('varsity', 14), ('transparencies', 14), ('elmer', 14), ('ovations', 14), ('fazio', 14), ('jdn195e', 14), ('jdn99e', 14), ('jdn2e', 14), ('gotsis', 14), ('davin', 14), ('flyers', 14), ('ss8740', 14), ('nichols', 14), ('terence', 14), ('997', 14), ('haner', 14), ('fracas', 14), ('ss8555', 14), ('skillett', 14), ('painter', 14), ('supernovas', 14), ('462', 14), ('41453467', 14), ('langham', 14), ('1-50', 14), ('destroy', 14), ('highly', 14), ('christie', 14), ('peko', 14), ('n1585', 14), ('em', 14), ('jaeger', 14), ('woodley', 14), ('07', 14), ('housler', 14), ('1069', 14), ('n2535', 14), ('supials', 14), ('bunch', 14), ('closing', 14), ('seconds', 14), ('n933', 14), ('ratliff-williams', 14), ('brundige', 14), ('risers', 14), ('newman', 14), ('kerwynn', 14), ('151-300', 14), ('n165', 14), ('romanik', 14), ('clemente', 14), ('oil', 14), ('rebel', 14), ('storm', 14), ('bcs', 14), ('ss-', 14), ('tca-', 14), ('lt', 14), ('nk20a', 14), ('ss8884', 14), ('ebenezer', 14), ('ekuban', 14), ('paladium', 14), ('ragone', 14), ('win-a-card', 14), ('gram', 14), ('druxman', 14), ('cornel', 14), ('piper', 14), ('longest', 14), ('texaco', 14), ('wieneke', 14), ('expired', 14), ('milons', 14), ('scobey', 14), ('waist', 14), ('ss9235', 14), ('0991', 14), ('.3', 14), ('dyanmic', 14), ('alualu', 14), ('cafego', 14), ('633', 14), ('sno-globes', 14), ('sultan', 14), ('auckland', 14), ('marinovich', 14), ('gerod', 14), ('holliman', 14), ('clemmings', 14), ('a.d.', 14), ('x1029437', 14), ('ss8938', 14), ('stockton', 14), ('ra-jmc', 14), ('pinder', 14), ('yancey', 14), ('n3352', 14), ('ss1485', 14), ('ss1522', 14), ('moorehead', 14), ('/steve', 14), ('gilman', 14), ('pacth', 14), ('63t-82716-2', 14), ('slayton', 14), ('subs', 14), ('stroughter', 14), ('badges', 14), ('potato', 14), ('n3258', 14), ('pipes', 14), ('qtr', 14), ('dozier', 14), ('ss1481', 14), ('-ch', 14), ('emergence', 14), ('blaylock', 14), ('s77a', 14), ('tarik', 14), ('noelvi', 14), ('marte', 14), ('machado', 14), ('benford', 14), ('mccoll', 14), ('411', 14), ('heat', 14), ('hurt', 14), ('timothy', 14), ('teyo', 14), ('neighbors', 14), ('travin', 14), ('dural', 14), ('ss1141', 14), ('n1391', 14), ('-cn', 14), ('n966', 14), ('branden', 14), ('s31a', 14), ('godfrey', 14), ('betts', 14), ('na', 14), ('ss9362', 14), ('46595671', 14), ('cavil', 14), ('pre-season', 14), ('groulx', 14), ('sc1765', 14), ('41453471', 14), ('univ', 14), ('pirates', 14), ('n2761', 14), ('uchenna', 14), ('nwosu', 14), ('ratley', 14), ('stacey', 14), ('ss9518', 14), ('ml1', 14), ('profile', 14), ('n227', 14), ('tc43', 14), ('torrey', 14), ('patten', 14), ('expo', 14), ('forzani', 14), ('47412057', 14), ('bowmans', 14), ('cundiff', 14), ('qc', 14), ('2856', 14), ('cajuste', 14), ('pervis', 14), ('charger', 14), ('-2003', 14), ('44911204', 14), ('ss8992', 14), ('ss9072', 14), ('indefensible', 14), ('meriweather', 14), ('xliv', 14), ('4470', 14), ('prouction', 14), ('s59a', 14), ('nelms', 14), ('skov', 14), ('0410', 14), ('ballcap', 14), ('singleton', 14), ('hanging', 14), ('belt', 14), ('kubala', 14), ('cappalletti', 14), ('outlaw', 14), ('laws', 14), ('pl', 14), ('1266', 14), ('/bob', 14), ('delaware', 14), ('zettel', 14), ('ellipse', 14), ('jdn82e', 14), ('autgraph', 14), ('crossed', 14), ('holograms', 14), ('bengals', 14), (\"hau'oli\", 14), ('jadeveon', 14), ('bret', 14), ('g206', 14), ('30x', 14), ('makes', 14), ('donteea', 14), ('jdn123e', 14), ('n3035', 14), ('yamon', 14), ('figurs', 14), ('stubblefield', 14), ('ss9328', 14), ('ss9156', 14), ('ss8994', 14), ('rian', 14), ('damaris', 13), ('skelton', 13), ('premiers', 13), ('ennis', 13), ('khaseem', 13), ('magazine', 13), ('leighton', 13), ('tix', 13), ('newson', 13), ('545', 13), ('vines', 13), ('myhra', 13), ('n3151', 13), ('lonestar', 13), ('adkins', 13), ('14x', 13), ('28x', 13), ('keary', 13), ('craphonso', 13), ('ply', 13), ('cordy', 13), ('rosas', 13), ('chafie', 13), ('fulmer', 13), ('jdn148a', 13), ('stickle', 13), ('jamieson', 13), ('papit', 13), ('44197140', 13), ('44197137', 13), ('finest', 13), ('jdn22e', 13), ('jdn23e', 13), ('philips', 13), ('kn11e', 13), ('jdn194e', 13), ('jdn193e', 13), ('jdn146e', 13), ('nkeal', 13), ('hebert', 13), ('gutierrez', 13), ('nzalez', 13), ('ss8721', 13), ('jayon', 13), ('dimensions', 13), ('palaie', 13), ('gaoteote', 13), ('tody', 13), ('ragnow', 13), ('serigne', 13), ('hill/koy/mcrae/nobis', 13), ('mourning', 13), ('hyped', 13), ('vote', 13), ('445', 13), ('blidi', 13), ('wreh-wilson', 13), ('brodrick', 13), ('strap', 13), ('jdn111e', 13), ('141a', 13), ('1703', 13), ('julie', 13), ('willekes', 13), ('44882221', 13), ('davion', 13), ('zimmer', 13), ('charte', 13), ('rage', 13), ('harnish', 13), ('revered', 13), ('biasucci', 13), ('nocera', 13), ('dec', 13), ('manuwai', 13), ('montanan', 13), ('raequan', 13), ('splash', 13), ('gsa-dh', 13), ('mcever', 13), ('lava', 13), ('lapham', 13), ('lions', 13), ('flashing', 13), ('lillard', 13), ('jaelan', 13), ('hickey', 13), ('k-db', 13), ('unexpectated', 13), ('delight', 13), ('clements', 13), ('campos', 13), ('kelly/meador/ogden/starr', 13), ('lamonica', 13), ('newcomers', 13), ('minisi', 13), ('458', 13), ('k-cy2', 13), ('venton', 13), ('ss1308', 13), ('peerless', 13), ('emory', 13), ('myslinski', 13), ('jdn60b', 13), ('ss8876', 13), ('memorablia', 13), ('cierre', 13), ('potts', 13), ('lex', 13), ('wizards', 13), ('1137', 13), ('baccaglio', 13), ('hornsby', 13), ('hoppmann', 13), ('smu', 13), ('mustangs', 13), ('alie-cox', 13), ('tential', 13), ('britton', 13), ('gagliano', 13), ('alberts', 13), ('taquan', 13), ('mizzell', 13), ('bigelow', 13), ('auxiliary', 13), ('alvarez', 13), ('ss9255', 13), ('kamu', 13), ('grugier-hill', 13), ('dogs', 13), ('priestley', 13), ('kim', 13), ('perryman', 13), ('tb3', 13), ('b6', 13), ('litho-proof', 13), ('ras-i', 13), ('dowling', 13), ('hackney', 13), ('vetrans', 13), ('roth', 13), ('rb4', 13), ('edgequest', 13), ('mikhael', 13), ('jazz', 13), ('pile', 13), ('ss1486', 13), ('n3343', 13), ('n3301', 13), ('fraser', 13), ('peay', 13), ('dort/pearson/harris/martin', 13), ('513', 13), ('equanimeous', 13), ('v-team', 13), ('n2711', 13), ('louie', 13), ('preeminence', 13), ('kaw', 13), ('sb-je', 13), ('yarbrough', 13), ('jdn112e', 13), ('n3153', 13), ('558', 13), ('boyhood', 13), ('tis', 13), ('-90', 13), ('sauerbrun', 13), ('511', 13), ('golson', 13), ('horne', 13), ('schramm', 13), ('warburton', 13), ('486', 13), ('jacon', 13), ('ra-jb', 13), ('santonio', 13), ('bradovich', 13), ('benirschke', 13), ('arenagraphs', 13), ('stensrud', 13), ('drat', 13), ('/eric', 13), ('gross', 13), ('fenerty', 13), ('catapults', 13), ('41175', 13), ('evolve', 13), ('awe', 13), ('skins', 13), ('1-700', 13), ('jdn106e', 13), ('nicholson', 13), ('b.mayfield', 13), ('d.henry', 13), ('l.jackson', 13), ('m.mariota', 13), ('nauta', 13), ('abbate', 13), ('terrific', 13), ('46595667', 13), ('46595669', 13), ('proud', 13), ('mcdougle', 13), ('scrapbook', 13), ('41453469', 13), ('1086', 13), ('mrs', 13), ('rr03', 13), ('roaches', 13), ('lockers', 13), ('desperados', 13), ('n1390', 13), ('gazers', 13), ('n2768', 13), ('n2764', 13), ('haji-sheikh', 13), ('~', 13), ('go-to', 13), ('j.r.', 13), ('44890415', 13), ('election', 13), ('contact', 13), ('preformers', 13), ('tyrann', 13), ('tc62', 13), ('raul', 13), ('allegre', 13), ('ra-st', 13), ('ayanbadejo', 13), ('-95', 13), ('sc1848', 13), ('baltimre', 13), ('ss9643', 13), ('dobie', 13), ('n1385', 13), ('hasselbeck', 13), ('47412053', 13), ('demarre', 13), ('kitt', 13), ('burley', 13), ('damarious', 13), ('okorafor', 13), ('sideways', 13), ('gilmer', 13), ('superfactor', 13), ('ss1205', 13), ('fd8913', 13), ('calls', 13), ('rize', 13), ('rigner', 13), ('gr', 13), ('bs4', 13), ('fd9455', 13), ('folk', 13), ('swiacki', 13), ('galbreath', 13), ('turnovers', 13), ('spain', 13), ('superscribe', 13), ('mixed', 13), ('58x', 13), ('collinsworth', 13), ('407', 13), ('sin', 13), ('erdelatz', 13), ('670', 13), ('think', 13), ('jahwan', 13), ('607', 13), ('ss8759', 13), ('lesean', 13), ('shady', 13), ('badger', 13), ('47412049', 13), ('jdn108e', 13), ('lind', 13), ('nj31e', 13), ('baldacci', 13), ('purplegreen', 13), ('campbell/elvin', 13), ('lindell', 13), ('bunyan', 13), ('axe', 13), ('kimbrough', 13), ('ss9570', 13), ('goldmine', 13), ('piv-', 13), ('ss1323', 13), ('draw', 13), ('fc3698', 13), ('asher', 13), ('lindstrom', 13), ('ss9352', 13), ('pannel', 13), ('133-263', 13), ('johnnson', 13), ('n1675', 13), ('jdn96e', 13), ('k-13', 13), ('qadry', 13), ('1938', 12), ('newsreel', 12), ('kyzir', 12), ('wali', 12), ('-23', 12), ('900', 12), ('kaaihue', 12), ('60t-10916-1', 12), ('1309', 12), ('mustache', 12), ('facemasks', 12), ('reflect', 12), ('americana', 12), ('fman', 12), ('514', 12), ('kochman', 12), ('chronicle', 12), ('canady', 12), ('spell', 12), ('oz', 12), ('cleaner', 12), ('rix', 12), ('n1587', 12), ('countdown', 12), ('keyarris', 12), ('jadon', 12), ('haselwood', 12), ('derron', 12), ('mcdaniels', 12), ('shaquelle', 12), ('polley', 12), ('eternal', 12), ('fg', 12), ('elegae', 12), ('pi', 12), ('lukas', 12), ('denis', 12), ('jdn98e', 12), ('jdn91e', 12), ('belles', 12), ('mihalko', 12), ('flanigan', 12), ('crowley', 12), ('bilities', 12), ('bowens', 12), ('widell', 12), ('sportkings', 12), ('nucleus', 12), ('printed', 12), ('bullrushers', 12), ('n1053', 12), ('mariani', 12), ('scratched', 12), ('antone', 12), ('jdn191e', 12), ('summer', 12), ('jdn51e', 12), ('jdn199e', 12), ('jdn119e', 12), ('jdn94e', 12), ('koch', 12), ('pm-4', 12), ('pb', 12), ('symbolic', 12), ('hummer', 12), ('x-25', 12), ('ejiofor', 12), ('folorunso', 12), ('fatukasi', 12), ('nic', 12), ('rakoczy', 12), ('campanaro', 12), ('dressen', 12), ('bunkley', 12), ('louisiana', 12), ('torretta', 12), ('305', 12), ('welcome', 12), ('baab', 12), ('rub-off', 12), ('44882227', 12), ('centers', 12), ('1-340', 12), ('ss9879', 12), ('pair', 12), ('ra-rr', 12), ('nabisco', 12), ('daddy', 12), ('changers', 12), ('domata', 12), ('blocking', 12), ('dombrowski', 12), ('groves', 12), ('998', 12), ('57t-120615-3', 12), ('hollenback', 12), ('rahim', 12), ('flow', 12), ('steerlers', 12), ('rafferty', 12), ('nigel', 12), ('stripes/grid', 12), ('erick', 12), ('strzelczyk', 12), ('photoengravings', 12), ('xfractors', 12), ('chansi', 12), ('bettes', 12), ('green/yellow', 12), ('8.gpa', 12), ('ss1247', 12), ('kapri', 12), ('nicholas', 12), ('bang', 12), ('wilson/penny', 12), ('shutdown', 12), ('lyman', 12), ('shepherd', 12), ('n3155', 12), ('mur', 12), ('ark', 12), ('ra-lt', 12), ('swoopes', 12), ('ss9234', 12), ('fd9612', 12), ('mckee', 12), ('dio', 12), ('edawrds-helair', 12), ('christion', 12), ('back/ball', 12), ('linhart', 12), ('chiaverini', 12), ('romes', 12), ('doman', 12), ('x1029493', 12), ('x1017230', 12), ('inic', 12), ('tatum', 12), ('soccer', 12), ('err', 12), ('padgett', 12), ('571', 12), ('montae', 12), ('beeson', 12), ('n3295', 12), ('patulski', 12), ('ss1487', 12), ('ss1527', 12), ('stynchula', 12), ('crabtree', 12), ('santos', 12), ('lamont', 12), ('1-30', 12), ('c112', 12), ('breaux', 12), ('pom', 12), ('pons', 12), ('58t-121015-1', 12), ('479', 12), ('n2496', 12), ('kahlil', 12), ('penamnship', 12), ('pillers', 12), ('tds', 12), ('1234', 12), ('mid-grade', 12), ('thunderbolts', 12), ('ss1437', 12), (\"d'haquille\", 12), ('n2073', 12), ('mull', 12), ('hole', 12), ('tait', 12), ('ah4257', 12), ('corp', 12), ('huckleby', 12), ('niners', 12), ('tshimanga', 12), ('formations', 12), ('harlow', 12), ('clan', 12), ('milesstones', 12), ('jachai', 12), ('polite', 12), ('268', 12), ('davantae', 12), ('okes', 12), ('562', 12), ('snider', 12), ('dykes', 12), ('hollings', 12), ('greasy', 12), ('neale', 12), ('arnaz', 12), ('ss1136', 12), ('ss1178', 12), ('hoomanawanui', 12), ('gunnell', 12), ('jaron', 12), ('e-card', 12), ('2092', 12), ('striped', 12), ('428', 12), ('mid/hi', 12), ('548', 12), ('rasul', 12), ('jdn107e', 12), ('jdn147a', 12), ('jdn154a', 12), ('kanell', 12), ('draper', 12), ('sc1712', 12), ('sc1696', 12), ('ss9267', 12), ('contendes', 12), ('rashaun', 12), ('hartlieb', 12), ('mouton', 12), ('f.', 12), ('fd9751', 12), ('birdsong', 12), ('n298', 12), ('bernie', 12), ('freschman', 12), ('pzm', 12), ('tupa', 12), ('da-ma', 12), ('glimmer', 12), ('clemons', 12), ('525', 12), ('rms-', 12), ('projection', 12), ('footsteps', 12), ('wake', 12), ('lowell', 12), ('inches', 12), ('kinchen', 12), ('10s', 12), ('327-396', 12), ('successors', 12), ('-1997', 12), ('-serial', 12), ('2d1', 12), ('gag-', 12), ('-gs1', 12), ('47412064', 12), ('singles', 12), ('franz', 12), ('entry', 12), ('n2763', 12), ('leesley', 12), ('set/topps', 12), ('9560', 12), ('dohoney', 12), ('2860', 12), ('maehl', 12), ('w/vick', 12), ('szczur', 12), ('oidian', 12), ('bishop/banaszak/day/guidry', 12), ('memory', 12), ('erron', 12), ('leg', 12), ('knee', 12), ('anst', 12), ('durkee', 12), ('artwork', 12), ('ccg', 12), ('football/baseball', 12), ('staubach/kenny', 12), ('davaris', 12), ('laan', 12), ('n2520', 12), ('hagans', 12), ('heard', 12), ('s34a', 12), ('s38a', 12), ('vanderkelen', 12), ('po', 12), ('tri-stars', 12), ('31x', 12), ('ra-mbr', 12), ('ss1078', 12), ('apogee', 12), ('midshipmen', 12), ('frostee', 12), ('diary', 12), ('l.j', 12), ('cavanaugh', 12), ('5050', 12), ('064100', 12), ('n240', 12), ('n017', 12), ('madre', 12), ('officers', 12), ('481', 12), ('lomas', 12), ('novacek', 12), ('ac1a', 12), ('finke', 12), ('cavazos', 12), ('british', 12), ('columbia', 12), ('kd', 12), ('shows', 12), ('36196', 12), ('36194', 12), ('secure', 12), ('slide', 12), ('incredibly', 12), ('n3026', 12), ('fd8192', 12), ('ax8229', 12), ('fd8516', 12), ('icollectcom', 12), ('prem', 12), ('stuhldreher', 12), ('nicks', 12), ('0042', 12), ('ss1341', 12), ('purify', 12), ('coats', 12), ('waddy', 12), ('ra-dp', 12), ('peters', 12), ('ikes', 12), ('cleo', 12), ('paper', 12), ('x1029262', 12), ('myrick', 12), ('castillo', 12), ('takes', 12), ('gresham', 12), ('worden', 12), ('esr-jb', 12), ('fd8298', 12), ('ussell', 12), ('ss9134', 12), ('544', 12), ('stidman', 12), ('payers', 12), ('egerrin', 12), ('ra-p', 12), ('hodson', 12), ('weapons', 12), ('ra-sd', 12), ('lisa', 11), ('driven', 11), ('jeremaine', 11), ('easlick', 11), ('xlii', 11), ('rochell', 11), ('goat', 11), ('1387', 11), ('cordrea', 11), ('tankersley', 11), ('ak1287', 11), ('n2592', 11), ('campell', 11), ('erasmus', 11), ('hein', 11), ('hohensee', 11), ('kroger', 11), ('townsend', 11), ('950', 11), ('bourque', 11), ('roh', 11), ('jermaus', 11), ('chavis', 11), ('r-jg', 11), ('ss8836', 11), ('highway', 11), ('patrol', 11), ('jodat', 11), ('mouth', 11), ('hull', 11), ('marker', 11), ('510', 11), ('reichardt', 11), ('433', 11), ('truisky', 11), ('fee', 11), ('gault', 11), ('290', 11), ('advance', 11), ('ballast', 11), ('jo1e', 11), ('jdn38e', 11), ('annette', 11), ('heiden', 11), ('meredith', 11), ('finch', 11), ('gott', 11), ('kosar', 11), ('lemm', 11), ('quarterman', 11), ('dedric', 11), ('rip', 11), ('ah4543', 11), ('armsted', 11), ('chin', 11), ('jdn66e', 11), ('ss8735', 11), ('paea', 11), ('influential', 11), ('rubley', 11), ('jaire', 11), ('mosaice', 11), ('cam+', 11), ('leshoure', 11), ('306', 11), ('820', 11), ('walston', 11), ('424', 11), ('wood-anderson', 11), ('biggie', 11), ('munn', 11), ('pudge', 11), ('heffelfinger', 11), ('oosterbaan', 11), ('-es', 11), ('-86', 11), ('tucson', 11), ('folsom', 11), ('damione', 11), ('lyons', 11), ('1588', 11), ('ser', 11), ('387', 11), ('409', 11), ('sydney', 11), ('bradham', 11), ('ss1525', 11), ('stecker', 11), ('germain', 11), ('ifedi', 11), ('vigil', 11), ('meredith/collins/woodson/jones', 11), ('vinatieri', 11), (\"de'andre\", 11), ('less', 11), ('commons', 11), ('signers', 11), ('grid', 11), ('etc', 11), ('strzykalski', 11), ('best', 11), ('mags', 11), ('casimir', 11), ('45372302', 11), ('ss8875', 11), ('ah4282', 11), ('schwantz', 11), ('expressionists', 11), ('grice-mullins', 11), ('tynes', 11), ('121-150', 11), ('rucka', 11), ('n2886', 11), ('n3157', 11), ('delmas', 11), ('dizon', 11), ('ladarius', 11), ('sheffield', 11), ('griese/len', 11), ('dawson/', 11), ('hopefuls', 11), ('f-', 11), ('sinkwich', 11), ('gehrig', 11), ('dieter', 11), ('mcgaha', 11), ('jayson', 11), ('baskett', 11), ('woodrow', 11), ('rp-3', 11), ('032', 11), ('shut', 11), ('ss9877', 11), ('fiedler', 11), ('u-pick', 11), ('pick-em', 11), ('fill', 11), ('bx', 11), ('205f', 11), ('1010', 11), ('/lee', 11), ('haffner', 11), ('skladany/pat', 11), ('507', 11), ('gilmore', 11), ('n2525', 11), ('zenon', 11), ('ss1570', 11), ('ss1581', 11), ('singltary', 11), ('hoernschemeyer', 11), ('simpson/', 11), ('803', 11), ('pelluer', 11), ('inked', 11), ('stargazing', 11), ('deschaine', 11), ('1873', 11), ('ss8840', 11), ('rb/first', 11), ('ss1467', 11), ('ss1439', 11), ('palko', 11), ('galen', 11), ('1106', 11), ('cutcheon', 11), ('491', 11), ('21x', 11), ('pinting', 11), ('tyre', 11), ('wilkinson', 11), ('holub', 11), ('s18a', 11), ('1-80', 11), ('elrod', 11), ('schobel', 11), ('philladelphia', 11), ('hearst', 11), ('n1583', 11), ('-08', 11), ('kelm', 11), ('tempo', 11), ('517', 11), ('c.r', 11), ('834', 11), ('iajp-jl', 11), ('rulon', 11), ('duper', 11), ('crucial', 11), ('351', 11), ('lambeau', 11), ('aa', 11), ('248', 11), ('fabrice', 11), ('voyne', 11), ('dottin', 11), ('mccord', 11), ('1180', 11), ('work', 11), ('diecut', 11), ('ratliff', 11), ('stain', 11), (\"ha'sean\", 11), ('x18154', 11), (\"o'donoghue\", 11), ('xr13', 11), ('journey', 11), ('ss9292', 11), ('n1384', 11), ('n1392', 11), ('lehmann', 11), ('milwaukee', 11), ('skladany', 11), ('juston', 11), ('141b', 11), ('cinderella', 11), ('december', 11), ('/kevin', 11), ('1488', 11), ('1487', 11), ('u163', 11), ('pp', 11), ('nb', 11), ('7492', 11), ('gaylor', 11), ('aspirtations', 11), ('0815', 11), ('liam', 11), ('rgraph', 11), ('lirim', 11), ('hajrullahu', 11), ('mirich/graham/stofa/turner', 11), ('ends', 11), ('atkinson', 11), ('munnerlyn', 11), ('ax8734', 11), ('631', 11), ('hanspard', 11), ('jerris', 11), ('mcphail', 11), ('detmer', 11), ('kidd', 11), ('2137', 11), ('cline', 11), ('mccafrey', 11), ('-82', 11), ('1-90', 11), ('552', 11), ('716', 11), ('gb', 11), ('spinney', 11), ('gastineau', 11), ('sc1811', 11), ('brockermeyer', 11), ('backround', 11), ('mahall', 11), ('harvin', 11), ('ss1299', 11), ('jerey', 11), ('caster', 11), ('47412056', 11), ('scooby', 11), ('smart', 11), ('inductees', 11), ('325', 11), ('hultz', 11), ('ss1266', 11), ('ss1296', 11), ('eyeblack', 11), ('1979', 11), ('45451369', 11), ('45451405', 11), ('goldy', 11), ('laser-cuts', 11), ('prizmd', 11), ('hi', 11), ('julien', 11), ('gauthier', 11), ('reasons', 11), ('dereck', 11), ('holden', 11), ('44890412', 11), ('morelli', 11), ('2028', 11), ('ss1134', 11), ('where', 11), ('kony', 11), ('ealy', 11), ('vancouver', 11), ('collecion', 11), ('myster', 11), ('refrator', 11), ('ventan', 11), ('remarkable', 11), ('ciulator', 11), ('volek', 11), ('gerrius', 11), ('jdn170e', 11), ('jdn169e', 11), ('shante', 11), ('ss8993', 11), ('blazer', 11), ('wheatley', 11), ('bershak', 11), ('475', 11), ('mosca', 11), ('504', 11), ('completes', 11), ('hollister', 11), ('ridgeway', 11), ('xo', 11), ('pet', 11), ('bandanna', 11), ('clubs', 11), ('-xh', 11), ('farms', 11), ('kicker', 11), ('af', 11), ('n2964', 11), ('explosion', 11), ('rhythm', 11), ('40952614', 11), ('x18325', 11), ('weinmester', 11), ('luzzi', 11), ('359', 11), ('holds', 11), ('tv-cels', 11), ('ss9774', 11), ('ter', 11), ('change', 11), ('massie', 11), ('tc39', 11), ('ss1118', 11), ('cards~full', 11), ('-89', 11), ('dfs', 11), ('skytech', 11), ('dellenbach', 11), ('ss1375', 11), ('x1028859', 11), ('lemon', 11), ('x1029354', 11), ('hagberg', 11), ('n2968', 11), ('beckwith', 11), ('celtics', 11), ('j1172546', 11), ('chart', 11), ('toppers', 11), ('grd', 11), ('n2076', 11), ('nd', 11), ('omon', 11), ('1466', 11), ('423', 11), ('connects', 11), ('hield', 11), ('418', 11), ('bress', 11), ('getty', 11), ('fd9556', 11), ('wonnum', 11), ('-77', 11), ('reagan', 10), ('tiawan', 10), ('tr-', 10), ('homan', 10), ('hardin', 10), ('goal-line', 10), ('ss9384', 10), ('karim', 10), ('852', 10), ('drzewiecki', 10), ('452', 10), ('447', 10), ('970', 10), ('body', 10), ('c4', 10), ('1160', 10), ('asack', 10), ('ramsey', 10), ('clifton', 10), ('postition', 10), ('begins', 10), ('derland', 10), ('hitmen', 10), ('koyack', 10), ('kustok', 10), ('sundays', 10), ('yesteryear', 10), ('538', 10), ('angsman', 10), ('668', 10), ('connecticut', 10), ('granderson', 10), ('jdn5e', 10), ('jdn16e', 10), ('jdn24e', 10), ('nj30e', 10), ('kn27e', 10), ('jdn61e', 10), ('jdn58e', 10), ('jdn103e', 10), ('nj42e', 10), ('jdn18e', 10), ('fd8509', 10), ('kyries', 10), ('brice', 10), ('leetzow', 10), ('lam', 10), ('ah4548', 10), ('horning', 10), ('nj27e', 10), ('nj28e', 10), ('fd8333', 10), ('travon', 10), ('emperors', 10), ('ruettgers', 10), ('grosscup', 10), ('supertix', 10), ('8539', 10), ('582', 10), ('haan', 10), ('dominic', 10), ('raiola', 10), ('jdn89e', 10), ('jdn75e', 10), ('x13527', 10), ('1213', 10), ('65+', 10), ('tin', 10), ('nyc', 10), ('xliii', 10), ('lindy', 10), ('hor', 10), ('teo', 10), ('5075', 10), ('jarron', 10), ('walik', 10), ('wootton', 10), ('association', 10), ('praise', 10), ('448', 10), ('569', 10), ('rocker', 10), ('984', 10), ('heston', 10), ('rennie', 10), ('curran', 10), ('rival', 10), ('tagge', 10), ('1526', 10), ('durkee/mcneil/tarkenton/baughan', 10), ('dubut', 10), ('shurmur', 10), ('battles', 10), ('daryll', 10), ('kimo', 10), ('oelfen', 10), ('naeole', 10), ('headline', 10), ('ah6621', 10), ('n1018', 10), ('ganaway', 10), ('stephone', 10), ('artisit', 10), ('lew', 10), ('be', 10), ('alm', 10), ('brendan', 10), ('sandy', 10), ('petitbon', 10), ('ss1265', 10), ('schumm', 10), ('jevan', 10), ('magnificent', 10), ('andreotti', 10), ('sigantures', 10), (\"'58\", 10), ('ss8886', 10), ('fd9588', 10), ('ah7458', 10), (\"de'gabriel\", 10), ('tsr-dc', 10), ('slabbed', 10), ('copyright', 10), ('90171', 10), ('radiers', 10), ('calmus', 10), ('5-star', 10), ('crompton', 10), ('quickstrike', 10), ('unanswered', 10), ('claim', 10), ('stunning', 10), ('kirsch', 10), ('schlesinger', 10), ('senorise', 10), ('fd8878', 10), ('22591', 10), ('11-k', 10), ('kluber', 10), ('revision', 10), ('2098', 10), ('brickley', 10), ('935', 10), ('aubrey', 10), ('ea', 10), ('-gm1', 10), ('frequent', 10), ('scorers', 10), ('wills', 10), ('1280', 10), ('gustin', 10), ('x1028722', 10), ('0994', 10), ('x1017258', 10), ('x1029231', 10), ('x1017237', 10), ('meein', 10), ('ccar-bc', 10), ('jarryd', 10), ('hayne', 10), ('brescacin', 10), ('dusty', 10), ('evolution', 10), ('racine', 10), ('1118', 10), ('n3296', 10), ('ss1529', 10), ('601', 10), ('1170', 10), ('n3345', 10), ('n3292', 10), ('ss1572', 10), ('lori', 10), ('angela', 10), ('1191', 10), ('bussell', 10), ('alohi', 10), ('gridirong', 10), ('kimber', 10), ('santana', 10), ('rozelle', 10), ('payton/alan', 10), ('2002', 10), ('houser', 10), ('n3241', 10), ('lyle', 10), ('laputka', 10), ('n3264', 10), ('855', 10), ('herber', 10), ('donta', 10), ('plastics', 10), ('410', 10), ('senquez', 10), ('doran', 10), ('basil', 10), ('bech', 10), ('ramik', 10), ('bannister', 10), ('myriad', 10), ('mcdougald', 10), ('1495', 10), ('stolte', 10), ('sewell', 10), ('pro-material', 10), ('wyman', 10), ('kenbrell', 10), ('thompkins', 10), ('n2879', 10), ('delivery', 10), ('chykie', 10), ('n2967', 10), ('godchaux', 10), ('smiley', 10), ('starview', 10), ('606', 10), ('996', 10), ('hilgenberg', 10), ('ojemudia', 10), ('brodeur', 10), ('nmm', 10), ('dortch', 10), ('molson', 10), ('kneeling', 10), ('linderbaum', 10), ('capacity', 10), ('eo', 10), ('rhema', 10), ('aska', 10), ('n1351', 10), ('crayton', 10), ('przims', 10), ('movie', 10), ('errict', 10), ('wolff', 10), ('faloney', 10), ('2clr', 10), ('higgin', 10), ('widby', 10), ('larpenter', 10), ('cushenberry', 10), ('leslie', 10), ('lesnar', 10), ('maol/roy', 10), ('provisions', 10), ('sanford', 10), ('calloway', 10), ('multiad', 10), ('987', 10), ('rac', 10), ('shattering', 10), ('b10', 10), ('manoa', 10), ('triplets', 10), ('-dm', 10), ('dimitro', 10), ('obafemi', 10), ('crawley', 10), ('ss9624', 10), ('1486', 10), ('-80', 10), ('1580', 10), ('ss9684', 10), ('canfield', 10), ('ah7167', 10), ('n1350', 10), ('finds', 10), ('kamar', 10), ('n2708', 10), ('orantes', 10), ('gen', 10), ('392', 10), ('quadry', 10), ('ss1207', 10), ('stengel', 10), ('prowlers', 10), ('baker/duncan/bell/crabtree', 10), ('hridge/adderley/mackey/g', 10), ('964', 10), ('paralell', 10), ('nelshon', 10), ('commemoratives', 10), ('kublanow', 10), ('silks', 10), ('puple', 10), ('grank', 10), ('-mr', 10), ('m.', 10), ('insterstate', 10), ('cofield', 10), ('495', 10), ('dupuis', 10), ('chomyszak', 10), ('cassel', 10), ('ss1267', 10), ('fitzsimmons', 10), ('schlichter', 10), ('/john', 10), ('0542', 10), ('serafino', 10), ('announcer', 10), ('700', 10), ('stills', 10), ('jerrod', 10), ('s32a', 10), ('swistowicz', 10), ('brngals', 10), ('int', 10), ('scohing', 10), ('tinker', 10), ('detriot', 10), ('tilley', 10), ('bing', 10), ('nielsen', 10), ('15-card', 10), ('ferry', 10), ('inspirations', 10), ('mid/high', 10), ('347', 10), ('1540', 10), ('fd8768', 10), ('witman', 10), ('illinini', 10), ('1.5', 10), ('realignment', 10), ('n1271', 10), ('ka', 10), ('lugg', 10), ('bowlers', 10), ('quilter', 10), ('poelain', 10), ('fd9572', 10), ('weaponry', 10), ('ptacek', 10), ('s6', 10), ('middlebrooks', 10), ('catanzaro', 10), ('mclauren', 10), ('nnacle', 10), ('ah4264', 10), ('lifestyle', 10), ('smuel', 10), ('arenas', 10), ('808', 10), ('aveion', 10), ('chi', 10), ('ss1182', 10), ('wrigley', 10), ('708', 10), ('speedy', 10), ('schwedes', 10), ('kampen', 10), ('investments', 10), ('buh', 10), ('eqii', 10), ('bluesilver', 10), ('ss1404', 10), ('echols', 10), ('ziggy', 10), ('1884', 10), ('autp', 10), ('becht', 10), ('edfred', 10), ('scent', 10), ('basin', 10), ('tub', 10), ('liquid', 10), ('ss1368', 10), ('adibi', 10), ('ss9199', 10), ('-1987', 10), ('mcgriff', 10), ('911', 10), ('x1029308', 10), ('fd9514', 10), ('proview', 10), ('onwenu', 10), ('indiana', 10), ('x1029538', 10), ('x1029189', 10), ('x1029020', 10), ('x1029152', 10), ('x1028847', 10), ('x1029063', 10), ('freitas', 10), ('strategies', 10), ('britt', 10), ('tegray', 10), ('kicks', 10), ('wire', 10), ('-vm1', 10), ('cashman', 10), ('n2599', 10), ('0273', 10), ('200k', 10), ('strikeout', 10), ('fc822', 10), ('ss9141', 10), ('intro', 10), ('ductions', 10), ('suns', 10), ('tdk-mg1', 10), ('sa1445', 10), ('puts', 10), ('acquired', 10), (\"'83\", 10), ('fd8765', 10), ('n2185', 10), ('n2215', 10), ('k9951', 10), ('boldi', 10), ('0711', 10), ('orage', 10), ('ss1132', 10), ('m.j.', 10), ('fraley', 9), ('lg', 9), ('gelbaugh', 9), ('drayton', 9), ('njoku', 9), ('cosey', 9), ('lundy', 9), ('shockmain', 9), ('cry', 9), ('ungraphed', 9), (\"d'juan\", 9), ('4013', 9), ('trumaine', 9), ('connection', 9), ('wrighster', 9), ('sopoaga', 9), ('wing', 9), ('billie', 9), ('regner', 9), ('curator', 9), ('hey', 9), ('dils', 9), ('44882226', 9), ('414', 9), ('ta-jh1', 9), ('buckmans', 9), ('jeffcoat', 9), ('stature', 9), ('gr8ts', 9), ('haggans', 9), ('kasa', 9), ('cm-', 9), ('corny', 9), ('southall', 9), ('spiral', 9), ('eleven', 9), ('akbar', 9), ('stabs', 9), ('boise', 9), ('collated', 9), ('richter/whitsell/glass/kapp', 9), ('vella', 9), ('news', 9), ('toledo', 9), ('jdn41e', 9), ('jdn177e', 9), ('jdn71e', 9), ('jdn181e', 9), ('marroquin', 9), ('revolutions', 9), ('stover', 9), ('texas-el', 9), ('paso', 9), ('miners', 9), ('jdn43e', 9), ('ss8699', 9), (\"k'von\", 9), ('carleton', 9), ('oats', 9), ('tarts', 9), ('gerell', 9), ('swider', 9), ('/new', 9), ('1367', 9), ('mccollum', 9), ('burstprizms', 9), ('valentine', 9), ('skylar', 9), ('astin', 9), ('uhlenhake', 9), ('orr', 9), ('/pittsburgh', 9), ('jdn90e', 9), ('headlines', 9), ('filani', 9), ('4000-yard', 9), ('angles', 9), ('561', 9), ('amstutz', 9), ('fd8335', 9), ('pistol', 9), ('winborn', 9), ('tight', 9), ('705', 9), ('992', 9), ('1178', 9), ('1321', 9), ('551', 9), ('630', 9), ('3x5', 9), ('schulz', 9), ('grogan', 9), ('hickerson/anderson/lucci/butkus', 9), ('mullady', 9), ('1752', 9), ('auttograph', 9), (\"'90s\", 9), ('vontaze', 9), ('burfict', 9), ('dameyune', 9), ('paint', 9), ('trailblazers', 9), ('fc1737', 9), ('n1022', 9), ('thurston', 9), ('matakevich', 9), ('poel', 9), ('demetrious', 9), ('origin', 9), ('sandeman', 9), ('unpalleled', 9), ('jabbar', 9), ('alcindor', 9), ('keeton', 9), ('cornellius', 9), ('carradine', 9), ('return', 9), ('7-', 9), ('kai', 9), ('forbath', 9), ('playpool', 9), ('.50gpa', 9), ('jadveon', 9), ('tulane', 9), ('bonner', 9), (\"'18\", 9), ('looks', 9), ('nj45b', 9), ('fd8264', 9), ('airlines', 9), ('sacramento', 9), ('offs', 9), ('va-jgr', 9), ('jammal', 9), ('lord', 9), ('forte', 9), ('globe', 9), ('bb-dc', 9), ('extraordinary', 9), ('0210', 9), ('oveome', 9), ('tails', 9), ('perrish', 9), ('sanzenbacher', 9), ('kroll', 9), ('shon', 9), ('feasel', 9), ('robbins', 9), ('statline', 9), ('passer', 9), ('kary', 9), ('eisen', 9), ('-ma', 9), ('trademark', 9), ('abram/clelin', 9), ('n209', 9), ('ss9236', 9), ('a23', 9), ('3596', 9), ('2573', 9), ('gaskins', 9), ('demski', 9), ('2415', 9), ('693', 9), ('donurss', 9), ('danmeier', 9), ('fritz', 9), ('cletidus', 9), ('vital', 9), ('baretta', 9), ('baxley', 9), ('x1028549', 9), ('x1028808', 9), ('x1028641', 9), ('x1028573', 9), ('x1017242', 9), ('x1017170', 9), ('x1028948', 9), ('x1029282', 9), ('ss8936', 9), ('rembrandt', 9), ('864', 9), ('halliday', 9), ('cie', 9), ('jock', 9), ('bgc', 9), ('1218', 9), ('718', 9), ('n3354', 9), ('542', 9), ('1511', 9), ('croston', 9), ('ss1587', 9), ('gant', 9), ('cairo', 9), ('waylon', 9), ('364', 9), ('towle', 9), ('1101', 9), ('pah', 9), ('yankey', 9), ('hardware', 9), ('spartan', 9), ('584', 9), ('apparent', 9), ('hendricks/', 9), ('decarlo', 9), (\"n'ke\", 9), ('-jr', 9), ('wellesley', 9), ('steinkuhler', 9), ('putman', 9), ('n3219', 9), ('712', 9), ('1025', 9), ('390', 9), ('762', 9), ('gipson', 9), ('z-foe', 9), ('ethan', 9), ('thelwell', 9), ('bowers', 9), ('ra-dmi', 9), ('yea', 9), ('warpzone', 9), (\"la'michael\", 9), ('badgro', 9), ('newcombe', 9), ('45372300', 9), ('s43a', 9), ('ss1254', 9), ('draft-day', 9), ('andrusyshyn', 9), ('jeferson', 9), ('bieber', 9), ('spielman', 9), (\"'88\", 9), ('lifestyles', 9), ('micka', 9), ('herrod', 9), ('ah7153', 9), ('zuriel', 9), ('89-bh', 9), ('9.510', 9), ('ra-be', 9), ('hekker', 9), ('powlus', 9), ('389', 9), ('46027390', 9), ('957', 9), ('stack', 9), ('pog', 9), ('brandstater', 9), ('faic', 9), ('425', 9), ('draymond', 9), ('ney', 9), ('jdn157a', 9), ('desaun', 9), ('ss9327', 9), ('1115', 9), ('avion', 9), ('kranchick', 9), ('quadree', 9), ('ken-yon', 9), ('root', 9), ('fauria', 9), ('partno', 9), ('n1348', 9), ('fc1879', 9), ('tt-bm', 9), ('scherff', 9), ('wr4', 9), ('sba13', 9), ('ah7171', 9), ('farragut', 9), ('4747', 9), ('1-18', 9), ('guys', 9), ('dickey', 9), ('bulletin', 9), ('sewo', 9), ('olonilua', 9), ('parros', 9), ('keff', 9), ('ucf', 9), ('pro-vision', 9), ('youngblood/elvin', 9), ('carman', 9), ('949', 9), ('n2011', 9), ('hargrave', 9), ('marketcom', 9), ('graph/relic', 9), ('pro-line', 9), ('ss9623', 9), ('1083', 9), (\"o'donahue\", 9), ('dimitri', 9), ('1933-63', 9), ('bashir', 9), ('tubbs', 9), ('47412065', 9), ('1549', 9), ('astronomix', 9), ('loren', 9), ('streater', 9), ('461', 9), ('ss1012', 9), ('367', 9), ('tele-clinic', 9), ('-1979', 9), ('bowl/pro', 9), ('loce', 9), ('villanova', 9), ('jervey', 9), ('jdn81e', 9), ('nj38e', 9), ('-05', 9), ('henery', 9), ('daeshon', 9), ('southeast', 9), ('greise', 9), ('29x25', 9), ('lache', 9), ('seastrunk', 9), ('pin-up', 9), ('44903991', 9), ('ml', 9), ('jevon', 9), ('strikes', 9), ('555', 9), ('kanavis', 9), ('mcghee', 9), ('ss1258', 9), ('x-plosive', 9), ('moose', 9), ('raod', 9), ('2497', 9), ('dontrell', 9), ('beaats', 9), ('s25a', 9), ('s36a', 9), ('peete', 9), ('743', 9), ('cochran', 9), ('modzelewski', 9), ('pupunu', 9), ('giants/', 9), ('-2007', 9), ('ganther', 9), ('pm', 9), ('334', 9), ('tiquan', 9), ('celoni', 9), ('384', 9), ('skill', 9), ('5-color', 9), ('description', 9), ('score', 9), ('fun', 9), ('-rw1', 9), ('striker', 9), ('fc618', 9), ('dalla', 9), ('riva', 9), ('burse', 9), ('stevenson', 9), ('672', 9), ('nevada', 9), ('mclaughlin', 9), ('432', 9), ('deem', 9), ('-1952', 9), ('james/d', 9), ('mcnabb/gaia', 9), ('23075', 9), ('gridion', 9), ('kilian', 9), ('november', 9), ('474', 9), ('ns', 9), ('1257', 9), ('meier', 9), ('nesbitt', 9), ('premioer', 9), ('jdn44e', 9), ('adrenalin', 9), ('3858', 9), ('n2059', 9), ('-wp', 9), ('phillippi', 9), ('marquel', 9), ('hoppman', 9), ('x18386', 9), ('29961', 9), ('demarvin', 9), ('leal', 9), ('javarris', 9), ('n2937', 9), ('ss9353', 9), ('9579', 9), ('brinkley', 9), ('products', 9), ('hicham', 9), ('el-mashtoub', 9), ('1306', 9), ('tract', 9), ('staubach/greg', 9), ('landry/', 9), ('vii', 9), ('heeney', 9), ('tt', 9), ('-ee', 9), ('speights', 9), ('tatupu', 9), ('ss1343', 9), ('464', 9), ('savoy', 9), ('chevrier', 9), ('stio', 9), ('fd9453', 9), ('catalyst', 9), ('x1017311', 9), ('x1021119', 9), ('carthon', 9), ('dilts', 9), ('ex-+', 9), ('x1029454', 9), ('x1029090', 9), ('x1028883', 9), ('crusaders', 9), ('beal', 9), ('darry', 9), ('565', 9), ('jelacic', 9), ('n558', 9), ('ak1289', 9), ('stahild', 9), ('fist', 9), ('pump', 9), ('solid', 9), ('option', 9), ('28g', 9), ('2944', 9), ('lavishka', 9), ('lasater', 9), ('j1172547', 9), ('wilson/michaels/gros/gambrell', 9), ('coughlin', 9), ('shuts', 9), ('fd9025', 9), ('forwick', 9), ('jamey', 9), ('prosise', 9), ('friede', 9), ('capitol', 9), ('frachise', 9), ('fc1570', 9), ('breslin', 9), ('fc3902', 9), ('struck', 9), ('seige', 9), ('meco', 9), ('poliziani', 9), ('havili', 9), ('dzubnar', 9), ('deiondre', 8), ('isclaimer', 8), ('bubby', 8), ('brister', 8), ('marinaro', 8), ('shirtified', 8), ('tra', 8), ('haywood', 8), ('adt2695', 8), ('293', 8), ('1353', 8), ('577', 8), ('middle', 8), ('weldon', 8), ('-ar', 8), ('dael', 8), ('mcbath', 8), ('espy', 8), ('demond', 8), ('reflexions', 8), ('theisman', 8), ('ra-ab', 8), ('khris', 8), ('bogle', 8), ('crick', 8), ('iman', 8), ('yarborough', 8), ('wranglers', 8), ('aa-', 8), ('n2485', 8), ('sherwyn', 8), ('torson', 8), ('2437', 8), ('paralleled', 8), ('airese', 8), ('currie', 8), ('rt', 8), ('duce', 8), (\"o'sullivan\", 8), ('evey', 8), ('1-17', 8), ('reb', 8), ('orville', 8), ('aj7045', 8), ('850', 8), ('ba-eg1', 8), ('redblacks', 8), ('jdn95e', 8), ('holder', 8), ('alaniz', 8), ('n692', 8), ('44882228', 8), ('x1859', 8), ('bowie/crenshaw/flatley/davis', 8), ('antuan', 8), ('puzzle', 8), ('higbee', 8), ('eaton', 8), ('kaeding', 8), ('herbstreit', 8), ('hardiman', 8), ('cureton', 8), ('398', 8), ('jdn97e', 8), ('nj51e', 8), ('jdn77e', 8), ('jdn53e', 8), ('jdn14e', 8), ('jdn178e', 8), ('jdn154e', 8), ('jdn19e', 8), ('fd8925', 8), ('overstreet', 8), ('fejedelem', 8), ('lining', 8), ('pio', 8), ('sagapolutele', 8), ('obi', 8), ('melifonwu', 8), ('adeboyejo', 8), ('firepower', 8), ('carano', 8), ('deatrick', 8), ('cardinals', 8), ('enchantment', 8), ('502', 8), ('ss1593', 8), ('jasson', 8), ('dominguez', 8), ('8545', 8), ('8546', 8), ('dimension', 8), ('prep', 8), ('stillwagon', 8), ('cullen', 8), ('9479', 8), ('heat-seekers', 8), ('ah7341', 8), ('iasiah', 8), ('jdn125e', 8), ('verdugo', 8), ('n783', 8), ('costello', 8), ('emerging', 8), ('pagano', 8), ('n2880', 8), ('-je', 8), ('leber', 8), ('corso', 8), ('opposing', 8), ('wang', 8), ('collect-a-books', 8), ('tackled', 8), ('1296', 8), ('stallings/taylor/brown/gibbons', 8)]\n"
     ]
    }
   ],
   "source": [
    "# !pip install nltk\n",
    "import nltk\n",
    "from nltk.tokenize import word_tokenize\n",
    "from nltk.tokenize import sent_tokenize\n",
    "from nltk.probability import FreqDist\n",
    "from nltk.corpus import stopwords\n",
    "from collections import OrderedDict\n",
    "nltk.download('punkt')\n",
    "words_list = df1['Unmatched'].values.tolist()\n",
    "striptext = \" \".join(words_list)\n",
    "words = word_tokenize(striptext)\n",
    "lowercase_words = [word.lower() for word in words]\n",
    "word_frequencies = FreqDist(lowercase_words)\n",
    "most_frequent_words = FreqDist(lowercase_words).most_common(10000)\n",
    "print(most_frequent_words)"
   ]
  },
  {
   "cell_type": "code",
   "execution_count": 374,
   "id": "revised-knight",
   "metadata": {},
   "outputs": [],
   "source": [
    "import nltk\n",
    "from nltk.tag import StanfordNERTagger\n",
    "from nltk.tokenize import word_tokenize\n",
    "\n",
    "st = StanfordNERTagger('english.all.3class.distsim.crf.ser.gz','stanford-ner-4.2.0.jar',encoding='utf-8')\n",
    "def person2(text):\n",
    "    for sent in nltk.sent_tokenize(text):\n",
    "        tokens = nltk.tokenize.word_tokenize(sent)\n",
    "        tags = st.tag(tokens)\n",
    "        res = \"\"\n",
    "        for tag in tags:\n",
    "            if tag[1]=='PERSON':\n",
    "                res = res + \" \"+ tag[0]\n",
    "    return res.strip()"
   ]
  },
  {
   "cell_type": "code",
   "execution_count": 375,
   "id": "removable-aggregate",
   "metadata": {},
   "outputs": [],
   "source": [
    "undetect_name_text= [i[0] for i in most_frequent_words]\n",
    "undetect_name_text = \" \".join(undetect_name_text)\n",
    "undetected_name = person2(undetect_name_text).split(' ')\n",
    "undetected_name.extend([\"ken\",\"griffey\",\"allen\",\"ginter\",\"ohtani\",\"shohei\",\n",
    "                          \"alvarez\",\"franco\",\"lewis\",\"jim\",\n",
    "                          \"al\",\"nick\",\"kyle\",\"yordan\",\"gavin\",\"mike\",\"dominguez\",\n",
    "                          \"rodriguez\",\"jasson\",\"john\",\"ryan\",\"andrew\",\"alex\",\"diego\",\"mckenzie\",\n",
    "                           \"carlson\",\"howard\",\"zac\",\"bryan\",\"clarke\",\"adams\",\"brian\",\"pearson\",\n",
    "                          \"alexander\",\"andy\",\"perez\",\"chuck\",\"mackenzie\",\"hernandez\",\"andres\",'anderson',\n",
    "                          \"matthew\",\"kopech\",\"rosario\",\"stewart\",\"marte\",\"lee\",\"brandon\",'dalquist',\n",
    "                           \"triston\",\"tim\",'dylan','larry','martin','derek','pete','abrams','foli',\n",
    "                     'jamieson','jimenez','amethyst','charley','alston','christin', 'kershaw','luke',\n",
    "                        'sullivan', 'dustin','shane','bush','ryne', 'mccarthy', 'alec', 'willi','hunter',\n",
    "                        'samuel','dawson','kelley','jimmie','yogi','tj','rutledge','leo','johnstone',\n",
    "                        'eli','giles','varsho','ronaldo','mcconnell','sonny','evan','devin','medina',\n",
    "                        'yoshitomo','kindall','herrnstein','dempsey','clayton','connell','levi',\n",
    "                        'derrell','jahmai','marvin','blaylock','joba','lincoln','seth','delvin','scioscia',\n",
    "                        'kenny','kenney','donald','ismael','locke','opitz','janowicz','dereck','burbrink',\n",
    "                        'blackmon','leron','cade','bieber','lehner','jonathon','kuhn','dahl','jonatan',\n",
    "                        'jurado','dirk','steiner','kaminsky','dana','dubiel','franklyn','poppel','garko',\n",
    "                        'adon','jaeckel','quinton','mccracken','ackley','peter','senzel','mason','ferrara',\n",
    "                       'wander','lux','matt','wallner','spangler','julio','wright','friday','verdugo','kyler',\n",
    "                       'joe','barry','harris','jordan','paul','warren','anthony','robinson','aiyuk'])"
   ]
  },
  {
   "cell_type": "code",
   "execution_count": 376,
   "id": "fleet-artist",
   "metadata": {},
   "outputs": [],
   "source": [
    "undetected_name = set(undetected_name)\n",
    "def person_left(x):\n",
    "    res = \"\"\n",
    "    for i in x['Unmatched'].split(\" \"):\n",
    "        if i in undetected_name:\n",
    "            res = res +\" \"+ i\n",
    "    if x['Player_Name']:\n",
    "        res = x['Player_Name']+\",\"+res.strip()\n",
    "        return res\n",
    "    elif (not x['Player_Name']) and res:\n",
    "        return res.strip()\n",
    "    else:\n",
    "        return np.NaN"
   ]
  },
  {
   "cell_type": "code",
   "execution_count": 377,
   "id": "cardiovascular-analysis",
   "metadata": {},
   "outputs": [],
   "source": [
    "df1['Player_Name'] = df1.apply(lambda x:person_left(x),axis = 1)"
   ]
  },
  {
   "cell_type": "code",
   "execution_count": 378,
   "id": "fallen-recommendation",
   "metadata": {},
   "outputs": [
    {
     "data": {
      "text/plain": [
       "0.3865997335340353"
      ]
     },
     "execution_count": 378,
     "metadata": {},
     "output_type": "execute_result"
    }
   ],
   "source": [
    "df1['Player_Name'].isnull().sum()/len(df1)"
   ]
  },
  {
   "cell_type": "code",
   "execution_count": 379,
   "id": "unexpected-marking",
   "metadata": {},
   "outputs": [],
   "source": [
    "def num_words_unmatched(x):\n",
    "    y = x.split(' ')\n",
    "    while(\"\" in y): \n",
    "        y.remove(\"\")\n",
    "    if y:\n",
    "        return len(y)\n",
    "    else:\n",
    "        return 0"
   ]
  },
  {
   "cell_type": "code",
   "execution_count": 380,
   "id": "administrative-rendering",
   "metadata": {},
   "outputs": [],
   "source": [
    "def cal_matched_percentage(x):\n",
    "    if x['num_words_unmatched'] == 0:\n",
    "        return 1\n",
    "    else:\n",
    "        return 1-(x['num_words_unmatched']/x['num_words_title'])"
   ]
  },
  {
   "cell_type": "code",
   "execution_count": 381,
   "id": "altered-sessions",
   "metadata": {},
   "outputs": [],
   "source": [
    "df1['Unmatched']=df1.apply(lambda x: else_unmatched(x),axis = 1)"
   ]
  },
  {
   "cell_type": "code",
   "execution_count": 382,
   "id": "studied-album",
   "metadata": {},
   "outputs": [],
   "source": [
    "df1['Unmatched']=df1.apply(lambda x: unmatched_trim(x),axis = 1)"
   ]
  },
  {
   "cell_type": "code",
   "execution_count": 383,
   "id": "fluid-reservoir",
   "metadata": {},
   "outputs": [],
   "source": [
    "most_frequent_words = FreqDist(lowercase_words).most_common(300)\n",
    "junk_words = [i[0] for i in most_frequent_words]\n",
    "junk_words = set(junk_words)\n",
    "def match_junks(x):\n",
    "    res = \"\"\n",
    "    for i in x.split(' '):\n",
    "        if i in junk_words:\n",
    "            res = res+\" \"+i\n",
    "    if res:\n",
    "        return res.strip()\n",
    "    else:\n",
    "        return np.NaN"
   ]
  },
  {
   "cell_type": "code",
   "execution_count": 384,
   "id": "vietnamese-pasta",
   "metadata": {},
   "outputs": [],
   "source": [
    "# df1.drop(['Junks'], axis=1)"
   ]
  },
  {
   "cell_type": "code",
   "execution_count": 385,
   "id": "official-celebrity",
   "metadata": {},
   "outputs": [],
   "source": [
    "df1['Junks']=df1['Unmatched'].apply(lambda x: match_junks(x))"
   ]
  },
  {
   "cell_type": "code",
   "execution_count": 386,
   "id": "british-consumption",
   "metadata": {},
   "outputs": [],
   "source": [
    "def replace_junks(x):\n",
    "    res = x['Unmatched']\n",
    "    if isinstance(x['Junks'],str):\n",
    "        for i in x['Junks'].split(' '):\n",
    "            if i in res:\n",
    "                res = res.replace(i,\"\")\n",
    "    return res"
   ]
  },
  {
   "cell_type": "code",
   "execution_count": 387,
   "id": "cognitive-spectacular",
   "metadata": {},
   "outputs": [],
   "source": [
    "df1['Unmatched']=df1.apply(lambda x: replace_junks(x),axis = 1)"
   ]
  },
  {
   "cell_type": "markdown",
   "id": "spatial-heading",
   "metadata": {},
   "source": [
    "# Calculating Stats"
   ]
  },
  {
   "cell_type": "code",
   "execution_count": 388,
   "id": "wrapped-theta",
   "metadata": {},
   "outputs": [],
   "source": [
    "df1['Unmatched']=df1.apply(lambda x: unmatched_trim(x),axis = 1)"
   ]
  },
  {
   "cell_type": "code",
   "execution_count": 389,
   "id": "confident-messaging",
   "metadata": {},
   "outputs": [],
   "source": [
    "df1['num_words_unmatched']=df1['Unmatched'].apply(lambda x: num_words_unmatched(x))"
   ]
  },
  {
   "cell_type": "code",
   "execution_count": 390,
   "id": "expanded-bolivia",
   "metadata": {},
   "outputs": [],
   "source": [
    "df1['num_words_title']=df1['Title'].apply(lambda x: len(x.split(' ')))"
   ]
  },
  {
   "cell_type": "code",
   "execution_count": 391,
   "id": "black-identifier",
   "metadata": {},
   "outputs": [],
   "source": [
    "df1['matched_percentage']=df1.apply(lambda x: cal_matched_percentage(x),axis = 1)"
   ]
  },
  {
   "cell_type": "code",
   "execution_count": 392,
   "id": "acoustic-stupid",
   "metadata": {},
   "outputs": [
    {
     "data": {
      "text/plain": [
       "0.8539099531772534"
      ]
     },
     "execution_count": 392,
     "metadata": {},
     "output_type": "execute_result"
    }
   ],
   "source": [
    "df1['matched_percentage'].mean()"
   ]
  },
  {
   "cell_type": "code",
   "execution_count": 393,
   "id": "ancient-death",
   "metadata": {},
   "outputs": [],
   "source": [
    "def manufacturer_back(x):\n",
    "    if isinstance(x,str):\n",
    "        arr = x.split(',')\n",
    "        res = \"\"\n",
    "        while(\"\" in arr) : \n",
    "            arr.remove(\"\")\n",
    "        while(\" \" in arr) : \n",
    "            arr.remove(\" \")\n",
    "        for i in arr:\n",
    "            res = res + \" \"+ manufacturer_dict[i.strip()]\n",
    "        return res\n",
    "    else:\n",
    "        return np.NaN"
   ]
  },
  {
   "cell_type": "code",
   "execution_count": 394,
   "id": "retained-century",
   "metadata": {},
   "outputs": [],
   "source": [
    "def rating_back(x):\n",
    "    if isinstance(x,str):\n",
    "        return rating_dict[x]\n",
    "    else:\n",
    "        return np.NaN"
   ]
  },
  {
   "cell_type": "code",
   "execution_count": 395,
   "id": "intellectual-brake",
   "metadata": {},
   "outputs": [],
   "source": [
    "def lower_back(x):\n",
    "    if isinstance(x,str):\n",
    "        return x.lower()\n",
    "    else:\n",
    "        return np.NaN"
   ]
  },
  {
   "cell_type": "code",
   "execution_count": 396,
   "id": "sexual-plymouth",
   "metadata": {},
   "outputs": [],
   "source": [
    "df1['Manufacturer']=df1['Manufacturer'].apply(lambda x: manufacturer_back(x))\n",
    "df1['Rating'] = df1['Rating'].apply(lambda x: rating_back(x)) "
   ]
  },
  {
   "cell_type": "code",
   "execution_count": 398,
   "id": "central-nomination",
   "metadata": {},
   "outputs": [],
   "source": [
    "df1.to_csv('football_df.csv', index=False)"
   ]
  },
  {
   "cell_type": "code",
   "execution_count": null,
   "id": "romance-toyota",
   "metadata": {},
   "outputs": [],
   "source": []
  }
 ],
 "metadata": {
  "kernelspec": {
   "display_name": "Python 3",
   "language": "python",
   "name": "python3"
  },
  "language_info": {
   "codemirror_mode": {
    "name": "ipython",
    "version": 3
   },
   "file_extension": ".py",
   "mimetype": "text/x-python",
   "name": "python",
   "nbconvert_exporter": "python",
   "pygments_lexer": "ipython3",
   "version": "3.7.9"
  }
 },
 "nbformat": 4,
 "nbformat_minor": 5
}
