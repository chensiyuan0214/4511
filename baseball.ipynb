{
 "cells": [
  {
   "cell_type": "code",
   "execution_count": 137,
   "id": "violent-capability",
   "metadata": {},
   "outputs": [],
   "source": [
    "import pandas as pd\n",
    "import numpy as np\n",
    "df=pd.read_csv(r'baseball.csv')"
   ]
  },
  {
   "cell_type": "code",
   "execution_count": 138,
   "id": "brave-terrorist",
   "metadata": {},
   "outputs": [
    {
     "data": {
      "text/plain": [
       "Index(['Title'], dtype='object')"
      ]
     },
     "execution_count": 138,
     "metadata": {},
     "output_type": "execute_result"
    }
   ],
   "source": [
    "df.columns"
   ]
  },
  {
   "cell_type": "code",
   "execution_count": 139,
   "id": "nervous-waste",
   "metadata": {},
   "outputs": [
    {
     "name": "stdout",
     "output_type": "stream",
     "text": [
      "Index([], dtype='object')\n"
     ]
    }
   ],
   "source": [
    "df1=pd.DataFrame()\n",
    "print(df1.columns)\n",
    "df1['Title']=df['Title'].apply(lambda x:x.lower())\n",
    "df1['Year']=df1['Title'].str.extract( \"(\\d{4})\",expand=False ).str.strip()\n",
    "# df1['Year].isnull().values.any()   #True\n",
    "# df1['Year'].isnull().values.sum()  #7163\n",
    "# perc_year_na=7163/len(df)          #0.3%"
   ]
  },
  {
   "cell_type": "code",
   "execution_count": 140,
   "id": "norwegian-regular",
   "metadata": {},
   "outputs": [],
   "source": [
    "df1[\"Unmatched\"] = df1['Title'].apply(lambda x: x.lower())"
   ]
  },
  {
   "cell_type": "code",
   "execution_count": 141,
   "id": "appreciated-tribe",
   "metadata": {},
   "outputs": [],
   "source": [
    "TeamName=['Braves','Marlins','Mets','Phillies','Nationals','Cubs','Reds','Brewers','Pirates','Cardinals','Diamondbacks',\n",
    "'Rockies','Dodgers','Padres','Giants','Orioles','Red Sox','Yankees','Rays','Blue Jays','White Sox','Indians',\n",
    "'Tigers','Royals','Twins','Astros','Angels','Athletics','Mariners','Ranger','yankees','Red Stocking','White Stocking','Brown Stocking','Greys','Browns',\n",
    "'Bees','Redlegs','Beaneaters','Brewers','Senators','Robins','Doves','Rustlers','Orphans','Naps','Hightlanders','Colts','Americans','Bridgerooms','Superbas',\n",
    "'Perfectos',\"Chiefs\",\"Sting\",\"Sting\",\"Mustangs\",\"Generals\",\"Black Sox\",\"Admirals\",\"Renegades\",\"Capitals\",\"Selects\",\"Predators\",\"Heat\",\"Smoke\",\"Aces\",\n",
    "\"Reapers\",\"Gremlins\",\"Gators\",\"Axemen\",\"Falcons\",\"Monsters\",\"Legends\",\"Dukes\",\"Hammer\",\"Outlaws\",\"Redmen\",\"Stix\",\"Force\",\"Merchants\",\"Bandits\",\"Hawks\",\"Knights\"\n",
    ",\"Bullets\",\"Deuces\",\"Jacks\",\"Diamond Jaxx\",\"K-Men\",\"Magicians\",\"Sluggers\",\"Chuckers\",\"Fireballers\",\"Phantoms\",\"Matadors\",\"Sharks\"\n",
    ",\"Bulls\",\"Hounds\",\"Wildcats\",\"Kraken\",\"Kolts\",\"Blaze\",\"Kings\",\"Classics\",\"Klassics\"]\n",
    "TeamName = [i.lower() for i in TeamName]"
   ]
  },
  {
   "cell_type": "code",
   "execution_count": 142,
   "id": "following-catch",
   "metadata": {},
   "outputs": [],
   "source": [
    "def team_name_extract(x):\n",
    "    for i in TeamName:\n",
    "        if i in x.lower():\n",
    "            return i"
   ]
  },
  {
   "cell_type": "code",
   "execution_count": 143,
   "id": "flush-opening",
   "metadata": {},
   "outputs": [
    {
     "data": {
      "text/plain": [
       "0.7632527013340228"
      ]
     },
     "execution_count": 143,
     "metadata": {},
     "output_type": "execute_result"
    }
   ],
   "source": [
    "df1['TeamName']=df1['Title'].apply(lambda x:team_name_extract(x))\n",
    "df1['TeamName'].isnull().values.sum()/len(df) #missing 95% team name is not a frequently used key words in basketball cards"
   ]
  },
  {
   "cell_type": "code",
   "execution_count": 144,
   "id": "seeing-jurisdiction",
   "metadata": {},
   "outputs": [
    {
     "data": {
      "text/html": [
       "<div>\n",
       "<style scoped>\n",
       "    .dataframe tbody tr th:only-of-type {\n",
       "        vertical-align: middle;\n",
       "    }\n",
       "\n",
       "    .dataframe tbody tr th {\n",
       "        vertical-align: top;\n",
       "    }\n",
       "\n",
       "    .dataframe thead th {\n",
       "        text-align: right;\n",
       "    }\n",
       "</style>\n",
       "<table border=\"1\" class=\"dataframe\">\n",
       "  <thead>\n",
       "    <tr style=\"text-align: right;\">\n",
       "      <th></th>\n",
       "      <th>Count</th>\n",
       "    </tr>\n",
       "    <tr>\n",
       "      <th>TeamName</th>\n",
       "      <th></th>\n",
       "    </tr>\n",
       "  </thead>\n",
       "  <tbody>\n",
       "    <tr>\n",
       "      <th>yankees</th>\n",
       "      <td>59546</td>\n",
       "    </tr>\n",
       "    <tr>\n",
       "      <th>braves</th>\n",
       "      <td>45615</td>\n",
       "    </tr>\n",
       "    <tr>\n",
       "      <th>dodgers</th>\n",
       "      <td>32538</td>\n",
       "    </tr>\n",
       "    <tr>\n",
       "      <th>angels</th>\n",
       "      <td>29931</td>\n",
       "    </tr>\n",
       "    <tr>\n",
       "      <th>mets</th>\n",
       "      <td>21501</td>\n",
       "    </tr>\n",
       "    <tr>\n",
       "      <th>...</th>\n",
       "      <td>...</td>\n",
       "    </tr>\n",
       "    <tr>\n",
       "      <th>merchants</th>\n",
       "      <td>5</td>\n",
       "    </tr>\n",
       "    <tr>\n",
       "      <th>hounds</th>\n",
       "      <td>4</td>\n",
       "    </tr>\n",
       "    <tr>\n",
       "      <th>diamond jaxx</th>\n",
       "      <td>3</td>\n",
       "    </tr>\n",
       "    <tr>\n",
       "      <th>deuces</th>\n",
       "      <td>2</td>\n",
       "    </tr>\n",
       "    <tr>\n",
       "      <th>beaneaters</th>\n",
       "      <td>1</td>\n",
       "    </tr>\n",
       "  </tbody>\n",
       "</table>\n",
       "<p>81 rows × 1 columns</p>\n",
       "</div>"
      ],
      "text/plain": [
       "              Count\n",
       "TeamName           \n",
       "yankees       59546\n",
       "braves        45615\n",
       "dodgers       32538\n",
       "angels        29931\n",
       "mets          21501\n",
       "...             ...\n",
       "merchants         5\n",
       "hounds            4\n",
       "diamond jaxx      3\n",
       "deuces            2\n",
       "beaneaters        1\n",
       "\n",
       "[81 rows x 1 columns]"
      ]
     },
     "execution_count": 144,
     "metadata": {},
     "output_type": "execute_result"
    }
   ],
   "source": [
    "pd.DataFrame(df1.groupby('TeamName')['TeamName'].count()).rename(columns={\"TeamName\": \"Count\"}).sort_values(by='Count',ascending=False)"
   ]
  },
  {
   "cell_type": "markdown",
   "id": "acting-engagement",
   "metadata": {},
   "source": [
    "# Professional Grader"
   ]
  },
  {
   "cell_type": "code",
   "execution_count": 145,
   "id": "portable-gospel",
   "metadata": {},
   "outputs": [],
   "source": [
    "df1['Grader']=df1['Title'].str.extract(r'(psa|bgs|sgc|bvg|bccg|scd|gai|sgv)',expand=True)\n",
    "#df1['Grader']=df1['Grader'].str.upper()"
   ]
  },
  {
   "cell_type": "code",
   "execution_count": 146,
   "id": "premier-bearing",
   "metadata": {},
   "outputs": [
    {
     "data": {
      "text/html": [
       "<div>\n",
       "<style scoped>\n",
       "    .dataframe tbody tr th:only-of-type {\n",
       "        vertical-align: middle;\n",
       "    }\n",
       "\n",
       "    .dataframe tbody tr th {\n",
       "        vertical-align: top;\n",
       "    }\n",
       "\n",
       "    .dataframe thead th {\n",
       "        text-align: right;\n",
       "    }\n",
       "</style>\n",
       "<table border=\"1\" class=\"dataframe\">\n",
       "  <thead>\n",
       "    <tr style=\"text-align: right;\">\n",
       "      <th></th>\n",
       "      <th>Count</th>\n",
       "    </tr>\n",
       "    <tr>\n",
       "      <th>Grader</th>\n",
       "      <th></th>\n",
       "    </tr>\n",
       "  </thead>\n",
       "  <tbody>\n",
       "    <tr>\n",
       "      <th>psa</th>\n",
       "      <td>374586</td>\n",
       "    </tr>\n",
       "    <tr>\n",
       "      <th>bgs</th>\n",
       "      <td>89750</td>\n",
       "    </tr>\n",
       "    <tr>\n",
       "      <th>sgc</th>\n",
       "      <td>14679</td>\n",
       "    </tr>\n",
       "    <tr>\n",
       "      <th>bvg</th>\n",
       "      <td>3815</td>\n",
       "    </tr>\n",
       "    <tr>\n",
       "      <th>bccg</th>\n",
       "      <td>1814</td>\n",
       "    </tr>\n",
       "    <tr>\n",
       "      <th>gai</th>\n",
       "      <td>894</td>\n",
       "    </tr>\n",
       "    <tr>\n",
       "      <th>scd</th>\n",
       "      <td>78</td>\n",
       "    </tr>\n",
       "  </tbody>\n",
       "</table>\n",
       "</div>"
      ],
      "text/plain": [
       "         Count\n",
       "Grader        \n",
       "psa     374586\n",
       "bgs      89750\n",
       "sgc      14679\n",
       "bvg       3815\n",
       "bccg      1814\n",
       "gai        894\n",
       "scd         78"
      ]
     },
     "execution_count": 146,
     "metadata": {},
     "output_type": "execute_result"
    }
   ],
   "source": [
    "pd.DataFrame(df1.groupby('Grader')['Grader'].count()).rename(columns={\"Grader\": \"Count\"}).sort_values(by='Count',ascending=False)"
   ]
  },
  {
   "cell_type": "markdown",
   "id": "sealed-carolina",
   "metadata": {},
   "source": [
    "# Classifier"
   ]
  },
  {
   "cell_type": "code",
   "execution_count": 147,
   "id": "developed-priority",
   "metadata": {},
   "outputs": [],
   "source": [
    "df1['Classifier']=df1['Title'].str.extract(r'(single|lot|set|box|pack|team set|uncut sheet|box&case breaks|cello|booklet)',expand=True)\n",
    "#df1['Classifier']=df1['Classifier'].str.capitalize()"
   ]
  },
  {
   "cell_type": "code",
   "execution_count": 148,
   "id": "lined-stupid",
   "metadata": {},
   "outputs": [],
   "source": [
    "# df1['Classifier']=df['Title'].str.extract(r'(Single|Lot|Set|Box|Pack|Team Set|Uncut Sheet|Box&Case Breaks|Cello|single|lot|set|box|pack|team set|uncut sheet|box&case breaks|cello|SINGLE|LOT|SET|BOX|PACK|TEAM SET|UNCUT SHEET|BOX&CASE BREAKS|CELLO)',expand=True)\n",
    "# df1['Classifier']=df1['Classifier'].str.capitalize()"
   ]
  },
  {
   "cell_type": "code",
   "execution_count": 149,
   "id": "italic-outdoors",
   "metadata": {},
   "outputs": [
    {
     "data": {
      "text/html": [
       "<div>\n",
       "<style scoped>\n",
       "    .dataframe tbody tr th:only-of-type {\n",
       "        vertical-align: middle;\n",
       "    }\n",
       "\n",
       "    .dataframe tbody tr th {\n",
       "        vertical-align: top;\n",
       "    }\n",
       "\n",
       "    .dataframe thead th {\n",
       "        text-align: right;\n",
       "    }\n",
       "</style>\n",
       "<table border=\"1\" class=\"dataframe\">\n",
       "  <thead>\n",
       "    <tr style=\"text-align: right;\">\n",
       "      <th></th>\n",
       "      <th>Count</th>\n",
       "    </tr>\n",
       "    <tr>\n",
       "      <th>Classifier</th>\n",
       "      <th></th>\n",
       "    </tr>\n",
       "  </thead>\n",
       "  <tbody>\n",
       "    <tr>\n",
       "      <th>lot</th>\n",
       "      <td>140995</td>\n",
       "    </tr>\n",
       "    <tr>\n",
       "      <th>box</th>\n",
       "      <td>69187</td>\n",
       "    </tr>\n",
       "    <tr>\n",
       "      <th>set</th>\n",
       "      <td>52238</td>\n",
       "    </tr>\n",
       "    <tr>\n",
       "      <th>pack</th>\n",
       "      <td>14242</td>\n",
       "    </tr>\n",
       "    <tr>\n",
       "      <th>team set</th>\n",
       "      <td>5975</td>\n",
       "    </tr>\n",
       "    <tr>\n",
       "      <th>single</th>\n",
       "      <td>4025</td>\n",
       "    </tr>\n",
       "    <tr>\n",
       "      <th>booklet</th>\n",
       "      <td>2798</td>\n",
       "    </tr>\n",
       "    <tr>\n",
       "      <th>cello</th>\n",
       "      <td>890</td>\n",
       "    </tr>\n",
       "    <tr>\n",
       "      <th>uncut sheet</th>\n",
       "      <td>85</td>\n",
       "    </tr>\n",
       "  </tbody>\n",
       "</table>\n",
       "</div>"
      ],
      "text/plain": [
       "              Count\n",
       "Classifier         \n",
       "lot          140995\n",
       "box           69187\n",
       "set           52238\n",
       "pack          14242\n",
       "team set       5975\n",
       "single         4025\n",
       "booklet        2798\n",
       "cello           890\n",
       "uncut sheet      85"
      ]
     },
     "execution_count": 149,
     "metadata": {},
     "output_type": "execute_result"
    }
   ],
   "source": [
    "pd.DataFrame(df1.groupby('Classifier')['Classifier'].count()).rename(columns={\"Classifier\": \"Count\"}).sort_values(by='Count',ascending=False)"
   ]
  },
  {
   "cell_type": "markdown",
   "id": "adapted-intervention",
   "metadata": {},
   "source": [
    "# Card Number"
   ]
  },
  {
   "cell_type": "code",
   "execution_count": 150,
   "id": "previous-pillow",
   "metadata": {},
   "outputs": [],
   "source": [
    "df1['CardNumber']=df1['Title'].str.extract(\"#(\\w*\\.?\\-?\\/?\\d?\\w*\\-?\\w+)\",expand=True )\n",
    "#df1['CardNumber']=df['Title'].str.extract( \"#(\\w*\\.?\\-?\\d?\\w+)\",expand=True )\n",
    " #df1['CardNumber'].isnull().values.sum()/len(df) # 42% missing"
   ]
  },
  {
   "cell_type": "markdown",
   "id": "ecological-specific",
   "metadata": {},
   "source": [
    "# Quantity Made"
   ]
  },
  {
   "cell_type": "code",
   "execution_count": 151,
   "id": "double-contributor",
   "metadata": {},
   "outputs": [],
   "source": [
    "df1['QuantityMade']=df1['Title'].str.extract( \"(\\d?\\d?\\d?\\d?\\d?\\d?\\/\\d+)\",expand=True )\n",
    "#df1['QuantityMade'].isnull().values.sum()/len(df) # 74% missing"
   ]
  },
  {
   "cell_type": "markdown",
   "id": "cross-opportunity",
   "metadata": {},
   "source": [
    "# Specialty"
   ]
  },
  {
   "cell_type": "code",
   "execution_count": 153,
   "id": "protected-floor",
   "metadata": {},
   "outputs": [],
   "source": [
    "Keywords= [\"jerseys\",\"jersey\",\"freshman\",\"rookies\",\"rc\", \"mvp\",\"mvps\",\"hof\",\"auto\",\"rookie\",\"nnof\",\"xrc\",\"big four\",\"bip\",\"foil\",\"jsy\",\"nib\",\"pc\",\"opg\"]\n",
    "\n",
    "def Special(x):\n",
    "    String=\"\"\n",
    "    for i in Keywords:\n",
    "        for k in x.split(\" \"):\n",
    "            if i in k:\n",
    "                String += str(i) + \",\"\n",
    "    if String:\n",
    "        return String[:-1]\n",
    "    else:\n",
    "        return np.NaN\n",
    "\n",
    "df1['Specialty']=df1['Title'].apply(lambda x: Special(x))"
   ]
  },
  {
   "cell_type": "code",
   "execution_count": 154,
   "id": "moving-sharp",
   "metadata": {},
   "outputs": [
    {
     "data": {
      "text/plain": [
       "0.45650942692871305"
      ]
     },
     "execution_count": 154,
     "metadata": {},
     "output_type": "execute_result"
    }
   ],
   "source": [
    "df1['Specialty'].isnull().values.sum()/len(df) #%50.94 missing   "
   ]
  },
  {
   "cell_type": "markdown",
   "id": "emotional-landscape",
   "metadata": {},
   "source": [
    "# Players"
   ]
  },
  {
   "cell_type": "code",
   "execution_count": 155,
   "id": "better-hunger",
   "metadata": {},
   "outputs": [],
   "source": [
    "import requests\n",
    "from bs4 import BeautifulSoup\n",
    "def fetch_famous_players(baseurl):\n",
    "    famous_player = []\n",
    "    response = requests.get(baseurl)\n",
    "    if response.status_code == 200:\n",
    "        print(\"Success\")\n",
    "    else:\n",
    "        print(\"Failure\")\n",
    "    results_page = BeautifulSoup(response.content,'html.parser')\n",
    "    page = results_page.find(\"table\").find_all('td', attrs={'style':'font-family: Arial, sans-serif; color: windowtext; font-size: 10.0pt; font-weight: 400; font-style: normal; text-decoration: none; text-align: general; vertical-align: bottom; white-space: nowrap; border: medium none; padding-left: 1px; padding-right: 1px; padding-top: 1px'})\n",
    "    for i in page:\n",
    "        famous_player.append(i.text.split('\\n')[1].strip())\n",
    "    return famous_player"
   ]
  },
  {
   "cell_type": "code",
   "execution_count": 156,
   "id": "matched-hamilton",
   "metadata": {},
   "outputs": [
    {
     "name": "stdout",
     "output_type": "stream",
     "text": [
      "Success\n",
      "Success\n",
      "Success\n",
      "Success\n",
      "Success\n"
     ]
    },
    {
     "data": {
      "text/plain": [
       "list"
      ]
     },
     "execution_count": 156,
     "metadata": {},
     "output_type": "execute_result"
    }
   ],
   "source": [
    "famous_player = fetch_famous_players(\"http://ainsworthsports.com/baseball_player_rankings_all_time_1_to_1000.htm\")\n",
    "famous_player.extend(fetch_famous_players(\"http://ainsworthsports.com/baseball_player_rankings_all_time_1001_to_2000.htm\"))\n",
    "famous_player.extend(fetch_famous_players(\"http://ainsworthsports.com/baseball_player_rankings_all_time_2001_to_3000.htm\"))\n",
    "famous_player.extend(fetch_famous_players(\"http://ainsworthsports.com/baseball_player_rankings_all_time_3001_to_4000.htm\"))\n",
    "famous_player.extend(fetch_famous_players(\"http://ainsworthsports.com/baseball_player_rankings_all_time_4001_to_5000.htm\"))\n",
    "type(famous_player)\n"
   ]
  },
  {
   "cell_type": "code",
   "execution_count": 157,
   "id": "early-midwest",
   "metadata": {},
   "outputs": [],
   "source": [
    "def person(x):\n",
    "    for i in famous_player:\n",
    "        dummy = i.lower()\n",
    "        if dummy in x:\n",
    "            return i"
   ]
  },
  {
   "cell_type": "code",
   "execution_count": 158,
   "id": "certain-whole",
   "metadata": {},
   "outputs": [],
   "source": [
    "df1['Player_Name']=df1['Title'].apply(lambda x: person(x))"
   ]
  },
  {
   "cell_type": "code",
   "execution_count": 159,
   "id": "beautiful-jacob",
   "metadata": {},
   "outputs": [
    {
     "data": {
      "text/html": [
       "<div>\n",
       "<style scoped>\n",
       "    .dataframe tbody tr th:only-of-type {\n",
       "        vertical-align: middle;\n",
       "    }\n",
       "\n",
       "    .dataframe tbody tr th {\n",
       "        vertical-align: top;\n",
       "    }\n",
       "\n",
       "    .dataframe thead th {\n",
       "        text-align: right;\n",
       "    }\n",
       "</style>\n",
       "<table border=\"1\" class=\"dataframe\">\n",
       "  <thead>\n",
       "    <tr style=\"text-align: right;\">\n",
       "      <th></th>\n",
       "      <th>Count</th>\n",
       "    </tr>\n",
       "    <tr>\n",
       "      <th>Player_Name</th>\n",
       "      <th></th>\n",
       "    </tr>\n",
       "  </thead>\n",
       "  <tbody>\n",
       "    <tr>\n",
       "      <th>Ronald Acuna</th>\n",
       "      <td>67308</td>\n",
       "    </tr>\n",
       "    <tr>\n",
       "      <th>Mike Trout</th>\n",
       "      <td>55008</td>\n",
       "    </tr>\n",
       "    <tr>\n",
       "      <th>Derek Jeter</th>\n",
       "      <td>37374</td>\n",
       "    </tr>\n",
       "    <tr>\n",
       "      <th>Fernando Tatis</th>\n",
       "      <td>33385</td>\n",
       "    </tr>\n",
       "    <tr>\n",
       "      <th>Vladimir Guerrero</th>\n",
       "      <td>29112</td>\n",
       "    </tr>\n",
       "    <tr>\n",
       "      <th>...</th>\n",
       "      <td>...</td>\n",
       "    </tr>\n",
       "    <tr>\n",
       "      <th>Jap Barbeau</th>\n",
       "      <td>1</td>\n",
       "    </tr>\n",
       "    <tr>\n",
       "      <th>Ray Sanders</th>\n",
       "      <td>1</td>\n",
       "    </tr>\n",
       "    <tr>\n",
       "      <th>Brad Arnsberg</th>\n",
       "      <td>1</td>\n",
       "    </tr>\n",
       "    <tr>\n",
       "      <th>Bobby Castillo</th>\n",
       "      <td>1</td>\n",
       "    </tr>\n",
       "    <tr>\n",
       "      <th>Tommy Thomas</th>\n",
       "      <td>1</td>\n",
       "    </tr>\n",
       "  </tbody>\n",
       "</table>\n",
       "<p>3888 rows × 1 columns</p>\n",
       "</div>"
      ],
      "text/plain": [
       "                   Count\n",
       "Player_Name             \n",
       "Ronald Acuna       67308\n",
       "Mike Trout         55008\n",
       "Derek Jeter        37374\n",
       "Fernando Tatis     33385\n",
       "Vladimir Guerrero  29112\n",
       "...                  ...\n",
       "Jap Barbeau            1\n",
       "Ray Sanders            1\n",
       "Brad Arnsberg          1\n",
       "Bobby Castillo         1\n",
       "Tommy Thomas           1\n",
       "\n",
       "[3888 rows x 1 columns]"
      ]
     },
     "execution_count": 159,
     "metadata": {},
     "output_type": "execute_result"
    }
   ],
   "source": [
    "pd.DataFrame(df1.groupby('Player_Name')['Player_Name'].count()).rename(columns={\"Player_Name\": \"Count\"}).sort_values(by='Count',ascending=False)"
   ]
  },
  {
   "cell_type": "code",
   "execution_count": 160,
   "id": "secret-medline",
   "metadata": {},
   "outputs": [
    {
     "data": {
      "text/html": [
       "<div>\n",
       "<style scoped>\n",
       "    .dataframe tbody tr th:only-of-type {\n",
       "        vertical-align: middle;\n",
       "    }\n",
       "\n",
       "    .dataframe tbody tr th {\n",
       "        vertical-align: top;\n",
       "    }\n",
       "\n",
       "    .dataframe thead th {\n",
       "        text-align: right;\n",
       "    }\n",
       "</style>\n",
       "<table border=\"1\" class=\"dataframe\">\n",
       "  <thead>\n",
       "    <tr style=\"text-align: right;\">\n",
       "      <th></th>\n",
       "      <th>Title</th>\n",
       "      <th>Year</th>\n",
       "      <th>Unmatched</th>\n",
       "      <th>TeamName</th>\n",
       "      <th>Grader</th>\n",
       "      <th>Classifier</th>\n",
       "      <th>CardNumber</th>\n",
       "      <th>QuantityMade</th>\n",
       "      <th>Specialty</th>\n",
       "      <th>Player_Name</th>\n",
       "    </tr>\n",
       "  </thead>\n",
       "  <tbody>\n",
       "    <tr>\n",
       "      <th>0</th>\n",
       "      <td>1974 laughlin all-star games phil cavarretta #44</td>\n",
       "      <td>1974</td>\n",
       "      <td>1974 laughlin all-star games phil cavarretta #44</td>\n",
       "      <td>None</td>\n",
       "      <td>NaN</td>\n",
       "      <td>NaN</td>\n",
       "      <td>44</td>\n",
       "      <td>NaN</td>\n",
       "      <td>NaN</td>\n",
       "      <td>Phil Cavarretta</td>\n",
       "    </tr>\n",
       "    <tr>\n",
       "      <th>1</th>\n",
       "      <td>1955 bowman del crandall #217</td>\n",
       "      <td>1955</td>\n",
       "      <td>1955 bowman del crandall #217</td>\n",
       "      <td>None</td>\n",
       "      <td>NaN</td>\n",
       "      <td>NaN</td>\n",
       "      <td>217</td>\n",
       "      <td>NaN</td>\n",
       "      <td>NaN</td>\n",
       "      <td>Del Crandall</td>\n",
       "    </tr>\n",
       "    <tr>\n",
       "      <th>2</th>\n",
       "      <td>1957 topps del crandall #133</td>\n",
       "      <td>1957</td>\n",
       "      <td>1957 topps del crandall #133</td>\n",
       "      <td>None</td>\n",
       "      <td>NaN</td>\n",
       "      <td>NaN</td>\n",
       "      <td>133</td>\n",
       "      <td>NaN</td>\n",
       "      <td>NaN</td>\n",
       "      <td>Del Crandall</td>\n",
       "    </tr>\n",
       "    <tr>\n",
       "      <th>3</th>\n",
       "      <td>1995 skybox emotion timeless cal ripken jr #8 hof</td>\n",
       "      <td>1995</td>\n",
       "      <td>1995 skybox emotion timeless cal ripken jr #8 hof</td>\n",
       "      <td>None</td>\n",
       "      <td>NaN</td>\n",
       "      <td>box</td>\n",
       "      <td>8</td>\n",
       "      <td>NaN</td>\n",
       "      <td>hof</td>\n",
       "      <td>Cal Ripken</td>\n",
       "    </tr>\n",
       "    <tr>\n",
       "      <th>4</th>\n",
       "      <td>1989 st vincent rookies stamps ken griffey jr ...</td>\n",
       "      <td>1989</td>\n",
       "      <td>1989 st vincent rookies stamps ken griffey jr ...</td>\n",
       "      <td>None</td>\n",
       "      <td>NaN</td>\n",
       "      <td>NaN</td>\n",
       "      <td>NaN</td>\n",
       "      <td>NaN</td>\n",
       "      <td>rookies,hof,rookie,rookie</td>\n",
       "      <td>None</td>\n",
       "    </tr>\n",
       "    <tr>\n",
       "      <th>...</th>\n",
       "      <td>...</td>\n",
       "      <td>...</td>\n",
       "      <td>...</td>\n",
       "      <td>...</td>\n",
       "      <td>...</td>\n",
       "      <td>...</td>\n",
       "      <td>...</td>\n",
       "      <td>...</td>\n",
       "      <td>...</td>\n",
       "      <td>...</td>\n",
       "    </tr>\n",
       "    <tr>\n",
       "      <th>2293584</th>\n",
       "      <td>shohei ohtani 2019 bowman sterling black atomi...</td>\n",
       "      <td>2019</td>\n",
       "      <td>shohei ohtani 2019 bowman sterling black atomi...</td>\n",
       "      <td>None</td>\n",
       "      <td>NaN</td>\n",
       "      <td>NaN</td>\n",
       "      <td>/10</td>\n",
       "      <td>/10</td>\n",
       "      <td>auto,auto</td>\n",
       "      <td>None</td>\n",
       "    </tr>\n",
       "    <tr>\n",
       "      <th>2293585</th>\n",
       "      <td>shohei ohtani 2019 bowman sterling black atomi...</td>\n",
       "      <td>2019</td>\n",
       "      <td>shohei ohtani 2019 bowman sterling black atomi...</td>\n",
       "      <td>None</td>\n",
       "      <td>NaN</td>\n",
       "      <td>NaN</td>\n",
       "      <td>/10</td>\n",
       "      <td>/10</td>\n",
       "      <td>auto,auto</td>\n",
       "      <td>None</td>\n",
       "    </tr>\n",
       "    <tr>\n",
       "      <th>2293586</th>\n",
       "      <td>shohei ohtani 2019 bowman sterling black atomi...</td>\n",
       "      <td>2019</td>\n",
       "      <td>shohei ohtani 2019 bowman sterling black atomi...</td>\n",
       "      <td>None</td>\n",
       "      <td>NaN</td>\n",
       "      <td>NaN</td>\n",
       "      <td>/10</td>\n",
       "      <td>/10</td>\n",
       "      <td>auto,auto</td>\n",
       "      <td>None</td>\n",
       "    </tr>\n",
       "    <tr>\n",
       "      <th>2293587</th>\n",
       "      <td>shohei ohtani 2019 bowman sterling black atomi...</td>\n",
       "      <td>2019</td>\n",
       "      <td>shohei ohtani 2019 bowman sterling black atomi...</td>\n",
       "      <td>None</td>\n",
       "      <td>NaN</td>\n",
       "      <td>NaN</td>\n",
       "      <td>/10</td>\n",
       "      <td>/10</td>\n",
       "      <td>auto,auto</td>\n",
       "      <td>None</td>\n",
       "    </tr>\n",
       "    <tr>\n",
       "      <th>2293588</th>\n",
       "      <td>shohei ohtani 2019 bowman sterling black atomi...</td>\n",
       "      <td>2019</td>\n",
       "      <td>shohei ohtani 2019 bowman sterling black atomi...</td>\n",
       "      <td>None</td>\n",
       "      <td>NaN</td>\n",
       "      <td>NaN</td>\n",
       "      <td>/10</td>\n",
       "      <td>/10</td>\n",
       "      <td>auto,auto</td>\n",
       "      <td>None</td>\n",
       "    </tr>\n",
       "  </tbody>\n",
       "</table>\n",
       "<p>2293589 rows × 10 columns</p>\n",
       "</div>"
      ],
      "text/plain": [
       "                                                     Title  Year  \\\n",
       "0         1974 laughlin all-star games phil cavarretta #44  1974   \n",
       "1                            1955 bowman del crandall #217  1955   \n",
       "2                             1957 topps del crandall #133  1957   \n",
       "3        1995 skybox emotion timeless cal ripken jr #8 hof  1995   \n",
       "4        1989 st vincent rookies stamps ken griffey jr ...  1989   \n",
       "...                                                    ...   ...   \n",
       "2293584  shohei ohtani 2019 bowman sterling black atomi...  2019   \n",
       "2293585  shohei ohtani 2019 bowman sterling black atomi...  2019   \n",
       "2293586  shohei ohtani 2019 bowman sterling black atomi...  2019   \n",
       "2293587  shohei ohtani 2019 bowman sterling black atomi...  2019   \n",
       "2293588  shohei ohtani 2019 bowman sterling black atomi...  2019   \n",
       "\n",
       "                                                 Unmatched TeamName Grader  \\\n",
       "0         1974 laughlin all-star games phil cavarretta #44     None    NaN   \n",
       "1                            1955 bowman del crandall #217     None    NaN   \n",
       "2                             1957 topps del crandall #133     None    NaN   \n",
       "3        1995 skybox emotion timeless cal ripken jr #8 hof     None    NaN   \n",
       "4        1989 st vincent rookies stamps ken griffey jr ...     None    NaN   \n",
       "...                                                    ...      ...    ...   \n",
       "2293584  shohei ohtani 2019 bowman sterling black atomi...     None    NaN   \n",
       "2293585  shohei ohtani 2019 bowman sterling black atomi...     None    NaN   \n",
       "2293586  shohei ohtani 2019 bowman sterling black atomi...     None    NaN   \n",
       "2293587  shohei ohtani 2019 bowman sterling black atomi...     None    NaN   \n",
       "2293588  shohei ohtani 2019 bowman sterling black atomi...     None    NaN   \n",
       "\n",
       "        Classifier CardNumber QuantityMade                  Specialty  \\\n",
       "0              NaN         44          NaN                        NaN   \n",
       "1              NaN        217          NaN                        NaN   \n",
       "2              NaN        133          NaN                        NaN   \n",
       "3              box          8          NaN                        hof   \n",
       "4              NaN        NaN          NaN  rookies,hof,rookie,rookie   \n",
       "...            ...        ...          ...                        ...   \n",
       "2293584        NaN        /10          /10                  auto,auto   \n",
       "2293585        NaN        /10          /10                  auto,auto   \n",
       "2293586        NaN        /10          /10                  auto,auto   \n",
       "2293587        NaN        /10          /10                  auto,auto   \n",
       "2293588        NaN        /10          /10                  auto,auto   \n",
       "\n",
       "             Player_Name  \n",
       "0        Phil Cavarretta  \n",
       "1           Del Crandall  \n",
       "2           Del Crandall  \n",
       "3             Cal Ripken  \n",
       "4                   None  \n",
       "...                  ...  \n",
       "2293584             None  \n",
       "2293585             None  \n",
       "2293586             None  \n",
       "2293587             None  \n",
       "2293588             None  \n",
       "\n",
       "[2293589 rows x 10 columns]"
      ]
     },
     "execution_count": 160,
     "metadata": {},
     "output_type": "execute_result"
    }
   ],
   "source": [
    "df1"
   ]
  },
  {
   "cell_type": "code",
   "execution_count": 161,
   "id": "negative-eating",
   "metadata": {},
   "outputs": [
    {
     "data": {
      "text/plain": [
       "0.3324845907440261"
      ]
     },
     "execution_count": 161,
     "metadata": {},
     "output_type": "execute_result"
    }
   ],
   "source": [
    "df1['Player_Name'].isnull().sum()/len(df1)"
   ]
  },
  {
   "cell_type": "markdown",
   "id": "funky-editing",
   "metadata": {},
   "source": [
    "# Manufcturer"
   ]
  },
  {
   "cell_type": "code",
   "execution_count": 162,
   "id": "complex-exhaust",
   "metadata": {},
   "outputs": [
    {
     "name": "stdout",
     "output_type": "stream",
     "text": [
      "443\n",
      "443\n"
     ]
    }
   ],
   "source": [
    "manufacturer=pd.read_csv(r'Sports_Cards_Keywords_Manufacturer.csv')\n",
    "# manufacturer dictinoary\n",
    "manufacturer = manufacturer.set_index('How It Appears').to_dict()['Manufacturuer']\n",
    "print(len(manufacturer))\n",
    "manufacturer_dict = {}\n",
    "for key,val in manufacturer.items():\n",
    "    if \"|\" in key:\n",
    "        keys = key.split('|')\n",
    "        for i in keys:\n",
    "            manufacturer_dict[i.lower()] = val\n",
    "    else:\n",
    "        manufacturer_dict[key.lower()] = val\n",
    "print(len(manufacturer))"
   ]
  },
  {
   "cell_type": "code",
   "execution_count": 163,
   "id": "entitled-constitution",
   "metadata": {},
   "outputs": [],
   "source": [
    "manufacturer_list = list(manufacturer_dict.keys())\n",
    "manufacturer_list = set(manufacturer_list)"
   ]
  },
  {
   "cell_type": "code",
   "execution_count": 164,
   "id": "excellent-technology",
   "metadata": {},
   "outputs": [],
   "source": [
    "def manufacturer_detect(x):\n",
    "    res = \"\"\n",
    "    for i in x.split(\" \"):\n",
    "        if i in manufacturer_list:\n",
    "            res = res + i + \",\"\n",
    "    if res:\n",
    "        return res\n",
    "    else:\n",
    "        return np.NaN"
   ]
  },
  {
   "cell_type": "code",
   "execution_count": 165,
   "id": "sustained-range",
   "metadata": {},
   "outputs": [],
   "source": [
    "df1['Manufacturer']=df1['Unmatched'].apply(lambda x: manufacturer_detect(x))"
   ]
  },
  {
   "cell_type": "code",
   "execution_count": 166,
   "id": "funded-guidance",
   "metadata": {},
   "outputs": [
    {
     "data": {
      "text/plain": [
       "0.06870760192868033"
      ]
     },
     "execution_count": 166,
     "metadata": {},
     "output_type": "execute_result"
    }
   ],
   "source": [
    "df1['Manufacturer'].isnull().sum()/len(df1)"
   ]
  },
  {
   "cell_type": "markdown",
   "id": "dental-trainer",
   "metadata": {},
   "source": [
    "# Rating"
   ]
  },
  {
   "cell_type": "code",
   "execution_count": 167,
   "id": "amino-desperate",
   "metadata": {},
   "outputs": [
    {
     "name": "stdout",
     "output_type": "stream",
     "text": [
      "75\n",
      "75\n"
     ]
    }
   ],
   "source": [
    "rating=pd.read_csv(r'Sports_Cards_Keywords_Grade.csv')\n",
    "# manufacturer dictinoary\n",
    "rating = rating.set_index('How It May Appear').to_dict()['Grade']\n",
    "print(len(rating))\n",
    "rating_dict = {}\n",
    "for key,val in rating.items():\n",
    "    if \"|\" in key:\n",
    "        keys = key.split('|')\n",
    "        for i in keys:\n",
    "            rating_dict[i.lower()] = val\n",
    "    else:\n",
    "        rating_dict[key.lower()] = val\n",
    "print(len(rating))"
   ]
  },
  {
   "cell_type": "code",
   "execution_count": 168,
   "id": "married-northwest",
   "metadata": {},
   "outputs": [
    {
     "name": "stdout",
     "output_type": "stream",
     "text": [
      "1581\n"
     ]
    }
   ],
   "source": [
    "print(len(rating_dict))\n",
    "rating_list = list(rating_dict.keys())\n",
    "rating_list.sort(reverse=True)"
   ]
  },
  {
   "cell_type": "code",
   "execution_count": 169,
   "id": "lined-harrison",
   "metadata": {},
   "outputs": [],
   "source": [
    "def rating_detect(x):\n",
    "    for i in rating_list:\n",
    "        if i in x:\n",
    "            return i"
   ]
  },
  {
   "cell_type": "code",
   "execution_count": 170,
   "id": "apparent-poverty",
   "metadata": {},
   "outputs": [],
   "source": [
    "df1['Rating']=df1['Title'].apply(lambda x: rating_detect(x))"
   ]
  },
  {
   "cell_type": "code",
   "execution_count": 171,
   "id": "hispanic-electricity",
   "metadata": {},
   "outputs": [
    {
     "data": {
      "text/plain": [
       "0.6437587553829391"
      ]
     },
     "execution_count": 171,
     "metadata": {},
     "output_type": "execute_result"
    }
   ],
   "source": [
    "df1['Rating'].isnull().sum()/len(df1)"
   ]
  },
  {
   "cell_type": "markdown",
   "id": "fresh-romania",
   "metadata": {},
   "source": [
    "# Matching"
   ]
  },
  {
   "cell_type": "code",
   "execution_count": 172,
   "id": "increasing-attention",
   "metadata": {},
   "outputs": [],
   "source": [
    "def manufacturer_unmatched(x):\n",
    "    if isinstance(x['Manufacturer'],str):\n",
    "        dummy = x['Unmatched']\n",
    "        manufacturer = x['Manufacturer'].split(',')\n",
    "        while(\"\" in manufacturer): \n",
    "            manufacturer.remove(\"\")\n",
    "        for i in manufacturer:\n",
    "            dummy = dummy.replace(i,\"\")\n",
    "        return dummy \n",
    "    else:\n",
    "        return x['Unmatched']"
   ]
  },
  {
   "cell_type": "code",
   "execution_count": 173,
   "id": "pressing-serial",
   "metadata": {},
   "outputs": [],
   "source": [
    "df1['Unmatched']=df1.apply(lambda x: manufacturer_unmatched(x),axis = 1)"
   ]
  },
  {
   "cell_type": "code",
   "execution_count": 174,
   "id": "plastic-society",
   "metadata": {},
   "outputs": [],
   "source": [
    "def rating_unmatched(x):\n",
    "    if isinstance(x['Rating'],str):\n",
    "        dummy = x['Unmatched']\n",
    "        dummy = dummy.replace(x['Rating'],\"\")\n",
    "        return dummy\n",
    "    else:\n",
    "        return x['Unmatched']"
   ]
  },
  {
   "cell_type": "code",
   "execution_count": 175,
   "id": "completed-anthropology",
   "metadata": {},
   "outputs": [],
   "source": [
    "df1['Unmatched']=df1.apply(lambda x: rating_unmatched(x),axis = 1)"
   ]
  },
  {
   "cell_type": "code",
   "execution_count": 176,
   "id": "mysterious-container",
   "metadata": {},
   "outputs": [],
   "source": [
    "def else_unmatched(x):\n",
    "    y = x['Unmatched']\n",
    "    if isinstance(x['Player_Name'],str):\n",
    "        name = x['Player_Name'].lower()\n",
    "        y = y.replace(name,\"\")\n",
    "    if isinstance(x['Year'],str):\n",
    "        year = x['Year'].lower()\n",
    "        y = y.replace(year,\"\")\n",
    "    if isinstance(x['Specialty'],str):\n",
    "        specialty = x['Specialty'].lower().split(',')\n",
    "        for i in specialty:\n",
    "            y = y.replace(i,\"\")\n",
    "    if isinstance(x['Classifier'],str):\n",
    "        classifiers = x['Classifier'].lower()\n",
    "        y = y.replace(classifiers,\"\")\n",
    "    if isinstance(x['QuantityMade'],str):\n",
    "        quantity_made = x['QuantityMade'].lower()\n",
    "        y = y.replace(quantity_made,\"\")\n",
    "        if \"/\" in y:\n",
    "            y = y.replace(\"/\",\"\")\n",
    "    if isinstance(x['Grader'],str):\n",
    "        garder = x['Grader'].lower()\n",
    "        y = y.replace(garder,\"\")\n",
    "    if isinstance(x['CardNumber'],str):\n",
    "        card_number = x['CardNumber'].lower()\n",
    "        y = y.replace(card_number,\"\")\n",
    "        if \"#\" in y:\n",
    "            y = y.replace(\"#\",\"\")\n",
    "    if isinstance(x['TeamName'],str):\n",
    "        team_name = x['TeamName'].lower()\n",
    "        y = y.replace(team_name,\"\")\n",
    "    return y"
   ]
  },
  {
   "cell_type": "code",
   "execution_count": null,
   "id": "configured-inside",
   "metadata": {},
   "outputs": [],
   "source": [
    "df1['Unmatched']=df1.apply(lambda x: else_unmatched(x),axis = 1)"
   ]
  },
  {
   "cell_type": "code",
   "execution_count": null,
   "id": "theoretical-tsunami",
   "metadata": {},
   "outputs": [],
   "source": [
    "def unmatched_trim(x):\n",
    "    strings = x['Unmatched'].strip().split(' ')\n",
    "    res = ' '.join([x for x in strings if x])\n",
    "    return res"
   ]
  },
  {
   "cell_type": "code",
   "execution_count": null,
   "id": "continuing-scheme",
   "metadata": {},
   "outputs": [],
   "source": [
    "df1['Unmatched']=df1.apply(lambda x: unmatched_trim(x),axis = 1)"
   ]
  },
  {
   "cell_type": "code",
   "execution_count": null,
   "id": "opened-mongolia",
   "metadata": {},
   "outputs": [],
   "source": [
    "# !pip install nltk\n",
    "import nltk\n",
    "from nltk.tokenize import word_tokenize\n",
    "from nltk.tokenize import sent_tokenize\n",
    "from nltk.probability import FreqDist\n",
    "from nltk.corpus import stopwords\n",
    "from collections import OrderedDict\n",
    "nltk.download('punkt')\n",
    "words_list = df1['Unmatched'].values.tolist()\n",
    "striptext = \" \".join(words_list)\n",
    "words = word_tokenize(striptext)\n",
    "lowercase_words = [word.lower() for word in words]\n",
    "word_frequencies = FreqDist(lowercase_words)\n",
    "most_frequent_words = FreqDist(lowercase_words).most_common(10000)\n",
    "print(most_frequent_words)"
   ]
  },
  {
   "cell_type": "code",
   "execution_count": null,
   "id": "extended-holiday",
   "metadata": {},
   "outputs": [],
   "source": [
    "import nltk\n",
    "from nltk.tag import StanfordNERTagger\n",
    "from nltk.tokenize import word_tokenize\n",
    "\n",
    "st = StanfordNERTagger('english.all.3class.distsim.crf.ser.gz','stanford-ner-4.2.0.jar',encoding='utf-8')\n",
    "def person2(text):\n",
    "    for sent in nltk.sent_tokenize(text):\n",
    "        tokens = nltk.tokenize.word_tokenize(sent)\n",
    "        tags = st.tag(tokens)\n",
    "        res = \"\"\n",
    "        for tag in tags:\n",
    "            if tag[1]=='PERSON':\n",
    "                res = res + \" \"+ tag[0]\n",
    "    return res.strip()"
   ]
  },
  {
   "cell_type": "code",
   "execution_count": null,
   "id": "checked-makeup",
   "metadata": {},
   "outputs": [],
   "source": [
    "undetect_name_text= [i[0] for i in most_frequent_words]\n",
    "undetect_name_text = \" \".join(undetect_name_text)\n",
    "undetected_name = person2(undetect_name_text).split(' ')\n",
    "undetected_name.extend([\"ken\",\"griffey\",\"allen\",\"ginter\",\"ohtani\",\"shohei\",\n",
    "                          \"alvarez\",\"franco\",\"lewis\",\"jim\",\n",
    "                          \"al\",\"nick\",\"kyle\",\"yordan\",\"gavin\",\"mike\",\"dominguez\",\n",
    "                          \"rodriguez\",\"jasson\",\"john\",\"ryan\",\"andrew\",\"alex\",\"diego\",\"mckenzie\",\n",
    "                           \"carlson\",\"howard\",\"zac\",\"bryan\",\"clarke\",\"adams\",\"brian\",\"pearson\",\n",
    "                          \"alexander\",\"andy\",\"perez\",\"chuck\",\"mackenzie\",\"hernandez\",\"andres\",'anderson',\n",
    "                          \"matthew\",\"kopech\",\"rosario\",\"stewart\",\"marte\",\"lee\",\"brandon\",'dalquist',\n",
    "                           \"triston\",\"tim\",'dylan','larry','martin','derek','pete','abrams','foli',\n",
    "                     'jamieson','jimenez','amethyst','charley','alston','christin', 'kershaw','luke',\n",
    "                        'sullivan', 'dustin','shane','bush','ryne', 'mccarthy', 'alec', 'willi','hunter',\n",
    "                        'samuel','dawson','kelley','jimmie','yogi','tj','rutledge','leo','johnstone',\n",
    "                        'eli','giles','varsho','ronaldo','mcconnell','sonny','evan','devin','medina',\n",
    "                        'yoshitomo','kindall','herrnstein','dempsey','clayton','connell','levi',\n",
    "                        'derrell','jahmai','marvin','blaylock','joba','lincoln','seth','delvin','scioscia',\n",
    "                        'kenny','kenney','donald','ismael','locke','opitz','janowicz','dereck','burbrink',\n",
    "                        'blackmon','leron','cade','bieber','lehner','jonathon','kuhn','dahl','jonatan',\n",
    "                        'jurado','dirk','steiner','kaminsky','dana','dubiel','franklyn','poppel','garko',\n",
    "                        'adon','jaeckel','quinton','mccracken','ackley','peter','senzel','mason','ferrara',\n",
    "                       'wander','lux','matt','wallner','spangler','julio','wright','friday','verdugo'])\n"
   ]
  },
  {
   "cell_type": "code",
   "execution_count": null,
   "id": "massive-stick",
   "metadata": {},
   "outputs": [],
   "source": [
    "undetected_name = set(undetected_name)\n",
    "def person_left(x):\n",
    "    res = \"\"\n",
    "    for i in x['Unmatched'].split(\" \"):\n",
    "        if i in undetected_name:\n",
    "            res = res +\" \"+ i\n",
    "    if x['Player_Name']:\n",
    "        res = x['Player_Name']+\",\"+res.strip()\n",
    "        return res\n",
    "    elif (not x['Player_Name']) and res:\n",
    "        return res.strip()\n",
    "    else:\n",
    "        return np.NaN"
   ]
  },
  {
   "cell_type": "code",
   "execution_count": null,
   "id": "missing-military",
   "metadata": {},
   "outputs": [],
   "source": [
    "df1['Player_Name'] = df1.apply(lambda x:person_left(x),axis = 1)"
   ]
  },
  {
   "cell_type": "code",
   "execution_count": null,
   "id": "exterior-british",
   "metadata": {},
   "outputs": [],
   "source": [
    "df1['Player_Name'].isnull().sum()/len(df1)"
   ]
  },
  {
   "cell_type": "code",
   "execution_count": null,
   "id": "electric-onion",
   "metadata": {},
   "outputs": [],
   "source": [
    "def num_words_unmatched(x):\n",
    "    y = x.split(' ')\n",
    "    while(\"\" in y): \n",
    "        y.remove(\"\")\n",
    "    if y:\n",
    "        return len(y)\n",
    "    else:\n",
    "        return 0"
   ]
  },
  {
   "cell_type": "code",
   "execution_count": null,
   "id": "equipped-trailer",
   "metadata": {},
   "outputs": [],
   "source": [
    "def cal_matched_percentage(x):\n",
    "    if x['num_words_unmatched'] == 0:\n",
    "        return 1\n",
    "    else:\n",
    "        return 1-(x['num_words_unmatched']/x['num_words_title'])"
   ]
  },
  {
   "cell_type": "code",
   "execution_count": null,
   "id": "included-nigeria",
   "metadata": {},
   "outputs": [],
   "source": [
    "df1['Unmatched']=df1.apply(lambda x: else_unmatched(x),axis = 1)"
   ]
  },
  {
   "cell_type": "code",
   "execution_count": null,
   "id": "photographic-zealand",
   "metadata": {},
   "outputs": [],
   "source": [
    "df1['Unmatched']=df1.apply(lambda x: unmatched_trim(x),axis = 1)"
   ]
  },
  {
   "cell_type": "code",
   "execution_count": null,
   "id": "final-magazine",
   "metadata": {},
   "outputs": [],
   "source": [
    "most_frequent_words = FreqDist(lowercase_words).most_common(200)\n",
    "junk_words = [i[0] for i in most_frequent_words]\n",
    "junk_words = set(junk_words)\n",
    "def match_junks(x):\n",
    "    res = \"\"\n",
    "    for i in x.split(' '):\n",
    "        if i in junk_words:\n",
    "            res = res+\" \"+i\n",
    "    if res:\n",
    "        return res.strip()\n",
    "    else:\n",
    "        return np.NaN"
   ]
  },
  {
   "cell_type": "code",
   "execution_count": null,
   "id": "every-rubber",
   "metadata": {},
   "outputs": [],
   "source": [
    "df1['Junks']=df1['Unmatched'].apply(lambda x: match_junks(x))"
   ]
  },
  {
   "cell_type": "code",
   "execution_count": null,
   "id": "fixed-physics",
   "metadata": {},
   "outputs": [],
   "source": [
    "df1"
   ]
  },
  {
   "cell_type": "code",
   "execution_count": null,
   "id": "arranged-finger",
   "metadata": {},
   "outputs": [],
   "source": [
    "def replace_junks(x):\n",
    "    res = x['Unmatched']\n",
    "    if isinstance(x['Junks'],str):\n",
    "        for i in x['Junks'].split(' '):\n",
    "            if i in res:\n",
    "                res = res.replace(i,\"\")\n",
    "    return res"
   ]
  },
  {
   "cell_type": "code",
   "execution_count": null,
   "id": "legal-savannah",
   "metadata": {},
   "outputs": [],
   "source": [
    "df1['Unmatched']=df1.apply(lambda x: replace_junks(x),axis = 1)"
   ]
  },
  {
   "cell_type": "markdown",
   "id": "least-semester",
   "metadata": {},
   "source": [
    "# Calculating Stats"
   ]
  },
  {
   "cell_type": "code",
   "execution_count": null,
   "id": "unusual-invalid",
   "metadata": {},
   "outputs": [],
   "source": [
    "df1['Unmatched']=df1.apply(lambda x: unmatched_trim(x),axis = 1)"
   ]
  },
  {
   "cell_type": "code",
   "execution_count": null,
   "id": "amino-wiring",
   "metadata": {},
   "outputs": [],
   "source": [
    "df1['num_words_unmatched']=df1['Unmatched'].apply(lambda x: num_words_unmatched(x))"
   ]
  },
  {
   "cell_type": "code",
   "execution_count": null,
   "id": "noble-enough",
   "metadata": {},
   "outputs": [],
   "source": [
    "df1['num_words_title']=df1['Title'].apply(lambda x: len(x.split(' ')))"
   ]
  },
  {
   "cell_type": "code",
   "execution_count": null,
   "id": "neither-shareware",
   "metadata": {},
   "outputs": [],
   "source": [
    "df1['matched_percentage']=df1.apply(lambda x: cal_matched_percentage(x),axis = 1)"
   ]
  },
  {
   "cell_type": "code",
   "execution_count": null,
   "id": "round-parliament",
   "metadata": {},
   "outputs": [],
   "source": [
    "df1['matched_percentage'].mean()"
   ]
  },
  {
   "cell_type": "code",
   "execution_count": null,
   "id": "alien-triumph",
   "metadata": {},
   "outputs": [],
   "source": [
    "def manufacturer_back(x):\n",
    "    if isinstance(x,str):\n",
    "        arr = x.split(',')\n",
    "        res = \"\"\n",
    "        while(\"\" in arr) : \n",
    "            arr.remove(\"\")\n",
    "        while(\" \" in arr) : \n",
    "            arr.remove(\" \")\n",
    "        for i in arr:\n",
    "            res = res + \" \"+ manufacturer_dict[i.strip()]\n",
    "        return res\n",
    "    else:\n",
    "        return np.NaN"
   ]
  },
  {
   "cell_type": "code",
   "execution_count": null,
   "id": "animal-price",
   "metadata": {},
   "outputs": [],
   "source": [
    "def rating_back(x):\n",
    "    if isinstance(x,str):\n",
    "        return rating_dict[x]\n",
    "    else:\n",
    "        return np.NaN"
   ]
  },
  {
   "cell_type": "code",
   "execution_count": null,
   "id": "rising-morrison",
   "metadata": {},
   "outputs": [],
   "source": [
    "def lower_back(x):\n",
    "    if isinstance(x,str):\n",
    "        return x.lower()\n",
    "    else:\n",
    "        return np.NaN"
   ]
  },
  {
   "cell_type": "code",
   "execution_count": null,
   "id": "later-cycling",
   "metadata": {},
   "outputs": [],
   "source": [
    "df1['Manufacturer']=df1['Manufacturer'].apply(lambda x: manufacturer_back(x))\n",
    "df1['Rating'] = df1['Rating'].apply(lambda x: rating_back(x)) "
   ]
  },
  {
   "cell_type": "code",
   "execution_count": null,
   "id": "exterior-diagram",
   "metadata": {},
   "outputs": [],
   "source": [
    "# df1['Specialty']=df1['Specialty'].str.upper()\n",
    "# df1['Classifier']=df1['Classifier'].str.capitalize()\n",
    "# df1['Grader']=df1['Grader'].str.upper()"
   ]
  },
  {
   "cell_type": "code",
   "execution_count": null,
   "id": "alien-respondent",
   "metadata": {},
   "outputs": [],
   "source": []
  },
  {
   "cell_type": "code",
   "execution_count": null,
   "id": "young-stereo",
   "metadata": {},
   "outputs": [],
   "source": [
    "df1.to_csv('baseball_df.csv', index=False)"
   ]
  }
 ],
 "metadata": {
  "kernelspec": {
   "display_name": "Python 3",
   "language": "python",
   "name": "python3"
  },
  "language_info": {
   "codemirror_mode": {
    "name": "ipython",
    "version": 3
   },
   "file_extension": ".py",
   "mimetype": "text/x-python",
   "name": "python",
   "nbconvert_exporter": "python",
   "pygments_lexer": "ipython3",
   "version": "3.7.9"
  }
 },
 "nbformat": 4,
 "nbformat_minor": 5
}
