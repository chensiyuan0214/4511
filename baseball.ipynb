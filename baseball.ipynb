{
 "cells": [
  {
   "cell_type": "code",
   "execution_count": 1,
   "id": "violent-capability",
   "metadata": {},
   "outputs": [],
   "source": [
    "import pandas as pd\n",
    "import numpy as np\n",
    "df=pd.read_csv(r'baseball.csv')"
   ]
  },
  {
   "cell_type": "code",
   "execution_count": 2,
   "id": "brave-terrorist",
   "metadata": {},
   "outputs": [
    {
     "data": {
      "text/plain": [
       "Index(['Title'], dtype='object')"
      ]
     },
     "execution_count": 2,
     "metadata": {},
     "output_type": "execute_result"
    }
   ],
   "source": [
    "df.columns"
   ]
  },
  {
   "cell_type": "code",
   "execution_count": 3,
   "id": "nervous-waste",
   "metadata": {},
   "outputs": [
    {
     "name": "stdout",
     "output_type": "stream",
     "text": [
      "Index([], dtype='object')\n"
     ]
    }
   ],
   "source": [
    "df1=pd.DataFrame()\n",
    "print(df1.columns)\n",
    "df1['Title']=df['Title'].apply(lambda x:x.lower())\n",
    "df1['Year']=df1['Title'].str.extract( \"(\\d{4})\",expand=False ).str.strip()\n",
    "# df1['Year].isnull().values.any()   #True\n",
    "# df1['Year'].isnull().values.sum()  #7163\n",
    "# perc_year_na=7163/len(df)          #0.3%"
   ]
  },
  {
   "cell_type": "code",
   "execution_count": 4,
   "id": "tested-singles",
   "metadata": {},
   "outputs": [],
   "source": [
    "df1[\"Unmatched\"] = df1['Title'].apply(lambda x: x.lower())"
   ]
  },
  {
   "cell_type": "code",
   "execution_count": 5,
   "id": "stretch-secretary",
   "metadata": {},
   "outputs": [],
   "source": [
    "TeamName=['Braves','Marlins','Mets','Phillies','Nationals','Cubs','Reds','Brewers','Pirates','Cardinals','Diamondbacks',\n",
    "'Rockies','Dodgers','Padres','Giants','Orioles','Red Sox','Yankees','Rays','Blue Jays','White Sox','Indians',\n",
    "'Tigers','Royals','Twins','Astros','Angels','Athletics','Mariners','Ranger','yankees','Red Stocking','White Stocking','Brown Stocking','Greys','Browns',\n",
    "'Bees','Redlegs','Beaneaters','Brewers','Senators','Robins','Doves','Rustlers','Orphans','Naps','Hightlanders','Colts','Americans','Bridgerooms','Superbas',\n",
    "'Perfectos',\"Chiefs\",\"Sting\",\"Sting\",\"Mustangs\",\"Generals\",\"Black Sox\",\"Admirals\",\"Renegades\",\"Capitals\",\"Selects\",\"Predators\",\"Heat\",\"Smoke\",\"Aces\",\n",
    "\"Reapers\",\"Gremlins\",\"Gators\",\"Axemen\",\"Falcons\",\"Monsters\",\"Legends\",\"Dukes\",\"Hammer\",\"Outlaws\",\"Redmen\",\"Stix\",\"Force\",\"Merchants\",\"Bandits\",\"Hawks\",\"Knights\"\n",
    ",\"Bullets\",\"Deuces\",\"Jacks\",\"Diamond Jaxx\",\"K-Men\",\"Magicians\",\"Sluggers\",\"Chuckers\",\"Fireballers\",\"Phantoms\",\"Matadors\",\"Sharks\"\n",
    ",\"Bulls\",\"Hounds\",\"Wildcats\",\"Kraken\",\"Kolts\",\"Blaze\",\"Kings\",\"Classics\",\"Klassics\"]\n",
    "TeamName = [i.lower() for i in TeamName]"
   ]
  },
  {
   "cell_type": "code",
   "execution_count": 6,
   "id": "following-catch",
   "metadata": {},
   "outputs": [],
   "source": [
    "def team_name_extract(x):\n",
    "    for i in TeamName:\n",
    "        if i in x.lower():\n",
    "            return i"
   ]
  },
  {
   "cell_type": "code",
   "execution_count": 7,
   "id": "younger-lodge",
   "metadata": {},
   "outputs": [
    {
     "data": {
      "text/plain": [
       "0.7632527013340228"
      ]
     },
     "execution_count": 7,
     "metadata": {},
     "output_type": "execute_result"
    }
   ],
   "source": [
    "df1['TeamName']=df1['Title'].apply(lambda x:team_name_extract(x))\n",
    "df1['TeamName'].isnull().values.sum()/len(df) #missing 95% team name is not a frequently used key words in basketball cards"
   ]
  },
  {
   "cell_type": "code",
   "execution_count": 8,
   "id": "seeing-jurisdiction",
   "metadata": {},
   "outputs": [
    {
     "data": {
      "text/html": [
       "<div>\n",
       "<style scoped>\n",
       "    .dataframe tbody tr th:only-of-type {\n",
       "        vertical-align: middle;\n",
       "    }\n",
       "\n",
       "    .dataframe tbody tr th {\n",
       "        vertical-align: top;\n",
       "    }\n",
       "\n",
       "    .dataframe thead th {\n",
       "        text-align: right;\n",
       "    }\n",
       "</style>\n",
       "<table border=\"1\" class=\"dataframe\">\n",
       "  <thead>\n",
       "    <tr style=\"text-align: right;\">\n",
       "      <th></th>\n",
       "      <th>Count</th>\n",
       "    </tr>\n",
       "    <tr>\n",
       "      <th>TeamName</th>\n",
       "      <th></th>\n",
       "    </tr>\n",
       "  </thead>\n",
       "  <tbody>\n",
       "    <tr>\n",
       "      <th>yankees</th>\n",
       "      <td>59546</td>\n",
       "    </tr>\n",
       "    <tr>\n",
       "      <th>braves</th>\n",
       "      <td>45615</td>\n",
       "    </tr>\n",
       "    <tr>\n",
       "      <th>dodgers</th>\n",
       "      <td>32538</td>\n",
       "    </tr>\n",
       "    <tr>\n",
       "      <th>angels</th>\n",
       "      <td>29931</td>\n",
       "    </tr>\n",
       "    <tr>\n",
       "      <th>mets</th>\n",
       "      <td>21501</td>\n",
       "    </tr>\n",
       "    <tr>\n",
       "      <th>...</th>\n",
       "      <td>...</td>\n",
       "    </tr>\n",
       "    <tr>\n",
       "      <th>merchants</th>\n",
       "      <td>5</td>\n",
       "    </tr>\n",
       "    <tr>\n",
       "      <th>hounds</th>\n",
       "      <td>4</td>\n",
       "    </tr>\n",
       "    <tr>\n",
       "      <th>diamond jaxx</th>\n",
       "      <td>3</td>\n",
       "    </tr>\n",
       "    <tr>\n",
       "      <th>deuces</th>\n",
       "      <td>2</td>\n",
       "    </tr>\n",
       "    <tr>\n",
       "      <th>beaneaters</th>\n",
       "      <td>1</td>\n",
       "    </tr>\n",
       "  </tbody>\n",
       "</table>\n",
       "<p>81 rows × 1 columns</p>\n",
       "</div>"
      ],
      "text/plain": [
       "              Count\n",
       "TeamName           \n",
       "yankees       59546\n",
       "braves        45615\n",
       "dodgers       32538\n",
       "angels        29931\n",
       "mets          21501\n",
       "...             ...\n",
       "merchants         5\n",
       "hounds            4\n",
       "diamond jaxx      3\n",
       "deuces            2\n",
       "beaneaters        1\n",
       "\n",
       "[81 rows x 1 columns]"
      ]
     },
     "execution_count": 8,
     "metadata": {},
     "output_type": "execute_result"
    }
   ],
   "source": [
    "pd.DataFrame(df1.groupby('TeamName')['TeamName'].count()).rename(columns={\"TeamName\": \"Count\"}).sort_values(by='Count',ascending=False)"
   ]
  },
  {
   "cell_type": "markdown",
   "id": "acting-engagement",
   "metadata": {},
   "source": [
    "# Professional Grader"
   ]
  },
  {
   "cell_type": "code",
   "execution_count": 9,
   "id": "portable-gospel",
   "metadata": {},
   "outputs": [],
   "source": [
    "df1['Grader']=df1['Title'].str.extract(r'(psa|bgs|sgc|bvg|bccg|scd|gai|sgv)',expand=True)\n",
    "#df1['Grader']=df1['Grader'].str.upper()"
   ]
  },
  {
   "cell_type": "code",
   "execution_count": 10,
   "id": "premier-bearing",
   "metadata": {},
   "outputs": [
    {
     "data": {
      "text/html": [
       "<div>\n",
       "<style scoped>\n",
       "    .dataframe tbody tr th:only-of-type {\n",
       "        vertical-align: middle;\n",
       "    }\n",
       "\n",
       "    .dataframe tbody tr th {\n",
       "        vertical-align: top;\n",
       "    }\n",
       "\n",
       "    .dataframe thead th {\n",
       "        text-align: right;\n",
       "    }\n",
       "</style>\n",
       "<table border=\"1\" class=\"dataframe\">\n",
       "  <thead>\n",
       "    <tr style=\"text-align: right;\">\n",
       "      <th></th>\n",
       "      <th>Count</th>\n",
       "    </tr>\n",
       "    <tr>\n",
       "      <th>Grader</th>\n",
       "      <th></th>\n",
       "    </tr>\n",
       "  </thead>\n",
       "  <tbody>\n",
       "    <tr>\n",
       "      <th>psa</th>\n",
       "      <td>374586</td>\n",
       "    </tr>\n",
       "    <tr>\n",
       "      <th>bgs</th>\n",
       "      <td>89750</td>\n",
       "    </tr>\n",
       "    <tr>\n",
       "      <th>sgc</th>\n",
       "      <td>14679</td>\n",
       "    </tr>\n",
       "    <tr>\n",
       "      <th>bvg</th>\n",
       "      <td>3815</td>\n",
       "    </tr>\n",
       "    <tr>\n",
       "      <th>bccg</th>\n",
       "      <td>1814</td>\n",
       "    </tr>\n",
       "    <tr>\n",
       "      <th>gai</th>\n",
       "      <td>894</td>\n",
       "    </tr>\n",
       "    <tr>\n",
       "      <th>scd</th>\n",
       "      <td>78</td>\n",
       "    </tr>\n",
       "  </tbody>\n",
       "</table>\n",
       "</div>"
      ],
      "text/plain": [
       "         Count\n",
       "Grader        \n",
       "psa     374586\n",
       "bgs      89750\n",
       "sgc      14679\n",
       "bvg       3815\n",
       "bccg      1814\n",
       "gai        894\n",
       "scd         78"
      ]
     },
     "execution_count": 10,
     "metadata": {},
     "output_type": "execute_result"
    }
   ],
   "source": [
    "pd.DataFrame(df1.groupby('Grader')['Grader'].count()).rename(columns={\"Grader\": \"Count\"}).sort_values(by='Count',ascending=False)"
   ]
  },
  {
   "cell_type": "markdown",
   "id": "sealed-carolina",
   "metadata": {},
   "source": [
    "# Classifier"
   ]
  },
  {
   "cell_type": "code",
   "execution_count": 11,
   "id": "developed-priority",
   "metadata": {},
   "outputs": [],
   "source": [
    "df1['Classifier']=df1['Title'].str.extract(r'(single|lot|set|box|pack|team set|uncut sheet|box&case breaks|cello|booklet)',expand=True)\n",
    "#df1['Classifier']=df1['Classifier'].str.capitalize()"
   ]
  },
  {
   "cell_type": "code",
   "execution_count": 12,
   "id": "lined-stupid",
   "metadata": {},
   "outputs": [],
   "source": [
    "# df1['Classifier']=df['Title'].str.extract(r'(Single|Lot|Set|Box|Pack|Team Set|Uncut Sheet|Box&Case Breaks|Cello|single|lot|set|box|pack|team set|uncut sheet|box&case breaks|cello|SINGLE|LOT|SET|BOX|PACK|TEAM SET|UNCUT SHEET|BOX&CASE BREAKS|CELLO)',expand=True)\n",
    "# df1['Classifier']=df1['Classifier'].str.capitalize()"
   ]
  },
  {
   "cell_type": "code",
   "execution_count": 13,
   "id": "italic-outdoors",
   "metadata": {},
   "outputs": [
    {
     "data": {
      "text/html": [
       "<div>\n",
       "<style scoped>\n",
       "    .dataframe tbody tr th:only-of-type {\n",
       "        vertical-align: middle;\n",
       "    }\n",
       "\n",
       "    .dataframe tbody tr th {\n",
       "        vertical-align: top;\n",
       "    }\n",
       "\n",
       "    .dataframe thead th {\n",
       "        text-align: right;\n",
       "    }\n",
       "</style>\n",
       "<table border=\"1\" class=\"dataframe\">\n",
       "  <thead>\n",
       "    <tr style=\"text-align: right;\">\n",
       "      <th></th>\n",
       "      <th>Count</th>\n",
       "    </tr>\n",
       "    <tr>\n",
       "      <th>Classifier</th>\n",
       "      <th></th>\n",
       "    </tr>\n",
       "  </thead>\n",
       "  <tbody>\n",
       "    <tr>\n",
       "      <th>lot</th>\n",
       "      <td>140995</td>\n",
       "    </tr>\n",
       "    <tr>\n",
       "      <th>box</th>\n",
       "      <td>69187</td>\n",
       "    </tr>\n",
       "    <tr>\n",
       "      <th>set</th>\n",
       "      <td>52238</td>\n",
       "    </tr>\n",
       "    <tr>\n",
       "      <th>pack</th>\n",
       "      <td>14242</td>\n",
       "    </tr>\n",
       "    <tr>\n",
       "      <th>team set</th>\n",
       "      <td>5975</td>\n",
       "    </tr>\n",
       "    <tr>\n",
       "      <th>single</th>\n",
       "      <td>4025</td>\n",
       "    </tr>\n",
       "    <tr>\n",
       "      <th>booklet</th>\n",
       "      <td>2798</td>\n",
       "    </tr>\n",
       "    <tr>\n",
       "      <th>cello</th>\n",
       "      <td>890</td>\n",
       "    </tr>\n",
       "    <tr>\n",
       "      <th>uncut sheet</th>\n",
       "      <td>85</td>\n",
       "    </tr>\n",
       "  </tbody>\n",
       "</table>\n",
       "</div>"
      ],
      "text/plain": [
       "              Count\n",
       "Classifier         \n",
       "lot          140995\n",
       "box           69187\n",
       "set           52238\n",
       "pack          14242\n",
       "team set       5975\n",
       "single         4025\n",
       "booklet        2798\n",
       "cello           890\n",
       "uncut sheet      85"
      ]
     },
     "execution_count": 13,
     "metadata": {},
     "output_type": "execute_result"
    }
   ],
   "source": [
    "pd.DataFrame(df1.groupby('Classifier')['Classifier'].count()).rename(columns={\"Classifier\": \"Count\"}).sort_values(by='Count',ascending=False)"
   ]
  },
  {
   "cell_type": "markdown",
   "id": "adapted-intervention",
   "metadata": {},
   "source": [
    "# Card Number"
   ]
  },
  {
   "cell_type": "code",
   "execution_count": 14,
   "id": "previous-pillow",
   "metadata": {},
   "outputs": [],
   "source": [
    "df1['CardNumber']=df1['Title'].str.extract(\"#(\\w*\\.?\\-?\\/?\\d?\\w*\\-?\\w+)\",expand=True )\n",
    "#df1['CardNumber']=df['Title'].str.extract( \"#(\\w*\\.?\\-?\\d?\\w+)\",expand=True )\n",
    " #df1['CardNumber'].isnull().values.sum()/len(df) # 42% missing"
   ]
  },
  {
   "cell_type": "markdown",
   "id": "ecological-specific",
   "metadata": {},
   "source": [
    "# Quantity Made"
   ]
  },
  {
   "cell_type": "code",
   "execution_count": 15,
   "id": "double-contributor",
   "metadata": {},
   "outputs": [],
   "source": [
    "df1['QuantityMade']=df1['Title'].str.extract( \"(\\d?\\d?\\d?\\d?\\d?\\d?\\/\\d+)\",expand=True )\n",
    "#df1['QuantityMade'].isnull().values.sum()/len(df) # 74% missing"
   ]
  },
  {
   "cell_type": "markdown",
   "id": "cross-opportunity",
   "metadata": {},
   "source": [
    "# Specialty"
   ]
  },
  {
   "cell_type": "code",
   "execution_count": 16,
   "id": "protected-floor",
   "metadata": {},
   "outputs": [],
   "source": [
    "Keywords= [\"jerseys\",\"jersey\",\"freshman\",\"rookies\",\"rc\", \"mvp\",\"mvps\",\"hof\",\"auto\",\"rookie\",\"nnof\",\"xrc\",\"big four\",\"bip\",\"foil\",\"jsy\",\"nib\",\"pc\",\"opg\"]\n",
    "\n",
    "def Special(x):\n",
    "    String=\"\"\n",
    "    for i in Keywords:\n",
    "        for k in x.split(\" \"):\n",
    "            if i in k:\n",
    "                String += str(i) + \",\"\n",
    "    return String[:-1]\n",
    "\n",
    "df1['Specialty']=df1['Title'].apply(lambda x: Special(x))"
   ]
  },
  {
   "cell_type": "code",
   "execution_count": 17,
   "id": "moving-sharp",
   "metadata": {},
   "outputs": [
    {
     "data": {
      "text/plain": [
       "0.0"
      ]
     },
     "execution_count": 17,
     "metadata": {},
     "output_type": "execute_result"
    }
   ],
   "source": [
    "df1['Specialty'].isnull().values.sum()/len(df) #%50.94 missing   "
   ]
  },
  {
   "cell_type": "markdown",
   "id": "emotional-landscape",
   "metadata": {},
   "source": [
    "# Players"
   ]
  },
  {
   "cell_type": "code",
   "execution_count": 18,
   "id": "better-hunger",
   "metadata": {},
   "outputs": [],
   "source": [
    "import requests\n",
    "from bs4 import BeautifulSoup\n",
    "def fetch_famous_players(baseurl):\n",
    "    famous_player = []\n",
    "    response = requests.get(baseurl)\n",
    "    if response.status_code == 200:\n",
    "        print(\"Success\")\n",
    "    else:\n",
    "        print(\"Failure\")\n",
    "    results_page = BeautifulSoup(response.content,'html.parser')\n",
    "    page = results_page.find(\"table\").find_all('td', attrs={'style':'font-family: Arial, sans-serif; color: windowtext; font-size: 10.0pt; font-weight: 400; font-style: normal; text-decoration: none; text-align: general; vertical-align: bottom; white-space: nowrap; border: medium none; padding-left: 1px; padding-right: 1px; padding-top: 1px'})\n",
    "    for i in page:\n",
    "        famous_player.append(i.text.split('\\n')[1].strip())\n",
    "    return famous_player"
   ]
  },
  {
   "cell_type": "code",
   "execution_count": 19,
   "id": "matched-hamilton",
   "metadata": {},
   "outputs": [
    {
     "name": "stdout",
     "output_type": "stream",
     "text": [
      "Success\n",
      "Success\n",
      "Success\n",
      "Success\n",
      "Success\n"
     ]
    },
    {
     "data": {
      "text/plain": [
       "list"
      ]
     },
     "execution_count": 19,
     "metadata": {},
     "output_type": "execute_result"
    }
   ],
   "source": [
    "famous_player = fetch_famous_players(\"http://ainsworthsports.com/baseball_player_rankings_all_time_1_to_1000.htm\")\n",
    "famous_player.extend(fetch_famous_players(\"http://ainsworthsports.com/baseball_player_rankings_all_time_1001_to_2000.htm\"))\n",
    "famous_player.extend(fetch_famous_players(\"http://ainsworthsports.com/baseball_player_rankings_all_time_2001_to_3000.htm\"))\n",
    "famous_player.extend(fetch_famous_players(\"http://ainsworthsports.com/baseball_player_rankings_all_time_3001_to_4000.htm\"))\n",
    "famous_player.extend(fetch_famous_players(\"http://ainsworthsports.com/baseball_player_rankings_all_time_4001_to_5000.htm\"))\n",
    "type(famous_player)\n"
   ]
  },
  {
   "cell_type": "code",
   "execution_count": 99,
   "id": "early-midwest",
   "metadata": {},
   "outputs": [],
   "source": [
    "def person(x):\n",
    "    for i in famous_player:\n",
    "        dummy = i.lower()\n",
    "        if dummy in x:\n",
    "            return i"
   ]
  },
  {
   "cell_type": "code",
   "execution_count": 100,
   "id": "certain-whole",
   "metadata": {},
   "outputs": [],
   "source": [
    "df1['Player_Name']=df1['Title'].apply(lambda x: person(x))"
   ]
  },
  {
   "cell_type": "code",
   "execution_count": 101,
   "id": "beautiful-jacob",
   "metadata": {},
   "outputs": [
    {
     "data": {
      "text/html": [
       "<div>\n",
       "<style scoped>\n",
       "    .dataframe tbody tr th:only-of-type {\n",
       "        vertical-align: middle;\n",
       "    }\n",
       "\n",
       "    .dataframe tbody tr th {\n",
       "        vertical-align: top;\n",
       "    }\n",
       "\n",
       "    .dataframe thead th {\n",
       "        text-align: right;\n",
       "    }\n",
       "</style>\n",
       "<table border=\"1\" class=\"dataframe\">\n",
       "  <thead>\n",
       "    <tr style=\"text-align: right;\">\n",
       "      <th></th>\n",
       "      <th>Count</th>\n",
       "    </tr>\n",
       "    <tr>\n",
       "      <th>Player_Name</th>\n",
       "      <th></th>\n",
       "    </tr>\n",
       "  </thead>\n",
       "  <tbody>\n",
       "    <tr>\n",
       "      <th>Ronald Acuna</th>\n",
       "      <td>67308</td>\n",
       "    </tr>\n",
       "    <tr>\n",
       "      <th>Mike Trout</th>\n",
       "      <td>55008</td>\n",
       "    </tr>\n",
       "    <tr>\n",
       "      <th>Derek Jeter</th>\n",
       "      <td>37374</td>\n",
       "    </tr>\n",
       "    <tr>\n",
       "      <th>Fernando Tatis</th>\n",
       "      <td>33385</td>\n",
       "    </tr>\n",
       "    <tr>\n",
       "      <th>Vladimir Guerrero</th>\n",
       "      <td>29112</td>\n",
       "    </tr>\n",
       "    <tr>\n",
       "      <th>...</th>\n",
       "      <td>...</td>\n",
       "    </tr>\n",
       "    <tr>\n",
       "      <th>Jap Barbeau</th>\n",
       "      <td>1</td>\n",
       "    </tr>\n",
       "    <tr>\n",
       "      <th>Ray Sanders</th>\n",
       "      <td>1</td>\n",
       "    </tr>\n",
       "    <tr>\n",
       "      <th>Brad Arnsberg</th>\n",
       "      <td>1</td>\n",
       "    </tr>\n",
       "    <tr>\n",
       "      <th>Bobby Castillo</th>\n",
       "      <td>1</td>\n",
       "    </tr>\n",
       "    <tr>\n",
       "      <th>Tommy Thomas</th>\n",
       "      <td>1</td>\n",
       "    </tr>\n",
       "  </tbody>\n",
       "</table>\n",
       "<p>3888 rows × 1 columns</p>\n",
       "</div>"
      ],
      "text/plain": [
       "                   Count\n",
       "Player_Name             \n",
       "Ronald Acuna       67308\n",
       "Mike Trout         55008\n",
       "Derek Jeter        37374\n",
       "Fernando Tatis     33385\n",
       "Vladimir Guerrero  29112\n",
       "...                  ...\n",
       "Jap Barbeau            1\n",
       "Ray Sanders            1\n",
       "Brad Arnsberg          1\n",
       "Bobby Castillo         1\n",
       "Tommy Thomas           1\n",
       "\n",
       "[3888 rows x 1 columns]"
      ]
     },
     "execution_count": 101,
     "metadata": {},
     "output_type": "execute_result"
    }
   ],
   "source": [
    "pd.DataFrame(df1.groupby('Player_Name')['Player_Name'].count()).rename(columns={\"Player_Name\": \"Count\"}).sort_values(by='Count',ascending=False)"
   ]
  },
  {
   "cell_type": "code",
   "execution_count": 102,
   "id": "secret-medline",
   "metadata": {},
   "outputs": [
    {
     "data": {
      "text/html": [
       "<div>\n",
       "<style scoped>\n",
       "    .dataframe tbody tr th:only-of-type {\n",
       "        vertical-align: middle;\n",
       "    }\n",
       "\n",
       "    .dataframe tbody tr th {\n",
       "        vertical-align: top;\n",
       "    }\n",
       "\n",
       "    .dataframe thead th {\n",
       "        text-align: right;\n",
       "    }\n",
       "</style>\n",
       "<table border=\"1\" class=\"dataframe\">\n",
       "  <thead>\n",
       "    <tr style=\"text-align: right;\">\n",
       "      <th></th>\n",
       "      <th>Title</th>\n",
       "      <th>Year</th>\n",
       "      <th>Unmatched</th>\n",
       "      <th>TeamName</th>\n",
       "      <th>Grader</th>\n",
       "      <th>Classifier</th>\n",
       "      <th>CardNumber</th>\n",
       "      <th>QuantityMade</th>\n",
       "      <th>Specialty</th>\n",
       "      <th>Player_Name</th>\n",
       "      <th>Manufacturer</th>\n",
       "      <th>Rating</th>\n",
       "      <th>num_words_unmatched</th>\n",
       "      <th>num_words_title</th>\n",
       "      <th>matched_percentage</th>\n",
       "    </tr>\n",
       "  </thead>\n",
       "  <tbody>\n",
       "    <tr>\n",
       "      <th>0</th>\n",
       "      <td>1974 laughlin all-star games phil cavarretta #44</td>\n",
       "      <td>1974</td>\n",
       "      <td>all-star games</td>\n",
       "      <td>None</td>\n",
       "      <td>NaN</td>\n",
       "      <td>NaN</td>\n",
       "      <td>44</td>\n",
       "      <td>NaN</td>\n",
       "      <td></td>\n",
       "      <td>Phil Cavarretta</td>\n",
       "      <td>Laughlin</td>\n",
       "      <td>NaN</td>\n",
       "      <td>2</td>\n",
       "      <td>7</td>\n",
       "      <td>0.714286</td>\n",
       "    </tr>\n",
       "    <tr>\n",
       "      <th>1</th>\n",
       "      <td>1955 bowman del crandall #217</td>\n",
       "      <td>1955</td>\n",
       "      <td></td>\n",
       "      <td>None</td>\n",
       "      <td>NaN</td>\n",
       "      <td>NaN</td>\n",
       "      <td>217</td>\n",
       "      <td>NaN</td>\n",
       "      <td></td>\n",
       "      <td>Del Crandall</td>\n",
       "      <td>Bowman</td>\n",
       "      <td>NaN</td>\n",
       "      <td>0</td>\n",
       "      <td>5</td>\n",
       "      <td>1.000000</td>\n",
       "    </tr>\n",
       "    <tr>\n",
       "      <th>2</th>\n",
       "      <td>1957 topps del crandall #133</td>\n",
       "      <td>1957</td>\n",
       "      <td></td>\n",
       "      <td>None</td>\n",
       "      <td>NaN</td>\n",
       "      <td>NaN</td>\n",
       "      <td>133</td>\n",
       "      <td>NaN</td>\n",
       "      <td></td>\n",
       "      <td>Del Crandall</td>\n",
       "      <td>Topps</td>\n",
       "      <td>NaN</td>\n",
       "      <td>0</td>\n",
       "      <td>5</td>\n",
       "      <td>1.000000</td>\n",
       "    </tr>\n",
       "    <tr>\n",
       "      <th>3</th>\n",
       "      <td>1995 skybox emotion timeless cal ripken jr #8 hof</td>\n",
       "      <td>1995</td>\n",
       "      <td>emotion timeless jr</td>\n",
       "      <td>None</td>\n",
       "      <td>NaN</td>\n",
       "      <td>box</td>\n",
       "      <td>8</td>\n",
       "      <td>NaN</td>\n",
       "      <td>hof</td>\n",
       "      <td>Cal Ripken</td>\n",
       "      <td>SkyBox</td>\n",
       "      <td>NaN</td>\n",
       "      <td>3</td>\n",
       "      <td>9</td>\n",
       "      <td>0.666667</td>\n",
       "    </tr>\n",
       "    <tr>\n",
       "      <th>4</th>\n",
       "      <td>1989 st vincent rookies stamps ken griffey jr ...</td>\n",
       "      <td>1989</td>\n",
       "      <td>st vincent stamps jr</td>\n",
       "      <td>None</td>\n",
       "      <td>NaN</td>\n",
       "      <td>NaN</td>\n",
       "      <td>NaN</td>\n",
       "      <td>NaN</td>\n",
       "      <td>rookies,hof,rookie,rookie</td>\n",
       "      <td>None</td>\n",
       "      <td>NaN</td>\n",
       "      <td>NaN</td>\n",
       "      <td>4</td>\n",
       "      <td>10</td>\n",
       "      <td>0.600000</td>\n",
       "    </tr>\n",
       "    <tr>\n",
       "      <th>...</th>\n",
       "      <td>...</td>\n",
       "      <td>...</td>\n",
       "      <td>...</td>\n",
       "      <td>...</td>\n",
       "      <td>...</td>\n",
       "      <td>...</td>\n",
       "      <td>...</td>\n",
       "      <td>...</td>\n",
       "      <td>...</td>\n",
       "      <td>...</td>\n",
       "      <td>...</td>\n",
       "      <td>...</td>\n",
       "      <td>...</td>\n",
       "      <td>...</td>\n",
       "      <td>...</td>\n",
       "    </tr>\n",
       "    <tr>\n",
       "      <th>2293584</th>\n",
       "      <td>shohei ohtani 2019 bowman sterling black atomi...</td>\n",
       "      <td>2019</td>\n",
       "      <td>sterling black atomic refractor graph</td>\n",
       "      <td>None</td>\n",
       "      <td>NaN</td>\n",
       "      <td>NaN</td>\n",
       "      <td>/10</td>\n",
       "      <td>/10</td>\n",
       "      <td>auto,auto</td>\n",
       "      <td>None</td>\n",
       "      <td>Bowman SP</td>\n",
       "      <td>NaN</td>\n",
       "      <td>5</td>\n",
       "      <td>12</td>\n",
       "      <td>0.583333</td>\n",
       "    </tr>\n",
       "    <tr>\n",
       "      <th>2293585</th>\n",
       "      <td>shohei ohtani 2019 bowman sterling black atomi...</td>\n",
       "      <td>2019</td>\n",
       "      <td>sterling black atomic refractor graph</td>\n",
       "      <td>None</td>\n",
       "      <td>NaN</td>\n",
       "      <td>NaN</td>\n",
       "      <td>/10</td>\n",
       "      <td>/10</td>\n",
       "      <td>auto,auto</td>\n",
       "      <td>None</td>\n",
       "      <td>Bowman SP</td>\n",
       "      <td>NaN</td>\n",
       "      <td>5</td>\n",
       "      <td>12</td>\n",
       "      <td>0.583333</td>\n",
       "    </tr>\n",
       "    <tr>\n",
       "      <th>2293586</th>\n",
       "      <td>shohei ohtani 2019 bowman sterling black atomi...</td>\n",
       "      <td>2019</td>\n",
       "      <td>sterling black atomic refractor graph</td>\n",
       "      <td>None</td>\n",
       "      <td>NaN</td>\n",
       "      <td>NaN</td>\n",
       "      <td>/10</td>\n",
       "      <td>/10</td>\n",
       "      <td>auto,auto</td>\n",
       "      <td>None</td>\n",
       "      <td>Bowman SP</td>\n",
       "      <td>NaN</td>\n",
       "      <td>5</td>\n",
       "      <td>12</td>\n",
       "      <td>0.583333</td>\n",
       "    </tr>\n",
       "    <tr>\n",
       "      <th>2293587</th>\n",
       "      <td>shohei ohtani 2019 bowman sterling black atomi...</td>\n",
       "      <td>2019</td>\n",
       "      <td>sterling black atomic refractor graph</td>\n",
       "      <td>None</td>\n",
       "      <td>NaN</td>\n",
       "      <td>NaN</td>\n",
       "      <td>/10</td>\n",
       "      <td>/10</td>\n",
       "      <td>auto,auto</td>\n",
       "      <td>None</td>\n",
       "      <td>Bowman SP</td>\n",
       "      <td>NaN</td>\n",
       "      <td>5</td>\n",
       "      <td>12</td>\n",
       "      <td>0.583333</td>\n",
       "    </tr>\n",
       "    <tr>\n",
       "      <th>2293588</th>\n",
       "      <td>shohei ohtani 2019 bowman sterling black atomi...</td>\n",
       "      <td>2019</td>\n",
       "      <td>sterling black atomic refractor graph</td>\n",
       "      <td>None</td>\n",
       "      <td>NaN</td>\n",
       "      <td>NaN</td>\n",
       "      <td>/10</td>\n",
       "      <td>/10</td>\n",
       "      <td>auto,auto</td>\n",
       "      <td>None</td>\n",
       "      <td>Bowman SP</td>\n",
       "      <td>NaN</td>\n",
       "      <td>5</td>\n",
       "      <td>12</td>\n",
       "      <td>0.583333</td>\n",
       "    </tr>\n",
       "  </tbody>\n",
       "</table>\n",
       "<p>2293589 rows × 15 columns</p>\n",
       "</div>"
      ],
      "text/plain": [
       "                                                     Title  Year  \\\n",
       "0         1974 laughlin all-star games phil cavarretta #44  1974   \n",
       "1                            1955 bowman del crandall #217  1955   \n",
       "2                             1957 topps del crandall #133  1957   \n",
       "3        1995 skybox emotion timeless cal ripken jr #8 hof  1995   \n",
       "4        1989 st vincent rookies stamps ken griffey jr ...  1989   \n",
       "...                                                    ...   ...   \n",
       "2293584  shohei ohtani 2019 bowman sterling black atomi...  2019   \n",
       "2293585  shohei ohtani 2019 bowman sterling black atomi...  2019   \n",
       "2293586  shohei ohtani 2019 bowman sterling black atomi...  2019   \n",
       "2293587  shohei ohtani 2019 bowman sterling black atomi...  2019   \n",
       "2293588  shohei ohtani 2019 bowman sterling black atomi...  2019   \n",
       "\n",
       "                                     Unmatched TeamName Grader Classifier  \\\n",
       "0                               all-star games     None    NaN        NaN   \n",
       "1                                                  None    NaN        NaN   \n",
       "2                                                  None    NaN        NaN   \n",
       "3                          emotion timeless jr     None    NaN        box   \n",
       "4                         st vincent stamps jr     None    NaN        NaN   \n",
       "...                                        ...      ...    ...        ...   \n",
       "2293584  sterling black atomic refractor graph     None    NaN        NaN   \n",
       "2293585  sterling black atomic refractor graph     None    NaN        NaN   \n",
       "2293586  sterling black atomic refractor graph     None    NaN        NaN   \n",
       "2293587  sterling black atomic refractor graph     None    NaN        NaN   \n",
       "2293588  sterling black atomic refractor graph     None    NaN        NaN   \n",
       "\n",
       "        CardNumber QuantityMade                  Specialty      Player_Name  \\\n",
       "0               44          NaN                             Phil Cavarretta   \n",
       "1              217          NaN                                Del Crandall   \n",
       "2              133          NaN                                Del Crandall   \n",
       "3                8          NaN                        hof       Cal Ripken   \n",
       "4              NaN          NaN  rookies,hof,rookie,rookie             None   \n",
       "...            ...          ...                        ...              ...   \n",
       "2293584        /10          /10                  auto,auto             None   \n",
       "2293585        /10          /10                  auto,auto             None   \n",
       "2293586        /10          /10                  auto,auto             None   \n",
       "2293587        /10          /10                  auto,auto             None   \n",
       "2293588        /10          /10                  auto,auto             None   \n",
       "\n",
       "        Manufacturer Rating  num_words_unmatched  num_words_title  \\\n",
       "0           Laughlin    NaN                    2                7   \n",
       "1             Bowman    NaN                    0                5   \n",
       "2              Topps    NaN                    0                5   \n",
       "3             SkyBox    NaN                    3                9   \n",
       "4                NaN    NaN                    4               10   \n",
       "...              ...    ...                  ...              ...   \n",
       "2293584    Bowman SP    NaN                    5               12   \n",
       "2293585    Bowman SP    NaN                    5               12   \n",
       "2293586    Bowman SP    NaN                    5               12   \n",
       "2293587    Bowman SP    NaN                    5               12   \n",
       "2293588    Bowman SP    NaN                    5               12   \n",
       "\n",
       "         matched_percentage  \n",
       "0                  0.714286  \n",
       "1                  1.000000  \n",
       "2                  1.000000  \n",
       "3                  0.666667  \n",
       "4                  0.600000  \n",
       "...                     ...  \n",
       "2293584            0.583333  \n",
       "2293585            0.583333  \n",
       "2293586            0.583333  \n",
       "2293587            0.583333  \n",
       "2293588            0.583333  \n",
       "\n",
       "[2293589 rows x 15 columns]"
      ]
     },
     "execution_count": 102,
     "metadata": {},
     "output_type": "execute_result"
    }
   ],
   "source": [
    "df1"
   ]
  },
  {
   "cell_type": "code",
   "execution_count": 103,
   "id": "negative-eating",
   "metadata": {},
   "outputs": [
    {
     "data": {
      "text/plain": [
       "762583"
      ]
     },
     "execution_count": 103,
     "metadata": {},
     "output_type": "execute_result"
    }
   ],
   "source": [
    "df1['Player_Name'].isnull().sum()"
   ]
  },
  {
   "cell_type": "markdown",
   "id": "final-quality",
   "metadata": {},
   "source": [
    "# Manufcturer"
   ]
  },
  {
   "cell_type": "code",
   "execution_count": 104,
   "id": "complex-exhaust",
   "metadata": {},
   "outputs": [
    {
     "name": "stdout",
     "output_type": "stream",
     "text": [
      "442\n",
      "442\n"
     ]
    }
   ],
   "source": [
    "manufacturer=pd.read_csv(r'Sports_Cards_Keywords_Manufacturer.csv')\n",
    "# manufacturer dictinoary\n",
    "manufacturer = manufacturer.set_index('How It Appears').to_dict()['Manufacturuer']\n",
    "print(len(manufacturer))\n",
    "manufacturer_dict = {}\n",
    "for key,val in manufacturer.items():\n",
    "    if \"|\" in key:\n",
    "        keys = key.split('|')\n",
    "        for i in keys:\n",
    "            manufacturer_dict[i.lower()] = val\n",
    "    else:\n",
    "        manufacturer_dict[key.lower()] = val\n",
    "print(len(manufacturer))"
   ]
  },
  {
   "cell_type": "code",
   "execution_count": 105,
   "id": "answering-budget",
   "metadata": {},
   "outputs": [],
   "source": [
    "manufacturer_list = list(manufacturer_dict.keys())\n",
    "manufacturer_list = set(manufacturer_list)"
   ]
  },
  {
   "cell_type": "code",
   "execution_count": 106,
   "id": "excellent-technology",
   "metadata": {},
   "outputs": [],
   "source": [
    "def manufacturer_detect(x):\n",
    "    res = \"\"\n",
    "    for i in x.split(\" \"):\n",
    "        if i in manufacturer_list:\n",
    "            res = res + i + \",\"\n",
    "    if res:\n",
    "        return res\n",
    "    else:\n",
    "        return np.NaN"
   ]
  },
  {
   "cell_type": "code",
   "execution_count": 107,
   "id": "induced-aspect",
   "metadata": {},
   "outputs": [],
   "source": [
    "df1['Manufacturer']=df1['Unmatched'].apply(lambda x: manufacturer_detect(x))"
   ]
  },
  {
   "cell_type": "code",
   "execution_count": 108,
   "id": "immediate-publicity",
   "metadata": {},
   "outputs": [
    {
     "data": {
      "text/plain": [
       "2293126"
      ]
     },
     "execution_count": 108,
     "metadata": {},
     "output_type": "execute_result"
    }
   ],
   "source": [
    "df1['Manufacturer'].isnull().sum()"
   ]
  },
  {
   "cell_type": "markdown",
   "id": "dental-trainer",
   "metadata": {},
   "source": [
    "# Rating"
   ]
  },
  {
   "cell_type": "code",
   "execution_count": 109,
   "id": "amino-desperate",
   "metadata": {},
   "outputs": [
    {
     "name": "stdout",
     "output_type": "stream",
     "text": [
      "75\n",
      "75\n"
     ]
    }
   ],
   "source": [
    "rating=pd.read_csv(r'Sports_Cards_Keywords_Grade.csv')\n",
    "# manufacturer dictinoary\n",
    "rating = rating.set_index('How It May Appear').to_dict()['Grade']\n",
    "print(len(rating))\n",
    "rating_dict = {}\n",
    "for key,val in rating.items():\n",
    "    if \"|\" in key:\n",
    "        keys = key.split('|')\n",
    "        for i in keys:\n",
    "            rating_dict[i.lower()] = val\n",
    "    else:\n",
    "        rating_dict[key.lower()] = val\n",
    "print(len(rating))"
   ]
  },
  {
   "cell_type": "code",
   "execution_count": 110,
   "id": "photographic-warrant",
   "metadata": {},
   "outputs": [
    {
     "name": "stdout",
     "output_type": "stream",
     "text": [
      "1581\n"
     ]
    }
   ],
   "source": [
    "print(len(rating_dict))\n",
    "rating_list = list(rating_dict.keys())\n",
    "rating_list.sort(reverse=True)"
   ]
  },
  {
   "cell_type": "code",
   "execution_count": 111,
   "id": "lined-harrison",
   "metadata": {},
   "outputs": [],
   "source": [
    "def rating_detect(x):\n",
    "    for i in rating_list:\n",
    "        if i in x:\n",
    "            return i"
   ]
  },
  {
   "cell_type": "code",
   "execution_count": 112,
   "id": "apparent-poverty",
   "metadata": {},
   "outputs": [],
   "source": [
    "df1['Rating']=df1['Title'].apply(lambda x: rating_detect(x))"
   ]
  },
  {
   "cell_type": "code",
   "execution_count": 113,
   "id": "hispanic-electricity",
   "metadata": {},
   "outputs": [
    {
     "data": {
      "text/plain": [
       "1476518"
      ]
     },
     "execution_count": 113,
     "metadata": {},
     "output_type": "execute_result"
    }
   ],
   "source": [
    "df1['Rating'].isnull().sum()"
   ]
  },
  {
   "cell_type": "markdown",
   "id": "fresh-romania",
   "metadata": {},
   "source": [
    "# Matching"
   ]
  },
  {
   "cell_type": "code",
   "execution_count": 114,
   "id": "increasing-attention",
   "metadata": {},
   "outputs": [],
   "source": [
    "def manufacturer_unmatched(x):\n",
    "    if isinstance(x['Manufacturer'],str):\n",
    "        dummy = x['Unmatched']\n",
    "        manufacturer = x['Manufacturer'].split(',')\n",
    "        while(\"\" in manufacturer): \n",
    "            manufacturer.remove(\"\")\n",
    "        for i in manufacturer:\n",
    "            dummy = dummy.replace(i,\"\")\n",
    "        return dummy \n",
    "    else:\n",
    "        return x['Unmatched']"
   ]
  },
  {
   "cell_type": "code",
   "execution_count": 115,
   "id": "little-tobago",
   "metadata": {},
   "outputs": [],
   "source": [
    "df1['Unmatched']=df1.apply(lambda x: manufacturer_unmatched(x),axis = 1)"
   ]
  },
  {
   "cell_type": "code",
   "execution_count": 116,
   "id": "second-cream",
   "metadata": {},
   "outputs": [],
   "source": [
    "def rating_unmatched(x):\n",
    "    if isinstance(x['Rating'],str):\n",
    "        dummy = x['Unmatched']\n",
    "        dummy = dummy.replace(x['Rating'],\"\")\n",
    "        return dummy\n",
    "    else:\n",
    "        return x['Unmatched']"
   ]
  },
  {
   "cell_type": "code",
   "execution_count": 117,
   "id": "ruled-soccer",
   "metadata": {},
   "outputs": [],
   "source": [
    "df1['Unmatched']=df1.apply(lambda x: rating_unmatched(x),axis = 1)"
   ]
  },
  {
   "cell_type": "code",
   "execution_count": 118,
   "id": "aggressive-protest",
   "metadata": {},
   "outputs": [],
   "source": [
    "def else_unmatched(x):\n",
    "    y = x['Unmatched']\n",
    "    if isinstance(x['Player_Name'],str):\n",
    "        name = x['Player_Name'].lower()\n",
    "        y = y.replace(name,\"\")\n",
    "    if isinstance(x['Year'],str):\n",
    "        year = x['Year'].lower()\n",
    "        y = y.replace(year,\"\")\n",
    "    if isinstance(x['Specialty'],str):\n",
    "        specialty = x['Specialty'].lower().split(',')\n",
    "        for i in specialty:\n",
    "            y = y.replace(i,\"\")\n",
    "    if isinstance(x['Classifier'],str):\n",
    "        classifiers = x['Classifier'].lower()\n",
    "        y = y.replace(classifiers,\"\")\n",
    "    if isinstance(x['QuantityMade'],str):\n",
    "        quantity_made = x['QuantityMade'].lower()\n",
    "        y = y.replace(quantity_made,\"\")\n",
    "        if \"/\" in y:\n",
    "            y = y.replace(\"/\",\"\")\n",
    "    if isinstance(x['Grader'],str):\n",
    "        garder = x['Grader'].lower()\n",
    "        y = y.replace(garder,\"\")\n",
    "    if isinstance(x['CardNumber'],str):\n",
    "        card_number = x['CardNumber'].lower()\n",
    "        y = y.replace(card_number,\"\")\n",
    "        if \"#\" in y:\n",
    "            y = y.replace(\"#\",\"\")\n",
    "    if isinstance(x['TeamName'],str):\n",
    "        team_name = x['TeamName'].lower()\n",
    "        y = y.replace(team_name,\"\")\n",
    "    return y"
   ]
  },
  {
   "cell_type": "code",
   "execution_count": 119,
   "id": "qualified-party",
   "metadata": {},
   "outputs": [],
   "source": [
    "df1['Unmatched']=df1.apply(lambda x: else_unmatched(x),axis = 1)"
   ]
  },
  {
   "cell_type": "code",
   "execution_count": 120,
   "id": "governmental-condition",
   "metadata": {},
   "outputs": [],
   "source": [
    "def unmatched_trim(x):\n",
    "    strings = x['Unmatched'].strip().split(' ')\n",
    "    res = ' '.join([x for x in strings if x])\n",
    "    return res"
   ]
  },
  {
   "cell_type": "code",
   "execution_count": 121,
   "id": "impaired-empire",
   "metadata": {},
   "outputs": [],
   "source": [
    "df1['Unmatched']=df1.apply(lambda x: unmatched_trim(x),axis = 1)"
   ]
  },
  {
   "cell_type": "code",
   "execution_count": 122,
   "id": "innovative-engineer",
   "metadata": {},
   "outputs": [
    {
     "name": "stderr",
     "output_type": "stream",
     "text": [
      "[nltk_data] Downloading package punkt to\n",
      "[nltk_data]     /Users/chensiyuan/nltk_data...\n",
      "[nltk_data]   Package punkt is already up-to-date!\n"
     ]
    },
    {
     "name": "stdout",
     "output_type": "stream",
     "text": [
      "[('chrome', 430081), ('refractor', 276832), ('baseball', 211258), ('card', 183373), ('mint', 182501), ('jr', 162602), ('gem', 159617), ('graph', 141561), ('$', 135744), ('(', 134414), (')', 134210), ('*', 123561), ('update', 119909), ('of', 119193), ('draft', 109638), ('gold', 97585), ('prospects', 96318), ('blue', 82960), (\"'s\", 80218), ('heritage', 73561), ('ex', 66786), ('deck', 61189), ('upper', 61153), ('-', 56927), ('red', 54230), ('game', 52589), ('series', 50861), ('prospect', 50326), ('&', 50072), ('patch', 46880), ('edition', 46537), ('10', 46377), ('the', 42681), ('ex/', 41184), ('purple', 40884), ('green', 40162), ('stars', 39631), ('9.5', 39388), ('prizm', 39338), ('silver', 38800), ('black', 38395), ('high', 37922), ('2', 37782), ('ex/ex+', 36273), ('now', 34464), ('nm', 32148), ('bowman', 31986), ('on', 31829), ('read', 31508), ('variation', 31137), ('cards', 30950), ('nm/', 30728), ('mini', 29151), ('diamond', 28735), ('collection', 28121), ('break', 27806), ('league', 27797), ('ginter', 27730), ('1', 27345), ('1st', 27289), ('triple', 27252), ('orange', 27001), ('r', 26793), ('ahives', 26503), ('new', 26467), ('back', 26173), ('factory', 25976), ('national', 25248), ('3', 25098), ('optic', 25097), ('used', 24999), ('york', 24690), ('elite', 24466), ('#', 23904), ('threads', 23503), ('team', 23170), ('vg/', 23084), ('signed', 22569), ('allen', 22119), ('bat', 22107), ('sealed', 21879), ('number', 20869), ('club', 20775), ('nm-mt', 20684), ('stadium', 20611), ('mega', 20408), ('vg', 20296), ('relics', 19573), ('signatures', 19341), ('platinum', 19163), ('project', 18453), ('top', 18228), ('a', 18195), ('prizms', 17831), ('signature', 17756), ('pick', 17196), ('all', 17117), ('one', 16934), ('treasures', 16915), ('base', 16895), ('comc', 16851), ('in', 16802), ('extra', 16614), ('4', 16539), ('and', 16264), ('jumbo', 16248), ('day', 15842), ('minor', 15791), ('pink', 15732), ('9', 15594), ('white', 15476), ('debut', 15448), ('sterling', 15335), ('anniversary', 15113), ('5', 14986), ('picks', 14843), ('rated', 14775), ('los', 14662), ('angeles', 14443), ('tribute', 14292), ('transcendent', 13932), ('exclusive', 13855), ('case', 13577), ('usa', 13290), ('s', 13267), ('traded', 13221), ('queen', 13168), ('complete', 13066), ('wave', 13063), ('authentic', 12975), ('ex+', 12883), ('dual', 12739), ('tek', 12682), ('gypsy', 12567), ('parallel', 12315), ('chronicles', 12281), ('chicago', 12250), ('cut', 12233), ('hobby', 12120), ('wander', 12086), ('jr.', 12056), ('relic', 11740), ('6', 11671), ('museum', 11408), ('michael', 11384), (\"'d\", 11136), ('holo', 11100), ('framed', 11085), ('g/vg', 10843), ('batting', 10694), ('bo', 10668), ('tier', 10643), ('run', 10603), ('materials', 10560), ('color', 10508), ('home', 10347), ('world', 10313), ('bichette', 10287), ('all-star', 10119), ('400+', 10089), ('ink', 9907), ('short', 9791), ('8', 9764), ('bob', 9660), ('sapphire', 9592), ('border', 9468), ('cuts', 9467), ('print', 9438), ('logo', 9381), ('mojo', 9361), ('photo', 9335), ('immaculate', 9298), ('atomic', 9247), ('mlb', 9234), ('100', 9200), ('b', 9161), ('greats', 9123), ('300+', 9078), ('inception', 9065), ('pro', 9060), ('shimmer', 9028), ('rare', 9024), ('leaders', 8965), ('years', 8957), ('7', 8883), ('san', 8764), ('party', 8737), ('graphs', 8734), ('40+', 8730), ('legendary', 8292), ('season', 8261), ('metal', 8160), ('lux', 8137), ('design', 8022), ('die', 8004), ('certified', 7998), ('1985', 7998), ('pristine', 7936), ('contenders', 7902), ('future', 7816), ('holiday', 7806), ('target', 7765), ('to', 7638), ('20', 7614), ('12', 7594), ('atlanta', 7514), ('super', 7410), ('opening', 7340), ('post', 7308), ('gallery', 7250), ('hall', 6970), ('flawless', 6954), ('1984', 6862), ('rainbow', 6855), ('jordan', 6835), ('stripes', 6829), ('five', 6758), ('online', 6732), ('es', 6728), ('label', 6727), ('stock', 6623), ('set', 6618), ('w', 6615), ('joe', 6578), ('real', 6567), ('heroes', 6550), ('nl', 6546), ('prime', 6454), ('tiffany', 6448), ('mg', 6444), ('80+', 6439), ('g', 6418), ('as', 6400), ('glossy', 6330), ('proof', 6325), ('choice', 6320), ('plate', 6308), ('through', 6295), ('inserts', 6276), ('buybacks', 6272), ('checklist', 6184), ('sweet', 6172), ('retail', 6150), ('class', 6098), ('800+', 6073), ('moments', 6025), ('no', 5985), ('icons', 5907), ('playoff', 5906), ('printing', 5866), ('60+', 5866), ('yellow', 5858), ('500+', 5836), ('blaster', 5783), ('luis', 5772), ('!', 5771), ('boston', 5719), ('bronze', 5700), ('mt', 5700), ('lot', 5686), ('collector', 5632), ('ball', 5632), ('11', 5626), ('lumber', 5615), ('fame', 5609), ('insert', 5581), ('bill', 5571), ('ex-mt', 5514), ('vip', 5511), ('dp', 5471), ('by', 5465), ('die-cut', 5463), ('matt', 5391), ('golden', 5298), ('action', 5280), ('worn', 5266), ('x', 5221), ('-20', 5218), ('apba', 5211), ('limited', 5167), ('hr', 5146), ('sky', 5066), ('emerald', 5063), ('favorites', 5057), ('clearly', 5048), ('prism', 5025), ('julio', 4952), ('15', 4919), ('hot', 4909), ('stickers', 4899), ('issue', 4864), ('1983', 4863), ('austin', 4863), ('minis', 4851), ('peter', 4802), ('ticket', 4798), ('rpa', 4788), ('sepia', 4777), ('150', 4773), ('300', 4772), ('history', 4768), ('living', 4755), ('commemorative', 4751), ('30+', 4727), ('choose', 4698), ('tc', 4692), ('200', 4662), ('power', 4651), ('play', 4650), ('turkey', 4621), ('material', 4595), ('ultimate', 4582), ('hiura', 4577), ('200+', 4546), ('louis', 4541), ('150th', 4533), ('player', 4527), ('premium', 4525), ('dave', 4515), ('reprints', 4499), ('riley', 4490), ('big', 4485), (',', 4472), ('+', 4468), ('style', 4443), ('adell', 4433), ('from', 4430), ('spot', 4426), ('keston', 4419), ('packs', 4410), ('francisco', 4405), ('jose', 4390), ('120+', 4389), ('with', 4373), ('cleveland', 4359), ('houston', 4342), ('jo', 4337), ('dick', 4322), ('250+', 4304), ('cincinnati', 4297), ('victor', 4270), ('paper', 4265), ('walmart', 4251), ('wal-mart', 4227), ('expos', 4182), ('25', 4168), ('dynasty', 4168), ('kelenic', 4163), ('bobby', 4162), ('throwback', 4155), ('vintage', 4155), ('different', 4137), ('ice', 4101), ('demand', 4101), ('.', 4088), ('status', 4074), ('seattle', 4073), ('hunter', 4072), ('jarred', 4023), ('definitive', 4021), ('aaron', 4013), ('50', 4002), ('medallion', 3994), ('diego', 3988), ('washington', 3966), ('showcase', 3941), ('detroit', 3924), ('baltimore', 3922), ('rutschman', 3899), ('joey', 3879), ('randy', 3859), ('ichiro', 3829), ('first', 3822), ('gaia', 3817), ('30', 3802), ('josh', 3795), ('ed', 3789), ('minors', 3778), ('hit', 3765), ('centered', 3761), ('anderson', 3750), ('50+', 3745), ('w/', 3739), ('uer', 3738), ('adley', 3735), ('billy', 3728), ('city', 3721), ('george', 3713), ('refractors', 3698), ('tyler', 3691), ('clubhouse', 3690), ('ben', 3687), ('pittsburgh', 3666), ('casey', 3663), ('retired', 3656), ('fan', 3655), ('luciano', 3654), ('absolute', 3647), ('artist', 3630), ('mao', 3626), ('taylor', 3620), ('milwaukee', 3620), ('johnson', 3616), ('don', 3605), ('scouts', 3584), ('x-fractor', 3565), ('memorabilia', 3561), ('david', 3553), ('tom', 3552), ('roy', 3548), ('american', 3541), ('total', 3526), ('150+', 3522), ('fire', 3497), ('king', 3495), ('cup', 3484), ('jones', 3482), ('leather', 3479), ('nba', 3471), ('2019', 3459), ('al', 3456), ('all-stars', 3453), ('martinez', 3450), ('hoops', 3445), ('60', 3441), ('/', 3421), ('tampa', 3408), ('f', 3400), ('jack', 3393), ('quad', 3371), ('oakland', 3370), ('j', 3349), ('250', 3338), ('bay', 3331), ('smith', 3328), ('bart', 3324), ('chris', 3321), ('kansas', 3289), ('frank', 3272), ('retro', 3270), ('flash', 3269), ('ken', 3262), ('17', 3249), ('16', 3249), ('pattern', 3237), ('griffey', 3232), ('nolan', 3231), ('image', 3223), ('man', 3208), ('gray', 3207), ('cooperstown', 3202), ('sports', 3197), ('vaughn', 3190), ('hoerner', 3188), ('acuña', 3183), ('proects', 3178), ('25+', 3167), ('greene', 3165), ('80++', 3165), ('c', 3161), ('aquino', 3158), ('year', 3152), ('jesus', 3144), ('40', 3140), ('``', 3119), ('champions', 3114), ('anthony', 3107), ('brown', 3103), ('2018', 3088), ('players', 3084), ('arozarena', 3070), ('vertical', 3068), ('age', 3051), ('franchise', 3046), ('jake', 3045), ('perfect', 3037), ('career', 3030), ('24', 3023), ('ron', 3014), ('nico', 3009), ('minnesota', 2954), ('major', 2944), ('filler', 2940), ('400', 2927), ('kevin', 2921), ('robert', 2897), ('press', 2894), ('highlights', 2880), ('vg-ex', 2869), ('wilson', 2865), ('80', 2854), ('14', 2843), ('us', 2841), ('st', 2829), ('xfractor', 2811), ('performers', 2808), ('up', 2806), ('missing', 2795), ('mize', 2782), ('old', 2776), ('steve', 2776), ('toronto', 2775), ('13', 2770), ('rbi', 2762), ('for', 2752), ('brendan', 2746), ('jeter', 2741), ('aristides', 2730), ('206', 2724), ('letter', 2715), ('camo', 2707), ('jerry', 2706), ('/dna', 2696), (\"''\", 2673), ('35th', 2658), ('manufactured', 2656), ('ruby', 2649), ('brett', 2638), ('st.', 2637), ('senzel', 2631), ('19', 2629), ('3-d', 2622), ('aspirations', 2620), ('baller', 2616), ('aqua', 2610), ('coins', 2605), ('mike', 2600), ('texas', 2585), ('milestones', 2584), ('jacob', 2580), ('thomas', 2572), ('600+', 2570), ('nicely', 2569), ('win', 2568), ('backs', 2556), ('18', 2550), ('swanson', 2517), ('robles', 2501), ('redemption', 2498), ('gorman', 2491), ('davis', 2467), ('ripken', 2462), ('williams', 2460), ('luminaries', 2458), ('flashbacks', 2441), ('mirror', 2428), ('sam', 2417), ('scott', 2410), ('carter', 2408), ('e', 2383), ('dansby', 2374), ('en', 2367), ('.1', 2357), ('trinity', 2343), ('name', 2340), ('stat', 2329), ('spectra', 2328), ('graphed', 2326), ('true', 2319), ('mantle', 2317), ('valiant', 2313), ('sanchez', 2311), ('h', 2311), ('dwight', 2310), ('drew', 2310), ('1987', 2301), ('convention', 2300), ('gary', 2276), ('pitching', 2273), ('johnny', 2266), ('greatest', 2264), ('spectrum', 2264), ('hits', 2263), ('all-time', 2256), ('miller', 2255), ('out', 2253), ('pache', 2240), ('mickey', 2240), ('crown', 2231), ('mark', 2231), ('mariners', 2223), ('record', 2218), ('tony', 2216), ('judge', 2215), ('unopened', 2210), ('yankee', 2207), ('international', 2186), ('showdown', 2182), ('wax', 2180), ('grade', 2177), ('jonathan', 2173), ('off', 2161), ('logan', 2160), ('lou', 2155), ('nm-mt+', 2152), ('line', 2142), ('shield', 2140), ('box', 2138), ('ia', 2130), ('mixer', 2128), ('kings', 2123), ('pop', 2119), ('tradition', 2116), ('piece', 2112), ('cristian', 2112), ('paul', 2099), ('nate', 2097), ('blake', 2095), ('ssp', 2091), ('1990', 2089), ('promo', 2089), ('james', 2085), ('turn', 2084), ('hta', 2082), ('magenta', 2078), ('century', 2061), ('royce', 2060), ('diffractor', 2060), ('nmmt', 2058), ('encased', 2055), ('d', 2050), ('time', 2042), ('negative', 2037), ('fall', 2031), ('verdugo', 2026), ('kieboom', 2017), ('unciulated', 2016), ('down', 2011), ('brooklyn', 2008), ('2013', 2007), ('montgomery', 2007), ('ch', 2005), ('mauricio', 2005), ('600', 2004), ('luzardo', 2003), ('ted', 2001), ('1969', 2001), ('snowflake', 1997), ('speckle', 1992), ('cj', 1989), ('120', 1985), ('justin', 1979), ('buyback', 1978), ('desert', 1975), ('willie', 1968), ('colorado', 1965), ('tommy', 1960), ('copper', 1954), ('1970', 1948), ('danny', 1947), ('timeless', 1940), ('21', 1940), ('ii', 1937), ('double', 1931), ('legacy', 1929), ('reprint', 1912), ('27', 1893), ('500', 1886), ('special', 1885), ('rediscover', 1882), ('originals', 1876), ('mother', 1871), ('rich', 1854), ('thursday', 1846), ('deckle', 1838), ('andrew', 1838), ('sparkle', 1835), ('swatches', 1834), ('1-200', 1828), ('independence', 1818), ('board', 1816), ('800', 1813), ('jeff', 1810), ('ian', 1809), ('duran', 1806), ('var', 1800), (\"'\", 1800), ('patches', 1799), ('rodgers', 1799), ('30th', 1795), ('glove', 1788), ('daniel', 1786), ('stitches', 1784), ('clock', 1783), ('410', 1783), ('you', 1779), ('mckay', 1766), ('award', 1759), ('hand', 1759), ('dk', 1758), ('gene', 1750), ('acuna', 1746), (\"'83\", 1745), ('dark', 1741), ('noelvi', 1739), ('sport', 1734), ('-11', 1732), ('-19', 1727), ('young', 1723), ('postseason', 1717), ('fielding', 1716), ('legends', 1713), ('next', 1710), ('neon', 1708), ('buy', 1707), ('decade', 1702), ('deivi', 1698), ('greg', 1697), ('tag', 1694), ('bonus', 1694), ('talent', 1686), ('charlie', 1686), ('pastime', 1685), ('father', 1685), ('decades', 1677), ('retrospective', 1675), ('pack', 1666), ('diaz', 1665), ('variations', 1664), ('premier', 1662), ('front', 1648), ('++', 1641), ('era', 1634), ('cole', 1631), ('plus', 1626), ('news', 1621), ('iconic', 1619), ('universe', 1619), ('puason', 1618), ('gore', 1607), ('biggio', 1604), ('dan', 1598), ('schmidt', 1597), ('ray', 1593), ('ohtani', 1592), ('ny', 1592), ('fletcher', 1591), ('miguel', 1591), ('8.5', 1589), ('stamps', 1588), ('arizona', 1584), ('miami', 1583), ('madrigal', 1581), ('baty', 1577), ('bbm', 1564), ('frame', 1561), ('la', 1548), ('uniform', 1537), ('22', 1536), ('bats', 1532), ('bx', 1526), ('silhouettes', 1523), ('error', 1522), ('cal', 1518), ('teams', 1513), ('derek', 1512), ('2nd', 1505), ('fred', 1498), ('will', 1497), ('582', 1497), ('cracked', 1494), ('salute', 1490), ('jung', 1489), ('strikeout', 1485), ('food', 1484), ('lora', 1480), ('spencer', 1479), ('graded', 1477), ('free', 1473), ('shots', 1472), ('crusade', 1468), ('juan', 1463), ('america', 1460), ('bayron', 1458), ('runs', 1454), ('keith', 1449), (':', 1444), ('album', 1440), ('afl', 1439), ('legend', 1424), ('36', 1423), ('jay', 1420), ('bradley', 1418), ('embossed', 1418), ('progression', 1415), ('eddie', 1414), ('superfractor', 1414), ('futures', 1411), ('rochester', 1406), ('o', 1401), ('hat', 1400), ('puk', 1400), ('1989', 1393), ('two', 1385), ('de', 1383), ('shohei', 1382), ('sporting', 1381), ('die-cuts', 1377), ('walk', 1374), ('masterpiece', 1373), ('phil', 1373), ('cavan', 1371), ('pride', 1369), ('31', 1366), ('ronny', 1366), ('gear', 1363), ('grand', 1363), ('john', 1362), ('travis', 1362), ('jim', 1362), ('piedmont', 1362), ('®', 1356), ('2017', 1352), ('trevor', 1346), ('great', 1344), ('pis', 1344), ('jorge', 1333), ('historic', 1333), ('chang', 1330), ('chavis', 1329), ('thompson', 1328), ('beckett', 1327), ('rapids', 1326), ('dugout', 1325), ('after', 1324), ('edge', 1323), ('exmt', 1322), ('jarren', 1321), ('reyes', 1321), ('combos', 1320), ('prismatic', 1318), ('bleday', 1317), ('phoenix', 1316), ('1959', 1310), ('clear', 1308), ('hyper', 1306), ('wright', 1306), ('eric', 1303), ('christian', 1302), ('1971', 1293), ('mystery', 1290), ('thiele', 1290), ('sox', 1289), ('discs', 1286), ('carroll', 1286), ('adam', 1285), ('1960', 1282), ('joshua', 1280), ('rip', 1279), ('roberto', 1278), ('carl', 1273), ('master', 1272), ('cereal', 1270), ('slam', 1270), ('reserve', 1269), ('ozzie', 1268), ('operation', 1268), ('bishop', 1268), ('continuity', 1266), ('alonso', 1262), ('burger', 1258), ('300++', 1255), ('carlos', 1251), ('iii', 1250), ('only', 1249), ('origins', 1247), ('bracket', 1247), ('book', 1244), ('grant', 1239), ('combo', 1239), ('selection', 1238), ('low', 1236), ('gimenez', 1236), ('electric', 1234), ('stamp', 1234), ('derby', 1233), ('winners', 1230), ('2020', 1228), ('zack', 1225), ('waters', 1224), ('wood', 1219), ('harry', 1216), ('ortiz', 1211), ('jd', 1210), ('gum', 1209), ('near', 1208), ('350', 1208), ('carolina', 1207), ('rs', 1206), ('29', 1206), ('kirilloff', 1205), ('cruz', 1204), ('175', 1202), ('blank', 1201), ('game-used', 1200), ('amed', 1198), ('33', 1196), ('walker', 1195), ('presell', 1195), ('23', 1194), ('hal', 1192), ('winning', 1192), ('gb', 1192), ('volpe', 1192), ('games', 1191), ('item', 1190), ('99', 1190), ('asg', 1188), ('casas', 1186), ('aj', 1185), ('jamieson', 1179), ('3d', 1179), ('20+', 1179), ('supreme', 1177), ('pointing', 1176), ('ryan', 1175), ('ramon', 1175), ('magazine', 1172), ('s/h', 1167), ('clemente', 1166), ('numbers', 1166), ('topper', 1159), ('medallions', 1157), ('tatis', 1156), ('performance', 1152), ('clark', 1152), ('sticker', 1151), ('mesa', 1151), ('memories', 1149), ('gregory', 1147), ('reynolds', 1146), ('kody', 1144), ('marks', 1143), ('trade', 1142), ('1964', 1138), ('28', 1137), ('ahival', 1136), ('pitch', 1134), ('asia', 1127), ('weekend', 1125), ('metallic', 1125), ('illustrated', 1122), ('1955', 1119), ('soto', 1119), ('sandy', 1117), ('26', 1116), ('preferred', 1115), ('challenge', 1111), ('longevity', 1108), ('trout', 1105), ('row', 1101), ('unity', 1101), ('1958', 1098), ('pena', 1098), ('loader', 1098), ('698', 1098), ('shore', 1098), ('35', 1094), ('sixto', 1092), ('42', 1090), ('art', 1088), ('mattingly', 1086), ('henderson', 1084), ('ll', 1084), ('bryant', 1083), ('swap', 1082), ('us250', 1081), ('jason', 1080), ('p', 1077), ('garrett', 1075), ('jimmy', 1071), ('at', 1068), (\"'84\", 1065), ('milestone', 1064), ('cyan', 1061), ('past', 1061), ('revolution', 1059), ('120++', 1057), ('pre', 1057), ('onyx', 1055), ('sample', 1054), ('football', 1052), ('chico', 1051), ('portraits', 1050), ('finite', 1048), ('chance', 1047), ('walk-off', 1047), ('illusions', 1044), ('pat', 1044), ('roger', 1043), ('tools', 1040), ('bonanza', 1040), ('mays', 1038), ('torres', 1035), ('lineage', 1034), ('pose', 1034), ('timeline', 1034), ('per', 1033), ('150++', 1032), ('hoese', 1030), ('patrick', 1030), ('hank', 1029), ('manny', 1028), ('rick', 1027), ('guerrero', 1026), ('mk', 1025), ('zenith', 1024), ('kelly', 1024), ('urias', 1023), ('company', 1022), ('basketball', 1022), ('wb', 1020), ('solak', 1020), ('laureano', 1019), ('ermsy', 1019), ('road', 1018), ('greatness', 1018), ('cracker', 1010), ('nelson', 1007), ('albies', 1002), ('just', 1001), ('sheffield', 999), ('52', 999), ('chase', 997), ('kennedy', 997), ('oscar', 993), ('terry', 991), ('ralph', 990), ('murphy', 989), ('dalbec', 989), ('show', 986), ('32', 985), ('pinstripe', 985), ('pennant', 984), ('475', 984), ('bunt', 983), ('sensations', 983), ('harrison', 982), ('orelvis', 982), ('hayes', 982), ('hill', 980), ('sparkles', 978), ('saladeen', 976), ('1952', 973), ('amethyst', 971), ('gonzalez', 971), ('original', 971), ('seat', 970), ('running', 967), ('ruiz', 965), ('is', 963), ('56', 961), ('corbin', 960), ('cornerstones', 960), ('ernie', 959), ('kernals', 959), ('flagship', 959), ('henry', 956), ('70th', 955), ('mosaic', 955), ('ramos', 954), ('trading', 954), ('globe', 954), ('hometown', 951), ('34', 951), ('obsidian', 950), ('1986', 949), ('ceder', 947), ('sanders', 945), ('1953', 941), ('shea', 938), ('tanner', 935), ('serial', 934), ('fabric', 933), ('victory', 933), ('manufacturer', 932), ('rack', 930), ('ivan', 930), ('producers', 929), ('beck', 928), ('wrapper', 927), ('ip', 925), ('edwards', 924), ('fucci', 923), ('montreal', 922), ('emerging', 922), ('perennial', 920), ('mountcastle', 919), ('significant', 917), ('harper', 917), ('masters', 915), ('mcgwire', 913), ('oldmanalan', 913), ('bryce', 911), ('face', 911), ('then', 910), ('portrait', 907), ('1998', 906), ('stats', 905), ('hamilton', 905), ('mister', 905), ('cartoon', 905), ('gwynn', 904), ('nickname', 904), ('1-100', 903), ('baez', 896), ('amaya', 890), ('dominator', 887), ('dupes', 884), ('diff', 883), ('rogers', 881), ('full', 880), ('1968', 877), ('fx', 874), ('state', 870), ('bear', 868), ('max', 867), ('85', 867), ('conlon', 866), ('gemmt', 865), ('sophia', 864), ('co-signers', 863), ('bas', 862), ('1993', 862), ('jj', 861), ('long', 860), ('button', 859), ('mel', 858), ('1999', 857), ('orlando', 855), ('wayne', 851), ('41', 851), ('nno', 851), ('signs', 850), ('justus', 849), ('superstar', 848), ('pieces', 848), (';', 847), ('weaver', 846), ('coleman', 844), ('us200', 844), ('3rd', 842), ('edwin', 840), ('pros', 840), ('private', 839), ('canvas', 839), ('mason', 838), ('kristian', 838), ('sketch', 836), ('10th', 836), (\"ke'bryan\", 836), ('h55', 835), ('0', 834), ('harris', 833), ('india', 833), ('toys', 833), ('farm', 832), ('18u', 831), ('duals', 828), ('dynamic', 827), ('1-300', 827), ('caporal', 826), ('2000', 824), ('chicle', 824), ('cease', 821), ('pitchers', 819), ('ramirez', 818), ('ballpark', 818), ('collegiate', 817), ('-93', 817), ('sp', 817), ('preview', 816), ('gibson', 816), ('4th', 816), ('inaugural', 815), ('groshans', 813), ('prestige', 813), ('jon', 812), ('avg', 812), ('sean', 812), ('400++', 810), ('obak', 809), ('phillips', 809), ('110', 809), ('arias', 808), ('nice', 808), ('lineup', 807), ('fernandez', 805), ('winner', 804), ('velocity', 804), ('freeman', 803), ('tyson', 803), ('supers', 799), ('rize', 799), ('cognac', 796), ('cookies', 796), ('impact', 796), ('swatch', 796), (\"'58\", 794), ('60++', 794), ('classics', 793), ('strata', 793), ('tab', 791), ('ward', 791), ('langeliers', 790), ('inning', 790), ('cl', 787), ('brady', 786), ('49', 785), ('canadian', 785), ('alek', 784), ('dennis', 784), ('cap', 783), ('fractal', 782), ('co', 781), ('arraez', 781), ('bdc95', 781), ('sammy', 780), ('made', 780), ('pedro', 779), ('ties', 779), ('graterol', 779), ('seaver', 778), ('45', 778), ('spanning', 777), ('manning', 777), ('bc', 774), ('alomar', 772), ('starting', 770), ('walgreens', 770), ('gu', 769), ('final', 768), ('matrix', 765), ('willy', 764), ('downs', 762), ('jk5', 762), ('silk', 758), ('zone', 758), ('jordyn', 758), ('royale', 757), ('field', 756), ('gil', 755), ('giants', 755), ('japan', 755), ('n', 754), ('earl', 754), ('1957', 754), ('albert', 750), ('brusdar', 749), ('marsh', 749), ('value', 748), ('ross', 748), ('dunn', 747), ('dean', 745), ('reggie', 744), ('91', 743), ('1-150', 742), ('hays', 742), ('vides', 741), ('aspromonte', 739), ('9th', 738), ('masterpieces', 737), ('700', 737), ('89', 737), ('jsa', 737), ('summit', 735), ('florial', 734), ('indigo', 734), ('phenoms', 732), ('late', 732), ('majestic', 732), ('harmon', 731), ('dominguez', 731), ('mitchell', 730), ('bubba', 729), ('.2', 728), ('39', 727), ('?', 726), ('superstars', 725), ('hinds', 725), ('partial', 725), ('55', 725), ('deion', 724), ('kingery', 724), ('1992', 723), ('your', 723), ('cox', 721), ('baker', 720), ('william', 720), ('richie', 718), ('russ', 717), ('firsts', 716), ('pipeline', 715), ('trammell', 715), ('collins', 714), ('code', 714), ('seasons', 714), ('clemens', 711), ('various', 710), ('barry', 709), ('making', 708), ('herrera', 708), ('87', 707), ('gurriel', 707), ('k', 707), ('whitey', 706), ('salada', 705), ('craig', 704), ('estevan', 704), ('bird', 703), ('luisangel', 703), ('marshall', 702), ('20th', 702), ('hicks', 701), ('bv', 701), ('polar', 701), ('walter', 701), ('artifacts', 700), ('stott', 700), ('43', 699), ('denny', 698), ('story', 695), ('dna', 695), ('cile', 694), ('grey', 694), ('t', 694), ('date', 693), ('wade', 693), ('chasing', 692), ('1982', 690), ('professional', 690), ('ruben', 689), ('ers', 689), ('rivera', 687), ('light', 685), ('kris', 683), ('chewing', 682), ('cincinatti', 682), ('yount', 682), ('fresh', 680), ('-17', 680), ('rios', 679), ('pandora', 679), ('previews', 678), ('leon', 677), ('condition', 677), ('tp', 677), ('pantheon', 676), ('bryson', 676), ('84', 676), ('2011', 674), ('walt', 672), ('brands', 671), ('ford', 670), ('venezuelan', 669), ('ronald', 669), ('h10', 669), ('snyder', 667), ('morgan', 666), ('carlton', 665), ('members', 665), ('efdot', 664), ('rece', 663), ('checklists', 662), ('cia', 661), ('1981', 660), ('sportflix', 660), ('hitting', 660), ('andre', 659), ('kikuchi', 658), ('thunder', 657), ('heliot', 657), ('us300', 657), ('russell', 655), ('siff', 655), ('park', 655), ('dream', 654), ('norm', 654), ('1975', 652), ('alvin', 650), ('l', 650), ('37', 649), ('taveras', 648), ('huff', 647), ('parade', 647), ('50th', 647), ('throwing', 646), ('dubon', 646), ('busch', 645), ('gordon', 645), ('acetate', 645), ('rob', 644), ('police', 644), ('rapture', 643), ('clippings', 640), ('crystal', 639), ('zach', 637), ('ethan', 637), ('cody', 637), ('realmuto', 637), ('rodriguez', 637), ('etopps', 636), ('skubal', 635), ('perforated', 634), ('cameron', 634), ('alzolay', 634), ('jt', 633), ('head', 633), ('coast', 631), ('foundations', 629), ('bcp-82', 629), ('ty', 627), ('63', 627), ('stained', 627), ('98', 626), ('assorted', 626), ('chipper', 625), ('left', 623), ('jeremy', 623), ('dominance', 621), ('patino', 621), ('bader', 619), ('stephenson', 618), ('javier', 618), ('forrest', 618), ('10x', 618), ('glass', 617), ('90', 616), ('defensive', 615), ('shock', 615), ('santana', 615), ('right', 614), ('connor', 614), ('both', 614), ('herb', 613), ('donut', 612), ('straight', 612), ('adames', 612), ('44', 612), ('semi-high', 612), ('1000+', 612), ('larnach', 611), ('starburst', 611), ('sosa', 611), ('doyle', 611), ('uk', 611), ('coaches', 610), ('yusei', 610), ('test', 609), ('catch', 609), ('doug', 608), ('tommie', 608), ('ring', 608), ('flashback', 608), ('adbert', 608), ('wall', 608), ('wes', 607), ('rose', 607), ('nova', 606), ('wins', 606), ('5x7', 605), ('peak', 605), ('58', 605), ('{', 605), ('nucard', 604), ('200++', 604), ('castro', 602), ('graphics', 601), ('puckett', 601), ('abreu', 600), ('rafael', 599), ('chad', 599), ('gossage', 597), ('early', 596), ('postcards', 596), ('1954', 595), ('alan', 594), ('sleeve', 594), ('inscribed', 594), ('65th', 594), ('parker', 593), ('california', 593), ('holoview', 593), ('little', 592), ('bonds', 592), ('jackie', 592), ('xograph', 591), ('tarik', 590), ('roberts', 590), ('beer', 590), ('naturel', 590), ('newman', 589), ('epic', 589), ('genuine', 589), ('noah', 587), ('last', 587), ('48', 586), ('shoe', 586), ('nm+', 585), ('scae', 585), ('83', 585), ('teal', 584), ('2001', 584), ('robertson', 582), ('perez', 582), ('gehrig', 580), ('favorite', 580), ('54', 579), ('panels', 578), ('38', 578), ('presale', 578), ('pants', 577), ('tickets', 577), ('freudis', 577), ('mccormick', 577), ('moniak', 576), ('silhouette', 576), ('doc', 576), ('meyer', 575), ('maris', 575), ('milton', 573), ('braden', 573), ('laundry', 572), ('homer', 571), ('colossal', 571), ('campbell', 570), ('u-pick', 570), ('61', 570), ('tebow', 570), ('reed', 568), ('bryse', 567), ('tucker', 567), ('promos', 566), ('naylor', 566), ('liberatore', 566), ('lebron', 564), ('lime', 563), ('reflections', 563), ('fernando', 563), ('an', 563), ('memorable', 562), ('adrian', 562), ('giveaway', 560), ('moore', 560), ('whale', 560), ('h.o.f', 560), ('ump', 560), ('encarnacion', 559), ('51', 559), ('dj', 558), ('fill', 558), ('sparky', 557), ('cooper', 557), ('100+', 556), ('erick', 556), ('bernie', 555), ('glory', 555), ('jhon', 555), ('3000', 555), ('mejia', 555), ('brock', 555), ('shirt', 554), ('75th', 554), ('college', 553), ('houk', 553), ('pick-em', 552), ('killebrew', 552), ('mcmahon', 552), ('galasso', 551), ('grotesk', 551), ('prisms', 550), ('torkelson', 550), ('moment', 550), ('pete', 550), ('fox', 550), ('67', 550), ('keibert', 550), ('herzog', 550), ('tint', 549), ('all-american', 548), ('lourdes', 548), ('woody', 547), ('lindor', 546), ('46', 546), ('msa', 546), ('lemahieu', 545), ('triumvirate', 544), ('steel', 544), ('marv', 543), ('marty', 543), ('paramount', 543), ('1972', 541), ('93', 540), ('ectra', 540), ('momentous', 540), ('champion', 539), ('calhoun', 539), ('toussaint', 539), ('todd', 539), ('50++', 539), ('it', 538), ('honors', 538), ('quinn', 538), ('1967', 538), (\"'52\", 538), ('statistical', 537), ('2015', 537), ('kirby', 537), ('bio', 536), ('kendall', 536), (\"'ed\", 536), ('apostel', 535), ('inside', 535), ('civale', 535), ('2016', 535), ('ovation', 534), ('gloves', 534), ('1996', 533), (\"o'neal\", 533), ('spring', 533), ('alou', 532), ('bench', 532), ('corey', 531), ('tie-dye', 530), ('darrell', 530), ('del', 530), ('montero', 530), ('marquee', 529), ('nicknames', 529), ('signings', 529), ('richard', 529), ('builder', 529), ('205', 528), ('carey', 528), ('hector', 526), ('203', 526), ('sherten', 525), ('gon', 525), ('panel', 524), ('razor', 523), ('malone', 523), ('70', 522), ('touki', 521), ('hitters', 521), ('stone', 521), ('memorial', 521), ('crawford', 521), ('alvarez', 519), ('french', 518), ('z', 518), ('jenkins', 517), ('renata', 517), ('mullins', 517), ('hologram', 517), ('heart', 516), ('stephen', 516), ('maddux', 516), ('jared', 516), ('1980', 516), ('1974', 515), ('jeremiah', 515), ('pujols', 514), ('lodolo', 514), ('rod', 513), ('advance', 513), ('souvenirs', 512), ('brent', 512), ('gilbert', 511), ('isan', 511), ('aia', 511), ('standouts', 511), ('orix', 511), ('yankees', 511), ('focus', 510), ('allard', 510), ('82', 510), ('whitley', 510), ('renfroe', 509), ('wbc', 509), ('fanfest', 509), ('ringer', 508), ('herman', 507), ('65', 506), ('lead', 506), ('breaks', 506), ('floyd', 505), ('owen', 504), ('impressions', 504), ('scield', 504), ('sp1', 504), ('canario', 503), ('5th', 503), ('nameplate', 503), ('summer', 501), ('76', 501), ('cabrera', 501), ('matos', 501), ('1979', 500), ('margot', 500), ('gilberto', 500), ('kirk', 500), ('1956', 500), ('jasson', 500), ('chirography', 498), ('nunez', 498), ('lopez', 498), ('ot', 498), ('gunnar', 497), ('mathews', 497), ('yamamoto', 497), ('ready', 497), ('62', 497), ('standard', 496), ('almora', 496), ('background', 495), ('1977', 495), ('hands', 495), ('hilliard', 494), ('kolby', 493), ('mitch', 493), ('1991', 492), ('conceion', 490), ('family', 489), ('domingo', 489), ('simmons', 489), ('sandberg', 488), ('vidal', 488), ('meaningful', 488), ('warren', 488), ('cedric', 487), ('h25', 487), ('446', 486), ('franmil', 486), ('6th', 486), ('davidson', 485), ('orbit', 485), ('list', 485), ('antonio', 485), ('brooks', 484), ('banks', 484), ('defining', 484), ('winter', 483), ('m', 483), ('this', 482), ('extended', 482), ('bcp', 482), ('poster', 481), ('jackson', 481), ('contreras', 481), ('may', 480), ('kyle', 480), ('mondesi', 480), ('curt', 479), ('rising', 478), ('shaquille', 477), ('sheldon', 477), ('95', 477), ('alex', 477), ('decals', 477), ('bellinger', 476), ('returns', 476), ('sliding', 475), ('rush', 475), ('betts', 475), ('adalberto', 475), ('colors', 474), ('veterans', 474), ('580', 474), ('championship', 473), ('williamson', 471), ('or', 471), ('pagan', 471), ('bell', 470), ('manuel', 469), ('195', 468), ('dominators', 468), ('1963', 468), ('small', 467), ('scout', 467), ('dr', 467), ('bruce', 466), ('cardenas', 466), ('koufax', 465), ('piazza', 464), ('daulton', 464), ('under', 463), ('threw', 463), ('yu', 463), ('gomez', 462), ('morris', 462), ('meijer', 462), ('pins', 461), ('mom', 461), ('92', 461), ('group', 461), ('tobacco', 461), ('ruth', 460), ('pre-production', 460), ('pie', 460), ('sereis', 460), ('coin', 459), ('75', 459), ('kay', 459), ('brennen', 459), ('franco', 458), ('1997', 456), ('primary', 456), ('famers', 456), ('j.j.', 455), ('junior', 454), ('etched', 453), ('vic', 453), ('i', 453), ('parallels', 453), ('astudillo', 452), ('mk-bk', 452), ('connection', 452), ('over', 451), ('fisher', 451), ('akiyama', 451), ('mint+', 451), ('molina', 450), ('stanton', 450), ('restaurant', 449), ('1978', 449), ('piersall', 449), ('bos', 449), ('potential', 448), ('larry', 448), ('66', 447), ('1965', 447), ('57', 447), ('more', 446), ('excellence', 446), ('64', 446), ('79', 445), ('generations', 445), ('canseco', 445), ('without', 444), ('machado', 444), ('tributes', 444), ('express', 443), ('59', 443), ('brad', 442), ('photos', 442), ('passing', 442), ('xavier', 442), ('schneider', 442), ('leader', 442), ('toppers', 441), ('24ct', 441), ('postcard', 441), ('jerar', 441), ('maitan', 441), ('soroka', 441), ('rival', 440), ('japanese', 440), ('tracker', 440), ('prints', 439), ('size', 439), ('houck', 439), ('nomar', 438), ('breaker', 437), ('excel', 436), ('ferguson', 436), ('farrell', 436), ('shewmake', 435), ('hudson', 435), ('shogo', 435), ('glenallen', 435), ('alejandro', 435), ('all-', 435), ('covington', 433), ('toh', 432), ('mccovey', 432), ('fman', 432), ('strip', 432), ('foes', 431), ('harvey', 431), ('1966', 430), ('huge', 430), ('leaping', 430), ('munson', 428), ('espino', 428), ('travel', 427), ('porter', 427), ('buddy', 427), ('loaisiga', 427), ('active', 427), ('roof', 426), ('turang', 426), ('tidal', 426), ('yastrzemski', 426), ('nicholas', 426), ('15u', 425), ('lowe', 425), ('clyde', 425), ('fun', 424), ('generation', 424), ('callahan', 424), ('7th', 424), ('rtod', 423), ('keller', 423), ('millennium', 422), ('horizontal', 422), ('florida', 421), ('cas', 421), ('burdette', 421), ('preston', 421), ('800++', 421), ('cepeda', 421), ('navy', 420), ('giancarlo', 420), ('47', 420), ('mauch', 420), ('immortal', 419), ('patchworks', 419), ('sets', 419), ('peyton', 418), ('lance', 418), ('rub-offs', 416), ('72', 416), ('snake', 416), ('neil', 416), ('ccc', 416), ('bt', 416), ('griffin', 415), ('cramer', 415), ('yaz', 415), ('caramel', 414), ('presidential', 414), ('torre', 414), ('good', 414), ('epix', 414), ('u', 414), ('legacies', 413), ('vargas', 413), ('milt', 412), ('hitter', 412), ('authenticated', 412), ('candy', 412), ('colin', 412), ('scratch', 411), ('atg', 411), ('steven', 411), ('warriors', 410), ('karl', 410), ('gemmint', 410), ('playing', 409), ('-90', 409), ('fantasy', 409), ('pure', 409), ('rave', 409), ('seager', 409), ('franklin', 409), ('1961', 408), ('upton', 408), ('throneberry', 407), ('nick', 407), ('a.l', 406), ('berra', 405), ('brand', 405), ('dodger', 404), ('reese', 404), ('jazz', 404), ('bordered', 403), ('spirit', 403), ('immortals', 402), ('alumni', 402), ('1869', 401), ('-87', 401), ('cliff', 401), ('information', 401), ('jesse', 401), ('fauci', 401), ('exquisite', 399), ('2014', 399), ('inscription', 398), ('summary', 398), ('frazier', 397), ('tim', 397), ('howie', 397), ('mail-in', 397), ('%', 397), ('lugo', 396), ('extreme', 396), ('lakers', 396), ('dell', 396), ('193', 396), ('n.l', 395), ('skin', 395), ('aflac', 394), ('felix', 394), ('225', 394), ('exclusives', 393), ('roman', 392), ('trios', 391), ('since', 390), ('brice', 390), ('bound', 390), ('dutch', 390), ('giant', 389), ('suarez', 389), ('level', 389), ('treasure', 389), ('titan', 389), (\"'87\", 389), ('pinstripes', 389), ('armour', 389), ('powell', 388), ('month', 388), ('streak', 388), ('invincible', 388), ('gus', 388), ('est', 387), ('estrada', 387), ('basebl', 387), ('sand', 387), ('leonard', 387), ('wallner', 385), ('cycle', 384), ('pages', 384), ('cavaco', 383), ('call', 383), ('bases', 383), ('hanger', 383), ('romero', 382), ('tape', 382), ('beam', 382), ('totally', 382), ('neophyte', 382), ('plates', 382), ('morales', 381), ('peaks', 381), ('duncan', 381), ('school', 381), ('life', 381), ('mc', 381), ('bright', 380), ('125', 380), ('lewis', 380), ('vg-ex+', 380), ('mateo', 380), ('willians', 379), ('100th', 379), ('misner', 379), ('151-300', 379), ('ad', 379), ('molitor', 379), ('larkin', 378), ('132', 378), ('better', 378), ('honor', 378), ('swoboda', 378), ('len', 378), ('ahive', 378), ('arkle', 378), ('yelling', 376), ('sutton', 376), ('seigler', 376), ('ecial', 375), ('ldrs', 375), ('advanced', 375), ('stand', 375), ('fitzgerald', 374), ('/bill', 374), ('+++', 374), ('puzzle', 373), ('cedar', 373), ('etch', 373), ('starquest', 372), ('siani', 372), ('obama', 372), ('leody', 372), ('sheets', 372), ('mill', 372), ('bregman', 371), ('wilmer', 371), ('peterson', 370), ('lee', 370), ('fireworks', 370), ('rise', 370), ('samples', 369), ('81', 369), ('own', 369), ('perspectives', 369), ('cey', 369), ('bud', 368), ('tellez', 368), ('instant', 368), ('keoni', 367), ('rowdy', 367), ('tomas', 367), ('barack', 367), ('plaid', 367), ('southern', 366), ('olympic', 366), ('luka', 366), ('rico', 365), ('mound', 365), ('us214', 365), ('steele', 365), ('cline', 365), ('1951', 365), ('demeritte', 365), ('flores', 365), ('polanco', 364), ('other', 364), ('1994', 364), ('niko', 364), ('rice', 364), ('5x', 364), ('feats', 363), ('78', 363), ('angels', 363), ('101', 363), ('lasorda', 362), ('amber', 362), ('chips', 362), ('deca', 362), ('stephens', 361), ('dunning', 360), ('swinging', 360), ('pre-sale', 360), ('burke', 360), ('doncic', 360), ('97', 359), ('uncommon', 359), ('fortune', 359), ('troy', 359), ('vs', 358), ('evolution', 358), ('maikel', 358), ('shadow', 358), ('basemen', 357), ('lopat', 357), ('trending', 357), ('2x', 357), ('hero', 356), ('premiere', 356), ('kaline', 356), ('amaro', 356), ('murray', 356), ('600++', 356), ('starling', 356), ('ab', 355), ('tie', 355), ('y', 355), ('joseph', 354), ('palmer', 354), ('spangler', 354), ('thairo', 354), ('proofs', 353), ('-18', 353), ('bottom', 352), ('yelich', 352), ('callihan', 352), ('authentix', 352), ('68', 351), ('woods', 350), ('bv=', 350), ('erik', 350), ('raul', 350), ('gallagher', 349), ('verlander', 349), ('trimmed', 349), ('oversized', 349), ('joel', 349), ('er', 349), ('fingers', 349), ('highland', 349), ('zimmer', 349), ('-66', 348), ('wyatt', 348), ('jameson', 348), ('second', 347), ('chip', 347), ('cannon', 347), ('brilliance', 347), ('sigs', 347), ('gamers', 346), ('rb', 346), ('250++', 346), ('caps', 345), ('suzuki', 345), ('colton', 345), ('peters', 345), ('lynch', 344), ('wagner', 343), ('53', 343), ('rocky', 343), ('letterman', 343), ('innings', 343), ('charles', 343), ('pablo', 343), ('santiago', 342), ('weathers', 342), ('edman', 342), ('clippers', 341), ('fantastic', 341), ('ks', 340), ('rooker', 340), ('gazing', 340), ('isaac', 340), ('jp', 340), ('abraham', 340), ('authentics', 339), ('lew', 339), ('shutout', 339), ('86', 339), ('reproductions', 339), ('magma', 338), ('a.j', 337), ('teller', 337), ('shaw', 337), ('dimaggio', 336), ('collectors', 336), ('mascots', 336), ('uecker', 336), ('hulsizer', 336), ('tbd', 336), ('rutherford', 336), ('silvera', 336), (\"o'hearn\", 336), ('columbus', 335), ('holographic', 335), ('cater', 335), ('brujan', 335), ('tsutsugo', 335), ('199', 334), ('names', 334), ('amp', 334), ('pinstriped', 334), ('ace', 334), ('simeon', 334), ('richardson', 333), ('royal', 333), ('duos', 333), ('bour', 333), ('2030', 333), ('youngest', 333), ('40++', 333), ('sisco', 332), ('zimmerman', 332), ('j.c.', 332), ('chisholm', 332), ('4.5', 332), ('zion', 332), ('larussa', 331), ('flag', 331), ('aurora', 331), ('night', 331), ('braun', 331), ('snow', 331), ('5.5', 331), ('scripts', 330), ('everson', 330), ('adair', 330), ('sikkema', 330), ('faedo', 330), ('angel', 330), ('cert', 330), ('hidden', 329), ('ex-mt+', 329), ('three', 328), ('blanchard', 328), ('present', 328), ('devers', 327), ('powder', 327), ('motion', 327), ('brayan', 327), ('deadline', 327), ('kameron', 326), ('butler', 326), ('™', 326), ('ricky', 326), ('kernels', 326), ('shaq', 326), ('jumbos', 325), ('kahn', 325), ('swaggerty', 325), ('program', 325), ('w461', 324), ('pereira', 324), ('meadows', 324), ('25th', 324), ('winn', 324), ('neuse', 324), ('monte', 324), ('69', 323), ('omega', 323), ('go', 323), ('ellis', 323), ('blast', 322), ('premieres', 322), ('keough', 322), ('kids', 321), ('dane', 321), ('glenn', 321), ('vilade', 321), ('famous', 320), ('text', 320), ('-95', 320), ('landrith', 320), ('wynn', 319), ('haywood', 319), ('numbered', 319), ('thorpe', 319), ('alley', 319), ('hobie', 319), ('cubs', 318), ('cecil', 318), ('yordan', 318), ('mears', 318), ('af', 318), ('bauers', 318), ('magic', 318), ('howard', 318), ('presence', 318), ('toro', 318), ('predictor', 317), ('six', 317), ('miranda', 316), ('sock', 316), ('brennan', 315), ('global', 315), ('start', 315), ('catchers', 315), ('grammas', 314), ('fusion', 314), ('gates', 314), ('induction', 314), ('stitch', 314), ('peraza', 313), ('pulsar', 313), ('fritsch', 313), ('khalil', 312), ('ciles', 312), ('7.5', 312), ('clutch', 312), ('stan', 312), ('yogi', 311), ('haney', 311), ('friday', 311), ('armenteros', 311), ('-85', 311), ('biography', 311), ('3x', 311), ('fowler', 310), ('manoah', 310), ('clinton', 310), ('dawn', 310), ('tbt', 310), ('sandoval', 310), ('br', 309), ('oliva', 309), ('most', 309), ('-97', 309), ('itg', 309), ('gabriel', 309), ('nfl', 309), ('earns', 309), ('week', 309), ('tv', 308), ('peach', 308), ('october', 308), ('670', 308), ('isaiah', 308), ('outfielders', 308), ('quintana', 307), ('promotional', 307), ('mario', 307), ('gardner', 307), ('jacoby', 307), ('marichal', 306), ('duffy', 306), ('kershaw', 306), ('hrs', 306), ('oneal', 306), ('lavigne', 306), ('hottest', 306), ('buck', 305), ('1962', 305), ('waves/diagonals', 305), ('499', 305), ('cream', 305), ('mordecai', 304), ('paredes', 304), ('-89', 304), ('edward', 303), ('strasburg', 303), ('batter', 303), ('essential', 303), ('023', 303), ('kobe', 302), ('clint', 302), ('knizner', 302), ('77', 302), ('moose', 301), ('brien', 301), ('behind', 301), ('rudy', 301), ('-56', 300), ('briggs', 300), ('moeller', 300), ('four', 300), ('berk', 300), ('review', 300), ('axis', 299), ('conference', 299), ('unused', 299), ('wehmeier', 299), ('-94', 299), ('covers', 299), ('andy', 298), ('thaiss', 298), ('ahead', 298), ('historical', 297), ('cryptocurrency', 297), ('cmc', 297), ('22k', 297), ('guzman', 296), ('luminous', 296), ('unparalleled', 296), ('oliver', 296), ('swing', 295), ('smalley', 295), ('nlcs', 295), ('slurpee', 294), ('careers', 294), ('britton', 294), ('carew', 294), ('delsing', 294), ('webb', 294), ('midwest', 294), ('501-725', 294), ('harold', 293), ('mayo', 293), ('dillon', 293), ('roll', 293), ('micro', 293), ('blackburn', 293), ('id', 293), ('bleachers', 292), ('burgundy', 292), ('newton', 292), ('hickman', 292), ('cantillo', 292), ('robin', 292), ('updates', 292), ('sr', 291), ('nestle', 291), ('wills', 291), ('inn', 291), ('non-baseball', 291), ('yadier', 290), ('kremer', 290), ('business', 290), ('durham', 290), ('fraley', 290), ('2004', 290), ('watson', 290), ('goss', 289), ('mariano', 289), ('hart', 289), ('full-size', 289), ('tri', 289), ('grover', 289), ('112', 289), ('quick', 289), ('sheet', 289), ('koosman', 289), ('20x', 289), ('west', 288), ('-91', 288), ('vladimir', 288), ('comeback', 288), ('gq', 288), ('ezequiel', 287), ('ionix', 287), ('barons', 287), ('salmon', 287), ('credentials', 287), ('1988', 287), ('rangers', 287), ('meado', 287), ('choo', 287), ('cor', 287), ('lopes', 286), ('powers', 286), ('proect', 286), ('pr', 286), ('perry', 285), ('71', 285), ('connections', 285), ('position', 285), ('poelain', 285), (\"'90\", 285), ('mccraw', 284), ('73', 284), ('bote', 284), ('penmanship', 284), ('cory', 283), ('bcp1', 283), ('walks', 283), ('drysdale', 283), ('conine', 282), ('production', 282), ('copyright', 282), ('allan', 282), ('hl', 282), ('crop', 282), ('dallas', 282), ('rocchio', 282), ('gorgeous', 282), ('reid', 281), ('fever', 281), ('burdick', 281), ('/dick', 281), ('carson', 281), ('fragments', 281), ('gamble', 281), ('grass', 281), ('marquez', 280), ('odom', 280), ('industry', 280), ('amalfitano', 280), ('santos', 280), ('skowron', 279), ('opener', 279), ('nido', 279), ('milk', 278), ('lane', 278), ('strategy', 278), ('bp100', 278), ('aaa', 277), ('indications', 277), ('machine', 277), ('solo', 277), ('iron', 277), ('geiger', 276), ('law', 276), ('ws', 276), ('brinson', 276), ('attractions', 276), ('1973', 276), ('cisco', 276), ('1200+', 276), ('lau', 275), ('shed', 275), ('fuentes', 275), ('stardom', 275), ('tarot', 275), ('hockey', 275), ('96', 275), ('guard', 275), ('third', 274), ('wolf', 274), ('degrom', 274), ('ripped', 274), ('remnants', 274), ('makes', 274), ('stowers', 274), ('michel', 274), ('posey', 274), ('fielder', 274), ('w/sp', 274), ('miksis', 273), ('dusty', 273), ('transfers', 272), (\"o'brien\", 272), ('horlen', 272), ('radiance', 272), ('roederer', 272), ('vault', 272), ('emotion', 271), ('longball', 271), ('peel-offs', 271), ('hologrfx', 271), ('foster', 271), ('keegan', 271), ('jansen', 271), ('0+', 271), ('publishing', 271), ('eloy', 271), ('cabinets', 271), ('beard', 270), ('/mike', 270), ('perez-steele', 270), ('el', 270), ('munoz', 270), ('campusano', 270), ('prized', 270), ('hardball', 269), ('knob', 269), ('turner', 269), ('gleyber', 269), ('trey', 269), ('wong', 269), ('breakers', 269), ('mookie', 269), ('gaiaparra', 268), ('unique', 268), ('yulieski', 268), ('8th', 268), ('coonrod', 268), ('landrum', 267), ('approval', 267), ('visible', 267), ('mazara', 267), ('lutz', 266), ('gm', 266), ('-10', 266), ('manager', 266), ('chef', 266), ('6x', 266), ('asa', 265), ('h1', 265), ('tito', 265), ('burns', 265), ('acclaimed', 265), ('wings', 265), ('sanford', 265), ('201', 265), ('fence', 264), ('cannizzaro', 264), ('treasured', 264), ('torborg', 264), ('duplantier', 264), ('mascot', 264), ('richards', 263), ('take', 263), ('votto', 263), ('boyer', 263), ('1995', 263), ('bailey', 263), ('rizzo', 263), ('jacobs', 263), ('woods-richardson', 263), ('dye', 262), ('1941', 262), ('breakout', 262), ('threat', 262), ('look', 261), ('mystique', 261), ('damon', 261), ('flame', 261), ('virgil', 261), ('picture', 261), ('188', 260), ('smoltz', 260), ('josiah', 260), ('myers', 260), ('dozier', 260), ('croft', 260), ('martin', 259), ('terwilliger', 259), ('price', 259), ('kent', 258), ('zebra', 258), ('dress', 257), ('portraitek', 257), ('brian', 256), ('boggs', 256), ('tough', 256), ('tin', 256), ('wilderd', 256), ('bowmans', 256), ('factions', 256), ('kim', 255), ('molten', 255), ('hunt', 255), ('haze', 255), ('-04', 255), ('haseley', 254), ('heavy', 254), ('puerto', 254), ('sawatski', 254), ('pettitte', 254), ('qty', 254), (\"'85\", 254), ('sanyo', 254), ('freddy', 254), ('philip', 254), ('us183', 254), ('bj', 253), ('hjelle', 253), ('145', 253), ('ton', 253), ('cave', 253), ('bbce', 252), ('denotes', 252), ('sadowski', 252), ('mahomes', 252), ('pepsi', 252), ('cleats', 252), ('laser', 251), ('ref', 251), ('incredible', 251), ('close', 251), ('scores', 251), ('essegian', 251), ('birmingham', 250), ('lumenti', 250), ('mccray', 250), ('tristen', 250), ('9x', 250), ('sutherland', 249), ('rings', 249), ('region', 249), ('bvg', 249), ('myles', 249), ('china', 249), ('song', 248), ('74', 248), ('mcdonald', 248), ('kowar', 248), ('bagwell', 248), ('feel', 248), ('thurman', 248), ('2hr', 248), ('pavletich', 248), ('index', 248), ('scoreless', 248), ('bccg', 248), ('pin', 247), ('ryne', 247), ('hoskins', 247), ('nicholson', 247), ('lanier', 247), ('9.', 247), ('hardy', 247), ('coa', 247), ('danbury', 247), ('ribbon', 247), ('cullen', 246), ('robs', 246), ('starter', 246), ('ozhaino', 245), ('tree', 245), ('hankins', 245), ('stevenson', 245), ('1976', 244), ('karat', 244), ('wavesdiagonals', 244), ('today', 244), ('ma', 244), ('trio', 244), ('busters', 243), ('fy', 243), ('shervyen', 243), ('profiles', 243), ('camilli', 243), ('darryl', 243), ('1948', 243), ('inc', 243), ('game-worn', 242), ('scherzer', 242), ('8x10', 242), ('side', 241), ('machines', 241), ('jensen', 241), ('round', 241), ('priester', 241), ('castillo', 241), ('cyber', 241), ('strickland', 241), ('helmet', 241), ('nabisco', 241), ('abbott', 241), ('holograms', 240), ('son', 240), ('us1', 240), ('monochrome', 240), ('cicotte', 240), ('tapia', 240), ('borderless', 240), ('cash', 240), ('yours', 240), ('hilton', 240), ('lloyd', 239), ('elements', 239), ('krausse', 239), ('meer', 239), ('gavin', 239), ('bottoms', 239), ('dodgers', 239), ('lines', 239), ('/bob', 239), ('scouting', 239), ('witt', 239), ('bombers', 238), ('strawberry', 238), ('luken', 238), ('never', 238), ('foley', 238), ('generational', 238), ('3.5', 238), ('mills', 238), ('talking', 237), ('klimchock', 237), ('pollock', 237), ('tr', 237), ('sub', 237), ('official', 236), ('bristol', 236), ('2006', 236), ('nine', 236), ('suns', 235), ('/dave', 235), ('barrel', 235), ('chinese', 235), ('jamie', 235), ('11th', 235), ('store', 235), ('babe', 234), ('weis', 234), ('amoros', 234), ('ponce', 234), ('shelf', 234), ('spotlight', 234), ('leio', 234), ('198', 234), ('fives', 234), ('1-132', 233), ('hughes', 233), ('brailyn', 233), ('6.5', 233), ('279', 233), ('-98', 233), ('barton', 233), ('vending', 233), ('wide', 233), ('nlds', 233), ('brenton', 233), ('taipei', 232), ('sportscasters', 232), ('fotl', 232), ('crowns', 232), ('-79', 232), ('raking', 232), ('hernandez', 231), ('dalton', 231), ('nu-cards', 231), ('strike', 231), ('corner', 231), ('hershberger', 230), ('starts', 230), ('bond', 230), ('lacy', 230), ('yonder', 230), ('bonner', 230), ('highlight', 230), ('hi-gloss', 230), ('-99', 229), ('naragon', 229), ('dom', 229), ('authority', 229), ('cosmic', 229), ('report', 229), ('4-in-1', 229), ('gibbs', 228), ('sherry', 228), ('donnie', 228), ('contest', 228), ('plaque', 228), ('niekro', 228), ('792', 228), ('sorrell', 228), ('olson', 228), ('shortprint', 228), ('nyc', 228), ('clarence', 227), ('enrique', 227), ('singer', 227), ('bar', 227), ('duke', 227), ('vinyl', 227), ('sharp', 227), ('151-250', 227), ('heston', 227), ('part', 227), ('bb', 226), ('bolling', 226), ('ryder', 226), ('choi', 226), ('matthews', 226), ('jumping', 225), ('rivals', 225), ('held', 225), ('kline', 225), ('fisk', 225), ('rhodes', 225), ('chi', 225), ('aa', 225), ('correa', 225), ('glavine', 225), ('50a', 224), ('boccabella', 224), ('goose', 224), ('welker', 224), ('east', 224), ('wally', 224), ('downtown', 224), ('hodges', 224), ('radar', 224), ('titanium', 223), ('1950', 223), ('106', 223), ('dawson', 223), ('adolfo', 223), ('veteran', 222), ('paris', 222), ('changing', 222), ('fat', 222), ('nat', 222), ('roach', 222), ('what', 222), ('common', 222), ('pearl', 222), ('lorenzen', 222), ('derrick', 222), ('pauson', 222), ('aficionado', 221), ('lyle', 221), ('unripped', 221), ('2002', 221), ('bcp-100', 221), ('friend', 221), ('mackenzie', 221), ('almost', 220), ('brandon', 220), ('doubles', 220), ('timber', 220), ('perdomo', 220), ('barnes', 220), ('hampson', 220), ('us198', 220), ('lids', 220), ('pillar', 219), ('van', 219), ('stolen', 219), ('brosseau', 219), ('oc', 219), ('aramis', 219), ('widevision', 219), ('celtics', 219), ('altuve', 218), ('mata', 218), ('175+', 218), ('ferrara', 218), ('braxton', 218), ('flip', 218), ('skills', 218), ('celebration', 218), ('aqueous', 218), ('bush', 218), ('thames', 218), ('script', 218), ('vee', 218), ('maxwell', 217), ('us175', 217), ('263', 217), ('formely', 217), ('30++', 217), ('simply', 217), ('mcguire', 217), ('veterans/', 217), ('sisk', 217), ('h98', 217), ('skaggs', 217), ('sweater', 217), ('dale', 216), ('delgado', 216), ('savage', 216), ('people', 216), ('baylor', 216), ('ever', 216), ('mejias', 216), ('race', 216), ('naquin', 216), ('ages', 216), ('2000+', 216), ('im', 216), ('drive', 215), ('gerry', 215), ('us50', 215), ('pitcher', 215), ('managers', 215), ('2500+', 215), ('-84', 215), ('trophy', 215), ('pendleton', 215), ('intimidators', 215), ('around', 215), ('chicken', 214), ('2012', 214), ('honus', 214), ('toglia', 214), ('unmarked', 214), ('elehuris', 214), ('collections', 214), ('senzatela', 214), ('simpson', 213), ('view', 213), ('gutierrez', 213), ('us47', 213), ('close-up', 213), ('117', 213), ('hiller', 213), ('snider', 213), ('vollmer', 213), ('144', 213), ('louisville', 213), ('stamped', 213), ('boys', 212), ('dillard', 212), ('94', 212), ('rincon', 212), ('jennings', 212), ('balazovic', 212), ('glue-bk', 212), ('1-350', 212), ('kp', 212), ('phenom', 211), ('alcs', 211), ('darrel', 211), ('190', 211), ('fasc', 211), ('tracewski', 211), ('quarter', 211), ('straw', 211), ('7x', 211), ('ly', 210), ('182', 210), ('catching', 210), ('bonaza', 210), ('timelines', 210), ('gatorade', 210), ('4x', 210), ('luminescent', 210), ('116', 209), ('nola', 209), ('vlad', 209), ('april', 209), ('soriano', 208), ('985', 208), ('/don', 208), ('corrales', 208), ('house', 208), ('bang', 207), ('16u', 207), ('santander', 207), ('we', 207), ('phone', 207), ('boss', 207), ('slugger', 207), ('piee', 207), ('rickey', 206), ('scratch-off', 206), ('lazer', 206), ('vogelbach', 206), ('galen', 206), ('ud3', 206), ('johan', 206), ('curtis', 206), ('network', 206), ('craft', 206), ('buster', 206), ('kyren', 205), ('trent', 205), ('homerun', 205), ('byron', 205), ('strumpf', 205), ('1947', 205), ('gohara', 205), ('bol', 205), ('1-175', 205), ('rudolph', 204), ('catcher', 204), ('wil', 204), ('tartabull', 204), ('shows', 203), ('mack', 203), ('waves', 203), ('cartaya', 203), ('valdes', 203), ('elliott', 203), ('barber', 203), ('soler', 203), ('groome', 203), ('amazing', 203), ('pre-', 203), ('brewer', 203), ('287', 203), ('naturals', 202), ('mccullers', 202), ('pioneers', 202), ('diamonds', 202), ('champs', 202), ('micker', 202), ('truly', 202), ('3-color', 202), ('88', 201), ('tracy', 201), ('some', 201), ('valentine', 201), ('wisdom', 201), ('buffalo', 201), ('bcw', 201), ('dividers', 201), ('monster/super', 201), ('redbirds', 201), ('their', 200), ('awards', 200), ('vaynehuk', 200), ('geraldo', 200), ('woodward', 200), ('eshelman', 200), ('matsui', 200), ('projections', 200), ('lillis', 200), ('gosger', 200), ('monroe', 200), ('se', 200), ('nickel', 200), ('antique', 200), ('176', 199), ('rock', 199), ('severino', 199), ('valera', 199), ('benson', 199), ('sovereign', 199), ('buc', 199), ('mendoza', 199), ('matthew', 199), ('diering', 198), ('504', 198), ('dominic', 198), ('coker', 198), ('apparel', 198), ('buehler', 198), ('valuable', 198), ('hygrade', 198), ('auth', 198), ('chamberlain', 198), ('pignatano', 197), ('nichols', 197), ('exposure', 197), ('gabrielson', 197), ('hatfield', 197), ('egan', 197), ('enshrinement', 197), ('hendrick', 197), ('fair', 197), ('campaign', 197), ('away', 197), ('jefferies', 197), ('storage', 197), ('moreno', 197), ('cron', 197), ('triples', 197), ('rubies', 197), ('canaan', 196), ('gagliano', 196), ('canary', 196), ('gamel', 196), ('127', 196), ('morejon', 196), ('dorish', 196), ('kwang-hyun', 196), ('duggar', 196), ('x2', 196), ('reverse', 196), ('-16', 196), ('oldis', 196), ('ja', 196), ('shard', 195), ('melendez', 195), ('popovich', 195), ('thome', 195), ('records', 195), ('delmonico', 195), ('headers', 195), ('figure', 195), ('walston', 194), ('consolo', 194), ('bdc100', 194), ('optichrome', 194), ('shark', 194), ('ornelas', 194), ('brumley', 194), ('kjerstad', 194), ('c.o.a', 194), ('blair', 193), ('retrofractor', 193), ('/ron', 193), ('cesar', 193), ('shamsky', 193), ('holmes', 193), ('fits', 193), ('stand-ups', 193), ('alexander', 193), ('ascension', 193), ('1.5', 193), ('hannan', 192), ('baum', 192), ('track', 192), ('vern', 192), ('jimenez', 192), ('yusniel', 192), ('trajectory', 192), ('hansen', 192), ('299', 192), ('fine', 192), ('mix', 192), ('rene', 192), (\"'98\", 192), ('friendly', 191), ('121', 191), ('atlantic', 191), ('rojas', 191), ('seals', 191), ('augustine', 191), ('grading', 191), ('prodigies', 191), ('lenny', 190), ('vernon', 190), ('ricketts', 190), ('140', 190), ('baby', 190), ('shoulder', 190), ('breakdown', 190), ('caratini', 190), ('chipz', 190), ('ra', 190), ('lode', 190), ('crash', 189), ('148', 189), ('delino', 189), ('everett', 189), ('save', 189), ('220', 189), ('cronenworth', 189), ('kendrick', 189), ('asr', 189), ('warmup', 189), ('fr', 189), ('souvenir', 188), ('webster', 188), ('wendzel', 188), ('oswald', 188), ('hollywood', 188), ('mj', 188), ('multi', 188), ('speake', 188), ('belters', 188), ('cottier', 188), ('lansing', 188), ('calling', 188), ('rbis', 188), ('curry', 188), ('signing', 187), ('points', 187), ('deshields', 187), ('fastest', 187), ('celebrate', 187), ('toole', 187), ('hale', 187), ('pepe', 187), ('3-run', 187), ('sizemore', 187), ('1-35', 187), ('kubiak', 187), ('display', 187), ('luplow', 187), ('colon', 187), ('cigarette', 187), ('voss', 186), ('149', 186), ('171', 186), ('granite', 186), ('wow', 186), ('schwarber', 186), ('oaks', 186), ('affair', 186), ('kravitz', 185), ('magnetic', 185), ('benintendi', 185), ('carreon', 185), ('fabrics', 185), ('profar', 185), ('burdi', 185), ('whitfield', 185), ('deans', 185), ('ji-man', 185), ('rally', 185), ('attax', 185), ('raines', 184), ('prodigy', 184), ('stahl', 184), ('arroyo', 184), ('thornton', 184), ('fischer', 184), ('g+', 184), ('celebrations', 184), ('cardinals', 184), ('reno', 184), ('mangual', 184), ('basabe', 184), ('walton', 183), ('vision', 183), ('urena', 183), ('moses', 183), ('benchmarks', 183), ('satriano', 183), ('photostamps', 183), ('pursuit', 183), ('robel', 183), ('folders', 183), ('jar', 183), ('saves', 183), ('sho', 183), ('frankie', 183), ('access', 183), ('147', 183), ('sticks', 183), ('patterson', 183), ('marble', 183), ('ona', 183), ('blasingame', 182), ('yankees/', 182), ('lucas', 182), ('hook', 182), ('1-165', 182), ('monteagudo', 182), ('follow', 182), ('idols', 182), ('united', 182), ('nettles', 181), ('membership', 181), ('linz', 181), ('holder', 181), ('rogelio', 181), ('benny', 181), ('sudakis', 181), ('194', 181), ('122', 181), ('toppy', 181), ('burnside', 180), ('match-ups', 180), ('159', 180), ('dominican', 180), ('schilling', 180), ('fritz', 180), ('trilogy', 180), ('teammates', 180), ('sabathia', 180), ('sig', 180), ('17u', 180), ('blasts', 180), ('were', 179), ('moran', 179), ('3-clr', 179), ('masterstrokes', 179), ('bubic', 179), ('ff', 179), ('calbee', 179), ('foli', 179), ('gernert', 179), ('matias', 179), ('bertoia', 179), ('beltre', 179), ('pumpsie', 179), ('walling', 179), ('byn', 179), ('matchups', 179), ('roansy', 179), ('garman', 179), ('camilo', 178), ('jurickson', 178), ('recollection', 178), ('sparks', 178), ('posada', 178), ('boman', 178), ('evans', 178), ('mcclanahan', 177), ('muncy', 177), ('chrisley', 177), ('born', 177), ('type', 177), ('2005', 177), ('collectible', 177), ('mccool', 177), ('peralta', 177), ('indians', 177), ('romano', 176), ('err', 176), (\"'51\", 176), ('cigarettes', 176), ('caramels', 175), ('megacards', 175), ('priddy', 175), ('bucks', 175), ('ss', 175), ('197', 175), ('richmond', 175), ('trades', 175), ('stevens', 175), ('luiz', 175), ('berger', 175), ('christopher', 175), ('h99', 175), ('clean', 175), ('eaton', 174), ('see', 174), ('not', 174), ('astroth', 174), ('2007', 174), ('ahie', 174), ('urquidy', 174), ('alcantara', 174), ('before', 173), ('captured', 173), ('has', 173), ('recommended', 173), ('beaty', 173), ('scope', 173), ('superlative', 173), ('12k', 173), ('111', 173), ('oneil', 173), ('neal', 173), ('8x', 173), ('fuels', 172), ('173', 172), ('nix', 172), ('above', 172), ('bert', 172), ('gph', 172), ('boros', 172), ('hmt31', 172), ('galactic', 172), ('sluggers', 171), ('connie', 171), ('event', 171), ('kanehl', 171), ('chiti', 171), ('oh', 171), ('header', 171), ('w514', 171), ('renato', 171), (',000', 171), ('h80', 171), ('statistics', 170), ('men', 170), ('ike', 170), ('spiezio', 170), ('tandems', 170), ('monster', 170), ('offs', 170), ('viewing', 170), ('leyba', 170), ('terrin', 170), ('vavra', 170), ('chambers', 170), ('buchek', 170), ('paula', 170), ('ossie', 170), ('dl', 169), ('air', 169), ('boog', 169), ('1-50', 169), ('anniv', 169), ('jayson', 169), ('happ', 169), ('baz', 169), ('beau', 169), ('raimel', 169), ('stuart', 169), ('mizell', 169), ('whitaker', 169), ('alfaro', 169), ('157', 169), ('sweepstakes', 169), ('unser', 168), ('dominant', 168), ('youth', 168), ('very', 168), ('gpk', 168), ('penny', 168), (\"o'hoppe\", 168), ('average', 168), (\"'69\", 168), ('member', 168), ('x-press', 167), ('slabbed', 167), ('holding', 167), ('-02', 167), ('guillorme', 167), ('207', 167), ('wash', 167), ('50c', 167), ('micah', 166), ('dyer', 166), ('offseason', 166), ('cy', 166), ('von', 166), ('direct', 166), ('campanella', 166), ('rusney', 166), ('faye', 166), ('660', 166), ('greco', 166), ('kuenn', 166), ('abrams', 166), ('quads', 166), ('shop', 166), ('hiatt', 166), ('days', 166), ('damage', 166), ('multiad', 165), ('plastic', 165), ('hoz', 165), ('kosco', 165), ('1-220', 165), ('disco', 165), ('jaylin', 165), ('ronnie', 165), ('360', 165), ('silks', 165), ('nets', 165), ('pelicans', 165), ('chet', 164), ('thundelap', 164), ('roland', 164), ('eckle', 164), ('e-x', 164), ('gets', 164), ('nth', 164), ('degree', 164), ('leg', 164), ('sibby', 164), ('sisti', 164), ('maurice', 163), ('hard', 163), ('silhouetted', 163), ('t.j.', 163), ('uc3', 163), ('franks', 163), ('gonder', 163), ('throwbacks', 163), ('tattoos', 163), ('mcfarlane', 163), ('126', 163), ('blomberg', 163), ('athletics', 163), ('emblem', 163), ('endorsements', 162), ('mixed', 162), ('tanaka', 162), ('cook', 162), ('reds', 162), ('ascent', 162), ('bohm', 162), ('tsuyoshi', 162), ('stiever', 162), ('scheib', 162), ('cabello', 162), ('driscoll', 162), ('49ers', 162), ('jeffers', 162), ('mayer', 161), ('pop-ups', 161), ('/jim', 161), ('fuego', 161), ('speed', 161), ('santa', 161), ('spikes', 161), ('gloss', 161), ('borucki', 161), ('arenado', 161), ('giovanny', 161), ('americana', 161), ('walters', 161), ('lugnuts', 161), ('polo', 160), ('darius', 160), ('lr', 160), ('unscratched', 160), ('garbage', 160), ('pail', 160), ('fans', 160), ('ryon', 160), ('healy', 160), ('promotion', 160), ('artvue', 160), ('raiders', 160), ('rules', 160), ('topps', 160), ('stories', 160), ('illuminator', 160), ('cocoa', 160), ('lords', 159), ('128', 159), ('letters', 159), ('showing', 159), ('bennett', 159), ('donovan', 159), ('grh', 159), ('leadoff', 159), ('montas', 159), ('whisenant', 159), ('crew', 159), ('skip', 159), ('g-vg', 159), ('almonte', 159), ('401', 159), ('/darrell', 158), ('talbot', 158), ('tejada', 158), ('bauer', 158), ('grasso', 158), ('burnett', 158), ('instavision', 158), ('tasby', 158), ('standing', 158), ('hitchcock', 158), ('wars', 158), ('my', 158), ('dairy', 158), ('mr', 157), ('529-660', 157), ('howlett', 157), ('alfonso', 157), ('commodities', 157), ('fired', 157), ('catfish', 157), ('kemp', 157), ('603', 157), ('thrills', 157), ('order', 157), ('check', 157), ('triple-folders', 156), ('diosbel', 156), (\"'16\", 156), ('grounds', 156), ('tate', 156), ('multi-year', 156), ('center', 156), ('quantrill', 156), ('pennants', 156), ('venezuela', 156), ('facsimile', 156), (\"'97\", 156), ('darwinzon', 155), ('124', 155), ('into', 155), ('gang', 155), ('wax-bk', 155), ('zeuch', 155), ('turnbull', 155), ('pen', 155), ('predictors', 155), ('mgr', 155), ('lamb', 155), ('promising', 155), ('english', 155), ('nathan', 155), ('titanic', 154), ('jenista', 154), ('165', 154), ('yamaguchi', 154), ('allie', 154), ('rube', 154), ('camargo', 154), ('12th', 153), ('korey', 153), ('berry', 153), ('2828', 153), ('morton', 153), ('lake', 153), ('bash', 153), ('negro', 153), ('hugh', 153), ('advantage', 153), ('september', 152), ('boswell', 152), ('dustin', 152), ('sal', 152), ('clay', 152), ('bdc50', 152), ('nunn', 152), ('516', 152), ('renna', 152), ('act', 152), ('colt', 152), ('sign', 152), ('stargell', 152), ('beckham', 152), ('podbielan', 152), ('leja', 152), ('whalen', 152), ('pinder', 152), ('boxes', 152), ('andujar', 152), ('robbie', 151), ('homers', 151), ('bd1', 151), ('185', 151), ('acevedo', 151), ('105', 151), ('nashville', 151), ('south', 151), ('dobnak', 151), ('stl', 151), ('prodigious', 151), ('goryl', 151), ('opened', 151), ('1934', 151), ('dif', 151), ('shortstops', 151), ('bolin', 151), ('spurs', 151), ('alphabetical', 151), ('ectrum', 150), ('boyd', 150), ('leonardo', 150), ('rolison', 150), ('168', 150), ('-1', 150), ('coke', 150), ('arm', 150), ('esposito', 150), ('miniatures', 150), ('playoffs', 150), ('sd', 150), ('moss', 150), ('training', 150), ('hiraldo', 150), ('prestigious', 150), ('tan', 149), ('25++', 149), ('when', 149), ('141', 149), ('131', 149), ('grasswaves', 149), ('consecutive', 149), ('143', 149), ('whammy', 149), ('baseballs', 149), ('shai', 149), ('gilgeous-alexander', 149), ('lifts', 149), ('tomorrow', 149), ('valdivielso', 149), ('yu-cheng', 149), ('return', 149), ('stitchings', 149), ('mann', 149), ('watch', 149), ('1949', 149), ('pro-visions', 149), ('detmers', 148), ('dover', 148), ('daley', 148), ('caleb', 148), ('avant', 148), ('that', 148), ('canterino', 148), ('chronology', 148), ('murrell', 148), ('fulmer', 148), ('fearless', 148), ('barrett', 148), ('napoleon', 148), ('challengers', 148), ('kaleidoscope', 147), ('mckinney', 147), ('vy', 147), ('santo', 147), ('mckenna', 147), ('sf', 147), ('107', 147), ('farmer', 147), ('nes', 147), ('sims', 147), ('pawtucket', 147), ('wells', 147), ('keane', 147), ('works', 147), ('hope', 147), ('plaques', 147), ('north', 147), ('shawn', 147), ('randle', 147), ('creases', 147), ('wang', 147), ('looks', 147), ('sb', 146), ('bdc150', 146), ('196', 146), ('tides', 146), ('shun', 146), ('wise', 146), ('madison', 146), ('cotton', 146), ('dickey', 146), ('clement', 146), ('francona', 146), ('blanks', 146), ('physical', 146), ('holo-silver', 146), ('tigers', 146), ('trancendent', 146), ('wacky', 146), ('1936', 146), ('beauchamp', 145), ('siebler', 145), ('bubbles', 145), ('way', 145), ('deichmann', 145), ('scenes', 145), ('mythical', 145), ('1-25', 145), ('all-black', 145), ('foe', 145), ('ft', 145), ('rj', 145), ('-36', 145), ('tolan', 145), ('norman', 144), ('oyler', 144), ('sounds', 144), ('kramer', 144), ('times', 144), ('escobar', 144), ('throw', 144), ('lewin', 144), ('aber', 144), ('nuggets', 144), ('antoni', 144), ('retrofractors', 143), ('success', 143), ('longest', 143), ('springer', 143), ('ashby', 143), ('shipley', 143), ('s2', 143), ('brothers', 143), ('grass/waves', 143), ('cain', 143), ('aurelio', 143), ('enyel', 143), ('finds', 143), ('tauchman', 143), ('warwick', 143), ('scene', 143), ('lawrence', 143), ('76ers', 143), ('shut', 142), ('merritt', 142), ('measure', 142), ('chaney', 142), ('foxx', 142), ('carpenter', 142), ('-00', 142), ('prince', 142), ('breeding', 142), ('mendick', 142), ('137', 142), ('preeminence', 142), ('27th', 142), ('tatum', 142), ('lin', 142), ('mach', 142), ('mid', 142), ('barker', 142), ('leagues', 142), ('bluewave', 142), ('w/c.o.a', 142), ('interleague', 142), ('schaffer', 141), ('nothing', 141), ('-96', 141), ('knothole', 141), ('memphis', 141), ('cano', 141), ('find', 141), ('ribant', 141), ('seuly', 141), ('pope', 141), ('glow', 141), ('koss', 141), ('higgins', 141), ('nm/mt', 141), ('steals', 141), ('foundation', 140), ('bogaerts', 140), ('bull', 140), ('-12', 140), ('isiah', 140), ('102', 140), ('poss', 140), ('20++', 140), ('mecca', 140), ('me', 140), ('grieve', 140), ('tiger', 140), ('lazar', 140), ('musial', 140), ('crochet', 140), ('durant', 140), ('stanley', 139), ('donaldson', 139), ('monikers', 139), ('griffith', 139), ('gilliam', 139), ('tirso', 139), ('mussina', 139), ('carbon', 139), ('champ', 139), ('arod', 139), ('clout', 139), ('155', 138), ('repoz', 138), ('berberet', 138), ('payton', 138), ('cairo', 138), ('features', 138), ('crosby', 138), ('douglas', 138), ('roznovsky', 138), ('staehle', 138), ('/tom', 138), ('jenkins/bill', 138), ('sweep', 138), ('cutting', 138), ('good+', 138), ('bautista', 138), ('cabinet', 138), ('giel', 137), ('shellenback', 137), ('brant', 137), ('trimmed/vending', 137), ('swag', 137), ('=', 137), ('reynaldo', 137), ('36-packs', 137), ('august', 136), ('royalty', 136), ('senators', 136), ('do', 136), ('/rich', 136), ('patchtime', 136), ('maddox', 136), ('eastern', 136), ('named', 136), ('tejeda', 136), ('alvaro', 136), ('kazanski', 136), ('2009', 136), ('i/a', 136), ('brodowski', 136), ('jefferson', 136), ('andruw', 136), ('rolen', 136), ('paige', 136), ('county', 136), ('crow-armstrong', 136), ('rate', 135), ('kurt', 135), ('was', 135), ('mauer', 135), ('mangum', 135), ('221', 135), ('hawkins', 135), ('markakis', 135), ('bonifacio', 135), ('feliciano', 135), ('bertaina', 135), ('hamlin', 135), ('726', 135), ('alberto', 135), ('stallcup', 135), ('currency', 135), ('pulled', 135), ('baxes', 135), ('bp1', 135), ('lowell', 134), ('tompkins', 134), ('1909-11', 134), ('darin', 134), ('tappe', 134), ('2-run', 134), ('baking', 134), ('shantz', 134), ('non-numbered', 134), ('21st', 134), ('zauchin', 134), ('hideki', 134), ('monumental', 134), ('koppe', 134), ('pavin', 134), ('crusades', 134), ('gives', 134), ('heaney', 134), ('bread', 134), ('184', 134), ('michigan', 134), ('stick', 134), ('flyers', 134), ('live', 134), ('quartz', 134), ('1939', 133), ('stallard', 133), ('dany', 133), ('dirt', 133), ('schunk', 133), ('jarrett', 133), ('118', 133), ('eckersley', 133), ('ferrell', 133), ('frick', 133), ('burn', 133), ('web', 133), ('redemptions', 133), ('owens', 133), ('looking', 133), ('postage', 133), ('joins', 133), ('blackplate', 133), ('maus', 133), ('ard', 133), ('coupon', 133), ('rhys', 132), ('off-season', 132), (\"n't\", 132), ('-2019', 132), ('sherman', 132), ('hour', 132), ('holt', 132), ('mick', 132), ('etchings', 132), ('gatewood', 132), ('pilaik', 132), ('h33', 132), ('/joe', 132), ('guns', 132), ('23kt', 132), ('202', 132), ('glaviano', 132), ('wenceel', 132), ('july', 131), ('centennial', 131), ('spanish', 131), ('souchock', 131), ('osteen', 131), ('00', 131), ('classified', 131), ('nasim', 131), ('heads', 131), ('tyrone', 131), ('castellanos', 131), ('premiums', 131), ('pres', 131), ('have', 131), ('hassell', 131), ('uncut', 131), ('prizes', 131), ('syracuse', 131), ('152', 131), ('eureka', 131), ('kahns', 131), ('wentz', 130), ('presidents', 130), ('stylings', 130), ('delivers', 130), ('sands', 130), ('strikes', 130), ('ship', 130), ('-13', 130), ('takes', 130), ('clendenon', 130), ('spiral', 130), ('fedde', 130), ('coombs', 130), ('osiel', 130), ('mem', 130), ('garvey', 130), ('201-300', 130), ('212', 130), ('haas', 130), ('large', 130), ('commons', 129), ('harridge', 129), ('halladay', 129), ('arms', 129), ('banfield', 129), ('millville', 129), ('meteor', 129), ('moncada', 129), ('potts', 129), ('flaherty', 129), ('bluejays', 129), ('cardtoons', 129), ('1920', 129), ('klaus', 129), ('191', 129), ('documentary', 129), ('matinee', 129), ('edgar', 128), ('160', 128), ('facts', 128), ('kearns', 128), ('iowa', 128), ('shinjo', 128), ('h31', 128), ('1-185', 128), ('diuished', 128), ('204', 128), ('grace', 128), ('d.j', 128), ('plays', 128), ('branch', 128), ('boy', 128), ('liriano', 128), ('vince', 128), ('700d', 128), ('dittmer', 128), ('bowl', 128), ('wilcox', 128), ('quilici', 128), ('us56', 127), ('closter', 127), ('cedeno', 127), ('uhlaender', 127), ('stewart', 127), (\"'17\", 127), ('pee', 127), ('nicky', 127), ('yan', 127), ('dated', 127), ('16th', 127), ('yoshi', 127), ('musgrove', 127), ('loftin', 127), ('lachemann', 127), ('thad', 127), ('cozens', 126), ('kraft', 126), ('antoine', 126), ('hogan', 126), ('lasher', 126), ('warning', 126), ('inter-league', 126), ('gattis', 126), ('buddin', 126), ('schultz', 126), ('hats', 126), ('-2020', 126), ('modesto', 126), ('barreto', 126), ('riddle', 126), ('wrong', 126), ('who', 126), ('moe', 126), ('burton', 126), ('palmeiro', 126), ('dueling', 126), ('hague', 126), ('brilliants', 126), ('scribble', 126), ('f6f6', 126), ('get', 126), ('arnold', 126), ('kaboom', 126), ('gol', 126), ('canada', 125), ('shot', 125), ('lesser', 125), ('zachary', 125), ('pardinho', 125), ('grichuk', 125), ('chandler', 125), ('shirley', 125), ('retrospect', 125), ('justifiable', 125), ('ballgame', 125), ('lazarito', 125), ('kekich', 125), ('cam', 125), ('dixie', 125), ('brokers', 125), ('moret', 125), ('ten', 125), ('vermont', 125), ('lone', 125), ('eclipse', 124), ('bradford', 124), ('lefty', 124), ('slideshow', 124), ('103', 124), ('leaps', 124), ('bounds', 124), ('morrison', 124), ('breakouts', 124), ('330', 124), ('insurance', 124), ('bolger', 124), ('leading', 124), ('harrell', 124), ('136', 124), ('favre', 124), ('utz', 124), ('cecchini', 124), ('stitching', 124), ('pramesa', 124), ('slate', 124), ('version', 124), ('lapalme', 123), ('federal', 123), ('jamari', 123), ('wild', 123), ('browne', 123), ('dixon', 123), ('bielak', 123), ('wohlford', 123), ('enzo', 123), ('spahn', 123), ('hayden', 123), ('661', 123), ('desserts', 123), ('beautiful', 123), ('giambi', 122), ('109', 122), ('151', 122), ('pictured', 122), ('153', 122), ('f/x', 122), ('snakeskin', 122), ('drillers', 122), ('darvish', 122), ('sergio', 122), ('ceremony', 122), ('elston', 122), ('antonelli', 122), ('empty', 122), ('1-204', 122), ('marrero', 121), ('twin', 121), ('switch', 121), ('bowens', 121), ('chapman', 121), ('his', 121), ('alcala', 121), ('mo', 121), ('title', 121), ('lund', 121), ('malkmus', 121), ('olivares', 121), ('sketches', 121), ('-14', 120), ('moon', 120), ('-03', 120), ('robinson', 120), ('119', 120), ('nellie', 120), ('randal', 120), ('contemporary', 120), ('giuliani', 120), ('satchell', 120), ('le', 120), ('247', 120), ('mcgriff', 120), ('burda', 120), ('non-protected', 120), ('concourse', 120), ('blues', 120), ('bridwell', 120), ('jarvis', 120), ('breeden', 119), ('coming', 119), ('stinson', 119), ('powerdeck', 119), ('h23', 119), ('holoviews', 119), ('wallace', 119), ('debuts', 119), ('nm-', 119), ('1-30', 119), ('boone', 119), ('veale', 119), ('pullover', 119), ('392', 119), ('rosell', 119), ('jeren', 119), ('costello', 118), ('heise', 118), ('rizzuto', 118), ('beach', 118), ('milner', 118), ('wrapped', 118), ('kelley', 118), ('138', 118), ('colavito', 118), ('clubbers', 118), ('sembera', 118), ('alds', 118), ('awesome', 118), ('andres', 118), ('678', 118), ('shuba', 118), ('logos', 118), ('splendid', 118), ('arky', 118), ('avila', 118), ('h9', 118), ('fuller', 118), ('end', 118), ('deals', 118), ('-2002', 117), ('ashburn', 117), ('miles', 117), ('alvarado', 117), ('rold', 117), ('bulls', 117), ('stripe', 117), ('peae', 117), ('bearnarth', 117), ('cape', 117), ('nixon', 117), ('bertell', 117), ('ackley', 117), ('becquer', 117), ('loaded', 117), ('sea', 117), ('duane', 117), ('dexter', 117), ('cortes', 116), ('164', 116), ('nossek', 116), ('sensation', 116), ('estelle', 116), ('saverine', 116), ('altered', 116), ('atl', 116), ('humberto', 116), ('no-hitter', 116), ('ademan', 116), ('2.5', 116), ('dyck', 116), ('tua', 116), ('sheen', 116), ('kohl', 116), ('970', 116), ('syndergaard', 116), ('rays', 116), ('astros', 115), ('mcdermott', 115), ('mccann', 115), ('hmt26', 115), ('pairings', 115), ('bcp127', 115), ('nomo', 115), ('abel', 115), ('clemente/mays/groat/larker', 115), ('valdez', 115), ('carbo', 115), ('2003', 115), ('manaea', 115), ('tulsa', 115), ('serena', 115), ('quentin', 115), ('morant', 115), ('ricardo', 114), ('loss', 114), ('osborne', 114), ('cowan', 114), ('seating', 114), ('hutton', 114), ('162', 114), ('hurlers', 114), ('166', 114), ('dawel', 114), ('e-xceptional', 114), ('shearer', 114), ('staley', 114), ('cover', 114), ('indianapolis', 114), ('valmy', 114), ('perma-graphics/topps', 114), ('credit', 114), ('9k', 114), ('redmond', 114), ('equipment', 114), ('60th', 114), ('splinters', 114), ('nen', 114), ('tiant', 114), ('grid', 114), ('giannis', 114), ('drey', 114), ('gd', 114), ('snider/campanella/furillo/hodges', 113), ('bomb', 113), ('squad', 113), ('quaker', 113), ('vito', 113), ('les', 113), ('omar', 113), ('jays', 113), ('nations', 113), ('uribe', 113), ('kluber', 113), ('shining', 113), ('pratto', 113), ('183', 113), ('brights', 113), ('261', 113), ('thrill', 112), ('laboy', 112), ('ht-', 112), ('sprung', 112), ('blackout', 112), ('shipping', 112), ('lennon', 112), ('donn', 112), ('outfield', 112), ('ag', 112), ('seijas', 112), ('101-200', 112), ('citrine', 112), ('scioscia', 112), ('touch', 112), ('224', 112), ('292', 112), ('jankowski', 112), ('johnston', 112), ('szczur', 111), ('trademarks', 111), ('2008', 111), ('how', 111), ('-01', 111), ('pedroia', 111), ('/john', 111), ('clines', 111), ('ozuna', 111), ('place', 111), ('monzant', 111), ('fast', 111), ('ordonez', 111), ('smokey', 111), ('elvin', 111), ('iverson', 111), ('france', 111), ('byung-ho', 111), ('absolutely', 111), ('bicycle', 111), ('screen', 111), ('leads', 111), ('kind', 111), ('brewing', 111), ('building', 111), ('schult', 111), ('cordero', 111), ('teddy', 110), ('warner', 110), ('suder', 110), ('130', 110), ('dente', 110), ('inscriptions', 110), ('stanek', 110), ('valentinetti', 110), ('valenzuela', 110), ('make', 110), ('king-b', 110), ('notable', 110), ('landis', 110), ('suede', 110), ('crouse', 110), ('henson', 110), ('blocks', 110), ('sportstamps', 110), ('362', 110), ('6-', 110), ('antetokounmpo', 110), ('trae', 110), ('swings', 110), ('imports', 109), ('helton', 109), ('174', 109), ('breaux', 109), ('banner', 109), ('soft', 109), ('146', 109), ('187', 109), ('kochanowicz', 109), ('-92', 109), ('lersch', 109), ('ott', 109), ('segura', 109), ('capsule', 109), ('slugfest', 109), ('elia', 109), ('.5', 109), ('rawlings', 109), ('partno', 109), ('vientos', 109), ('grapefruit', 109), ('snapshots', 109), ('marino', 109), ('swell', 108), ('joyce', 108), ('hornsby', 108), ('well', 108), ('separated', 108), ('blink', 108), ('frisella', 108), ('158', 108), ('por', 108), ('compromise', 108), ('wearing', 108), ('famer', 108), ('hatcher', 108), ('duds', 108), ('1946', 108), ('hans', 108), ('135', 108), ('bs', 108), ('cleat', 108), ('renditions', 108), ('nadja', 107), ('town', 107), ('roosevelt', 107), ('wynne', 107), ('safety', 107), ('connects', 107), ('willard', 107), ('-2014', 107), ('179', 107), ('arauz', 107), ('cod', 107), ('be', 107), ('-2018', 107), ('gibson/koufax/veale', 107), ('hendricks', 107), ('podres', 107), ('hebner', 107), ('ivey', 107), ('salinas', 107), ('167', 107), ('varland', 107), ('romo', 107), ('root', 107), ('matty', 107), ('note', 107), ('exmt+', 107), ('colby', 107), ('if', 107), ('begins', 107), ('monday', 107), ('3x3', 107), ('retroactive', 107), ('match', 107), ('jasseel', 106), ('angles', 106), ('/frank', 106), ('163', 106), ('133', 106), ('villanueva', 106), ('goldschmidt', 106), ('yonathan', 106), ('marvel', 106), ('hassan', 106), ('bragan', 106), ('each', 106), ('lahoud', 106), ('ali', 106), ('mccain', 106), ('387', 106), ('1945', 106), ('rps', 106), ('facing', 106), ('cadaco', 106), ('maano', 106), ('yanks', 106), ('bp', 106), ('hartung', 106), ('lemon', 106), ('2010', 106), ('kc', 106), ('posters', 106), ('performances', 106), ('comic', 106), ('re', 106), ('tagovailoa', 106), ('brightest', 105), ('grich', 105), ('amado', 105), ('vanguard', 105), ('schnell', 105), ('13th', 105), ('body', 105), ('space', 105), ('245', 105), ('bollweg', 105), ('lofton', 105), ('corry', 105), ('holland', 105), ('heading', 105), ('kryhoski', 105), ('chavez', 105), ('bcp236', 105), ('397-528', 105), ('co.', 105), ('dasan', 104), ('keebler', 104), ('alyea', 104), ('13k', 104), ('bulger', 104), ('tipton', 104), ('republic', 104), ('nyman', 104), ('presents', 104), ('diagonal', 104), ('non', 104), ('kingdom', 104), ('m.', 104), ('recruit', 104), ('bullpen', 104), ('rollins', 104), ('14x', 104), ('inferno', 104), ('soaring', 104), ('heredia', 104), ('tool', 104), ('longoria', 104), ('escher', 104), ('squares', 104), ('staring', 104), ('golf', 104), ('178', 103), ('fillmyer', 103), ('denaburg', 103), ('attraction', 103), ('clinch', 103), ('brinkman', 103), ('bp55', 103), ('1-250', 103), ('reading', 103), ('kopech', 103), ('olivo', 103), ('daza', 103), ('farmhands', 103), ('you-pick', 103), ('andrews', 103), ('pizza', 103), ('parrish', 103), ('grissom', 103), ('devil', 103), ('4.25', 103), ('.999', 103), ('garrido', 103), ('wilkins', 103), ('223', 103), ('images', 103), ('hatch', 103), ('where', 103), ('kiriloff', 103), ('patterns', 103), ('loaders', 102), ('otani', 102), ('spinks', 102), ('humphreys', 102), ('15+', 102), ('139', 102), ('134', 102), ('headliners', 102), ('jhoan', 102), ('tucson', 102), ('guy', 102), ('h81', 102), ('less', 102), ('phillie', 102), ('toppps', 102), ('niarhos', 102), ('relevance', 102), ('chuck', 101), ('sun', 101), ('epstein', 101), ('sweeney', 101), ('rio', 101), ('womack', 101), ('d.p', 101), ('rowe', 101), ('pentamerous', 101), ('grip', 101), ('gotay', 101), ('akin', 101), ('jagged', 101), ('conor', 101), ('birth', 101), ('puig', 101), ('vg-', 101), ('tucupita', 101), ('nmmt+', 101), ('selig', 100), ('eleven', 100), ('printed', 100), ('doxakis', 100), ('centurions', 100), ('solano', 100), ('dooin', 100), ('proctor', 100), ('a-rod', 100), ('sunglasses', 100), ('coco', 100), ('ing', 100), ('raimfer', 100), ('lolo', 100), ('/greg', 100), ('margevicius', 100), ('schroll', 100), ('hornets', 100), ('widener', 100), ('swiss', 100), ('399', 100), ('us205', 100), ('fabian', 99), ('xander', 99), ('j.d', 99), ('triolo', 99), ('129', 99), ('franchises', 99), ('strahm', 99), ('roarke', 99), ('pompey', 99), ('sonny', 99), ('bolton', 99), ('dotterer', 99), ('bath', 99), ('1938', 99), ('irvin', 99), ('hindu', 99), ('mclaurin', 99), ('elway', 99), ('n43', 99), ('mouton', 99), ('dylan', 98), ('rusty', 98), ('isbel', 98), ('motton', 98), ('161', 98), ('192', 98), ('spooner', 98), ('allen/john', 98), ('ulrich', 98), ('bojarski', 98), ('cionel', 98), ('mcclain', 98), ('weigel', 98), ('katt', 98), ('lonnie', 98), (\"de'andre\", 98), ('president', 98), ('bears', 98), ('mavericks', 98), ('kerry', 98), ('banda', 98), ('florentino', 98), ('fifth', 98), ('cerone', 98), ('jalen', 98), ('249', 98), ('herbert', 98), ('kress', 98), ('helsley', 97), ('buttons', 97), ('/norm', 97), ('f1', 97), ('scratcfs', 97), ('108', 97), ('hovley', 97), ('verbanic', 97), ('kneeling', 97), ('binder', 97), ('517', 97), ('crowley', 97), ('hairston', 97), ('crease', 97), ('herm', 97), ('correct', 97), ('ranew', 97), ('social', 97), ('essentials', 97), ('addis', 97), ('123', 97), ('disc', 97), ('cases', 97), ('court', 97), ('croti', 97), ('inkredible', 97), ('tahnaj', 97), ('dial', 97), ('251', 97), ('scribner', 97), ('gonsalves', 97), ('momentum', 97), ('kroll', 97), ('bcp21', 97), ('campanis', 96), ('fergie', 96), ('alfredo', 96), ('hopkins', 96), ('1916', 96), ('warm-up', 96), ('miss', 96), ('114', 96), ('crowd-pleaser', 96), ('brannen', 96), ('jeffrey', 96), ('summers', 96), ('allison', 96), ('advent', 96), ('calendar', 96), ('300th', 96), ('kauffmann', 96), ('omission', 96), ('universal', 96), ('kid', 96), ('butch', 96), ('toppscom', 96), ('sensational', 96), ('stratton', 96), ('glen', 96), ('titans', 96), ('bdpp53', 96), ('1500', 96), ('iorg', 95), ('hawaii', 95), ('figures', 95), ('craze', 95), ('yang', 95), ('revelations', 95), ('parsons', 95), ('29th', 95), ('photograph', 95), ('inspirations', 95), ('230', 95), ('quirk', 95), ('static', 95), ('jocko', 95), ('.3', 95), ('jojo', 95), ('imprints', 95), ('waslewski', 95), ('kenesaw', 95), ('1-20', 95), ('nike', 95), ('b30-', 95), ('remar', 95), ('dwayne', 95), ('tea/junket', 95), ('m/n', 95), ('lowenstein', 94), ('simon', 94), ('willhite', 94), ('inductee', 94), ('170', 94), ('dillman', 94), ('yl', 94), ('mac', 94), ('willis', 94), ('mantle/killebrew/powell', 94), ('leonel', 94), ('cyberstats', 94), ('arft', 94), ('regular', 94), ('rylan', 94), ('int', 94), ('j.w', 94), ('1500+', 94), ('emergence', 94), ('stance', 94), ('swihart', 94), ('24kt', 94), ('maury', 94), ('ex-nm', 94), ('moises', 94), ('freddie', 94), ('klutts', 94), ('bass', 94), ('culver', 94), ('216', 94), ('oswaldo', 94), ('gittens', 94), ('montana', 94), ('crystals', 93), ('buhart', 93), ('conner', 93), ('/larry', 93), ('span', 93), ('276', 93), ('haydel', 93), ('newcombe', 93), ('169', 93), ('/jerry', 93), ('veal', 93), ('213', 93), ('knight', 93), ('best/best', 93), ('strikout', 93), ('bannon', 93), ('frederick', 93), ('ext', 93), ('/bat', 93), ('bbb5', 93), ('heinie', 93), ('hires', 93), ('fryman', 93), ('edmonds', 93), ('miracle', 93), ('ex-', 93), ('steer', 93), ('cincinati', 93), ('teixeira', 93), ('york-penn', 93), ('lindow', 93), ('celebrity', 93), ('plummer', 93), (\"o'connell\", 93), ('bdc1', 92), ('howerton', 92), ('carmel', 92), ('snell', 92), ('association', 92), ('hd', 92), ('estrellas', 92), ('promotions', 92), ('210', 92), ('june', 92), ('yasiel', 92), ('colla', 92), ('ayala', 92), ('-53-54', 92), ('london', 92), ('starr', 92), ('rocco', 92), ('bosch', 92), ('esteury', 92), ('boxed', 92), ('leiter', 92), ('bundesliga', 92), ('beauty', 92), ('715', 92), ('konerko', 92), ('uceta', 92), ('w/steiner', 92), ('vincent', 91), ('gaylord', 91), ('rodney', 91), ('699', 91), ('merrill', 91), ('h50', 91), ('like', 91), ('orioles', 91), ('156', 91), ('cannons', 91), ('dome', 91), ('galarraga', 91), ('5000', 91), ('espinoza', 91), ('qualters', 91), ('gabe', 91), ('silvestri', 91), ('schaive', 91), ('r330', 91), ('smiling', 91), ('christie', 91), ('dejesus', 91), ('potato', 91), ('290', 91), ('1-60', 91), ('millas', 91), ('justice', 91), ('protector', 91), ('glynn', 91), ('inauguration', 91), ('jfk', 91), ('clearwater', 91), ('fielders', 91), ('q', 91), ('luke', 90), ('tris', 90), ('7-eleven', 90), ('renick', 90), ('winston', 90), ('combinations', 90), ('104', 90), ('firework', 90), ('arthur', 90), ('rui', 90), ('hachimura', 90), ('seal', 90), ('contact', 90), ('signa', 90), ('wendle', 90), ('neibauer', 90), ('j.', 90), ('donuts', 90), ('craftsmen', 90), ('dietrich', 90), ('x8', 90), ('bisons', 90), ('mays/mccovey/williams', 90), ('mathias', 90), ('outing', 90), ('houser', 90), ('insider', 90), ('lange', 90), ('than', 90), ('sampler', 90), ('-9', 90), ('h32', 90), ('authenti', 90), ('-2008', 90), ('leaguers', 89), ('cowboys', 89), ('-08', 89), ('e.r.a', 89), ('spokane', 89), ('pole', 89), ('emmanuel', 89), ('felipe', 89), ('subway', 89), ('howe', 89), ('lettermen', 89), ('larson', 89), ('fitzmorris', 89), ('same', 89), ('tremel', 89), ('prize', 89), ('mart', 89), ('fgs', 89), ('mantle/', 89), ('302', 89), ('clayton', 88), ('ollom', 88), ('pepsi-cola', 88), ('sale', 88), ('mar', 88), ('sima', 88), ('should', 88), ('farewell', 88), ('984', 88), ('b6', 88), ('cox/al', 88), ('fenway', 88), ('glue', 88), ('265-396', 88), ('strokes', 88), ('phanatic', 88), ('missions', 88), ('/orlando', 88), ('speas', 88), ('brickell', 88), ('massey', 88), ('pepiot', 88), ('knuckball', 88), ('1-2-3', 88), ('hi-def', 88), ('spellbound', 88), ('1stitem', 88), ('c3', 87), ('comer', 87), ('jc', 87), ('senior', 87), ('oil', 87), ('tomoyuki', 87), ('sugano', 87), ('strikeouts', 87), ('borkowski', 87), ('1-660', 87), ('falls', 87), ('trot', 87), ('brinkley', 87), ('solly', 87), ('lynn', 87), ('klutts/molitor/trammell/washington', 87), ('war', 87), ('bard', 87), ('lenticular', 87), ('wonders', 87), ('113', 86), ('campos', 86), ('graeme', 86), ('milb', 86), ('nischwitz', 86), ('coot', 86), ('pj', 86), ('adolis', 86), ('crisp', 86), ('maybin', 86), ('so', 86), ('1933', 86), ('herro', 86), ('spiral/dots', 86), ('9hh', 86), ('deatherage', 86), ('gift', 86), ('appel', 86), ('prior', 86), ('cigars', 86), ('vi', 86), ('ciuffo', 86), ('buxton', 86), ('santorini', 86), ('yasmany', 86), ('beyond', 86), ('dyson', 86), ('chien-ming', 86), ('branden', 86), ('-no', 85), ('on/', 85), ('usher', 85), ('recollections', 85), ('eights', 85), ('reach', 85), ('trejyn', 85), ('yordys', 85), ('lighter', 85), ('blaine', 85), ('chaoal', 85), ('honeywell', 85), ('larger', 85), ('shaun', 85), ('wildest', 85), ('azozarena', 85), ('split', 85), ('foods', 85), ('hanser', 85), ('bee', 85), ('furnace', 85), ('christmas', 85), ('wheeler', 85), ('ocean', 85), ('sawyer', 85), ('cronin', 85), ('18x', 85), ('19x', 85), ('206th', 85), ('fact', 84), ('university', 84), ('breed', 84), ('reciprocal', 84), ('eye', 84), ('huntz', 84), ('majors', 84), ('purdin', 84), ('socks', 84), ('reaches', 84), ('alen', 84), ('gcl', 84), ('quantity', 84), ('mothers', 84), ('glassworks', 84), ('minain', 84), ('228', 84), ('bdc162', 84), ('yearbook', 84), ('g.', 84), ('/sonny', 84), ('hi', 84), ('mccutchen', 84), ('leroy', 84), ('kraly', 84), ('aristedes', 84), ('weeks', 84), ('custom', 84), ('talk', 84), ('charte', 84), ('passes', 84), ('boomers', 84), ('avans', 84), ('10+', 84), ('israel', 84), ('pineda', 84), ('blasters', 84), ('calvin', 84), ('jello', 84), ('stallings', 84), ('gerald', 84), ('186', 84), ('battle', 84), ('sisler', 83), ('sylvester', 83), (\"o'neill\", 83), ('masahiro', 83), ('castleman', 83), ('kaprielian', 83), ('crandall', 83), ('highest', 83), ('chocolate', 83), ('aoki', 83), ('jacket', 83), ('grove', 83), ('gate', 83), ('/ken', 83), ('hader', 83), ('1-88', 83), ('states', 83), ('bakery', 83), ('expired', 83), ('file', 83), ('177', 83), ('deal', 83), ('rasmus', 83), ('gsellman', 83), ('topps/ljn', 83), ('mcanally', 83), ('irving', 83), ('ruf', 83), ('ntense', 83), ('nameplates', 83), ('ramierez', 83), ('lights', 83), ('dice', 83), ('entries', 83), ('impressionists', 82), ('demars', 82), ('spanswick', 82), ('surf', 82), ('nash', 82), ('general', 82), ('14k', 82), ('soderstrom', 82), ('dobbek', 82), ('marion', 82), ('info', 82), ('hanson', 82), ('cumberland', 82), ('bolt', 82), ('clipper', 82), ('chick', 82), ('reid-foley', 82), ('kang', 82), ('/pete', 82), ('representatives', 82), ('750', 82), ('lions', 82), ('cheap', 82), ('treats', 82), ('trice', 82), ('reagan', 82), ('baseman', 82), ('outs', 82), ('lajoie', 82), ('traditions', 82), ('pairs', 82), ('fabulous', 82), ('280', 82), ('keldon', 82), ('airations', 82), ('steal', 82), ('avery', 81), ('valdespino', 81), (\"'em\", 81), ('hadley', 81), ('swift', 81), ('meats', 81), ('derian', 81), ('higher', 81), ('merriman', 81), ('stubbs', 81), ('gas', 81), ('clubs', 81), ('fairey', 81), ('brf', 81), ('horse', 81), ('dragon', 81), ('splash', 81), ('bd100', 81), ('oravetz', 81), ('lum', 81), ('captain', 81), ('going', 81), ('canale', 81), ('5-', 81), ('counterparts', 81), ('wendell', 81), ('higashioka', 81), ('embossing', 81), ('spartans', 81), ('s1', 81), ('storm', 81), ('ones', 81), ('numerical', 81), ('spriggs', 80), ('tales', 80), ('division', 80), ('heidemann', 80), ('cats', 80), ('skizas', 80), ('horton', 80), ('clouds', 80), ('mezzanine', 80), ('melvin', 80), ('kipper', 80), ('loop', 80), ('v', 80), ('chee', 80), ('oklahoma', 80), ('214', 80), ('widmar', 80), ('kluszewski', 80), ('garland', 80), ('-1991', 80), ('whitt', 80), ('sincerely', 80), ('rivers', 80), ('modern', 80), ('hi-lites', 80), ('posed', 80), ('bend', 80), ('eddy', 80), ('wizards', 80), ('-2001', 80), ('purina', 80), ('brodeur', 80), ('60t-11816-1', 80), ('tolentino', 80), ('miscut', 80), ('3999', 79), ('schroeder', 79), ('beede', 79), ('infielders', 79), ('dickson', 79), ('501-700', 79), ('all-america', 79), ('two-run', 79), ('-2', 79), ('shortridge', 79), ('autumn', 79), ('sauer', 79), ('bag', 79), ('hills', 79), ('sitting', 79), ('pinch', 79), ('pippen', 79), ('clemente/mays/aaron', 79), ('pass', 79), ('armor', 79), ('2+', 79), ('axcess', 79), ('dalquist', 79), ('stunning', 79), ('hirano', 79), ('03', 79), ('kane', 79), ('wrigley', 79), ('demerit', 79), ('pitches', 79), ('warp', 79), ('within', 79), ('r.c', 79), ('lauer', 79), ('smalls', 79), ('grab', 79), ('personal', 78), ('chuh', 78), ('hagerstown', 78), ('gehringer', 78), ('mapes', 78), ('toles', 78), ('fiore', 78), ('180', 78), ('1b', 78), ('sierra', 78), ('cast', 78), ('centurion', 78), ('scoreboard', 78), ('knobs', 78), ('bd', 78), ('patent', 78), ('wker', 78), ('lohrke', 78), ('gretzky', 78), ('maas', 78), ('vida', 78), ('drury', 78), ('217', 78), ('tops', 78), ('shepard', 78), ('toros', 78), ('debusschere', 78), ('350-460', 78), ('10k', 78), ('joan', 78), ('rymer', 78), ('metals', 78), ('castiglione', 78), ('587', 78), ('269', 78), ('refsnyder', 78), ('gettys', 78), ('gma', 78), ('hentges', 78), ('bcp109', 78), ('supernatural', 78), ('belle', 78), ('ralston', 78), ('62t-50616-1', 78), ('xtra', 78), ('minds', 78), ('flexen', 77), ('breakthroughs', 77), ('waddell', 77), ('jb', 77), ('vierling', 77), ('mallex', 77), ('hobaugh', 77), ('negray', 77), ('illumination', 77), ('baines', 77), ('headquarters', 77), ('toolsy', 77), ('bellingham', 77), ('aguilar', 77), ('pepper', 77), ('alford', 77), ('pit', 77), ('culberson', 77), ('defense', 77), ('5+', 77), ('keeler', 77), ('baldelli', 77), ('arkansas', 77), ('balay', 77), ('ounce', 77), ('toribio', 77), ('feet', 77), ('coating', 77), ('tall', 77), ('burrow', 77), ('many', 77), ('loney', 77), ('tri-color', 77), ('arismendy', 77), ('trenton', 77), ('chen', 77), ('emmitt', 77), ('6+', 77), ('planet', 77), ('prototype', 76), ('monthly', 76), ('p2', 76), ('mail', 76), ('daz', 76), ('rodman', 76), ('/roy', 76), ('fricano', 76), ('/hank', 76), ('/donn', 76), ('kolb', 76), ('hannah', 76), ('fly', 76), ('koplitz', 76), ('shuttle', 76), ('eduardo', 76), ('johnson/bertaina/brabender', 76), ('vaughan', 76), ('redlegs', 76), ('bb/fb', 76), ('maelo', 76), ('1944', 76), ('7-', 76), ('nationals', 76), ('bourque', 76), ('derrel', 76), ('lamar', 76), ('208', 76), ('eaker', 76), ('233', 76), ('blockbuster', 76), ('siri', 76), ('/willie', 76), ('aubrey', 76), ('mantle/maris/killebrew/gentile', 76), ('walgreen', 76), ('133-264', 75), ('dowling', 75), ('poncedeleon', 75), ('morneau', 75), ('-8', 75), ('blanco', 75), ('granny', 75), ('/gene', 75), ('kean', 75), ('shapes/pixels', 75), ('sleater', 75), ('finley', 75), ('mcneil', 75), ('horror-ible', 75), ('prevention', 75), ('662', 75), ('sac', 75), ('tristan', 75), ('331', 75), ('jean', 75), ('hartsfield', 75), ('starrette', 75), ('artwork', 75), ('hw', 75), ('erv', 75), ('matching', 75), ('foscue', 75), ('/steve', 75), ('rollie', 75), ('sons', 75), ('thompson-williams', 75), ('reimagined', 75), ('wal', 75), ('worthy', 75), ('love', 75), ('cotto', 75), ('cities', 75), ('tweed', 75), ('weave', 75), ('recreates', 75), ('encore', 75), ('1-400', 75), (\"'18\", 75), ('0016', 75), ('bello', 74), ('boots', 74), ('matchick', 74), ('prominent', 74), ('callison', 74), ('/juan', 74), ('marichal/vern', 74), ('koufax/drysdale/cloninger', 74), ('brendon', 74), ('181', 74), ('competitors', 74), ('mays/on/johnson', 74), ('seven', 74), ('torrens', 74), ('purpleblue', 74), ('winfield', 74), ('hybrid', 74), ('mcghee', 74), ('hollandsworth', 74), ('rank', 74), ('otto', 74), ('krsnich', 74), ('565', 74), ('kine/cash/howard/piersl', 74), ('fields', 74), ('burlington', 74), ('969', 74), ('414', 74), ('darnell', 74), ('bernardino', 74), ('criswell', 74), ('142', 74), ('solar', 74), ('ser', 74), (\"'63\", 74), ('248', 74), ('229', 74), ('plated', 74), ('evan', 74), ('fc4232', 74), ('berkman', 74), ('plews', 74), ('they', 73), ('graig', 73), ('bump', 73), ('kumar', 73), ('cool', 73), ('lency', 73), ('cate', 73), ('gorski', 73), ('qualls', 73), ('squires', 73), ('liius', 73), ('ix', 73), ('sano', 73), ('bazley', 73), ('biden', 73), ('camp', 73), ('hawk', 73), ('wegener', 73), ('vallimont', 73), ('pop1', 73), ('fractor', 73), ('denver', 73), ('jet', 73), ('cane', 73), ('huntsville', 73), ('tacoma', 73), ('chest', 73), ('quest', 73), ('greensboro', 73), ('garman/cooper/fisk', 73), ('barrels', 73), ('heroics', 73), ('keon', 73), ('stephan', 73), ('seise', 73), ('andersen', 73), ('kobel', 73), ('frisch', 73), ('peguero', 73), ('ariel', 73), ('limmer', 73), ('rader', 73), ('kbo', 73), ('slugs', 73), ('misc', 73), ('pérez', 72), ('binghaon', 72), ('cobb', 72), ('mcnamara', 72), ('tepedino', 72), ('gaston', 72), ('conigliaro', 72), ('talents', 72), ('bcp100', 72), ('511', 72), ('schedule', 72), ('1935', 72), ('variant', 72), ('alou/clemente/gonzalez', 72), ('muhammad', 72), ('rewards', 72), ('hundred', 72), ('umpire', 72), ('workout', 72), ('mat', 72), ('reflection', 72), ('kahle', 72), ('guinn', 72), ('scheinblum', 72), ('tailor', 72), ('616', 72), ('elio', 72), ('chacon', 72), ('cavaliers', 72), ('-1993', 72), ('specials', 72), ('-vg', 72), ('ratliff', 72), ('dogs', 72), ('shakey', 72), ('jerome', 71), ('bank', 71), ('carmona', 71), ('glaus', 71), ('nagy', 71), ('valle', 71), ('115', 71), ('samuel', 71), ('panik', 71), ('hmt25', 71), ('skye', 71), ('monty', 71), ('steller', 71), ('min', 71), ('throne', 71), ('-3', 71), ('roselli', 71), ('ciuit', 71), ('farms', 71), ('samford', 71), ('wockenfuss', 71), ('-excellent', 71), ('didi', 71), ('knapp', 71), ('hahn', 71), ('gunner', 71), ('unknown', 71), ('finishes', 71), ('3-', 71), ('griggs', 71), ('forest', 71), ('respect', 71), ('norwood', 71), ('flags', 71), ('baseabll', 71), ('colorized', 70), ('tiefenauer', 70), ('shades', 70), ('lookouts', 70), ('didier', 70), ('stellar', 70), ('ck', 70), ('lollar', 70), ('154', 70), ('mcknight', 70), ('owings', 70), ('kuzma', 70), ('anmil', 70), ('cage', 70), ('1200', 70), ('marked', 70), ('pfister', 70), ('mahogany', 70), ('souza', 70), ('/yankees', 70), ('words', 70), ('pair', 70), ('ventura', 70), ('ozark', 70), ('jiffy', 70), ('10th-inning', 70), ('657-787', 70), ('hess', 70), ('albertos', 70), ('offense', 70), ('colgan', 70), ('arrieta', 70), ('blandino', 70), ('lade', 70), ('/fritz', 70), ('glacier', 70), ('seeds', 70), ('gone', 70), ('mecole', 70), ('hardman', 70), ('commerative', 70), ('ent', 70), ('across', 70), ('cingrani', 70), ('692', 70), ('ballparks', 70), ('lore', 70), ('bernsen', 70), ('fences', 70), ('net', 70), ('randolph', 70), ('girls', 70), ('these', 70), ('gallen', 69), ('backstops', 69), ('zeferjahn', 69), ('bridges', 69), ('warmoth', 69), ('beware', 69), ('come', 69), ('rightful', 69), ('recognition', 69), ('osiris', 69), ('donoghue', 69), ('-05', 69), ('-15', 69), ('harkness', 69), ('million', 69), ('ctp33', 69), (\"o'toole\", 69), ('spaceflight', 69), ('payload', 69), ('guillen', 69), ('sparma', 69), ('freeze', 69), ('lemke', 69), ('wiesler', 69), ('lifetime', 69), ('crunch', 69), ('retires', 69), ('veen', 69), ('yerzy', 69), ('heyward', 69), ('anchorage', 69), ('playbook', 69), ('968', 69), ('macdonald', 69), ('westbrook', 69), ('219-327', 69), ('lyons', 69), ('clifton', 69), ('-present', 69), ('match-up', 69), ('society', 69), ('surge', 69), ('26n', 69), ('trahan', 68), ('rocker', 68), ('pfeil', 68), ('otlight', 68), ('armas', 68), ('gallo', 68), ('fausto', 68), ('giolito', 68), (\"'re\", 68), ('lemaster', 68), ('rockets', 68), ('deandre', 68), ('garoppolo', 68), ('wilbur', 68), ('bamberger', 68), ('piniella', 68), ('62t-52416-1', 68), ('alonzo', 68), ('aces', 68), ('1911', 68), ('kingham', 68), ('hitters/super', 68), ('powerful', 68), ('lazaro', 68), ('cachet', 68), ('f5', 68), ('gonzales', 68), ('norris', 68), ('pasley', 68), ('gorbous', 68), ('twins', 68), ('sekou', 68), ('doumbouya', 68), ('knicks', 68), ('flowers', 68), (\"'15\", 68), ('richan', 68), ('ags', 68), ('fs', 68), ('bedell', 68), ('korea', 68), ('8k', 68), ('protected', 68), ('bdpp19', 68), ('devon', 67), ('iooss', 67), ('dolphins', 67), ('232', 67), ('azcue', 67), ('capel', 67), ('capital', 67), ('c.', 67), ('oats', 67), ('brubaker', 67), ('bannister', 67), ('yt', 67), ('12-', 67), ('ravelo', 67), ('diving', 67), ('sox/', 67), ('romine', 67), ('bdc90', 67), ('genord', 67), ('comics', 67), ('clem', 67), ('89-176', 67), ('citizens', 67), ('thick', 67), ('locklear', 67), ('cb', 67), ('damian', 67), ('matijevic', 67), ('mendez', 67), ('pucko', 67), ('frias', 67), ('unsigned', 67), ('yoshihisa', 67), ('emperors', 67), ('ervin', 67), ('hurling', 67), ('bernier', 67), ('1211', 67), ('elder', 67), ('hustle', 67), ('327', 67), ('450', 67), ('hogue', 67), ('achives', 67), ('tcsp', 67), ('beehive', 67), ('w.s', 66), ('terrors', 66), ('bcp17', 66), ('stroud', 66), ('heights', 66), ('orientation', 66), ('lambert', 66), ('lawson', 66), ('yoan', 66), ('h76', 66), ('showpieces', 66), ('tokyo', 66), ('kreutzer', 66), ('tidewater', 66), ('quiz', 66), ('decker', 66), ('rigney', 66), ('presko', 66), (\"o'malley\", 66), ('dunkin', 66), ('nino', 66), ('szotkiewicz', 66), ('nuts', 66), ('eyes', 66), ('knox', 66), ('accolades', 66), ('ex-+', 66), ('dusak', 66), ('sykes', 66), ('dots', 66), ('lyttle', 66), ('wine', 66), ('photographer', 66), ('idol', 66), ('/fred', 66), ('hood', 66), ('bengal', 66), ('mikey', 66), ('wcg', 66), ('superman', 66), ('22m', 66), ('retzer', 66), ('bottle', 66), ('mayweather', 66), ('cris', 66), ('guide', 66), ('’', 66), ('albuquerque', 65), ('t1b', 65), ('moonshots', 65), ('gagne', 65), ('-2000', 65), ('cmg', 65), ('tischinski', 65), ('tenace', 65), ('all-starworld', 65), ('cadyn', 65), ('grenier', 65), ('172', 65), ('kotsay', 65), ('f2c', 65), ('ayton', 65), ('h26', 65), ('albury', 65), ('brandt', 65), ('jaren', 65), ('jung-ho', 65), ('sultan', 65), ('swat', 65), ('con', 65), ('mfrpartno', 65), ('mazeroski', 65), ('jharel', 65), ('ferraro', 65), ('coghlan', 65), ('busse', 65), ('gardiner', 65), ('cavalli', 65), ('checker', 65), ('11x', 65), ('-1992', 65), ('vortex/maze', 65), ('-88', 65), ('sadaharu', 65), ('kyrie', 65), ('wilfred', 65), (\"'19\", 65), ('umbach', 65), ('stockton', 65), ('240', 65), ('xplosion', 65), ('vanasco', 65), ('betemit', 65), ('dilson', 65), ('/chuck', 65), ('1861', 65), ('sockers', 65), ('daniels', 65), ('gage', 65), ('transcenent', 65), ('homeplate', 64), ('change', 64), ('pro-vision', 64), ('tribe', 64), ('hanebrink', 64), ('rendon', 64), ('chattanooga', 64), ('reberger', 64), ('x-pectations', 64), ('/marv', 64), ('bundy', 64), ('nottingham', 64), ('rex', 64), ('mccarthy', 64), ('keys', 64), ('vasquez', 64), ('cda-br', 64), ('pistons', 64), ('petty', 64), ('7-11', 64), ('lonnett', 64), ('sachell', 64), ('397', 64), ('tilson', 64), ('tomlin', 64), ('686', 64), ('fc4916', 64), ('rippelmeyer', 64), ('mementos', 64), ('palka', 64), ('gunners', 64), (']', 64), ('encounters', 64), ('herrnstein', 64), ('marte', 64), ('elliot', 64), ('nr', 64), ('wilber', 64), ('materialistic', 64), ('entrepreneurs', 64), ('petricka', 64), ('ntreev', 64), ('milan', 64), ('cc', 64), ('664', 64), ('preeminent', 64), ('52-card', 63), ('scott/grilli/magrini', 63), ('chicks', 63), ('ramsdell', 63), ('gallardo', 63), ('ends', 63), ('bailor', 63), ('hamels', 63), ('rangel', 63), ('mullen', 63), ('bergman', 63), ('onville', 63), ('guerra', 63), ('hubbard', 63), ('315', 63), ('si', 63), ('t-shirt', 63), ('sp86', 63), ('rea', 63), ('stengel', 63), ('anfernee', 63), ('jackets', 63), ('shenton', 63), ('luminance', 63), ('dort', 63), ('bleacher', 63), ('hanley', 63), ('284', 63), ('as-', 63), ('bret', 63), ('natural', 63), ('terrell', 63), ('holo-', 63), ('broad', 63), ('bcp182', 63), ('06', 63), ('ainge', 63), ('ebba', 63), ('claire', 63), ('dewayne', 63), ('riverside', 63), ('sophomore', 63), ('ul', 63), ('rance', 63), ('fur', 63), ('209', 63), ('valentin', 63), ('vesia', 63), ('salazar', 63), ('giallombardo', 63), ('jiminez', 63), ('dorn', 63), ('fathers', 63), ('entertainers', 63), ('500++', 63), ('runlos', 63), ('reverence', 63), ('patriots', 63), ('southpaws', 63), ('cuba', 63), ('cleon', 62), ('wakefield', 62), ('mclain', 62), ('hinton', 62), ('gelnar', 62), ('elvis', 62), ('throwers', 62), ('hideo', 62), ('jeisson', 62), ('brujon', 62), ('r314', 62), ('dewitt', 62), ('wiffle', 62), ('mentor', 62), ('mengden', 62), ('cuno', 62), ('commissioners', 62), ('mahler', 62), ('1921', 62), ('open', 62), ('singles', 62), ('marshals', 62), ('hoerner/kernek/williams', 62), ('princeton', 62), ('envelope', 62), ('valley', 62), ('bdc6', 62), ('clarkin', 62), ('doctor', 62), ('extraterrestrial', 62), ('-86', 62), ('portland', 62), ('lumberjacks', 62), ('roots', 62), ('springfield', 62), ('273', 62), ('rey', 62), ('cpa-bl', 62), ('completes', 62), ('tea', 62), ('--', 62), (\"'59\", 62), ('darren', 62), ('rest', 62), ('262', 62), ('-6', 62), ('mississippi', 62), ('tca-', 62), ('bves', 62), ('products', 61), ('bevacqua', 61), ('gladden', 61), ('mcrae', 61), ('dewees', 61), ('adams', 61), ('kessinger', 61), ('2b', 61), ('kostro', 61), ('clase', 61), ('street', 61), ('rhombuses/triangles', 61), ('fresno', 61), ('lazzeri', 61), ('pp-', 61), ('cowser', 61), ('collum', 61), ('/billy', 61), ('huang', 61), ('kloffenstein', 61), ('scrapbook', 61), ('trivia', 61), ('fort', 61), ('lakins', 61), ('oly', 61), ('hmt9', 61), ('270', 61), ('hershell', 61), ('04', 61), ('ellsworth', 61), ('smoke', 61), ('edmundo', 61), ('las', 61), ('fish', 61), ('te', 61), ('mckeon', 61), ('erving', 61), ('aquasox', 61), ('celebrating', 61), ('metcalf', 61), ('246', 61), ('elmer', 61), ('walls', 61), ('spanberger', 61), ('fake', 61), ('selfie', 61), ('wonder', 61), ('h59', 61), ('us290', 61), ('1-90', 61), ('buhl', 60), ('al/nl', 60), ('central', 60), ('189', 60), ('block', 60), ('trevino', 60), ('aldrete', 60), ('lillard', 60), ('mcdaniel', 60), ('paddack', 60), ('h36', 60), ('vanmeter', 60), ('agustin', 60), ('lion', 60), ('yellen', 60), ('uniforms', 60), ('backman', 60), ('eight', 60), ('/ed', 60), ('broder', 60), ('285', 60), ('jeudy', 60), ('adlesh', 60), ('iguchi', 60), ('killebrew/powell/on', 60), ('schoonmaker', 60), ('madlock', 60), ('thom', 60), ('mcan', 60), ('bosa', 60), ('statue', 60), ('refrtor', 60), ('navarro', 60), ('/phil', 60), ('howell', 60), ('gap', 60), ('400th', 60), ('cordially', 60), ('tary', 60), ('harrelson', 60), ('nhl', 60), ('saints', 60), ('logoman', 60), ('660th', 60), ('1537', 60), ('fc160', 60), ('francis', 59), ('collin', 59), ('replica', 59), ('slick', 59), ('stadiums', 59), ('bukauskas', 59), ('3hr', 59), ('498', 59), ('none', 59), ('us55', 59), ('maria', 59), ('dbacks', 59), ('soderholm', 59), ('mcclure', 59), ('help', 59), ('please', 59), ('pilkington', 59), ('stassi', 59), ('45s', 59), ('birthday', 59), ('mcqueen', 59), ('rogan', 59), ('1927', 59), ('325', 59), ('incaviglia', 59), ('dockman', 59), ('astro', 59), ('peoria', 59), ('pk', 59), ('hillman', 59), ('salvador', 59), ('alexis', 59), ('ss9258', 59), ('15x', 59), ('tyree', 59), ('burleson', 59), ('heroism', 59), ('cloyd', 59), ('bloom', 59), ('alfonzo', 58), ('robbins', 58), ('collectibles', 58), ('harden', 58), ('jaime', 58), ('butters', 58), ('agnos', 58), ('blockbusters', 58), ('oglivie', 58), ('room', 58), ('mcbroom', 58), ('lobert', 58), ('rivas', 58), ('lyon', 58), ('no-hit', 58), ('pisoni', 58), ('wicker', 58), ('schroder', 58), ('hudler', 58), ('maximum', 58), ('venable', 58), ('suite', 58), ('scohing', 58), ('prototypes', 58), ('jeoff', 58), ('benched', 58), ('brummett', 58), ('conrado', 58), ('pagliarulo', 58), ('caray', 58), ('oates', 58), ('3ibb', 58), ('hicklen', 58), ('502', 58), ('wilton', 58), ('wilkin', 58), ('faul', 58), ('retirement', 58), ('lock', 58), ('fs-', 58), ('torii', 58), ('717', 58), ('movie', 58), ('postion', 58), ('benjamin', 58), ('dykes', 58), ('coleccionista', 58), ('toleteros', 58), ('destiny', 58), ('casale', 58), ('empire', 58), ('1930', 58), ('zip', 58), ('dee', 58), ('nu-card', 58), ('apprentice', 58), ('galvis', 58), ('548', 58), ('r327', 58), ('jets', 58), ('caught', 58), ('yard', 58), ('/johnny', 58), ('pyroteknics', 58), ('bradshaw', 58), ('o.23', 58), ('refctor', 58), ('lost', 57), ('espn', 57), ('/leon', 57), ('strohmayer', 57), ('nagelson', 57), ('infield', 57), ('portnoy', 57), ('kolstad', 57), ('lucchesi', 57), ('dodson', 57), ('station', 57), ('conforto', 57), ('hearn', 57), ('heineman', 57), ('x3', 57), ('billings', 57), ('zastryzny', 57), ('passport', 57), ('friedl', 57), ('x4', 57), ('mckinley', 57), ('tetsuto', 57), ('yamada', 57), ('waves/key', 57), ('lamont', 57), ('vukovich', 57), ('p/co', 57), ('mantle/maris/colavito/lemon', 57), ('kenny', 57), ('235', 57), ('stuff', 57), ('ar', 57), ('dahl', 57), ('352-500', 57), ('flying', 57), ('profile', 57), ('narum', 57), ('slaughter', 57), ('travelers', 57), ('coverage', 57), ('252', 57), ('caruso', 57), ('doerr', 57), ('laurin', 57), ('luna', 57), ('teaches', 57), ('lowther', 57), ('idependence', 57), ('includes', 57), ('cimino', 57), ('tying', 57), ('dk205', 57), ('dufex', 57), ('carraway', 57), ('colvin', 57), ('brookens', 57), ('us99', 57), ('garibaldi', 56), ('fitzsimmons', 56), ('scipio', 56), ('hartman', 56), ('c6', 56), ('donovan/stafford/mossi/pappas', 56), ('201-350', 56), ('bettis', 56), ('steelers', 56), ('953', 56), ('528', 56), ('aaa/procards', 56), ('tulowitzki', 56), ('would', 56), ('johnnie', 56), ('lemieux', 56), ('hardaway', 56), ('broncos', 56), ('barragan', 56), ('bucha', 56), ('day-glo', 56), ('rooie', 56), ('vin', 56), ('58t-82815-1', 56), ('darick', 56), ('cimber', 56), ('virginia', 56), ('ca', 56), ('lucie', 56), ('luttrell', 56), ('/gil', 56), ('tillo', 56), ('rosales', 56), ('guilds', 56), ('r.', 56), ('seager/turner', 56), ('dickerson', 56), ('syd', 56), ('thorn', 56), ('282', 56), ('noble', 56), ('henzman', 56), ('burgess', 56), ('maples', 56), ('cda-jd', 56), ('astral', 56), ('benzinger', 56), ('-46', 56), ('salutations', 56), ('278', 56), ('peel', 56), ('rather', 56), ('spelled', 56), ('beats', 56), ('refractror', 56), ('us166', 56), ('41t', 56), ('5-tool', 56), ('mrs', 56), ('sprague', 55), ('area', 55), ('achievement', 55), ('58t-100915-1', 55), ('point', 55), ('1559', 55), ('azocar', 55), ('knott', 55), ('turquoise', 55), ('slide', 55), ('dragons', 55), ('multiple', 55), ('grizzlies', 55), ('kealey', 55), ('corky', 55), ('learning', 55), ('boyhood', 55), ('konnor', 55), ('melton', 55), ('groat', 55), ('01', 55), ('selma', 55), ('woolworth', 55), ('-2013', 55), ('met', 55), ('fuld', 55), ('frazier/judge/stanton', 55), ('1923', 55), ('destination', 55), ('pucket', 55), ('sdcc', 55), ('1913', 55), ('holders', 55), ('tott', 55), ('koshorek', 55), ('claypool', 55), ('abner', 55), ('oldest', 55), ('328', 55), ('eagles', 55), ('thyago', 55), ('vieira', 55), ('bucky', 55), ('raptors', 55), ('pacers', 55), ('brees', 55), ('orie', 55), ('muller', 55), ('mikie', 55), ('mahtook', 55), ('grullon', 55), ('flips', 55), ('executive', 55), ('58t-72516-1', 55), ('-63', 55), ('hand-collated', 55), ('m.p', 55), ('08', 55), ('bbb1', 55), ('saenz', 55), ('blacksliver', 55), ('freisleben', 55), ('flakes', 55), ('hael', 55), ('bounties', 55), ('phelps', 55), ('wrecking', 55), ('1932', 55), ('pink/light', 55), ('busby', 55), ('ba', 55), ('371', 55), ('aka', 55), ('fd9829', 55), ('dd-', 55), ('brass', 54), ('jud', 54), ('werhas', 54), ('exchange', 54), ('dec', 54), ('pocus', 54), ('etheridge', 54), ('davey', 54), ('hepler/bill', 54), ('complete-game', 54), ('/dooley', 54), ('magneuris', 54), ('underwood', 54), ('t-96', 54), ('bdc75', 54), ('roa-', 54), ('alusik', 54), ('taft', 54), ('strahler', 54), ('telmito', 54), ('lorenzo', 54), ('allen/', 54), ('sold', 54), ('chart', 54), ('engel', 54), ('slaten', 54), ('valaika', 54), ('armory', 54), ('elrod', 54), ('tip', 54), ('titles', 54), ('opti-chrome', 54), ('robby', 54), ('ars', 54), ('ripes', 54), ('savannah', 54), ('creations', 54), ('-76', 54), ('szapucki', 54), ('s74', 54), ('ceccarelli', 54), ('carew/', 54), ('adeiny', 54), ('hechavarria', 54), ('alvis', 54), ('kranepool', 54), ('zepp', 54), ('/harmon', 54), ('retrospectrum', 54), ('greif//ray', 54), ('jody', 54), ('bagley', 54), ('bunning', 54), ('randall', 54), ('hamric', 54), ('maris/', 54), ('257', 54), ('matisse', 54), ('thybulle', 54), ('linen', 54), ('pierzynski', 54), ('84-8', 54), ('wily', 54), ('starliner', 54), ('likely', 54), ('n617', 54), ('car', 54), ('1994-95', 54), ('hillary', 54), ('cash/conigliaro/horton', 54), ('983', 54), ('maness', 54), ('reimagining', 54), ('cactus', 54), ('fest', 54), ('gile', 54), ('deebo', 54), ('continues', 54), ('stugotz', 54), ('ornaments', 54), ('roundup', 54), ('fehn', 54), ('ruppert', 54), ('t-95', 54), ('antone', 54), ('collated', 54), ('retroectrum', 54), ('espinosa', 53), ('coby', 53), ('wit', 53), ('durbin', 53), ('veryzer', 53), ('magrini', 53), ('3b', 53), ('possible', 53), ('dakota', 53), ('lucius', 53), ('mayfield', 53), ('mirage', 53), ('tandem', 53), ('1-126', 53), ('-7', 53), ('altherr', 53), ('bubble', 53), ('manziel', 53), ('finnegan', 53), ('561', 53), ('robbery', 53), ('/tigers', 53), ('columbia', 53), ('1907', 53), ('chatwood', 53), ('strong', 53), ('vancouver', 53), ('him', 53), ('bp109', 53), ('enrigue', 53), ('biddle', 53), ('textbook', 53), ('reality', 53), ('/bobby', 53), ('2,000th', 53), ('jonas', 53), ('sister', 53), ('plum', 53), ('cosman', 53), ('vegas', 53), ('anthology', 53), ('remember', 53), ('essence', 53), ('genius', 53), ('service', 53), ('gale', 53), ('solis', 53), ('goliat', 53), ('mcmillan', 53), ('294', 53), ('magical', 53), ('yairo', 53), ('suit', 53), ('462', 53), ('cond', 53), ('invest', 53), ('lincecum', 53), ('garner', 53), ('agganis', 53), ('fa-', 53), ('stealing', 53), ('ndls', 53), ('buttrey', 53), ('mlm-', 53), ('foul', 52), ('storied', 52), ('mcclendon', 52), ('achievements', 52), ('curve', 52), ('ashcraft', 52), ('gerrit', 52), ('garlick', 52), ('paschall', 52), ('donna', 52), ('091499', 52), ('n2248', 52), ('dubuque', 52), ('middlebrooks', 52), ('lindstrom', 52), ('ox', 52), ('mispelled', 52), ('ewing', 52), ('slater', 52), ('mcnally', 52), ('125th', 52), ('aust', 52), ('barnowski', 52), ('garment', 52), ('leh', 52), ('susac', 52), ('threatt', 52), ('aaron/mays/cepeda/mccovey', 52), ('bbb2', 52), ('celebratek', 52), ('cc-', 52), ('ausome', 52), ('coll', 52), ('tls', 52), ('davis/gus', 52), ('theo', 52), ('kipp', 52), ('58t-82715-1', 52), ('faces', 52), ('tzu-wei', 52), ('gerber', 52), ('flight', 52), ('fahey', 52), ('utah', 52), ('bam', 52), ('unit', 52), ('main', 52), ('jagielo', 52), ('blackmon', 52), ('stub', 52), ('da-', 52), ('graff', 52), ('spangenberg', 52), ('rajcic', 52), ('combs', 52), ('hole', 52), ('keury', 52), ('lea', 52), ('ldr', 52), ('pencil', 52), ('stengel/', 52), ('hazle', 52), ('428', 52), ('sogard', 52), ('stained-glass', 52), ('hasbro', 52), ('memo', 52), ('burrell', 52), ('edmund', 52), ('moronta', 52), ('gomber', 52), ('n2953', 52), ('zeenut', 52), ('spic', 52), ('loose', 52), ('cale', 51), ('hurley', 51), ('/jose', 51), ('willey', 51), ('z-axis', 51), ('cletis', 51), ('championships', 51), ('boise', 51), ('springs', 51), ('livan', 51), ('11k', 51), ('gordie', 51), ('thought', 51), ('18th', 51), ('crews', 51), ('leach', 51), ('burroughs', 51), ('nl-12', 51), ('hose', 51), ('ya', 51), ('yoo-hoo', 51), ('ora-', 51), ('chunk', 51), ('isranel', 51), ('tadahito', 51), ('papelbon', 51), ('.424', 51), ('prospectus', 51), ('crowd', 51), ('hoodie', 51), ('drakes', 51), ('22kt', 51), ('dayton', 51), ('trammel', 51), ('kazuo', 51), ('provides', 51), ('tg', 51), ('daryl', 51), ('mono', 51), ('publications', 51), ('nucleus', 51), ('kimball', 51), (\"'89\", 51), ('beneath', 51), ('galaxy', 51), ('cpa-', 51), ('deadliest', 51), ('chunks', 51), ('calderone', 51), ('8-', 51), ('us174', 51), ('impossible', 51), ('campaneris', 51), ('jewish', 51), ('312', 51), ('forbes', 51), ('washing', 51), ('fd9432', 51), ('anst', 51), ('62t-50516-1', 51), ('ap-ff5', 51), ('slv', 51), ('prm', 51), ('rabe', 50), ('mccabe', 50), ('burbach', 50), ('parks', 50), ('aaron/banks/boyer/mathews', 50), ('467', 50), ('dilauro', 50), ('27p', 50), ('/bart', 50), ('ibandel', 50), ('isabel', 50), ('-2004', 50), ('kouzmanoff', 50), ('519', 50), ('crimian', 50), ('ashe', 50), ('savino', 50), ('1931', 50), ('teufel', 50), ('7+', 50), ('416', 50), ('chelcie', 50), ('231', 50), ('kester', 50), ('greenville', 50), ('eilers/rob', 50), ('wstop', 50), ('gardena', 50), ('terrence', 50), ('extends', 50), ('borland', 50), ('ellie', 50), ('eugene', 50), ('miggy', 50), ('mobile', 50), ('ds', 50), ('launchers', 50), ('heist', 50), ('bafflers', 50), ('ivie', 50), ('h28', 50), ('klimkowski', 50), ('trayce', 50), ('corn', 50), ('band', 50), ('chisenhall', 50), ('kyler', 50), ('h53', 50), ('npb', 50), ('266', 50), ('99th', 50), ('speeds', 50), ('gritty', 50), ('elpidio', 50), ('mouth', 50), ('refill', 50), ('kiiiiid', 50), ('allowed', 50), ('poche', 50), ('iap-', 50), ('deivy', 50), ('kinley', 50), ('spook', 50), ('olmedo', 50), ('namath', 50), ('nyy', 50), ('alfson', 50), ('dc', 50), ('meteoric', 50), ('danks', 50), ('bruins', 50), ('16x', 50), ('ics', 50), ('57t-111515-1', 50), ('t46', 50), ('creators', 50), ('wesley', 50), ('295', 50), ('galloway', 50), ('englert', 50), ('bean', 50), ('1940', 50), ('factor', 50), ('nickeil', 50), ('alexander-walker', 50), ('artillery', 50), ('franchy', 50), ('kolek', 49), ('alive', 49), ('buzz', 49), ('alika', 49), ('sleeves', 49), ('albany', 49), ('/maury', 49), ('creatures', 49), ('berrios', 49), ('siebern/bauer/lumpe', 49), ('ham', 49), ('wisconsin', 49), ('wiz', 49), ('xl', 49), ('bowden', 49), ('roberts/don', 49), ('nl-17', 49), ('pacheco', 49), ('pederson', 49), ('wendy', 49), ('960', 49), ('arena', 49), ('fires', 49), ('solomon', 49), ('dramatic', 49), ('11-', 49), ('pichardo', 49), ('wilkerson', 49), ('s®', 49), ('skydome', 49), ('[', 49), ('azl', 49), ('paint', 49), ('dime', 49), ('gosuke', 49), ('katoh', 49), ('refactor', 49), ('daily', 49), ('chaney/duffy', 49), ('211', 49), ('barkley', 49), ('mine', 49), ('sc', 49), ('336', 49), ('kuiper', 49), ('/george', 49), ('-07', 49), ('animal', 49), ('fiber', 49), ('bravo', 49), ('schwartz', 49), ('salem', 49), ('graveman', 49), ('rohr', 49), ('6a', 49), ('burl', 49), ('-1990', 49), ('sic', 49), ('deshaun', 49), ('triston', 49), ('463', 49), ('pitched', 49), ('gaph', 49), ('scripted', 49), ('photocards', 49), ('conley', 49), ('w/mm', 49), ('bbb4', 48), ('bring', 48), ('juliopablo', 48), ('baney', 48), ('nuke', 48), ('laloosh', 48), ('/curt', 48), ('clark/jim', 48), ('1+', 48), ('constable', 48), ('bowser', 48), ('chong', 48), ('raudy', 48), ('jairo', 48), ('laboy/floyd', 48), ('215', 48), ('goldsberry', 48), ('rook', 48), ('soa-', 48), ('bumgarner', 48), ('bumbry', 48), ('altanta', 48), ('indicators', 48), ('sexton', 48), ('padres', 48), ('branyan', 48), ('board/pipes', 48), ('ironman', 48), ('constitution', 48), ('vance', 48), ('events', 48), ('canadians', 48), ('broberg', 48), ('klesko', 48), ('dauer', 48), ('quin', 48), ('hardware', 48), ('rawhide', 48), ('536', 48), ('karim', 48), ('leto', 48), ('dig', 48), ('r313', 48), ('6056', 48), ('kahnle', 48), ('legoe', 48), ('portfolio', 48), ('60t-11816-2', 48), ('oliva/on/howard', 48), ('241', 48), ('pads', 48), ('marisnick', 48), ('…', 48), ('dynasties', 48), ('672', 48), ('283', 48), ('julius', 48), ('olivera', 48), ('vezendy', 48), ('a.', 48), ('egg', 48), ('yvars', 48), ('pacquiao', 48), ('prominence', 48), ('-1987', 48), ('unpeeled', 48), ('buccaneers', 48), ('beginnings', 48), ('skeetersoft', 48), ('sheridan', 48), ('ramirez/freeman', 48), ('rbi/run', 48), ('f_ck', 48), ('broglio', 48), ('starters', 48), ('meusel', 48), ('pull', 48), ('equalizers', 48), ('mella', 48), ('maelino', 48), ('barrera', 48), ('chatham', 48), ('maestri', 48), ('soul', 48), ('staremaster', 48), ('berg', 48), ('0492', 48), ('rogue', 48), ('rh', 48), ('onl', 48), ('000+', 48), ('fc1699', 48), ('trappers', 47), ('medich', 47), ('courtney', 47), ('schurr', 47), ('000', 47), ('mcfadden', 47), ('nowitzki', 47), ('easterly', 47), ('happy', 47), ('fryman/', 47), ('locker', 47), ('pivetta', 47), ('barmes', 47), ('sampson', 47), ('two-out', 47), ('goossen', 47), ('reproduction', 47), ('captains', 47), ('wee', 47), ('language', 47), ('weekly', 47), ('nation', 47), ('licensed', 47), ('fleer/panini', 47), ('ancient', 47), ('gentile', 47), ('ho', 47), ('oregon', 47), ('boyer//ron', 47), ('robbing', 47), ('battery', 47), ('davie', 47), ('system', 47), ('wiggins', 47), ('peek', 47), ('littell', 47), ('garry', 47), ('hipolito', 47), ('wishes', 47), ('2000th', 47), ('brideweser', 47), ('bergen', 47), ('marvels', 47), ('turbo', 47), ('charged', 47), ('sertoma', 47), ('easton', 47), ('showalter', 47), ('carmelo', 47), ('wichita', 47), ('eierman', 47), ('hippauf/arnie', 47), ('sheer', 47), ('talen', 47), ('horton-tucker', 47), ('programs', 47), ('wieners', 47), ('pittman', 47), ('quakes', 47), ('/jay', 47), ('minted', 47), (\"spahn/o'toole/simmons/mccormick\", 47), ('b.', 47), ('rodriquez', 47), ('bdc25', 47), (\"o'neil\", 47), ('traveler', 47), ('covention', 47), ('browns', 47), ('capless', 47), ('reviews', 47), ('com', 47), ('roethlisberger', 47), ('orts', 47), ('n2932', 47), ('brickhouse', 47), ('reveal', 47), ('fallon', 47), ('kieschnick', 47), ('royster', 47), ('jimmie', 47), ('glasnow', 47), ('h20', 47), ('340', 47), ('established', 47), ('us262', 46), ('750+', 46), ('adolpho', 46), ('kepler', 46), ('bochy', 46), ('trea', 46), ('odd', 46), ('oberkfell', 46), ('1919', 46), ('fisher/', 46), ('grossman', 46), ('1981-82', 46), ('brault', 46), ('signal', 46), ('kanebo', 46), ('fold-up', 46), ('e-card', 46), ('1-10', 46), ('child', 46), ('cub', 46), ('left-field', 46), ('e-motion', 46), ('jace', 46), ('speckenbach', 46), ('augustine/griffey/ontiveros/tyrone', 46), ('825', 46), ('excited', 46), ('brentz', 46), ('bbb3', 46), ('hedges', 46), ('-69', 46), ('cube/buckle', 46), ('maple', 46), ('mountain', 46), ('putnam', 46), ('hultzen', 46), ('isa', 46), ('twilight', 46), ('rowland', 46), ('luebber', 46), ('chenery', 46), ('-ra', 46), ('bowie', 46), ('ramsey', 46), ('40th', 46), ('/dennis', 46), ('f3', 46), ('contender', 46), ('/davey', 46), ('estevez', 46), ('dyer/terry', 46), ('heisey', 46), ('espinal', 46), ('dario', 46), ('yoendrys', 46), ('2632', 46), ('vizcaino', 46), ('99mph', 46), ('forever', 46), ('momentos', 46), ('301', 46), ('apple', 46), ('klages', 46), ('tennessee', 46), ('nebraska', 46), ('ritchie', 46), ('rajai', 46), ('danville', 46), ('all-etch', 46), ('fork', 46), ('knuckler', 46), ('keystone', 46), ('253', 46), ('sr.', 46), ('monuments', 46), ('digging', 46), ('lowrey', 46), ('murff', 46), ('oliva/yastrzemski/davillo', 46), ('baumann', 46), ('ransom', 46), ('twinkies', 46), ('burrows', 46), ('credits', 46), ('garman/cecil', 46), ('cooper/', 46), ('n1533', 46), ('661c', 46), ('frasso', 46), ('ap-ff6', 46), ('charleston', 45), ('lynchburg', 45), ('18k', 45), ('key', 45), ('bcp80', 45), ('worldwide', 45), ('coleman/tim', 45), ('bomwan', 45), ('gomes', 45), ('bystrom', 45), ('schrock', 45), ('324', 45), ('f49ss', 45), ('481', 45), ('truman', 45), ('359', 45), ('wagues', 45), ('mcdavid', 45), ('clarke', 45), ('taguchi', 45), ('yzerman', 45), ('idaho', 45), ('strom', 45), ('reddish', 45), ('us285', 45), ('chiang', 45), ('shaffer', 45), ('365', 45), ('earth', 45), ('d.', 45), ('carmen', 45), ('bollo', 45), ('bd39', 45), ('go-ahead', 45), ('whitecaps', 45), ('solid', 45), ('shelby', 45), ('expectations', 45), ('ups', 45), ('14th', 45), ('moves', 45), ('.45', 45), ('emil', 45), ('cash/', 45), ('tattoo', 45), ('k9880', 45), ('kt', 45), ('retro-future', 45), ('mujica', 45), ('256', 45), ('fridley', 45), ('tohoku', 45), ('britain', 45), ('copper/gold', 45), ('russa', 45), ('550', 45), ('ss1535', 45), ('homeruns', 45), ('jacke', 45), ('gametime', 45), ('62t-52516-1', 45), ('sereies', 45), ('r302-2', 45), ('beltran', 45), ('259', 45), ('snead', 45), ('thacker', 45), ('hepler', 45), ('gibbons', 45), ('jox', 45), ('ches', 45), ('mph', 45), ('disks', 45), ('fc934', 45), ('wm', 45), ('n1612', 45), ('700a', 45), ('426', 45), ('flannery', 45), ('75+', 45), ('450+', 45), ('stidham', 45), ('fd9836', 45), ('pulls', 45), ('inquiring', 45), ('gre8', 45), ('stay', 44), ('/paul', 44), ('howard/killebrew/yastrzemski', 44), ('impressed', 44), ('balboa', 44), ('lightning', 44), ('-5', 44), ('697', 44), ('adcock', 44), ('campisi', 44), ('squints', 44), ('palledorous', 44), ('masterful', 44), ('myth', 44), ('towering', 44), ('fusselman', 44), ('jaylen', 44), ('taters', 44), ('paulino', 44), ('toledo', 44), ('515', 44), ('ss-', 44), ('jackowski', 44), ('maronde', 44), ('koheck', 44), ('hull', 44), ('homogenized', 44), ('nahorodny', 44), ('almon', 44), ('waist', 44), ('cespedes', 44), ('pittsfield', 44), ('@', 44), ('au', 44), ('davanon', 44), ('720', 44), ('lovrich', 44), ('hursh', 44), ('guys', 44), ('blue/wilbur', 44), ('wood/', 44), ('1224', 44), ('horacio', 44), ('disabled', 44), ('gra', 44), ('bars', 44), ('stairs', 44), ('1031', 44), ('knoxville', 44), ('goodwin', 44), ('roenicke', 44), ('greinke', 44), ('pa', 44), ('evers', 44), ('passion', 44), ('ufc', 44), ('996', 44), ('laminated', 44), ('appleton', 44), ('foxes', 44), ('magee', 44), ('elvio', 44), ('yoenis', 44), ('242', 44), ('291', 44), ('minus', 44), ('brantly', 44), ('landmarks', 44), ('smokies', 44), ('adonis', 44), ('declaration', 44), ('indians/', 44), ('sabermetric', 44), ('toby', 44), ('900', 44), ('northwest', 44), ('fusions', 44), ('map', 44), ('clark/moe', 44), ('ogier', 44), ('12x', 44), ('dba-', 44), ('spark', 44), ('heat', 44), ('ikes', 44), ('fc1325', 44), ('377', 44), ('followthrough', 44), ('e104-i', 44), ('cougars', 44), ('mancini', 44), ('raft', 44), ('/vada', 44), ('pinson/gus', 44), ('baer', 44), ('cone', 44), ('-75', 44), ('h-21', 43), ('aaron/mathews/adcock/crandall', 43), ('khris', 43), ('gh-', 43), ('vero', 43), ('fc715', 43), ('524', 43), ('card-supials', 43), ('kg', 43), ('63t-90316-1', 43), ('csa', 43), ('vitiello', 43), ('kapler', 43), ('gad', 43), ('salt', 43), ('belardi', 43), ('x-axis', 43), ('peavy', 43), ('rainiers', 43), ('blayne', 43), ('enlow', 43), ('borgmann', 43), ('throws', 43), ('beiber', 43), ('1937', 43), ('vector', 43), ('belliard', 43), ('wei-chieh', 43), ('pinelli', 43), ('333', 43), ('-2003', 43), ('tuff', 43), ('ndy', 43), ('ex/nm', 43), ('244', 43), ('crane', 43), ('deer', 43), ('hulk', 43), ('best', 43), ('cpa-la', 43), ('x-ponential', 43), ('at-bat', 43), ('midnight', 43), ('stroke', 43), ('tour', 43), ('blueline', 43), ('-1957', 43), ('clemente/aaron/davis/groat', 43), ('kinsler', 43), ('zoilo', 43), ('av', 43), ('bucket', 43), ('agrazal', 43), ('killebrew/maris/cash/colavito/gentile/wagner', 43), ('zagunis', 43), ('1181', 43), ('pr=6,507', 43), ('twitter', 43), (\"'55\", 43), ('rutledge', 43), ('jermaine', 43), ('bauta', 43), ('olt', 43), ('watt', 43), ('320', 43), ('arlin', 43), ('bp127', 43), ('365.', 43), ('denehy', 43), ('h/carroll', 43), ('gigon', 43), ('morishita', 43), ('tuffy', 43), ('app', 43), ('rondon', 43), ('kozar', 43), ('tamares', 43), ('alternate', 43), ('feat', 43), ('bing', 43), ('mulder', 43), ('ss8911', 43), ('dunand', 43), ('batista', 43), ('bp50', 43), ('mailbag', 42), ('8x10s', 42), ('gaspar', 42), ('jhailyn', 42), ('issued', 42), ('nl-5', 42), ('henrich', 42), ('mccovey/santo/williams', 42), ('gregorius', 42), ('jered', 42), ('palumbo', 42), ('neiger', 42), ('ss9826', 42), ('jubilee', 42), ('ynoa', 42), ('hazelbaker', 42), ('nicolino', 42), ('bunky', 42), ('uggla', 42), ('ford/bunning/lary/barber', 42), ('buchanan', 42), ('guyana', 42), ('garrison', 42), ('al-1', 42), ('bork/', 42), ('2130', 42), ('227', 42), ('shape', 42), ('berlin', 42), ('pritchard', 42), ('sided', 42), ('korince', 42), ('dupree', 42), ('blach', 42), ('1942', 42), ('heffner', 42), ('sid', 42), ('stokes', 42), ('munger', 42), ('1889', 42), ('913', 42), ('hu', 42), ('refractor/sepia/prizm/negative', 42), ('f50', 42), ('helms', 42), ('+2', 42), ('guerreo', 42), ('peeling', 42), ('directions', 42), ('4-', 42), ('martyn', 42), ('birrer', 42), ('borbon', 42), ('beckert', 42), ('iorg/oliver/perlozzo/whitaker', 42), ('r318', 42), ('them', 42), ('auction', 42), ('ss1556', 42), ('289', 42), ('lu', 42), ('02', 42), ('freel', 42), ('lamotta', 42), ('264', 42), ('granola', 42), ('nevin', 42), ('kreischer', 42), ('boesch', 42), ('/roberto', 42), ('573', 42), ('windsor', 42), ('756', 42), ('petersburg', 42), ('overmire', 42), ('plain', 42), ('perlozzo', 42), ('calls', 42), ('auerbach', 42), ('distance', 42), ('e-topps', 42), ('bouton', 42), ('crick', 42), ('/joel', 42), ('rr', 42), ('brody', 42), ('humber', 42), ('zapata', 42), ('courage', 42), ('knowles/scheinblum/buschhorn', 42), ('treasury', 42), ('bethancourt', 42), ('648', 42), ('basbeall', 42), ('dog', 42), ('termarr', 42), ('baur', 42), ('408', 42), ('-2009', 42), ('sanguillen', 41), ('paralell', 41), ('rokie', 41), ('ogden', 41), ('hooks', 41), ('dukes', 41), ('oriole', 41), ('roc', 41), ('riggio', 41), ('kine/oliva/on', 41), ('/guido', 41), ('grilli/pete', 41), ('interstate', 41), ('drexler', 41), ('mcgregor', 41), ('booker', 41), ('1069', 41), ('n2190', 41), ('schotts', 41), ('heard', 41), ('law/face', 41), ('vets', 41), ('cancel', 41), ('mootown', 41), ('snackers', 41), ('figueroa', 41), ('inns', 41), ('cg', 41), ('2500', 41), ('mago', 41), ('secret', 41), ('haugstad', 41), ('lolich/mcdowell/mclain/siebert', 41), ('griffy', 41), ('classes', 41), ('10qt', 41), ('sphagnum', 41), ('peat', 41), ('inc/', 41), ('304', 41), ('creek', 41), ('river', 41), ('egan/pat', 41), ('1926', 41), ('julian', 41), ('paso', 41), ('stafford', 41), ('309', 41), ('445', 41), ('locastro', 41), ('blalock', 41), ('dooley', 41), ('jurges', 41), ('melton/norm', 41), ('nathaniel', 41), ('aikman', 41), ('rocket', 41), ('sojo', 41), ('banks/long/moryn', 41), ('nm/mt+', 41), ('walkoff', 41), ('meedes', 41), ('fc', 41), ('238', 41), ('jamal', 41), ('helena', 41), ('sebastian', 41), ('collect-a-books', 41), ('marilyn', 41), ('1929-31', 41), ('booming', 41), ('norichika', 41), ('1x', 41), ('gabby', 41), ('fc528', 41), ('overall', 41), ('hinske', 41), ('7k', 41), ('389', 41), ('hermida', 41), ('cl/', 41), ('icon', 41), ('baldwin', 41), ('tino', 41), ('rosboro', 41), ('burgandy', 41), ('burks', 41), ('nieuwenhuis', 41), ('yasel', 41), ('antuna', 41), ('comiskey', 41), ('ss9423', 41), ('731', 41), ('beeks', 41), ('542', 41), ('57t-111515-2', 41), ('broken', 41), ('-2017', 41), ('sandro', 41), ('-55', 41), ('1939-46', 41), ('kareem', 41), ('2k', 40), ('ahetypes', 40), ('charton/dalton', 40), ('all-pro', 40), ('cuellar', 40), ('stubs', 40), ('al-nl', 40), ('steiner', 40), ('island', 40), ('option', 40), ('552', 40), ('n2228', 40), ('n2247', 40), ('nyjer', 40), ('goetz', 40), ('funkhouser', 40), ('kodak', 40), ('890', 40), ('595', 40), ('carerr', 40), ('chronicled', 40), ('calligraphy', 40), ('matchup', 40), ('1-792', 40), ('cleanup', 40), ('scratched', 40), ('okey', 40), ('51b-22715-1', 40), ('masato', 40), ('w515-1', 40), ('eagle', 40), ('-2015', 40), ('secretariat', 40), ('n1268', 40), ('holman', 40), ('dykstra', 40), ('briam', 40), ('cubbage', 40), ('macon', 40), ('endy', 40), ('al-2', 40), ('bartirome', 40), ('halls', 40), ('2777', 40), ('frailing', 40), ('mary', 40), ('fuentes/bob', 40), ('al-4', 40), ('few', 40), ('killebrew/frank', 40), ('safeco', 40), ('slams', 40), ('461', 40), ('ames', 40), ('duel', 40), ('marwin', 40), ('cuban', 40), ('essian', 40), ('sizemore/bill', 40), ('281', 40), ('doul', 40), ('479', 40), ('b15-kt', 40), ('andrande', 40), ('advertising', 40), ('hetki', 40), ('buhner', 40), ('olympics', 40), ('firemen', 40), ('albany-colonie', 40), ('mcgaha', 40), ('w/stars', 40), ('joba', 40), ('/rick', 40), ('troedson', 40), ('liam', 40), ('14-k', 40), ('shao-ching', 40), ('gronks', 40), ('partners', 40), ('digits', 40), ('1669', 40), ('-06', 40), ('goldmine', 40), ('/charlie', 40), ('1936-39', 40), ('smooth', 40), ('eisenreich', 40), ('milledge', 40), ('3+', 40), ('lettering', 40), ('453ft', 40), ('tejay', 40), ('r312', 40), ('books', 40), ('biz', 40), ('ding', 40), ('burright', 40), ('sc1772', 40), ('philly', 40), ('decal', 40), ('rudiarius', 40), ('ss8905', 40), ('penguins', 40), ('santillan', 40), ('d381', 40), ('fleischmann', 40), ('non-sample', 39), ('lively', 39), ('tresh', 39), ('fisherman', 39), ('retroectives', 39), ('ensemble', 39), ('sends', 39), ('runnels', 39), ('w516-1', 39), ('hampshire', 39), ('stoner', 39), ('sandlock', 39), ('stankiewicz', 39), ('claus', 39), ('propsects', 39), ('anberger', 39), ('lacock', 39), ('crowder', 39), ('carlton/', 39), ('dh', 39), ('arencibia', 39), ('1909', 39), ('morhardt', 39), ('f2', 39), ('nestor', 39), ('bdc-60', 39), ('royf', 39), ('surprise', 39), ('bakersfield', 39), ('poquette', 39), ('mabe', 39), ('shopay', 39), ('564', 39), ('1122', 39), ('grasshoppers', 39), ('leyland', 39), ('listach', 39), ('kelvin', 39), ('ta-1', 39), ('rum', 39), ('12th-inning', 39), ('chew', 39), ('perry/sisk/egan/navarro', 39), ('oswalt', 39), ('jacques', 39), ('bradford/bill', 39), ('wg8', 39), ('cheslor', 39), ('cuthbert', 39), ('canton', 39), (\"o'leary\", 39), ('pale', 39), ('far', 39), ('beloit', 39), ('/ralph', 39), ('u.s.', 39), ('whitlock', 39), ('bitsko', 39), ('/dan', 39), ('xponential', 39), ('coors', 39), ('aparicio', 39), ('sadek', 39), ('explosion', 39), ('yost', 39), ('paciorek', 39), ('bashers', 39), ('1:50', 39), ('elmira', 39), ('mcbride', 39), ('bcp8', 39), ('akil', 39), ('baddoo', 39), ('folkers', 39), ('freedom', 39), ('combined', 39), ('nippy', 39), ('317', 39), ('4.1', 39), ('flood', 39), ('altoona', 39), ('stu', 39), ('christensen', 39), ('earle', 39), ('ss9910', 39), ('medalion', 39), ('niemann', 39), ('s-60s', 39), ('scottie', 39), ('45487762', 39), ('+more', 39), ('788', 39), ('braylon', 39), ('n2774', 39), ('poy', 39), ('-57', 39), ('0474', 39), ('478', 39), ('791', 39), ('canadiens', 39), ('shift', 38), ('feltman', 38), ('stallone', 38), ('akinori', 38), ('iwamura', 38), ('sportdiscs', 38), ('offer', 38), ('dugger', 38), ('revere', 38), ('/barry', 38), ('muser', 38), ('elster', 38), ('slab', 38), ('urshela', 38), ('cat', 38), ('mckechnie', 38), ('kotchman', 38), ('bid', 38), ('battey', 38), ('rattlers', 38), ('nava', 38), ('dickie', 38), ('sa', 38), ('260', 38), ('yoshii', 38), ('plutko', 38), ('267', 38), ('taijuan', 38), ('logos/uniforms', 38), ('775', 38), ('destruction', 38), ('koufax/maloney/drysdale', 38), ('lonborg/ryan/moses/schlesinger', 38), ('319', 38), ('151-200', 38), ('hartford', 38), ('dae-ho', 38), ('naughton', 38), ('towers', 38), ('stinnett', 38), ('virtual', 38), ('blk', 38), ('cepeda/mays/on', 38), ('ss9355', 38), ('sabato', 38), ('warm', 38), ('zito', 38), ('pr=7,141', 38), ('sunflower', 38), ('versalles', 38), ('yuengling', 38), ('h-7', 38), ('basgall', 38), ('kingsport', 38), ('nm-mint', 38), ('pahment', 38), ('retrospection', 38), ('roberson', 38), ('makers', 38), ('buds', 38), ('paolini', 38), ('andretti', 38), ('all-century', 38), ('sevens', 38), ('ey', 38), ('298', 38), ('rickard', 38), ('connolly', 38), ('mcgraw/swoboda/bethke/napoleon', 38), ('218', 38), ('japan-fractor', 38), ('showtime', 38), ('mota', 38), ('ford/bunning/pascu/pizarro', 38), ('umpires', 38), ('german', 38), ('soccer', 38), ('9.510', 38), ('juice', 38), ('/wayne', 38), ('1000', 38), ('peewee', 38), ('beige', 38), ('fc3607', 38), ('melky', 38), ('.400', 38), ('back-to-back-to-back', 38), ('guidry', 38), ('emeralds', 38), ('fastball', 38), ('zig-zag', 38), ('mantle/kine/maris/cash', 38), ('technology', 38), ('abe', 38), ('chaer', 38), ('flashing', 38), ('leonhard', 38), ('volcanoes', 38), ('201-400', 38), ('brandy', 38), ('tolstoi', 38), ('spd-', 38), ('0882', 38), ('astit-r', 38), ('665', 38), ('bdc40', 38), ('artists', 38), ('n1999', 38), ('dunhurst', 38), ('/charles', 38), ('felt', 38), ('t247', 38), ('timmons', 38), ('drechsel', 38), ('staduim', 38), ('w/gtsm', 38), ('ap-ff4', 38), ('brooks/koegel/northey', 37), ('vandermeer', 37), ('dominion', 37), ('jw', 37), ('watkins', 37), ('pmer', 37), ('03-04', 37), ('2003-04', 37), ('utley', 37), ('trip', 37), ('erlin', 37), ('hrt/res', 37), ('fanok', 37), ('cent', 37), ('scranton/wilkes-barre', 37), ('canning', 37), ('killebrew/on/yastrzemski', 37), ('hiatt/dick', 37), ('sc1895', 37), ('wildfire', 37), ('burk', 37), ('signers', 37), ('w/perez', 37), ('berroa', 37), ('sherfy', 37), ('quintin', 37), ('doby', 37), ('brohamer', 37), ('dollar', 37), ('1387', 37), ('63t-90316-5', 37), ('oquendo', 37), ('1915', 37), ('lombard', 37), ('puffer', 37), ('cello', 37), ('f2a', 37), ('ott/', 37), ('bobbing', 37), ('yorman', 37), ('shae', 37), ('coluccio', 37), ('grudzielanek', 37), ('coyle', 37), ('matchbooks', 37), ('t2a', 37), ('lemonds', 37), ('bloods', 37), ('lingle', 37), ('mungo', 37), ('acquired', 37), ('coggins', 37), ('larvell', 37), ('pellagrini', 37), ('1a', 37), ('-78', 37), ('2776', 37), ('2768', 37), ('calgary', 37), ('15th', 37), ('ss1445', 37), ('-kb', 37), ('boyardee', 37), ('21x', 37), ('bold', 37), ('1947-66', 37), ('pless', 37), ('erie', 37), ('vada', 37), ('pinson', 37), ('pyramids', 37), ('mozaics', 37), ('appling', 37), ('237', 37), ('langford', 37), ('239', 37), ('blind', 37), ('neck', 37), ('e-volve', 37), ('headlines', 37), ('ss9204', 37), ('/red', 37), ('stapleton', 37), ('slight', 37), ('/fair', 37), ('f.', 37), ('705', 37), ('-4', 37), ('stage', 37), ('-25', 37), ('pierre', 37), ('adenhart', 37), ('401-500', 37), ('t2b', 37), ('scotty', 37), ('addison', 37), ('braggs', 37), ('massive', 37), ('fc3577', 37), ('13x', 37), ('maulers', 37), ('347', 37), ('magnuson', 37), ('kruk', 37), ('kong', 37), ('sportscaster', 37), ('gyspy', 37), ('dransfeldt', 37), ('beamon', 37), ('n2804', 37), ('surface', 37), ('n1402', 37), ('conv', 37), ('crider', 37), ('schumaker', 37), ('-1979', 37), ('fa-kb', 37), ('5gg', 37), ('lindsay', 36), ('1922', 36), ('kuntz', 36), ('hensley', 36), ('carty', 36), ('noted', 36), ('bork', 36), ('davis/', 36), ('lolich', 36), ('bosman', 36), ('tobi', 36), ('bryant/steve', 36), ('/luis', 36), ('scans', 36), ('sborz', 36), ('armstrong', 36), ('gt', 36), ('schell', 36), ('copa', 36), ('diversion', 36), ('patrol', 36), ('are', 36), ('mask', 36), ('affeldt', 36), ('registered', 36), ('hutchison', 36), ('265-352', 36), ('piet', 36), ('tags', 36), ('severinsen', 36), ('sutter', 36), ('buechele', 36), ('muskies', 36), ('bdk', 36), ('cohen', 36), ('mundell', 36), ('single', 36), ('mariner', 36), ('iv', 36), ('brye', 36), ('hagan', 36), ('chun-kai', 36), ('liao', 36), ('275', 36), ('bowen', 36), ('word', 36), ('430', 36), ('coogan', 36), ('barstool', 36), ('francoeur', 36), ('rome', 36), ('thru', 36), ('bolanos', 36), ('ohka', 36), ('bd-92', 36), ('ss8774', 36), ('broxton', 36), ('karuta', 36), ('x7', 36), ('miracles', 36), ('romeo', 36), ('288', 36), ('painter', 36), ('thies', 36), ('1-800', 36), ('windhorn', 36), ('stringer', 36), ('kaat/mclain/wilson', 36), ('ranaudo', 36), ('colavito/horton/oliva', 36), ('-82', 36), ('maps', 36), ('junis', 36), ('banuelos', 36), ('18b', 36), ('trans', 36), ('col', 36), ('45106127', 36), ('caraballo', 36), ('berenger', 36), ('asuaje', 36), ('fc3483', 36), ('queens', 36), ('fc3716', 36), ('lampard', 36), ('oviedo', 36), ('pre-game', 36), ('lara', 36), ('ari', 36), ('tres', 36), ('serigraphs', 36), ('voltage', 36), ('link', 36), ('yorke', 36), ('n3049', 36), ('daytona', 36), ('arano', 36), ('barlick', 36), ('susan', 36), ('scoring', 36), ('380', 36), ('styling', 36), ('n2815', 36), ('n2779', 36), ('n2780', 36), ('2749', 36), ('pr-fr', 36), ('uninvited', 36), ('guests', 36), ('423', 36), ('9246', 36), ('candelaria', 36), ('brantley', 36), ('blankenhorn', 36), ('page', 36), ('thompkins', 36), ('guindon/gerry', 36), ('holyfield', 36), ('fc1875', 36), ('speaker', 35), ('sardinha', 35), ('burdette//bob', 35), ('focal', 35), ('mcdowell', 35), ('muscle', 35), ('bb1-1', 35), ('blefary', 35), ('furillo', 35), ('stenhouse', 35), ('emergent', 35), ('expires', 35), ('paulo', 35), ('birds', 35), ('513', 35), ('marlboro', 35), ('graves', 35), ('subject', 35), ('acosta', 35), ('gogolewski', 35), ('1085', 35), ('debut-', 35), ('89ers', 35), ('palm', 35), ('fiore/', 35), ('pp5', 35), ('humphrey', 35), ('hurst', 35), ('mud', 35), ('hens', 35), ('bong', 35), ('nof', 35), ('546', 35), ('asheville', 35), ('tourists', 35), ('ws2', 35), ('boegarts', 35), ('seabold', 35), ('llenas', 35), ('riddleberger', 35), ('dilandri', 35), ('15th-inning', 35), ('baybears', 35), ('chen-hsun', 35), ('scg', 35), ('1929', 35), ('peonte', 35), ('engravings', 35), ('2771', 35), ('plunk', 35), ('photography', 35), ('700.3', 35), ('samanic', 35), ('retroective', 35), ('grisham', 35), ('lester', 35), ('17x', 35), ('brother', 35), ('poor', 35), ('ss8771', 35), ('kelloggs', 35), ('perkins', 35), ('stobbe', 35), ('latch', 35), ('9-', 35), ('forsythe', 35), ('kz', 35), ('okpala', 35), ('trail', 35), ('luguentz', 35), ('frey', 35), ('behemoths', 35), ('fisk/', 35), ('gregg', 35), ('/clay', 35), ('gooden', 35), ('spots', 35), ('n997', 35), ('on/williams', 35), ('drabek', 35), ('catchers-outfielders', 35), ('ss9190', 35), ('wesneski', 35), ('wiz/at', 35), ('triumvirates', 35), ('ragland', 35), ('pint', 35), ('snack', 35), ('tempy', 35), ('magglio', 35), ('gonsolin', 35), ('replacement', 35), ('garrett/jackie', 35), ('mieses', 35), ('11ks', 35), ('ss8879', 35), ('quasar', 35), ('489', 35), ('kamara', 35), ('texans', 35), ('outstanding', 35), ('omaha', 35), ('ao', 35), ('25-year', 35), ('ss9909', 35), ('zeke', 35), ('1-225', 35), ('495', 35), ('tracey', 35), ('cincy', 35), ('n1489', 35), ('charley', 35), ('claim', 35), ('flocculence', 35), ('oddball', 35), ('phillip', 35), ('688', 35), ('fc1088', 35), ('n078', 35), ('0718', 35), ('ap-ff8', 35), ('edmonton', 34), ('480', 34), ('fundamentals', 34), ('dressler/guidry/mcclure/zachary', 34), ('mays/', 34), ('outfielder', 34), ('aviles', 34), ('marquise', 34), ('tsai', 34), ('2-out', 34), ('1884', 34), ('skylines', 34), ('leonys', 34), ('barfield', 34), ('cyclone', 34), ('954', 34), ('montanez', 34), ('1-700', 34), ('jehosie', 34), ('comm', 34), ('delbac', 34), ('burning', 34), ('umphlett', 34), ('transactions', 34), ('home/away', 34), ('liner', 34), ('blanket', 34), ('pinto', 34), ('greenberg', 34), ('baerga', 34), ('minoso/colavito/doby', 34), ('fc2141', 34), ('padre', 34), ('zupo', 34), ('ryu', 34), ('neidert', 34), ('pr=6650', 34), ('middleton', 34), ('schoop', 34), ('jordy', 34), ('snoop', 34), ('tigers/', 34), ('osmond', 34), ('tyrell', 34), ('pace', 34), ('office', 34), ('homegrown', 34), ('pearson', 34), ('nl-1', 34), ('chro', 34), ('stubby', 34), ('clapp', 34), ('rosello', 34), ('x10', 34), ('ceedee', 34), ('coffman', 34), ('46-195', 34), ('cora', 34), ('leek', 34), ('/harvey', 34), ('niekro/chris', 34), ('fc1632', 34), ('minneapolis', 34), ('lauderdale', 34), ('🔥🔥', 34), ('ops', 34), ('artifact', 34), ('ss8719', 34), ('420', 34), ('martes', 34), ('ibanez', 34), ('luck', 34), ('deep', 34), ('haskins', 34), ('hamelin', 34), ('t3d', 34), ('tee', 34), ('gridiron', 34), ('kratz', 34), ('greenwood', 34), ('rosenthal', 34), ('bahnsen', 34), ('bloodworth', 34), ('esix', 34), ('benji', 34), ('below', 34), ('0150', 34), ('toshiya', 34), ('jemile', 34), ('fontenot', 34), ('stretch', 34), ('armbrister', 34), ('mule', 34), ('lary', 34), ('mcdowell/mclain/tiant', 34), ('f4', 34), ('bgs', 34), ('elegance', 34), ('fual', 34), ('/tony', 34), ('ttar-1', 34), ('1924', 34), ('h.', 34), ('-fair', 34), ('know', 34), ('vizquel', 34), ('visions', 34), ('olerud', 34), ('reflectives', 34), ('garr', 34), ('orsino', 34), ('appalachian', 34), ('kodi', 34), ('medeiros', 34), ('labeled', 34), ('wynns', 34), ('heules', 34), ('reign', 34), ('3-hr', 34), (\"ka'ai\", 34), ('gallant', 34), ('deron', 34), ('chin-feng', 34), ('perfomance', 34), ('e91', 34), ('1198', 34), ('platiunm', 34), ('belts', 34), ('timmy', 34), ('certificate', 34), ('1566', 34), ('2-', 34), ('fc1324', 34), ('braylin', 34), ('tavera', 34), ('1370', 34), ('fullmer', 33), ('fist', 33), ('witten', 33), ('hundley', 33), ('790', 33), ('cleaut', 33), ('kei', 33), ('igawa', 33), ('magnets', 33), ('t1u', 33), ('a-bb', 33), ('ss9842', 33), ('daric', 33), ('cowan/john', 33), ('tetrad', 33), ('crowe', 33), ('conlan', 33), ('thumbs', 33), ('clemente/pinson/boyer/moon', 33), ('poole', 33), ('1-330', 33), ('seen', 33), ('joaquin', 33), ('kuhl', 33), ('jameison', 33), ('drives', 33), ('963', 33), ('newark', 33), ('/labine', 33), ('/podres', 33), ('wenz', 33), ('bb5-1', 33), ('645', 33), ('kell', 33), ('-topper', 33), ('cancer', 33), ('ash', 33), ('57t-111215-2', 33), ('gurrero', 33), ('yangervis', 33), ('solarte', 33), ('multiplayer', 33), ('dressen', 33), ('petrick', 33), ('440', 33), ('bust', 33), ('pioneer', 33), ('val', 33), ('mid/high', 33), ('ellis/culp/boozer/gonder', 33), ('xr', 33), ('affiliations', 33), ('gammons', 33), ('ht-t', 33), ('yokohama', 33), ('braymer', 33), ('482', 33), ('garr/glenn', 33), ('nikhazy', 33), ('speier', 33), ('raleigh', 33), ('2c', 33), ('shower', 33), ('r321', 33), ('243', 33), ('293', 33), ('277', 33), ('pinkerton', 33), ('ss1498', 33), ('boggess', 33), ('hernadez', 33), ('rommel', 33), ('bcp-243', 33), ('unlimited', 33), ('valencia', 33), ('belt', 33), ('boyz', 33), ('piatt', 33), ('udpate', 33), ('maze', 33), ('valentine/mike', 33), ('fc747', 33), ('reuschel', 33), ('comes', 33), ('davison/', 33), ('mccovey/allen/banks', 33), ('georges', 33), ('maranda', 33), ('fireovid', 33), (\"'99\", 33), ('1-0', 33), ('n3170', 33), ('aluminum', 33), ('722', 33), ('creased', 33), ('n682', 33), ('frare', 33), ('pennington', 33), ('gibson/koufax/marichal/perry', 33), ('shooting', 33), ('sedlock', 33), ('ishikawa', 33), ('x9', 33), ('velazquez', 33), ('ortega', 33), ('tx', 33), ('474', 33), ('297', 33), ('shannon', 33), ('ford/chance/aguirre/fisher/roberts', 33), ('fc1645', 33), ('miek', 33), ('gameball', 33), ('polecats', 33), ('-1972', 33), ('screaming', 33), ('protential', 33), ('welcome', 33), ('n1266', 33), ('baseball/football', 33), ('274', 33), ('fc655', 33), ('aff', 33), ('trust', 33), ('yourself', 33), ('sc1855', 33), ('ladies', 33), ('-1988', 33), ('735', 33), ('prspect', 33), ('fc811', 33), ('philles', 33), ('launched', 33), ('flora', 33), ('period', 32), ('hagen', 32), ('thumpers', 32), ('cardinal', 32), ('tex', 32), ('metro', 32), (\"'61\", 32), ('written', 32), ('1917', 32), ('797', 32), ('youthquake', 32), ('hockett', 32), ('beisbol', 32), ('675', 32), ('/harry', 32), ('ay2336', 32), ('/bert', 32), ('u-68', 32), (\"o'grady\", 32), ('milbourne', 32), ('spencer/white/broglio', 32), ('/nellie', 32), ('schoendienst', 32), ('complements', 32), ('donatelli', 32), ('dolan', 32), ('1908', 32), ('1-425', 32), ('heirs', 32), ('pham', 32), ('lopez/ratliff/lovrich/plaskett', 32), ('noles', 32), ('marvell', 32), ('jok', 32), ('mccaffrey', 32), ('trouble', 32), ('1943', 32), ('midsummer', 32), ('salutes', 32), ('folder', 32), ('671', 32), ('9th-inning', 32), ('floro', 32), ('clemente/aaron/carty', 32), ('1d', 32), ('gose', 32), ('bates', 32), ('danish', 32), ('/rod', 32), ('ninth', 32), ('kinney', 32), ('diablos', 32), ('wei-ming', 32), ('karson', 32), ('1583', 32), ('mackanin', 32), ('frisco', 32), ('234', 32), ('armed', 32), ('matheny', 32), ('patek', 32), ('clipping', 32), ('sepia-tone', 32), ('-5b', 32), ('ss8775', 32), ('dena', 32), ('baystars', 32), ('stud', 32), ('mysterious', 32), ('mcclure/coombs/ratliff', 32), ('one-liners', 32), ('k9884', 32), ('matusz', 32), ('ss1364', 32), ('caricatures', 32), ('myron', 32), ('briana', 32), ('scurry', 32), ('t3f', 32), ('delock', 32), ('kilome', 32), ('waterbury', 32), ('umbrella', 32), ('bobb', 32), ('cda-', 32), ('lombardi', 32), ('-53-54-57', 32), ('trippers', 32), ('desi', 32), ('jadon', 32), ('kellert', 32), ('bream', 32), ('larose', 32), ('nostalgic', 32), ('w/o', 32), ('4529', 32), ('redus', 32), ('derrington', 32), ('fisher/mcdowell/siebert', 32), ('on/brecheen/harris', 32), ('janeski', 32), ('lindsey', 32), ('gam', 32), ('cross', 32), ('pettyjohn', 32), ('schueler', 32), ('gosewisch', 32), ('/thad', 32), ('brewers', 32), ('-d', 32), ('bigfoot', 32), ('ehrler', 32), ('1-15', 32), ('cornelius', 32), ('chiles', 32), ('jubilation', 32), ('unis', 32), ('1044', 32), ('tektonics', 32), ('wilkinson', 32), ('56t-91215-1', 32), ('raw', 32), ('10+k', 32), ('connors', 32), ('yastrzemski/kine/rollins', 32), ('artistic', 32), ('dad', 32), ('47479385', 32), ('yankeees', 32), ('raffy', 32), ('68mint-r', 32), ('n2001', 32), ('frequent', 32), ('fap-', 32), ('luca', 32), ('shepherd', 32), ('editor', 32), ('8866', 32), ('1192', 32), ('9599', 32), ('bdc119', 32), ('oilers', 32), ('kirkpatrick', 32), ('696', 32), ('saber', 32), ('ap-kb5', 32), ('extention', 32), ('fc2125', 32), ('lintz', 31), ('379', 31), ('1834', 31), ('61t-22816-1', 31), ('pr:2,980', 31), ('practice', 31), ('viloria', 31), ('/mel', 31), ('playmakers', 31), ('armando', 31), ('terror', 31), ('532', 31), ('pr=5,155', 31), ('63t-90316-2', 31), ('wizard', 31), ('e-xl', 31), ('waldrop', 31), ('atwood', 31), ('da-os', 31), ('excellent', 31), ('boof', 31), ('bonser', 31), ('bernard', 31), ('/danny', 31), ('585', 31), ('shreveport', 31), ('cockrell', 31), ('bcp101', 31), ('pirates', 31), ('colored', 31), ('rosio', 31), ('slammers', 31), ('nt', 31), ('meaninful', 31), ('f6', 31), ('rendition', 31), ('schafer', 31), ('batters', 31), ('freese', 31), ('keyvius', 31), ('00+', 31), ('1e', 31), ('-21', 31), ('num', 31), ('athletic', 31), ('embedded', 31), ('ovations', 31), ('001', 31), ('odell', 31), ('statisticians', 31), ('rickert', 31), ('nc', 31), ('xgc', 31), ('honest', 31), ('tookie', 31), ('2774', 31), ('welland', 31), ('422', 31), ('chix', 31), ('upside', 31), ('rare-back', 31), ('palacios', 31), ('stalwarts', 31), ('840', 31), ('porzingis', 31), ('8-piece', 31), ('pappas/fisher/walker', 31), ('mexico', 31), ('threas', 31), ('armani', 31), ('799', 31), ('jenkins/', 31), ('seaver/jenkins/stoneman', 31), ('strkeout', 31), ('jaxson', 31), ('286', 31), ('mrozinski', 31), ('caminiti', 31), ('sacramento', 31), ('58t-82515-1', 31), ('rge', 31), ('winnging', 31), ('perez-steel', 31), ('reversed', 31), ('tabor', 31), ('sebra', 31), ('vineyard', 31), ('gateway', 31), ('45105996', 31), ('bdc39', 31), ('pirela', 31), ('trace', 31), ('strongholds', 31), ('4836', 31), ('lindros', 31), ('caffie', 31), ('bryan', 31), ('jan', 31), ('maos', 31), ('glanville', 31), ('-2011', 31), ('coca', 31), ('41st', 31), ('brito', 31), ('ford/pascu/bouton', 31), ('c1', 31), ('982', 31), ('emblems', 31), ('rittwage/ralph', 31), ('fc335', 31), ('urban', 31), ('hass', 31), ('marberry', 31), ('aiyuk', 31), ('tstr-r', 31), ('praise', 31), ('holo-gold', 31), ('1574', 31), ('t213-2', 31), ('antiquity', 31), ('ss1187', 31), ('1-337', 31), ('oxford', 31), ('confectionery', 31), ('leury', 31), ('mfr', 31), ('characteristics', 31), ('mantle/hinton/on/runnels/siebern', 31), ('345', 31), ('bobble', 31), ('fromm', 31), ('nakamura', 31), ('diamondback', 31), ('ramazzotti', 31), ('claxton', 31), ('savacool', 31), ('30-30', 31), ('cel', 31), ('mideast', 31), ('47479343', 31), ('inkcredible', 31), ('367', 31), ('duplication', 31), ('pastimes', 31), ('shoulders', 31), ('rawley', 31), ('supplimental', 31), ('diana', 31), ('ss1114', 31), ('n1365', 31), ('fc2142', 31), ('brew', 31), ('muprhy', 31), ('h-24', 31), ('utica', 31), ('afl-', 31), ('ss9738', 31), ('personalized', 31), ('1400+', 31), ('spit', 31), ('stars/hall', 31), ('ex-ex', 31), ('us176', 31), ('pastel', 31), ('couples', 31), ('ceda', 31), ('w/bird', 31), ('125c', 31), ('got', 30), ('l.a.', 30), ('fifty', 30), ('cleo', 30), ('schaefer', 30), ('yandy', 30), ('meibrys', 30), ('pillars', 30), ('grae', 30), ('3x5', 30), ('23rd', 30), ('adamson', 30), ('hampton', 30), ('rosario', 30), ('preproduction', 30), ('performer', 30), ('schierholtz', 30), ('tabs', 30), ('illustrious', 30), ('987', 30), ('1115', 30), ('marichal/gibson/jenkins', 30), ('n2379', 30), ('ballanfant', 30), ('chylak', 30), ('supremacy', 30), ('buckner', 30), ('1732', 30), ('auburn', 30), ('chisox', 30), ('236', 30), ('tombstone', 30), ('ockimey', 30), ('cust', 30), ('huson', 30), ('456', 30), ('siebert', 30), ('incl', 30), ('395', 30), ('entertainment', 30), ('dy-', 30), ('ss9596', 30), ('miint', 30), ('tinoco', 30), ('tnt', 30), ('361', 30), ('taco', 30), ('plawecki', 30), ('2767', 30), ('net-fusions', 30), ('sobieck', 30), ('h54', 30), ('holm', 30), ('coemorative', 30), ('refractor/purple', 30), ('schmees', 30), ('paco', 30), ('emrick', 30), ('brings', 30), ('~', 30), ('lykes', 30), ('conger', 30), ('morel', 30), ('banks/', 30), ('desalvo', 30), ('marone', 30), ('sandalio', 30), ('consuegra', 30), ('marines', 30), ('pascual', 30), ('chroe', 30), ('fd8942', 30), ('moustakas', 30), ('proven', 30), ('tch', 30), ('k9881', 30), ('ochoa', 30), ('holes', 30), ('precious', 30), ('lonzo', 30), ('eury', 30), ('olive', 30), ('wellman', 30), ('obs', 30), ('coles', 30), ('cel-fusions', 30), ('lawlar', 30), ('226', 30), ('96-97', 30), ('bronson', 30), ('pascu/bunning/stigman', 30), ('addition', 30), ('laurence', 30), ('leavy', 30), ('jonah', 30), (\"'70\", 30), ('weiss', 30), ('minier', 30), ('fahey/jim', 30), ('mason/tom', 30), ('a-ra', 30), ('ahn', 30), ('ross/', 30), ('cola', 30), ('fc2055', 30), ('gibbs/tom', 30), ('retire', 30), ('waner', 30), ('ss9354', 30), ('grant/kaat/stottlemyre', 30), ('buehrle', 30), ('448', 30), ('notch', 30), ('riccelli', 30), ('francellis', 30), ('such', 30), ('13-3', 30), ('core', 30), ('finalists', 30), ('helaire', 30), ('rodolfo', 30), ('moya', 30), ('903', 30), ('669', 30), ('ezekiel', 30), ('ss1177', 30), ('500-card', 30), ('ss9099', 30), ('dees', 30), ('57t-111215-3', 30), ('akeem', 30), ('mashore', 30), ('335', 30), ('1-441', 30), ('windy', 30), ('prison', 30), ('986', 30), ('craig/dick', 30), ('h22', 30), ('wada', 30), ('fc1441', 30), ('guillermo', 30), ('loa', 30), ('ex-mint', 30), ('academy', 30), ('bcp25', 30), ('ual', 30), ('use', 30), ('positions', 30), ('376', 30), ('/tommy', 30), ('torres-costa', 30), ('lindblom', 30), ('revering', 30), ('fd9424', 30), ('kaapo', 30), ('kakko', 30), ('47479339', 30), ('2018-19', 30), ('towel', 30), ('hartle', 30), ('peltier', 30), ('fd9775', 30), ('fd9766', 30), ('1gal', 30), ('killzall', 30), ('vpg', 30), ('fertilome', 30), ('nats', 30), ('57t-111515-3', 30), ('ap-gm1', 30), ('fc275', 30), ('capture', 29), ('eve', 29), ('guenther', 29), ('basebal', 29), ('1567', 29), ('alone', 29), ('krueger', 29), ('bb1-29', 29), ('/lou', 29), ('demons', 29), ('wuhl', 29), ('wheelock', 29), ('dare', 29), ('bb2-1', 29), ('crashes', 29), ('punch', 29), ('ss9847', 29), ('n1593', 29), ('n2223', 29), ('koufax/drysdale/gibson/shaw/purkey', 29), ('shoeless', 29), ('woodling', 29), ('turley', 29), (\"koufax/drysdale/williams/o'toole\", 29), ('457', 29), ('258', 29), ('1-24', 29), ('un', 29), ('n2495', 29), ('pele', 29), ('1905', 29), ('pipes', 29), ('bums', 29), ('redmond/lampard/williams', 29), ('353', 29), ('h27', 29), ('gregorious', 29), ('ruddy', 29), ('cpa-wp', 29), ('grilli', 29), ('/a', 29), ('mount', 29), ('rd', 29), ('gallego', 29), ('on/mantle/killebrew/stuart', 29), ('avantcard', 29), ('koufax/marichal/spahn/maloney', 29), ('feliz', 29), ('708', 29), ('baylor/harrison/oates', 29), ('c.c', 29), ('chin-lung', 29), ('44880215', 29), ('directing', 29), ('702', 29), ('pr=3,781', 29), ('tabata', 29), ('semi-rare-back', 29), ('heman', 29), ('fd8946', 29), ('lovelady', 29), ('speech', 29), ('berra/', 29), ('yefri', 29), ('jedd', 29), ('gyorko', 29), ('doolan', 29), ('stargell//lee', 29), ('fb', 29), ('s.', 29), ('gs', 29), ('hatton', 29), ('hyped', 29), ('veras', 29), ('eclipsing', 29), ('back-to-back', 29), ('replay', 29), ('becker', 29), ('federer', 29), ('wiz/american', 29), ('dickson/aurelio', 29), ('lopez/may/', 29), ('compton', 29), ('dividends', 29), ('eason', 29), ('inducted', 29), ('shell', 29), ('4017', 29), ('4018', 29), ('cda-bd', 29), ('seam', 29), ('1725', 29), ('lasek', 29), ('giannoulas', 29), ('draftee', 29), ('dynamics', 29), ('n996', 29), ('cueto', 29), ('gentry', 29), ('terrance', 29), ('404', 29), ('h21', 29), ('koufax/drysdale/podres', 29), ('4011', 29), ('aberdeen', 29), ('prato', 29), ('noel', 29), ('baserunning', 29), ('bdpp78', 29), ('ulysses', 29), ('herite', 29), ('halter', 29), ('ripkin', 29), ('sure', 29), ('ground', 29), ('clemente/virdon/skinner', 29), ('corsair', 29), ('henn', 29), ('presley', 29), ('rocks', 29), ('ss9394', 29), ('563', 29), ('heyward/vargas', 29), ('50x', 29), ('laporta', 29), ('middle', 29), ('geoff', 29), ('citadels', 29), ('mlb/nfl/nhl', 29), ('wotell', 29), ('tp-16', 29), ('fc3622', 29), ('539', 29), ('512', 29), ('rossi', 29), ('bartolo', 29), ('grier', 29), ('ronals', 29), ('/brooks', 29), ('saberhagen', 29), ('bahnsen/', 29), ('251-500', 29), ('peffeorn', 29), ('lindgren', 29), ('masyn', 29), ('alyssa', 29), ('nakken', 29), ('341', 29), ('chance/lonborg/mcdowell', 29), ('bdc92', 29), ('bcp111', 29), ('0309', 29), ('pr=6009', 29), ('sc1767', 29), ('413', 29), ('swining', 29), ('opens', 29), ('thc603', 29), ('barrell', 29), ('mcdougald//bobby', 29), ('mazzilli', 29), ('donrsus', 29), ('ss1111', 29), ('n2031', 29), ('hakeem', 29), ('272', 29), ('3-1', 29), ('boehmer/gerry', 29), ('indian', 29), ('elia//bill', 29), ('oliva/cardenas/clemente', 29), ('e96', 29), ('fc1318', 29), ('november', 29), ('ss8849', 29), ('n3223', 29), ('five-tool', 29), ('bunning/jenkins/perry', 29), ('ultra-pro', 29), ('ssta-', 29), ('sayers', 29), ('t1asp-', 29), ('revolutions', 29), ('fd9774', 29), ('raymond', 28), ('knoblauch', 28), ('6144', 28), ('rohr/george', 28), ('bpp1', 28), ('nifty', 28), ('yeah-yeah', 28), ('mcclennan', 28), ('bb1-12', 28), ('bickford', 28), ('dalkowski/smith/bouldin/newman', 28), ('4025', 28), ('476', 28), ('osuna', 28), ('615', 28), ('residue', 28), ('n2224', 28), ('reininger', 28), ('carp', 28), ('shorts', 28), ('seyfried', 28), ('989', 28), ('mays/williams/callison/cepeda/hart', 28), ('beane', 28), ('l.', 28), ('1379', 28), ('n2394', 28), ('whit', 28), ('winningham', 28), ('s/', 28), ('1059', 28), ('augie', 28), ('n24', 28), ('types', 28), ('tartary', 28), ('matsuzaka', 28), ('played', 28), ('slade', 28), ('segedin', 28), ('holliday', 28), ('ageless', 28), ('on/chuck', 28), ('palys', 28), ('romano/on/skowron', 28), ('oddities', 28), ('larker', 28), ('2131', 28), ('ferrara/jeff', 28), ('bakenhaster/johnny', 28), ('durocher', 28), ('tsc', 28), ('-456', 28), ('newfield', 28), ('pointer', 28), ('t.', 28), ('andersen/jones/mahler/morris', 28), ('motley', 28), ('aega-whiteside', 28), ('1886', 28), ('cpa-mh', 28), ('voth', 28), ('kennys', 28), ('denney', 28), ('marathon', 28), ('armbrister/bladt/downing/mcbride', 28), ('emerson', 28), ('bolin/bob', 28), ('n1054', 28), ('niagara', 28), ('tcma/cmc', 28), ('hee', 28), ('millenium', 28), ('byrd', 28), ('extremely', 28), ('jie-en', 28), ('theodore', 28), ('pr=4,292', 28), ('2769', 28), ('yuli', 28), ('nassir', 28), ('pl', 28), ('jeong', 28), ('x6', 28), ('486', 28), ('immortalized', 28), ('1342', 28), ('bossy', 28), ('izzy', 28), ('1116', 28), ('mcfarland', 28), ('k9877', 28), ('between', 28), ('jenkins/carlton/downing/seaver', 28), ('45106117', 28), ('bdc143', 28), ('/mt', 28), ('/scott', 28), ('hunter/', 28), ('gillaspie', 28), (\"'60\", 28), ('timothy', 28), ('ceedes', 28), ('oladipo', 28), ('ingram', 28), ('co-stars', 28), ('foot', 28), ('teenager', 28), ('firebirds', 28), ('495ft', 28), ('epstein/', 28), ('paine', 28), ('ntr', 28), ('-1974', 28), ('softball', 28), ('sorrento', 28), ('hinch', 28), ('1283', 28), ('krenchicki', 28), ('werle', 28), ('margoneri', 28), ('hiser', 28), ('niese', 28), ('fleer', 28), ('kenworthy', 28), ('133-263', 28), ('268', 28), ('leo', 28), ('herr', 28), ('brook', 28), ('forte', 28), ('penn', 28), ('w.', 28), ('orangle', 28), ('chewy', 28), ('sax', 28), ('cowhide', 28), ('calipari', 28), ('insignia', 28), ('oglivie/ron', 28), ('cey/', 28), ('cp-', 28), ('toth', 28), ('n994', 28), ('film', 28), ('garth', 28), ('sato', 28), ('horn', 28), ('/ryan', 28), ('schlesinger', 28), ('lancaster', 28), ('outman', 28), ('seventh', 28), ('tips', 28), ('jo-jo', 28), ('monk', 28), ('caroll', 28), ('fc330', 28), ('malkin', 28), ('monument', 28), ('stahl/ron', 28), ('gino', 28), ('crushes', 28), ('donruss/leaf', 28), ('kentucky', 28), ('blewett', 28), ('ridley', 28), ('webber', 28), ('jp8a', 28), ('safari', 28), ('sights', 28), ('1577', 28), ('regalado', 28), ('jess', 28), ('kirtley', 28), ('breslow', 28), ('60t-20116-1', 28), ('cusick', 28), ('staub/phillips/haas/carmel', 28), ('spray', 28), ('ss9071', 28), ('potomac', 28), ('snowman', 28), ('dealer', 28), ('n2492', 28), ('491', 28), ('fc2253', 28), ('slegers', 28), ('drabowsky', 28), ('dotter/jay', 28), ('breyvic', 28), ('horace', 28), ('pribanic', 28), ('all-galactic', 28), ('token', 28), ('fc1304', 28), ('ss9393', 28), ('59t-42315-1', 28), ('florence', 28), ('hardin', 28), ('urbina', 28), ('salas', 28), ('elliot/john', 28), ('waldron', 28), ('aeros', 28), ('n2796', 28), ('47479333', 28), ('mouse', 28), ('fd9157', 28), ('fd9844', 28), ('n2000', 28), ('forerunners', 28), ('bigbie', 28), ('n147', 28), ('glowing', 28), ('6036', 28), ('jc44e', 28), ('semproch', 28), ('reactor', 28), ('oberlin', 28), ('ways', 28), ('topps/fleer', 28), ('taillon', 28), ('ss8964', 28), ('honochick', 28), ('hiltomn', 28), ('n2361', 28), ('fd8947', 28), ('ps-46b', 28), ('fa-jso', 28), ('ss9015', 28), ('dariel', 27), ('ginn', 27), ('mining', 27), ('jerrion', 27), ('ealy', 27), ('r311', 27), ('hertz/', 27), ('bb1-2', 27), ('eats', 27), ('descalso', 27), ('1335', 27), ('jonny', 27), ('hand-cut', 27), ('moford', 27), ('n216', 27), ('mind', 27), ('944', 27), ('gulls', 27), ('towles', 27), ('mcdougald/turley/richardson', 27), ('lucky', 27), ('1:4', 27), ('ballstreet', 27), ('handed', 27), ('kiddies', 27), ('smeltzer', 27), ('zoo', 27), ('63t-90316-3', 27), ('santo/', 27), ('r.b.i', 27), ('dwyer', 27), ('271', 27), ('shetrone', 27), ('joc', 27), ('feature', 27), ('sockalexis', 27), ('enquirer', 27), ('t2d', 27), ('daffy', 27), ('crime', 27), ('633', 27), ('sheriff', 27), ('597', 27), ('harding', 27), ('keynan', 27), ('clooney', 27), ('w/signed', 27), ('photo++', 27), ('cpa-epe', 27), ('doubront', 27), ('mcallister', 27), ('yohandy', 27), ('425', 27), ('papi', 27), ('cd', 27), ('clapping', 27), ('lombardozzi', 27), (\"'92\", 27), ('1855', 27), ('osleivis', 27), ('bla', 27), ('n838', 27), ('alyea/pete', 27), ('gvg', 27), ('jestadt', 27), ('ngoepe', 27), ('tca-.2', 27), ('malik', 27), ('roscoe', 27), ('lanier/dick', 27), ('1891', 27), ('bananas', 27), ('haeger', 27), ('bonilla', 27), ('4794', 27), ('1371', 27), ('astounding', 27), ('elizabethton', 27), ('covering', 27), ('stitched', 27), ('zephyrs', 27), ('fastbreak', 27), ('bruno', 27), ('scrub', 27), ('werth', 27), ('pafko', 27), ('m114', 27), ('scott/john', 27), ('mayberry/', 27), ('arnovich', 27), ('nikorak', 27), ('dent', 27), ('orestes', 27), ('terence', 27), ('been', 27), ('teen', 27), ('rohrbaugh', 27), ('4012', 27), ('ts-', 27), ('bca', 27), ('curtain', 27), ('kauffman', 27), ('dietz', 27), ('williamsport', 27), ('-2010', 27), ('jeison', 27), ('count', 27), ('h.n', 27), ('ss9928', 27), ('n2742', 27), ('pitt', 27), ('t-10', 27), ('woodrow', 27), ('agbayani', 27), ('camilli/ford/mingori', 27), ('exceptional', 27), ('492', 27), ('messersmith', 27), ('colony', 27), ('kine/on/yastrzemski', 27), ('northey', 27), ('gilbreath', 27), ('pr=5,916', 27), ('od', 27), ('marta', 27), ('kristen', 27), ('fc3861', 27), ('fc3617', 27), ('14u', 27), ('swt', 27), ('dizzy', 27), ('4795', 27), ('sopko', 27), ('ss1176', 27), ('bdc-38', 27), ('candidate', 27), ('woodstock', 27), ('shelton', 27), ('1035', 27), ('fc293', 27), ('alou/', 27), ('kurtis', 27), ('fitzpatrick', 27), ('metalized', 27), ('bryon', 27), ('brown/don', 27), ('n2845', 27), ('2158', 27), ('fc3635', 27), ('yuki', 27), ('claudio', 27), ('superheroes', 27), ('denton', 27), ('doubleheader', 27), ('norwich', 27), ('rodeo', 27), ('jerald', 27), ('harrisburg', 27), ('sixes', 27), ('jacqueline', 27), ('bp25', 27), ('ending', 27), ('tomlinson', 27), ('84as-', 27), ('fc887', 27), ('warming', 27), ('hillard', 27), ('n1490', 27), ('weight', 27), ('ss9398', 27), ('383', 27), ('endan', 27), ('s74-1', 27), ('instruction', 27), ('viii', 27), ('squatting', 27), ('kerr', 27), ('lafayette', 27), ('0f', 27), ('n2793', 27), ('mudcats', 27), ('n1329', 27), ('jeral', 27), ('royals', 27), ('asp-', 27), ('ss9758', 27), ('hill/paul', 27), ('ss9007', 27), ('jessica', 27), ('toops', 27), ('sc1759', 27), ('ss9619', 27), ('44895111', 27), ('6113', 27), ('fc2173', 27), ('variatoin', 27), ('hayato', 27), ('sakamoto', 27), ('hurt', 27), ('1619', 27), ('sizzling', 27), ('58t-82715-2', 27), ('gonzalez/ahie', 27), ('4059', 27), ('dalvin', 27), ('mclean', 27), ('arby', 27), ('sc1893', 27), ('bloomfield/joe', 27), ('ports', 27), ('n2383', 27), ('ap-fl7', 27), ('450+++', 27), ('125b', 27), ('winkler', 26), ('meed', 26), ('risers', 26), ('45684491', 26), ('lis', 26), ('heath', 26), ('extras', 26), ('klein/elvin', 26), ('barria', 26), ('bb1-10', 26), ('ss9148', 26), ('1939-40', 26), ('pettibone', 26), ('ledee', 26), ('hiser/earl', 26), ('aac', 26), ('hosken', 26), ('cooney', 26), ('boles', 26), ('lipski', 26), ('yodan', 26), ('robertson/mike', 26), ('yepez', 26), ('enshrined', 26), ('kick', 26), ('mervis', 26), ('gunning', 26), ('western', 26), ('brogna', 26), ('linchpins', 26), ('skinner', 26), ('arrigo/dwight', 26), ('bouldin', 26), ('updated', 26), ('47479342', 26), ('cheese', 26), ('still', 26), ('lead-off', 26), ('roo', 26), ('566', 26), ('diaz/murphy/parrish/whitt', 26), ('davis/weaver/barker/hedlund', 26), ('1910', 26), ('cpa-ih', 26), ('inceptionized', 26), ('cpa-gj', 26), ('mcgraw', 26), ('jed', 26), ('/skip', 26), ('pr=5,543', 26), ('ss1213', 26), ('freed', 26), ('bs-', 26), ('yohander', 26), ('23k', 26), ('348', 26), ('upham', 26), ('n845', 26), ('jimenez/hickman/olivares/goss/luplow', 26), ('goey', 26), ('including', 26), ('808', 26), ('ss9349', 26), ('hobson', 26), ('390', 26), ('kentrail', 26), ('breaking', 26), ('akins', 26), ('lolich//wilbur', 26), ('baysox', 26), ('604', 26), ('pep', 26), ('w516-1-2', 26), ('fc4365', 26), ('fc4366', 26), ('landon', 26), ('22nd', 26), ('ss9014', 26), ('darnold', 26), ('donruss', 26), ('a1982', 26), ('kristaps', 26), ('45106119', 26), ('prospector', 26), ('osceola', 26), ('tirado', 26), ('lumberjack', 26), ('commorative', 26), ('15-', 26), ('exhilaration', 26), ('claiborne', 26), ('beauchamp/dick', 26), ('ss1396', 26), ('spiranac', 26), ('bills', 26), ('219', 26), ('dwyane', 26), ('adebayo', 26), ('us301', 26), ('4032', 26), ('1079', 26), ('patriotic', 26), ('worth', 26), ('lace', 26), ('487', 26), ('flexi', 26), ('koch', 26), ('aaron/mays/allen', 26), ('424', 26), ('n995', 26), ('vapor', 26), ('loyd', 26), ('shoehei', 26), ('375', 26), ('ta-wr1', 26), ('wandale', 26), ('biggo', 26), ('paraount', 26), ('177-264', 26), ('us189', 26), ('dann', 26), ('62t-50616-2', 26), ('vers', 26), ('4-color', 26), ('meadow', 26), ('kine/killebrew/stuart', 26), ('tatsuru', 26), ('yanagimachi', 26), ('drops', 26), ('1956ted', 26), ('bummer', 26), ('lempa', 26), ('bcp55', 26), ('n3143', 26), ('diorio', 26), ('shanahan', 26), ('jaeckel', 26), ('fc336', 26), ('fd9838', 26), ('kidd', 26), ('faria', 26), ('alrak', 26), ('ellington', 26), ('alicea', 26), ('lemanczyk', 26), ('missoula', 26), ('osprey', 26), ('holtz', 26), ('fingers/floyd/buhart', 26), ('2135', 26), ('up-1', 26), ('cpa-lt', 26), ('almanzar', 26), ('flux', 26), ('listed', 26), ('57t-111215-1', 26), ('whitson', 26), ('ss9098', 26), ('cardboard', 26), ('dickey/houk/', 26), ('croti/lopat', 26), ('437', 26), ('4a', 26), ('isaly', 26), ('2.8', 26), ('386', 26), ('progressive', 26), ('hancock', 26), ('hauser', 26), ('fireflies', 26), ('cda-th', 26), ('salem-keizer', 26), ('playofff', 26), ('bcp-122', 26), ('55b-10116-1', 26), ('265', 26), ('symbol', 26), ('duckworth', 26), ('fc1307', 26), ('fc1316', 26), ('mabry', 26), ('ugly', 26), ('ss9399', 26), ('scarf', 26), ('pp', 26), ('dwain', 26), ('526-656', 26), ('n1535', 26), ('stryker', 26), ('eeg', 26), ('n2842', 26), ('8919', 26), ('ss1112', 26), ('n2805', 26), ('47479344', 26), ('354', 26), ('n1328', 26), ('pastrana', 26), ('t1br-', 26), ('dominique', 26), ('twelve', 26), ('1918', 26), ('yency', 26), ('it-n-rip', 26), ('temasco', 26), ('exotic', 26), ('mulliniks', 26), ('bell//jerry', 26), ('clouters', 26), ('ap-pg1', 26), ('45684770', 26), ('n1595', 26), ('1004', 26), ('baumer', 26), ('maki', 26), ('rustlers', 26), ('rooki', 26), ('bridgeport', 26), ('bluefish', 26), ('petersen', 26), ('ss9244', 26), ('fd9544', 26), ('fc271', 26), ('izaac', 26), ('n132', 26), ('310', 26), ('.341', 26), ('60t-11816-3', 26)]\n"
     ]
    }
   ],
   "source": [
    "# !pip install nltk\n",
    "import nltk\n",
    "from nltk.tokenize import word_tokenize\n",
    "from nltk.tokenize import sent_tokenize\n",
    "from nltk.probability import FreqDist\n",
    "from nltk.corpus import stopwords\n",
    "from collections import OrderedDict\n",
    "nltk.download('punkt')\n",
    "words_list = df1['Unmatched'].values.tolist()\n",
    "striptext = \" \".join(words_list)\n",
    "words = word_tokenize(striptext)\n",
    "lowercase_words = [word.lower() for word in words]\n",
    "word_frequencies = FreqDist(lowercase_words)\n",
    "most_frequent_words = FreqDist(lowercase_words).most_common(10000)\n",
    "print(most_frequent_words)"
   ]
  },
  {
   "cell_type": "code",
   "execution_count": 123,
   "id": "behind-player",
   "metadata": {},
   "outputs": [],
   "source": [
    "import nltk\n",
    "from nltk.tag import StanfordNERTagger\n",
    "from nltk.tokenize import word_tokenize\n",
    "\n",
    "st = StanfordNERTagger('english.all.3class.distsim.crf.ser.gz','stanford-ner-4.2.0.jar',encoding='utf-8')\n",
    "def person2(text):\n",
    "    for sent in nltk.sent_tokenize(text):\n",
    "        tokens = nltk.tokenize.word_tokenize(sent)\n",
    "        tags = st.tag(tokens)\n",
    "        res = \"\"\n",
    "        for tag in tags:\n",
    "            if tag[1]=='PERSON':\n",
    "                res = res + \" \"+ tag[0]\n",
    "    return res.strip()"
   ]
  },
  {
   "cell_type": "code",
   "execution_count": 124,
   "id": "applied-salmon",
   "metadata": {},
   "outputs": [],
   "source": [
    "undetect_name_text= [i[0] for i in most_frequent_words]\n",
    "undetect_name_text = \" \".join(undetect_name_text)\n",
    "undetected_name = person2(undetect_name_text).split(' ')\n",
    "undetected_name.extend([\"ken\",\"griffey\",\"allen\",\"ginter\",\"ohtani\",\"shohei\",\n",
    "                          \"alvarez\",\"franco\",\"lewis\",\"jim\",\n",
    "                          \"al\",\"nick\",\"kyle\",\"yordan\",\"gavin\",\"mike\",\"dominguez\",\n",
    "                          \"rodriguez\",\"jasson\",\"john\",\"ryan\",\"andrew\",\"alex\",\"diego\",\"mckenzie\",\n",
    "                           \"carlson\",\"howard\",\"zac\",\"bryan\",\"clarke\",\"adams\",\"brian\",\"pearson\",\n",
    "                          \"alexander\",\"andy\",\"perez\",\"chuck\",\"mackenzie\",\"hernandez\",\"andres\",'anderson',\n",
    "                          \"matthew\",\"kopech\",\"rosario\",\"stewart\",\"marte\",\"lee\",\"brandon\",'dalquist',\n",
    "                           \"triston\",\"tim\",'dylan','larry','martin','derek','pete','abrams','foli',\n",
    "                     'jamieson','jimenez','amethyst','charley','alston','christin', 'kershaw','luke',\n",
    "                        'sullivan', 'dustin','shane','bush','ryne', 'mccarthy', 'alec', 'willi','hunter',\n",
    "                        'samuel','dawson','kelley','jimmie','yogi','tj','rutledge','leo','johnstone',\n",
    "                        'eli','giles','varsho','ronaldo','mcconnell','sonny','evan','devin','medina',\n",
    "                        'yoshitomo','kindall','herrnstein','dempsey','clayton','connell','levi',\n",
    "                        'derrell','jahmai','marvin','blaylock','joba','lincoln','seth','delvin','scioscia',\n",
    "                        'kenny','kenney','donald','ismael','locke','opitz','janowicz','dereck','burbrink',\n",
    "                        'blackmon','leron','cade','bieber','lehner','jonathon','kuhn','dahl','jonatan',\n",
    "                        'jurado','dirk','steiner','kaminsky','dana','dubiel','franklyn','poppel','garko',\n",
    "                        'adon','jaeckel','quinton','mccracken','ackley','peter','senzel','mason','ferrara',\n",
    "                       'wander','lux','matt','wallner','spangler','julio','wright','friday','verdugo'])\n"
   ]
  },
  {
   "cell_type": "code",
   "execution_count": 125,
   "id": "manual-colon",
   "metadata": {},
   "outputs": [],
   "source": [
    "undetected_name = set(undetected_name)\n",
    "def person_left(x):\n",
    "    if not x['Player_Name']:\n",
    "        res = \"\"\n",
    "        for i in x['Title'].split(\" \"):\n",
    "            if i in undetected_name:\n",
    "                res = res +\" \"+ i\n",
    "        if res:\n",
    "            return res.strip()\n",
    "        else:\n",
    "            return np.NaN\n",
    "    else:\n",
    "        return x['Player_Name']\n",
    "        "
   ]
  },
  {
   "cell_type": "code",
   "execution_count": 126,
   "id": "brown-savannah",
   "metadata": {},
   "outputs": [],
   "source": [
    "df1['Player_Name'] = df1.apply(lambda x:person_left(x),axis = 1)"
   ]
  },
  {
   "cell_type": "code",
   "execution_count": 127,
   "id": "black-argument",
   "metadata": {},
   "outputs": [
    {
     "data": {
      "text/plain": [
       "528501"
      ]
     },
     "execution_count": 127,
     "metadata": {},
     "output_type": "execute_result"
    }
   ],
   "source": [
    "df1['Player_Name'].isnull().sum()"
   ]
  },
  {
   "cell_type": "code",
   "execution_count": 128,
   "id": "generous-triangle",
   "metadata": {},
   "outputs": [],
   "source": [
    "def num_words_unmatched(x):\n",
    "    y = x.split(' ')\n",
    "    while(\"\" in y): \n",
    "        y.remove(\"\")\n",
    "    if y:\n",
    "        return len(y)\n",
    "    else:\n",
    "        return 0"
   ]
  },
  {
   "cell_type": "code",
   "execution_count": 129,
   "id": "expensive-impossible",
   "metadata": {},
   "outputs": [],
   "source": [
    "def cal_matched_percentage(x):\n",
    "    if x['num_words_unmatched'] == 0:\n",
    "        return 1\n",
    "    else:\n",
    "        return 1-(x['num_words_unmatched']/x['num_words_title'])"
   ]
  },
  {
   "cell_type": "code",
   "execution_count": 130,
   "id": "changed-dylan",
   "metadata": {},
   "outputs": [],
   "source": [
    "df1['Unmatched']=df1.apply(lambda x: else_unmatched(x),axis = 1)"
   ]
  },
  {
   "cell_type": "code",
   "execution_count": null,
   "id": "large-philosophy",
   "metadata": {},
   "outputs": [],
   "source": [
    "df1['Unmatched']=df1.apply(lambda x: unmatched_trim(x),axis = 1)"
   ]
  },
  {
   "cell_type": "code",
   "execution_count": 142,
   "id": "optional-anniversary",
   "metadata": {},
   "outputs": [],
   "source": [
    "most_frequent_words = FreqDist(lowercase_words).most_common(2000)\n",
    "junk_words = [i[0] for i in most_frequent_words]\n",
    "junk_words = set(junk_words)\n",
    "def match_junks(x):\n",
    "    res = \"\"\n",
    "    for i in x.split(' '):\n",
    "        if i in junk_words:\n",
    "            res = res+\" \"+i\n",
    "    if res:\n",
    "        return res.strip()\n",
    "    else:\n",
    "        return np.NaN"
   ]
  },
  {
   "cell_type": "code",
   "execution_count": 143,
   "id": "agricultural-kenya",
   "metadata": {},
   "outputs": [],
   "source": [
    "df1['Junks']=df1['Unmatched'].apply(lambda x: match_junks(x))"
   ]
  },
  {
   "cell_type": "code",
   "execution_count": 144,
   "id": "interstate-recipient",
   "metadata": {},
   "outputs": [
    {
     "data": {
      "text/html": [
       "<div>\n",
       "<style scoped>\n",
       "    .dataframe tbody tr th:only-of-type {\n",
       "        vertical-align: middle;\n",
       "    }\n",
       "\n",
       "    .dataframe tbody tr th {\n",
       "        vertical-align: top;\n",
       "    }\n",
       "\n",
       "    .dataframe thead th {\n",
       "        text-align: right;\n",
       "    }\n",
       "</style>\n",
       "<table border=\"1\" class=\"dataframe\">\n",
       "  <thead>\n",
       "    <tr style=\"text-align: right;\">\n",
       "      <th></th>\n",
       "      <th>Title</th>\n",
       "      <th>Year</th>\n",
       "      <th>Unmatched</th>\n",
       "      <th>TeamName</th>\n",
       "      <th>Grader</th>\n",
       "      <th>Classifier</th>\n",
       "      <th>CardNumber</th>\n",
       "      <th>QuantityMade</th>\n",
       "      <th>Specialty</th>\n",
       "      <th>Player_Name</th>\n",
       "      <th>Manufacturer</th>\n",
       "      <th>Rating</th>\n",
       "      <th>num_words_unmatched</th>\n",
       "      <th>num_words_title</th>\n",
       "      <th>matched_percentage</th>\n",
       "      <th>Junks</th>\n",
       "    </tr>\n",
       "  </thead>\n",
       "  <tbody>\n",
       "    <tr>\n",
       "      <th>0</th>\n",
       "      <td>1974 laughlin all-star games phil cavarretta #44</td>\n",
       "      <td>1974</td>\n",
       "      <td>all-star games</td>\n",
       "      <td>None</td>\n",
       "      <td>NaN</td>\n",
       "      <td>NaN</td>\n",
       "      <td>44</td>\n",
       "      <td>NaN</td>\n",
       "      <td></td>\n",
       "      <td>Phil Cavarretta</td>\n",
       "      <td>NaN</td>\n",
       "      <td>NaN</td>\n",
       "      <td>2</td>\n",
       "      <td>7</td>\n",
       "      <td>0.714286</td>\n",
       "      <td>all-star games</td>\n",
       "    </tr>\n",
       "    <tr>\n",
       "      <th>1</th>\n",
       "      <td>1955 bowman del crandall #217</td>\n",
       "      <td>1955</td>\n",
       "      <td></td>\n",
       "      <td>None</td>\n",
       "      <td>NaN</td>\n",
       "      <td>NaN</td>\n",
       "      <td>217</td>\n",
       "      <td>NaN</td>\n",
       "      <td></td>\n",
       "      <td>Del Crandall</td>\n",
       "      <td>NaN</td>\n",
       "      <td>NaN</td>\n",
       "      <td>0</td>\n",
       "      <td>5</td>\n",
       "      <td>1.000000</td>\n",
       "      <td>NaN</td>\n",
       "    </tr>\n",
       "    <tr>\n",
       "      <th>2</th>\n",
       "      <td>1957 topps del crandall #133</td>\n",
       "      <td>1957</td>\n",
       "      <td></td>\n",
       "      <td>None</td>\n",
       "      <td>NaN</td>\n",
       "      <td>NaN</td>\n",
       "      <td>133</td>\n",
       "      <td>NaN</td>\n",
       "      <td></td>\n",
       "      <td>Del Crandall</td>\n",
       "      <td>NaN</td>\n",
       "      <td>NaN</td>\n",
       "      <td>0</td>\n",
       "      <td>5</td>\n",
       "      <td>1.000000</td>\n",
       "      <td>NaN</td>\n",
       "    </tr>\n",
       "    <tr>\n",
       "      <th>3</th>\n",
       "      <td>1995 skybox emotion timeless cal ripken jr #8 hof</td>\n",
       "      <td>1995</td>\n",
       "      <td>emotion timeless jr</td>\n",
       "      <td>None</td>\n",
       "      <td>NaN</td>\n",
       "      <td>box</td>\n",
       "      <td>8</td>\n",
       "      <td>NaN</td>\n",
       "      <td>hof</td>\n",
       "      <td>Cal Ripken</td>\n",
       "      <td>NaN</td>\n",
       "      <td>NaN</td>\n",
       "      <td>3</td>\n",
       "      <td>9</td>\n",
       "      <td>0.666667</td>\n",
       "      <td>emotion timeless jr</td>\n",
       "    </tr>\n",
       "    <tr>\n",
       "      <th>4</th>\n",
       "      <td>1989 st vincent rookies stamps ken griffey jr ...</td>\n",
       "      <td>1989</td>\n",
       "      <td>st vincent stamps jr</td>\n",
       "      <td>None</td>\n",
       "      <td>NaN</td>\n",
       "      <td>NaN</td>\n",
       "      <td>NaN</td>\n",
       "      <td>NaN</td>\n",
       "      <td>rookies,hof,rookie,rookie</td>\n",
       "      <td>ken griffey</td>\n",
       "      <td>NaN</td>\n",
       "      <td>NaN</td>\n",
       "      <td>4</td>\n",
       "      <td>10</td>\n",
       "      <td>0.600000</td>\n",
       "      <td>st vincent stamps jr</td>\n",
       "    </tr>\n",
       "    <tr>\n",
       "      <th>...</th>\n",
       "      <td>...</td>\n",
       "      <td>...</td>\n",
       "      <td>...</td>\n",
       "      <td>...</td>\n",
       "      <td>...</td>\n",
       "      <td>...</td>\n",
       "      <td>...</td>\n",
       "      <td>...</td>\n",
       "      <td>...</td>\n",
       "      <td>...</td>\n",
       "      <td>...</td>\n",
       "      <td>...</td>\n",
       "      <td>...</td>\n",
       "      <td>...</td>\n",
       "      <td>...</td>\n",
       "      <td>...</td>\n",
       "    </tr>\n",
       "    <tr>\n",
       "      <th>2293584</th>\n",
       "      <td>shohei ohtani 2019 bowman sterling black atomi...</td>\n",
       "      <td>2019</td>\n",
       "      <td>sterling black atomic refractor graph</td>\n",
       "      <td>None</td>\n",
       "      <td>NaN</td>\n",
       "      <td>NaN</td>\n",
       "      <td>/10</td>\n",
       "      <td>/10</td>\n",
       "      <td>auto,auto</td>\n",
       "      <td>shohei ohtani</td>\n",
       "      <td>NaN</td>\n",
       "      <td>NaN</td>\n",
       "      <td>5</td>\n",
       "      <td>12</td>\n",
       "      <td>0.583333</td>\n",
       "      <td>sterling black atomic refractor graph</td>\n",
       "    </tr>\n",
       "    <tr>\n",
       "      <th>2293585</th>\n",
       "      <td>shohei ohtani 2019 bowman sterling black atomi...</td>\n",
       "      <td>2019</td>\n",
       "      <td>sterling black atomic refractor graph</td>\n",
       "      <td>None</td>\n",
       "      <td>NaN</td>\n",
       "      <td>NaN</td>\n",
       "      <td>/10</td>\n",
       "      <td>/10</td>\n",
       "      <td>auto,auto</td>\n",
       "      <td>shohei ohtani</td>\n",
       "      <td>NaN</td>\n",
       "      <td>NaN</td>\n",
       "      <td>5</td>\n",
       "      <td>12</td>\n",
       "      <td>0.583333</td>\n",
       "      <td>sterling black atomic refractor graph</td>\n",
       "    </tr>\n",
       "    <tr>\n",
       "      <th>2293586</th>\n",
       "      <td>shohei ohtani 2019 bowman sterling black atomi...</td>\n",
       "      <td>2019</td>\n",
       "      <td>sterling black atomic refractor graph</td>\n",
       "      <td>None</td>\n",
       "      <td>NaN</td>\n",
       "      <td>NaN</td>\n",
       "      <td>/10</td>\n",
       "      <td>/10</td>\n",
       "      <td>auto,auto</td>\n",
       "      <td>shohei ohtani</td>\n",
       "      <td>NaN</td>\n",
       "      <td>NaN</td>\n",
       "      <td>5</td>\n",
       "      <td>12</td>\n",
       "      <td>0.583333</td>\n",
       "      <td>sterling black atomic refractor graph</td>\n",
       "    </tr>\n",
       "    <tr>\n",
       "      <th>2293587</th>\n",
       "      <td>shohei ohtani 2019 bowman sterling black atomi...</td>\n",
       "      <td>2019</td>\n",
       "      <td>sterling black atomic refractor graph</td>\n",
       "      <td>None</td>\n",
       "      <td>NaN</td>\n",
       "      <td>NaN</td>\n",
       "      <td>/10</td>\n",
       "      <td>/10</td>\n",
       "      <td>auto,auto</td>\n",
       "      <td>shohei ohtani</td>\n",
       "      <td>NaN</td>\n",
       "      <td>NaN</td>\n",
       "      <td>5</td>\n",
       "      <td>12</td>\n",
       "      <td>0.583333</td>\n",
       "      <td>sterling black atomic refractor graph</td>\n",
       "    </tr>\n",
       "    <tr>\n",
       "      <th>2293588</th>\n",
       "      <td>shohei ohtani 2019 bowman sterling black atomi...</td>\n",
       "      <td>2019</td>\n",
       "      <td>sterling black atomic refractor graph</td>\n",
       "      <td>None</td>\n",
       "      <td>NaN</td>\n",
       "      <td>NaN</td>\n",
       "      <td>/10</td>\n",
       "      <td>/10</td>\n",
       "      <td>auto,auto</td>\n",
       "      <td>shohei ohtani</td>\n",
       "      <td>NaN</td>\n",
       "      <td>NaN</td>\n",
       "      <td>5</td>\n",
       "      <td>12</td>\n",
       "      <td>0.583333</td>\n",
       "      <td>sterling black atomic refractor graph</td>\n",
       "    </tr>\n",
       "  </tbody>\n",
       "</table>\n",
       "<p>2293589 rows × 16 columns</p>\n",
       "</div>"
      ],
      "text/plain": [
       "                                                     Title  Year  \\\n",
       "0         1974 laughlin all-star games phil cavarretta #44  1974   \n",
       "1                            1955 bowman del crandall #217  1955   \n",
       "2                             1957 topps del crandall #133  1957   \n",
       "3        1995 skybox emotion timeless cal ripken jr #8 hof  1995   \n",
       "4        1989 st vincent rookies stamps ken griffey jr ...  1989   \n",
       "...                                                    ...   ...   \n",
       "2293584  shohei ohtani 2019 bowman sterling black atomi...  2019   \n",
       "2293585  shohei ohtani 2019 bowman sterling black atomi...  2019   \n",
       "2293586  shohei ohtani 2019 bowman sterling black atomi...  2019   \n",
       "2293587  shohei ohtani 2019 bowman sterling black atomi...  2019   \n",
       "2293588  shohei ohtani 2019 bowman sterling black atomi...  2019   \n",
       "\n",
       "                                     Unmatched TeamName Grader Classifier  \\\n",
       "0                               all-star games     None    NaN        NaN   \n",
       "1                                                  None    NaN        NaN   \n",
       "2                                                  None    NaN        NaN   \n",
       "3                          emotion timeless jr     None    NaN        box   \n",
       "4                         st vincent stamps jr     None    NaN        NaN   \n",
       "...                                        ...      ...    ...        ...   \n",
       "2293584  sterling black atomic refractor graph     None    NaN        NaN   \n",
       "2293585  sterling black atomic refractor graph     None    NaN        NaN   \n",
       "2293586  sterling black atomic refractor graph     None    NaN        NaN   \n",
       "2293587  sterling black atomic refractor graph     None    NaN        NaN   \n",
       "2293588  sterling black atomic refractor graph     None    NaN        NaN   \n",
       "\n",
       "        CardNumber QuantityMade                  Specialty      Player_Name  \\\n",
       "0               44          NaN                             Phil Cavarretta   \n",
       "1              217          NaN                                Del Crandall   \n",
       "2              133          NaN                                Del Crandall   \n",
       "3                8          NaN                        hof       Cal Ripken   \n",
       "4              NaN          NaN  rookies,hof,rookie,rookie      ken griffey   \n",
       "...            ...          ...                        ...              ...   \n",
       "2293584        /10          /10                  auto,auto    shohei ohtani   \n",
       "2293585        /10          /10                  auto,auto    shohei ohtani   \n",
       "2293586        /10          /10                  auto,auto    shohei ohtani   \n",
       "2293587        /10          /10                  auto,auto    shohei ohtani   \n",
       "2293588        /10          /10                  auto,auto    shohei ohtani   \n",
       "\n",
       "        Manufacturer Rating  num_words_unmatched  num_words_title  \\\n",
       "0                NaN    NaN                    2                7   \n",
       "1                NaN    NaN                    0                5   \n",
       "2                NaN    NaN                    0                5   \n",
       "3                NaN    NaN                    3                9   \n",
       "4                NaN    NaN                    4               10   \n",
       "...              ...    ...                  ...              ...   \n",
       "2293584          NaN    NaN                    5               12   \n",
       "2293585          NaN    NaN                    5               12   \n",
       "2293586          NaN    NaN                    5               12   \n",
       "2293587          NaN    NaN                    5               12   \n",
       "2293588          NaN    NaN                    5               12   \n",
       "\n",
       "         matched_percentage                                  Junks  \n",
       "0                  0.714286                         all-star games  \n",
       "1                  1.000000                                    NaN  \n",
       "2                  1.000000                                    NaN  \n",
       "3                  0.666667                    emotion timeless jr  \n",
       "4                  0.600000                   st vincent stamps jr  \n",
       "...                     ...                                    ...  \n",
       "2293584            0.583333  sterling black atomic refractor graph  \n",
       "2293585            0.583333  sterling black atomic refractor graph  \n",
       "2293586            0.583333  sterling black atomic refractor graph  \n",
       "2293587            0.583333  sterling black atomic refractor graph  \n",
       "2293588            0.583333  sterling black atomic refractor graph  \n",
       "\n",
       "[2293589 rows x 16 columns]"
      ]
     },
     "execution_count": 144,
     "metadata": {},
     "output_type": "execute_result"
    }
   ],
   "source": [
    "df1"
   ]
  },
  {
   "cell_type": "code",
   "execution_count": 145,
   "id": "polished-effectiveness",
   "metadata": {},
   "outputs": [],
   "source": [
    "def replace_junks(x):\n",
    "    res = x['Unmatched']\n",
    "    if isinstance(x['Junks'],str):\n",
    "        for i in x['Junks'].split(' '):\n",
    "            if i in res:\n",
    "                res = res.replace(i,\"\")\n",
    "    return res"
   ]
  },
  {
   "cell_type": "code",
   "execution_count": 146,
   "id": "unable-individual",
   "metadata": {},
   "outputs": [],
   "source": [
    "df1['Unmatched']=df1.apply(lambda x: replace_junks(x),axis = 1)"
   ]
  },
  {
   "cell_type": "markdown",
   "id": "incident-moore",
   "metadata": {},
   "source": [
    "# Calculating Stats"
   ]
  },
  {
   "cell_type": "code",
   "execution_count": 147,
   "id": "handmade-elephant",
   "metadata": {},
   "outputs": [],
   "source": [
    "df1['Unmatched']=df1.apply(lambda x: unmatched_trim(x),axis = 1)"
   ]
  },
  {
   "cell_type": "code",
   "execution_count": 148,
   "id": "sexual-experience",
   "metadata": {},
   "outputs": [],
   "source": [
    "df1['num_words_unmatched']=df1['Unmatched'].apply(lambda x: num_words_unmatched(x))"
   ]
  },
  {
   "cell_type": "code",
   "execution_count": 149,
   "id": "refined-jesus",
   "metadata": {},
   "outputs": [],
   "source": [
    "df1['num_words_title']=df1['Title'].apply(lambda x: len(x.split(' ')))"
   ]
  },
  {
   "cell_type": "code",
   "execution_count": 150,
   "id": "independent-bargain",
   "metadata": {},
   "outputs": [],
   "source": [
    "df1['matched_percentage']=df1.apply(lambda x: cal_matched_percentage(x),axis = 1)"
   ]
  },
  {
   "cell_type": "code",
   "execution_count": 151,
   "id": "honest-weekend",
   "metadata": {},
   "outputs": [
    {
     "data": {
      "text/plain": [
       "0.9546953080999556"
      ]
     },
     "execution_count": 151,
     "metadata": {},
     "output_type": "execute_result"
    }
   ],
   "source": [
    "df1['matched_percentage'].mean()"
   ]
  },
  {
   "cell_type": "code",
   "execution_count": 136,
   "id": "fancy-publication",
   "metadata": {},
   "outputs": [],
   "source": [
    "def manufacturer_back(x):\n",
    "    if isinstance(x,str):\n",
    "        arr = x.split(',')\n",
    "        res = \"\"\n",
    "        while(\"\" in arr) : \n",
    "            arr.remove(\"\")\n",
    "        while(\" \" in arr) : \n",
    "            arr.remove(\" \")\n",
    "        for i in arr:\n",
    "            res = res + \" \"+ manufacturer_dict[i.strip()]\n",
    "        return res\n",
    "    else:\n",
    "        return np.NaN"
   ]
  },
  {
   "cell_type": "code",
   "execution_count": 137,
   "id": "sunrise-concert",
   "metadata": {},
   "outputs": [],
   "source": [
    "def rating_back(x):\n",
    "    if isinstance(x,str):\n",
    "        return rating_dict[x]\n",
    "    else:\n",
    "        return np.NaN"
   ]
  },
  {
   "cell_type": "code",
   "execution_count": 138,
   "id": "operational-physiology",
   "metadata": {},
   "outputs": [],
   "source": [
    "def lower_back(x):\n",
    "    if isinstance(x,str):\n",
    "        return x.lower()\n",
    "    else:\n",
    "        return np.NaN"
   ]
  },
  {
   "cell_type": "code",
   "execution_count": 139,
   "id": "expensive-crystal",
   "metadata": {},
   "outputs": [],
   "source": [
    "df1['Manufacturer']=df1['Manufacturer'].apply(lambda x: manufacturer_back(x))\n",
    "df1['Rating'] = df1['Rating'].apply(lambda x: rating_back(x)) "
   ]
  },
  {
   "cell_type": "code",
   "execution_count": 140,
   "id": "beneficial-jordan",
   "metadata": {},
   "outputs": [],
   "source": [
    "# df1['Specialty']=df1['Specialty'].str.upper()\n",
    "# df1['Classifier']=df1['Classifier'].str.capitalize()\n",
    "# df1['Grader']=df1['Grader'].str.upper()"
   ]
  },
  {
   "cell_type": "code",
   "execution_count": null,
   "id": "sudden-identity",
   "metadata": {},
   "outputs": [],
   "source": []
  },
  {
   "cell_type": "code",
   "execution_count": 141,
   "id": "contemporary-patrol",
   "metadata": {},
   "outputs": [],
   "source": [
    "df1.to_csv('baseball_df.csv', index=False)"
   ]
  }
 ],
 "metadata": {
  "kernelspec": {
   "display_name": "Python 3",
   "language": "python",
   "name": "python3"
  },
  "language_info": {
   "codemirror_mode": {
    "name": "ipython",
    "version": 3
   },
   "file_extension": ".py",
   "mimetype": "text/x-python",
   "name": "python",
   "nbconvert_exporter": "python",
   "pygments_lexer": "ipython3",
   "version": "3.7.9"
  }
 },
 "nbformat": 4,
 "nbformat_minor": 5
}
